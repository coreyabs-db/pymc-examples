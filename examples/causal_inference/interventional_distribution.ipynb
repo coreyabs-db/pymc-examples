{
 "cells": [
  {
   "attachments": {},
   "cell_type": "markdown",
   "id": "f2e8530c-5ba0-4041-a309-18919d5d0533",
   "metadata": {
    "editable": true,
    "slideshow": {
     "slide_type": ""
    },
    "tags": []
   },
   "source": [
    "(interventional_distribution)=\n",
    "# Interventional distributions and graph mutation with the do-operator\n",
    "\n",
    ":::{post} July, 2023\n",
    ":tags: causal inference, do-operator, graph mutation\n",
    ":category: beginner, explanation\n",
    ":author: Benjamin T. Vincent\n",
    ":::"
   ]
  },
  {
   "attachments": {},
   "cell_type": "markdown",
   "id": "8f973a4f-def4-4fb6-b166-2aefbdf5eee2",
   "metadata": {
    "editable": true,
    "slideshow": {
     "slide_type": ""
    },
    "tags": []
   },
   "source": [
    "[PyMC](https://github.com/pymc-devs/pymc) is a pivotal component of the open source Bayesian statistics ecosystem. It helps solve real problems across a wide range of industries and academic research areas every day. And it has gained this level of utility by being accessible, powerful, and practically useful at solving _Bayesian statistical inference_ problems.\n",
    "\n",
    "But times are changing. There's a [causal revolution](https://en.wikipedia.org/wiki/The_Book_of_Why) underway and there's a growing recognition that to answer some of the most interesting and challenging questions requires us to intergrate causal reasoning into our efforts.\n",
    "\n",
    "PyMC is rising to this challenge! While there are many novel causal concepts to learn, Bayesians will find that they are not starting from scratch. They are already pretty familiar with [Directed Acyclic Graphs (DAGs)](https://en.wikipedia.org/wiki/Directed_acyclic_graph) and so this gives a good jumping off point to gain relatively easy access into the world of **Bayesian causal inference**.\n",
    "\n",
    "This notebook is going to cover one of the foundational components of causal reasoning which has newly arrived to the PyMC ecosystem, the $\\operatorname{do}$ operator. Indeed, depending on whose definitions you want to use, adding the $\\operatorname{do}$ operator into the kind of Bayesian DAGs that PyMC users build every day gets us to the status of building [causal Bayesian networks](https://en.wikipedia.org/wiki/Causal_graph). \n",
    "\n",
    "If that sounds cool, let's dive in..."
   ]
  },
  {
   "attachments": {},
   "cell_type": "markdown",
   "id": "ed816fbf-320c-44f7-a711-cb4750d86e24",
   "metadata": {},
   "source": [
    "## Set up the notebook"
   ]
  },
  {
   "cell_type": "code",
   "execution_count": null,
   "id": "efb41c68-2dbc-4f70-b333-eef4c743994a",
   "metadata": {
    "editable": true,
    "slideshow": {
     "slide_type": ""
    },
    "tags": []
   },
   "outputs": [],
   "source": [
    "import arviz as az\n",
    "import graphviz as gr\n",
    "import matplotlib.pyplot as plt\n",
    "import numpy as np\n",
    "import pymc as pm\n",
    "import seaborn as sns\n",
    "\n",
    "from packaging import version"
   ]
  },
  {
   "cell_type": "code",
   "execution_count": null,
   "id": "70a77819-b114-49ca-960e-a8bb504d6af9",
   "metadata": {
    "editable": true,
    "slideshow": {
     "slide_type": ""
    },
    "tags": []
   },
   "outputs": [],
   "source": [
    "# import the new functionality\n",
    "from pymc.model.transform.conditioning import do"
   ]
  },
  {
   "cell_type": "code",
   "execution_count": null,
   "id": "5403941e-6a30-4f93-8533-e219805b2c3c",
   "metadata": {
    "editable": true,
    "slideshow": {
     "slide_type": ""
    },
    "tags": []
   },
   "outputs": [],
   "source": [
    "RANDOM_SEED = 123\n",
    "rng = np.random.default_rng(RANDOM_SEED)\n",
    "az.style.use(\"arviz-darkgrid\")\n",
    "%config InlineBackend.figure_format = 'retina'"
   ]
  },
  {
   "attachments": {},
   "cell_type": "markdown",
   "id": "782d6135-2e59-4462-8b9c-9832a58751ef",
   "metadata": {
    "editable": true,
    "slideshow": {
     "slide_type": ""
    },
    "tags": []
   },
   "source": [
    "## What can we do with Bayesian inference?\n",
    "\n",
    "Whether we are building _descriptive_ models or those that try to model the underlying processes, Bayesians are very used to building white box (i.e. the opposite of [black box](https://en.wikipedia.org/wiki/Black_box)), interpretable, models of [data generating processes](https://en.wikipedia.org/wiki/Data_generating_process). While we construct PyMC models using code, behind the scenes this is represented as a DAG, which we can visualise with graphviz. Let's see how this works using the example in the docs:"
   ]
  },
  {
   "cell_type": "code",
   "execution_count": null,
   "id": "b770f730-31a2-42c2-b269-5a0f2091538c",
   "metadata": {
    "editable": true,
    "slideshow": {
     "slide_type": ""
    },
    "tags": []
   },
   "outputs": [],
   "source": [
    "J = 8\n",
    "y = np.array([28, 8, -3, 7, -1, 1, 18, 12])\n",
    "sigma = np.array([15, 10, 16, 11, 9, 11, 10, 18])\n",
    "\n",
    "with pm.Model() as schools:\n",
    "    eta = pm.Normal(\"eta\", 0, 1, shape=J)\n",
    "    mu = pm.Normal(\"mu\", 0, sigma=1e6)\n",
    "    tau = pm.HalfCauchy(\"tau\", 25)\n",
    "    theta = mu + tau * eta\n",
    "    obs = pm.Normal(\"obs\", theta, sigma=sigma, observed=y)\n",
    "\n",
    "pm.model_to_graphviz(schools)"
   ]
  },
  {
   "attachments": {},
   "cell_type": "markdown",
   "id": "f618f053-266b-4006-a521-f892cb8519e1",
   "metadata": {
    "editable": true,
    "slideshow": {
     "slide_type": ""
    },
    "tags": []
   },
   "source": [
    "Regardless of the particular model or models we are working with, we can do a whole range of _statistical_ procedures:\n",
    "\n",
    "* We could examine the [prior predictive distribution](https://en.wikipedia.org/wiki/Posterior_predictive_distribution#Prior_vs._posterior_predictive_distribution) to see what we'd expect to see in the given DAG based on our stated prior beliefs with `pymc.sample_prior_predictive`. An example use case would be when we want to understand our predictions of how inflation may evolve into the future based on the structure of our model (e.g.  the national and international economy) and our prior beliefs over latent variables.\n",
    "* We could conduct Bayesian inference by sampling from the posterior distribution with `pymc.sample`. This would update our beliefs to assign credibility to different values of latent variables given the data that we have observed. For example, maybe we get another inflation data point added to our dataset and we want to update our beliefs about the latent variables in the model of the economy.\n",
    "* We could examine the [posterior predictive distribution](https://en.wikipedia.org/wiki/Posterior_predictive_distribution) using `pymc.sample_posterior_predictive`. This is closely related to the prior predictive distribution, but in our running example it would allow us to create a revised set of predictions about future inflation rates after we've observed another data point.\n",
    "* If we wanted, we could get fancy with {ref}`GLM-model-selection` to compare different models (data generating processes). This could be particularly useful because we arguably don't have complete faith that we know the \"true\" model of the economy, even at a coarse level of abstraction. So we could build multiple models (DAGs) and evaluate the relative credibility that each model generated the observed data.\n",
    "* If we have a number of candidate data generating processes, we could incorporate our uncertainty in the data generating process through {ref}`model_averaging`.\n",
    "\n",
    "If we've mastered all of these steps, we can rightfully feel pretty happy with ourselves. We can accomplish a lot with these statistical and predictive procedures."
   ]
  },
  {
   "attachments": {},
   "cell_type": "markdown",
   "id": "ca2ed504-ffda-4f1d-8d18-cdb06608202b",
   "metadata": {
    "editable": true,
    "slideshow": {
     "slide_type": ""
    },
    "tags": [
     "hide-input"
    ]
   },
   "source": [
    "## Why causality is important\n",
    "\n",
    "But now it's time to get smacked in our smug Bayesian face. As others have argued (e.g. {cite:t}`pearl2018why,pearl2000causality`), it is entirely possible to build a pretty good _predictive_ model, but one which can catestrophically fail the moment you (or anyone else) intervenes in the system. Such interventions can totally destroy predictive modelling approaches and wake you up real fast to the necessity of adding causal reasoning into our skillset. \n",
    "\n",
    "In our running example, this could correspond to when a central bank switches from making predictions about inflation to now _acting_ and _intervening_ in the system by, for example, changing interest rates. All of a sudden you might be faced with a situation where the economy does not respond to your intervention as you predicted."
   ]
  },
  {
   "attachments": {},
   "cell_type": "markdown",
   "id": "83b8106f-c9e1-4277-ba38-f13b03a33ef6",
   "metadata": {
    "editable": true,
    "slideshow": {
     "slide_type": ""
    },
    "tags": []
   },
   "source": [
    "Let's consider a seemingly trivial example with 3 nodes to see how we can get fooled. The image below shows two different causal DAGs. On the left we are interested in how $X$ causally affects $Y$, both directly and indirectly through a mediating variable $M$. If we take a purely statistical approach (e.g. {ref}`mediation_analysis`) we might find that the data is very plausibly generated by this DAG. This might give us the confidence to conduct an intervention on $M$ with the aim of influencing our target outcome, $Y$. But when we do this intervention in the real world and change $M$, we actually find absolutely no change in $Y$. What is going on here?"
   ]
  },
  {
   "cell_type": "code",
   "execution_count": null,
   "id": "39bebf1f-b31b-4269-8251-42a7cfbd12a7",
   "metadata": {
    "editable": true,
    "slideshow": {
     "slide_type": ""
    },
    "tags": [
     "hide-input"
    ]
   },
   "outputs": [],
   "source": [
    "g = gr.Digraph()\n",
    "# Wrong data generating process\n",
    "g.node(name=\"x2\", label=\"X\")\n",
    "g.node(name=\"y2\", label=\"Y\")\n",
    "g.node(name=\"m2\", label=\"M\")\n",
    "g.edge(tail_name=\"x2\", head_name=\"y2\")\n",
    "g.edge(tail_name=\"x2\", head_name=\"m2\")\n",
    "g.edge(tail_name=\"m2\", head_name=\"y2\")\n",
    "# Actual causal DAG\n",
    "g.node(name=\"x\", label=\"X\")\n",
    "g.node(name=\"y\", label=\"Y\")\n",
    "g.node(name=\"m\", label=\"M\")\n",
    "g.node(name=\"u\", label=\"U\", color=\"lightgrey\", style=\"filled\")\n",
    "g.edge(tail_name=\"x\", head_name=\"y\")\n",
    "g.edge(tail_name=\"x\", head_name=\"m\")\n",
    "g.edge(tail_name=\"m\", head_name=\"y\", style=\"dashed\", dir=\"none\")\n",
    "g.edge(tail_name=\"u\", head_name=\"m\", color=\"lightgrey\")\n",
    "g.edge(tail_name=\"u\", head_name=\"y\", color=\"lightgrey\")\n",
    "# Render\n",
    "g"
   ]
  },
  {
   "attachments": {},
   "cell_type": "markdown",
   "id": "56832ddc-ef61-4dbf-b46f-b6ef2ae8820e",
   "metadata": {
    "editable": true,
    "slideshow": {
     "slide_type": ""
    },
    "tags": []
   },
   "source": [
    "Little did we know, but the _actual_ data generating process is captured by the DAG on the right. This shows that $X$ does causally influence both $M$ and $Y$, however $M$ does not in fact causally affect $Y$. Instead, there is an unobserved variable $U$ which causally influences both $M$ and $Y$. This unobserved confounder creates a backdoor path in which _statistical_ association may flow between the path $X \\rightarrow M \\rightarrow U \\rightarrow Y$. All this causes a statistical association between $M$ and $Y$ which our purely statistical approach mislead us into thinking that $M$ did causally influence $Y$ when it did not. No wonder our intervention failed to have any effects.\n",
    "\n",
    "Our mistake was to interpret a statistical model causally."
   ]
  },
  {
   "attachments": {},
   "cell_type": "markdown",
   "id": "24792fb8-3e40-41b5-a26a-4a2d4da052ed",
   "metadata": {
    "editable": true,
    "slideshow": {
     "slide_type": ""
    },
    "tags": []
   },
   "source": [
    "## Statistical versus interventional distributions\n",
    "So far this has been quite high-level, but let's try to pin this down a little. In our example, if we were to take a purely statistical approach we could ask \"What happened when interest rates were 2%?\" This is a statistical question because we are basically looking back in our dataset and filtering (or conditioning) upon time points where interest rates were at (or very close to) 2%. So let's flag up - **conditional distributions are purely statistical quantities**.\n",
    "\n",
    "Though the real question we might want an answer to is \"What would have happened in the past if we had set the interest rates to 2%?\" or \"What will happen going forward if we set the interest rates to 2%?\" Despite the subtle changing of wording, this now radically changes what we have to do in order to answer the question. So a key point here is **interventional distributions require causal (not statistical) approaches**.\n",
    "\n",
    "Interventional distributions are cool because they allow us to ask what-if (or counterfactual questions). For example, with a causal DAG we could ask questions of the form, \"What do I think will happen in the future if I do X?\" or \"What do I think would have happened in the past if X had happened?\" See how these types of questions have a very different flavour to purely statistical kinds of questions - they would be more like \"Given what I've seen, what do I think will happen.\" See how this has a more passive, observational focus.\n",
    "\n",
    "From hereon, the main point of this notebook will be to provide some understanding and intuition about the differences between conditional and interventional distributions, and how to estimate interventional distributions with PyMC. As we said above, we can use the $\\operatorname{do}$ operator to estimate interventional distributions. So let's dive in and see how that works."
   ]
  },
  {
   "attachments": {},
   "cell_type": "markdown",
   "id": "aac4d49b-6a1e-4d77-a9c7-205050bebb9f",
   "metadata": {
    "editable": true,
    "slideshow": {
     "slide_type": ""
    },
    "tags": []
   },
   "source": [
    "## Interventions and the $\\operatorname{do}$ operator\n",
    "\n",
    "We'll consider an example from {cite:t}`pearl2000causality` where we examine a DAG which is a putative causal explanation of how various factors influence each other to result in grass becoming slippery. The left shows our causal DAG, and the right shows how the DAG is changed if we consider an intervention (hypothetical or actual) where we turn the sprinkler on. The $\\operatorname{do}$ operator implements an intervention that we want to make. It consists of 2 simple steps:\n",
    "\n",
    "1. It takes a given node in a graph and sets that node at the desired value.\n",
    "2. It removes any causal influence on this node by other nodes. It does this by removing all incoming edges into that node.\n",
    "\n",
    "![](sprinkler.png)\n",
    "\n",
    "On the left of the figure we have a causal DAG describing the causal relationships between season, whether a sprinkler has been on, whether it has rained, if the grass is wet, and if the grass is slippery. \n",
    "\n",
    "The joint distribution can be factorised as: \n",
    "\n",
    "$$\n",
    "P(x_1, x_2, x_3, x_4, x_5) = P(x_1) P(x_3|x_1) P(x_2|x_1) P(x_4|x_3, x_2) P(x_5|x_4)\n",
    "$$\n",
    "\n",
    "```{card} Factorizing joint distributions\n",
    "For a DAG, a complex joint distribution can be broken down into the product of conditional distributions:\n",
    "\n",
    "$$\n",
    "P(x_1, x_2, \\ldots, x_n) = \\prod_i P(x_i|pa_i)\n",
    "$$\n",
    "\n",
    "where $pa_i$ are the parents of node $x_i$, and $i = \\{ 1, \\ldots, n \\}$.\n",
    "```\n",
    "\n",
    "On the right of the figure we have applied the $\\operatorname{do}$ operator to examine what will happen if we set the sprinkler to be on. You can see that we have now set the value of that node, $x_3=1$ and we have removed the incoming edge (influence) of season, meaning that once we turn on the sprinkler manually, it's not influenced by the season anymore.\n",
    "\n",
    "In order to describe this new interventional distribution we need truncated factorization:\n",
    "\n",
    "```{card} Truncated factorization\n",
    "{cite:t}`pearl2000causality` describes truncated factorization as follows. If we have a probability distribution $P(v)$ on a set of $V$ variables, then $P_x(v)$ is the interventional distribution that results from $\\operatorname{do}(X=x)$ that sets a subset of $X$ variables to constants $x$. Then we can describe the interventional distribution with truncated factorization as:\n",
    "\n",
    "$$\n",
    "P_x(v) = \\prod_{ \\{ i | V_i \\notin X \\} } P(v_i|pa_i)\n",
    "$$\n",
    "\n",
    "This is actually quite simple. It can be thought of as exactly the same as the regular factorization of the joint distribution, but we are only including terms which do _not_ influence any intervened upon variable.\n",
    "\n",
    "Interested readers are referred to section 1.3 of {cite:t}`pearl2000causality` on Causal Bayesian Networks.\n",
    "```\n",
    "\n",
    "Applying that to the spinkler example, we can define the _interventional distribution_ as:\n",
    "\n",
    "$$\n",
    "P(x_1, x_2, \\operatorname{do}(x_3=1), x_4, x_5) = P(x_1) P(x_2|x_1) P(x_4|x_3=1, x_2) P(x_5|x_4)\n",
    "$$\n",
    "\n",
    "There are two important changes here:\n",
    "1. Note that $x_3$ was previously a random variable, but this has now been 'locked' at a particular value, $x_3=1$, because of our intervention.\n",
    "2. Note the absense of the $P(x_3|x_1)$ term, because $x_1$ no longer has any causal influence over $x_3$.\n",
    "\n",
    "So in summary, this is pretty cool. We can use the $\\operatorname{do}$ operator to make in intervention in our model of the world. We can then observe the consequences of this intervention and make much better predictions of what will happen when we are active and intervene (actually or hypothetically) in the world. The accuracy is of course subject to how well our causal DAG reflects the real processes in the world.\n",
    "\n",
    "For those wanting further background information on the $\\operatorname{do}$ operator, explained from a different angle, readers should check out the richly diagrammed and well-explained blog post [Causal Effects via the Do-operator](https://towardsdatascience.com/causal-effects-via-the-do-operator-5415aefc834a) {cite:p}`Talebi2022dooperator`, the popular science book by {cite:t}`pearl2018why`, or the textbook by {cite:t}`molak2023ciadip`."
   ]
  },
  {
   "attachments": {},
   "cell_type": "markdown",
   "id": "b70e42b0-61a1-4c62-8dd9-d973d60d7946",
   "metadata": {
    "editable": true,
    "raw_mimetype": "",
    "slideshow": {
     "slide_type": ""
    },
    "tags": []
   },
   "source": [
    "## Three different causal DAGs\n",
    "\n",
    ":::{note}\n",
    "This section takes heavy inspiration from the post [Causal Inference 2: Illustrating Interventions via a Toy Example](https://www.inference.vc/causal-inference-2-illustrating-interventions-in-a-toy-example/) {cite:p}`Huszár2019causal2`. Imitation is the sincerest form of flattery.\n",
    ":::\n",
    "\n",
    "If we think about how 2 variables, $x$ and $y$, are related we can come up with many different causal DAGs. Below we consider just 3 possibilities, which we'll label DAG 1, 2, and 3.\n",
    "\n",
    "1. $x$ causally influences $y$\n",
    "2. $y$ causally influences $x$\n",
    "3. $z$ causally influences both $x$ and $y$\n",
    "\n",
    "We can draw these more graphically below:"
   ]
  },
  {
   "cell_type": "code",
   "execution_count": null,
   "id": "73ed8c06-6dbb-4706-9120-7623d168cdcb",
   "metadata": {
    "editable": true,
    "slideshow": {
     "slide_type": ""
    },
    "tags": [
     "hide-input"
    ]
   },
   "outputs": [],
   "source": [
    "g = gr.Digraph()\n",
    "\n",
    "# DAG 1\n",
    "g.node(name=\"x1\", label=\"x\")\n",
    "g.node(name=\"y1\", label=\"y\")\n",
    "g.edge(tail_name=\"x1\", head_name=\"y1\")\n",
    "\n",
    "# DAG 2\n",
    "g.node(name=\"y2\", label=\"y\")\n",
    "g.node(name=\"x2\", label=\"x\")\n",
    "g.edge(tail_name=\"y2\", head_name=\"x2\")\n",
    "\n",
    "# DAG 3\n",
    "g.node(name=\"z\", label=\"z\")\n",
    "g.node(name=\"x\", label=\"x\")\n",
    "g.node(name=\"y\", label=\"y\")\n",
    "g.edge(tail_name=\"z\", head_name=\"x\")\n",
    "g.edge(tail_name=\"z\", head_name=\"y\")\n",
    "\n",
    "g"
   ]
  },
  {
   "attachments": {},
   "cell_type": "markdown",
   "id": "3bb5134c-f476-4b8f-9338-1ed07e1fbb13",
   "metadata": {
    "editable": true,
    "slideshow": {
     "slide_type": ""
    },
    "tags": []
   },
   "source": [
    "We can also imagine implementing such causal DAGs in Python code to generate `N` random numbers. Each of these will give rise to specific joint distributions, $P(x, y)$, and in fact, because Ferenc Huszár was clever in his blog post, we'll see later that these will all give rise to the same joint distributions.\n",
    "\n",
    "**DAG 1**\n",
    "\n",
    "```{code-block} python\n",
    "x = rng.normal(loc=0, scale=1, size=N)\n",
    "y = x + 1 + np.sqrt(3) * rng.normal(size=N)\n",
    "```\n",
    "\n",
    "**DAG 2**\n",
    "\n",
    "```{code-block} python\n",
    "y = 1 + 2 * rng.normal(size=N)\n",
    "x = (y - 1) / 4 + np.sqrt(3) * rng.normal(size=N) / 2\n",
    "```\n",
    "\n",
    "**DAG 3**\n",
    "\n",
    "```{code-block} python\n",
    "z = rng.normal(size=N)\n",
    "y = z + 1 + np.sqrt(3) * rng.normal(size=N)\n",
    "x = z\n",
    "```"
   ]
  },
  {
   "attachments": {},
   "cell_type": "markdown",
   "id": "e2d1a7ca-1948-4165-92aa-3713df60b73b",
   "metadata": {},
   "source": [
    ":::{note}\n",
    "These code snippets are important because they define identical joint distributions $P(x,y)$ but they have different DAG structures. Therefore they may respond differently when it comes to making an intervention with the $\\operatorname{do}$ operator. It is worth referring back to these code snippets to make sure you understand how they relate to the DAG structures above and to think through how making interventions on variables will affect the values of each of the variables $x, y, z$ if at all.\n",
    ":::"
   ]
  },
  {
   "attachments": {},
   "cell_type": "markdown",
   "id": "453edf32-48d2-4d7f-96fb-6fb61851de9e",
   "metadata": {
    "editable": true,
    "slideshow": {
     "slide_type": ""
    },
    "tags": []
   },
   "source": [
    "However, we are going to implement these using Bayesian causal DAGs with PyMC. Let's see how we can do this, then generate samples from them using `pm.sample_prior_predictive`. As we go with each DAG, we'll extract the samples for plotting later, and also plot the graphviz representation of the PyMC models. You'll see that while these are a fraction more visually complex, they do actually match up with the causal DAGs we've specified above."
   ]
  },
  {
   "cell_type": "code",
   "execution_count": null,
   "id": "cc4469dd-e40b-4f59-b6c5-3077043e9878",
   "metadata": {
    "editable": true,
    "slideshow": {
     "slide_type": ""
    },
    "tags": []
   },
   "outputs": [],
   "source": [
    "# number of samples to generate\n",
    "N = 1_000_000"
   ]
  },
  {
   "cell_type": "code",
   "execution_count": null,
   "id": "380c7726-1168-4a47-8392-f7e5c3475f3f",
   "metadata": {
    "editable": true,
    "slideshow": {
     "slide_type": ""
    },
    "tags": []
   },
   "outputs": [],
   "source": [
    "with pm.Model() as model1:\n",
    "    x = pm.Normal(\"x\")\n",
    "    temp = pm.Normal(\"temp\")\n",
    "    y = pm.Deterministic(\"y\", x + 1 + np.sqrt(3) * temp)\n",
    "    idata1 = pm.sample_prior_predictive(samples=N, random_seed=rng)\n",
    "\n",
    "ds1 = az.extract(idata1.prior, var_names=[\"x\", \"y\"])\n",
    "\n",
    "pm.model_to_graphviz(model1)"
   ]
  },
  {
   "cell_type": "code",
   "execution_count": null,
   "id": "09e899ac-77b5-4efa-81b9-0c31a52843d9",
   "metadata": {
    "editable": true,
    "slideshow": {
     "slide_type": ""
    },
    "tags": []
   },
   "outputs": [],
   "source": [
    "with pm.Model() as model2:\n",
    "    y = pm.Normal(\"y\", mu=1, sigma=2)\n",
    "    temp = pm.Normal(\"temp\")\n",
    "    x = pm.Deterministic(\"x\", (y - 1) / 4 + np.sqrt(3) * temp / 2)\n",
    "    idata2 = pm.sample_prior_predictive(samples=N, random_seed=rng)\n",
    "\n",
    "ds2 = az.extract(idata2.prior, var_names=[\"x\", \"y\"])\n",
    "\n",
    "pm.model_to_graphviz(model2)"
   ]
  },
  {
   "cell_type": "code",
   "execution_count": null,
   "id": "695ac444-5db0-4214-8afe-720ae3b4260e",
   "metadata": {
    "editable": true,
    "slideshow": {
     "slide_type": ""
    },
    "tags": []
   },
   "outputs": [],
   "source": [
    "with pm.Model() as model3:\n",
    "    z = pm.Normal(\"z\")\n",
    "    temp = pm.Normal(\"temp\")\n",
    "    y = pm.Deterministic(\"y\", z + 1 + np.sqrt(3) * temp)\n",
    "    x = pm.Deterministic(\"x\", z)\n",
    "    idata3 = pm.sample_prior_predictive(samples=N)\n",
    "\n",
    "ds3 = az.extract(idata3.prior, var_names=[\"x\", \"y\"])\n",
    "\n",
    "pm.model_to_graphviz(model3)"
   ]
  },
  {
   "attachments": {},
   "cell_type": "markdown",
   "id": "07b66542-dd10-43b1-9dfb-5b438f756736",
   "metadata": {
    "editable": true,
    "slideshow": {
     "slide_type": ""
    },
    "tags": []
   },
   "source": [
    "### Joint distributions, $P(x,y)$\n",
    "\n",
    "First, let's take a look at the joint distributions for each of the DAGs to convince ourselves that these are actually the same."
   ]
  },
  {
   "cell_type": "code",
   "execution_count": null,
   "id": "49d3a21d-9ec3-4fd8-88c9-093aeae336ab",
   "metadata": {
    "editable": true,
    "slideshow": {
     "slide_type": ""
    },
    "tags": [
     "hide-input"
    ]
   },
   "outputs": [],
   "source": [
    "fig, ax = plt.subplots(1, 3, figsize=(12, 8), sharex=True, sharey=True)\n",
    "\n",
    "for i, ds in enumerate([ds1, ds2, ds3]):\n",
    "    az.plot_kde(\n",
    "        ds[\"x\"],\n",
    "        ds[\"y\"],\n",
    "        hdi_probs=[0.25, 0.5, 0.75, 0.9, 0.95],\n",
    "        contour_kwargs={\"colors\": None},\n",
    "        contourf_kwargs={\"alpha\": 0.5},\n",
    "        ax=ax[i],\n",
    "    )\n",
    "    ax[i].set(\n",
    "        title=f\"$P(x, y)$, DAG {i+1}\",\n",
    "        xlim=[-4, 4],\n",
    "        xticks=np.arange(-4, 4 + 1, step=2),\n",
    "        ylim=[-6, 8],\n",
    "        yticks=np.arange(-6, 8 + 1, step=2),\n",
    "        aspect=\"equal\",\n",
    "    )\n",
    "    ax[i].axvline(x=2, ls=\"--\", c=\"k\")"
   ]
  },
  {
   "attachments": {},
   "cell_type": "markdown",
   "id": "6625a68d-e19e-4490-b486-29e3bff42716",
   "metadata": {
    "editable": true,
    "slideshow": {
     "slide_type": ""
    },
    "tags": []
   },
   "source": [
    "At this point we have met 3 different data generating processes (and their corresponding DAGs). We've drawn many MCMC samples from the prior distribution and visualised this joint distribution $P(x,y)$ for each of the models. We are now in position to recap the conditional distributions (e.g. $P(y|x=2$, see the next section) and how they compare to the interventional distribution $P(y|\\operatorname{do}=2)$ in the section following that."
   ]
  },
  {
   "attachments": {},
   "cell_type": "markdown",
   "id": "b44eef67-7ad3-46cc-b18c-e589b9fd271b",
   "metadata": {
    "editable": true,
    "slideshow": {
     "slide_type": ""
    },
    "tags": []
   },
   "source": [
    "### Conditional distributions, $P(y|x=2)$"
   ]
  },
  {
   "attachments": {},
   "cell_type": "markdown",
   "id": "2d30eb22-2560-495a-8af2-f9c9fe04848a",
   "metadata": {},
   "source": [
    "In the MCMC spirit of representing probability distributions by samples, let's now calculate the conditional distributions. If we picked all the values where $x$ was _exactly_ 2, then we might not end up with any samples at all, so what we'll do is to take a very narrow slice of samples around 2. So these will be approximations - as the number of samples increases and the width of the slice decreases, then our approximation would become more accurate."
   ]
  },
  {
   "cell_type": "code",
   "execution_count": null,
   "id": "4340f80a-95f5-486d-b958-88ec130b6538",
   "metadata": {
    "editable": true,
    "slideshow": {
     "slide_type": ""
    },
    "tags": []
   },
   "outputs": [],
   "source": [
    "# Extract samples from P(y|x≈2)\n",
    "conditional1 = ds1.query(sample=\"1.99 < x < 2.01\")[\"y\"]\n",
    "conditional2 = ds2.query(sample=\"1.99 < x < 2.01\")[\"y\"]\n",
    "conditional3 = ds3.query(sample=\"1.99 < x < 2.01\")[\"y\"]"
   ]
  },
  {
   "attachments": {},
   "cell_type": "markdown",
   "id": "99ccc753-e3ef-4834-b02f-4a8d82749fe5",
   "metadata": {},
   "source": [
    "So now we've got our MCMC estimates of $P(y|x=2)$ for all of the DAGs. But you're going to have to wait just a moment before we plot them. Let's move on to calculate $P(y|\\operatorname{do}(x=2))$ and then plot them in one go so we can compare."
   ]
  },
  {
   "attachments": {},
   "cell_type": "markdown",
   "id": "d0896e42-ee27-4c37-a065-7c78d6f6c0e2",
   "metadata": {
    "editable": true,
    "slideshow": {
     "slide_type": ""
    },
    "tags": []
   },
   "source": [
    "### Interventional distributions, $P(y|\\operatorname{do}(x=2))$\n",
    "\n",
    "In turn for each of the 3 DAGs, let's use the $\\operatorname{do}$ operator, setting $x=2$. This will give us a new DAG and we'll plot the graphviz representation and then take samples to represent the interventional distribution."
   ]
  },
  {
   "cell_type": "code",
   "execution_count": null,
   "id": "87ef7495-d1db-4734-9685-e0963ed346b3",
   "metadata": {
    "editable": true,
    "slideshow": {
     "slide_type": ""
    },
    "tags": []
   },
   "outputs": [],
   "source": [
    "model1_do = do(model1, {\"x\": 2})\n",
    "pm.model_to_graphviz(model1_do)"
   ]
  },
  {
   "attachments": {},
   "cell_type": "markdown",
   "id": "95844edc-2e47-47a1-986a-c6e0b30386c0",
   "metadata": {},
   "source": [
    ":::{important}\n",
    "Let's just take a moment to reflect on what we've done here! We took a model (`model1`) and then used the $\\operatorname{do}$ function and specified an intervention we wanted to make. In this case it was to set $x=2$. We then got back a new model where the original DAG has been mutated in the way that we set out above. Namely, we defined $x=2$ _and_ removed edges from incoming nodes to $x$. In this first DAG, there were no incoming edges, but this is the case in DAG2 and DAG 3 below.\n",
    ":::"
   ]
  },
  {
   "cell_type": "code",
   "execution_count": null,
   "id": "e7a60ccb-8568-42b2-9b59-75c1f812aecf",
   "metadata": {},
   "outputs": [],
   "source": [
    "model2_do = do(model2, {\"x\": 2})\n",
    "pm.model_to_graphviz(model2_do)"
   ]
  },
  {
   "cell_type": "code",
   "execution_count": null,
   "id": "ae53d8bf-a706-46e9-bd1c-2d43a5bcd222",
   "metadata": {},
   "outputs": [],
   "source": [
    "model3_do = do(model3, {\"x\": 2})\n",
    "pm.model_to_graphviz(model3_do)"
   ]
  },
  {
   "attachments": {},
   "cell_type": "markdown",
   "id": "688de710-654d-4905-a328-81941aaa1fe6",
   "metadata": {
    "editable": true,
    "slideshow": {
     "slide_type": ""
    },
    "tags": []
   },
   "source": [
    "So we can see that in DAG 1, the $x$ variable still has causal influence on $y$. However, in DAGs 2 and 3, $y$ is no longer causally influenced by $x$. So in DAGs 2 and 3, our intervention $\\operatorname{do}(x=2)$ have no influence on $y$."
   ]
  },
  {
   "attachments": {},
   "cell_type": "markdown",
   "id": "01ba8784-cd8b-45e8-b9ec-1fd6d56b010a",
   "metadata": {
    "editable": true,
    "slideshow": {
     "slide_type": ""
    },
    "tags": []
   },
   "source": [
    "Next we'll sample from each of these interventional distributions. Note that we are using the mutilated models, `model1_do`, `model2_do`, and `model3_do`. "
   ]
  },
  {
   "cell_type": "code",
   "execution_count": null,
   "id": "e54e1a6e-f954-4a17-b548-a8db72ab0013",
   "metadata": {
    "editable": true,
    "slideshow": {
     "slide_type": ""
    },
    "tags": []
   },
   "outputs": [],
   "source": [
    "with model1_do:\n",
    "    idata1_do = pm.sample_prior_predictive(samples=N, random_seed=rng)\n",
    "\n",
    "with model2_do:\n",
    "    idata2_do = pm.sample_prior_predictive(samples=N, random_seed=rng)\n",
    "\n",
    "with model3_do:\n",
    "    idata3_do = pm.sample_prior_predictive(samples=N, random_seed=rng)"
   ]
  },
  {
   "attachments": {},
   "cell_type": "markdown",
   "id": "d9d4fe62-b694-4a90-9e7f-21344f69fcf6",
   "metadata": {
    "editable": true,
    "slideshow": {
     "slide_type": ""
    },
    "tags": []
   },
   "source": [
    "So let's compare the conditional and interventional distributions for all 3 DAGs."
   ]
  },
  {
   "cell_type": "code",
   "execution_count": null,
   "id": "72a72a7f-cd77-45eb-a000-9d78bd01498e",
   "metadata": {
    "editable": true,
    "slideshow": {
     "slide_type": ""
    },
    "tags": [
     "hide-input"
    ]
   },
   "outputs": [],
   "source": [
    "fig, ax = plt.subplots(1, 2, figsize=(10, 4), sharex=True, sharey=True)\n",
    "\n",
    "az.plot_density(\n",
    "    [conditional1, conditional2, conditional3],\n",
    "    data_labels=[\"DAG 1\", \"DAG 2\", \"DAG 3\"],\n",
    "    combine_dims={\"sample\"},\n",
    "    ax=ax[0],\n",
    "    hdi_prob=1.0,\n",
    ")\n",
    "ax[0].set(xlabel=\"y\", title=\"Conditional distributions\\n$P(y|x=2)$\")\n",
    "\n",
    "az.plot_density(\n",
    "    [idata1_do, idata2_do, idata3_do],\n",
    "    data_labels=[\"DAG 1\", \"DAG 2\", \"DAG 3\"],\n",
    "    group=\"prior\",\n",
    "    var_names=\"y\",\n",
    "    ax=ax[1],\n",
    "    hdi_prob=1.0,\n",
    ")\n",
    "ax[1].set(xlabel=\"y\", title=\"Interventional distributions\\n$P(y|\\\\operatorname{do}(x=2))$\");"
   ]
  },
  {
   "attachments": {},
   "cell_type": "markdown",
   "id": "f546f9e2-0f9b-4eaa-93e3-b5887b757a37",
   "metadata": {
    "editable": true,
    "slideshow": {
     "slide_type": ""
    },
    "tags": []
   },
   "source": [
    "We can see, as expected, that the conditional distributions are the same for all 3 DAGs. Note that these distributions are not posterior distributions of estimated parameters - we have not conducted any parameter estimation here.\n",
    "\n",
    "The story is different for the interventional distributions however. Here, DAG 1 differs because it is the only one where our $\\operatorname{do}(x=2)$ intervention causally effects $y$. If we think about it further, because the $\\operatorname{do}$ has not affected the structure _for this DAG_, in this example $P(y|\\operatorname{do}(x=2)) = P(y|x=2)$. However this is _not_ something to be generalised, it is just something specific to this particular simple DAG. \n",
    "\n",
    "The intervention severed any causal influence of $x$ on $y$ in DAGs 2 and 3. Let's just recap what the mutated DAGs look like; the mutated DAG 2 is shown below, and we can see that $P(y|\\operatorname{do}(x=2)) = P(y)$."
   ]
  },
  {
   "cell_type": "code",
   "execution_count": null,
   "id": "1b8c87ad-c3c3-4de5-8b9f-9a47f34f536f",
   "metadata": {
    "editable": true,
    "slideshow": {
     "slide_type": ""
    },
    "tags": [
     "hide-input"
    ]
   },
   "outputs": [],
   "source": [
    "g = gr.Digraph()\n",
    "g.node(name=\"y2\", label=\"y\")\n",
    "g.node(name=\"x2\", label=\"x\")\n",
    "g"
   ]
  },
  {
   "attachments": {},
   "cell_type": "markdown",
   "id": "9c4122ee-9709-4c9c-b0eb-a4c20e1b7f3a",
   "metadata": {
    "editable": true,
    "slideshow": {
     "slide_type": ""
    },
    "tags": []
   },
   "source": [
    "The mutated DAG 3 is shown below. We can see that for this DAG, $P(y|\\operatorname{do}(x=2)) = P(y|z)$. "
   ]
  },
  {
   "cell_type": "code",
   "execution_count": null,
   "id": "115b2f76-383d-4aed-8249-53bb4f57b213",
   "metadata": {
    "editable": true,
    "slideshow": {
     "slide_type": ""
    },
    "tags": [
     "hide-input"
    ]
   },
   "outputs": [],
   "source": [
    "g = gr.Digraph()\n",
    "g.node(name=\"z\", label=\"z\")\n",
    "g.node(name=\"x\", label=\"x\")\n",
    "g.node(name=\"y\", label=\"y\")\n",
    "g.edge(tail_name=\"z\", head_name=\"y\")\n",
    "g"
   ]
  },
  {
   "attachments": {},
   "cell_type": "markdown",
   "id": "dec5c8d6-e562-47ca-a263-2e8269704d04",
   "metadata": {
    "editable": true,
    "slideshow": {
     "slide_type": ""
    },
    "tags": []
   },
   "source": [
    "$P(y|\\operatorname{do}(x=2))$ for DAG 2 and DAG 3 will actually be the same in this contrived example because the details were arranged to arrive at the same marginal distribution $P(y)$ for all DAGs."
   ]
  },
  {
   "attachments": {},
   "cell_type": "markdown",
   "id": "e546b0ab-dd66-4c20-b814-c8cd1bc6c710",
   "metadata": {
    "editable": true,
    "slideshow": {
     "slide_type": ""
    },
    "tags": []
   },
   "source": [
    "## Summary\n",
    "\n",
    "Hopefuly, I've established a strong case for why we need to expand our skillset beyond the realm of Bayesian statistics alone. While these approaches are, and will always be, at the core of PyMC, the ecosystem is embracing causal reasoning.\n",
    "\n",
    "In particular, we've seen how we can use the new $\\operatorname{do}$ operator to implement realised or hypothetical interventions on causal models of the world to obtain interventional distributions. Understanding the underlying causal DAG and how interventions change this DAG are crucial components in building our understanding of causal reasoning.\n",
    "\n",
    "The exciting thing is that there are many more causal reasoning ideas and concepts to learn. And PyMC is adapting as needed to support all your Bayesian causal inference needs.\n",
    "\n",
    "Readers looking to learn more are suggested to check out the cited blog posts as well as textbooks, {cite:t}`pearl2000causality`, {cite:t}`pearl2016causal`, {cite:t}`mcelreath2018statistical`, {cite:t}`molak2023ciadip`."
   ]
  },
  {
   "attachments": {},
   "cell_type": "markdown",
   "id": "f17a9b3b-a3c2-4919-893b-569049db03d6",
   "metadata": {
    "editable": true,
    "slideshow": {
     "slide_type": ""
    },
    "tags": []
   },
   "source": [
    "## Authors\n",
    "- Authored by [Benjamin T. Vincent](https://github.com/drbenvincent) in July 2023"
   ]
  },
  {
   "attachments": {},
   "cell_type": "markdown",
   "id": "ecbb878d-531b-4c96-afe2-c39f928b9162",
   "metadata": {},
   "source": [
    "## References\n",
    "\n",
    ":::{bibliography}\n",
    ":filter: docname in docnames\n",
    ":::"
   ]
  },
  {
   "attachments": {},
   "cell_type": "markdown",
   "id": "9fd548d0-5977-4a19-935a-506e86063887",
   "metadata": {},
   "source": [
    "## Watermark"
   ]
  },
  {
   "cell_type": "code",
   "execution_count": null,
   "id": "265cd4a3-4e02-408c-afe6-80627f0663c4",
   "metadata": {},
   "outputs": [],
   "source": [
    "%load_ext watermark\n",
    "%watermark -n -u -v -iv -w -p pytensor,xarray"
   ]
  },
  {
   "attachments": {},
   "cell_type": "markdown",
   "id": "62e8040f-452c-4a11-90f5-fa94eb03c971",
   "metadata": {
    "editable": true,
    "slideshow": {
     "slide_type": ""
    },
    "tags": []
   },
   "source": [
    ":::{include} ../page_footer.md :::"
   ]
  }
 ],
 "metadata": {
  "jupytext": {
   "notebook_metadata_filter": "substitutions"
  },
  "kernelspec": {
   "display_name": "Python 3 (ipykernel)",
   "language": "python",
   "name": "python3"
  },
  "language_info": {
   "codemirror_mode": {
    "name": "ipython",
    "version": 3
   },
   "file_extension": ".py",
   "mimetype": "text/x-python",
   "name": "python",
   "nbconvert_exporter": "python",
   "pygments_lexer": "ipython3",
   "version": "3.9.13"
  }
 },
 "nbformat": 4,
 "nbformat_minor": 5
}
