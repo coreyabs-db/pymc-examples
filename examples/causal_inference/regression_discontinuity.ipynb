{
 "cells": [
  {
   "cell_type": "markdown",
   "id": "f2e8530c-5ba0-4041-a309-18919d5d0533",
   "metadata": {},
   "source": [
    "(regression_discontinuity)=\n",
    "# Regression discontinuity design analysis\n",
    "\n",
    ":::{post} April, 2022\n",
    ":tags: regression, causal inference, quasi experiments, counterfactuals \n",
    ":category: beginner, explanation\n",
    ":author: Benjamin T. Vincent\n",
    ":::\n",
    "\n",
    "[Quasi experiments](https://en.wikipedia.org/wiki/Quasi-experiment) involve experimental interventions and quantitative measures. However, quasi-experiments do _not_ involve random assignment of units (e.g. cells, people, companies, schools, states) to test or control groups. This inability to conduct random assignment poses problems when making causal claims as it makes it harder to argue that any difference between a control and test group are because of an intervention and not because of a confounding factor.\n",
    "\n",
    "The [regression discontinuity design](https://en.wikipedia.org/wiki/Regression_discontinuity_design) is a particular form of quasi experimental design. It consists of a control and test group, but assignment of units to conditions is chosen based upon a threshold criteria, not randomly. \n",
    "\n",
    ":::{figure-md} fig-target\n",
    "\n",
    "![regression discontinuity design schematic](regression_discontinuity.png)\n",
    "\n",
    "A schematic diagram of the regression discontinuity design. The dashed green line shows where we would have expected the post test scores of the test group to be if they had not received the treatment. Image taken from [https://conjointly.com/kb/regression-discontinuity-design/](https://conjointly.com/kb/regression-discontinuity-design/).\n",
    ":::\n",
    "\n",
    "Units with very low scores are likely to differ systematically along some dimensions than units with very high scores. For example, if we look at students who achieve the highest, and students who achieve the lowest, in all likelihood there are confounding variables. Students with high scores are likely to have come from more privileged backgrounds than those with the lowest scores. \n",
    "\n",
    "If we gave extra tuition (our experimental intervention) to students scoring in the lowest half of scores then we can easily imagine that we have large differences in some measure of privilege between test and control groups. At a first glance, this would seem to make the regression discontinuity design useless - the whole point of random assignment is to reduce or eliminate systematic biases between control and test groups. But use of a threshold would seem to maximise the differences in confounding variables between groups. Isn't this an odd thing to do?\n",
    "\n",
    "The key point however is that it is much less likely that students scoring just below and just above the threshold systematically differ in their degree of privilege. And so _if_ we find evidence of a meaningful discontinuity in a post-test score in those just above and just below the threshold, then it is much more plausible that the intervention (applied according to the threshold criteria) was causally responsible.\n",
    "\n",
    "## Sharp v.s. fuzzy regression discontinuity designs\n",
    "Note that regression discontinuity designs fall into two categories. This notebook focuses on _sharp_ regression discontinuity designs, but it is important to understand both sharp and fuzzy variants:\n",
    "\n",
    "- **Sharp:** Here, the assignment to control or treatment groups is purely dictated by the threshold. There is no uncertainty in which units are in which group.\n",
    "- **Fuzzy:** In some situations there may not be a sharp boundary between control and treatment based upon the threshold. This could happen for example if experimenters are not strict in assigning units to groups based on the threshold. Alternatively, there could be non-compliance on the side of the actual units being studied. For example, patients may not always be fully compliant in taking medication, so some unknown proportion of patients assigned to the test group may actually be in the control group because of non compliance."
   ]
  },
  {
   "cell_type": "code",
   "execution_count": null,
   "id": "efb41c68-2dbc-4f70-b333-eef4c743994a",
   "metadata": {},
   "outputs": [],
   "source": [
    "import arviz as az\n",
    "import matplotlib.pyplot as plt\n",
    "import numpy as np\n",
    "import pandas as pd\n",
    "import pymc as pm"
   ]
  },
  {
   "cell_type": "code",
   "execution_count": null,
   "id": "5403941e-6a30-4f93-8533-e219805b2c3c",
   "metadata": {},
   "outputs": [],
   "source": [
    "RANDOM_SEED = 123\n",
    "rng = np.random.default_rng(RANDOM_SEED)\n",
    "az.style.use(\"arviz-darkgrid\")\n",
    "%config InlineBackend.figure_format = 'retina'"
   ]
  },
  {
   "cell_type": "markdown",
   "id": "9fcbc99e-0bd0-4763-97ec-e4ac0114aefe",
   "metadata": {},
   "source": [
    "## Generate simulated data\n",
    "Note that here we assume that there is negligible/zero measurement noise, but that there is some variability in the true values from pre- to post-test. It is possible to take into account measurement noise on the pre- and post-test results, but we do not engage with that in this notebook."
   ]
  },
  {
   "cell_type": "code",
   "execution_count": null,
   "id": "4468db37-fe9e-43b6-9779-2dc55e7e20e1",
   "metadata": {
    "tags": [
     "hide-input"
    ]
   },
   "outputs": [],
   "source": [
    "# define true parameters\n",
    "threshold = 0.0\n",
    "treatment_effect = 0.7\n",
    "N = 1000\n",
    "sd = 0.3  # represents change between pre and post test with zero measurement error\n",
    "\n",
    "# No measurement error, but random change from pre to post\n",
    "df = (\n",
    "    pd.DataFrame.from_dict({\"x\": rng.normal(size=N)})\n",
    "    .assign(treated=lambda x: x.x < threshold)\n",
    "    .assign(y=lambda x: x.x + rng.normal(loc=0, scale=sd, size=N) + treatment_effect * x.treated)\n",
    ")\n",
    "\n",
    "df"
   ]
  },
  {
   "cell_type": "code",
   "execution_count": null,
   "id": "17d6c39e-1131-418d-bdce-9f2d79dd5835",
   "metadata": {
    "tags": [
     "hide-input"
    ]
   },
   "outputs": [],
   "source": [
    "def plot_data(df):\n",
    "    fig, ax = plt.subplots(figsize=(12, 7))\n",
    "    ax.plot(df.x[~df.treated], df.y[~df.treated], \"o\", alpha=0.3, label=\"untreated\")\n",
    "    ax.plot(df.x[df.treated], df.y[df.treated], \"o\", alpha=0.3, label=\"treated\")\n",
    "    ax.axvline(x=threshold, color=\"k\", ls=\"--\", lw=3, label=\"treatment threshold\")\n",
    "    ax.set(xlabel=r\"observed $x$ (pre-test)\", ylabel=r\"observed $y$ (post-test)\")\n",
    "    ax.legend()\n",
    "    return ax\n",
    "\n",
    "\n",
    "plot_data(df);"
   ]
  },
  {
   "cell_type": "markdown",
   "id": "7986aefd-1b21-462a-b0e1-d5ed003392bb",
   "metadata": {
    "tags": []
   },
   "source": [
    "## Sharp regression discontinuity model\n",
    "\n",
    "We can define our Bayesian regression discontinuity model as:\n",
    "\n",
    "$$\n",
    "\\begin{aligned}\n",
    "\\Delta & \\sim \\text{Cauchy}(0, 1) \\\\\n",
    "\\sigma & \\sim \\text{HalfNormal}(0, 1) \\\\\n",
    "\\mu & = x_i + \\underbrace{\\Delta \\cdot treated_i}_{\\text{treatment effect}} \\\\\n",
    "y_i & \\sim \\text{Normal}(\\mu, \\sigma)\n",
    "\\end{aligned}\n",
    "$$\n",
    "\n",
    "where:\n",
    "- $\\Delta$ is the size of the discontinuity, \n",
    "- $\\sigma$ is the standard deviation of change in the pre- to post-test scores,\n",
    "- $x_i$ and $y_i$ are observed pre- and post-test measures for unit $i$, and \n",
    "- $treated_i$ is an observed indicator variable (0 for control group, 1 for test group).\n",
    "\n",
    "Notes:\n",
    "- We make the simplifying assumption of no measurement error.\n",
    "- Here, we confine ourselves to the situation where we use the same measure (e.g. heart rate, educational attainment, upper arm circumference) for both the pre-test ($x$) and post-test ($y$). So the _untreated_ post-test measure can be modelled as $y \\sim \\text{Normal}(\\mu=x, \\sigma)$. \n",
    "- In the case that the pre- and post-test measuring instruments where not identical, then we would want to build slope and intercept parameters into $\\mu$ to capture the 'exchange rate' between the pre- and post-test measures.\n",
    "- We assume we have accurately observed whether a unit has been treated or not. That is, this model assumes a sharp discontinuity with no uncertainty."
   ]
  },
  {
   "cell_type": "code",
   "execution_count": null,
   "id": "7f08adbf-60ff-4791-a31b-29311c09a12f",
   "metadata": {},
   "outputs": [],
   "source": [
    "with pm.Model() as model:\n",
    "    x = pm.MutableData(\"x\", df.x, dims=\"obs_id\")\n",
    "    treated = pm.MutableData(\"treated\", df.treated, dims=\"obs_id\")\n",
    "    sigma = pm.HalfNormal(\"sigma\", 1)\n",
    "    delta = pm.Cauchy(\"effect\", alpha=0, beta=1)\n",
    "    mu = pm.Deterministic(\"mu\", x + (delta * treated), dims=\"obs_id\")\n",
    "    pm.Normal(\"y\", mu=mu, sigma=sigma, observed=df.y, dims=\"obs_id\")\n",
    "\n",
    "pm.model_to_graphviz(model)"
   ]
  },
  {
   "cell_type": "markdown",
   "id": "5bf2e388-f833-4cd0-b84f-32d4b52acf03",
   "metadata": {},
   "source": [
    "## Inference"
   ]
  },
  {
   "cell_type": "code",
   "execution_count": null,
   "id": "6f367d03-4cd2-4c62-90e0-c7c1385f77b9",
   "metadata": {},
   "outputs": [],
   "source": [
    "with model:\n",
    "    idata = pm.sample(random_seed=RANDOM_SEED)"
   ]
  },
  {
   "cell_type": "markdown",
   "id": "35d20af4-300c-46c9-99a7-a94b1393469a",
   "metadata": {},
   "source": [
    "We can see that we get no sampling warnings, and that plotting the MCMC traces shows no issues."
   ]
  },
  {
   "cell_type": "code",
   "execution_count": null,
   "id": "73946bb0-35e9-4fff-88d6-8f83a4312920",
   "metadata": {},
   "outputs": [],
   "source": [
    "az.plot_trace(idata, var_names=[\"effect\", \"sigma\"]);"
   ]
  },
  {
   "cell_type": "markdown",
   "id": "820a9a6d-e8c0-4e16-ad9c-753e11b61aea",
   "metadata": {},
   "source": [
    "We can also see that we are able to accurately recover the true discontinuity magnitude (left) and the standard deviation of the change in units between pre- and post-test (right)."
   ]
  },
  {
   "cell_type": "code",
   "execution_count": null,
   "id": "226bc91b-b769-4206-abb6-7c967dcf9196",
   "metadata": {},
   "outputs": [],
   "source": [
    "az.plot_posterior(\n",
    "    idata, var_names=[\"effect\", \"sigma\"], ref_val=[treatment_effect, sd], hdi_prob=0.95\n",
    ");"
   ]
  },
  {
   "cell_type": "markdown",
   "id": "50cb887a-c316-4abc-ae1e-a265fc667c8b",
   "metadata": {},
   "source": [
    "The most important thing is the posterior over the `effect` parameter. We can use that to base a judgement about the strength of the effect (e.g. through the 95% credible interval) or the presence/absence of an effect (e.g. through a Bayes Factor or ROPE)."
   ]
  },
  {
   "cell_type": "markdown",
   "id": "dce74778-c6cf-438d-8138-feec5aba513a",
   "metadata": {
    "tags": []
   },
   "source": [
    "## Counterfactual questions\n",
    "\n",
    "We can use posterior prediction to ask what would we expect to see if:\n",
    "- no units were exposed to the treatment (blue shaded region, which is very narrow)\n",
    "- all units were exposed to the treatment (orange shaded region).\n",
    "\n",
    "_Technical note:_ Formally we are doing posterior prediction of `y`. Running `pm.sample_posterior_predictive` multiple times with different random seeds will result in new and different samples of `y` each time. However, this is not the case (we are not formally doing posterior prediction) for `mu`. This is because `mu` is a deterministic function (`mu = x + delta*treated`), so for our already obtained posterior samples of `delta`, the values of `mu` will be entirely determined by the values of `x` and `treated` data)."
   ]
  },
  {
   "cell_type": "code",
   "execution_count": null,
   "id": "6b815800-9454-467f-8131-84686dc8dc85",
   "metadata": {
    "tags": []
   },
   "outputs": [],
   "source": [
    "# MODEL EXPECTATION WITHOUT TREATMENT ------------------------------------\n",
    "# probe data\n",
    "_x = np.linspace(np.min(df.x), np.max(df.x), 500)\n",
    "_treated = np.zeros(_x.shape)\n",
    "\n",
    "# posterior prediction (see technical note above)\n",
    "with model:\n",
    "    pm.set_data({\"x\": _x, \"treated\": _treated})\n",
    "    ppc = pm.sample_posterior_predictive(idata, var_names=[\"mu\", \"y\"])\n",
    "\n",
    "# plotting\n",
    "ax = plot_data(df)\n",
    "az.plot_hdi(\n",
    "    _x,\n",
    "    ppc.posterior_predictive[\"mu\"],\n",
    "    color=\"C0\",\n",
    "    hdi_prob=0.95,\n",
    "    ax=ax,\n",
    "    fill_kwargs={\"label\": r\"$\\mu$ untreated\"},\n",
    ")\n",
    "\n",
    "# MODEL EXPECTATION WITH TREATMENT ---------------------------------------\n",
    "# probe data\n",
    "_x = np.linspace(np.min(df.x), np.max(df.x), 500)\n",
    "_treated = np.ones(_x.shape)\n",
    "\n",
    "# posterior prediction (see technical note above)\n",
    "with model:\n",
    "    pm.set_data({\"x\": _x, \"treated\": _treated})\n",
    "    ppc = pm.sample_posterior_predictive(idata, var_names=[\"mu\", \"y\"])\n",
    "\n",
    "# plotting\n",
    "az.plot_hdi(\n",
    "    _x,\n",
    "    ppc.posterior_predictive[\"mu\"],\n",
    "    color=\"C1\",\n",
    "    hdi_prob=0.95,\n",
    "    ax=ax,\n",
    "    fill_kwargs={\"label\": r\"$\\mu$ treated\"},\n",
    ")\n",
    "ax.legend()"
   ]
  },
  {
   "cell_type": "markdown",
   "id": "1ce54998-7efa-478d-8f4c-b3e478181b72",
   "metadata": {},
   "source": [
    "The blue shaded region shows the 95% credible region of the expected value of the post-test measurement for a range of possible pre-test measures, in the case of no treatment. This is actually infinitely narrow because this particular model assumes $\\mu=x$ (see above).\n",
    "\n",
    "The orange shaded region shows the 95% credible region of the expected value of the post-test measurement for a range of possible pre-test measures in the case of treatment.\n",
    "\n",
    "Both are actually very interesting as examples of counterfactual inference. We did not observe any units that were untreated below the threshold, nor any treated units above the threshold. But assuming our model is a good description of reality, we can ask the counterfactual questions \"What if a unit above the threshold was treated?\" and \"What if a unit below the threshold was treated?\""
   ]
  },
  {
   "cell_type": "markdown",
   "id": "5c6304f8-8288-465d-9dd2-7eb7808e3229",
   "metadata": {},
   "source": [
    "## Summary\n",
    "In this notebook we have merely touched the surface of how to analyse data from regression discontinuity designs. Arguably, we have restricted our focus to almost the simplest possible case so that we can focus upon the core properties of the approach which allows causal claims to be made."
   ]
  },
  {
   "cell_type": "markdown",
   "id": "f17a9b3b-a3c2-4919-893b-569049db03d6",
   "metadata": {},
   "source": [
    "## Authors\n",
    "- Authored by [Benjamin T. Vincent](https://github.com/drbenvincent) in April 2022\n",
    "- Updated by Benjamin T. Vincent in February 2023 to run on PyMC v5"
   ]
  },
  {
   "cell_type": "markdown",
   "id": "9fd548d0-5977-4a19-935a-506e86063887",
   "metadata": {},
   "source": [
    "## Watermark"
   ]
  },
  {
   "cell_type": "code",
   "execution_count": null,
   "id": "265cd4a3-4e02-408c-afe6-80627f0663c4",
   "metadata": {},
   "outputs": [],
   "source": [
    "%load_ext watermark\n",
    "%watermark -n -u -v -iv -w -p pytensor,aeppl,xarray"
   ]
  },
  {
   "cell_type": "markdown",
   "id": "10c07992-2ed0-4038-8bbe-1d36d44403f1",
   "metadata": {},
   "source": [
    ":::{include} ../page_footer.md\n",
    ":::"
   ]
  }
 ],
 "metadata": {
  "jupytext": {
   "notebook_metadata_filter": "substitutions"
  },
  "kernelspec": {
   "display_name": "pymc_env",
   "language": "python",
   "name": "pymc_env"
  },
  "language_info": {
   "codemirror_mode": {
    "name": "ipython",
    "version": 3
   },
   "file_extension": ".py",
   "mimetype": "text/x-python",
   "name": "python",
   "nbconvert_exporter": "python",
   "pygments_lexer": "ipython3",
   "version": "3.11.0"
  }
 },
 "nbformat": 4,
 "nbformat_minor": 5
}
