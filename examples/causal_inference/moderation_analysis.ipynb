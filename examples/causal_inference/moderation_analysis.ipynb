{
 "cells": [
  {
   "cell_type": "markdown",
   "id": "dramatic-illustration",
   "metadata": {},
   "source": [
    "(moderation_analysis)=\n",
    "# Bayesian moderation analysis\n",
    "\n",
    ":::{post} March, 2022\n",
    ":tags: moderation, path analysis, \n",
    ":category: beginner\n",
    ":author: Benjamin T. Vincent\n",
    ":::\n",
    "\n",
    "This notebook covers Bayesian [moderation analysis](https://en.wikipedia.org/wiki/Moderation_(statistics)). This is appropriate when we believe that one predictor variable (the moderator) may influence the linear relationship between another predictor variable and an outcome. Here we look at an example where we look at the relationship between hours of training and muscle mass, where it may be that age (the moderating variable) affects this relationship.\n",
    "\n",
    "This is not intended as a one-stop solution to a wide variety of data analysis problems, rather, it is intended as an educational exposition to show how moderation analysis works and how to conduct Bayesian parameter estimation in PyMC.\n",
    "\n",
    "Note that this is sometimes mixed up with [mediation analysis](https://en.wikipedia.org/wiki/Mediation_(statistics)). Mediation analysis is appropriate when we believe the effect of a predictor variable upon an outcome variable is (partially, or fully) mediated through a 3rd mediating variable. Readers are referred to the textbook by {cite:t}`hayes2017introduction` as a comprehensive (albeit Frequentist) guide to moderation and related models as well as the PyMC example {ref}`mediation_analysis`."
   ]
  },
  {
   "cell_type": "code",
   "execution_count": null,
   "id": "characteristic-eight",
   "metadata": {},
   "outputs": [],
   "source": [
    "import arviz as az\n",
    "import matplotlib.pyplot as plt\n",
    "import numpy as np\n",
    "import pandas as pd\n",
    "import pymc as pm\n",
    "import xarray as xr\n",
    "\n",
    "from matplotlib.cm import ScalarMappable\n",
    "from matplotlib.colors import Normalize"
   ]
  },
  {
   "cell_type": "code",
   "execution_count": null,
   "id": "collaborative-product",
   "metadata": {},
   "outputs": [],
   "source": [
    "az.style.use(\"arviz-darkgrid\")\n",
    "%config InlineBackend.figure_format = 'retina'"
   ]
  },
  {
   "cell_type": "markdown",
   "id": "split-staff",
   "metadata": {},
   "source": [
    "First in the (hidden) code cell below, we define some helper functions for plotting that we will use later."
   ]
  },
  {
   "cell_type": "code",
   "execution_count": null,
   "id": "strange-touch",
   "metadata": {
    "tags": [
     "hide-input"
    ]
   },
   "outputs": [],
   "source": [
    "def make_scalarMap(m):\n",
    "    \"\"\"Create a Matplotlib `ScalarMappable` so we can use a consistent colormap across both data points and posterior predictive lines. We can use `scalarMap.cmap` to use as a colormap, and `scalarMap.to_rgba(moderator_value)` to grab a colour for a given moderator value.\"\"\"\n",
    "    return ScalarMappable(norm=Normalize(vmin=np.min(m), vmax=np.max(m)), cmap=\"viridis\")\n",
    "\n",
    "\n",
    "def plot_data(x, moderator, y, ax=None):\n",
    "    if ax is None:\n",
    "        fig, ax = plt.subplots(1, 1)\n",
    "    else:\n",
    "        fig = plt.gcf()\n",
    "\n",
    "    h = ax.scatter(x, y, c=moderator, cmap=scalarMap.cmap)\n",
    "    ax.set(xlabel=\"x\", ylabel=\"y\")\n",
    "    # colourbar for moderator\n",
    "    cbar = fig.colorbar(h)\n",
    "    cbar.ax.set_ylabel(\"moderator\")\n",
    "    return ax\n",
    "\n",
    "\n",
    "def posterior_prediction_plot(result, x, moderator, m_quantiles, ax=None):\n",
    "    \"\"\"Plot posterior predicted `y`\"\"\"\n",
    "    if ax is None:\n",
    "        fig, ax = plt.subplots(1, 1)\n",
    "\n",
    "    post = az.extract(result)\n",
    "    xi = xr.DataArray(np.linspace(np.min(x), np.max(x), 20), dims=[\"x_plot\"])\n",
    "    m_levels = result.constant_data[\"m\"].quantile(m_quantiles).rename({\"quantile\": \"m_level\"})\n",
    "\n",
    "    for p, m in zip(m_quantiles, m_levels):\n",
    "        y = post.β0 + post.β1 * xi + post.β2 * xi * m + post.β3 * m\n",
    "        region = y.quantile([0.025, 0.5, 0.975], dim=\"sample\")\n",
    "        ax.fill_between(\n",
    "            xi,\n",
    "            region.sel(quantile=0.025),\n",
    "            region.sel(quantile=0.975),\n",
    "            alpha=0.2,\n",
    "            color=scalarMap.to_rgba(m),\n",
    "            edgecolor=\"w\",\n",
    "        )\n",
    "        ax.plot(\n",
    "            xi,\n",
    "            region.sel(quantile=0.5),\n",
    "            color=scalarMap.to_rgba(m),\n",
    "            linewidth=2,\n",
    "            label=f\"{p*100}th percentile of moderator\",\n",
    "        )\n",
    "\n",
    "    ax.legend(fontsize=9)\n",
    "    ax.set(xlabel=\"x\", ylabel=\"y\")\n",
    "    return ax\n",
    "\n",
    "\n",
    "def plot_moderation_effect(result, m, m_quantiles, ax=None):\n",
    "    \"\"\"Spotlight graph\"\"\"\n",
    "\n",
    "    if ax is None:\n",
    "        fig, ax = plt.subplots(1, 1)\n",
    "\n",
    "    post = az.extract(result)\n",
    "\n",
    "    # calculate 95% CI region and median\n",
    "    xi = xr.DataArray(np.linspace(np.min(m), np.max(m), 20), dims=[\"x_plot\"])\n",
    "    rate = post.β1 + post.β2 * xi\n",
    "    region = rate.quantile([0.025, 0.5, 0.975], dim=\"sample\")\n",
    "\n",
    "    ax.fill_between(\n",
    "        xi,\n",
    "        region.sel(quantile=0.025),\n",
    "        region.sel(quantile=0.975),\n",
    "        alpha=0.2,\n",
    "        color=\"k\",\n",
    "        edgecolor=\"w\",\n",
    "    )\n",
    "\n",
    "    ax.plot(xi, region.sel(quantile=0.5), color=\"k\", linewidth=2)\n",
    "\n",
    "    # plot points at each percentile of m\n",
    "    percentile_list = np.array(m_quantiles) * 100\n",
    "    m_levels = np.percentile(m, percentile_list)\n",
    "    for p, m in zip(percentile_list, m_levels):\n",
    "        ax.plot(\n",
    "            m,\n",
    "            np.mean(post.β1) + np.mean(post.β2) * m,\n",
    "            \"o\",\n",
    "            c=scalarMap.to_rgba(m),\n",
    "            markersize=10,\n",
    "            label=f\"{p}th percentile of moderator\",\n",
    "        )\n",
    "\n",
    "    ax.legend(fontsize=9)\n",
    "\n",
    "    ax.set(\n",
    "        title=\"Spotlight graph\",\n",
    "        xlabel=\"$moderator$\",\n",
    "        ylabel=r\"$\\beta_1 + \\beta_2 \\cdot moderator$\",\n",
    "    )"
   ]
  },
  {
   "cell_type": "markdown",
   "id": "light-trustee",
   "metadata": {},
   "source": [
    "# Does the effect of training upon muscularity decrease with age?\n",
    "\n",
    "I've taken inspiration from a blog post {cite:t}`vandenbergSPSS` which examines whether age influences (moderates) the effect of training on muscle percentage. We might speculate that more training results in higher muscle mass, at least for younger people. But it might be the case that the relationship between training and muscle mass changes with age - perhaps training is less effective at increasing muscle mass in older age?\n",
    "\n",
    "The schematic box and arrow notation often used to represent moderation is shown by an arrow from the moderating variable to the line between a predictor and an outcome variable.\n",
    "\n",
    "![](moderation_figure.png)\n",
    "\n",
    "It can be useful to use consistent notation, so we will define:\n",
    "- $x$ as the main predictor variable. In this example it is training.\n",
    "- $y$ as the outcome variable. In this example it is muscle percentage.\n",
    "- $m$ as the moderator. In this example it is age.\n",
    "\n",
    "## The moderation model\n",
    "\n",
    "While the visual schematic (above) is a useful shorthand to understand complex models when you already know what moderation is, you can't derive it from the diagram alone. So let us formally specify the moderation model - it defines an outcome variable $y$ as:\n",
    "\n",
    "$$\n",
    "y \\sim \\mathrm{Normal}(\\beta_0 + \\beta_1 \\cdot x + \\beta_2 \\cdot x \\cdot m + \\beta_3 \\cdot m, \\sigma^2)\n",
    "$$\n",
    "\n",
    "where $y$, $x$, and $m$ are your observed data, and the following are the model parameters:\n",
    "- $\\beta_0$ is the intercept, its value does not have that much importance in the interpretation of this model.\n",
    "- $\\beta_1$ is the rate at which $y$ (muscle percentage) increases per unit of $x$ (training hours). \n",
    "- $\\beta_2$ is the coefficient for the interaction term $x \\cdot m$.\n",
    "- $\\beta_3$ is the rate at which $y$ (muscle percentage) increases per unit of $m$ (age). \n",
    "- $\\sigma$ is the standard deviation of the observation noise.\n",
    "\n",
    "We can see that the mean $y$ is simply a multiple linear regression with an interaction term between the two predictors, $x$ and $m$. \n",
    "\n",
    "We can get some insight into why this is the case by thinking about this as a multiple linear regression with $x$ and $m$ as predictor variables, but where the value of $m$ influences the relationship between $x$ and $y$. This is achieved by making the regression coefficient for $x$ is a function of $m$:\n",
    "\n",
    "$$\n",
    "y \\sim \\mathrm{Normal}(\\beta_0 + f(m) \\cdot x + \\beta_3 \\cdot m, \\sigma^2)\n",
    "$$\n",
    "\n",
    "and if we define that as a linear function, $f(m) = \\beta_1 + \\beta_2 \\cdot m$, we get\n",
    "\n",
    "$$\n",
    "y \\sim \\mathrm{Normal}(\\beta_0 + (\\beta_1 + \\beta_2 \\cdot m) \\cdot x + \\beta_3 \\cdot m, \\sigma^2)\n",
    "$$\n",
    "\n",
    "We can use $f(m) = \\beta_1 + \\beta_2 \\cdot m$ later to visualise the moderation effect."
   ]
  },
  {
   "cell_type": "markdown",
   "id": "weighted-announcement",
   "metadata": {},
   "source": [
    "## Import data\n",
    "First, we will load up our example data and do some basic data visualisation. The dataset is taken from {cite:t}`vandenbergSPSS` but it is unclear if this corresponds to real life research data or if it was simulated."
   ]
  },
  {
   "cell_type": "code",
   "execution_count": null,
   "id": "prime-construction",
   "metadata": {},
   "outputs": [],
   "source": [
    "def load_data():\n",
    "    try:\n",
    "        df = pd.read_csv(\"../data/muscle-percent-males-interaction.csv\")\n",
    "    except:\n",
    "        df = pd.read_csv(pm.get_data(\"muscle-percent-males-interaction.csv\"))\n",
    "\n",
    "    x = df[\"thours\"].values\n",
    "    m = df[\"age\"].values\n",
    "    y = df[\"mperc\"].values\n",
    "    return (x, y, m)\n",
    "\n",
    "\n",
    "x, y, m = load_data()\n",
    "\n",
    "# Make a scalar color map for this dataset (Just for plotting, nothing to do with inference)\n",
    "scalarMap = make_scalarMap(m)"
   ]
  },
  {
   "cell_type": "code",
   "execution_count": null,
   "id": "pretty-croatia",
   "metadata": {},
   "outputs": [],
   "source": [
    "fig, ax = plt.subplots(1, 3, figsize=(14, 3))\n",
    "\n",
    "ax[0].hist(x, alpha=0.5)\n",
    "ax[0].set(xlabel=\"training, $x$\")\n",
    "\n",
    "ax[1].hist(m, alpha=0.5)\n",
    "ax[1].set(xlabel=\"age, $m$\")\n",
    "\n",
    "ax[2].hist(y, alpha=0.5)\n",
    "ax[2].set(xlabel=\"muscle percentage, $y$\");"
   ]
  },
  {
   "cell_type": "markdown",
   "id": "reflected-bonus",
   "metadata": {},
   "source": [
    "## Define the PyMC model and conduct inference"
   ]
  },
  {
   "cell_type": "code",
   "execution_count": null,
   "id": "hollywood-throat",
   "metadata": {},
   "outputs": [],
   "source": [
    "def model_factory(x, m, y):\n",
    "    with pm.Model() as model:\n",
    "        x = pm.ConstantData(\"x\", x)\n",
    "        m = pm.ConstantData(\"m\", m)\n",
    "        # priors\n",
    "        β0 = pm.Normal(\"β0\", mu=0, sigma=10)\n",
    "        β1 = pm.Normal(\"β1\", mu=0, sigma=10)\n",
    "        β2 = pm.Normal(\"β2\", mu=0, sigma=10)\n",
    "        β3 = pm.Normal(\"β3\", mu=0, sigma=10)\n",
    "        σ = pm.HalfCauchy(\"σ\", 1)\n",
    "        # likelihood\n",
    "        y = pm.Normal(\"y\", mu=β0 + (β1 * x) + (β2 * x * m) + (β3 * m), sigma=σ, observed=y)\n",
    "\n",
    "    return model"
   ]
  },
  {
   "cell_type": "code",
   "execution_count": null,
   "id": "featured-gilbert",
   "metadata": {},
   "outputs": [],
   "source": [
    "model = model_factory(x, m, y)"
   ]
  },
  {
   "cell_type": "markdown",
   "id": "ecological-diesel",
   "metadata": {},
   "source": [
    "Plot the model graph to confirm it is as intended."
   ]
  },
  {
   "cell_type": "code",
   "execution_count": null,
   "id": "hydraulic-hanging",
   "metadata": {},
   "outputs": [],
   "source": [
    "pm.model_to_graphviz(model)"
   ]
  },
  {
   "cell_type": "code",
   "execution_count": null,
   "id": "stable-booth",
   "metadata": {},
   "outputs": [],
   "source": [
    "with model:\n",
    "    result = pm.sample(draws=1000, tune=1000, random_seed=42, nuts={\"target_accept\": 0.9})"
   ]
  },
  {
   "cell_type": "markdown",
   "id": "beneficial-understanding",
   "metadata": {},
   "source": [
    "Visualise the trace to check for convergence."
   ]
  },
  {
   "cell_type": "code",
   "execution_count": null,
   "id": "severe-external",
   "metadata": {},
   "outputs": [],
   "source": [
    "az.plot_trace(result);"
   ]
  },
  {
   "cell_type": "markdown",
   "id": "ready-lover",
   "metadata": {},
   "source": [
    "We have good chain mixing and the posteriors for each chain look very similar, so no problems in that regard."
   ]
  },
  {
   "cell_type": "markdown",
   "id": "painted-japan",
   "metadata": {},
   "source": [
    "## Visualise the important parameters\n",
    "\n",
    "First we will use a pair plot to look at joint posterior distributions. This might help us identify any estimation issues with the interaction term (see the discussion below about multicollinearity)."
   ]
  },
  {
   "cell_type": "code",
   "execution_count": null,
   "id": "familiar-casting",
   "metadata": {},
   "outputs": [],
   "source": [
    "az.plot_pair(\n",
    "    result,\n",
    "    marginals=True,\n",
    "    point_estimate=\"median\",\n",
    "    figsize=(12, 12),\n",
    "    scatter_kwargs={\"alpha\": 0.01},\n",
    ");"
   ]
  },
  {
   "cell_type": "markdown",
   "id": "swiss-contrast",
   "metadata": {},
   "source": [
    "And just for the sake of completeness, we can plot the posterior distributions for each of the $\\beta$ parameters and use this to arrive at research conclusions."
   ]
  },
  {
   "cell_type": "code",
   "execution_count": null,
   "id": "solid-delta",
   "metadata": {},
   "outputs": [],
   "source": [
    "az.plot_posterior(result, var_names=[\"β1\", \"β2\", \"β3\"], figsize=(14, 4));"
   ]
  },
  {
   "cell_type": "markdown",
   "id": "automatic-removal",
   "metadata": {},
   "source": [
    "For example, from an estimation (in contrast to a hypothesis testing) perspective, we could look at the posterior over $\\beta_2$ and claim a credibly less than zero moderation effect."
   ]
  },
  {
   "cell_type": "markdown",
   "id": "enhanced-agent",
   "metadata": {},
   "source": [
    "## Posterior predictive checks\n",
    "Define a set of quantiles of $m$ that we are interested in visualising."
   ]
  },
  {
   "cell_type": "code",
   "execution_count": null,
   "id": "fleet-mixer",
   "metadata": {},
   "outputs": [],
   "source": [
    "m_quantiles = [0.025, 0.25, 0.5, 0.75, 0.975]"
   ]
  },
  {
   "cell_type": "markdown",
   "id": "changing-residence",
   "metadata": {},
   "source": [
    "### Visualisation in data space\n",
    "Here we will plot the data alongside model posterior predictive checks. This can be a useful visual method of comparing the model predictions against the data."
   ]
  },
  {
   "cell_type": "code",
   "execution_count": null,
   "id": "conservative-contrast",
   "metadata": {},
   "outputs": [],
   "source": [
    "fig, ax = plt.subplots(figsize=(10, 6))\n",
    "ax = plot_data(x, m, y, ax=ax)\n",
    "posterior_prediction_plot(result, x, m, m_quantiles, ax=ax)\n",
    "ax.set_title(\"Data and posterior prediction\");"
   ]
  },
  {
   "cell_type": "markdown",
   "id": "permanent-blocking",
   "metadata": {},
   "source": [
    "### Spotlight graph\n",
    "We can also visualise the moderation effect by plotting $\\beta_1 + \\beta_2 \\cdot m$ as a function of the $m$. This was named a spotlight graph, see {cite:t}`spiller2013spotlights` and {cite:t}`mcclelland2017multicollinearity`."
   ]
  },
  {
   "cell_type": "code",
   "execution_count": null,
   "id": "subtle-thing",
   "metadata": {},
   "outputs": [],
   "source": [
    "fig, ax = plt.subplots(1, 2, figsize=(10, 5))\n",
    "plot_moderation_effect(result, m, m_quantiles, ax[0])\n",
    "az.plot_posterior(result, var_names=\"β2\", ax=ax[1]);"
   ]
  },
  {
   "cell_type": "markdown",
   "id": "young-tragedy",
   "metadata": {},
   "source": [
    "The expression $\\beta_1 + \\beta_2 \\cdot \\text{moderator}$ defines the rate of change of the outcome (muscle percentage) per unit of $x$ (training hours/week). We can see that as age (the moderator) increases, this effect of training hours/week on muscle percentage decreases."
   ]
  },
  {
   "cell_type": "markdown",
   "id": "plastic-privacy",
   "metadata": {},
   "source": [
    "## Related issues: mean centering and multicollinearity\n",
    "\n",
    "Readers should be aware that there are issues around mean-centering and multicollinearity. The original [SPSS Moderation Regression Tutorial](https://www.spss-tutorials.com/spss-regression-with-moderation-interaction-effect/) did mean-centre the predictor variables $x$ and $m$. This will have a downstream effect upon the interaction term $x \\cdot m$.\n",
    "\n",
    "One effect of mean centering is to change the interpretation of the parameter estimates. In this notebook, we did not mean center the variables which will affect the parameter estimates and their interpretation. It is not that one is correct or incorrect, but one must be cognisant of how mean-centering (or not) affects the interpretation of parameter estimates. Readers are again directed to {cite:t}`hayes2017introduction` for a more in-depth consideration of mean-centering in moderation analyses.\n",
    "\n",
    "Another issue, particularly relevant to moderation analysis is [multicollinearity](https://en.wikipedia.org/wiki/Multicollinearity), where one predictor variable is well-described as a linear combination of other predictors. This is clearly the case in moderation analysis as the interaction term $m \\cdot x$ is by definition a linear combination of $x$ and $m$.\n",
    "\n",
    "{cite:t}`iacobucci2016mean` explored the issues of mean-centering and multicollinearity and conclude:\n",
    " > When all is said and done, should a researcher mean center the X1 and X2 variables before computing a product term X1X2 to include in a moderated multiple regression? It depends. Mean centering is advisable when: (1) the predictor variables are measured on scales with arbitrary zeros and the researcher seeks to enhance the interpretation of the regression results vis-à-vis the variables’ means rather than the arbitrary zero points, or (2) the research questions involve testing the main effect terms in addition to the interaction term and the researcher seeks to obtain these statistical tests without the interference of the so-called nonessential multicollinearity. On the other hand, mean centering may be bypassed when: (1) the research question involves primarily the test of the interaction term, with no regard for the lower order main effect terms, or (2) the research question involves primarily the assessment of the overall fit of the model, the R2, with no interest in apportioning the explained variability across the predictors, main effects or interaction alike.\n",
    " \n",
    "This was critiqued however by {cite:t}`mcclelland2017multicollinearity` who claimed that {cite:t}`iacobucci2016mean` made a number of errors, and that multicollinearity is a red herring:\n",
    "\n",
    "> Multicollinearity is irrelevant to the search for moderator variables, contrary to the implications of Iacobucci, Schneider, Popovich, and Bakamitsos (Behavior Research Methods, 2016, this issue). Multicollinearity is like the red herring in a mystery novel that distracts the statistical detective from the pursuit of a true moderator relationship.\n",
    "\n",
    "They state:\n",
    "\n",
    "> Researchers using MMR [moderated multiple regression] need not compute any multicollinearity diagnostics nor worry about it at all. They need not use mean-centering or the orthogonal transformation or do anything else to avoid the purported problems of multicollinearity. The only purpose of those transformations is to facilitate understanding of MMR models.\n",
    "\n",
    "Bearing in mind {cite:t}`mcclelland2017multicollinearity` took a frequentist hypothesis testing (not a Bayesian approach) their take-home points can be paraphrased as:\n",
    "1. Fit the regression model, $y \\sim \\mathrm{Normal}(\\beta_0 + \\beta_1 \\cdot x + \\beta_2 \\cdot x \\cdot m + \\beta_3 \\cdot m, \\sigma^2)$, with original (not mean-centred) data.\n",
    "2. If the main interest is on the moderation effect, then focus upon $\\beta_2$.\n",
    "3. Transformations are useful if conditional relationships are to be highlighted.\n",
    "4. \"... researchers who wish to examine all possible conditional relationships or to help their readers who might want to consider other conditional relationships, should construct the [spotlight] graph...\"\n",
    "\n",
    "But readers are strongly encouraged to read {cite:t}`mcclelland2017multicollinearity` for more details, as well as the reply from {cite:t}`iacobucci2017mean`. Readers should also be aware that there are conflicting opinions and recommendations about mean centering etc in textbooks (see Further Reading below), some of which are published before 2017. None of these textbooks explicitly cite {cite:t}`mcclelland2017multicollinearity`, so it is unclear if the textbook authors are unaware of, agree with, or disagree with {cite:t}`mcclelland2017multicollinearity`.\n",
    "\n",
    "## Further reading\n",
    "- Further information about the 'moderation effect', or what {cite:t}`mcclelland2017multicollinearity` called a spotlight graphs, can be found in {cite:t}`bauer2005probing` and {cite:t}`spiller2013spotlights`. Although these papers take a frequentist (not Bayesian) perspective.\n",
    "- {cite:t}`zhang2017moderation` compare maximum likelihood and Bayesian methods for moderation analysis with missing predictor variables.\n",
    "- Multicollinearity, data centering, and linear models with interaction terms are also discussed in a number of prominent Bayesian text books {cite:p}`gelman2013bayesian, gelman2020regression,kruschke2014doing,mcelreath2018statistical`."
   ]
  },
  {
   "attachments": {},
   "cell_type": "markdown",
   "id": "bf186da9",
   "metadata": {},
   "source": [
    "## Authors\n",
    "- Authored by Benjamin T. Vincent in June 2021\n",
    "- Updated by Benjamin T. Vincent in March 2022\n",
    "- Updated by Benjamin T. Vincent in February 2023 to run on PyMC v5\n",
    "- Updated to use `az.extract` by [Benjamin T. Vincent](https://github.com/drbenvincent) in February 2023 ([pymc-examples#522](https://github.com/pymc-devs/pymc-examples/pull/522))"
   ]
  },
  {
   "cell_type": "markdown",
   "id": "bibliographic-battlefield",
   "metadata": {},
   "source": [
    "## References\n",
    ":::{bibliography}\n",
    ":filter: docname in docnames\n",
    ":::"
   ]
  },
  {
   "cell_type": "markdown",
   "id": "e0c93f1a",
   "metadata": {},
   "source": [
    "## Watermark"
   ]
  },
  {
   "cell_type": "code",
   "execution_count": null,
   "id": "coordinated-gravity",
   "metadata": {},
   "outputs": [],
   "source": [
    "%load_ext watermark\n",
    "%watermark -n -u -v -iv -w -p pytensor,aeppl,xarray"
   ]
  },
  {
   "cell_type": "markdown",
   "id": "88821b53",
   "metadata": {},
   "source": [
    ":::{include} ../page_footer.md\n",
    ":::"
   ]
  }
 ],
 "metadata": {
  "kernelspec": {
   "display_name": "pymc_env",
   "language": "python",
   "name": "python3"
  },
  "language_info": {
   "codemirror_mode": {
    "name": "ipython",
    "version": 3
   },
   "file_extension": ".py",
   "mimetype": "text/x-python",
   "name": "python",
   "nbconvert_exporter": "python",
   "pygments_lexer": "ipython3",
   "version": "3.10.9"
  },
  "vscode": {
   "interpreter": {
    "hash": "087adf61916f8b9a562e3919cc7201fe0599d07c87f54bc57443476208d67f09"
   }
  }
 },
 "nbformat": 4,
 "nbformat_minor": 5
}
