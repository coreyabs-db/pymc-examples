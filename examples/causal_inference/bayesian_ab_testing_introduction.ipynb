{
 "cells": [
  {
   "cell_type": "markdown",
   "id": "15107005-e1a2-49e4-ac0f-00f6524ee7f6",
   "metadata": {},
   "source": [
    "(bayesian_ab_testing_intro)=\n",
    "# Introduction to Bayesian A/B Testing\n",
    "\n",
    ":::{post} May 23, 2021\n",
    ":tags: case study, ab test\n",
    ":category: beginner, tutorial\n",
    ":author: Cuong Duong\n",
    ":::"
   ]
  },
  {
   "cell_type": "code",
   "execution_count": null,
   "id": "b48cad3d",
   "metadata": {
    "execution": {
     "iopub.execute_input": "2022-06-01T18:53:36.476575Z",
     "iopub.status.busy": "2022-06-01T18:53:36.476139Z",
     "iopub.status.idle": "2022-06-01T18:53:39.372124Z",
     "shell.execute_reply": "2022-06-01T18:53:39.370978Z"
    }
   },
   "outputs": [],
   "source": [
    "from dataclasses import dataclass\n",
    "from typing import Dict, List, Union\n",
    "\n",
    "import arviz as az\n",
    "import matplotlib.pyplot as plt\n",
    "import numpy as np\n",
    "import pandas as pd\n",
    "import pymc as pm\n",
    "\n",
    "from scipy.stats import bernoulli, expon"
   ]
  },
  {
   "cell_type": "code",
   "execution_count": null,
   "id": "30cc5507",
   "metadata": {
    "execution": {
     "iopub.execute_input": "2022-06-01T18:53:39.376825Z",
     "iopub.status.busy": "2022-06-01T18:53:39.376264Z",
     "iopub.status.idle": "2022-06-01T18:53:39.388197Z",
     "shell.execute_reply": "2022-06-01T18:53:39.387403Z"
    }
   },
   "outputs": [],
   "source": [
    "RANDOM_SEED = 4000\n",
    "rng = np.random.default_rng(RANDOM_SEED)\n",
    "\n",
    "%config InlineBackend.figure_format = 'retina'\n",
    "az.style.use(\"arviz-darkgrid\")\n",
    "\n",
    "plotting_defaults = dict(\n",
    "    bins=50,\n",
    "    kind=\"hist\",\n",
    "    textsize=10,\n",
    ")"
   ]
  },
  {
   "cell_type": "markdown",
   "id": "74f9d767",
   "metadata": {},
   "source": [
    "This notebook demonstrates how to implement a Bayesian analysis of an A/B test. We implement the models discussed in VWO's Bayesian A/B Testing Whitepaper {cite:p}`stucchio2015bayesian`, and discuss the effect of different prior choices for these models. This notebook does _not_ discuss other related topics like how to choose a prior, early stopping, and power analysis.\n",
    "\n",
    "#### What is A/B testing?\n",
    "\n",
    "From https://vwo.com/ab-testing/:\n",
    "\n",
    "> A/B testing (also known as split testing) is a process of showing two variants of the same web page to different segments of website visitors at the same time and comparing which variant drives more conversions.\n",
    "\n",
    "Specifically, A/B tests are often used in the software industry to determine whether a new feature or changes to an existing feature should be released to users, and the impact of the change on core product metrics (\"conversions\"). Furthermore:\n",
    "\n",
    "* We can test more than two variants at the same time. We'll be dealing with how to analyse these tests in this notebook as well.\n",
    "* Exactly what \"conversions\" means can vary between tests, but two classes of conversions we'll focus on are:\n",
    "  * Bernoulli conversions - a flag for whether the visitor did the target action or not (e.g. completed at least one purchase).\n",
    "  * Value conversions - a real value per visitor (e.g. the dollar revenue, which could also be 0).\n",
    " \n",
    "If you've studied [controlled experiments](https://www.khanacademy.org/science/high-school-biology/hs-biology-foundations/hs-biology-and-the-scientific-method/a/experiments-and-observations) in the context of biology, psychology, and other sciences before, A/B testing will sound a lot like a controlled experiment - and that's because it is! The concept of a control group and treatment groups, and the principles of experimental design, are the building blocks of A/B testing. The main difference is the context in which the experiment is run: A/B tests are typically run by online software companies, where the subjects are visitors to the website / app, the outcomes of interest are behaviours that can be tracked like signing up, purchasing a product, and returning to the website.\n",
    "\n",
    "A/B tests are typically analysed with traditional hypothesis tests (see [t-test](https://en.wikipedia.org/wiki/Student%27s_t-test)), but another method is to use Bayesian statistics. This allows us to incorporate prior distributions and produce a range of outcomes to the questions \"is there a winning variant?\" and \"by how much?\"."
   ]
  },
  {
   "cell_type": "markdown",
   "id": "9592100b",
   "metadata": {},
   "source": [
    "### Bernoulli Conversions"
   ]
  },
  {
   "cell_type": "markdown",
   "id": "448ef06b",
   "metadata": {},
   "source": [
    "Let's first deal with a simple two-variant A/B test, where the metric of interest is the proportion of users performing an action (e.g. purchase at least one item), a bernoulli conversion. Our variants are called A and B, where A refers to the existing landing page and B refers to the new page we want to test. The outcome that we want to perform statistical inference on is whether B is \"better\" than A, which is depends on the underlying \"true\" conversion rates for each variant. We can formulate this as follows:\n",
    "\n",
    "Let $\\theta_A, \\theta_B$ be the true conversion rates for variants A and B respectively. Then the outcome of whether a visitor converts in variant A is the random variable $\\mathrm{Bernoulli}(\\theta_A)$, and $\\mathrm{Bernoulli}(\\theta_B)$ for variant B. If we assume that visitors' behaviour on the landing page is independent of other visitors (a fair assumption), then the total conversions $y$ for a variant has the Binomial distribution:\n",
    "\n",
    "$$y \\sim \\sum^N\\mathrm{Bernoulli}(\\theta) = \\mathrm{Binomial}(N, \\theta)$$\n",
    "\n",
    "Under a Bayesian framework, we assume the true conversion rates $\\theta_A, \\theta_B$ cannot be known, and instead they each follow a Beta distribution. The underlying rates are assumed to be independent (we would split traffic between each variant randomly, so one variant would not affect the other): \n",
    "\n",
    "$$\\theta_A \\sim \\theta_B \\sim \\mathrm{Beta}(\\alpha, \\beta)$$\n",
    "\n",
    "The observed data for the duration of the A/B test (the likelihoood distribution) is: the number of visitors landing on the page `N`, and the number of visitors purchasing at least one item `y`:\n",
    "\n",
    "$$y_A \\sim \\mathrm{Binomial}(n = N_A, p = \\theta_A), y_B \\sim \\mathrm{Binomial}(n = N_B, p = \\theta_B)$$\n",
    "\n",
    "With this, we can sample from the joint posterior of $\\theta_A, \\theta_B$. \n",
    "\n",
    "You may have noticed that the Beta distribution is the conjugate prior for the Binomial, so we don't need MCMC sampling to estimate the posterior (the exact solution can be found in the VWO paper). We'll still demonstrate how sampling can be done with PyMC though, and doing this makes it easier to extend the model with different priors, dependency assumptions, etc.\n",
    "\n",
    "Finally, remember that our outcome of interest is whether B is better than A. A common measure in practice for whether B is better than is the _relative uplift in conversion rates_, i.e. the percentage difference of $\\theta_B$ over $\\theta_A$:\n",
    "\n",
    "$$\\mathrm{reluplift}_B = \\theta_B / \\theta_A - 1$$\n",
    "\n",
    "We'll implement this model setup in PyMC below."
   ]
  },
  {
   "cell_type": "code",
   "execution_count": null,
   "id": "a5376bb4",
   "metadata": {
    "execution": {
     "iopub.execute_input": "2022-06-01T18:53:39.391621Z",
     "iopub.status.busy": "2022-06-01T18:53:39.391347Z",
     "iopub.status.idle": "2022-06-01T18:53:39.395688Z",
     "shell.execute_reply": "2022-06-01T18:53:39.394570Z"
    }
   },
   "outputs": [],
   "source": [
    "@dataclass\n",
    "class BetaPrior:\n",
    "    alpha: float\n",
    "    beta: float"
   ]
  },
  {
   "cell_type": "code",
   "execution_count": null,
   "id": "a0c80bf2",
   "metadata": {
    "execution": {
     "iopub.execute_input": "2022-06-01T18:53:39.399745Z",
     "iopub.status.busy": "2022-06-01T18:53:39.399180Z",
     "iopub.status.idle": "2022-06-01T18:53:39.403589Z",
     "shell.execute_reply": "2022-06-01T18:53:39.402642Z"
    }
   },
   "outputs": [],
   "source": [
    "@dataclass\n",
    "class BinomialData:\n",
    "    trials: int\n",
    "    successes: int"
   ]
  },
  {
   "cell_type": "code",
   "execution_count": null,
   "id": "b625c349",
   "metadata": {
    "execution": {
     "iopub.execute_input": "2022-06-01T18:53:39.406921Z",
     "iopub.status.busy": "2022-06-01T18:53:39.406669Z",
     "iopub.status.idle": "2022-06-01T18:53:39.412545Z",
     "shell.execute_reply": "2022-06-01T18:53:39.412035Z"
    }
   },
   "outputs": [],
   "source": [
    "class ConversionModelTwoVariant:\n",
    "    def __init__(self, priors: BetaPrior):\n",
    "        self.priors = priors\n",
    "\n",
    "    def create_model(self, data: List[BinomialData]) -> pm.Model:\n",
    "        trials = [d.trials for d in data]\n",
    "        successes = [d.successes for d in data]\n",
    "        with pm.Model() as model:\n",
    "            p = pm.Beta(\"p\", alpha=self.priors.alpha, beta=self.priors.beta, shape=2)\n",
    "            obs = pm.Binomial(\"y\", n=trials, p=p, shape=2, observed=successes)\n",
    "            reluplift = pm.Deterministic(\"reluplift_b\", p[1] / p[0] - 1)\n",
    "        return model"
   ]
  },
  {
   "cell_type": "markdown",
   "id": "0e7ba4f2",
   "metadata": {},
   "source": [
    "Now that we've defined a class that can take a prior and our synthetic data as inputs, our first step is to choose an appropriate prior. There are a few things to consider when doing this in practice, but for the purpose of this notebook we'll focus on the following:\n",
    "\n",
    "* We assume that the same Beta prior is set for each variant.\n",
    "* An _uninformative_ or _weakly informative_ prior occurs when we set low values for `alpha` and `beta`. For example, `alpha = 1, beta = 1` leads to a uniform distribution as a prior. If we were considering one distribution in isolation, setting this prior is a statement that we don't know anything about the value of the parameter, nor our confidence around it. In the context of A/B testing however, we're interested in comparing the _relative uplift_ of one variant over another. With a weakly informative Beta prior, this relative uplift distribution is very wide, so we're implicitly saying that the variants could be very different to each other.\n",
    "* A _strong_ prior occurs when we set high values for `alpha` and `beta`. Contrary to the above, a strong prior would imply that the relative uplift distribution is thin, i.e. our prior belief is that the variants are not very different from each other.\n",
    "\n",
    "We illustrate these points with prior predictive checks."
   ]
  },
  {
   "cell_type": "markdown",
   "id": "dc675d9b",
   "metadata": {},
   "source": [
    "#### Prior predictive checks"
   ]
  },
  {
   "cell_type": "markdown",
   "id": "8e1f6ca4",
   "metadata": {},
   "source": [
    "Note that we can pass in arbitrary values for the observed data in these prior predictive checks. PyMC will not use that data when sampling from the prior predictive distribution."
   ]
  },
  {
   "cell_type": "code",
   "execution_count": null,
   "id": "4a103373",
   "metadata": {
    "execution": {
     "iopub.execute_input": "2022-06-01T18:53:39.415596Z",
     "iopub.status.busy": "2022-06-01T18:53:39.415337Z",
     "iopub.status.idle": "2022-06-01T18:53:39.418295Z",
     "shell.execute_reply": "2022-06-01T18:53:39.417874Z"
    }
   },
   "outputs": [],
   "source": [
    "weak_prior = ConversionModelTwoVariant(BetaPrior(alpha=100, beta=100))"
   ]
  },
  {
   "cell_type": "code",
   "execution_count": null,
   "id": "1d8702af",
   "metadata": {
    "execution": {
     "iopub.execute_input": "2022-06-01T18:53:39.420933Z",
     "iopub.status.busy": "2022-06-01T18:53:39.420683Z",
     "iopub.status.idle": "2022-06-01T18:53:39.423573Z",
     "shell.execute_reply": "2022-06-01T18:53:39.423001Z"
    }
   },
   "outputs": [],
   "source": [
    "strong_prior = ConversionModelTwoVariant(BetaPrior(alpha=10000, beta=10000))"
   ]
  },
  {
   "cell_type": "code",
   "execution_count": null,
   "id": "9e1e0769",
   "metadata": {
    "execution": {
     "iopub.execute_input": "2022-06-01T18:53:39.427592Z",
     "iopub.status.busy": "2022-06-01T18:53:39.427300Z",
     "iopub.status.idle": "2022-06-01T18:53:43.647086Z",
     "shell.execute_reply": "2022-06-01T18:53:43.645945Z"
    }
   },
   "outputs": [],
   "source": [
    "with weak_prior.create_model(data=[BinomialData(1, 1), BinomialData(1, 1)]):\n",
    "    weak_prior_predictive = pm.sample_prior_predictive(samples=10000, return_inferencedata=False)"
   ]
  },
  {
   "cell_type": "code",
   "execution_count": null,
   "id": "4df134b8",
   "metadata": {
    "execution": {
     "iopub.execute_input": "2022-06-01T18:53:43.652280Z",
     "iopub.status.busy": "2022-06-01T18:53:43.651840Z",
     "iopub.status.idle": "2022-06-01T18:53:44.243767Z",
     "shell.execute_reply": "2022-06-01T18:53:44.242862Z"
    }
   },
   "outputs": [],
   "source": [
    "with strong_prior.create_model(data=[BinomialData(1, 1), BinomialData(1, 1)]):\n",
    "    strong_prior_predictive = pm.sample_prior_predictive(samples=10000, return_inferencedata=False)"
   ]
  },
  {
   "cell_type": "code",
   "execution_count": null,
   "id": "a3d30bb9",
   "metadata": {
    "execution": {
     "iopub.execute_input": "2022-06-01T18:53:44.248078Z",
     "iopub.status.busy": "2022-06-01T18:53:44.247715Z",
     "iopub.status.idle": "2022-06-01T18:53:44.713458Z",
     "shell.execute_reply": "2022-06-01T18:53:44.712846Z"
    }
   },
   "outputs": [],
   "source": [
    "fig, axs = plt.subplots(2, 1, figsize=(7, 7), sharex=True)\n",
    "az.plot_posterior(weak_prior_predictive[\"reluplift_b\"], ax=axs[0], **plotting_defaults)\n",
    "axs[0].set_title(f\"B vs. A Rel Uplift Prior Predictive, {weak_prior.priors}\", fontsize=10)\n",
    "axs[0].axvline(x=0, color=\"red\")\n",
    "az.plot_posterior(strong_prior_predictive[\"reluplift_b\"], ax=axs[1], **plotting_defaults)\n",
    "axs[1].set_title(f\"B vs. A Rel Uplift Prior Predictive, {strong_prior.priors}\", fontsize=10)\n",
    "axs[1].axvline(x=0, color=\"red\");"
   ]
  },
  {
   "cell_type": "markdown",
   "id": "f7757126",
   "metadata": {},
   "source": [
    "With the weak prior our 94% HDI for the relative uplift for B over A is roughly [-20%, +20%], whereas it is roughly [-2%, +2%] with the strong prior. This is effectively the \"starting point\" for the relative uplift distribution, and will affect how the observed conversions translate to the posterior distribution.\n",
    "\n",
    "How we choose these priors in practice depends on broader context of the company running the A/B tests. A strong prior can help guard against false discoveries, but may require more data to detect winning variants when they exist (and more data = more time required running the test). A weak prior gives more weight to the observed data, but could also lead to more false discoveries as a result of early stopping issues.\n",
    "\n",
    "Below we'll walk through the inference results from two different prior choices."
   ]
  },
  {
   "cell_type": "markdown",
   "id": "87c03f75",
   "metadata": {},
   "source": [
    "#### Data"
   ]
  },
  {
   "cell_type": "markdown",
   "id": "5b999654",
   "metadata": {},
   "source": [
    "We generate two datasets: one where the \"true\" conversion rate of each variant is the same, and one where variant B has a higher true conversion rate."
   ]
  },
  {
   "cell_type": "code",
   "execution_count": null,
   "id": "7631f294",
   "metadata": {
    "execution": {
     "iopub.execute_input": "2022-06-01T18:53:44.717335Z",
     "iopub.status.busy": "2022-06-01T18:53:44.716840Z",
     "iopub.status.idle": "2022-06-01T18:53:44.720982Z",
     "shell.execute_reply": "2022-06-01T18:53:44.720467Z"
    }
   },
   "outputs": [],
   "source": [
    "def generate_binomial_data(\n",
    "    variants: List[str], true_rates: List[str], samples_per_variant: int = 100000\n",
    ") -> pd.DataFrame:\n",
    "    data = {}\n",
    "    for variant, p in zip(variants, true_rates):\n",
    "        data[variant] = bernoulli.rvs(p, size=samples_per_variant)\n",
    "    agg = (\n",
    "        pd.DataFrame(data)\n",
    "        .aggregate([\"count\", \"sum\"])\n",
    "        .rename(index={\"count\": \"trials\", \"sum\": \"successes\"})\n",
    "    )\n",
    "    return agg"
   ]
  },
  {
   "cell_type": "code",
   "execution_count": null,
   "id": "5ff1e081",
   "metadata": {
    "execution": {
     "iopub.execute_input": "2022-06-01T18:53:44.723895Z",
     "iopub.status.busy": "2022-06-01T18:53:44.723644Z",
     "iopub.status.idle": "2022-06-01T18:53:44.740069Z",
     "shell.execute_reply": "2022-06-01T18:53:44.739208Z"
    }
   },
   "outputs": [],
   "source": [
    "# Example generated data\n",
    "generate_binomial_data([\"A\", \"B\"], [0.23, 0.23])"
   ]
  },
  {
   "cell_type": "markdown",
   "id": "74f9d751",
   "metadata": {},
   "source": [
    "We'll also write a function to wrap the data generation, sampling, and posterior plots so that we can easily compare the results of both models (strong and weak prior) under both scenarios (same true rate vs. different true rate)."
   ]
  },
  {
   "cell_type": "code",
   "execution_count": null,
   "id": "0030ee2b",
   "metadata": {
    "execution": {
     "iopub.execute_input": "2022-06-01T18:53:44.744134Z",
     "iopub.status.busy": "2022-06-01T18:53:44.743691Z",
     "iopub.status.idle": "2022-06-01T18:53:44.750940Z",
     "shell.execute_reply": "2022-06-01T18:53:44.750225Z"
    }
   },
   "outputs": [],
   "source": [
    "def run_scenario_twovariant(\n",
    "    variants: List[str],\n",
    "    true_rates: List[float],\n",
    "    samples_per_variant: int,\n",
    "    weak_prior: BetaPrior,\n",
    "    strong_prior: BetaPrior,\n",
    ") -> None:\n",
    "    generated = generate_binomial_data(variants, true_rates, samples_per_variant)\n",
    "    data = [BinomialData(**generated[v].to_dict()) for v in variants]\n",
    "    with ConversionModelTwoVariant(priors=weak_prior).create_model(data):\n",
    "        trace_weak = pm.sample(draws=5000)\n",
    "    with ConversionModelTwoVariant(priors=strong_prior).create_model(data):\n",
    "        trace_strong = pm.sample(draws=5000)\n",
    "\n",
    "    true_rel_uplift = true_rates[1] / true_rates[0] - 1\n",
    "\n",
    "    fig, axs = plt.subplots(2, 1, figsize=(7, 7), sharex=True)\n",
    "    az.plot_posterior(trace_weak.posterior[\"reluplift_b\"], ax=axs[0], **plotting_defaults)\n",
    "    axs[0].set_title(f\"True Rel Uplift = {true_rel_uplift:.1%}, {weak_prior}\", fontsize=10)\n",
    "    axs[0].axvline(x=0, color=\"red\")\n",
    "    az.plot_posterior(trace_strong.posterior[\"reluplift_b\"], ax=axs[1], **plotting_defaults)\n",
    "    axs[1].set_title(f\"True Rel Uplift = {true_rel_uplift:.1%}, {strong_prior}\", fontsize=10)\n",
    "    axs[1].axvline(x=0, color=\"red\")\n",
    "    fig.suptitle(\"B vs. A Rel Uplift\")\n",
    "    return trace_weak, trace_strong"
   ]
  },
  {
   "cell_type": "markdown",
   "id": "4385419f",
   "metadata": {},
   "source": [
    "#### Scenario 1 - same underlying conversion rates"
   ]
  },
  {
   "cell_type": "code",
   "execution_count": null,
   "id": "1f72ff74",
   "metadata": {
    "execution": {
     "iopub.execute_input": "2022-06-01T18:53:44.754473Z",
     "iopub.status.busy": "2022-06-01T18:53:44.754190Z",
     "iopub.status.idle": "2022-06-01T18:54:38.153873Z",
     "shell.execute_reply": "2022-06-01T18:54:38.153222Z"
    }
   },
   "outputs": [],
   "source": [
    "trace_weak, trace_strong = run_scenario_twovariant(\n",
    "    variants=[\"A\", \"B\"],\n",
    "    true_rates=[0.23, 0.23],\n",
    "    samples_per_variant=100000,\n",
    "    weak_prior=BetaPrior(alpha=100, beta=100),\n",
    "    strong_prior=BetaPrior(alpha=10000, beta=10000),\n",
    ")"
   ]
  },
  {
   "cell_type": "markdown",
   "id": "eefc18cc",
   "metadata": {},
   "source": [
    "* In both cases, the true uplift of 0% lies within the 94% HDI.\n",
    "* We can then use this relative uplift distribution to make a decision about whether to apply the new landing page / features in Variant B as the default. For example, we can decide that if the 94% HDI is above 0, we would roll out Variant B. In this case, 0 is in the HDI, so the decision would be to _not_ roll out Variant B."
   ]
  },
  {
   "cell_type": "markdown",
   "id": "9935152f",
   "metadata": {},
   "source": [
    "#### Scenario 2 - different underlying rates"
   ]
  },
  {
   "cell_type": "code",
   "execution_count": null,
   "id": "7e52fc97",
   "metadata": {
    "execution": {
     "iopub.execute_input": "2022-06-01T18:54:38.158443Z",
     "iopub.status.busy": "2022-06-01T18:54:38.158135Z",
     "iopub.status.idle": "2022-06-01T18:55:29.277627Z",
     "shell.execute_reply": "2022-06-01T18:55:29.276609Z"
    }
   },
   "outputs": [],
   "source": [
    "run_scenario_twovariant(\n",
    "    variants=[\"A\", \"B\"],\n",
    "    true_rates=[0.21, 0.23],\n",
    "    samples_per_variant=100000,\n",
    "    weak_prior=BetaPrior(alpha=100, beta=100),\n",
    "    strong_prior=BetaPrior(alpha=10000, beta=10000),\n",
    ")"
   ]
  },
  {
   "cell_type": "markdown",
   "id": "f62643de",
   "metadata": {},
   "source": [
    "* In both cases, the posterior relative uplift distribution suggests that B has a higher conversion rate than A, as the 94% HDI is well above 0. The decision in this case would be to roll out Variant B to all users, and this outcome \"true discovery\".\n",
    "* That said, in practice are usually also interested in _how much better_ Variant B is. For the model with the strong prior, the prior is effectively pulling the relative uplift distribution closer to 0, so our central estimate of the relative uplift is **conservative (i.e. understated)**. We would need much more data for our inference to get closer to the true relative uplift of 9.5%.\n",
    "\n",
    "The above examples demonstrate how to calculate perform A/B testing analysis for a two-variant test with the simple Beta-Binomial model, and the benefits and disadvantages of choosing a weak vs. strong prior. In the next section we provide a guide for handling a multi-variant (\"A/B/n\") test."
   ]
  },
  {
   "cell_type": "markdown",
   "id": "c871fb6e",
   "metadata": {},
   "source": [
    "### Generalising to multi-variant tests"
   ]
  },
  {
   "cell_type": "markdown",
   "id": "724802d2",
   "metadata": {},
   "source": [
    "We'll continue using Bernoulli conversions and the Beta-Binomial model in this section for simplicity. The focus is on how to analyse tests with 3 or more variants - e.g. instead of just having one different landing page to test, we have multiple ideas we want to test at once. How can we tell if there's a winner amongst all of them?\n",
    "\n",
    "There are two main approaches we can take here:\n",
    "\n",
    "1. Take A as the 'control'. Compare the other variants (B, C, etc.) against A, one at a time.\n",
    "2. For each variant, compare against the `max()` of the other variants.\n",
    "\n",
    "Approach 1 is intuitive to most people, and is easily explained. But what if there are two variants that both beat the control, and we want to know which one is better? We can't make that inference with the individual uplift distributions. Approach 2 does handle this case - it effectively tries to find whether there is a clear winner or clear loser(s) amongst all the variants.\n",
    "\n",
    "We'll implement the model setup for both approaches below, cleaning up our code from before so that it generalises to the `n` variant case. Note that we can also re-use this model for the 2-variant case."
   ]
  },
  {
   "cell_type": "code",
   "execution_count": null,
   "id": "2023b905",
   "metadata": {
    "execution": {
     "iopub.execute_input": "2022-06-01T18:55:29.282520Z",
     "iopub.status.busy": "2022-06-01T18:55:29.282144Z",
     "iopub.status.idle": "2022-06-01T18:55:29.289131Z",
     "shell.execute_reply": "2022-06-01T18:55:29.288312Z"
    }
   },
   "outputs": [],
   "source": [
    "class ConversionModel:\n",
    "    def __init__(self, priors: BetaPrior):\n",
    "        self.priors = priors\n",
    "\n",
    "    def create_model(self, data: List[BinomialData], comparison_method) -> pm.Model:\n",
    "        num_variants = len(data)\n",
    "        trials = [d.trials for d in data]\n",
    "        successes = [d.successes for d in data]\n",
    "        with pm.Model() as model:\n",
    "            p = pm.Beta(\"p\", alpha=self.priors.alpha, beta=self.priors.beta, shape=num_variants)\n",
    "            y = pm.Binomial(\"y\", n=trials, p=p, observed=successes, shape=num_variants)\n",
    "            reluplift = []\n",
    "            for i in range(num_variants):\n",
    "                if comparison_method == \"compare_to_control\":\n",
    "                    comparison = p[0]\n",
    "                elif comparison_method == \"best_of_rest\":\n",
    "                    others = [p[j] for j in range(num_variants) if j != i]\n",
    "                    if len(others) > 1:\n",
    "                        comparison = pm.math.maximum(*others)\n",
    "                    else:\n",
    "                        comparison = others[0]\n",
    "                else:\n",
    "                    raise ValueError(f\"comparison method {comparison_method} not recognised.\")\n",
    "                reluplift.append(pm.Deterministic(f\"reluplift_{i}\", p[i] / comparison - 1))\n",
    "        return model"
   ]
  },
  {
   "cell_type": "code",
   "execution_count": null,
   "id": "58ba7529",
   "metadata": {
    "execution": {
     "iopub.execute_input": "2022-06-01T18:55:29.292649Z",
     "iopub.status.busy": "2022-06-01T18:55:29.292215Z",
     "iopub.status.idle": "2022-06-01T18:55:29.300151Z",
     "shell.execute_reply": "2022-06-01T18:55:29.299352Z"
    }
   },
   "outputs": [],
   "source": [
    "def run_scenario_bernoulli(\n",
    "    variants: List[str],\n",
    "    true_rates: List[float],\n",
    "    samples_per_variant: int,\n",
    "    priors: BetaPrior,\n",
    "    comparison_method: str,\n",
    ") -> az.InferenceData:\n",
    "    generated = generate_binomial_data(variants, true_rates, samples_per_variant)\n",
    "    data = [BinomialData(**generated[v].to_dict()) for v in variants]\n",
    "    with ConversionModel(priors).create_model(data=data, comparison_method=comparison_method):\n",
    "        trace = pm.sample(draws=5000)\n",
    "\n",
    "    n_plots = len(variants)\n",
    "    fig, axs = plt.subplots(nrows=n_plots, ncols=1, figsize=(3 * n_plots, 7), sharex=True)\n",
    "    for i, variant in enumerate(variants):\n",
    "        if i == 0 and comparison_method == \"compare_to_control\":\n",
    "            axs[i].set_yticks([])\n",
    "        else:\n",
    "            az.plot_posterior(trace.posterior[f\"reluplift_{i}\"], ax=axs[i], **plotting_defaults)\n",
    "        axs[i].set_title(f\"Rel Uplift {variant}, True Rate = {true_rates[i]:.2%}\", fontsize=10)\n",
    "        axs[i].axvline(x=0, color=\"red\")\n",
    "    fig.suptitle(f\"Method {comparison_method}, {priors}\")\n",
    "\n",
    "    return trace"
   ]
  },
  {
   "cell_type": "markdown",
   "id": "b8c36ecc",
   "metadata": {},
   "source": [
    "We generate data where variants B and C are well above A, but quite close to each other:"
   ]
  },
  {
   "cell_type": "code",
   "execution_count": null,
   "id": "55ea29a9",
   "metadata": {
    "execution": {
     "iopub.execute_input": "2022-06-01T18:55:29.303810Z",
     "iopub.status.busy": "2022-06-01T18:55:29.303500Z",
     "iopub.status.idle": "2022-06-01T18:55:53.640679Z",
     "shell.execute_reply": "2022-06-01T18:55:53.639997Z"
    }
   },
   "outputs": [],
   "source": [
    "_ = run_scenario_bernoulli(\n",
    "    variants=[\"A\", \"B\", \"C\"],\n",
    "    true_rates=[0.21, 0.23, 0.228],\n",
    "    samples_per_variant=100000,\n",
    "    priors=BetaPrior(alpha=5000, beta=5000),\n",
    "    comparison_method=\"compare_to_control\",\n",
    ")"
   ]
  },
  {
   "cell_type": "markdown",
   "id": "7c1c2d20",
   "metadata": {},
   "source": [
    "* The relative uplift posteriors for both B and C show that they are clearly better than A (94% HDI well above 0), by roughly 7-8% relative.\n",
    "* However, we can't infer whether there is a winner between B and C."
   ]
  },
  {
   "cell_type": "code",
   "execution_count": null,
   "id": "3cdb6808",
   "metadata": {
    "execution": {
     "iopub.execute_input": "2022-06-01T18:55:53.644223Z",
     "iopub.status.busy": "2022-06-01T18:55:53.643940Z",
     "iopub.status.idle": "2022-06-01T18:56:20.091615Z",
     "shell.execute_reply": "2022-06-01T18:56:20.090705Z"
    }
   },
   "outputs": [],
   "source": [
    "_ = run_scenario_bernoulli(\n",
    "    variants=[\"A\", \"B\", \"C\"],\n",
    "    true_rates=[0.21, 0.23, 0.228],\n",
    "    samples_per_variant=100000,\n",
    "    priors=BetaPrior(alpha=5000, beta=5000),\n",
    "    comparison_method=\"best_of_rest\",\n",
    ")"
   ]
  },
  {
   "cell_type": "markdown",
   "id": "1c883952",
   "metadata": {},
   "source": [
    "* The uplift plot for A tells us that it's a clear loser compared to variants B and C (94% HDI for A's relative uplift is well below 0).\n",
    "* Note that the relative uplift calculations for B and C are effectively ignoring variant A. This is because, say, when we are calculating `reluplift` for B, the maximum of the other variants will likely be variant C. Similarly when we are calculating `reluplift` for C, it is likely being compared to B.\n",
    "* The uplift plots for B and C tell us that we can't yet call a clear winner between the two variants, as the 94% HDI still overlaps with 0. We'd need a larger sample size to detect the 23% vs 22.8% conversion rate difference.\n",
    "* One disadvantage of this approach is that we can't directly say what the uplift of these variants is over variant A (the control). This number is often important in practice, as it allows us to estimate the overall impact if the A/B test changes were rolled out to all visitors. We _can_ get this number approximately though, by reframing the question to be \"how much worse is A compared to the other two variants\" (which is shown in Variant A's relative uplift distribution)."
   ]
  },
  {
   "cell_type": "markdown",
   "id": "90791ebd",
   "metadata": {},
   "source": [
    "### Value Conversions"
   ]
  },
  {
   "cell_type": "markdown",
   "id": "635ee63e",
   "metadata": {},
   "source": [
    "Now what if we wanted to compare A/B test variants in terms of how much revenue they generate, and/or estimate how much additional revenue a winning variant brings? We can't use a Beta-Binomial model for this, as the possible values for each visitor are now in the range `[0, Inf)`. The model proposed in the VWO paper is as follows:\n",
    "\n",
    "The revenue generated by an individual visitor is `revenue = probability of paying at all * mean amount spent when paying`:\n",
    "\n",
    "$$\\mathrm{Revenue}_i = \\mathrm{Bernoulli}(\\theta)_i * \\mathrm{Exponential}(\\lambda)_i I(\\mathrm{Bernoulli}(\\theta)_i = 1)$$\n",
    "\n",
    "We assume that the probability of paying at all is independent to the mean amount spent when paying. This is a typical assumption in practice, unless we have reason to believe that the two parameters have dependencies. With this, we can create separate models for the total number of visitors paying, and the total amount spent amongst the purchasing visitors (assuming independence between the behaviour of each visitor):\n",
    "\n",
    "$$c \\sim \\sum^N\\mathrm{Bernoulli}(\\theta) = \\mathrm{Binomial}(N, \\theta)$$\n",
    "\n",
    "$$r \\sim \\sum^K\\mathrm{Exponential}(\\lambda) = \\mathrm{Gamma}(K, \\lambda)$$\n",
    "\n",
    "where $N$ is the total number of visitors, $K$ is the total number of visitors with at least one purchase.\n",
    "\n",
    "We can re-use our Beta-Binomial model from before to model the Bernoulli conversions. For the mean purchase amount, we use a Gamma prior (which is also a conjugate prior to the Gamma likelihood). So in a two-variant test, the setup is:\n",
    "\n",
    "$$\\theta_A \\sim \\theta_B \\sim \\mathrm{Beta}(\\alpha_1, \\beta_1)$$\n",
    "$$\\lambda_A \\sim \\lambda_B \\sim \\mathrm{Gamma}(\\alpha_2, \\beta_2)$$\n",
    "$$c_A \\sim \\mathrm{Binomial}(N_A, \\theta_A), c_B \\sim \\mathrm{Binomial}(N_B, \\theta_B)$$\n",
    "$$r_A \\sim \\mathrm{Gamma}(c_A, \\lambda_A), r_B \\sim \\mathrm{Gamma}(c_B, \\lambda_B)$$\n",
    "$$\\mu_A = \\theta_A * \\dfrac{1}{\\lambda_A}, \\mu_B = \\theta_B * \\dfrac{1}{\\lambda_B}$$\n",
    "$$\\mathrm{reluplift}_B = \\mu_B / \\mu_A - 1$$\n",
    "\n",
    "$\\mu$ here represents the average revenue per visitor, including those who don't make a purchase. This is the best way to capture the overall revenue effect - some variants may increase the average sales value, but reduce the proportion of visitors that pay at all (e.g. if we promoted more expensive items on the landing page).\n",
    "\n",
    "Below we put the model setup into code and perform prior predictive checks."
   ]
  },
  {
   "cell_type": "code",
   "execution_count": null,
   "id": "46f94b80",
   "metadata": {
    "execution": {
     "iopub.execute_input": "2022-06-01T18:56:20.095845Z",
     "iopub.status.busy": "2022-06-01T18:56:20.095471Z",
     "iopub.status.idle": "2022-06-01T18:56:20.099711Z",
     "shell.execute_reply": "2022-06-01T18:56:20.098858Z"
    }
   },
   "outputs": [],
   "source": [
    "@dataclass\n",
    "class GammaPrior:\n",
    "    alpha: float\n",
    "    beta: float"
   ]
  },
  {
   "cell_type": "code",
   "execution_count": null,
   "id": "49ec3cc7",
   "metadata": {
    "execution": {
     "iopub.execute_input": "2022-06-01T18:56:20.103411Z",
     "iopub.status.busy": "2022-06-01T18:56:20.103033Z",
     "iopub.status.idle": "2022-06-01T18:56:20.107674Z",
     "shell.execute_reply": "2022-06-01T18:56:20.106917Z"
    }
   },
   "outputs": [],
   "source": [
    "@dataclass\n",
    "class RevenueData:\n",
    "    visitors: int\n",
    "    purchased: int\n",
    "    total_revenue: float"
   ]
  },
  {
   "cell_type": "code",
   "execution_count": null,
   "id": "cf970faf",
   "metadata": {
    "execution": {
     "iopub.execute_input": "2022-06-01T18:56:20.111156Z",
     "iopub.status.busy": "2022-06-01T18:56:20.110839Z",
     "iopub.status.idle": "2022-06-01T18:56:20.120492Z",
     "shell.execute_reply": "2022-06-01T18:56:20.119891Z"
    }
   },
   "outputs": [],
   "source": [
    "class RevenueModel:\n",
    "    def __init__(self, conversion_rate_prior: BetaPrior, mean_purchase_prior: GammaPrior):\n",
    "        self.conversion_rate_prior = conversion_rate_prior\n",
    "        self.mean_purchase_prior = mean_purchase_prior\n",
    "\n",
    "    def create_model(self, data: List[RevenueData], comparison_method: str) -> pm.Model:\n",
    "        num_variants = len(data)\n",
    "        visitors = [d.visitors for d in data]\n",
    "        purchased = [d.purchased for d in data]\n",
    "        total_revenue = [d.total_revenue for d in data]\n",
    "\n",
    "        with pm.Model() as model:\n",
    "            theta = pm.Beta(\n",
    "                \"theta\",\n",
    "                alpha=self.conversion_rate_prior.alpha,\n",
    "                beta=self.conversion_rate_prior.beta,\n",
    "                shape=num_variants,\n",
    "            )\n",
    "            lam = pm.Gamma(\n",
    "                \"lam\",\n",
    "                alpha=self.mean_purchase_prior.alpha,\n",
    "                beta=self.mean_purchase_prior.beta,\n",
    "                shape=num_variants,\n",
    "            )\n",
    "            converted = pm.Binomial(\n",
    "                \"converted\", n=visitors, p=theta, observed=purchased, shape=num_variants\n",
    "            )\n",
    "            revenue = pm.Gamma(\n",
    "                \"revenue\", alpha=purchased, beta=lam, observed=total_revenue, shape=num_variants\n",
    "            )\n",
    "            revenue_per_visitor = pm.Deterministic(\"revenue_per_visitor\", theta * (1 / lam))\n",
    "            theta_reluplift = []\n",
    "            reciprocal_lam_reluplift = []\n",
    "            reluplift = []\n",
    "            for i in range(num_variants):\n",
    "                if comparison_method == \"compare_to_control\":\n",
    "                    comparison_theta = theta[0]\n",
    "                    comparison_lam = 1 / lam[0]\n",
    "                    comparison_rpv = revenue_per_visitor[0]\n",
    "                elif comparison_method == \"best_of_rest\":\n",
    "                    others_theta = [theta[j] for j in range(num_variants) if j != i]\n",
    "                    others_lam = [1 / lam[j] for j in range(num_variants) if j != i]\n",
    "                    others_rpv = [revenue_per_visitor[j] for j in range(num_variants) if j != i]\n",
    "                    if len(others_rpv) > 1:\n",
    "                        comparison_theta = pm.math.maximum(*others_theta)\n",
    "                        comparison_lam = pm.math.maximum(*others_lam)\n",
    "                        comparison_rpv = pm.math.maximum(*others_rpv)\n",
    "                    else:\n",
    "                        comparison_theta = others_theta[0]\n",
    "                        comparison_lam = others_lam[0]\n",
    "                        comparison_rpv = others_rpv[0]\n",
    "                else:\n",
    "                    raise ValueError(f\"comparison method {comparison_method} not recognised.\")\n",
    "                theta_reluplift.append(\n",
    "                    pm.Deterministic(f\"theta_reluplift_{i}\", theta[i] / comparison_theta - 1)\n",
    "                )\n",
    "                reciprocal_lam_reluplift.append(\n",
    "                    pm.Deterministic(\n",
    "                        f\"reciprocal_lam_reluplift_{i}\", (1 / lam[i]) / comparison_lam - 1\n",
    "                    )\n",
    "                )\n",
    "                reluplift.append(\n",
    "                    pm.Deterministic(f\"reluplift_{i}\", revenue_per_visitor[i] / comparison_rpv - 1)\n",
    "                )\n",
    "        return model"
   ]
  },
  {
   "cell_type": "markdown",
   "id": "f8c439d5",
   "metadata": {},
   "source": [
    "For the Beta prior, we can set a similar prior to before - centered around 0.5, with the magnitude of `alpha` and `beta` determining how \"thin\" the distribution is.\n",
    "\n",
    "We need to be a bit more careful about the Gamma prior. The mean of the Gamma prior is $\\dfrac{\\alpha_G}{\\beta_G}$, and needs to be set to a reasonable value given existing mean purchase values. For example, if `alpha` and `beta` were set such that the mean was 1 dollar, but the average revenue per visitor for a website is much higher at 100 dollars, his could affect our inference."
   ]
  },
  {
   "cell_type": "code",
   "execution_count": null,
   "id": "7483a55e",
   "metadata": {
    "execution": {
     "iopub.execute_input": "2022-06-01T18:56:20.123438Z",
     "iopub.status.busy": "2022-06-01T18:56:20.123173Z",
     "iopub.status.idle": "2022-06-01T18:56:20.125998Z",
     "shell.execute_reply": "2022-06-01T18:56:20.125540Z"
    }
   },
   "outputs": [],
   "source": [
    "c_prior = BetaPrior(alpha=5000, beta=5000)\n",
    "mp_prior = GammaPrior(alpha=9000, beta=900)"
   ]
  },
  {
   "cell_type": "code",
   "execution_count": null,
   "id": "07f83462",
   "metadata": {
    "execution": {
     "iopub.execute_input": "2022-06-01T18:56:20.128773Z",
     "iopub.status.busy": "2022-06-01T18:56:20.128453Z",
     "iopub.status.idle": "2022-06-01T18:56:20.131567Z",
     "shell.execute_reply": "2022-06-01T18:56:20.131063Z"
    }
   },
   "outputs": [],
   "source": [
    "data = [\n",
    "    RevenueData(visitors=1, purchased=1, total_revenue=1),\n",
    "    RevenueData(visitors=1, purchased=1, total_revenue=1),\n",
    "]"
   ]
  },
  {
   "cell_type": "code",
   "execution_count": null,
   "id": "f2b0d0c8",
   "metadata": {
    "execution": {
     "iopub.execute_input": "2022-06-01T18:56:20.134405Z",
     "iopub.status.busy": "2022-06-01T18:56:20.134184Z",
     "iopub.status.idle": "2022-06-01T18:56:22.729728Z",
     "shell.execute_reply": "2022-06-01T18:56:22.728285Z"
    }
   },
   "outputs": [],
   "source": [
    "with RevenueModel(c_prior, mp_prior).create_model(data, \"best_of_rest\"):\n",
    "    revenue_prior_predictive = pm.sample_prior_predictive(samples=10000, return_inferencedata=False)"
   ]
  },
  {
   "cell_type": "code",
   "execution_count": null,
   "id": "006b62e2",
   "metadata": {
    "execution": {
     "iopub.execute_input": "2022-06-01T18:56:22.733478Z",
     "iopub.status.busy": "2022-06-01T18:56:22.733169Z",
     "iopub.status.idle": "2022-06-01T18:56:22.940968Z",
     "shell.execute_reply": "2022-06-01T18:56:22.940270Z"
    }
   },
   "outputs": [],
   "source": [
    "fig, ax = plt.subplots()\n",
    "az.plot_posterior(revenue_prior_predictive[\"reluplift_1\"], ax=ax, **plotting_defaults)\n",
    "ax.set_title(f\"Revenue Rel Uplift Prior Predictive, {c_prior}, {mp_prior}\", fontsize=10)\n",
    "ax.axvline(x=0, color=\"red\");"
   ]
  },
  {
   "cell_type": "markdown",
   "id": "d143b491",
   "metadata": {},
   "source": [
    "Similar to the model for Bernoulli conversions, the width of the prior predictive uplift distribution will depend on the strength of our priors. See the Bernoulli conversions section for a discussion of the benefits and disadvantages of using a weak vs. strong prior.\n",
    "\n",
    "Next we generate synthetic data for the model. We'll generate the following scenarios:\n",
    "\n",
    "* Same propensity to purchase and same mean purchase value.\n",
    "* Lower propensity to purchase and higher mean purchase value, but overall same revenue per visitor.\n",
    "* Higher propensity to purchase and higher mean purchase value, and overall higher revenue per visitor."
   ]
  },
  {
   "cell_type": "code",
   "execution_count": null,
   "id": "1e109784",
   "metadata": {
    "execution": {
     "iopub.execute_input": "2022-06-01T18:56:22.945634Z",
     "iopub.status.busy": "2022-06-01T18:56:22.945281Z",
     "iopub.status.idle": "2022-06-01T18:56:22.951156Z",
     "shell.execute_reply": "2022-06-01T18:56:22.950422Z"
    }
   },
   "outputs": [],
   "source": [
    "def generate_revenue_data(\n",
    "    variants: List[str],\n",
    "    true_conversion_rates: List[float],\n",
    "    true_mean_purchase: List[float],\n",
    "    samples_per_variant: int,\n",
    ") -> pd.DataFrame:\n",
    "    converted = {}\n",
    "    mean_purchase = {}\n",
    "    for variant, p, mp in zip(variants, true_conversion_rates, true_mean_purchase):\n",
    "        converted[variant] = bernoulli.rvs(p, size=samples_per_variant)\n",
    "        mean_purchase[variant] = expon.rvs(scale=mp, size=samples_per_variant)\n",
    "    converted = pd.DataFrame(converted)\n",
    "    mean_purchase = pd.DataFrame(mean_purchase)\n",
    "    revenue = converted * mean_purchase\n",
    "    agg = pd.concat(\n",
    "        [\n",
    "            converted.aggregate([\"count\", \"sum\"]).rename(\n",
    "                index={\"count\": \"visitors\", \"sum\": \"purchased\"}\n",
    "            ),\n",
    "            revenue.aggregate([\"sum\"]).rename(index={\"sum\": \"total_revenue\"}),\n",
    "        ]\n",
    "    )\n",
    "    return agg"
   ]
  },
  {
   "cell_type": "code",
   "execution_count": null,
   "id": "5e2d75f4",
   "metadata": {
    "execution": {
     "iopub.execute_input": "2022-06-01T18:56:22.955570Z",
     "iopub.status.busy": "2022-06-01T18:56:22.955206Z",
     "iopub.status.idle": "2022-06-01T18:56:22.962507Z",
     "shell.execute_reply": "2022-06-01T18:56:22.961792Z"
    }
   },
   "outputs": [],
   "source": [
    "def run_scenario_value(\n",
    "    variants: List[str],\n",
    "    true_conversion_rates: List[float],\n",
    "    true_mean_purchase: List[float],\n",
    "    samples_per_variant: int,\n",
    "    conversion_rate_prior: BetaPrior,\n",
    "    mean_purchase_prior: GammaPrior,\n",
    "    comparison_method: str,\n",
    ") -> az.InferenceData:\n",
    "    generated = generate_revenue_data(\n",
    "        variants, true_conversion_rates, true_mean_purchase, samples_per_variant\n",
    "    )\n",
    "    data = [RevenueData(**generated[v].to_dict()) for v in variants]\n",
    "    with RevenueModel(conversion_rate_prior, mean_purchase_prior).create_model(\n",
    "        data, comparison_method\n",
    "    ):\n",
    "        trace = pm.sample(draws=5000, chains=2, cores=1)\n",
    "\n",
    "    n_plots = len(variants)\n",
    "    fig, axs = plt.subplots(nrows=n_plots, ncols=1, figsize=(3 * n_plots, 7), sharex=True)\n",
    "    for i, variant in enumerate(variants):\n",
    "        if i == 0 and comparison_method == \"compare_to_control\":\n",
    "            axs[i].set_yticks([])\n",
    "        else:\n",
    "            az.plot_posterior(trace.posterior[f\"reluplift_{i}\"], ax=axs[i], **plotting_defaults)\n",
    "        true_rpv = true_conversion_rates[i] * true_mean_purchase[i]\n",
    "        axs[i].set_title(f\"Rel Uplift {variant}, True RPV = {true_rpv:.2f}\", fontsize=10)\n",
    "        axs[i].axvline(x=0, color=\"red\")\n",
    "    fig.suptitle(f\"Method {comparison_method}, {conversion_rate_prior}, {mean_purchase_prior}\")\n",
    "\n",
    "    return trace"
   ]
  },
  {
   "cell_type": "markdown",
   "id": "975d4114",
   "metadata": {},
   "source": [
    "#### Scenario 1 - same underlying purchase rate and mean purchase value"
   ]
  },
  {
   "cell_type": "code",
   "execution_count": null,
   "id": "e4d49ea2",
   "metadata": {
    "execution": {
     "iopub.execute_input": "2022-06-01T18:56:22.966097Z",
     "iopub.status.busy": "2022-06-01T18:56:22.965775Z",
     "iopub.status.idle": "2022-06-01T18:56:40.115813Z",
     "shell.execute_reply": "2022-06-01T18:56:40.115117Z"
    }
   },
   "outputs": [],
   "source": [
    "_ = run_scenario_value(\n",
    "    variants=[\"A\", \"B\"],\n",
    "    true_conversion_rates=[0.1, 0.1],\n",
    "    true_mean_purchase=[10, 10],\n",
    "    samples_per_variant=100000,\n",
    "    conversion_rate_prior=BetaPrior(alpha=5000, beta=5000),\n",
    "    mean_purchase_prior=GammaPrior(alpha=9000, beta=900),\n",
    "    comparison_method=\"best_of_rest\",\n",
    ")"
   ]
  },
  {
   "cell_type": "markdown",
   "id": "a01ccc4a",
   "metadata": {},
   "source": [
    "* The 94% HDI contains 0 as expected."
   ]
  },
  {
   "cell_type": "markdown",
   "id": "9e7be20a",
   "metadata": {},
   "source": [
    "#### Scenario 2 - lower purchase rate, higher mean purchase, same overall revenue per visitor"
   ]
  },
  {
   "cell_type": "code",
   "execution_count": null,
   "id": "4b661564",
   "metadata": {
    "execution": {
     "iopub.execute_input": "2022-06-01T18:56:40.119186Z",
     "iopub.status.busy": "2022-06-01T18:56:40.118906Z",
     "iopub.status.idle": "2022-06-01T18:56:57.769578Z",
     "shell.execute_reply": "2022-06-01T18:56:57.768797Z"
    }
   },
   "outputs": [],
   "source": [
    "scenario_value_2 = run_scenario_value(\n",
    "    variants=[\"A\", \"B\"],\n",
    "    true_conversion_rates=[0.1, 0.08],\n",
    "    true_mean_purchase=[10, 12.5],\n",
    "    samples_per_variant=100000,\n",
    "    conversion_rate_prior=BetaPrior(alpha=5000, beta=5000),\n",
    "    mean_purchase_prior=GammaPrior(alpha=9000, beta=900),\n",
    "    comparison_method=\"best_of_rest\",\n",
    ")"
   ]
  },
  {
   "cell_type": "markdown",
   "id": "7fd5b4aa",
   "metadata": {},
   "source": [
    "* The 94% HDI for the average revenue per visitor (RPV) contains 0 as expected.\n",
    "* In these cases, it's also useful to plot the relative uplift distributions for `theta` (the purchase-anything rate) and `1 / lam` (the mean purchase value) to understand how the A/B test has affected visitor behaviour. We show this below:"
   ]
  },
  {
   "cell_type": "code",
   "execution_count": null,
   "id": "68a7a343",
   "metadata": {
    "execution": {
     "iopub.execute_input": "2022-06-01T18:56:57.772929Z",
     "iopub.status.busy": "2022-06-01T18:56:57.772669Z",
     "iopub.status.idle": "2022-06-01T18:56:58.125044Z",
     "shell.execute_reply": "2022-06-01T18:56:58.124254Z"
    }
   },
   "outputs": [],
   "source": [
    "axs = az.plot_posterior(\n",
    "    scenario_value_2,\n",
    "    var_names=[\"theta_reluplift_1\", \"reciprocal_lam_reluplift_1\"],\n",
    "    **plotting_defaults,\n",
    ")\n",
    "axs[0].set_title(f\"Conversion Rate Uplift B, True Uplift = {(0.04 / 0.05 - 1):.2%}\", fontsize=10)\n",
    "axs[0].axvline(x=0, color=\"red\")\n",
    "axs[1].set_title(\n",
    "    f\"Revenue per Converting Visitor Uplift B, True Uplift = {(25 / 20 - 1):.2%}\", fontsize=10\n",
    ")\n",
    "axs[1].axvline(x=0, color=\"red\");"
   ]
  },
  {
   "cell_type": "markdown",
   "id": "8786b390",
   "metadata": {},
   "source": [
    "* Variant B's conversion rate uplift has a HDI well below 0, while the revenue per converting visitor has a HDI well above 0. So the model is able to capture the reduction in purchasing visitors as well as the increase in mean purchase amount."
   ]
  },
  {
   "cell_type": "markdown",
   "id": "1873dc0a",
   "metadata": {},
   "source": [
    "#### Scenario 3 - Higher propensity to purchase and mean purchase value"
   ]
  },
  {
   "cell_type": "code",
   "execution_count": null,
   "id": "db019cc9",
   "metadata": {
    "execution": {
     "iopub.execute_input": "2022-06-01T18:56:58.128834Z",
     "iopub.status.busy": "2022-06-01T18:56:58.128315Z",
     "iopub.status.idle": "2022-06-01T18:57:14.655619Z",
     "shell.execute_reply": "2022-06-01T18:57:14.654686Z"
    }
   },
   "outputs": [],
   "source": [
    "_ = run_scenario_value(\n",
    "    variants=[\"A\", \"B\"],\n",
    "    true_conversion_rates=[0.1, 0.11],\n",
    "    true_mean_purchase=[10, 10.5],\n",
    "    samples_per_variant=100000,\n",
    "    conversion_rate_prior=BetaPrior(alpha=5000, beta=5000),\n",
    "    mean_purchase_prior=GammaPrior(alpha=9000, beta=900),\n",
    "    comparison_method=\"best_of_rest\",\n",
    ")"
   ]
  },
  {
   "cell_type": "markdown",
   "id": "dec9cb93",
   "metadata": {},
   "source": [
    "* The 94% HDI is above 0 for variant B as expected.\n",
    "\n",
    "Note that one concern with using value conversions in practice (that doesn't show up when we're just simulating synthetic data) is the existence of outliers. For example, a visitor in one variant could spend thousands of dollars, and the observed revenue data no longer follows a 'nice' distribution like Gamma. It's common to impute these outliers prior to running a statistical analysis (we have to be careful with removing them altogether, as this could bias the inference), or fall back to bernoulli conversions for decision making."
   ]
  },
  {
   "cell_type": "markdown",
   "id": "6dff0b91",
   "metadata": {},
   "source": [
    "### Further Reading\n",
    "\n",
    "There are many other considerations to implementing a Bayesian framework to analyse A/B tests in practice. Some include:\n",
    "\n",
    "* How do we choose our prior distributions? \n",
    "* In practice, people look at A/B test results every day, not only once at the end of the test. How do we balance finding true differences faster vs. minizing false discoveries (the 'early stopping' problem)?\n",
    "* How do we plan the length and size of A/B tests using power analysis, if we're using Bayesian models to analyse the results?\n",
    "* Outside of the conversion rates (bernoulli random variables for each visitor), many value distributions in online software cannot be fit with nice densities like Normal, Gamma, etc. How do we model these?\n",
    "\n",
    "Various textbooks and online resources dive into these areas in more detail. Doing Bayesian Data Analysis {cite:p}`kruschke2014doing` by John Kruschke is a great resource, and has been translated to PyMC [here](https://github.com/JWarmenhoven/DBDA-python).\n",
    "\n",
    "We also plan to create more PyMC tutorials on these topics, so stay tuned!"
   ]
  },
  {
   "cell_type": "markdown",
   "id": "12411a2c-6e4b-465b-9f2b-20334273ec42",
   "metadata": {},
   "source": [
    "## Authors\n",
    "\n",
    "* Authored by [Cuong Duong](https://github.com/tcuongd) in May, 2021 ([pymc-examples#164](https://github.com/pymc-devs/pymc-examples/pull/164))\n",
    "* Re-executed by [percevalve](https://github.com/percevalve) in May, 2022 ([pymc-examples#351](https://github.com/pymc-devs/pymc-examples/pull/351))"
   ]
  },
  {
   "cell_type": "markdown",
   "id": "8bf62130-fa7b-4509-a914-38c41e516cca",
   "metadata": {},
   "source": [
    "## References\n",
    "\n",
    ":::{bibliography}\n",
    ":filter: docname in docnames\n",
    ":::"
   ]
  },
  {
   "cell_type": "markdown",
   "id": "54ea3916",
   "metadata": {},
   "source": [
    "## Watermark"
   ]
  },
  {
   "cell_type": "code",
   "execution_count": null,
   "id": "a1a4b30a",
   "metadata": {
    "execution": {
     "iopub.execute_input": "2022-06-01T18:57:14.659862Z",
     "iopub.status.busy": "2022-06-01T18:57:14.659573Z",
     "iopub.status.idle": "2022-06-01T18:57:14.683102Z",
     "shell.execute_reply": "2022-06-01T18:57:14.682294Z"
    }
   },
   "outputs": [],
   "source": [
    "%load_ext watermark\n",
    "%watermark -n -u -v -iv -w -p pytensor,xarray"
   ]
  },
  {
   "cell_type": "markdown",
   "id": "bed3eeaf-7907-4d47-89b7-8ed85838c42d",
   "metadata": {},
   "source": [
    ":::{include} ../page_footer.md\n",
    ":::"
   ]
  }
 ],
 "metadata": {
  "kernelspec": {
   "display_name": "Python 3.8.10 ('pymc-examples-ipRlw-UN')",
   "language": "python",
   "name": "python3"
  },
  "language_info": {
   "codemirror_mode": {
    "name": "ipython",
    "version": 3
   },
   "file_extension": ".py",
   "mimetype": "text/x-python",
   "name": "python",
   "nbconvert_exporter": "python",
   "pygments_lexer": "ipython3",
   "version": "3.8.10"
  },
  "toc": {
   "base_numbering": 1,
   "nav_menu": {},
   "number_sections": true,
   "sideBar": true,
   "skip_h1_title": false,
   "title_cell": "Table of Contents",
   "title_sidebar": "Contents",
   "toc_cell": false,
   "toc_position": {
    "height": "calc(100% - 180px)",
    "left": "10px",
    "top": "150px",
    "width": "288px"
   },
   "toc_section_display": true,
   "toc_window_display": true
  },
  "vscode": {
   "interpreter": {
    "hash": "6d634b478020e8973f8932bbbe101d0b4067e4493dd3db1f2db4e2681c3b3de1"
   }
  }
 },
 "nbformat": 4,
 "nbformat_minor": 5
}
