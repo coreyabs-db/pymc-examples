{
 "cells": [
  {
   "cell_type": "markdown",
   "id": "a15cd228-d1cd-4d52-bc62-92aa975f798c",
   "metadata": {},
   "source": [
    "(difference_in_differences)=\n",
    "# Difference in differences\n",
    "\n",
    ":::{post} Sept, 2022\n",
    ":tags: counterfactuals, causal inference, time series, regression, posterior predictive, difference in differences, quasi experiments, panel data\n",
    ":category: intermediate\n",
    ":author: Benjamin T. Vincent\n",
    ":::"
   ]
  },
  {
   "cell_type": "code",
   "execution_count": null,
   "id": "f9fbb462-3baf-4b8d-aad4-270bbd0a4018",
   "metadata": {},
   "outputs": [],
   "source": [
    "import arviz as az\n",
    "import matplotlib.pyplot as plt\n",
    "import numpy as np\n",
    "import pandas as pd\n",
    "import pymc as pm\n",
    "import seaborn as sns"
   ]
  },
  {
   "cell_type": "code",
   "execution_count": null,
   "id": "861d3310-56d9-43cb-9baa-178e155eba3d",
   "metadata": {},
   "outputs": [],
   "source": [
    "%config InlineBackend.figure_format = 'retina'\n",
    "RANDOM_SEED = 8927\n",
    "rng = np.random.default_rng(RANDOM_SEED)\n",
    "az.style.use(\"arviz-darkgrid\")"
   ]
  },
  {
   "cell_type": "markdown",
   "id": "9b827bb1-ce58-436c-b4d0-e4931c4f1829",
   "metadata": {},
   "source": [
    "## Introduction\n",
    "\n",
    "This notebook provides a brief overview of the difference in differences approach to causal inference, and shows a working example of how to conduct this type of analysis under the Bayesian framework, using PyMC. While the notebooks provides a high level overview of the approach, I recommend consulting two excellent textbooks on causal inference. Both [The Effect](https://theeffectbook.net/) {cite:p}`huntington2021effect` and [Causal Inference: The Mixtape](https://mixtape.scunning.com) {cite:p}`cunningham2021causal` have chapters devoted to difference in differences.\n",
    "\n",
    "[Difference in differences](https://en.wikipedia.org/wiki/Difference_in_differences) would be a good approach to take for causal inference if:\n",
    "* you want to know the causal impact of a treatment/intervention\n",
    "* you have pre and post treatment measures\n",
    "* you have both a treatment and a control group\n",
    "* the treatment was _not_ allocated by randomisation, that is, you are in a [quasi-experimental](https://en.wikipedia.org/wiki/Quasi-experiment) setting.\n",
    "\n",
    "Otherwise there are likely better suited approaches you could use.\n",
    "\n",
    "Note that our desire to estimate the causal impact of a treatment involves [counterfactual thinking](https://en.wikipedia.org/wiki/Counterfactual_thinking). This is because we are asking \"What would the post-treatment outcome of the treatment group be _if_ treatment had not been administered?\" but we can never observe this."
   ]
  },
  {
   "cell_type": "markdown",
   "id": "6ec005f3-c443-4243-a4f5-c86252367fe8",
   "metadata": {},
   "source": [
    "### Example\n",
    "\n",
    "A classic example is given by a study by {cite:t}`card1993minimum`. This study examined the effects of increasing the minimum wage upon employment in the fast food sector. This is a quasi-experimental setting because the intervention (increase in minimum wages) was not applied to different geographical units (e.g. states) randomly. The intevention was applied to New Jersey in April 1992. If they measured pre and post intervention employment rates in New Jersey only, then they would have failed to control for omitted variables changing over time (e.g. seasonal effects) which could provide alternative causal explanations for changes in employment rates. But by selecting a control state (Pennsylvania), this allows one to infer that changes in employment in Pennsylvania would match the counterfactual - what _would have happened if_ New Jersey had not received the intervention?"
   ]
  },
  {
   "cell_type": "markdown",
   "id": "54f5c8aa-2a4d-4b77-ba64-a0e9df729103",
   "metadata": {},
   "source": [
    "### Causal DAG\n",
    "\n",
    "The causal DAG for difference in differences is given below. It says:\n",
    "* Treatment status of an observation is causally influenced by group and time. Note that treatment and group are different things. Group is either experimental or control, but the experimental group is only 'treated' after the intervention time, hence treatment status depends on both group and time.\n",
    "* The outcome measured is causally influenced by time, group, and treatment.\n",
    "* No additional causal influences are considered.\n",
    "\n",
    "We are primarily interested in the effect of the treatment upon the outcome and how this changes over time (pre to post treatment). If we only focused on treatment, time and outcome on the treatment group (i.e. not have a control group), then we would be unable to attribute changes in the outcome to the treatment rather than any number of other factors occurring over time to the treatment group. Another way of saying this is that treatment would be fully determined by time, so there is no way to disambiguate the changes in the pre and post outcome measures as being caused by treatment or time. \n",
    "\n",
    "![](DAG_difference_in_differences.png)\n",
    "\n",
    "But by adding a control group, we are able to compare the changes in time of the control group and the changes in time of the treatment group. One of the key assumptions in the difference in differences approach is the _parallel trends assumption_ - that both groups change in similar ways over time. Another way of saying this is that _if_ the control and treatment groups change in similar ways over time, then we can be fairly convinced that difference in differences in groups over time is due to the treatment."
   ]
  },
  {
   "cell_type": "markdown",
   "id": "4027ed40-1bb7-4f35-833b-3cd428741ae5",
   "metadata": {},
   "source": [
    "### Define the difference in differences model\n",
    "\n",
    "**Note:** I'm defining this model slightly differently compared to what you might find in other sources. This is to facilitate counterfactual inference later on in the notebook, and to emphasise the assumptions about trends over continuous time.\n",
    "\n",
    "First, let's define a Python function to calculate the expected value of the outcome:"
   ]
  },
  {
   "cell_type": "code",
   "execution_count": null,
   "id": "51e9b3ed-c4a4-4944-bcc7-b282cc57fabe",
   "metadata": {},
   "outputs": [],
   "source": [
    "def outcome(t, control_intercept, treat_intercept_delta, trend, Δ, group, treated):\n",
    "    return control_intercept + (treat_intercept_delta * group) + (t * trend) + (Δ * treated * group)"
   ]
  },
  {
   "cell_type": "markdown",
   "id": "9f2e9dba-debc-4474-ab9b-3db6d5e652c7",
   "metadata": {},
   "source": [
    "But we should take a closer look at this with mathematical notation. The expected value of the $i^{th}$ observation is $\\mu_i$ and is defined by:\n",
    "\n",
    "$$\n",
    "\\mu_i = \\beta_{c} \n",
    "        + (\\beta_{\\Delta} \\cdot \\mathrm{group}_i)\n",
    "        + (\\mathrm{trend} \\cdot t_i)\n",
    "        + (\\Delta \\cdot \\mathrm{treated}_i \\cdot \\mathrm{group}_i)\n",
    "$$\n",
    "\n",
    "where there are the following parameters:\n",
    "* $\\beta_c$ is the intercept for the control group\n",
    "* $\\beta_{\\Delta}$ is a deflection of the treatment group intercept from the control group intercept\n",
    "* $\\Delta$ is the causal impact of the treatment\n",
    "* $\\mathrm{trend}$ is the slope, and a core assumption of the model is that the slopes are identical for both groups\n",
    "\n",
    "and the following observed data:\n",
    "* $t_i$ is time, scaled conveniently so that the pre-intervention measurement time is at $t=0$ and the post-intervention measurement time is $t=1$\n",
    "* $\\mathrm{group}_i$ is a dummy variable for control ($g=0$) or treatment ($g=1$) group\n",
    "* $\\mathrm{treated}_i$ is a binary indicator variable for untreated or treated. And this is function of both time and group: $\\mathrm{treated}_i = f(t_i, \\mathrm{group}_i)$.\n",
    "\n",
    "We can underline this latter point that treatment is causally influenced by time and group by looking at the DAG above, and by writing a Python function to define this function."
   ]
  },
  {
   "cell_type": "code",
   "execution_count": null,
   "id": "593700d9-6d14-441a-99d3-188129fd5c70",
   "metadata": {},
   "outputs": [],
   "source": [
    "def is_treated(t, intervention_time, group):\n",
    "    return (t > intervention_time) * group"
   ]
  },
  {
   "cell_type": "markdown",
   "id": "1356e11c-bc71-4df7-ae38-6ca433533793",
   "metadata": {},
   "source": [
    "### Visualise the difference in differences model\n",
    "Very often a picture is worth a thousand words, so if the description above was confusing, then I'd recommend re-reading it after getting some more visual intuition from the plot below."
   ]
  },
  {
   "cell_type": "code",
   "execution_count": null,
   "id": "8b96a0e9-98c4-4498-a399-74869007d601",
   "metadata": {},
   "outputs": [],
   "source": [
    "# true parameters\n",
    "control_intercept = 1\n",
    "treat_intercept_delta = 0.25\n",
    "trend = 1\n",
    "Δ = 0.5\n",
    "intervention_time = 0.5"
   ]
  },
  {
   "cell_type": "code",
   "execution_count": null,
   "id": "04422046-ffd5-4a26-bb78-b78861dda2f2",
   "metadata": {
    "tags": [
     "hide-input"
    ]
   },
   "outputs": [],
   "source": [
    "fig, ax = plt.subplots()\n",
    "ti = np.linspace(-0.5, 1.5, 1000)\n",
    "ax.plot(\n",
    "    ti,\n",
    "    outcome(\n",
    "        ti,\n",
    "        control_intercept,\n",
    "        treat_intercept_delta,\n",
    "        trend,\n",
    "        Δ=0,\n",
    "        group=1,\n",
    "        treated=is_treated(ti, intervention_time, group=1),\n",
    "    ),\n",
    "    color=\"blue\",\n",
    "    label=\"counterfactual\",\n",
    "    ls=\":\",\n",
    ")\n",
    "ax.plot(\n",
    "    ti,\n",
    "    outcome(\n",
    "        ti,\n",
    "        control_intercept,\n",
    "        treat_intercept_delta,\n",
    "        trend,\n",
    "        Δ,\n",
    "        group=1,\n",
    "        treated=is_treated(ti, intervention_time, group=1),\n",
    "    ),\n",
    "    color=\"blue\",\n",
    "    label=\"treatment group\",\n",
    ")\n",
    "ax.plot(\n",
    "    ti,\n",
    "    outcome(\n",
    "        ti,\n",
    "        control_intercept,\n",
    "        treat_intercept_delta,\n",
    "        trend,\n",
    "        Δ,\n",
    "        group=0,\n",
    "        treated=is_treated(ti, intervention_time, group=0),\n",
    "    ),\n",
    "    color=\"C1\",\n",
    "    label=\"control group\",\n",
    ")\n",
    "ax.axvline(x=intervention_time, ls=\"-\", color=\"r\", label=\"treatment time\", lw=3)\n",
    "t = np.array([0, 1])\n",
    "ax.plot(\n",
    "    t,\n",
    "    outcome(\n",
    "        t,\n",
    "        control_intercept,\n",
    "        treat_intercept_delta,\n",
    "        trend,\n",
    "        Δ,\n",
    "        group=1,\n",
    "        treated=is_treated(t, intervention_time, group=1),\n",
    "    ),\n",
    "    \"o\",\n",
    "    color=\"blue\",\n",
    ")\n",
    "ax.plot(\n",
    "    t,\n",
    "    outcome(\n",
    "        t,\n",
    "        control_intercept,\n",
    "        treat_intercept_delta,\n",
    "        trend,\n",
    "        Δ=0,\n",
    "        group=0,\n",
    "        treated=is_treated(t, intervention_time, group=0),\n",
    "    ),\n",
    "    \"o\",\n",
    "    color=\"C1\",\n",
    ")\n",
    "ax.set(\n",
    "    xlabel=\"time\",\n",
    "    ylabel=\"metric\",\n",
    "    xticks=t,\n",
    "    xticklabels=[\"pre\", \"post\"],\n",
    "    title=\"Difference in Differences\",\n",
    ")\n",
    "ax.legend();"
   ]
  },
  {
   "cell_type": "markdown",
   "id": "0df51803-3bd6-4087-8bea-c81f8d4d371d",
   "metadata": {},
   "source": [
    "So we can summarise the intuition of difference in differences by looking at this plot:\n",
    "* We assume that the treatment and control groups are evolving over time in a similar manner.\n",
    "* We can easily estimate the slope of the control group from pre to post treatment.\n",
    "* We can engage in counterfactual thinking and can ask: \"What would the post-treatment outcome of the treatment group be _if_ they had not been treated?\"\n",
    "\n",
    "If we can answer that question and estimate this counterfactual quantity, then we can ask: \"What is the causal impact of the treatment?\" And we can answer this question by comparing the observed post treatment outcome of the treatment group against the counterfactual quantity.\n",
    "\n",
    "We can think about this visually and state another way... By looking at the pre/post difference in the control group, we can attribute any differences in the pre/post differences of the control and treatment groups to the causal effect of the treatment. And that is why the method is called difference in differences."
   ]
  },
  {
   "cell_type": "markdown",
   "id": "a6cd0345-2b87-4a23-9112-6d708bca1e0f",
   "metadata": {},
   "source": [
    "## Generate a synthetic dataset"
   ]
  },
  {
   "cell_type": "code",
   "execution_count": null,
   "id": "0042475b-c2ac-406b-92b4-a259bad1e8d3",
   "metadata": {},
   "outputs": [],
   "source": [
    "df = pd.DataFrame(\n",
    "    {\n",
    "        \"group\": [0, 0, 1, 1] * 10,\n",
    "        \"t\": [0.0, 1.0, 0.0, 1.0] * 10,\n",
    "        \"unit\": np.concatenate([[i] * 2 for i in range(20)]),\n",
    "    }\n",
    ")\n",
    "\n",
    "df[\"treated\"] = is_treated(df[\"t\"], intervention_time, df[\"group\"])\n",
    "\n",
    "df[\"y\"] = outcome(\n",
    "    df[\"t\"],\n",
    "    control_intercept,\n",
    "    treat_intercept_delta,\n",
    "    trend,\n",
    "    Δ,\n",
    "    df[\"group\"],\n",
    "    df[\"treated\"],\n",
    ")\n",
    "df[\"y\"] += rng.normal(0, 0.1, df.shape[0])\n",
    "df.head()"
   ]
  },
  {
   "cell_type": "markdown",
   "id": "b513d2b4-50c1-4ebf-a4e7-c1eeb7cb4f4d",
   "metadata": {},
   "source": [
    "So we see that we have [panel data](https://en.wikipedia.org/wiki/Panel_data) with just two points in time: the pre ($t=0$) and post ($t=1$) intervention measurement times."
   ]
  },
  {
   "cell_type": "code",
   "execution_count": null,
   "id": "d9e561e6-cec5-4dc6-9f20-ea81622a3e34",
   "metadata": {},
   "outputs": [],
   "source": [
    "sns.lineplot(df, x=\"t\", y=\"y\", hue=\"group\", units=\"unit\", estimator=None)\n",
    "sns.scatterplot(df, x=\"t\", y=\"y\", hue=\"group\");"
   ]
  },
  {
   "cell_type": "markdown",
   "id": "0b716856-aea6-4bc6-abbb-063ffecd72f4",
   "metadata": {},
   "source": [
    "If we wanted, we could calculate a point estimate of the difference in differences (in a non-regression approach) like this."
   ]
  },
  {
   "cell_type": "code",
   "execution_count": null,
   "id": "067cebfe-0ac5-4fea-a990-f0da92646f89",
   "metadata": {},
   "outputs": [],
   "source": [
    "diff_control = (\n",
    "    df.loc[(df[\"t\"] == 1) & (df[\"group\"] == 0)][\"y\"].mean()\n",
    "    - df.loc[(df[\"t\"] == 0) & (df[\"group\"] == 0)][\"y\"].mean()\n",
    ")\n",
    "print(f\"Pre/post difference in control group = {diff_control:.2f}\")\n",
    "\n",
    "diff_treat = (\n",
    "    df.loc[(df[\"t\"] == 1) & (df[\"group\"] == 1)][\"y\"].mean()\n",
    "    - df.loc[(df[\"t\"] == 0) & (df[\"group\"] == 1)][\"y\"].mean()\n",
    ")\n",
    "\n",
    "print(f\"Pre/post difference in treatment group = {diff_treat:.2f}\")\n",
    "\n",
    "diff_in_diff = diff_treat - diff_control\n",
    "print(f\"Difference in differences = {diff_in_diff:.2f}\")"
   ]
  },
  {
   "cell_type": "markdown",
   "id": "88f55871-35d3-4976-91da-063353934447",
   "metadata": {},
   "source": [
    "But hang on, we are Bayesians! Let's Bayes..."
   ]
  },
  {
   "cell_type": "markdown",
   "id": "2b8fad31-8193-4e5e-80b9-81c0e08ba85e",
   "metadata": {},
   "source": [
    "## Bayesian difference in differences"
   ]
  },
  {
   "cell_type": "markdown",
   "id": "650f3ee3-4fa3-48d8-b947-93f5eed44eae",
   "metadata": {},
   "source": [
    "### PyMC model\n",
    "For those already well-versed in PyMC, you can see that this model is pretty simple. We just have a few components:\n",
    "* Define data nodes. This is optional, but useful later when we run posterior predictive checks and counterfactual inference\n",
    "* Define priors\n",
    "* Evaluate the model expectation using the `outcome` function that we already defined above\n",
    "* Define a normal likelihood distribution."
   ]
  },
  {
   "cell_type": "code",
   "execution_count": null,
   "id": "e95f960c-2c36-4f18-9f74-d40ca74e8e17",
   "metadata": {},
   "outputs": [],
   "source": [
    "with pm.Model() as model:\n",
    "    # data\n",
    "    t = pm.MutableData(\"t\", df[\"t\"].values, dims=\"obs_idx\")\n",
    "    treated = pm.MutableData(\"treated\", df[\"treated\"].values, dims=\"obs_idx\")\n",
    "    group = pm.MutableData(\"group\", df[\"group\"].values, dims=\"obs_idx\")\n",
    "    # priors\n",
    "    _control_intercept = pm.Normal(\"control_intercept\", 0, 5)\n",
    "    _treat_intercept_delta = pm.Normal(\"treat_intercept_delta\", 0, 1)\n",
    "    _trend = pm.Normal(\"trend\", 0, 5)\n",
    "    _Δ = pm.Normal(\"Δ\", 0, 1)\n",
    "    sigma = pm.HalfNormal(\"sigma\", 1)\n",
    "    # expectation\n",
    "    mu = pm.Deterministic(\n",
    "        \"mu\",\n",
    "        outcome(t, _control_intercept, _treat_intercept_delta, _trend, _Δ, group, treated),\n",
    "        dims=\"obs_idx\",\n",
    "    )\n",
    "    # likelihood\n",
    "    pm.Normal(\"obs\", mu, sigma, observed=df[\"y\"].values, dims=\"obs_idx\")"
   ]
  },
  {
   "cell_type": "code",
   "execution_count": null,
   "id": "58dd8e26-5ab0-4002-b9bd-96344a6b8fde",
   "metadata": {},
   "outputs": [],
   "source": [
    "pm.model_to_graphviz(model)"
   ]
  },
  {
   "cell_type": "markdown",
   "id": "04072646-e3fd-415c-8227-5f6dedf18b41",
   "metadata": {},
   "source": [
    "### Inference"
   ]
  },
  {
   "cell_type": "code",
   "execution_count": null,
   "id": "b9553c89-7920-49da-b10d-f9026715239d",
   "metadata": {},
   "outputs": [],
   "source": [
    "with model:\n",
    "    idata = pm.sample()"
   ]
  },
  {
   "cell_type": "code",
   "execution_count": null,
   "id": "dfc837b6-c87c-451d-99aa-418a591bccfa",
   "metadata": {},
   "outputs": [],
   "source": [
    "az.plot_trace(idata, var_names=\"~mu\");"
   ]
  },
  {
   "cell_type": "markdown",
   "id": "1f3769c2-b3c5-4b17-a043-015a08787b77",
   "metadata": {},
   "source": [
    "### Posterior prediction\n",
    "NOTE: Technically we are doing 'pushforward prediction' for $\\mu$ as this is a deterministic function of it's inputs. Posterior prediction would be a more appropriate label if we generated predicted observations - these would be stochastic based on the normal likelihood we've specified for our data. Nevertheless, this section is called 'posterior prediction' to emphasise the fact that we are following the Bayesian workflow."
   ]
  },
  {
   "cell_type": "code",
   "execution_count": null,
   "id": "ec474596-749f-4feb-931a-2bfea4d0e84a",
   "metadata": {},
   "outputs": [],
   "source": [
    "# pushforward predictions for control group\n",
    "with model:\n",
    "    group_control = [0] * len(ti)  # must be integers\n",
    "    treated = [0] * len(ti)  # must be integers\n",
    "    pm.set_data({\"t\": ti, \"group\": group_control, \"treated\": treated})\n",
    "    ppc_control = pm.sample_posterior_predictive(idata, var_names=[\"mu\"])\n",
    "\n",
    "# pushforward predictions for treatment group\n",
    "with model:\n",
    "    group = [1] * len(ti)  # must be integers\n",
    "    pm.set_data(\n",
    "        {\n",
    "            \"t\": ti,\n",
    "            \"group\": group,\n",
    "            \"treated\": is_treated(ti, intervention_time, group),\n",
    "        }\n",
    "    )\n",
    "    ppc_treatment = pm.sample_posterior_predictive(idata, var_names=[\"mu\"])\n",
    "\n",
    "# counterfactual: what do we predict of the treatment group (after the intervention) if\n",
    "# they had _not_ been treated?\n",
    "t_counterfactual = np.linspace(intervention_time, 1.5, 100)\n",
    "with model:\n",
    "    group = [1] * len(t_counterfactual)  # must be integers\n",
    "    pm.set_data(\n",
    "        {\n",
    "            \"t\": t_counterfactual,\n",
    "            \"group\": group,\n",
    "            \"treated\": [0] * len(t_counterfactual),  # THIS IS OUR COUNTERFACTUAL\n",
    "        }\n",
    "    )\n",
    "    ppc_counterfactual = pm.sample_posterior_predictive(idata, var_names=[\"mu\"])"
   ]
  },
  {
   "cell_type": "markdown",
   "id": "79e75162-dcf9-4185-a3cb-3e3d28c08bbc",
   "metadata": {},
   "source": [
    "## Wrapping up\n",
    "We can plot what we've learnt below:"
   ]
  },
  {
   "cell_type": "code",
   "execution_count": null,
   "id": "ece823d0-5718-410e-83a5-290cedb22145",
   "metadata": {
    "tags": [
     "hide-input"
    ]
   },
   "outputs": [],
   "source": [
    "ax = sns.scatterplot(df, x=\"t\", y=\"y\", hue=\"group\")\n",
    "\n",
    "az.plot_hdi(\n",
    "    ti,\n",
    "    ppc_control.posterior_predictive[\"mu\"],\n",
    "    smooth=False,\n",
    "    ax=ax,\n",
    "    color=\"blue\",\n",
    "    fill_kwargs={\"label\": \"control HDI\"},\n",
    ")\n",
    "az.plot_hdi(\n",
    "    ti,\n",
    "    ppc_treatment.posterior_predictive[\"mu\"],\n",
    "    smooth=False,\n",
    "    ax=ax,\n",
    "    color=\"C1\",\n",
    "    fill_kwargs={\"label\": \"treatment HDI\"},\n",
    ")\n",
    "az.plot_hdi(\n",
    "    t_counterfactual,\n",
    "    ppc_counterfactual.posterior_predictive[\"mu\"],\n",
    "    smooth=False,\n",
    "    ax=ax,\n",
    "    color=\"C2\",\n",
    "    fill_kwargs={\"label\": \"counterfactual\"},\n",
    ")\n",
    "ax.axvline(x=intervention_time, ls=\"-\", color=\"r\", label=\"treatment time\", lw=3)\n",
    "ax.set(\n",
    "    xlabel=\"time\",\n",
    "    ylabel=\"metric\",\n",
    "    xticks=[0, 1],\n",
    "    xticklabels=[\"pre\", \"post\"],\n",
    "    title=\"Difference in Differences\",\n",
    ")\n",
    "ax.legend();"
   ]
  },
  {
   "cell_type": "markdown",
   "id": "451a96bc-47bf-4452-8453-faf5ff753c1f",
   "metadata": {},
   "source": [
    "This is an awesome plot, but there are quite a few things going on here, so let's go through it:\n",
    "* Blue shaded region represents credible regions for the expected value of the control group\n",
    "* Orange shaded region represents similar regions for the treatment group. We can see how the outcome jumps immediately after the intervention.\n",
    "* The green shaded region is something pretty novel, and nice. This represents our counterfactual inference of _what we would expect if_ the treatment group were never given the treatment. By definition, we never made any observations of items in the treatment group that were not treated after the intervention time. Nevertheless, with the model described at the top of the notebook and the Bayesian inference methods outlined, we can reason about such _what if_ questions. \n",
    "* The difference between this counterfactual expectation and the observed values (post treatment in the treatment condition) represents our inferred causal impact of the treatment. Let's take a look at that posterior distribution in more detail:"
   ]
  },
  {
   "cell_type": "code",
   "execution_count": null,
   "id": "d417728d-a3db-4511-8378-9b00f00e4339",
   "metadata": {},
   "outputs": [],
   "source": [
    "ax = az.plot_posterior(idata.posterior[\"Δ\"], ref_val=Δ, figsize=(10, 3))\n",
    "ax.set(title=r\"Posterior distribution of causal impact of treatment, $\\Delta$\");"
   ]
  },
  {
   "cell_type": "markdown",
   "id": "e1fa9af7-2ef5-4ad7-acbe-b497e052ab2c",
   "metadata": {},
   "source": [
    "So there we have it, we have a full posterior distribution over our estimated causal impact using the difference in differences approach."
   ]
  },
  {
   "cell_type": "markdown",
   "id": "bf284262-ef3f-4cc1-af07-f20bb3c69ce3",
   "metadata": {},
   "source": [
    "## Summary\n",
    "Of course, when using the difference in differences approach for real applications, there is a lot more due diligence that's needed. Readers are encouraged to check out the textbooks listed above in the introduction as well as a useful review paper {cite:p}`wing2018designing` which covers the important contextual issues in more detail. Additionally, {cite:t}`bertrand2004much` takes a skeptical look at the approach as well as proposing solutions to some of the problems they highlight."
   ]
  },
  {
   "cell_type": "markdown",
   "id": "b3b2ee6b-2581-4ee5-a305-b9712dd49f09",
   "metadata": {},
   "source": [
    "## References\n",
    "\n",
    ":::{bibliography}\n",
    ":filter: docname in docnames\n",
    ":::"
   ]
  },
  {
   "cell_type": "markdown",
   "id": "80160e7d",
   "metadata": {},
   "source": [
    "## Authors\n",
    "- Authored by [Benjamin T. Vincent](https://github.com/drbenvincent) in Sept 2022 ([#424](https://github.com/pymc-devs/pymc-examples/pull/424)).\n",
    "- Updated by Benjamin T. Vincent in February 2023 to run on PyMC v5"
   ]
  },
  {
   "cell_type": "markdown",
   "id": "280f5198",
   "metadata": {},
   "source": [
    "## Watermark"
   ]
  },
  {
   "cell_type": "code",
   "execution_count": null,
   "id": "a0f75a9d",
   "metadata": {},
   "outputs": [],
   "source": [
    "%load_ext watermark\n",
    "%watermark -n -u -v -iv -w -p pytensor,aeppl,xarray"
   ]
  },
  {
   "cell_type": "markdown",
   "id": "389a462f",
   "metadata": {},
   "source": [
    ":::{include} ../page_footer.md\n",
    ":::"
   ]
  }
 ],
 "metadata": {
  "kernelspec": {
   "display_name": "pymc_env",
   "language": "python",
   "name": "pymc_env"
  },
  "language_info": {
   "codemirror_mode": {
    "name": "ipython",
    "version": 3
   },
   "file_extension": ".py",
   "mimetype": "text/x-python",
   "name": "python",
   "nbconvert_exporter": "python",
   "pygments_lexer": "ipython3",
   "version": "3.11.0"
  }
 },
 "nbformat": 4,
 "nbformat_minor": 5
}
