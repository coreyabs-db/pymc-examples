{
 "cells": [
  {
   "cell_type": "markdown",
   "id": "d68537ba",
   "metadata": {
    "editable": true,
    "slideshow": {
     "slide_type": ""
    },
    "tags": []
   },
   "source": [
    "(bart_categorical)=\n",
    "# Categorical regression\n",
    "\n",
    ":::{post} May, 2024\n",
    ":tags: BART, regression\n",
    ":category: beginner, reference\n",
    ":author: Pablo Garay, Osvaldo Martin\n",
    ":::"
   ]
  },
  {
   "cell_type": "markdown",
   "id": "0cf4f392-fdc7-4175-9e72-c8a334abea84",
   "metadata": {},
   "source": [
    "In this example, we will model outcomes with more than two categories.  \n",
    ":::{include} ../extra_installs.md\n",
    ":::"
   ]
  },
  {
   "cell_type": "code",
   "execution_count": null,
   "id": "7c087cca",
   "metadata": {},
   "outputs": [],
   "source": [
    "import os\n",
    "import warnings\n",
    "\n",
    "import arviz as az\n",
    "import matplotlib.pyplot as plt\n",
    "import numpy as np\n",
    "import pandas as pd\n",
    "import pymc as pm\n",
    "import pymc_bart as pmb\n",
    "import seaborn as sns\n",
    "\n",
    "warnings.simplefilter(action=\"ignore\", category=FutureWarning)"
   ]
  },
  {
   "cell_type": "code",
   "execution_count": null,
   "id": "25cf7b45",
   "metadata": {},
   "outputs": [],
   "source": [
    "# set formats\n",
    "RANDOM_SEED = 8457\n",
    "az.style.use(\"arviz-darkgrid\")"
   ]
  },
  {
   "cell_type": "markdown",
   "id": "e73740d8-8e70-48b4-b6f9-eb0c1f7ce72f",
   "metadata": {},
   "source": [
    "## Hawks dataset  \n",
    "\n",
    "Here we will use a dataset that contains information about 3 species of hawks (*CH*=Cooper's, *RT*=Red-tailed, *SS*=Sharp-Shinned). This dataset has information for 908 individuals in total, each one containing 16 variables, in addition to the species. To simplify the example, we will use the following 5 covariables:  \n",
    "- *Wing*: Length (in mm) of primary wing feather from tip to wrist it attaches to.  \n",
    "- *Weight*: Body weight (in gr).  \n",
    "- *Culmen*: Length (in mm) of the upper bill from the tip to where it bumps into the fleshy part of the bird.  \n",
    "- *Hallux*: Length (in mm) of the killing talon.  \n",
    "- *Tail*: Measurement (in mm) related to the length of the tail.  \n",
    "\n",
    "Also we are going to eliminate the NaNs in the dataset. With these we will predict the \"Species\" of hawks, in other words, these are our dependent variables, the classes we want to predict.  "
   ]
  },
  {
   "cell_type": "code",
   "execution_count": null,
   "id": "71f3a9bc-979f-44fc-8227-133349e4dfb1",
   "metadata": {},
   "outputs": [],
   "source": [
    "# Load data and eliminate NANs\n",
    "try:\n",
    "    Hawks = pd.read_csv(os.path.join(\"..\", \"data\", \"Hawks.csv\"))[\n",
    "        [\"Wing\", \"Weight\", \"Culmen\", \"Hallux\", \"Tail\", \"Species\"]\n",
    "    ].dropna()\n",
    "except FileNotFoundError:\n",
    "    Hawks = pd.read_csv(pm.get_data(\"Hawks.csv\"))[\n",
    "        [\"Wing\", \"Weight\", \"Culmen\", \"Hallux\", \"Tail\", \"Species\"]\n",
    "    ].dropna()\n",
    "\n",
    "Hawks.head()"
   ]
  },
  {
   "cell_type": "markdown",
   "id": "dcd94b1d-c0e1-417a-bef2-07fb09bd16af",
   "metadata": {},
   "source": [
    "## EDA  \n",
    "The following compares covariables to get a rapid data visualization for the 3 species.  "
   ]
  },
  {
   "cell_type": "code",
   "execution_count": null,
   "id": "5d72ac94-e129-4c56-a20a-896071084851",
   "metadata": {},
   "outputs": [],
   "source": [
    "sns.pairplot(Hawks, hue=\"Species\");"
   ]
  },
  {
   "cell_type": "markdown",
   "id": "d23645c6",
   "metadata": {},
   "source": [
    "It can be seen that the RT species have distributions more differentiated than the other two in almost all covariables, and the covariables wing, weight, and culmen present certain separations between species. Still, none of the variables have a marked separation among the species distributions such that they can cleanly separate them. It is possible to make a combination of covariables, probably wing, weight, and culmen, to achieve the classification. These are the principal reasons for realizing the regression.  "
   ]
  },
  {
   "cell_type": "markdown",
   "id": "837acd3c-3799-4636-b543-6584e3bf36ba",
   "metadata": {},
   "source": [
    "## Model Specification  \n",
    "\n",
    "First, we are going to prepare the data for the model, using \"Species\" as response and, \"Wing\", \"Weight\", \"Culmen\", \"Hallux\" and \"Tail\" as predictors. Using `pd.Categorical(Hawks['Species']).codes` we can codify the name species into integers between 0 and 2, being 0=\"CH\", 1=\"RT\" and 2=\"SS\".  "
   ]
  },
  {
   "cell_type": "code",
   "execution_count": null,
   "id": "0cef813f-4b9e-45cc-9de8-0b572ff24a71",
   "metadata": {},
   "outputs": [],
   "source": [
    "y_0 = pd.Categorical(Hawks[\"Species\"]).codes\n",
    "x_0 = Hawks[[\"Wing\", \"Weight\", \"Culmen\", \"Hallux\", \"Tail\"]]\n",
    "print(len(x_0), x_0.shape, y_0.shape)"
   ]
  },
  {
   "cell_type": "markdown",
   "id": "9fad0a4e-951a-4bc3-ba67-31de2336d66e",
   "metadata": {},
   "source": [
    "We only can have an instance of {class}`~pymc_bart.BART()` in each pymc model (for now), so to model 3 species we can use coordinate and dimension names to specify the shapes of variables, *indicating* that there are 891 rows of information for 3 species. This step facilite the later selection of groups from the `InferenceData`.  "
   ]
  },
  {
   "cell_type": "code",
   "execution_count": null,
   "id": "bc1f6da6-4658-4515-a7f0-85a4dde4f913",
   "metadata": {},
   "outputs": [],
   "source": [
    "_, species = pd.factorize(Hawks[\"Species\"], sort=True)\n",
    "species"
   ]
  },
  {
   "cell_type": "code",
   "execution_count": null,
   "id": "28aaff11-b625-48b2-81cb-e53ed9db299e",
   "metadata": {},
   "outputs": [],
   "source": [
    "coords = {\"n_obs\": np.arange(len(x_0)), \"species\": species}"
   ]
  },
  {
   "cell_type": "markdown",
   "id": "ed6f7fe2-5fb9-4b35-8713-2b8f849d519a",
   "metadata": {},
   "source": [
    "In this model we use the `pm.math.softmax()` function, for $\\mu$ from `pmb.BART()`, because guarantees that the vector sums to 1 along the `axis=0` in this case.  "
   ]
  },
  {
   "cell_type": "code",
   "execution_count": null,
   "id": "c8e25287-6a64-4426-9bae-ee0403933d97",
   "metadata": {},
   "outputs": [],
   "source": [
    "with pm.Model(coords=coords) as model_hawks:\n",
    "    μ = pmb.BART(\"μ\", x_0, y_0, m=50, dims=[\"species\", \"n_obs\"])\n",
    "    θ = pm.Deterministic(\"θ\", pm.math.softmax(μ, axis=0))\n",
    "    y = pm.Categorical(\"y\", p=θ.T, observed=y_0)\n",
    "\n",
    "pm.model_to_graphviz(model=model_hawks)"
   ]
  },
  {
   "cell_type": "markdown",
   "id": "2a11faec-d6fd-4f71-bf6a-3bf465340075",
   "metadata": {},
   "source": [
    " Now fit the model and get samples from the posterior."
   ]
  },
  {
   "cell_type": "code",
   "execution_count": null,
   "id": "8354d731-7b27-4c01-84d3-7279842598cb",
   "metadata": {},
   "outputs": [],
   "source": [
    "with model_hawks:\n",
    "    idata = pm.sample(chains=4, compute_convergence_checks=False, random_seed=123)\n",
    "    pm.sample_posterior_predictive(idata, extend_inferencedata=True)"
   ]
  },
  {
   "cell_type": "markdown",
   "id": "fb2e357e-502e-4ac5-9d53-928437bd2a4e",
   "metadata": {},
   "source": [
    "## Results  \n",
    "\n",
    "### Variable Importance  \n",
    "\n",
    "It may be that some of the input variables are not informative for classifying by species, so in the interest of parsimony and in reducing the computational cost of model estimation, it is useful to quantify the importance of each variable in the dataset. PyMC-BART provides the function {func}`~pymc_bart.plot_variable_importance()`, which generates a plot that shows on his x-axis the number of covariables and on the y-axis the R$^2$ (the square of the Pearson correlation coefficient) between the predictions made for the full model (all variables included) and the restricted models, those with only a subset of the variables. The error bars represent the 94 % HDI from the posterior predictive distribution. "
   ]
  },
  {
   "cell_type": "code",
   "execution_count": null,
   "id": "a9d1c616-8c1f-4907-ad5a-adffb290c0c2",
   "metadata": {
    "editable": true,
    "slideshow": {
     "slide_type": ""
    },
    "tags": []
   },
   "outputs": [],
   "source": [
    "pmb.plot_variable_importance(idata, μ, x_0, method=\"VI\", random_seed=RANDOM_SEED);"
   ]
  },
  {
   "cell_type": "markdown",
   "id": "70e45086-9516-4d2e-9357-56c1f4cfc9d4",
   "metadata": {},
   "source": [
    "It can be observed that with the covariables `Hallux`, `Culmen`, and `Wing` we achieve the same R$^2$ value that we obtained with all the covariables, this is that the last two covariables contribute less than the other three to the classification. One thing we have to take into account in this is that the HDI is quite wide, which gives us less precision on the results, later we are going to see a way to reduce this.    "
   ]
  },
  {
   "cell_type": "markdown",
   "id": "9f6a3a64-244c-4902-b6ee-d8f2cb192ee4",
   "metadata": {},
   "source": [
    "### Partial Dependence Plot\n",
    "\n",
    "Let's check the behavior of each covariable for each species with `pmb.plot_pdp()`, which shows the marginal effect a covariate has on the predicted variable, while we average over all the other covariates.  "
   ]
  },
  {
   "cell_type": "code",
   "execution_count": null,
   "id": "d07c4ab5-5881-4dea-aab6-d857b7710682",
   "metadata": {},
   "outputs": [],
   "source": [
    "pmb.plot_pdp(μ, X=x_0, Y=y_0, grid=(5, 3), figsize=(6, 9));"
   ]
  },
  {
   "cell_type": "markdown",
   "id": "79778c32-0ad5-4553-9279-1ec054909d3d",
   "metadata": {},
   "source": [
    "The pdp plot, together with the Variable Importance plot, confirms that `Tail` is the covariable with the smaller effect over the predicted variable. In the Variable Importance plot `Tail` is the last covariable to be added and does not improve the result, in the pdp plot `Tail` has the flattest response. For the rest of the covariables in this plot, it's hard to see which of them have more effect over the predicted variable, because they have great variability, showed in the HDI wide, same as before later we are going to see a way to reduce this variability. Finally, some variability depends on the amount of data for each species, which we can see  in the `counts` from one of the covariables using Pandas `.describe()` and grouping the data from \"Species\" with `.groupby(\"Species\")`.  "
   ]
  },
  {
   "cell_type": "markdown",
   "id": "af3f0f6e-706f-4bb0-80b1-36fd5997d010",
   "metadata": {},
   "source": [
    "### Predicted vs Observed  \n",
    "\n",
    "Now we are going to compare the predicted data with the observed data to evaluate the fit of the model, we do this with the Arviz function `az.plot_ppc()`.  "
   ]
  },
  {
   "cell_type": "code",
   "execution_count": null,
   "id": "b807f230",
   "metadata": {},
   "outputs": [],
   "source": [
    "ax = az.plot_ppc(idata, kind=\"kde\", num_pp_samples=200, random_seed=123)\n",
    "# plot aesthetics\n",
    "ax.set_ylim(0, 0.7)\n",
    "ax.set_yticks([0, 0.2, 0.4, 0.6])\n",
    "ax.set_ylabel(\"Probability\")\n",
    "ax.set_xticks([0.5, 1.5, 2.5])\n",
    "ax.set_xticklabels([\"CH\", \"RT\", \"SS\"])\n",
    "ax.set_xlabel(\"Species\");"
   ]
  },
  {
   "cell_type": "markdown",
   "id": "24c05611-1d2d-424c-9546-a5ab840cebe1",
   "metadata": {},
   "source": [
    "We can see a good agreement between the observed data (black line) and those predicted by the model (blue and orange lines). As we mentioned before, the difference in the values between species is influenced by the amount of data for each one. Here there is no observed dispersion in the predicted data as we saw in the previous two plots.  "
   ]
  },
  {
   "cell_type": "markdown",
   "id": "cb877ab9-b941-467d-9602-d72e702e6b93",
   "metadata": {},
   "source": [
    "Below we see that the in-sample predictions provide very good agreement with the observations.  "
   ]
  },
  {
   "cell_type": "code",
   "execution_count": null,
   "id": "11282942",
   "metadata": {},
   "outputs": [],
   "source": [
    "np.mean((idata.posterior_predictive[\"y\"] - y_0) == 0) * 100"
   ]
  },
  {
   "cell_type": "code",
   "execution_count": null,
   "id": "a591793d",
   "metadata": {},
   "outputs": [],
   "source": [
    "all = 0\n",
    "for i in range(3):\n",
    "    perct_per_class = np.mean(idata.posterior_predictive[\"y\"].where(y_0 == i) == i) * 100\n",
    "    all += perct_per_class\n",
    "    print(perct_per_class)\n",
    "all"
   ]
  },
  {
   "cell_type": "markdown",
   "id": "488792c2-e8a0-4d5f-b57c-8f1d2d7e5414",
   "metadata": {},
   "source": [
    "So far we have a very good result concerning the classification of the species based on the 5 covariables. However, if we want to select a subset of covariable to perform future classifications is not very clear which of them to select. Maybe something sure is that `Tail` could be eliminated. At the beginning when we plot the distribution of each covariable we said that the most important variables to make the classification could be `Wing`, `Weight` and, `Culmen`, nevertheless after running the model we saw that `Hallux`, `Culmen` and, `Wing`, proved to be the most important ones.\n",
    "\n",
    "Unfortunatelly, the partial dependence plots show a very wide dispersion, making results look suspicious. One way to reduce this variability is adjusting independent trees, below we will see how to do this and get a more accurate result. "
   ]
  },
  {
   "cell_type": "markdown",
   "id": "87ca460c-61ef-4fc9-a5fc-f58bdebe248e",
   "metadata": {},
   "source": [
    "## Fitting independent trees  \n",
    "\n",
    "The option to fit independent trees with `pymc-bart` is set with the parameter `pmb.BART(..., separate_trees=True, ...)`. As we will see, for this example, using this option doesn't give a big difference in the predictions, but helps us to reduce the variability in the ppc and get a small improvement in the in-sample comparison. In case this option is used with bigger datasets you have to take into account that the model fits more slowly, so you can obtain a better result at the expense of computational cost. The following code runs the same model and analysis as before, but fitting independent trees. Compare the time to run this model with the previous one.  "
   ]
  },
  {
   "cell_type": "code",
   "execution_count": null,
   "id": "eaf020bd-fd05-4ffd-a3f7-98f3a4a5c6ad",
   "metadata": {},
   "outputs": [],
   "source": [
    "with pm.Model(coords=coords) as model_t:\n",
    "    μ_t = pmb.BART(\"μ\", x_0, y_0, m=50, separate_trees=True, dims=[\"species\", \"n_obs\"])\n",
    "    θ_t = pm.Deterministic(\"θ\", pm.math.softmax(μ_t, axis=0))\n",
    "    y_t = pm.Categorical(\"y\", p=θ_t.T, observed=y_0)\n",
    "    idata_t = pm.sample(chains=4, compute_convergence_checks=False, random_seed=123)\n",
    "    pm.sample_posterior_predictive(idata_t, extend_inferencedata=True)"
   ]
  },
  {
   "cell_type": "markdown",
   "id": "60dc23a9-2351-4502-824a-944e0f454c4c",
   "metadata": {},
   "source": [
    "Now we are going to reproduce the same analyses as before.  "
   ]
  },
  {
   "cell_type": "code",
   "execution_count": null,
   "id": "a05a3d39-307a-4c08-93ec-3a0503ea6c25",
   "metadata": {},
   "outputs": [],
   "source": [
    "pmb.plot_variable_importance(idata_t, μ_t, x_0, method=\"VI\", random_seed=RANDOM_SEED);"
   ]
  },
  {
   "cell_type": "code",
   "execution_count": null,
   "id": "38535013-27be-438a-b91d-d687d4a6ece2",
   "metadata": {},
   "outputs": [],
   "source": [
    "pmb.plot_pdp(μ_t, X=x_0, Y=y_0, grid=(5, 3), figsize=(6, 9));"
   ]
  },
  {
   "cell_type": "markdown",
   "id": "c4da7fc0-7a91-4ab0-81a2-5ed27e65c3ed",
   "metadata": {},
   "source": [
    "Comparing these two plots with the previous ones shows a marked reduction in the variance for each one. In the case of `pmb.plot_variable_importance()` there are smallers error bands with an R$^{2}$ value more close to 1. And for `pm.plot_pdp()` we can see thinner bands and a reduction in the limits on the y-axis, this is a representation of the reduction of the uncertainty due to adjusting the trees separately. Another benefit of this is that is more visible the behavior of each covariable for each one of the species.   \n",
    "\n",
    "With all these together, we can select `Hallux`, `Culmen`, and, `Wing` as covariables to make the classification."
   ]
  },
  {
   "cell_type": "markdown",
   "id": "2d118516-b630-4b7e-9ebe-364ff8cb9739",
   "metadata": {},
   "source": [
    "Concerning the comparison between observed and predicted data, we obtain the same good result with less uncertainty for the predicted values (blue lines). And the same counts for the in-sample comparison.  "
   ]
  },
  {
   "cell_type": "code",
   "execution_count": null,
   "id": "58bc471b-e67e-4d9b-a504-da5913e923db",
   "metadata": {},
   "outputs": [],
   "source": [
    "ax = az.plot_ppc(idata_t, kind=\"kde\", num_pp_samples=100, random_seed=123)\n",
    "ax.set_ylim(0, 0.7)\n",
    "ax.set_yticks([0, 0.2, 0.4, 0.6])\n",
    "ax.set_ylabel(\"Probability\")\n",
    "ax.set_xticks([0.5, 1.5, 2.5])\n",
    "ax.set_xticklabels([\"CH\", \"RT\", \"SS\"])\n",
    "ax.set_xlabel(\"Species\");"
   ]
  },
  {
   "cell_type": "code",
   "execution_count": null,
   "id": "2c369133-8f7d-407d-a2c2-bddc664eacb7",
   "metadata": {},
   "outputs": [],
   "source": [
    "np.mean((idata_t.posterior_predictive[\"y\"] - y_0) == 0) * 100"
   ]
  },
  {
   "cell_type": "code",
   "execution_count": null,
   "id": "ca9fcfd1-0064-4c5a-a29b-4fdfea24347e",
   "metadata": {},
   "outputs": [],
   "source": [
    "all = 0\n",
    "for i in range(3):\n",
    "    perct_per_class = np.mean(idata_t.posterior_predictive[\"y\"].where(y_0 == i) == i) * 100\n",
    "    all += perct_per_class\n",
    "    print(perct_per_class)\n",
    "all"
   ]
  },
  {
   "cell_type": "markdown",
   "id": "fc13da7e-8209-44f4-b72d-3e3562fabc9a",
   "metadata": {},
   "source": [
    "## Authors\n",
    "- Authored by [Pablo Garay](https://github.com/PabloGGaray) and [Osvaldo Martin](https://aloctavodia.github.io/) in May, 2024  "
   ]
  },
  {
   "cell_type": "markdown",
   "id": "1f1a0244-9527-4226-a3e1-4baef47f85f4",
   "metadata": {},
   "source": [
    "## References  \n",
    ":::{bibliography} :filter: docname in docnames :::"
   ]
  },
  {
   "cell_type": "markdown",
   "id": "9181cbd4-3d3e-4fa6-b2b5-ffeb19617464",
   "metadata": {},
   "source": [
    "## Watermark  "
   ]
  },
  {
   "cell_type": "code",
   "execution_count": null,
   "id": "e03237e2-f7d4-4f76-954c-06c8e87bcc7e",
   "metadata": {},
   "outputs": [],
   "source": [
    "%load_ext watermark\n",
    "%watermark -n -u -v -iv -w -p pytensor"
   ]
  },
  {
   "cell_type": "markdown",
   "id": "2529c41f-a6e6-49ff-915e-cff5c886e1d3",
   "metadata": {},
   "source": [
    ":::{include} ../page_footer.md :::"
   ]
  }
 ],
 "metadata": {
  "interpreter": {
   "hash": "29d5164fb80017af7e68c98cc3a90e69a0f56286ef7c61f6b2eff22042ebabb0"
  },
  "kernelspec": {
   "display_name": "Python 3 (ipykernel)",
   "language": "python",
   "name": "python3"
  },
  "language_info": {
   "codemirror_mode": {
    "name": "ipython",
    "version": 3
   },
   "file_extension": ".py",
   "mimetype": "text/x-python",
   "name": "python",
   "nbconvert_exporter": "python",
   "pygments_lexer": "ipython3",
   "version": "3.10.0"
  },
  "myst": {
   "substitutions": {
    "conda_dependencies": "pymc-bart",
    "pip_dependencies": "pymc-bart"
   }
  }
 },
 "nbformat": 4,
 "nbformat_minor": 5
}
