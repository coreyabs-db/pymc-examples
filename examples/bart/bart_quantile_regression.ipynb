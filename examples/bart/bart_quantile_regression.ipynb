{
 "cells": [
  {
   "cell_type": "markdown",
   "id": "d68537ba",
   "metadata": {},
   "source": [
    "(BART_quantile)=\n",
    "# Quantile Regression with BART\n",
    ":::{post} Jan 25, 2023\n",
    ":tags: BART, non-parametric, quantile, regression \n",
    ":category: intermediate, explanation\n",
    ":author: Osvaldo Martin\n",
    ":::"
   ]
  },
  {
   "cell_type": "code",
   "execution_count": null,
   "id": "7c087cca",
   "metadata": {},
   "outputs": [],
   "source": [
    "from pathlib import Path\n",
    "\n",
    "import arviz as az\n",
    "import matplotlib.pyplot as plt\n",
    "import numpy as np\n",
    "import pandas as pd\n",
    "import pymc as pm\n",
    "import pymc_bart as pmb\n",
    "\n",
    "from scipy import stats\n",
    "\n",
    "print(f\"Running on PyMC v{pm.__version__}\")"
   ]
  },
  {
   "cell_type": "code",
   "execution_count": null,
   "id": "25cf7b45",
   "metadata": {},
   "outputs": [],
   "source": [
    "%config InlineBackend.figure_format = \"retina\"\n",
    "RANDOM_SEED = 5781\n",
    "np.random.seed(RANDOM_SEED)\n",
    "az.style.use(\"arviz-darkgrid\")"
   ]
  },
  {
   "cell_type": "markdown",
   "id": "2fa76cd1",
   "metadata": {},
   "source": [
    "Usually when doing regression we model the conditional mean of some distribution. Common cases are a Normal distribution for continuous unbounded responses, a Poisson distribution for count data, etc.\n",
    "\n",
    "Quantile regression, instead estimates a conditional quantile of the response variable. If the quantile is 0.5, then we will be estimating the median (instead of the mean), this could be useful as a way of performing robust regression, in a similar fashion as using a Student-t distribution instead of a Normal. But for some problems we actually care of the behavior of the response away from the mean (or median). For example, in medical research, pathologies or potential health risks occur at high or low quantiles, for instance, overweight and underweight. In some other fields like ecology, quantile regression is justified due to the existence of complex interactions between variables, where the effect of one variable on another is different for different ranges of the variable."
   ]
  },
  {
   "cell_type": "markdown",
   "id": "5ebf4fea",
   "metadata": {},
   "source": [
    "## Asymmetric Laplace distribution\n",
    "\n",
    "At first it could be weird to think which distribution we should use as the likelihood for quantile regression or how to write a Bayesian model for quantile regression. But it turns out the answer is quite simple, we just need to use the asymmetric Laplace distribution. This distribution has one parameter controlling the mean, another for the scale and a third one for the asymmetry. There are at least two alternative parametrization regarding this asymmetric parameter. In terms of $\\kappa$ a parameter that goes from 0 to $\\infty$ and in terms of $q$ a number between 0 and 1. This later parametrization is more intuitive for quantile regression as we can directly interpret it as the quantile of interest.\n",
    "\n",
    "On the next cell we compute the pdf of 3 distribution from the Asymmetric Laplace family"
   ]
  },
  {
   "cell_type": "code",
   "execution_count": null,
   "id": "a9791c30",
   "metadata": {},
   "outputs": [],
   "source": [
    "x = np.linspace(-6, 6, 2000)\n",
    "for q, m in zip([0.2, 0.5, 0.8], [0, 0, -1]):\n",
    "    κ = (q / (1 - q)) ** 0.5\n",
    "    plt.plot(x, stats.laplace_asymmetric(κ, m, 1).pdf(x), label=f\"q={q:}, μ={m}, σ=1\")\n",
    "plt.yticks([])\n",
    "plt.legend();"
   ]
  },
  {
   "cell_type": "markdown",
   "id": "4e129381",
   "metadata": {},
   "source": [
    "We are going to use a simple dataset to model the Body Mass Index for Dutch kids and young men as a function of their age."
   ]
  },
  {
   "cell_type": "code",
   "execution_count": null,
   "id": "964b1d06",
   "metadata": {},
   "outputs": [],
   "source": [
    "try:\n",
    "    bmi = pd.read_csv(Path(\"..\", \"data\", \"bmi.csv\"))\n",
    "except FileNotFoundError:\n",
    "    bmi = pd.read_csv(pm.get_data(\"bmi.csv\"))\n",
    "\n",
    "bmi.plot(x=\"age\", y=\"bmi\", kind=\"scatter\");"
   ]
  },
  {
   "cell_type": "markdown",
   "id": "1264a580",
   "metadata": {},
   "source": [
    "As we can see from the previous figure the relationship between BMI and age is far from linear, and hence we are going to use BART.\n",
    "\n",
    "We are going to model 3 quantiles, 0.1, 0.5 and 0.9. We can compute this quantity by fitted 3 separated model,  being the sole different the value of `q` of the Asymmetric Laplace distribution. Or we can stack the observed values as in `y_stack` and fit a single model. "
   ]
  },
  {
   "cell_type": "code",
   "execution_count": null,
   "id": "9d052f8b",
   "metadata": {},
   "outputs": [],
   "source": [
    "y = bmi.bmi.values\n",
    "X = bmi.age.values[:, None]\n",
    "\n",
    "\n",
    "y_stack = np.stack([bmi.bmi.values] * 3)\n",
    "quantiles = np.array([[0.1, 0.5, 0.9]]).T\n",
    "quantiles"
   ]
  },
  {
   "cell_type": "code",
   "execution_count": null,
   "id": "48adf34b",
   "metadata": {},
   "outputs": [],
   "source": [
    "with pm.Model() as model:\n",
    "    μ = pmb.BART(\"μ\", X, y, shape=(3, 7294))\n",
    "    σ = pm.HalfNormal(\"σ\", 5)\n",
    "    obs = pm.AsymmetricLaplace(\"obs\", mu=μ, b=σ, q=quantiles, observed=y_stack)\n",
    "\n",
    "    idata = pm.sample(compute_convergence_checks=False)"
   ]
  },
  {
   "cell_type": "markdown",
   "id": "e466c7b6",
   "metadata": {},
   "source": [
    "We can see the result of the 3 fitted curves in the next figure. One feature that stand-out is that the gap or distance between the median (orange) line and the two other lines is not the same. Also the shapes of the curve while following a similar pattern, are not exactly the same."
   ]
  },
  {
   "cell_type": "code",
   "execution_count": null,
   "id": "d653dffe",
   "metadata": {},
   "outputs": [],
   "source": [
    "plt.plot(bmi.age, bmi.bmi, \".\", color=\"0.5\")\n",
    "for idx, q in enumerate(quantiles[:, 0]):\n",
    "    plt.plot(\n",
    "        bmi.age,\n",
    "        idata.posterior[\"μ\"].mean((\"chain\", \"draw\")).sel(μ_dim_0=idx),\n",
    "        label=f\"q={q:}\",\n",
    "        lw=3,\n",
    "    )\n",
    "\n",
    "plt.legend();"
   ]
  },
  {
   "cell_type": "markdown",
   "id": "13a9a129",
   "metadata": {},
   "source": [
    " To better understand these remarks let's compute a BART regression with a Normal likelihood and then compute the same 3 quantiles from that fit. "
   ]
  },
  {
   "cell_type": "code",
   "execution_count": null,
   "id": "742eb3b2",
   "metadata": {},
   "outputs": [],
   "source": [
    "y = bmi.bmi.values\n",
    "x = bmi.age.values[:, None]\n",
    "with pm.Model() as model:\n",
    "    μ = pmb.BART(\"μ\", x, y)\n",
    "    σ = pm.HalfNormal(\"σ\", 5)\n",
    "    obs = pm.Normal(\"obs\", mu=μ, sigma=σ, observed=y)\n",
    "\n",
    "    idata_g = pm.sample(compute_convergence_checks=False)\n",
    "    idata_g.extend(pm.sample_posterior_predictive(idata_g))"
   ]
  },
  {
   "cell_type": "code",
   "execution_count": null,
   "id": "9bf9b0a3",
   "metadata": {},
   "outputs": [],
   "source": [
    "idata_g_mean_quantiles = idata_g.posterior_predictive[\"obs\"].quantile(\n",
    "    quantiles[:, 0], (\"chain\", \"draw\")\n",
    ")"
   ]
  },
  {
   "cell_type": "code",
   "execution_count": null,
   "id": "f508903d",
   "metadata": {},
   "outputs": [],
   "source": [
    "plt.plot(bmi.age, bmi.bmi, \".\", color=\"0.5\")\n",
    "for q in quantiles[:, 0]:\n",
    "    plt.plot(bmi.age.values, idata_g_mean_quantiles.sel(quantile=q), label=f\"q={q:}\")\n",
    "\n",
    "plt.legend()\n",
    "plt.xlabel(\"Age\")\n",
    "plt.ylabel(\"BMI\");"
   ]
  },
  {
   "cell_type": "markdown",
   "id": "8e963637",
   "metadata": {},
   "source": [
    "We can see that when we use a Normal likelihood, and from that fit we compute the quantiles, the quantiles  q=0.1 and q=0.9 are symetrical with respect to q=0.5, also the shape of the curves is essentially the same just shifted up or down. Additionally the Asymmetric Laplace family allows the model to account for the increased variability in BMI as the age increases, while for the Gaussian family that variability always stays the same."
   ]
  },
  {
   "attachments": {},
   "cell_type": "markdown",
   "id": "219cde48-b626-4325-afc0-2a2881fc5683",
   "metadata": {},
   "source": [
    "## Authors\n",
    "* Authored by Osvaldo Martin in Jan, 2023\n",
    "* Rerun by Osvaldo Martin in Mar, 2023\n",
    "* Rerun by Osvaldo Martin in Nov, 2023"
   ]
  },
  {
   "cell_type": "markdown",
   "id": "3c184bc8",
   "metadata": {},
   "source": [
    "## References\n",
    "\n",
    ":::{bibliography}\n",
    ":filter: docname in docnames\n",
    "\n",
    "martin2021bayesian\n",
    "quiroga2022bart\n",
    ":::"
   ]
  },
  {
   "cell_type": "markdown",
   "id": "2c557ed8",
   "metadata": {},
   "source": [
    "## Watermark"
   ]
  },
  {
   "cell_type": "code",
   "execution_count": null,
   "id": "608086f2",
   "metadata": {},
   "outputs": [],
   "source": [
    "%load_ext watermark\n",
    "%watermark -n -u -v -iv -w -p pytensor,xarray"
   ]
  },
  {
   "cell_type": "markdown",
   "id": "4b02674f-26ad-4c07-bf60-eb8edd1c520b",
   "metadata": {},
   "source": [
    ":::{include} ../page_footer.md\n",
    ":::"
   ]
  }
 ],
 "metadata": {
  "jupytext": {
   "formats": "ipynb,md"
  },
  "kernelspec": {
   "display_name": "Python 3 (ipykernel)",
   "language": "python",
   "name": "python3"
  },
  "language_info": {
   "codemirror_mode": {
    "name": "ipython",
    "version": 3
   },
   "file_extension": ".py",
   "mimetype": "text/x-python",
   "name": "python",
   "nbconvert_exporter": "python",
   "pygments_lexer": "ipython3",
   "version": "3.11.5"
  },
  "vscode": {
   "interpreter": {
    "hash": "5b344a7d0839c309585d2ae27435157813d3b4ade1fa431f12bd272ea9135317"
   }
  }
 },
 "nbformat": 4,
 "nbformat_minor": 5
}
