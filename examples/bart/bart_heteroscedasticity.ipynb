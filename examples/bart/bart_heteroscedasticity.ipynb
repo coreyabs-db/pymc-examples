{
 "cells": [
  {
   "cell_type": "markdown",
   "id": "domestic-remove",
   "metadata": {},
   "source": [
    "(bart_heteroscedasticity)=\n",
    "# Modeling Heteroscedasticity with BART\n",
    "\n",
    ":::{post} January, 2023\n",
    ":tags: BART, regression\n",
    ":category: beginner, reference\n",
    ":author: Juan Orduz\n",
    ":::"
   ]
  },
  {
   "cell_type": "markdown",
   "id": "72588976-efc3-4adc-bec2-bc5b6ac4b7e1",
   "metadata": {},
   "source": [
    "In this notebook we show how to use BART to model heteroscedasticity as described in Section 4.1 of [`pymc-bart`](https://github.com/pymc-devs/pymc-bart)'s paper {cite:p}`quiroga2022bart`. We use the `marketing` data set provided by the R package `datarium` {cite:p}`kassambara2019datarium`. The idea is to model a marketing channel contribution to sales as a function of budget."
   ]
  },
  {
   "cell_type": "code",
   "execution_count": null,
   "id": "elect-softball",
   "metadata": {
    "tags": []
   },
   "outputs": [],
   "source": [
    "import os\n",
    "\n",
    "import arviz as az\n",
    "import matplotlib.pyplot as plt\n",
    "import numpy as np\n",
    "import pandas as pd\n",
    "import pymc as pm\n",
    "import pymc_bart as pmb"
   ]
  },
  {
   "cell_type": "code",
   "execution_count": null,
   "id": "level-balance",
   "metadata": {
    "tags": []
   },
   "outputs": [],
   "source": [
    "%config InlineBackend.figure_format = \"retina\"\n",
    "az.style.use(\"arviz-darkgrid\")\n",
    "plt.rcParams[\"figure.figsize\"] = [10, 6]\n",
    "rng = np.random.default_rng(42)"
   ]
  },
  {
   "cell_type": "markdown",
   "id": "4cae4407",
   "metadata": {},
   "source": [
    "## Read Data"
   ]
  },
  {
   "cell_type": "code",
   "execution_count": null,
   "id": "21e66b38",
   "metadata": {},
   "outputs": [],
   "source": [
    "try:\n",
    "    df = pd.read_csv(os.path.join(\"..\", \"data\", \"marketing.csv\"), sep=\";\", decimal=\",\")\n",
    "except FileNotFoundError:\n",
    "    df = pd.read_csv(pm.get_data(\"marketing.csv\"), sep=\";\", decimal=\",\")\n",
    "\n",
    "n_obs = df.shape[0]\n",
    "\n",
    "df.head()"
   ]
  },
  {
   "cell_type": "markdown",
   "id": "6d6364a9",
   "metadata": {},
   "source": [
    "## EDA\n",
    "\n",
    "We start by looking into the data. We are going to focus on *Youtube*."
   ]
  },
  {
   "cell_type": "code",
   "execution_count": null,
   "id": "8bbae786",
   "metadata": {},
   "outputs": [],
   "source": [
    "fig, ax = plt.subplots()\n",
    "ax.plot(df[\"youtube\"], df[\"sales\"], \"o\", c=\"C0\")\n",
    "ax.set(title=\"Sales as a function of Youtube budget\", xlabel=\"budget\", ylabel=\"sales\");"
   ]
  },
  {
   "cell_type": "markdown",
   "id": "5c3971f2",
   "metadata": {},
   "source": [
    "We clearly see that both the mean and variance are increasing as a function of budget. One possibility is to manually select an explicit parametrization of these functions, e.g. square root or logarithm. However, in this example we want to learn these functions from the data using a BART model."
   ]
  },
  {
   "cell_type": "markdown",
   "id": "e8a3ce48",
   "metadata": {},
   "source": [
    "## Model Specification\n",
    "\n",
    "We proceed to prepare the data for modeling. We are going to use the `budget` as the predictor and `sales` as the response."
   ]
  },
  {
   "cell_type": "code",
   "execution_count": null,
   "id": "db0bbf73",
   "metadata": {},
   "outputs": [],
   "source": [
    "X = df[\"youtube\"].to_numpy().reshape(-1, 1)\n",
    "Y = df[\"sales\"].to_numpy()"
   ]
  },
  {
   "cell_type": "markdown",
   "id": "a29b706c",
   "metadata": {},
   "source": [
    "Next, we specify the model. Note that we just need one BART distribution which can be vectorized to model both the mean and variance. We use a Gamma distribution as likelihood as we expect the sales to be positive."
   ]
  },
  {
   "cell_type": "code",
   "execution_count": null,
   "id": "6d85d918",
   "metadata": {},
   "outputs": [],
   "source": [
    "with pm.Model() as model_marketing_full:\n",
    "    w = pmb.BART(\"w\", X=X, Y=np.log(Y), m=100, shape=(2, n_obs))\n",
    "    y = pm.Gamma(\"y\", mu=pm.math.exp(w[0]), sigma=pm.math.exp(w[1]), observed=Y)\n",
    "\n",
    "pm.model_to_graphviz(model=model_marketing_full)"
   ]
  },
  {
   "cell_type": "markdown",
   "id": "9aa885a3",
   "metadata": {},
   "source": [
    "We now fit the model."
   ]
  },
  {
   "cell_type": "code",
   "execution_count": null,
   "id": "796874ee",
   "metadata": {},
   "outputs": [],
   "source": [
    "with model_marketing_full:\n",
    "    idata_marketing_full = pm.sample(2000, random_seed=rng, compute_convergence_checks=False)\n",
    "    posterior_predictive_marketing_full = pm.sample_posterior_predictive(\n",
    "        trace=idata_marketing_full, random_seed=rng\n",
    "    )"
   ]
  },
  {
   "cell_type": "markdown",
   "id": "eba7cee5",
   "metadata": {},
   "source": [
    "## Results\n",
    "\n",
    "We can now visualize the posterior predictive distribution of the mean and the likelihood."
   ]
  },
  {
   "cell_type": "code",
   "execution_count": null,
   "id": "c3245702",
   "metadata": {},
   "outputs": [],
   "source": [
    "posterior_mean = idata_marketing_full.posterior[\"w\"].mean(dim=(\"chain\", \"draw\"))[0]\n",
    "\n",
    "w_hdi = az.hdi(ary=idata_marketing_full, group=\"posterior\", var_names=[\"w\"], hdi_prob=0.5)\n",
    "\n",
    "pps = az.extract(\n",
    "    posterior_predictive_marketing_full, group=\"posterior_predictive\", var_names=[\"y\"]\n",
    ").T"
   ]
  },
  {
   "cell_type": "code",
   "execution_count": null,
   "id": "7f77d815",
   "metadata": {},
   "outputs": [],
   "source": [
    "idx = np.argsort(X[:, 0])\n",
    "\n",
    "\n",
    "fig, ax = plt.subplots()\n",
    "az.plot_hdi(\n",
    "    x=X[:, 0],\n",
    "    y=pps,\n",
    "    ax=ax,\n",
    "    hdi_prob=0.90,\n",
    "    fill_kwargs={\"alpha\": 0.3, \"label\": r\"Observations $90\\%$ HDI\"},\n",
    ")\n",
    "az.plot_hdi(\n",
    "    x=X[:, 0],\n",
    "    hdi_data=np.exp(w_hdi[\"w\"].sel(w_dim_0=0)),\n",
    "    ax=ax,\n",
    "    fill_kwargs={\"alpha\": 0.6, \"label\": r\"Mean $50\\%$ HDI\"},\n",
    ")\n",
    "ax.plot(df[\"youtube\"], df[\"sales\"], \"o\", c=\"C0\", label=\"Raw Data\")\n",
    "ax.legend(loc=\"upper left\")\n",
    "ax.set(\n",
    "    title=\"Sales as a function of Youtube budget - Posterior Predictive\",\n",
    "    xlabel=\"budget\",\n",
    "    ylabel=\"sales\",\n",
    ");"
   ]
  },
  {
   "cell_type": "markdown",
   "id": "d1775acb",
   "metadata": {},
   "source": [
    "The fit looks good! In fact, we see that the mean and variance increase as a function of the budget."
   ]
  },
  {
   "cell_type": "markdown",
   "id": "b743d58b-2678-4e17-9947-a8fe4ed03e21",
   "metadata": {},
   "source": [
    "## Authors\n",
    "- Authored by [Juan Orduz](https://juanitorduz.github.io/) in Feb, 2023 \n",
    "- Rerun by Osvaldo Martin in Mar, 2023\n",
    "- Rerun by Osvaldo Martin in Nov, 2023"
   ]
  },
  {
   "cell_type": "markdown",
   "id": "closed-frank",
   "metadata": {},
   "source": [
    "## References\n",
    ":::{bibliography}\n",
    ":filter: docname in docnames\n",
    ":::"
   ]
  },
  {
   "cell_type": "markdown",
   "id": "0717070c-04aa-4836-ab95-6b3eff0dcaaf",
   "metadata": {},
   "source": [
    "## Watermark"
   ]
  },
  {
   "cell_type": "code",
   "execution_count": null,
   "id": "sound-calculation",
   "metadata": {
    "tags": []
   },
   "outputs": [],
   "source": [
    "%load_ext watermark\n",
    "%watermark -n -u -v -iv -w -p pytensor"
   ]
  },
  {
   "cell_type": "markdown",
   "id": "1e4386fc-4de9-4535-a160-d929315633ef",
   "metadata": {},
   "source": [
    ":::{include} ../page_footer.md\n",
    ":::"
   ]
  }
 ],
 "metadata": {
  "jupytext": {
   "formats": "ipynb,md"
  },
  "kernelspec": {
   "display_name": "Python 3 (ipykernel)",
   "language": "python",
   "name": "python3"
  },
  "language_info": {
   "codemirror_mode": {
    "name": "ipython",
    "version": 3
   },
   "file_extension": ".py",
   "mimetype": "text/x-python",
   "name": "python",
   "nbconvert_exporter": "python",
   "pygments_lexer": "ipython3",
   "version": "3.11.5"
  },
  "vscode": {
   "interpreter": {
    "hash": "b3e192806ebc364eefb0fac2bed1d14663f4ae22a1b421171db9578f7bd1c30b"
   }
  }
 },
 "nbformat": 4,
 "nbformat_minor": 5
}
