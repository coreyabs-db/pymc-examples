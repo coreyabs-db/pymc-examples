{
 "cells": [
  {
   "cell_type": "markdown",
   "metadata": {},
   "source": [
    "(censored_data)=\n",
    "# Censored Data Models\n",
    "\n",
    ":::{post} May, 2022\n",
    ":tags: censored, survival analysis \n",
    ":category: intermediate, how-to\n",
    ":author: Luis Mario Domenzain\n",
    ":::"
   ]
  },
  {
   "cell_type": "code",
   "execution_count": null,
   "metadata": {},
   "outputs": [],
   "source": [
    "from copy import copy\n",
    "\n",
    "import arviz as az\n",
    "import matplotlib.pyplot as plt\n",
    "import numpy as np\n",
    "import pymc as pm\n",
    "import seaborn as sns\n",
    "\n",
    "from numpy.random import default_rng"
   ]
  },
  {
   "cell_type": "code",
   "execution_count": null,
   "metadata": {},
   "outputs": [],
   "source": [
    "%config InlineBackend.figure_format = 'retina'\n",
    "rng = default_rng(1234)\n",
    "az.style.use(\"arviz-darkgrid\")"
   ]
  },
  {
   "cell_type": "markdown",
   "metadata": {},
   "source": [
    "[This example notebook on Bayesian survival\n",
    "analysis](http://docs.pymc.io/notebooks/survival_analysis.html) touches on the\n",
    "point of censored data. _Censoring_ is a form of missing-data problem, in which\n",
    "observations greater than a certain threshold are clipped down to that\n",
    "threshold, or observations less than a certain threshold are clipped up to that\n",
    "threshold, or both. These are called right, left and interval censoring,\n",
    "respectively. In this example notebook we consider interval censoring.\n",
    "\n",
    "Censored data arises in many modelling problems. Two common examples are:\n",
    "\n",
    "1. _Survival analysis:_ when studying the effect of a certain medical treatment\n",
    "   on survival times, it is impossible to prolong the study until all subjects\n",
    "   have died. At the end of the study, the only data collected for many patients\n",
    "   is that they were still alive for a time period $T$ after the treatment was\n",
    "   administered: in reality, their true survival times are greater than $T$.\n",
    "\n",
    "2. _Sensor saturation:_ a sensor might have a limited range and the upper and\n",
    "   lower limits would simply be the highest and lowest values a sensor can\n",
    "   report. For instance, many mercury thermometers only report a very narrow\n",
    "   range of temperatures.\n",
    "\n",
    "This example notebook presents two different ways of dealing with censored data\n",
    "in PyMC3:\n",
    "\n",
    "1. An imputed censored model, which represents censored data as parameters and\n",
    "   makes up plausible values for all censored values. As a result of this\n",
    "   imputation, this model is capable of generating plausible sets of made-up\n",
    "   values that would have been censored. Each censored element introduces a\n",
    "   random variable.\n",
    "\n",
    "2. An unimputed censored model, where the censored data are integrated out and\n",
    "   accounted for only through the log-likelihood. This method deals more\n",
    "   adequately with large amounts of censored data and converges more quickly.\n",
    "\n",
    "To establish a baseline we compare to an uncensored model of the uncensored\n",
    "data."
   ]
  },
  {
   "cell_type": "code",
   "execution_count": null,
   "metadata": {},
   "outputs": [],
   "source": [
    "# Produce normally distributed samples\n",
    "size = 500\n",
    "true_mu = 13.0\n",
    "true_sigma = 5.0\n",
    "samples = rng.normal(true_mu, true_sigma, size)\n",
    "\n",
    "# Set censoring limits\n",
    "low = 3.0\n",
    "high = 16.0\n",
    "\n",
    "\n",
    "def censor(x, low, high):\n",
    "    x = copy(x)\n",
    "    x[x <= low] = low\n",
    "    x[x >= high] = high\n",
    "    return x\n",
    "\n",
    "\n",
    "# Censor samples\n",
    "censored = censor(samples, low, high)"
   ]
  },
  {
   "cell_type": "code",
   "execution_count": null,
   "metadata": {},
   "outputs": [],
   "source": [
    "# Visualize uncensored and censored data\n",
    "_, ax = plt.subplots(figsize=(10, 3))\n",
    "edges = np.linspace(-5, 35, 30)\n",
    "ax.hist(samples, bins=edges, density=True, histtype=\"stepfilled\", alpha=0.2, label=\"Uncensored\")\n",
    "ax.hist(censored, bins=edges, density=True, histtype=\"stepfilled\", alpha=0.2, label=\"Censored\")\n",
    "[ax.axvline(x=x, c=\"k\", ls=\"--\") for x in [low, high]]\n",
    "ax.legend();"
   ]
  },
  {
   "cell_type": "markdown",
   "metadata": {},
   "source": [
    "## Uncensored Model"
   ]
  },
  {
   "cell_type": "code",
   "execution_count": null,
   "metadata": {},
   "outputs": [],
   "source": [
    "def uncensored_model(data):\n",
    "    with pm.Model() as model:\n",
    "        mu = pm.Normal(\"mu\", mu=((high - low) / 2) + low, sigma=(high - low))\n",
    "        sigma = pm.HalfNormal(\"sigma\", sigma=(high - low) / 2.0)\n",
    "        observed = pm.Normal(\"observed\", mu=mu, sigma=sigma, observed=data)\n",
    "    return model"
   ]
  },
  {
   "cell_type": "markdown",
   "metadata": {},
   "source": [
    "We should predict that running the uncensored model on uncensored data, we will get reasonable estimates of the mean and variance."
   ]
  },
  {
   "cell_type": "code",
   "execution_count": null,
   "metadata": {},
   "outputs": [],
   "source": [
    "uncensored_model_1 = uncensored_model(samples)\n",
    "with uncensored_model_1:\n",
    "    idata = pm.sample()\n",
    "\n",
    "az.plot_posterior(idata, ref_val=[true_mu, true_sigma], round_to=3);"
   ]
  },
  {
   "cell_type": "markdown",
   "metadata": {},
   "source": [
    "And that is exactly what we find. \n",
    "\n",
    "The problem however, is that in censored data contexts, we do not have access to the true values. If we were to use the same uncensored model on the censored data, we would anticipate that our parameter estimates will be biased. If we calculate point estimates for the mean and std, then we can see that we are likely to underestimate the mean and std for this particular dataset and censor bounds."
   ]
  },
  {
   "cell_type": "code",
   "execution_count": null,
   "metadata": {},
   "outputs": [],
   "source": [
    "print(f\"mean={np.mean(censored):.2f}; std={np.std(censored):.2f}\")"
   ]
  },
  {
   "cell_type": "code",
   "execution_count": null,
   "metadata": {},
   "outputs": [],
   "source": [
    "uncensored_model_2 = uncensored_model(censored)\n",
    "with uncensored_model_2:\n",
    "    idata = pm.sample()\n",
    "\n",
    "az.plot_posterior(idata, ref_val=[true_mu, true_sigma], round_to=3);"
   ]
  },
  {
   "cell_type": "markdown",
   "metadata": {},
   "source": [
    "The figure above confirms this.\n",
    "\n",
    "## Censored data models\n",
    "\n",
    "The models below show 2 approaches to dealing with censored data. First, we need to do a bit of data pre-processing to count the number of observations that are left or right censored. We also also need to extract just the non-censored data that we observe."
   ]
  },
  {
   "cell_type": "markdown",
   "metadata": {},
   "source": [
    "(censored_data/model1)=\n",
    "### Model 1 - Imputed Censored Model of Censored Data\n",
    "\n",
    "In this model, we impute the censored values from the same distribution as the uncensored data. Sampling from the posterior generates possible uncensored data sets."
   ]
  },
  {
   "cell_type": "code",
   "execution_count": null,
   "metadata": {},
   "outputs": [],
   "source": [
    "n_right_censored = sum(censored >= high)\n",
    "n_left_censored = sum(censored <= low)\n",
    "n_observed = len(censored) - n_right_censored - n_left_censored\n",
    "uncensored = censored[(censored > low) & (censored < high)]\n",
    "assert len(uncensored) == n_observed"
   ]
  },
  {
   "cell_type": "code",
   "execution_count": null,
   "metadata": {},
   "outputs": [],
   "source": [
    "with pm.Model() as imputed_censored_model:\n",
    "    mu = pm.Normal(\"mu\", mu=((high - low) / 2) + low, sigma=(high - low))\n",
    "    sigma = pm.HalfNormal(\"sigma\", sigma=(high - low) / 2.0)\n",
    "    right_censored = pm.Normal(\n",
    "        \"right_censored\",\n",
    "        mu,\n",
    "        sigma,\n",
    "        transform=pm.distributions.transforms.Interval(high, None),\n",
    "        shape=int(n_right_censored),\n",
    "        initval=np.full(n_right_censored, high + 1),\n",
    "    )\n",
    "    left_censored = pm.Normal(\n",
    "        \"left_censored\",\n",
    "        mu,\n",
    "        sigma,\n",
    "        transform=pm.distributions.transforms.Interval(None, low),\n",
    "        shape=int(n_left_censored),\n",
    "        initval=np.full(n_left_censored, low - 1),\n",
    "    )\n",
    "    observed = pm.Normal(\"observed\", mu=mu, sigma=sigma, observed=uncensored, shape=int(n_observed))\n",
    "    idata = pm.sample()\n",
    "\n",
    "az.plot_posterior(idata, var_names=[\"mu\", \"sigma\"], ref_val=[true_mu, true_sigma], round_to=3);"
   ]
  },
  {
   "cell_type": "markdown",
   "metadata": {},
   "source": [
    "We can see that the bias in the estimates of the mean and variance (present in the uncensored model) have been largely removed."
   ]
  },
  {
   "cell_type": "markdown",
   "metadata": {},
   "source": [
    "### Model 2 - Unimputed Censored Model of Censored Data\n",
    "\n",
    "Here we can make use of `pm.Censored`."
   ]
  },
  {
   "cell_type": "code",
   "execution_count": null,
   "metadata": {},
   "outputs": [],
   "source": [
    "with pm.Model() as unimputed_censored_model:\n",
    "    mu = pm.Normal(\"mu\", mu=0.0, sigma=(high - low) / 2.0)\n",
    "    sigma = pm.HalfNormal(\"sigma\", sigma=(high - low) / 2.0)\n",
    "    y_latent = pm.Normal.dist(mu=mu, sigma=sigma)\n",
    "    obs = pm.Censored(\"obs\", y_latent, lower=low, upper=high, observed=censored)"
   ]
  },
  {
   "cell_type": "markdown",
   "metadata": {},
   "source": [
    "Sampling"
   ]
  },
  {
   "cell_type": "code",
   "execution_count": null,
   "metadata": {},
   "outputs": [],
   "source": [
    "with unimputed_censored_model:\n",
    "    idata = pm.sample()\n",
    "\n",
    "az.plot_posterior(idata, var_names=[\"mu\", \"sigma\"], ref_val=[true_mu, true_sigma], round_to=3);"
   ]
  },
  {
   "cell_type": "markdown",
   "metadata": {},
   "source": [
    "Again, the bias in the estimates of the mean and variance (present in the uncensored model) have been largely removed."
   ]
  },
  {
   "cell_type": "markdown",
   "metadata": {},
   "source": [
    "## Discussion\n",
    "\n",
    "As we can see, both censored models appear to capture the mean and variance of the underlying distribution as well as the uncensored model! In addition, the imputed censored model is capable of generating data sets of censored values (sample from the posteriors of `left_censored` and `right_censored` to generate them), while the unimputed censored model scales much better with more censored data, and converges faster."
   ]
  },
  {
   "cell_type": "markdown",
   "metadata": {},
   "source": [
    "## Authors\n",
    "\n",
    "- Originally authored by [Luis Mario Domenzain](https://github.com/domenzain) on Mar 7, 2017.\n",
    "- Updated by [George Ho](https://github.com/eigenfoo) on Jul 14, 2018.\n",
    "- Updated by [Benjamin Vincent](https://github.com/drbenvincent) in May 2021.\n",
    "- Updated by [Benjamin Vincent](https://github.com/drbenvincent) in May 2022 to PyMC v4."
   ]
  },
  {
   "cell_type": "markdown",
   "metadata": {},
   "source": [
    "## Watermark"
   ]
  },
  {
   "cell_type": "code",
   "execution_count": null,
   "metadata": {},
   "outputs": [],
   "source": [
    "%load_ext watermark\n",
    "%watermark -n -u -v -iv -w -p pytensor,aeppl"
   ]
  },
  {
   "attachments": {},
   "cell_type": "markdown",
   "metadata": {},
   "source": [
    ":::{include} ../page_footer.md\n",
    ":::"
   ]
  }
 ],
 "metadata": {
  "kernelspec": {
   "display_name": "pymc",
   "language": "python",
   "name": "python3"
  },
  "language_info": {
   "codemirror_mode": {
    "name": "ipython",
    "version": 3
   },
   "file_extension": ".py",
   "mimetype": "text/x-python",
   "name": "python",
   "nbconvert_exporter": "python",
   "pygments_lexer": "ipython3",
   "version": "3.11.0 | packaged by conda-forge | (main, Oct 25 2022, 06:24:40) [GCC 10.4.0]"
  },
  "vscode": {
   "interpreter": {
    "hash": "970ac73df0f14d7a1f980febd250c4ded990984ec0e2432b12dcbf556b464244"
   }
  }
 },
 "nbformat": 4,
 "nbformat_minor": 4
}
