{
 "cells": [
  {
   "cell_type": "markdown",
   "metadata": {},
   "source": [
    "(diagnosing_with_divergences)=\n",
    "# Diagnosing Biased Inference with Divergences\n",
    "\n",
    ":::{post} Feb, 2018\n",
    ":tags: hierarchical model, diagnostics\n",
    ":category: intermediate\n",
    ":author: Agustina Arroyuelo\n",
    ":::"
   ]
  },
  {
   "cell_type": "code",
   "execution_count": null,
   "metadata": {},
   "outputs": [],
   "source": [
    "from collections import defaultdict\n",
    "\n",
    "import arviz as az\n",
    "import matplotlib.pyplot as plt\n",
    "import numpy as np\n",
    "import pandas as pd\n",
    "import pymc3 as pm\n",
    "\n",
    "print(f\"Running on PyMC3 v{pm.__version__}\")"
   ]
  },
  {
   "cell_type": "code",
   "execution_count": null,
   "metadata": {},
   "outputs": [],
   "source": [
    "%config InlineBackend.figure_format = 'retina'\n",
    "az.style.use(\"arviz-darkgrid\")\n",
    "SEED = [20100420, 20134234]"
   ]
  },
  {
   "cell_type": "markdown",
   "metadata": {},
   "source": [
    "This notebook is a PyMC3 port of [Michael Betancourt's post on mc-stan](http://mc-stan.org/documentation/case-studies/divergences_and_bias.html). For detailed explanation of the underlying mechanism please check the original post, [Diagnosing Biased Inference with Divergences](http://mc-stan.org/documentation/case-studies/divergences_and_bias.html) and Betancourt's excellent paper, [A Conceptual Introduction to Hamiltonian Monte Carlo](https://arxiv.org/abs/1701.02434)."
   ]
  },
  {
   "cell_type": "markdown",
   "metadata": {},
   "source": [
    "Bayesian statistics is all about building a model and estimating the parameters in that model. However, a naive or direct parameterization of our probability model can sometimes be ineffective, you can check out Thomas Wiecki's blog post, [Why hierarchical models are awesome, tricky, and Bayesian](http://twiecki.github.io/blog/2017/02/08/bayesian-hierchical-non-centered/) on the same issue in PyMC3. Suboptimal parameterization often leads to slow sampling, and more problematic, biased MCMC estimators. \n",
    "\n",
    "More formally, as explained in the original post, [Diagnosing Biased Inference with Divergences](http://mc-stan.org/documentation/case-studies/divergences_and_bias.html):\n",
    "\n",
    "Markov chain Monte Carlo (MCMC) approximates expectations with respect to a given target distribution, \n",
    "\n",
    "$$ \\mathbb{E}{\\pi} [ f ] = \\int \\mathrm{d}q \\, \\pi (q) \\, f(q)$$ \n",
    "\n",
    "using the states of a Markov chain, ${q{0}, \\ldots, q_{N} }$, \n",
    "\n",
    "$$ \\mathbb{E}{\\pi} [ f ] \\approx \\hat{f}{N} = \\frac{1}{N + 1} \\sum_{n = 0}^{N} f(q_{n}) $$  \n",
    "\n",
    "These estimators, however, are guaranteed to be accurate only asymptotically as the chain grows to be infinitely long, \n",
    "\n",
    "$$ \\lim_{N \\rightarrow \\infty} \\hat{f}{N} = \\mathbb{E}{\\pi} [ f ]$$  \n",
    "\n",
    "To be useful in applied analyses, we need MCMC estimators to converge to the true expectation values sufficiently quickly that they are reasonably accurate before we exhaust our finite computational resources. This fast convergence requires strong ergodicity conditions to hold, in particular geometric ergodicity between a Markov transition and a target distribution. Geometric ergodicity is usually the necessary condition for MCMC estimators to follow a central limit theorem, which ensures not only that they are unbiased even after only a finite number of iterations but also that we can empirically quantify their precision using the MCMC standard error.\n",
    "\n",
    "Unfortunately, proving geometric ergodicity is infeasible for any nontrivial problem. Instead we must rely on empirical diagnostics that identify obstructions to geometric ergodicity, and hence well-behaved MCMC estimators. For a general Markov transition and target distribution, the best known diagnostic is the split $\\hat{R}$ statistic over an ensemble of Markov chains initialized from diffuse points in parameter space; to do any better we need to exploit the particular structure of a given transition or target distribution.\n",
    " \n",
    "Hamiltonian Monte Carlo, for example, is especially powerful in this regard as its failures to be geometrically ergodic with respect to any target distribution manifest in distinct behaviors that have been developed into sensitive diagnostics. One of these behaviors is the appearance of divergences that indicate the Hamiltonian Markov chain has encountered regions of high curvature in the target distribution which it cannot adequately explore.\n",
    "\n",
    "In this notebook we aim to identify divergences and the underlying pathologies in `PyMC3`."
   ]
  },
  {
   "cell_type": "markdown",
   "metadata": {},
   "source": [
    "## The Eight Schools Model\n",
    "\n",
    "The hierarchical model of the Eight Schools dataset (Rubin 1981) as seen in `Stan`:\n",
    "\n",
    "$$\\mu \\sim \\mathcal{N}(0, 5)$$\n",
    "$$\\tau \\sim \\text{Half-Cauchy}(0, 5)$$\n",
    "$$\\theta_{n} \\sim \\mathcal{N}(\\mu, \\tau)$$\n",
    "$$y_{n} \\sim \\mathcal{N}(\\theta_{n}, \\sigma_{n}),$$  \n",
    "\n",
    "where $n \\in \\{1, \\ldots, 8 \\}$ and the $\\{ y_{n}, \\sigma_{n} \\}$ are given as data.  \n",
    "\n",
    "Inferring the hierarchical hyperparameters, $\\mu$ and $\\sigma$, together with the group-level parameters, $\\theta_{1}, \\ldots, \\theta_{8}$, allows the model to pool data across the groups and reduce their posterior variance. Unfortunately, the direct *centered* parameterization also squeezes the posterior distribution into a particularly challenging geometry that obstructs geometric ergodicity and hence biases MCMC estimation."
   ]
  },
  {
   "cell_type": "code",
   "execution_count": null,
   "metadata": {},
   "outputs": [],
   "source": [
    "# Data of the Eight Schools Model\n",
    "J = 8\n",
    "y = np.array([28.0, 8.0, -3.0, 7.0, -1.0, 1.0, 18.0, 12.0])\n",
    "sigma = np.array([15.0, 10.0, 16.0, 11.0, 9.0, 11.0, 10.0, 18.0])\n",
    "# tau = 25."
   ]
  },
  {
   "cell_type": "markdown",
   "metadata": {},
   "source": [
    "## A Centered Eight Schools Implementation  \n",
    "\n",
    "`Stan` model:\n",
    "\n",
    "```C\n",
    "data {\n",
    "  int<lower=0> J;\n",
    "  real y[J];\n",
    "  real<lower=0> sigma[J];\n",
    "}\n",
    "\n",
    "parameters {\n",
    "  real mu;\n",
    "  real<lower=0> tau;\n",
    "  real theta[J];\n",
    "}\n",
    "\n",
    "model {\n",
    "  mu ~ normal(0, 5);\n",
    "  tau ~ cauchy(0, 5);\n",
    "  theta ~ normal(mu, tau);\n",
    "  y ~ normal(theta, sigma);\n",
    "}\n",
    "```\n",
    "Similarly, we can easily implement it in `PyMC3`"
   ]
  },
  {
   "cell_type": "code",
   "execution_count": null,
   "metadata": {},
   "outputs": [],
   "source": [
    "with pm.Model() as Centered_eight:\n",
    "    mu = pm.Normal(\"mu\", mu=0, sigma=5)\n",
    "    tau = pm.HalfCauchy(\"tau\", beta=5)\n",
    "    theta = pm.Normal(\"theta\", mu=mu, sigma=tau, shape=J)\n",
    "    obs = pm.Normal(\"obs\", mu=theta, sigma=sigma, observed=y)"
   ]
  },
  {
   "cell_type": "markdown",
   "metadata": {},
   "source": [
    "Unfortunately, this direct implementation of the model exhibits a pathological geometry that frustrates geometric ergodicity. Even more worrisome, the resulting bias is subtle and may not be obvious upon inspection of the Markov chain alone. To understand this bias, let's consider first a short Markov chain, commonly used when computational expediency is a motivating factor, and only afterwards a longer Markov chain."
   ]
  },
  {
   "cell_type": "markdown",
   "metadata": {},
   "source": [
    "### A Dangerously-Short Markov Chain"
   ]
  },
  {
   "cell_type": "code",
   "execution_count": null,
   "metadata": {},
   "outputs": [],
   "source": [
    "with Centered_eight:\n",
    "    short_trace = pm.sample(600, chains=2, random_seed=SEED)"
   ]
  },
  {
   "cell_type": "markdown",
   "metadata": {},
   "source": [
    "In the [original post](http://mc-stan.org/documentation/case-studies/divergences_and_bias.html) a single chain of 1200 sample is applied. However, since split $\\hat{R}$ is not implemented in `PyMC3` we fit 2 chains with 600 sample each instead.  \n",
    "\n",
    "The Gelman-Rubin diagnostic $\\hat{R}$ doesn’t indicate any problem (values are all close to 1). You could try re-running the model with a different seed and see if this still holds."
   ]
  },
  {
   "cell_type": "code",
   "execution_count": null,
   "metadata": {},
   "outputs": [],
   "source": [
    "az.summary(short_trace).round(2)"
   ]
  },
  {
   "cell_type": "markdown",
   "metadata": {},
   "source": [
    "Moreover, the trace plots all look fine. Let's consider, for example, the hierarchical standard deviation $\\tau$, or more specifically, its logarithm, $log(\\tau)$. Because $\\tau$ is constrained to be positive, its logarithm will allow us to better resolve behavior for small values. Indeed the chains seems to be exploring both small and large values reasonably well."
   ]
  },
  {
   "cell_type": "code",
   "execution_count": null,
   "metadata": {
    "mystnb": {
     "figure": {
      "caption": "Trace plot of log(tau)",
      "name": "nb-divergence-traceplot"
     },
     "image": {
      "alt": "log-tau"
     }
    }
   },
   "outputs": [],
   "source": [
    "# plot the trace of log(tau)\n",
    "ax = az.plot_trace(\n",
    "    {\"log(tau)\": short_trace.get_values(varname=\"tau_log__\", combine=False)}, legend=True\n",
    ")\n",
    "ax[0, 1].set_xlabel(\"Draw\")\n",
    "ax[0, 1].set_ylabel(\"log(tau)\")\n",
    "ax[0, 1].set_title(\"\")\n",
    "\n",
    "ax[0, 0].set_xlabel(\"log(tau)\")\n",
    "ax[0, 0].set_title(\"Probability density function of log(tau)\");"
   ]
  },
  {
   "cell_type": "markdown",
   "metadata": {},
   "source": [
    "Unfortunately, the resulting estimate for the mean of $log(\\tau)$ is strongly biased away from the true value, here shown in grey."
   ]
  },
  {
   "cell_type": "code",
   "execution_count": null,
   "metadata": {},
   "outputs": [],
   "source": [
    "# plot the estimate for the mean of log(τ) cumulating mean\n",
    "logtau = np.log(short_trace[\"tau\"])\n",
    "mlogtau = [np.mean(logtau[:i]) for i in np.arange(1, len(logtau))]\n",
    "plt.figure(figsize=(15, 4))\n",
    "plt.axhline(0.7657852, lw=2.5, color=\"gray\")\n",
    "plt.plot(mlogtau, lw=2.5)\n",
    "plt.ylim(0, 2)\n",
    "plt.xlabel(\"Iteration\")\n",
    "plt.ylabel(\"MCMC mean of log(tau)\")\n",
    "plt.title(\"MCMC estimation of log(tau)\");"
   ]
  },
  {
   "cell_type": "markdown",
   "metadata": {},
   "source": [
    "Hamiltonian Monte Carlo, however, is not so oblivious to these issues as $\\approx$ 3% of the iterations in our lone Markov chain ended with a divergence."
   ]
  },
  {
   "cell_type": "code",
   "execution_count": null,
   "metadata": {},
   "outputs": [],
   "source": [
    "# display the total number and percentage of divergent\n",
    "divergent = short_trace[\"diverging\"]\n",
    "print(\"Number of Divergent %d\" % divergent.nonzero()[0].size)\n",
    "divperc = divergent.nonzero()[0].size / len(short_trace) * 100\n",
    "print(\"Percentage of Divergent %.1f\" % divperc)"
   ]
  },
  {
   "cell_type": "markdown",
   "metadata": {},
   "source": [
    "Even with a single short chain these divergences are able to identity the bias and advise skepticism of any resulting MCMC estimators.\n",
    "\n",
    "Additionally, because the divergent transitions, here shown in green, tend to be located near the pathologies we can use them to identify the location of the problematic neighborhoods in parameter space."
   ]
  },
  {
   "cell_type": "code",
   "execution_count": null,
   "metadata": {},
   "outputs": [],
   "source": [
    "def pairplot_divergence(trace, ax=None, divergence=True, color=\"C3\", divergence_color=\"C2\"):\n",
    "    theta = trace.get_values(varname=\"theta\", combine=True)[:, 0]\n",
    "    logtau = trace.get_values(varname=\"tau_log__\", combine=True)\n",
    "    if not ax:\n",
    "        _, ax = plt.subplots(1, 1, figsize=(10, 5))\n",
    "    ax.plot(theta, logtau, \"o\", color=color, alpha=0.5)\n",
    "    if divergence:\n",
    "        divergent = trace[\"diverging\"]\n",
    "        ax.plot(theta[divergent], logtau[divergent], \"o\", color=divergence_color)\n",
    "    ax.set_xlabel(\"theta[0]\")\n",
    "    ax.set_ylabel(\"log(tau)\")\n",
    "    ax.set_title(\"scatter plot between log(tau) and theta[0]\")\n",
    "    return ax\n",
    "\n",
    "\n",
    "pairplot_divergence(short_trace);"
   ]
  },
  {
   "cell_type": "markdown",
   "metadata": {},
   "source": [
    "It is important to point out that the pathological samples from the trace are not necessarily concentrated at the funnel: when a divergence is encountered, the subtree being constructed is rejected and the transition samples uniformly from the existing discrete trajectory. Consequently, divergent samples will not be located exactly in the region of high curvature.\n",
    "\n",
    "In `pymc3`, we recently implemented a warning system that also saves the information of _where_ the divergence occurs, and hence you can visualize them directly. To be more precise, what we include as the divergence point in the warning is the point where that problematic leapfrog step started. Some could also be because the divergence happens in one of the leapfrog step (which strictly speaking is not a point). But nonetheless, visualizing these should give a closer proximate where the funnel is.\n",
    "\n",
    "Notices that only the first 100 divergences are stored, so that we don't eat all memory."
   ]
  },
  {
   "cell_type": "code",
   "execution_count": null,
   "metadata": {},
   "outputs": [],
   "source": [
    "divergent_point = defaultdict(list)\n",
    "\n",
    "chain_warn = short_trace.report._chain_warnings\n",
    "for i in range(len(chain_warn)):\n",
    "    for warning_ in chain_warn[i]:\n",
    "        if warning_.step is not None and warning_.extra is not None:\n",
    "            for RV in Centered_eight.free_RVs:\n",
    "                para_name = RV.name\n",
    "                divergent_point[para_name].append(warning_.extra[para_name])\n",
    "\n",
    "for RV in Centered_eight.free_RVs:\n",
    "    para_name = RV.name\n",
    "    divergent_point[para_name] = np.asarray(divergent_point[para_name])\n",
    "\n",
    "tau_log_d = divergent_point[\"tau_log__\"]\n",
    "theta0_d = divergent_point[\"theta\"]\n",
    "Ndiv_recorded = len(tau_log_d)"
   ]
  },
  {
   "cell_type": "code",
   "execution_count": null,
   "metadata": {},
   "outputs": [],
   "source": [
    "_, ax = plt.subplots(1, 2, figsize=(15, 6), sharex=True, sharey=True)\n",
    "\n",
    "pairplot_divergence(short_trace, ax=ax[0], color=\"C7\", divergence_color=\"C2\")\n",
    "\n",
    "plt.title(\"scatter plot between log(tau) and theta[0]\")\n",
    "\n",
    "pairplot_divergence(short_trace, ax=ax[1], color=\"C7\", divergence_color=\"C2\")\n",
    "\n",
    "theta_trace = short_trace[\"theta\"]\n",
    "theta0 = theta_trace[:, 0]\n",
    "\n",
    "ax[1].plot(\n",
    "    [theta0[divergent == 1][:Ndiv_recorded], theta0_d],\n",
    "    [logtau[divergent == 1][:Ndiv_recorded], tau_log_d],\n",
    "    \"k-\",\n",
    "    alpha=0.5,\n",
    ")\n",
    "\n",
    "ax[1].scatter(\n",
    "    theta0_d, tau_log_d, color=\"C3\", label=\"Location of Energy error (start location of leapfrog)\"\n",
    ")\n",
    "\n",
    "plt.title(\"scatter plot between log(tau) and theta[0]\")\n",
    "plt.legend();"
   ]
  },
  {
   "cell_type": "markdown",
   "metadata": {},
   "source": [
    "There are many other ways to explore and visualize the pathological region in the parameter space. For example, we can reproduce Figure 5b in [Visualization in Bayesian workflow](https://arxiv.org/pdf/1709.01449.pdf)"
   ]
  },
  {
   "cell_type": "code",
   "execution_count": null,
   "metadata": {},
   "outputs": [],
   "source": [
    "tracedf = pm.trace_to_dataframe(short_trace)\n",
    "plotorder = [\n",
    "    \"mu\",\n",
    "    \"tau\",\n",
    "    \"theta__0\",\n",
    "    \"theta__1\",\n",
    "    \"theta__2\",\n",
    "    \"theta__3\",\n",
    "    \"theta__4\",\n",
    "    \"theta__5\",\n",
    "    \"theta__6\",\n",
    "    \"theta__7\",\n",
    "]\n",
    "tracedf = tracedf[plotorder]\n",
    "\n",
    "_, ax = plt.subplots(1, 2, figsize=(15, 4), sharex=True, sharey=True)\n",
    "ax[0].plot(tracedf.values[divergent == 0].T, color=\"k\", alpha=0.025)\n",
    "ax[0].plot(tracedf.values[divergent == 1].T, color=\"C2\", lw=0.5)\n",
    "\n",
    "ax[1].plot(tracedf.values[divergent == 0].T, color=\"k\", alpha=0.025)\n",
    "ax[1].plot(tracedf.values[divergent == 1].T, color=\"C2\", lw=0.5)\n",
    "divsp = np.hstack(\n",
    "    [\n",
    "        divergent_point[\"mu\"],\n",
    "        np.exp(divergent_point[\"tau_log__\"]),\n",
    "        divergent_point[\"theta\"],\n",
    "    ]\n",
    ")\n",
    "ax[1].plot(divsp.T, \"C3\", lw=0.5)\n",
    "plt.ylim([-20, 40])\n",
    "plt.xticks(range(10), plotorder)\n",
    "plt.tight_layout()"
   ]
  },
  {
   "cell_type": "code",
   "execution_count": null,
   "metadata": {},
   "outputs": [],
   "source": [
    "# A small wrapper function for displaying the MCMC sampler diagnostics as above\n",
    "def report_trace(trace):\n",
    "    # plot the trace of log(tau)\n",
    "    az.plot_trace({\"log(tau)\": trace.get_values(varname=\"tau_log__\", combine=False)})\n",
    "\n",
    "    # plot the estimate for the mean of log(τ) cumulating mean\n",
    "    logtau = np.log(trace[\"tau\"])\n",
    "    mlogtau = [np.mean(logtau[:i]) for i in np.arange(1, len(logtau))]\n",
    "    plt.figure(figsize=(15, 4))\n",
    "    plt.axhline(0.7657852, lw=2.5, color=\"gray\")\n",
    "    plt.plot(mlogtau, lw=2.5)\n",
    "    plt.ylim(0, 2)\n",
    "    plt.xlabel(\"Iteration\")\n",
    "    plt.ylabel(\"MCMC mean of log(tau)\")\n",
    "    plt.title(\"MCMC estimation of log(tau)\")\n",
    "    plt.show()\n",
    "\n",
    "    # display the total number and percentage of divergent\n",
    "    divergent = trace[\"diverging\"]\n",
    "    print(\"Number of Divergent %d\" % divergent.nonzero()[0].size)\n",
    "    divperc = divergent.nonzero()[0].size / len(trace) * 100\n",
    "    print(\"Percentage of Divergent %.1f\" % divperc)\n",
    "\n",
    "    # scatter plot between log(tau) and theta[0]\n",
    "    # for the identification of the problematic neighborhoods in parameter space\n",
    "    pairplot_divergence(trace);"
   ]
  },
  {
   "cell_type": "markdown",
   "metadata": {},
   "source": [
    "### A Safer, Longer Markov Chain  \n",
    "\n",
    "Given the potential insensitivity of split $\\hat{R}$ on single short chains, `Stan` recommend always running multiple chains as long as possible to have the best chance to observe any obstructions to geometric ergodicity. Because it is not always possible to run long chains for complex models, however, divergences are an incredibly powerful diagnostic for biased MCMC estimation."
   ]
  },
  {
   "cell_type": "code",
   "execution_count": null,
   "metadata": {},
   "outputs": [],
   "source": [
    "with Centered_eight:\n",
    "    longer_trace = pm.sample(4000, chains=2, tune=1000, random_seed=SEED)"
   ]
  },
  {
   "cell_type": "code",
   "execution_count": null,
   "metadata": {},
   "outputs": [],
   "source": [
    "report_trace(longer_trace)"
   ]
  },
  {
   "cell_type": "code",
   "execution_count": null,
   "metadata": {},
   "outputs": [],
   "source": [
    "az.summary(longer_trace).round(2)"
   ]
  },
  {
   "cell_type": "markdown",
   "metadata": {},
   "source": [
    "Similar to the result in `Stan`,  $\\hat{R}$ does not indicate any serious issues. However, the effective sample size per iteration has drastically fallen, indicating that we are exploring less efficiently the longer we run. This odd behavior is a clear sign that something problematic is afoot. As shown in the trace plot, the chain occasionally \"sticks\" as it approaches small values of $\\tau$, exactly where we saw the divergences concentrating. This is a clear indication of the underlying pathologies. These sticky intervals induce severe oscillations in the MCMC estimators early on, until they seem to finally settle into biased values.   \n",
    "\n",
    "In fact the sticky intervals are the Markov chain trying to correct the biased exploration. If we ran the chain even longer then it would eventually get stuck again and drag the MCMC estimator down towards the true value. Given an infinite number of iterations this delicate balance asymptotes to the true expectation as we’d expect given the consistency guarantee of MCMC. Stopping after any finite number of iterations, however, destroys this balance and leaves us with a significant bias. \n",
    "\n",
    "More details can be found in Betancourt's [recent paper](https://arxiv.org/abs/1701.02434)."
   ]
  },
  {
   "cell_type": "markdown",
   "metadata": {},
   "source": [
    "## Mitigating Divergences by Adjusting PyMC3's Adaptation Routine\n",
    "\n",
    "Divergences in Hamiltonian Monte Carlo arise when the Hamiltonian transition encounters regions of extremely large curvature, such as the opening of the hierarchical funnel. Unable to accurate resolve these regions, the transition malfunctions and flies off towards infinity. With the transitions unable to completely explore these regions of extreme curvature, we lose geometric ergodicity and our MCMC estimators become biased.\n",
    "\n",
    "Algorithm implemented in `Stan` uses a heuristic to quickly identify these misbehaving trajectories, and hence label divergences, without having to wait for them to run all the way to infinity. This heuristic can be a bit aggressive, however, and sometimes label transitions as divergent even when we have not lost geometric ergodicity.\n",
    "\n",
    "To resolve this potential ambiguity we can adjust the step size, $\\epsilon$, of the Hamiltonian transition. The smaller the step size the more accurate the trajectory and the less likely it will be mislabeled as a divergence. In other words, if we have geometric ergodicity between the Hamiltonian transition and the target distribution then decreasing the step size will reduce and then ultimately remove the divergences entirely. If we do not have geometric ergodicity, however, then decreasing the step size will not completely remove the divergences.\n",
    "\n",
    "Like `Stan`, the step size in `PyMC3` is tuned automatically during warm up, but we can coerce smaller step sizes by tweaking the configuration of `PyMC3`'s adaptation routine. In particular, we can increase the `target_accept` parameter from its default value of 0.8 closer to its maximum value of 1."
   ]
  },
  {
   "cell_type": "markdown",
   "metadata": {},
   "source": [
    "### Adjusting Adaptation Routine"
   ]
  },
  {
   "cell_type": "code",
   "execution_count": null,
   "metadata": {},
   "outputs": [],
   "source": [
    "with Centered_eight:\n",
    "    fit_cp85 = pm.sample(5000, chains=2, tune=2000, target_accept=0.85)"
   ]
  },
  {
   "cell_type": "code",
   "execution_count": null,
   "metadata": {},
   "outputs": [],
   "source": [
    "with Centered_eight:\n",
    "    fit_cp90 = pm.sample(5000, chains=2, tune=2000, target_accept=0.90)"
   ]
  },
  {
   "cell_type": "code",
   "execution_count": null,
   "metadata": {},
   "outputs": [],
   "source": [
    "with Centered_eight:\n",
    "    fit_cp95 = pm.sample(5000, chains=2, tune=2000, target_accept=0.95)"
   ]
  },
  {
   "cell_type": "code",
   "execution_count": null,
   "metadata": {},
   "outputs": [],
   "source": [
    "with Centered_eight:\n",
    "    fit_cp99 = pm.sample(5000, chains=2, tune=2000, target_accept=0.99)"
   ]
  },
  {
   "cell_type": "code",
   "execution_count": null,
   "metadata": {},
   "outputs": [],
   "source": [
    "df = pd.DataFrame(\n",
    "    [\n",
    "        longer_trace[\"step_size\"].mean(),\n",
    "        fit_cp85[\"step_size\"].mean(),\n",
    "        fit_cp90[\"step_size\"].mean(),\n",
    "        fit_cp95[\"step_size\"].mean(),\n",
    "        fit_cp99[\"step_size\"].mean(),\n",
    "    ],\n",
    "    columns=[\"Step_size\"],\n",
    ")\n",
    "df[\"Divergent\"] = pd.Series(\n",
    "    [\n",
    "        longer_trace[\"diverging\"].sum(),\n",
    "        fit_cp85[\"diverging\"].sum(),\n",
    "        fit_cp90[\"diverging\"].sum(),\n",
    "        fit_cp95[\"diverging\"].sum(),\n",
    "        fit_cp99[\"diverging\"].sum(),\n",
    "    ]\n",
    ")\n",
    "df[\"delta_target\"] = pd.Series([\".80\", \".85\", \".90\", \".95\", \".99\"])\n",
    "df"
   ]
  },
  {
   "cell_type": "markdown",
   "metadata": {},
   "source": [
    "Here, the number of divergent transitions dropped dramatically when delta was increased to 0.99. \n",
    "\n",
    "This behavior also has a nice geometric intuition. The more we decrease the step size the more the Hamiltonian Markov chain can explore the neck of the funnel. Consequently, the marginal posterior distribution for $log (\\tau)$ stretches further and further towards negative values with the decreasing step size. \n",
    "\n",
    "Since in `PyMC3` after tuning we have a smaller step size than `Stan`, the geometery is better explored.\n",
    "\n",
    "However, the Hamiltonian transition is still not geometrically ergodic with respect to the centered implementation of the Eight Schools model. Indeed, this is expected given the observed bias."
   ]
  },
  {
   "cell_type": "code",
   "execution_count": null,
   "metadata": {},
   "outputs": [],
   "source": [
    "_, ax = plt.subplots(1, 1, figsize=(10, 6))\n",
    "\n",
    "pairplot_divergence(fit_cp99, ax=ax, color=\"C3\", divergence=False)\n",
    "\n",
    "pairplot_divergence(longer_trace, ax=ax, color=\"C1\", divergence=False)\n",
    "\n",
    "ax.legend([\"Centered, delta=0.99\", \"Centered, delta=0.85\"]);"
   ]
  },
  {
   "cell_type": "code",
   "execution_count": null,
   "metadata": {},
   "outputs": [],
   "source": [
    "logtau0 = longer_trace[\"tau_log__\"]\n",
    "logtau2 = np.log(fit_cp90[\"tau\"])\n",
    "logtau1 = fit_cp99[\"tau_log__\"]\n",
    "\n",
    "plt.figure(figsize=(15, 4))\n",
    "plt.axhline(0.7657852, lw=2.5, color=\"gray\")\n",
    "mlogtau0 = [np.mean(logtau0[:i]) for i in np.arange(1, len(logtau0))]\n",
    "plt.plot(mlogtau0, label=\"Centered, delta=0.85\", lw=2.5)\n",
    "mlogtau2 = [np.mean(logtau2[:i]) for i in np.arange(1, len(logtau2))]\n",
    "plt.plot(mlogtau2, label=\"Centered, delta=0.90\", lw=2.5)\n",
    "mlogtau1 = [np.mean(logtau1[:i]) for i in np.arange(1, len(logtau1))]\n",
    "plt.plot(mlogtau1, label=\"Centered, delta=0.99\", lw=2.5)\n",
    "plt.ylim(0, 2)\n",
    "plt.xlabel(\"Iteration\")\n",
    "plt.ylabel(\"MCMC mean of log(tau)\")\n",
    "plt.title(\"MCMC estimation of log(tau)\")\n",
    "plt.legend();"
   ]
  },
  {
   "cell_type": "markdown",
   "metadata": {},
   "source": [
    "## A Non-Centered Eight Schools Implementation  \n",
    " \n",
    "Although reducing the step size improves exploration, ultimately it only reveals the true extent the pathology in the centered implementation. Fortunately, there is another way to implement hierarchical models that does not suffer from the same pathologies.  \n",
    "\n",
    "In a non-centered parameterization we do not try to fit the group-level parameters directly, rather we fit a latent Gaussian variable from which we can recover the group-level parameters with a scaling and a translation.  \n",
    "\n",
    "$$\\mu \\sim \\mathcal{N}(0, 5)$$\n",
    "$$\\tau \\sim \\text{Half-Cauchy}(0, 5)$$\n",
    "$$\\tilde{\\theta}_{n} \\sim \\mathcal{N}(0, 1)$$\n",
    "$$\\theta_{n} = \\mu + \\tau \\cdot \\tilde{\\theta}_{n}.$$\n",
    "\n",
    "Stan model:\n",
    "\n",
    "```C\n",
    "data {\n",
    "  int<lower=0> J;\n",
    "  real y[J];\n",
    "  real<lower=0> sigma[J];\n",
    "}\n",
    "\n",
    "parameters {\n",
    "  real mu;\n",
    "  real<lower=0> tau;\n",
    "  real theta_tilde[J];\n",
    "}\n",
    "\n",
    "transformed parameters {\n",
    "  real theta[J];\n",
    "  for (j in 1:J)\n",
    "    theta[j] = mu + tau * theta_tilde[j];\n",
    "}\n",
    "\n",
    "model {\n",
    "  mu ~ normal(0, 5);\n",
    "  tau ~ cauchy(0, 5);\n",
    "  theta_tilde ~ normal(0, 1);\n",
    "  y ~ normal(theta, sigma);\n",
    "}\n",
    "```"
   ]
  },
  {
   "cell_type": "code",
   "execution_count": null,
   "metadata": {},
   "outputs": [],
   "source": [
    "with pm.Model() as NonCentered_eight:\n",
    "    mu = pm.Normal(\"mu\", mu=0, sigma=5)\n",
    "    tau = pm.HalfCauchy(\"tau\", beta=5)\n",
    "    theta_tilde = pm.Normal(\"theta_t\", mu=0, sigma=1, shape=J)\n",
    "    theta = pm.Deterministic(\"theta\", mu + tau * theta_tilde)\n",
    "    obs = pm.Normal(\"obs\", mu=theta, sigma=sigma, observed=y)"
   ]
  },
  {
   "cell_type": "code",
   "execution_count": null,
   "metadata": {},
   "outputs": [],
   "source": [
    "with NonCentered_eight:\n",
    "    fit_ncp80 = pm.sample(5000, chains=2, tune=1000, random_seed=SEED, target_accept=0.80)"
   ]
  },
  {
   "cell_type": "code",
   "execution_count": null,
   "metadata": {},
   "outputs": [],
   "source": [
    "az.summary(fit_ncp80).round(2)"
   ]
  },
  {
   "cell_type": "markdown",
   "metadata": {},
   "source": [
    "As shown above, the effective sample size per iteration has drastically improved, and the trace plots no longer show any \"stickyness\". However, we do still see the rare divergence. These infrequent divergences do not seem concentrate anywhere in parameter space, which is indicative of the divergences being false positives."
   ]
  },
  {
   "cell_type": "code",
   "execution_count": null,
   "metadata": {},
   "outputs": [],
   "source": [
    "report_trace(fit_ncp80)"
   ]
  },
  {
   "cell_type": "markdown",
   "metadata": {},
   "source": [
    "As expected of false positives, we can remove the divergences entirely by decreasing the step size."
   ]
  },
  {
   "cell_type": "code",
   "execution_count": null,
   "metadata": {},
   "outputs": [],
   "source": [
    "with NonCentered_eight:\n",
    "    fit_ncp90 = pm.sample(5000, chains=2, tune=1000, random_seed=SEED, target_accept=0.90)\n",
    "\n",
    "# display the total number and percentage of divergent\n",
    "divergent = fit_ncp90[\"diverging\"]\n",
    "print(\"Number of Divergent %d\" % divergent.nonzero()[0].size)"
   ]
  },
  {
   "cell_type": "markdown",
   "metadata": {},
   "source": [
    "The more agreeable geometry of the non-centered implementation allows the Markov chain to explore deep into the neck of the funnel, capturing even the smallest values of `tau` ($\\tau$) that are consistent with the measurements. Consequently, MCMC estimators from the non-centered chain rapidly converge towards their true expectation values."
   ]
  },
  {
   "cell_type": "code",
   "execution_count": null,
   "metadata": {},
   "outputs": [],
   "source": [
    "_, ax = plt.subplots(1, 1, figsize=(10, 6))\n",
    "\n",
    "pairplot_divergence(fit_ncp80, ax=ax, color=\"C0\", divergence=False)\n",
    "pairplot_divergence(fit_cp99, ax=ax, color=\"C3\", divergence=False)\n",
    "pairplot_divergence(fit_cp90, ax=ax, color=\"C1\", divergence=False)\n",
    "\n",
    "ax.legend([\"Non-Centered, delta=0.80\", \"Centered, delta=0.99\", \"Centered, delta=0.90\"]);"
   ]
  },
  {
   "cell_type": "code",
   "execution_count": null,
   "metadata": {},
   "outputs": [],
   "source": [
    "logtaun = fit_ncp80[\"tau_log__\"]\n",
    "\n",
    "plt.figure(figsize=(15, 4))\n",
    "plt.axhline(0.7657852, lw=2.5, color=\"gray\")\n",
    "mlogtaun = [np.mean(logtaun[:i]) for i in np.arange(1, len(logtaun))]\n",
    "plt.plot(mlogtaun, color=\"C0\", lw=2.5, label=\"Non-Centered, delta=0.80\")\n",
    "\n",
    "mlogtau1 = [np.mean(logtau1[:i]) for i in np.arange(1, len(logtau1))]\n",
    "plt.plot(mlogtau1, color=\"C3\", lw=2.5, label=\"Centered, delta=0.99\")\n",
    "\n",
    "mlogtau0 = [np.mean(logtau0[:i]) for i in np.arange(1, len(logtau0))]\n",
    "plt.plot(mlogtau0, color=\"C1\", lw=2.5, label=\"Centered, delta=0.90\")\n",
    "plt.ylim(0, 2)\n",
    "plt.xlabel(\"Iteration\")\n",
    "plt.ylabel(\"MCMC mean of log(tau)\")\n",
    "plt.title(\"MCMC estimation of log(tau)\")\n",
    "plt.legend();"
   ]
  },
  {
   "cell_type": "markdown",
   "metadata": {},
   "source": [
    "## Authors\n",
    "* Adapted from Michael Betancourt's post January 2017, [Diagnosing Biased Inference with Divergences](https://mc-stan.org/users/documentation/case-studies/divergences_and_bias.html)\n",
    "* Updated by Agustina Arroyuelo in February 2018, ([pymc#2861](https://github.com/pymc-devs/pymc/pull/2861))\n",
    "* Updated by [@CloudChaoszero](https://github.com/CloudChaoszero) in January 2021, ([pymc-examples#25](https://github.com/pymc-devs/pymc-examples/pull/25))\n",
    "* Updated Markdown and styling by @reshamas in August 2022, ([pymc-examples#402](https://github.com/pymc-devs/pymc-examples/pull/402))"
   ]
  },
  {
   "cell_type": "code",
   "execution_count": null,
   "metadata": {},
   "outputs": [],
   "source": [
    "%load_ext watermark\n",
    "%watermark -n -u -v -iv -w"
   ]
  },
  {
   "cell_type": "markdown",
   "metadata": {},
   "source": [
    ":::{include} ../page_footer.md\n",
    ":::"
   ]
  },
  {
   "cell_type": "code",
   "execution_count": null,
   "metadata": {},
   "outputs": [],
   "source": []
  }
 ],
 "metadata": {
  "kernelspec": {
   "display_name": "Python 3 (ipykernel)",
   "language": "python",
   "name": "python3"
  },
  "language_info": {
   "codemirror_mode": {
    "name": "ipython",
    "version": 3
   },
   "file_extension": ".py",
   "mimetype": "text/x-python",
   "name": "python",
   "nbconvert_exporter": "python",
   "pygments_lexer": "ipython3",
   "version": "3.10.5"
  }
 },
 "nbformat": 4,
 "nbformat_minor": 4
}
