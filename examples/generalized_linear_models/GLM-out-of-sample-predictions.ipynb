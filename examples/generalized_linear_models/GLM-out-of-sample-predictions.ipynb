{
 "cells": [
  {
   "attachments": {},
   "cell_type": "markdown",
   "metadata": {},
   "source": [
    "(GLM-out-of-sample-predictions)=\n",
    "# Out-Of-Sample Predictions\n",
    "\n",
    ":::{post} December, 2023\n",
    ":tags: generalized linear model, logistic regression, out of sample predictions, patsy\n",
    ":category: beginner\n",
    ":::"
   ]
  },
  {
   "cell_type": "code",
   "execution_count": null,
   "metadata": {
    "ExecuteTime": {
     "end_time": "2023-12-07T01:08:28.293925399Z",
     "start_time": "2023-12-07T01:08:27.677320823Z"
    }
   },
   "outputs": [],
   "source": [
    "import arviz as az\n",
    "import matplotlib.pyplot as plt\n",
    "import numpy as np\n",
    "import pandas as pd\n",
    "import pymc as pm\n",
    "import seaborn as sns\n",
    "\n",
    "from scipy.special import expit as inverse_logit\n",
    "from sklearn.metrics import RocCurveDisplay, auc, roc_curve"
   ]
  },
  {
   "cell_type": "code",
   "execution_count": null,
   "metadata": {
    "ExecuteTime": {
     "end_time": "2023-12-07T01:08:28.297190329Z",
     "start_time": "2023-12-07T01:08:28.294308241Z"
    }
   },
   "outputs": [],
   "source": [
    "RANDOM_SEED = 8927\n",
    "rng = np.random.default_rng(RANDOM_SEED)\n",
    "az.style.use(\"arviz-darkgrid\")"
   ]
  },
  {
   "cell_type": "markdown",
   "metadata": {},
   "source": [
    "## Generate Sample Data\n",
    "\n",
    "We want to fit a logistic regression model where there is a multiplicative interaction between two numerical features."
   ]
  },
  {
   "cell_type": "code",
   "execution_count": null,
   "metadata": {
    "ExecuteTime": {
     "end_time": "2023-12-07T01:08:28.307270628Z",
     "start_time": "2023-12-07T01:08:28.296881471Z"
    }
   },
   "outputs": [],
   "source": [
    "# Number of data points\n",
    "n = 250\n",
    "# Create features\n",
    "x1 = rng.normal(loc=0.0, scale=2.0, size=n)\n",
    "x2 = rng.normal(loc=0.0, scale=2.0, size=n)\n",
    "# Define target variable\n",
    "intercept = -0.5\n",
    "beta_x1 = 1\n",
    "beta_x2 = -1\n",
    "beta_interaction = 2\n",
    "z = intercept + beta_x1 * x1 + beta_x2 * x2 + beta_interaction * x1 * x2\n",
    "p = inverse_logit(z)\n",
    "# note binomial with n=1 is equal to a Bernoulli\n",
    "y = rng.binomial(n=1, p=p, size=n)\n",
    "df = pd.DataFrame(dict(x1=x1, x2=x2, y=y))\n",
    "df.head()"
   ]
  },
  {
   "cell_type": "markdown",
   "metadata": {},
   "source": [
    "Let us do some exploration of the data:"
   ]
  },
  {
   "cell_type": "code",
   "execution_count": null,
   "metadata": {
    "ExecuteTime": {
     "end_time": "2023-12-07T01:08:28.941490631Z",
     "start_time": "2023-12-07T01:08:28.307197325Z"
    }
   },
   "outputs": [],
   "source": [
    "sns.pairplot(data=df, kind=\"scatter\");"
   ]
  },
  {
   "cell_type": "markdown",
   "metadata": {},
   "source": [
    "- $x_1$ and $x_2$ are not correlated.\n",
    "- $x_1$ and $x_2$ do not seem to separate the $y$-classes independently.\n",
    "- The distribution of $y$ is not highly unbalanced."
   ]
  },
  {
   "cell_type": "code",
   "execution_count": null,
   "metadata": {
    "ExecuteTime": {
     "end_time": "2023-12-07T01:08:29.054171607Z",
     "start_time": "2023-12-07T01:08:28.943530942Z"
    }
   },
   "outputs": [],
   "source": [
    "fig, ax = plt.subplots()\n",
    "sns.scatterplot(x=\"x1\", y=\"x2\", data=df, hue=\"y\")\n",
    "ax.legend(title=\"y\")\n",
    "ax.set(title=\"Sample Data\", xlim=(-9, 9), ylim=(-9, 9));"
   ]
  },
  {
   "cell_type": "markdown",
   "metadata": {},
   "source": [
    "## Prepare Data for Modeling"
   ]
  },
  {
   "cell_type": "code",
   "execution_count": null,
   "metadata": {
    "ExecuteTime": {
     "end_time": "2023-12-07T01:08:29.059531616Z",
     "start_time": "2023-12-07T01:08:29.056504038Z"
    }
   },
   "outputs": [],
   "source": [
    "labels = [\"Intercept\", \"x1\", \"x2\", \"x1:x2\"]\n",
    "df[\"Intercept\"] = np.ones(len(df))\n",
    "df[\"x1:x2\"] = df[\"x1\"] * df[\"x2\"]\n",
    "# reorder columns to be in the same order as labels\n",
    "df = df[labels]\n",
    "x = df.to_numpy()"
   ]
  },
  {
   "cell_type": "markdown",
   "metadata": {},
   "source": [
    "Now we do a train-test split."
   ]
  },
  {
   "cell_type": "code",
   "execution_count": null,
   "metadata": {
    "ExecuteTime": {
     "end_time": "2023-12-07T01:08:29.062009501Z",
     "start_time": "2023-12-07T01:08:29.058706350Z"
    }
   },
   "outputs": [],
   "source": [
    "indices = rng.permutation(x.shape[0])\n",
    "train_prop = 0.7\n",
    "train_size = int(train_prop * x.shape[0])\n",
    "training_idx, test_idx = indices[:train_size], indices[train_size:]\n",
    "x_train, x_test = x[training_idx, :], x[test_idx, :]\n",
    "y_train, y_test = y[training_idx], y[test_idx]"
   ]
  },
  {
   "cell_type": "markdown",
   "metadata": {},
   "source": [
    "## Define and Fit the Model\n",
    "\n",
    "We now specify the model in PyMC."
   ]
  },
  {
   "cell_type": "code",
   "execution_count": null,
   "metadata": {
    "ExecuteTime": {
     "end_time": "2023-12-07T01:08:29.262888874Z",
     "start_time": "2023-12-07T01:08:29.062820492Z"
    }
   },
   "outputs": [],
   "source": [
    "coords = {\"coeffs\": labels}\n",
    "\n",
    "with pm.Model(coords=coords) as model:\n",
    "    # data containers\n",
    "    X = pm.MutableData(\"X\", x_train)\n",
    "    y = pm.MutableData(\"y\", y_train)\n",
    "    # priors\n",
    "    b = pm.Normal(\"b\", mu=0, sigma=1, dims=\"coeffs\")\n",
    "    # linear model\n",
    "    mu = pm.math.dot(X, b)\n",
    "    # link function\n",
    "    p = pm.Deterministic(\"p\", pm.math.invlogit(mu))\n",
    "    # likelihood\n",
    "    pm.Bernoulli(\"obs\", p=p, observed=y)\n",
    "\n",
    "pm.model_to_graphviz(model)"
   ]
  },
  {
   "cell_type": "code",
   "execution_count": null,
   "metadata": {
    "ExecuteTime": {
     "end_time": "2023-12-07T01:08:32.399029568Z",
     "start_time": "2023-12-07T01:08:29.262686725Z"
    }
   },
   "outputs": [],
   "source": [
    "with model:\n",
    "    idata = pm.sample()"
   ]
  },
  {
   "cell_type": "code",
   "execution_count": null,
   "metadata": {
    "ExecuteTime": {
     "end_time": "2023-12-07T01:08:32.835299707Z",
     "start_time": "2023-12-07T01:08:32.401692758Z"
    }
   },
   "outputs": [],
   "source": [
    "az.plot_trace(idata, var_names=\"b\", compact=False);"
   ]
  },
  {
   "cell_type": "markdown",
   "metadata": {},
   "source": [
    "The chains look good."
   ]
  },
  {
   "cell_type": "code",
   "execution_count": null,
   "metadata": {
    "ExecuteTime": {
     "end_time": "2023-12-07T01:08:32.885982194Z",
     "start_time": "2023-12-07T01:08:32.835017792Z"
    }
   },
   "outputs": [],
   "source": [
    "az.summary(idata, var_names=\"b\")"
   ]
  },
  {
   "cell_type": "markdown",
   "metadata": {},
   "source": [
    "And we do a good job of recovering the true parameters for this simulated dataset."
   ]
  },
  {
   "cell_type": "code",
   "execution_count": null,
   "metadata": {
    "ExecuteTime": {
     "end_time": "2023-12-07T01:08:33.102735757Z",
     "start_time": "2023-12-07T01:08:32.855453247Z"
    }
   },
   "outputs": [],
   "source": [
    "az.plot_posterior(\n",
    "    idata, var_names=[\"b\"], ref_val=[intercept, beta_x1, beta_x2, beta_interaction], figsize=(15, 4)\n",
    ");"
   ]
  },
  {
   "cell_type": "markdown",
   "metadata": {},
   "source": [
    "## Generate Out-Of-Sample Predictions\n",
    "\n",
    "Now we generate predictions on the test set."
   ]
  },
  {
   "cell_type": "code",
   "execution_count": null,
   "metadata": {
    "ExecuteTime": {
     "end_time": "2023-12-07T01:08:33.348593079Z",
     "start_time": "2023-12-07T01:08:33.102634590Z"
    }
   },
   "outputs": [],
   "source": [
    "with model:\n",
    "    pm.set_data({\"X\": x_test, \"y\": y_test})\n",
    "    idata.extend(pm.sample_posterior_predictive(idata))"
   ]
  },
  {
   "cell_type": "code",
   "execution_count": null,
   "metadata": {
    "ExecuteTime": {
     "end_time": "2023-12-07T01:08:33.390660495Z",
     "start_time": "2023-12-07T01:08:33.349359007Z"
    }
   },
   "outputs": [],
   "source": [
    "# Compute the point prediction by taking the mean and defining the category via a threshold.\n",
    "p_test_pred = idata.posterior_predictive[\"obs\"].mean(dim=[\"chain\", \"draw\"])\n",
    "y_test_pred = (p_test_pred >= 0.5).astype(\"int\").to_numpy()"
   ]
  },
  {
   "cell_type": "markdown",
   "metadata": {},
   "source": [
    "## Evaluate Model\n",
    "\n",
    "First let us compute the accuracy on the test set."
   ]
  },
  {
   "cell_type": "code",
   "execution_count": null,
   "metadata": {
    "ExecuteTime": {
     "end_time": "2023-12-07T01:08:33.391395602Z",
     "start_time": "2023-12-07T01:08:33.390556542Z"
    }
   },
   "outputs": [],
   "source": [
    "print(f\"accuracy = {np.mean(y_test==y_test_pred): 0.3f}\")"
   ]
  },
  {
   "cell_type": "markdown",
   "metadata": {},
   "source": [
    "Next, we plot the [roc curve](https://en.wikipedia.org/wiki/Receiver_operating_characteristic) and compute the [auc](https://en.wikipedia.org/wiki/Receiver_operating_characteristic#Area_under_the_curve)."
   ]
  },
  {
   "cell_type": "code",
   "execution_count": null,
   "metadata": {
    "ExecuteTime": {
     "end_time": "2023-12-07T01:08:33.438740236Z",
     "start_time": "2023-12-07T01:08:33.390726550Z"
    }
   },
   "outputs": [],
   "source": [
    "fpr, tpr, thresholds = roc_curve(\n",
    "    y_true=y_test, y_score=p_test_pred, pos_label=1, drop_intermediate=False\n",
    ")\n",
    "roc_auc = auc(fpr, tpr)\n",
    "\n",
    "fig, ax = plt.subplots()\n",
    "roc_display = RocCurveDisplay(fpr=fpr, tpr=tpr, roc_auc=roc_auc)\n",
    "roc_display = roc_display.plot(ax=ax, marker=\"o\", markersize=4)\n",
    "ax.set(title=\"ROC\");"
   ]
  },
  {
   "cell_type": "markdown",
   "metadata": {},
   "source": [
    "The model is performing as expected (we of course know the data generating process, which is almost never the case in practical applications)."
   ]
  },
  {
   "cell_type": "markdown",
   "metadata": {},
   "source": [
    "## Model Decision Boundary\n",
    "\n",
    "Finally we will describe and plot the model decision boundary, which is the space defined as\n",
    "\n",
    "$$\\mathcal{B} = \\{(x_1, x_2) \\in \\mathbb{R}^2 \\: | \\: p(x_1, x_2) = 0.5\\}$$\n",
    "\n",
    "where $p$ denotes the probability of belonging to the class $y=1$ output by the model. To make this set explicit, we simply write the condition in terms of the model parametrization:\n",
    "\n",
    "$$0.5 = \\frac{1}{1 + \\exp(-(\\beta_0 + \\beta_1 x_1 + \\beta_2 x_2 + \\beta_{12} x_1x_2))}$$\n",
    "\n",
    "which implies\n",
    "\n",
    "$$0 = \\beta_0 + \\beta_1 x_1 + \\beta_2 x_2 + \\beta_{12} x_1x_2$$\n",
    "\n",
    "Solving for $x_2$ we get the formula\n",
    "\n",
    "$$x_2 = - \\frac{\\beta_0 + \\beta_1 x_1}{\\beta_2 + \\beta_{12}x_1}$$\n",
    "\n",
    "Observe that this curve is a hyperbola centered at the singularity point $x_1 = - \\beta_2 / \\beta_{12}$."
   ]
  },
  {
   "cell_type": "markdown",
   "metadata": {},
   "source": [
    "Let us now plot the model decision boundary using a grid:"
   ]
  },
  {
   "cell_type": "code",
   "execution_count": null,
   "metadata": {
    "ExecuteTime": {
     "end_time": "2023-12-07T01:08:35.264923164Z",
     "start_time": "2023-12-07T01:08:33.482535667Z"
    }
   },
   "outputs": [],
   "source": [
    "def make_grid():\n",
    "    x1_grid = np.linspace(start=-9, stop=9, num=300)\n",
    "    x2_grid = x1_grid\n",
    "    x1_mesh, x2_mesh = np.meshgrid(x1_grid, x2_grid)\n",
    "    x_grid = np.stack(arrays=[x1_mesh.flatten(), x2_mesh.flatten()], axis=1)\n",
    "    return x1_grid, x2_grid, x_grid\n",
    "\n",
    "\n",
    "x1_grid, x2_grid, x_grid = make_grid()\n",
    "\n",
    "with model:\n",
    "    # Create features on the grid.\n",
    "    x_grid_ext = np.hstack(\n",
    "        (\n",
    "            np.ones((x_grid.shape[0], 1)),\n",
    "            x_grid,\n",
    "            (x_grid[:, 0] * x_grid[:, 1]).reshape(-1, 1),\n",
    "        )\n",
    "    )\n",
    "    # set the observed variables\n",
    "    pm.set_data({\"X\": x_grid_ext})\n",
    "    # calculate pushforward values of `p`\n",
    "    ppc_grid = pm.sample_posterior_predictive(idata, var_names=[\"p\"])"
   ]
  },
  {
   "cell_type": "code",
   "execution_count": null,
   "metadata": {
    "ExecuteTime": {
     "end_time": "2023-12-07T01:08:36.326078269Z",
     "start_time": "2023-12-07T01:08:35.265185383Z"
    }
   },
   "outputs": [],
   "source": [
    "# grid of predictions\n",
    "grid_df = pd.DataFrame(x_grid, columns=[\"x1\", \"x2\"])\n",
    "grid_df[\"p\"] = ppc_grid.posterior_predictive.p.mean(dim=[\"chain\", \"draw\"])\n",
    "p_grid = grid_df.pivot(index=\"x2\", columns=\"x1\", values=\"p\").to_numpy()"
   ]
  },
  {
   "cell_type": "markdown",
   "metadata": {},
   "source": [
    "Now we compute the model decision boundary on the grid for visualization purposes."
   ]
  },
  {
   "cell_type": "code",
   "execution_count": null,
   "metadata": {
    "ExecuteTime": {
     "end_time": "2023-12-07T01:08:36.329374983Z",
     "start_time": "2023-12-07T01:08:36.327269790Z"
    }
   },
   "outputs": [],
   "source": [
    "def calc_decision_boundary(idata, x1_grid):\n",
    "    # posterior mean of coefficients\n",
    "    intercept = idata.posterior[\"b\"].sel(coeffs=\"Intercept\").mean().data\n",
    "    b1 = idata.posterior[\"b\"].sel(coeffs=\"x1\").mean().data\n",
    "    b2 = idata.posterior[\"b\"].sel(coeffs=\"x2\").mean().data\n",
    "    b1b2 = idata.posterior[\"b\"].sel(coeffs=\"x1:x2\").mean().data\n",
    "    # decision boundary equation\n",
    "    return -(intercept + b1 * x1_grid) / (b2 + b1b2 * x1_grid)"
   ]
  },
  {
   "cell_type": "markdown",
   "metadata": {},
   "source": [
    "We finally get the plot and the predictions on the test set:"
   ]
  },
  {
   "cell_type": "code",
   "execution_count": null,
   "metadata": {
    "ExecuteTime": {
     "end_time": "2023-12-07T01:08:36.433475749Z",
     "start_time": "2023-12-07T01:08:36.329711467Z"
    }
   },
   "outputs": [],
   "source": [
    "fig, ax = plt.subplots()\n",
    "\n",
    "# data\n",
    "sns.scatterplot(\n",
    "    x=x_test[:, 1].flatten(),\n",
    "    y=x_test[:, 2].flatten(),\n",
    "    hue=y_test,\n",
    "    ax=ax,\n",
    ")\n",
    "\n",
    "# decision boundary\n",
    "ax.plot(x1_grid, calc_decision_boundary(idata, x1_grid), color=\"black\", linestyle=\":\")\n",
    "\n",
    "# grid of predictions\n",
    "ax.contourf(x1_grid, x2_grid, p_grid, alpha=0.3)\n",
    "\n",
    "ax.legend(title=\"y\", loc=\"center left\", bbox_to_anchor=(1, 0.5))\n",
    "ax.set(title=\"Model Decision Boundary\", xlim=(-9, 9), ylim=(-9, 9), xlabel=\"x1\", ylabel=\"x2\");"
   ]
  },
  {
   "cell_type": "markdown",
   "metadata": {},
   "source": [
    "Note that we have computed the model decision boundary by using the mean of the posterior samples. However, we can generate a better (and more informative!) plot if we use the complete distribution (similarly for other metrics like accuracy and AUC)."
   ]
  },
  {
   "attachments": {},
   "cell_type": "markdown",
   "metadata": {},
   "source": [
    "## References\n",
    "\n",
    "- [Bayesian Analysis with Python (Second edition) - Chapter 4](https://github.com/aloctavodia/BAP/blob/master/code/Chp4/04_Generalizing_linear_models.ipynb)\n",
    "- [Statistical Rethinking](https://xcelab.net/rm/statistical-rethinking/)"
   ]
  },
  {
   "cell_type": "markdown",
   "metadata": {
    "collapsed": false
   },
   "source": []
  },
  {
   "attachments": {},
   "cell_type": "markdown",
   "metadata": {},
   "source": [
    "## Authors\n",
    "- Created by [Juan Orduz](https://github.com/juanitorduz).\n",
    "- Updated by [Benjamin T. Vincent](https://github.com/drbenvincent) to PyMC v4 in June 2022\n",
    "- Re-executed by [Benjamin T. Vincent](https://github.com/drbenvincent) with PyMC v5 in December 2022\n",
    "- Updated by [Christian Luhmann](https://github.com/cluhmann)  in December 2023 ([pymc-examples#616](https://github.com/pymc-devs/pymc-examples/pull/616))"
   ]
  },
  {
   "cell_type": "markdown",
   "metadata": {},
   "source": [
    "## Watermark"
   ]
  },
  {
   "cell_type": "code",
   "execution_count": null,
   "metadata": {
    "ExecuteTime": {
     "end_time": "2023-12-07T01:08:36.441081239Z",
     "start_time": "2023-12-07T01:08:36.434152135Z"
    }
   },
   "outputs": [],
   "source": [
    "%load_ext watermark\n",
    "%watermark -n -u -v -iv -w -p pytensor"
   ]
  },
  {
   "attachments": {},
   "cell_type": "markdown",
   "metadata": {},
   "source": [
    ":::{include} ../page_footer.md\n",
    ":::"
   ]
  }
 ],
 "metadata": {
  "kernelspec": {
   "display_name": "pymc_env",
   "language": "python",
   "name": "python3"
  },
  "language_info": {
   "codemirror_mode": {
    "name": "ipython",
    "version": 3
   },
   "file_extension": ".py",
   "mimetype": "text/x-python",
   "name": "python",
   "nbconvert_exporter": "python",
   "pygments_lexer": "ipython3",
   "version": "3.10.6 | packaged by conda-forge | (main, Aug 22 2022, 20:41:22) [Clang 13.0.1 ]"
  },
  "vscode": {
   "interpreter": {
    "hash": "d5f0cba85daacbebbd957da1105312a62c58952ca942f7218a10e4aa5f415a19"
   }
  }
 },
 "nbformat": 4,
 "nbformat_minor": 2
}
