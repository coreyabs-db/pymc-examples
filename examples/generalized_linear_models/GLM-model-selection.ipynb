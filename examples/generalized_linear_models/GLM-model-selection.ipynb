{
 "cells": [
  {
   "cell_type": "markdown",
   "metadata": {},
   "source": [
    "(GLM-model-selection)=\n",
    "# GLM: Model Selection\n",
    "\n",
    ":::{post} Jan 8, 2022\n",
    ":tags: cross validation, generalized linear model, loo, model comparison, waic \n",
    ":category: intermediate\n",
    ":author: Jon Sedar, Junpeng Lao, Abhipsha Das, Oriol Abril-Pla\n",
    ":::"
   ]
  },
  {
   "cell_type": "code",
   "execution_count": null,
   "metadata": {},
   "outputs": [],
   "source": [
    "import arviz as az\n",
    "import bambi as bmb\n",
    "import matplotlib.pyplot as plt\n",
    "import numpy as np\n",
    "import pandas as pd\n",
    "import pymc3 as pm\n",
    "import seaborn as sns\n",
    "import xarray as xr\n",
    "\n",
    "from ipywidgets import fixed, interactive\n",
    "\n",
    "print(f\"Running on PyMC3 v{pm.__version__}\")"
   ]
  },
  {
   "cell_type": "code",
   "execution_count": null,
   "metadata": {},
   "outputs": [],
   "source": [
    "RANDOM_SEED = 8927\n",
    "rng = np.random.default_rng(RANDOM_SEED)\n",
    "\n",
    "%config InlineBackend.figure_format = 'retina'\n",
    "az.style.use(\"arviz-darkgrid\")\n",
    "plt.rcParams[\"figure.constrained_layout.use\"] = False"
   ]
  },
  {
   "cell_type": "markdown",
   "metadata": {},
   "source": [
    "## Introduction\n",
    "A fairly minimal reproducible example of Model Selection using WAIC, and LOO as currently implemented in PyMC3. \n",
    "\n",
    "This example creates two toy datasets under linear and quadratic models, and then tests the fit of a range of polynomial linear models upon those datasets by using Widely Applicable Information Criterion (WAIC), and leave-one-out (LOO) cross-validation using Pareto-smoothed importance sampling (PSIS). \n",
    "\n",
    "The example was inspired by Jake Vanderplas' [blogpost](https://jakevdp.github.io/blog/2015/08/07/frequentism-and-bayesianism-5-model-selection/) on model selection, although Cross-Validation and Bayes Factor comparison are not implemented. The datasets are tiny and generated within this Notebook. They contain errors in the measured value (y) only."
   ]
  },
  {
   "cell_type": "markdown",
   "metadata": {},
   "source": [
    "## Local Functions\n",
    "\n",
    "We start writing some functions to help with the rest of the notebook. Only the some functions are key to understanding the notebook, the rest are convenience functions to make plotting more concise when needed and are hidden inside a toggle-able section; it is still available but you need to click to see it."
   ]
  },
  {
   "cell_type": "code",
   "execution_count": null,
   "metadata": {},
   "outputs": [],
   "source": [
    "def generate_data(n=20, p=0, a=1, b=1, c=0, latent_sigma_y=20, seed=5):\n",
    "    \"\"\"\n",
    "    Create a toy dataset based on a very simple model that we might\n",
    "    imagine is a noisy physical process:\n",
    "        1. random x values within a range\n",
    "        2. latent error aka inherent noise in y\n",
    "        3. optionally create labelled outliers with larger noise\n",
    "\n",
    "    Model form: y ~ a + bx + cx^2 + e\n",
    "\n",
    "    NOTE: latent_sigma_y is used to create a normally distributed,\n",
    "    'latent error' aka 'inherent noise' in the 'physical' generating\n",
    "    process, rather than experimental measurement error.\n",
    "    Please don't use the returned `latent_error` values in inferential\n",
    "    models, it's returned in the dataframe for interest only.\n",
    "    \"\"\"\n",
    "    rng = np.random.default_rng(seed)\n",
    "    df = pd.DataFrame({\"x\": rng.choice(np.arange(100), n, replace=False)})\n",
    "\n",
    "    # create linear or quadratic model\n",
    "    df[\"y\"] = a + b * (df[\"x\"]) + c * (df[\"x\"]) ** 2\n",
    "\n",
    "    # create latent noise and marked outliers\n",
    "    df[\"latent_error\"] = rng.normal(0, latent_sigma_y, n)\n",
    "    df[\"outlier_error\"] = rng.normal(0, latent_sigma_y * 10, n)\n",
    "    df[\"outlier\"] = rng.binomial(1, p, n)\n",
    "\n",
    "    # add noise, with extreme noise for marked outliers\n",
    "    df[\"y\"] += (1 - df[\"outlier\"]) * df[\"latent_error\"]\n",
    "    df[\"y\"] += df[\"outlier\"] * df[\"outlier_error\"]\n",
    "\n",
    "    # round\n",
    "    for col in [\"y\", \"latent_error\", \"outlier_error\", \"x\"]:\n",
    "        df[col] = np.round(df[col], 3)\n",
    "\n",
    "    # add label\n",
    "    df[\"source\"] = \"linear\" if c == 0 else \"quadratic\"\n",
    "\n",
    "    # create simple linspace for plotting true model\n",
    "    plotx = np.linspace(\n",
    "        df[\"x\"].min() - np.ptp(df[\"x\"].values) * 0.1,\n",
    "        df[\"x\"].max() + np.ptp(df[\"x\"].values) * 0.1,\n",
    "        100,\n",
    "    )\n",
    "\n",
    "    ploty = a + b * plotx + c * plotx**2\n",
    "    dfp = pd.DataFrame({\"x\": plotx, \"y\": ploty})\n",
    "\n",
    "    return df, dfp"
   ]
  },
  {
   "cell_type": "code",
   "execution_count": null,
   "metadata": {
    "tags": [
     "hide-cell"
    ]
   },
   "outputs": [],
   "source": [
    "def interact_dataset(n=20, p=0, a=-30, b=5, c=0, latent_sigma_y=20):\n",
    "    \"\"\"\n",
    "    Convenience function:\n",
    "    Interactively generate dataset and plot\n",
    "    \"\"\"\n",
    "\n",
    "    df, dfp = generate_data(n, p, a, b, c, latent_sigma_y)\n",
    "\n",
    "    g = sns.FacetGrid(\n",
    "        df,\n",
    "        height=8,\n",
    "        hue=\"outlier\",\n",
    "        hue_order=[True, False],\n",
    "        palette=sns.color_palette(\"bone\"),\n",
    "        legend_out=False,\n",
    "    )\n",
    "\n",
    "    g.map(\n",
    "        plt.errorbar,\n",
    "        \"x\",\n",
    "        \"y\",\n",
    "        \"latent_error\",\n",
    "        marker=\"o\",\n",
    "        ms=10,\n",
    "        mec=\"w\",\n",
    "        mew=2,\n",
    "        ls=\"\",\n",
    "        elinewidth=0.7,\n",
    "    ).add_legend()\n",
    "\n",
    "    plt.plot(dfp[\"x\"], dfp[\"y\"], \"--\", alpha=0.8)\n",
    "\n",
    "    plt.subplots_adjust(top=0.92)\n",
    "    g.fig.suptitle(\"Sketch of Data Generation ({})\".format(df[\"source\"][0]), fontsize=16)\n",
    "\n",
    "\n",
    "def plot_datasets(df_lin, df_quad, dfp_lin, dfp_quad):\n",
    "    \"\"\"\n",
    "    Convenience function:\n",
    "    Plot the two generated datasets in facets with generative model\n",
    "    \"\"\"\n",
    "\n",
    "    df = pd.concat((df_lin, df_quad), axis=0)\n",
    "\n",
    "    g = sns.FacetGrid(col=\"source\", hue=\"source\", data=df, height=6, sharey=False, legend_out=False)\n",
    "\n",
    "    g.map(plt.scatter, \"x\", \"y\", alpha=0.7, s=100, lw=2, edgecolor=\"w\")\n",
    "\n",
    "    g.axes[0][0].plot(dfp_lin[\"x\"], dfp_lin[\"y\"], \"--\", alpha=0.6, color=\"C0\")\n",
    "    g.axes[0][1].plot(dfp_quad[\"x\"], dfp_quad[\"y\"], \"--\", alpha=0.6, color=\"C0\")\n",
    "\n",
    "\n",
    "def plot_annotated_trace(traces):\n",
    "    \"\"\"\n",
    "    Convenience function:\n",
    "    Plot traces with overlaid means and values\n",
    "    \"\"\"\n",
    "\n",
    "    summary = az.summary(traces, stat_funcs={\"mean\": np.mean}, extend=False)\n",
    "    ax = az.plot_trace(\n",
    "        traces,\n",
    "        lines=tuple([(k, {}, v[\"mean\"]) for k, v in summary.iterrows()]),\n",
    "    )\n",
    "\n",
    "    for i, mn in enumerate(summary[\"mean\"].values):\n",
    "        ax[i, 0].annotate(\n",
    "            f\"{mn:.2f}\",\n",
    "            xy=(mn, 0),\n",
    "            xycoords=\"data\",\n",
    "            xytext=(5, 10),\n",
    "            textcoords=\"offset points\",\n",
    "            rotation=90,\n",
    "            va=\"bottom\",\n",
    "            fontsize=\"large\",\n",
    "            color=\"C0\",\n",
    "        )\n",
    "\n",
    "\n",
    "def plot_posterior_cr(models, idatas, rawdata, xlims, datamodelnm=\"linear\", modelnm=\"k1\"):\n",
    "    \"\"\"\n",
    "    Convenience function:\n",
    "    Plot posterior predictions with credible regions shown as filled areas.\n",
    "    \"\"\"\n",
    "\n",
    "    # Get traces and calc posterior prediction for npoints in x\n",
    "    npoints = 100\n",
    "    mdl = models[modelnm]\n",
    "    trc = idatas[modelnm].posterior.copy().drop_vars(\"y_sigma\")\n",
    "    da = xr.concat([var for var in trc.values()], dim=\"order\")\n",
    "\n",
    "    ordr = int(modelnm[-1:])\n",
    "    x = xr.DataArray(np.linspace(xlims[0], xlims[1], npoints), dims=[\"x_plot\"])\n",
    "    pwrs = xr.DataArray(np.arange(ordr + 1), dims=[\"order\"])\n",
    "    X = x**pwrs\n",
    "    cr = xr.dot(X, da, dims=\"order\")\n",
    "\n",
    "    # Calculate credible regions and plot over the datapoints\n",
    "    qs = cr.quantile([0.025, 0.25, 0.5, 0.75, 0.975], dim=(\"chain\", \"draw\"))\n",
    "\n",
    "    f, ax1d = plt.subplots(1, 1, figsize=(7, 7))\n",
    "    f.suptitle(\n",
    "        f\"Posterior Predictive Fit -- Data: {datamodelnm} -- Model: {modelnm}\",\n",
    "        fontsize=16,\n",
    "    )\n",
    "\n",
    "    ax1d.fill_between(\n",
    "        x, qs.sel(quantile=0.025), qs.sel(quantile=0.975), alpha=0.5, color=\"C0\", label=\"CR 95%\"\n",
    "    )\n",
    "    ax1d.fill_between(\n",
    "        x, qs.sel(quantile=0.25), qs.sel(quantile=0.75), alpha=0.5, color=\"C3\", label=\"CR 50%\"\n",
    "    )\n",
    "    ax1d.plot(x, qs.sel(quantile=0.5), alpha=0.6, color=\"C4\", label=\"Median\")\n",
    "    ax1d.scatter(rawdata[\"x\"], rawdata[\"y\"], alpha=0.7, s=100, lw=2, edgecolor=\"w\")\n",
    "\n",
    "    ax1d.legend()\n",
    "    ax1d.set_xlim(xlims)"
   ]
  },
  {
   "cell_type": "markdown",
   "metadata": {},
   "source": [
    "## Generate toy datasets\n",
    "\n",
    "### Interactively draft data\n",
    "\n",
    "Throughout the rest of the Notebook, we'll use two toy datasets created by a linear and a quadratic model respectively, so that we can better evaluate the fit of the model selection.\n",
    "\n",
    "Right now, lets use an interactive session to play around with the data generation function in this Notebook, and get a feel for the possibilities of data we could generate.\n",
    "\n",
    "\n",
    "$$y_{i} = a + bx_{i} + cx_{i}^{2} + \\epsilon_{i}$$\n",
    "\n",
    "where:  \n",
    "$i \\in n$ datapoints\n",
    "\n",
    "$$\\epsilon \\sim \\mathcal{N}(0,latent\\_sigma\\_y)$$\n",
    "\n",
    ":::{admonition} Note on outliers\n",
    "+ We can use value `p` to set the (approximate) proportion of 'outliers' under a bernoulli distribution.\n",
    "+ These outliers have a 10x larger `latent_sigma_y`\n",
    "+ These outliers are labelled in the returned datasets and may be useful for other modelling, see another example Notebook: {ref}`GLM-robust-with-outlier-detection`\n",
    ":::"
   ]
  },
  {
   "cell_type": "code",
   "execution_count": null,
   "metadata": {},
   "outputs": [],
   "source": [
    "interactive(\n",
    "    interact_dataset,\n",
    "    n=[5, 50, 5],\n",
    "    p=[0, 0.5, 0.05],\n",
    "    a=[-50, 50],\n",
    "    b=[-10, 10],\n",
    "    c=[-3, 3],\n",
    "    latent_sigma_y=[0, 1000, 50],\n",
    ")"
   ]
  },
  {
   "cell_type": "markdown",
   "metadata": {},
   "source": [
    "**Observe:**\n",
    "\n",
    "+ I've shown the `latent_error` in errorbars, but this is for interest only, since this shows the _inherent noise_ in whatever 'physical process' we imagine created the data.\n",
    "+ There is no _measurement error_.\n",
    "+ Datapoints created as outliers are shown in **red**, again for interest only."
   ]
  },
  {
   "cell_type": "markdown",
   "metadata": {},
   "source": [
    "### Create datasets for modelling"
   ]
  },
  {
   "cell_type": "markdown",
   "metadata": {},
   "source": [
    "We can use the above interactive plot to get a feel for the effect of the params. Now we'll create 2 fixed datasets to use for the remainder of the Notebook. \n",
    "\n",
    "1. For a start, we'll create a linear model with small noise. Keep it simple.\n",
    "2. Secondly, a quadratic model with small noise"
   ]
  },
  {
   "cell_type": "code",
   "execution_count": null,
   "metadata": {},
   "outputs": [],
   "source": [
    "n = 30\n",
    "df_lin, dfp_lin = generate_data(n=n, p=0, a=-30, b=5, c=0, latent_sigma_y=40, seed=RANDOM_SEED)\n",
    "df_quad, dfp_quad = generate_data(n=n, p=0, a=-200, b=2, c=3, latent_sigma_y=500, seed=RANDOM_SEED)"
   ]
  },
  {
   "cell_type": "markdown",
   "metadata": {},
   "source": [
    "Scatterplot against model line"
   ]
  },
  {
   "cell_type": "code",
   "execution_count": null,
   "metadata": {},
   "outputs": [],
   "source": [
    "plot_datasets(df_lin, df_quad, dfp_lin, dfp_quad)"
   ]
  },
  {
   "cell_type": "markdown",
   "metadata": {},
   "source": [
    "**Observe:**\n",
    "\n",
    "+ We now have two datasets `df_lin` and `df_quad` created by a linear model and quadratic model respectively.\n",
    "+ You can see this raw data, the ideal model fit and the effect of the latent noise in the scatterplots above\n",
    "+ In the following plots in this Notebook, the linear-generated data will be shown in Blue and the quadratic in Green."
   ]
  },
  {
   "cell_type": "markdown",
   "metadata": {},
   "source": [
    "### Standardize"
   ]
  },
  {
   "cell_type": "code",
   "execution_count": null,
   "metadata": {},
   "outputs": [],
   "source": [
    "dfs_lin = df_lin.copy()\n",
    "dfs_lin[\"x\"] = (df_lin[\"x\"] - df_lin[\"x\"].mean()) / df_lin[\"x\"].std()\n",
    "\n",
    "dfs_quad = df_quad.copy()\n",
    "dfs_quad[\"x\"] = (df_quad[\"x\"] - df_quad[\"x\"].mean()) / df_quad[\"x\"].std()"
   ]
  },
  {
   "cell_type": "markdown",
   "metadata": {},
   "source": [
    "Create ranges for later ylim xim"
   ]
  },
  {
   "cell_type": "code",
   "execution_count": null,
   "metadata": {},
   "outputs": [],
   "source": [
    "dfs_lin_xlims = (\n",
    "    dfs_lin[\"x\"].min() - np.ptp(dfs_lin[\"x\"].values) / 10,\n",
    "    dfs_lin[\"x\"].max() + np.ptp(dfs_lin[\"x\"].values) / 10,\n",
    ")\n",
    "\n",
    "dfs_lin_ylims = (\n",
    "    dfs_lin[\"y\"].min() - np.ptp(dfs_lin[\"y\"].values) / 10,\n",
    "    dfs_lin[\"y\"].max() + np.ptp(dfs_lin[\"y\"].values) / 10,\n",
    ")\n",
    "\n",
    "dfs_quad_ylims = (\n",
    "    dfs_quad[\"y\"].min() - np.ptp(dfs_quad[\"y\"].values) / 10,\n",
    "    dfs_quad[\"y\"].max() + np.ptp(dfs_quad[\"y\"].values) / 10,\n",
    ")"
   ]
  },
  {
   "cell_type": "markdown",
   "metadata": {},
   "source": [
    "## Demonstrate simple linear model\n",
    "\n",
    "This *linear model* is really simple and conventional, an OLS with L2 constraints (Ridge Regression):\n",
    "\n",
    "$$y = a + bx + \\epsilon$$"
   ]
  },
  {
   "cell_type": "markdown",
   "metadata": {},
   "source": [
    "### Define model using explicit PyMC3 method"
   ]
  },
  {
   "cell_type": "code",
   "execution_count": null,
   "metadata": {},
   "outputs": [],
   "source": [
    "with pm.Model() as mdl_ols:\n",
    "    ## define Normal priors to give Ridge regression\n",
    "    b0 = pm.Normal(\"Intercept\", mu=0, sigma=100)\n",
    "    b1 = pm.Normal(\"x\", mu=0, sigma=100)\n",
    "\n",
    "    ## define Linear model\n",
    "    yest = b0 + b1 * df_lin[\"x\"]\n",
    "\n",
    "    ## define Normal likelihood with HalfCauchy noise (fat tails, equiv to HalfT 1DoF)\n",
    "    y_sigma = pm.HalfCauchy(\"y_sigma\", beta=10)\n",
    "    likelihood = pm.Normal(\"likelihood\", mu=yest, sigma=y_sigma, observed=df_lin[\"y\"])\n",
    "\n",
    "    idata_ols = pm.sample(2000, return_inferencedata=True)"
   ]
  },
  {
   "cell_type": "code",
   "execution_count": null,
   "metadata": {},
   "outputs": [],
   "source": [
    "plt.rcParams[\"figure.constrained_layout.use\"] = True\n",
    "plot_annotated_trace(idata_ols)"
   ]
  },
  {
   "cell_type": "markdown",
   "metadata": {},
   "source": [
    "**Observe:**\n",
    "\n",
    "+ This simple OLS manages to make fairly good guesses on the model parameters - the data has been generated fairly simply after all - but it does appear to have been fooled slightly by the inherent noise."
   ]
  },
  {
   "cell_type": "markdown",
   "metadata": {},
   "source": [
    "### Define model using Bambi\n",
    "\n",
    "Bambi can be used for defining models using a `formulae`-style formula syntax. This seems really useful, especially for defining simple regression models in fewer lines of code. \n",
    "\n",
    "Here's the same OLS model as above, defined using `bambi`."
   ]
  },
  {
   "cell_type": "code",
   "execution_count": null,
   "metadata": {},
   "outputs": [],
   "source": [
    "# Define priors for intercept and regression coefficients.\n",
    "priors = {\n",
    "    \"Intercept\": bmb.Prior(\"Normal\", mu=0, sigma=100),\n",
    "    \"x\": bmb.Prior(\"Normal\", mu=0, sigma=100),\n",
    "}\n",
    "\n",
    "model = bmb.Model(\"y ~ 1 + x\", df_lin, priors=priors, family=\"gaussian\")\n",
    "\n",
    "idata_ols_glm = model.fit(draws=2000, tune=2000)"
   ]
  },
  {
   "cell_type": "code",
   "execution_count": null,
   "metadata": {},
   "outputs": [],
   "source": [
    "plot_annotated_trace(idata_ols_glm)"
   ]
  },
  {
   "cell_type": "markdown",
   "metadata": {},
   "source": [
    "**Observe:**\n",
    "\n",
    "+ This `bambi`-defined model appears to behave in a very similar way, and finds the same parameter values as the conventionally-defined model - any differences are due to the random nature of the sampling.\n",
    "+ We can quite happily use the `bambi` syntax for further models below, since it allows us to create a small model factory very easily."
   ]
  },
  {
   "cell_type": "markdown",
   "metadata": {},
   "source": [
    "## Create higher-order linear models\n",
    "\n",
    "Back to the real purpose of this Notebook, to demonstrate model selection.\n",
    "\n",
    "First, let's create and run a set of polynomial models on each of our toy datasets. By default this is for models of order 1 to 5.\n",
    "\n",
    "### Create and run polynomial models\n",
    "\n",
    "We're creating 5 polynomial models and fitting each to the chosen dataset using the functions `create_poly_modelspec` and `run_models` below."
   ]
  },
  {
   "cell_type": "code",
   "execution_count": null,
   "metadata": {},
   "outputs": [],
   "source": [
    "def create_poly_modelspec(k=1):\n",
    "    \"\"\"\n",
    "    Convenience function:\n",
    "    Create a polynomial modelspec string for bambi\n",
    "    \"\"\"\n",
    "    return (\"y ~ 1 + x \" + \" \".join([f\"+ np.power(x,{j})\" for j in range(2, k + 1)])).strip()\n",
    "\n",
    "\n",
    "def run_models(df, upper_order=5):\n",
    "    \"\"\"\n",
    "    Convenience function:\n",
    "    Fit a range of pymc3 models of increasing polynomial complexity.\n",
    "    Suggest limit to max order 5 since calculation time is exponential.\n",
    "    \"\"\"\n",
    "\n",
    "    models, results = dict(), dict()\n",
    "\n",
    "    for k in range(1, upper_order + 1):\n",
    "        nm = f\"k{k}\"\n",
    "        fml = create_poly_modelspec(k)\n",
    "\n",
    "        print(f\"\\nRunning: {nm}\")\n",
    "\n",
    "        models[nm] = bmb.Model(\n",
    "            fml, df, priors={\"intercept\": bmb.Prior(\"Normal\", mu=0, sigma=100)}, family=\"gaussian\"\n",
    "        )\n",
    "        results[nm] = models[nm].fit(draws=2000, tune=1000, init=\"advi+adapt_diag\")\n",
    "\n",
    "    return models, results"
   ]
  },
  {
   "cell_type": "code",
   "execution_count": null,
   "metadata": {
    "tags": [
     "hide-output"
    ]
   },
   "outputs": [],
   "source": [
    "models_lin, idatas_lin = run_models(dfs_lin, 5)"
   ]
  },
  {
   "cell_type": "code",
   "execution_count": null,
   "metadata": {
    "tags": [
     "hide-output"
    ]
   },
   "outputs": [],
   "source": [
    "models_quad, idatas_quad = run_models(dfs_quad, 5)"
   ]
  },
  {
   "cell_type": "markdown",
   "metadata": {},
   "source": [
    "## View posterior predictive fit\n",
    "\n",
    "Just for the linear, generated data, lets take an interactive look at the posterior predictive fit for the models k1 through k5.\n",
    "\n",
    "As indicated by the likelhood plots above, the higher-order polynomial models exhibit some quite wild swings in the function in order to (over)fit the data"
   ]
  },
  {
   "cell_type": "code",
   "execution_count": null,
   "metadata": {},
   "outputs": [],
   "source": [
    "interactive(\n",
    "    plot_posterior_cr,\n",
    "    models=fixed(models_lin),\n",
    "    idatas=fixed(idatas_lin),\n",
    "    rawdata=fixed(dfs_lin),\n",
    "    xlims=fixed(dfs_lin_xlims),\n",
    "    datamodelnm=fixed(\"linear\"),\n",
    "    modelnm=[\"k1\", \"k2\", \"k3\", \"k4\", \"k5\"],\n",
    ")"
   ]
  },
  {
   "cell_type": "markdown",
   "metadata": {},
   "source": [
    "## Compare models using WAIC\n",
    "\n",
    "The Widely Applicable Information Criterion (WAIC) can be used to calculate the goodness-of-fit of a model using numerical techniques. See {cite:t}`watanabe2010asymptotic` for details."
   ]
  },
  {
   "cell_type": "markdown",
   "metadata": {},
   "source": [
    "**Observe:**\n",
    "\n",
    "We get three different measurements: \n",
    "- waic: widely applicable information criterion (or \"Watanabe–Akaike information criterion\")\n",
    "- waic_se: standard error of waic\n",
    "- p_waic: effective number parameters\n",
    "    \n",
    "In this case we are interested in the WAIC score. We also plot error bars for the standard error of the estimated scores. This gives us a more accurate view of how much they might differ."
   ]
  },
  {
   "cell_type": "code",
   "execution_count": null,
   "metadata": {},
   "outputs": [],
   "source": [
    "dfwaic_lin = az.compare(idatas_lin, ic=\"WAIC\")\n",
    "dfwaic_quad = az.compare(idatas_quad, ic=\"WAIC\")"
   ]
  },
  {
   "cell_type": "code",
   "execution_count": null,
   "metadata": {},
   "outputs": [],
   "source": [
    "dfwaic_lin"
   ]
  },
  {
   "cell_type": "code",
   "execution_count": null,
   "metadata": {},
   "outputs": [],
   "source": [
    "dfwaic_quad"
   ]
  },
  {
   "cell_type": "code",
   "execution_count": null,
   "metadata": {},
   "outputs": [],
   "source": [
    "_, axs = plt.subplots(1, 2)\n",
    "\n",
    "ax = axs[0]\n",
    "az.plot_compare(dfwaic_lin, ax=ax)\n",
    "ax.set_title(\"Linear data\")\n",
    "\n",
    "ax = axs[1]\n",
    "az.plot_compare(dfwaic_quad, ax=ax)\n",
    "ax.set_title(\"Quadratic data\");"
   ]
  },
  {
   "cell_type": "markdown",
   "metadata": {},
   "source": [
    "**Observe**\n",
    "\n",
    "+ We should prefer the model(s) with higher WAIC\n",
    "\n",
    "\n",
    "+ Linear-generated data (lhs):\n",
    "    + The WAIC seems quite flat across models\n",
    "    + The WAIC seems best (highest) for simpler models.\n",
    "\n",
    "\n",
    "+ Quadratic-generated data (rhs):\n",
    "    + The WAIC is also quite flat across the models\n",
    "    + The worst WAIC is for **k1**, it is not flexible enough to properly fit the data.\n",
    "    + WAIC is quite flat for the rest, but the highest is for **k2** as should be and it decreases as the order increases. The higher the order the higher the complexity of the model, but the goodness of fit is basically the same. As models with higher complexity are penalized we can see how we land at the sweet spot of choosing the simplest model that can fit the data."
   ]
  },
  {
   "cell_type": "markdown",
   "metadata": {},
   "source": [
    "## Compare leave-one-out Cross-Validation [LOO]\n",
    "\n",
    "Leave-One-Out Cross-Validation or K-fold Cross-Validation is another quite universal approach for model selection. However, to implement K-fold cross-validation we need to partition the data repeatedly and fit the model on every partition. It can be very time consumming (computation time increase roughly as a factor of K). Here we are applying the numerical approach using the posterior trace as suggested in {cite:t}`vehtari2017practical`"
   ]
  },
  {
   "cell_type": "code",
   "execution_count": null,
   "metadata": {},
   "outputs": [],
   "source": [
    "dfloo_lin = az.compare(idatas_lin, ic=\"LOO\")\n",
    "dfloo_quad = az.compare(idatas_quad, ic=\"LOO\")"
   ]
  },
  {
   "cell_type": "code",
   "execution_count": null,
   "metadata": {},
   "outputs": [],
   "source": [
    "dfloo_lin"
   ]
  },
  {
   "cell_type": "code",
   "execution_count": null,
   "metadata": {},
   "outputs": [],
   "source": [
    "dfloo_quad"
   ]
  },
  {
   "cell_type": "code",
   "execution_count": null,
   "metadata": {},
   "outputs": [],
   "source": [
    "_, axs = plt.subplots(1, 2)\n",
    "\n",
    "ax = axs[0]\n",
    "az.plot_compare(dfloo_lin, ax=ax)\n",
    "ax.set_title(\"Linear data\")\n",
    "\n",
    "ax = axs[1]\n",
    "az.plot_compare(dfloo_quad, ax=ax)\n",
    "ax.set_title(\"Quadratic data\");"
   ]
  },
  {
   "cell_type": "markdown",
   "metadata": {},
   "source": [
    "**Observe**\n",
    "\n",
    "+ We should prefer the model(s) with higher LOO. You can see that LOO is nearly identical with WAIC. That's because WAIC is asymptotically equal to LOO. However, PSIS-LOO is supposedly more robust than WAIC in the finite case (under weak priors or influential observation). \n",
    "\n",
    "\n",
    "+ Linear-generated data (lhs):\n",
    "    + The LOO is also quite flat across models\n",
    "    + The LOO is also seems best (highest) for simpler models.\n",
    "\n",
    "\n",
    "+ Quadratic-generated data (rhs):\n",
    "    + The same pattern as the WAIC"
   ]
  },
  {
   "cell_type": "markdown",
   "metadata": {},
   "source": [
    "## Final remarks and tips\n",
    "\n",
    "It is important to keep in mind that, with more data points, the real underlying model (one that we used to generate the data) should outperform other models. \n",
    "\n",
    "There is some agreement that PSIS-LOO offers the best indication of a model's quality. To quote from [avehtari's comment](https://github.com/pymc-devs/pymc3/issues/938#issuecomment-313425552): \"I also recommend using PSIS-LOO instead of WAIC, because it's more reliable and has better diagnostics as discussed in {cite:t}`vehtari2017practical`, but if you insist to have one information criterion then leave WAIC\". \n",
    "\n",
    "Alternatively, Watanabe [says](http://watanabe-www.math.dis.titech.ac.jp/users/swatanab/index.html) \"WAIC is a better approximator of the generalization error than the pareto smoothing importance sampling cross validation. The Pareto smoothing cross validation may be the better approximator of the cross validation than WAIC, however, it is not of the generalization error\"."
   ]
  },
  {
   "cell_type": "markdown",
   "metadata": {},
   "source": [
    "## References\n",
    "\n",
    ":::{bibliography}\n",
    ":filter: docname in docnames\n",
    "\n",
    "ando2007bayesian\n",
    "spiegelhalter2002bayesian\n",
    ":::\n",
    "\n",
    ":::{seealso}\n",
    "+ Thomas Wiecki's [detailed response](https://stats.stackexchange.com/questions/161082/bayesian-model-selection-in-pymc3/166383#166383) to a question on Cross Validated\n",
    "+ [Cross-validation FAQs](https://avehtari.github.io/modelselection/CV-FAQ.html) by Aki Vehtari\n",
    ":::"
   ]
  },
  {
   "cell_type": "markdown",
   "metadata": {},
   "source": [
    "## Authors\n",
    "* Authored by [Jon Sedar](https://github.com/jonsedar) on January, 2016 ([pymc#930](https://github.com/pymc-devs/pymc/pull/930))\n",
    "* Updated by [Junpeng Lao](https://github.com/junpenglao) on July, 2017 ([pymc#2398](https://github.com/pymc-devs/pymc/pull/2398))\n",
    "* Re-executed by Ravin Kumar on May, 2019 ([pymc#3397](https://github.com/pymc-devs/pymc/pull/3397))\n",
    "* Re-executed by Alex Andorra and Michael Osthege on June, 2020 ([pymc#3955](https://github.com/pymc-devs/pymc/pull/3955))\n",
    "* Updated by Raul Maldonado on March, 2021 ([pymc-examples#24](https://github.com/pymc-devs/pymc-examples/pull/24))\n",
    "* Updated by Abhipsha Das and Oriol Abril on June, 2021 ([pymc-examples#173](https://github.com/pymc-devs/pymc-examples/pull/173))"
   ]
  },
  {
   "cell_type": "markdown",
   "metadata": {},
   "source": [
    "## Watermark"
   ]
  },
  {
   "cell_type": "code",
   "execution_count": null,
   "metadata": {},
   "outputs": [],
   "source": [
    "%load_ext watermark\n",
    "%watermark -n -u -v -iv -w -p theano,xarray"
   ]
  },
  {
   "cell_type": "markdown",
   "metadata": {},
   "source": [
    ":::{include} ../page_footer.md\n",
    ":::"
   ]
  },
  {
   "cell_type": "code",
   "execution_count": null,
   "metadata": {},
   "outputs": [],
   "source": []
  }
 ],
 "metadata": {
  "anaconda-cloud": {},
  "celltoolbar": "Tags",
  "kernelspec": {
   "display_name": "Python 3 (ipykernel)",
   "language": "python",
   "name": "python3"
  },
  "language_info": {
   "codemirror_mode": {
    "name": "ipython",
    "version": 3
   },
   "file_extension": ".py",
   "mimetype": "text/x-python",
   "name": "python",
   "nbconvert_exporter": "python",
   "pygments_lexer": "ipython3",
   "version": "3.9.12"
  },
  "vscode": {
   "interpreter": {
    "hash": "6f5583cf1d9466b5c27e75c89cc6b383bed5736d6b16c51c8074d8690011a952"
   }
  }
 },
 "nbformat": 4,
 "nbformat_minor": 4
}
