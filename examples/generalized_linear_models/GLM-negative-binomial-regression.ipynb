{
 "cells": [
  {
   "cell_type": "markdown",
   "metadata": {},
   "source": [
    "(GLM-negative-binomial-regression)=\n",
    "# GLM: Negative Binomial Regression\n",
    "\n",
    ":::{post} September, 2023\n",
    ":tags: negative binomial regression, generalized linear model, \n",
    ":category: beginner\n",
    ":author: Ian Ozsvald, Abhipsha Das, Benjamin Vincent\n",
    ":::\n",
    "\n",
    ":::{include} ../extra_installs.md\n",
    ":::"
   ]
  },
  {
   "cell_type": "code",
   "execution_count": null,
   "metadata": {},
   "outputs": [],
   "source": [
    "import arviz as az\n",
    "import numpy as np\n",
    "import pandas as pd\n",
    "import pymc as pm\n",
    "import seaborn as sns\n",
    "\n",
    "from scipy import stats"
   ]
  },
  {
   "cell_type": "code",
   "execution_count": null,
   "metadata": {},
   "outputs": [],
   "source": [
    "RANDOM_SEED = 8927\n",
    "rng = np.random.default_rng(RANDOM_SEED)\n",
    "\n",
    "%config InlineBackend.figure_format = \"retina\"\n",
    "az.style.use(\"arviz-darkgrid\")"
   ]
  },
  {
   "cell_type": "markdown",
   "metadata": {},
   "source": [
    "This notebook closely follows the GLM Poisson regression example by [Jonathan Sedar](https://github.com/jonsedar) (which is in turn inspired by [a project by Ian Osvald](http://ianozsvald.com/2016/05/07/statistically-solving-sneezes-and-sniffles-a-work-in-progress-report-at-pydatalondon-2016/)) except the data here is negative binomially distributed instead of Poisson distributed.\n",
    "\n",
    "Negative binomial regression is used to model count data for which the variance is higher than the mean. The [negative binomial distribution](https://en.wikipedia.org/wiki/Negative_binomial_distribution) can be thought of as a Poisson distribution whose rate parameter is gamma distributed, so that rate parameter can be adjusted to account for the increased variance."
   ]
  },
  {
   "cell_type": "markdown",
   "metadata": {},
   "source": [
    "### Generate Data\n",
    "\n",
    "As in the Poisson regression example, we assume that sneezing occurs at some baseline rate, and that consuming alcohol, not taking antihistamines, or doing both, increase its frequency.\n",
    "\n",
    "#### Poisson Data\n",
    "\n",
    "First, let's look at some Poisson distributed data from the Poisson regression example."
   ]
  },
  {
   "cell_type": "code",
   "execution_count": null,
   "metadata": {},
   "outputs": [],
   "source": [
    "# Mean Poisson values\n",
    "theta_noalcohol_meds = 1  # no alcohol, took an antihist\n",
    "theta_alcohol_meds = 3  # alcohol, took an antihist\n",
    "theta_noalcohol_nomeds = 6  # no alcohol, no antihist\n",
    "theta_alcohol_nomeds = 36  # alcohol, no antihist\n",
    "\n",
    "# Create samples\n",
    "q = 1000\n",
    "df_pois = pd.DataFrame(\n",
    "    {\n",
    "        \"nsneeze\": np.concatenate(\n",
    "            (\n",
    "                rng.poisson(theta_noalcohol_meds, q),\n",
    "                rng.poisson(theta_alcohol_meds, q),\n",
    "                rng.poisson(theta_noalcohol_nomeds, q),\n",
    "                rng.poisson(theta_alcohol_nomeds, q),\n",
    "            )\n",
    "        ),\n",
    "        \"alcohol\": np.concatenate(\n",
    "            (\n",
    "                np.repeat(False, q),\n",
    "                np.repeat(True, q),\n",
    "                np.repeat(False, q),\n",
    "                np.repeat(True, q),\n",
    "            )\n",
    "        ),\n",
    "        \"nomeds\": np.concatenate(\n",
    "            (\n",
    "                np.repeat(False, q),\n",
    "                np.repeat(False, q),\n",
    "                np.repeat(True, q),\n",
    "                np.repeat(True, q),\n",
    "            )\n",
    "        ),\n",
    "    }\n",
    ")"
   ]
  },
  {
   "cell_type": "code",
   "execution_count": null,
   "metadata": {},
   "outputs": [],
   "source": [
    "df_pois.groupby([\"nomeds\", \"alcohol\"])[\"nsneeze\"].agg([\"mean\", \"var\"])"
   ]
  },
  {
   "cell_type": "markdown",
   "metadata": {},
   "source": [
    "Since the mean and variance of a Poisson distributed random variable are equal, the sample means and variances are very close.\n",
    "\n",
    "#### Negative Binomial Data\n",
    "\n",
    "Now, suppose every subject in the dataset had the flu, increasing the variance of their sneezing (and causing an unfortunate few to sneeze over 70 times a day). If the mean number of sneezes stays the same but variance increases, the data might follow a negative binomial distribution."
   ]
  },
  {
   "cell_type": "code",
   "execution_count": null,
   "metadata": {},
   "outputs": [],
   "source": [
    "# Gamma shape parameter\n",
    "alpha = 10\n",
    "\n",
    "\n",
    "def get_nb_vals(mu, alpha, size):\n",
    "    \"\"\"Generate negative binomially distributed samples by\n",
    "    drawing a sample from a gamma distribution with mean `mu` and\n",
    "    shape parameter `alpha', then drawing from a Poisson\n",
    "    distribution whose rate parameter is given by the sampled\n",
    "    gamma variable.\n",
    "\n",
    "    \"\"\"\n",
    "\n",
    "    g = stats.gamma.rvs(alpha, scale=mu / alpha, size=size)\n",
    "    return stats.poisson.rvs(g)\n",
    "\n",
    "\n",
    "# Create samples\n",
    "n = 1000\n",
    "df = pd.DataFrame(\n",
    "    {\n",
    "        \"nsneeze\": np.concatenate(\n",
    "            (\n",
    "                get_nb_vals(theta_noalcohol_meds, alpha, n),\n",
    "                get_nb_vals(theta_alcohol_meds, alpha, n),\n",
    "                get_nb_vals(theta_noalcohol_nomeds, alpha, n),\n",
    "                get_nb_vals(theta_alcohol_nomeds, alpha, n),\n",
    "            )\n",
    "        ),\n",
    "        \"alcohol\": np.concatenate(\n",
    "            (\n",
    "                np.repeat(False, n),\n",
    "                np.repeat(True, n),\n",
    "                np.repeat(False, n),\n",
    "                np.repeat(True, n),\n",
    "            )\n",
    "        ),\n",
    "        \"nomeds\": np.concatenate(\n",
    "            (\n",
    "                np.repeat(False, n),\n",
    "                np.repeat(False, n),\n",
    "                np.repeat(True, n),\n",
    "                np.repeat(True, n),\n",
    "            )\n",
    "        ),\n",
    "    }\n",
    ")\n",
    "df"
   ]
  },
  {
   "cell_type": "code",
   "execution_count": null,
   "metadata": {},
   "outputs": [],
   "source": [
    "df.groupby([\"nomeds\", \"alcohol\"])[\"nsneeze\"].agg([\"mean\", \"var\"])"
   ]
  },
  {
   "cell_type": "markdown",
   "metadata": {},
   "source": [
    "As in the Poisson regression example, we see that drinking alcohol and/or not taking antihistamines increase the sneezing rate to varying degrees. Unlike in that example, for each combination of `alcohol` and `nomeds`, the variance of `nsneeze` is higher than the mean. This suggests that a Poisson distribution would be a poor fit for the data since the mean and variance of a Poisson distribution are equal."
   ]
  },
  {
   "cell_type": "markdown",
   "metadata": {},
   "source": [
    "### Visualize the Data"
   ]
  },
  {
   "cell_type": "code",
   "execution_count": null,
   "metadata": {},
   "outputs": [],
   "source": [
    "g = sns.catplot(x=\"nsneeze\", row=\"nomeds\", col=\"alcohol\", data=df, kind=\"count\", aspect=1.5)\n",
    "\n",
    "# Make x-axis ticklabels less crowded\n",
    "ax = g.axes[1, 0]\n",
    "labels = range(len(ax.get_xticklabels(which=\"both\")))\n",
    "ax.set_xticks(labels[::5])\n",
    "ax.set_xticklabels(labels[::5]);"
   ]
  },
  {
   "cell_type": "markdown",
   "metadata": {},
   "source": [
    "## Negative Binomial Regression"
   ]
  },
  {
   "cell_type": "markdown",
   "metadata": {},
   "source": [
    "### Create GLM Model"
   ]
  },
  {
   "cell_type": "code",
   "execution_count": null,
   "metadata": {},
   "outputs": [],
   "source": [
    "COORDS = {\"regressor\": [\"nomeds\", \"alcohol\", \"nomeds:alcohol\"], \"obs_idx\": df.index}\n",
    "\n",
    "with pm.Model(coords=COORDS) as m_sneeze_inter:\n",
    "    a = pm.Normal(\"intercept\", mu=0, sigma=5)\n",
    "    b = pm.Normal(\"slopes\", mu=0, sigma=1, dims=\"regressor\")\n",
    "    alpha = pm.Exponential(\"alpha\", 0.5)\n",
    "\n",
    "    M = pm.ConstantData(\"nomeds\", df.nomeds.to_numpy(), dims=\"obs_idx\")\n",
    "    A = pm.ConstantData(\"alcohol\", df.alcohol.to_numpy(), dims=\"obs_idx\")\n",
    "    S = pm.ConstantData(\"nsneeze\", df.nsneeze.to_numpy(), dims=\"obs_idx\")\n",
    "\n",
    "    λ = pm.math.exp(a + b[0] * M + b[1] * A + b[2] * M * A)\n",
    "\n",
    "    y = pm.NegativeBinomial(\"y\", mu=λ, alpha=alpha, observed=S, dims=\"obs_idx\")\n",
    "\n",
    "    idata = pm.sample()"
   ]
  },
  {
   "cell_type": "markdown",
   "metadata": {},
   "source": [
    "### View Results"
   ]
  },
  {
   "cell_type": "code",
   "execution_count": null,
   "metadata": {},
   "outputs": [],
   "source": [
    "az.plot_trace(idata, compact=False);"
   ]
  },
  {
   "cell_type": "code",
   "execution_count": null,
   "metadata": {},
   "outputs": [],
   "source": [
    "# Transform coefficients to recover parameter values\n",
    "az.summary(np.exp(idata.posterior), kind=\"stats\", var_names=[\"intercept\", \"slopes\"])"
   ]
  },
  {
   "cell_type": "code",
   "execution_count": null,
   "metadata": {},
   "outputs": [],
   "source": [
    "az.summary(idata.posterior, kind=\"stats\", var_names=\"alpha\")"
   ]
  },
  {
   "cell_type": "markdown",
   "metadata": {},
   "source": [
    "The mean values are close to the values we specified when generating the data:\n",
    "- The base rate is a constant 1.\n",
    "- Drinking alcohol triples the base rate.\n",
    "- Not taking antihistamines increases the base rate by 6 times.\n",
    "- Drinking alcohol and not taking antihistamines doubles the rate that would be expected if their rates were independent. If they were independent, then doing both would increase the base rate by 3\\*6=18 times, but instead the base rate is increased by 3\\*6\\*2=36 times.\n",
    "\n",
    "Finally, the mean of `nsneeze_alpha` is also quite close to its actual value of 10."
   ]
  },
  {
   "cell_type": "markdown",
   "metadata": {},
   "source": [
    "See also, [`bambi's` negative binomial example](https://bambinos.github.io/bambi/notebooks/negative_binomial.html) for further reference."
   ]
  },
  {
   "cell_type": "markdown",
   "metadata": {},
   "source": [
    "## Authors\n",
    "- Created by [Ian Ozsvald](https://github.com/ianozsvald)\n",
    "- Updated by [Abhipsha Das](https://github.com/chiral-carbon) in August 2021\n",
    "- Updated by [Benjamin Vincent](https://github.com/drbenvincent) to PyMC v4 in June 2022\n",
    "- Updated by [Wesley Boelrijk](https://github.com/wesleyboelrijk) to PyMC v5 in September 2023"
   ]
  },
  {
   "cell_type": "code",
   "execution_count": null,
   "metadata": {},
   "outputs": [],
   "source": [
    "%load_ext watermark\n",
    "%watermark -n -u -v -iv -w -p pytensor,xarray"
   ]
  },
  {
   "cell_type": "markdown",
   "metadata": {},
   "source": [
    ":::{include} ../page_footer.md\n",
    ":::"
   ]
  },
  {
   "cell_type": "code",
   "execution_count": null,
   "metadata": {},
   "outputs": [],
   "source": []
  }
 ],
 "metadata": {
  "anaconda-cloud": {},
  "interpreter": {
   "hash": "a603b12f1b7b02c1f8f42a9241f8aa0d02682032d94c4b7440b157277a0ce0b5"
  },
  "kernelspec": {
   "display_name": "Python 3 (ipykernel)",
   "language": "python",
   "name": "python3"
  },
  "language_info": {
   "codemirror_mode": {
    "name": "ipython",
    "version": 3
   },
   "file_extension": ".py",
   "mimetype": "text/x-python",
   "name": "python",
   "nbconvert_exporter": "python",
   "pygments_lexer": "ipython3",
   "version": "3.10.12"
  },
  "myst": {
   "substitutions": {
    "extra_dependencies": "seaborn"
   }
  }
 },
 "nbformat": 4,
 "nbformat_minor": 4
}
