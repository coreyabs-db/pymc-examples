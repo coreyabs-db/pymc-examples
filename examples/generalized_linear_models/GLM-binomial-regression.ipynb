{
 "cells": [
  {
   "cell_type": "markdown",
   "id": "domestic-remove",
   "metadata": {},
   "source": [
    "(GLM-binomial-regression)=\n",
    "# Binomial regression\n",
    "\n",
    ":::{post} February, 2022\n",
    ":tags: binomial regression, generalized linear model, \n",
    ":category: beginner\n",
    ":author: Benjamin T. Vincent\n",
    ":::"
   ]
  },
  {
   "cell_type": "markdown",
   "id": "72588976-efc3-4adc-bec2-bc5b6ac4b7e1",
   "metadata": {},
   "source": [
    "This notebook covers the logic behind [Binomial regression](https://en.wikipedia.org/wiki/Binomial_regression), a specific instance of Generalized Linear Modelling. The example is kept very simple, with a single predictor variable. \n",
    "\n",
    "It helps to recap logistic regression to understand when binomial regression is applicable. Logistic regression is useful when your outcome variable is a set of successes or fails, that is, a series of `0`, `1` observations. An example of this kind of outcome variable is \"Did you go for a run today?\" Binomial regression (aka aggregated binomial regression) is useful when you have a certain number of successes out of $n$ trials. So the example would be, \"How many days did you go for a run in the last 7 days?\" \n",
    "\n",
    "The observed data are a set of _counts_ of number of successes out of $n$ total trials. Many people might be tempted to reduce this data to a proportion, but this is not necessarily a good idea. For example, proportions are not directly measured, they are often best treated as latent variables to be estimated. Also, a proportion looses information: a proportion of 0.5 could respond to 1 run out of 2 days, or to 4 runs in the last 4 weeks, or many other things, but you have lost that information by paying attention to the proportion alone. \n",
    "\n",
    "The appropriate likelihood for binomial regression is the Binomial distribution:\n",
    "\n",
    "$$\n",
    "y_i \\sim \\text{Binomial}(n, p_i)\n",
    "$$\n",
    "\n",
    "where $y_i$ is a count of the number of successes out of $n$ trials, and $p_i$ is the (latent) probability of success. What we want to achieve with Binomial regression is to use a linear model to accurately estimate $p_i$ (i.e. $p_i = \\beta_0 + \\beta_1 \\cdot x_i$). So we could try to do this with a likelihood term like:\n",
    "\n",
    "$$\n",
    "y_i \\sim \\text{Binomial}(n, \\beta_0 + \\beta_1 \\cdot x_i)\n",
    "$$\n",
    "\n",
    "If we did this, we would quickly run into problems when the linear model generates values of $p$ outside the range of $0-1$. This is where the link function comes in:\n",
    "\n",
    "$$\n",
    "g(p_i) = \\beta_0 + \\beta_1 \\cdot x_i\n",
    "$$\n",
    "\n",
    "where $g()$ is a link function. This can be thought of as a transformation that maps proportions in the range $(0, 1)$ to the domain $(-\\infty, +\\infty)$. There are a number of potential functions that could be used, but a common one to use is the [Logit function](https://en.wikipedia.org/wiki/Logit).\n",
    "\n",
    "Although what we actually want to do is to rearrange this equation for $p_i$ so that we can enter it into the likelihood function. This results in:\n",
    "\n",
    "$$\n",
    "p_i= g^{-1}(\\beta_0 + \\beta_1 \\cdot x_i)\n",
    "$$\n",
    "\n",
    "where $g^{-1}()$ is the inverse of the link function, in this case the inverse of the Logit function (i.e. the [logistic sigmoid](https://en.wikipedia.org/wiki/Sigmoid_function) function, also known as the expit function). So if we enter this into our likelihood function we end up with:\n",
    "\n",
    "$$\n",
    "y_i \\sim \\text{Binomial}(n, \\text{InverseLogit}(\\beta_0 + \\beta_1 \\cdot x_i))\n",
    "$$\n",
    "\n",
    "This defines our likelihood function. All you need now to get some Bayesian Binomial regression done is priors over the $\\beta$ parameters. The observed data are $y_i$, $n$, and $x_i$."
   ]
  },
  {
   "cell_type": "code",
   "execution_count": null,
   "id": "elect-softball",
   "metadata": {
    "tags": []
   },
   "outputs": [],
   "source": [
    "import arviz as az\n",
    "import matplotlib.pyplot as plt\n",
    "import numpy as np\n",
    "import pandas as pd\n",
    "import pymc as pm\n",
    "\n",
    "from scipy.special import expit"
   ]
  },
  {
   "cell_type": "code",
   "execution_count": null,
   "id": "level-balance",
   "metadata": {
    "tags": []
   },
   "outputs": [],
   "source": [
    "%config InlineBackend.figure_format = 'retina'\n",
    "az.style.use(\"arviz-darkgrid\")\n",
    "rng = np.random.default_rng(1234)"
   ]
  },
  {
   "cell_type": "markdown",
   "id": "sapphire-yellow",
   "metadata": {},
   "source": [
    "## Generate data"
   ]
  },
  {
   "cell_type": "code",
   "execution_count": null,
   "id": "aware-frontier",
   "metadata": {},
   "outputs": [],
   "source": [
    "# true params\n",
    "beta0_true = 0.7\n",
    "beta1_true = 0.4\n",
    "# number of yes/no questions\n",
    "n = 20\n",
    "\n",
    "sample_size = 30\n",
    "x = np.linspace(-10, 20, sample_size)\n",
    "# Linear model\n",
    "mu_true = beta0_true + beta1_true * x\n",
    "# transformation (inverse logit function = expit)\n",
    "p_true = expit(mu_true)\n",
    "# Generate data\n",
    "y = rng.binomial(n, p_true)\n",
    "# bundle data into dataframe\n",
    "data = pd.DataFrame({\"x\": x, \"y\": y})"
   ]
  },
  {
   "cell_type": "markdown",
   "id": "imported-company",
   "metadata": {},
   "source": [
    "We can see that the underlying data $y$ is count data, out of $n$ total trials."
   ]
  },
  {
   "cell_type": "code",
   "execution_count": null,
   "id": "difficult-collaboration",
   "metadata": {},
   "outputs": [],
   "source": [
    "data.head()"
   ]
  },
  {
   "cell_type": "code",
   "execution_count": null,
   "id": "vietnamese-upgrade",
   "metadata": {
    "tags": [
     "hide-input"
    ]
   },
   "outputs": [],
   "source": [
    "# Plot underlying linear model\n",
    "fig, ax = plt.subplots(2, 1, figsize=(9, 6), sharex=True)\n",
    "ax[0].plot(x, mu_true, label=r\"$β_0 + β_1 \\cdot x_i$\")\n",
    "ax[0].set(xlabel=\"$x$\", ylabel=r\"$β_0 + β_1 \\cdot x_i$\", title=\"Underlying linear model\")\n",
    "ax[0].legend()\n",
    "\n",
    "# Plot GLM\n",
    "freq = ax[1].twinx()  # instantiate a second axes that shares the same x-axis\n",
    "freq.set_ylabel(\"number of successes\")\n",
    "freq.scatter(x, y, color=\"k\")\n",
    "# plot proportion related stuff on ax[1]\n",
    "ax[1].plot(x, p_true, label=r\"$g^{-1}(β_0 + β_1 \\cdot x_i)$\")\n",
    "ax[1].set_ylabel(\"proportion successes\", color=\"b\")\n",
    "ax[1].tick_params(axis=\"y\", labelcolor=\"b\")\n",
    "ax[1].set(xlabel=\"$x$\", title=\"Binomial regression\")\n",
    "ax[1].legend()\n",
    "# get y-axes to line up\n",
    "y_buffer = 1\n",
    "freq.set(ylim=[-y_buffer, n + y_buffer])\n",
    "ax[1].set(ylim=[-(y_buffer / n), 1 + (y_buffer / n)])\n",
    "freq.grid(None)"
   ]
  },
  {
   "cell_type": "markdown",
   "id": "compressed-sarah",
   "metadata": {},
   "source": [
    "The top panel shows the (untransformed) linear model. We can see that the linear model is generating values outside the range $0-1$, making clear the need for an inverse link function, $g^{-1}()$ which converts from the domain of $(-\\infty, +\\infty) \\rightarrow (0, 1)$. As we've seen, this is done by the inverse logistic function (aka logistic sigmoid)."
   ]
  },
  {
   "cell_type": "markdown",
   "id": "increased-luxury",
   "metadata": {},
   "source": [
    "## Binomial regression model\n",
    "\n",
    "Technically, we don't need to supply `coords`, but providing this (a list of observation values) helps when reshaping arrays of data later on. The information in `coords` is used by the `dims` kwarg in the model."
   ]
  },
  {
   "cell_type": "code",
   "execution_count": null,
   "id": "alpha-spoke",
   "metadata": {},
   "outputs": [],
   "source": [
    "coords = {\"observation\": data.index.values}\n",
    "\n",
    "with pm.Model(coords=coords) as binomial_regression_model:\n",
    "    x = pm.ConstantData(\"x\", data[\"x\"], dims=\"observation\")\n",
    "    # priors\n",
    "    beta0 = pm.Normal(\"beta0\", mu=0, sigma=1)\n",
    "    beta1 = pm.Normal(\"beta1\", mu=0, sigma=1)\n",
    "    # linear model\n",
    "    mu = beta0 + beta1 * x\n",
    "    p = pm.Deterministic(\"p\", pm.math.invlogit(mu), dims=\"observation\")\n",
    "    # likelihood\n",
    "    pm.Binomial(\"y\", n=n, p=p, observed=data[\"y\"], dims=\"observation\")"
   ]
  },
  {
   "cell_type": "code",
   "execution_count": null,
   "id": "guided-anderson",
   "metadata": {},
   "outputs": [],
   "source": [
    "pm.model_to_graphviz(binomial_regression_model)"
   ]
  },
  {
   "cell_type": "code",
   "execution_count": null,
   "id": "certified-opening",
   "metadata": {},
   "outputs": [],
   "source": [
    "with binomial_regression_model:\n",
    "    idata = pm.sample(1000, tune=2000)"
   ]
  },
  {
   "cell_type": "markdown",
   "id": "important-treatment",
   "metadata": {},
   "source": [
    "Confirm no inference issues by visual inspection of chain. We've got no warnings about divergences, $\\hat{R}$, or effective sample size. Everything looks good."
   ]
  },
  {
   "cell_type": "code",
   "execution_count": null,
   "id": "annual-abortion",
   "metadata": {},
   "outputs": [],
   "source": [
    "az.plot_trace(idata, var_names=[\"beta0\", \"beta1\"]);"
   ]
  },
  {
   "cell_type": "markdown",
   "id": "romantic-today",
   "metadata": {},
   "source": [
    "## Examine results\n",
    "The code below plots out model predictions in data space, and our posterior beliefs in parameter space."
   ]
  },
  {
   "cell_type": "code",
   "execution_count": null,
   "id": "monthly-techno",
   "metadata": {
    "tags": [
     "hide-input"
    ]
   },
   "outputs": [],
   "source": [
    "fig, ax = plt.subplots(1, 2, figsize=(9, 4), gridspec_kw={\"width_ratios\": [2, 1]})\n",
    "\n",
    "# Data space plot ========================================================\n",
    "az.plot_hdi(\n",
    "    data[\"x\"],\n",
    "    idata.posterior.p,\n",
    "    hdi_prob=0.95,\n",
    "    fill_kwargs={\"alpha\": 0.25, \"linewidth\": 0},\n",
    "    ax=ax[0],\n",
    "    color=\"C1\",\n",
    ")\n",
    "# posterior mean\n",
    "post_mean = idata.posterior.p.mean((\"chain\", \"draw\"))\n",
    "ax[0].plot(data[\"x\"], post_mean, label=\"posterior mean\", color=\"C1\")\n",
    "# plot truth\n",
    "ax[0].plot(data[\"x\"], p_true, \"--\", label=\"true\", color=\"C2\")\n",
    "# formatting\n",
    "ax[0].set(xlabel=\"x\", title=\"Data space\")\n",
    "ax[0].set_ylabel(\"proportion successes\", color=\"C1\")\n",
    "ax[0].tick_params(axis=\"y\", labelcolor=\"C1\")\n",
    "ax[0].legend()\n",
    "# instantiate a second axes that shares the same x-axis\n",
    "freq = ax[0].twinx()\n",
    "freq.set_ylabel(\"number of successes\")\n",
    "freq.scatter(data[\"x\"], data[\"y\"], color=\"k\", label=\"data\")\n",
    "# get y-axes to line up\n",
    "y_buffer = 1\n",
    "freq.set(ylim=[-y_buffer, n + y_buffer])\n",
    "ax[0].set(ylim=[-(y_buffer / n), 1 + (y_buffer / n)])\n",
    "freq.grid(None)\n",
    "# set both y-axis to have 5 ticks\n",
    "ax[0].set(yticks=np.linspace(0, 20, 5) / n)\n",
    "freq.set(yticks=np.linspace(0, 20, 5))\n",
    "\n",
    "# Parameter space plot ===================================================\n",
    "az.plot_kde(\n",
    "    az.extract(idata, var_names=\"beta0\"),\n",
    "    az.extract(idata, var_names=\"beta1\"),\n",
    "    contourf_kwargs={\"cmap\": \"Blues\"},\n",
    "    ax=ax[1],\n",
    ")\n",
    "ax[1].plot(beta0_true, beta1_true, \"C2o\", label=\"true\")\n",
    "ax[1].set(xlabel=r\"$\\beta_0$\", ylabel=r\"$\\beta_1$\", title=\"Parameter space\")\n",
    "ax[1].legend(facecolor=\"white\", frameon=True);"
   ]
  },
  {
   "cell_type": "markdown",
   "id": "stuffed-dialogue",
   "metadata": {},
   "source": [
    "The left panel shows the posterior mean (solid line) and 95% credible intervals (shaded region). Because we are working with simulated data, we know what the true model is, so we can see that the posterior mean compares favourably with the true data generating model. \n",
    "\n",
    "This is also shown by the posterior distribution over parameter space (right panel), which does well when comparing to the true data generating parameters.\n",
    "\n",
    "Using binomial regression in real data analysis situations would probably involve more predictor variables, and correspondingly more model parameters, but hopefully this example has demonstrated the logic behind binomial regression.\n",
    "\n",
    "A good introduction to generalized linear models is provided by {cite:t}`roback2021beyond` which is available in hardcopy and [free online](https://bookdown.org/roback/bookdown-BeyondMLR/)."
   ]
  },
  {
   "attachments": {},
   "cell_type": "markdown",
   "id": "b743d58b-2678-4e17-9947-a8fe4ed03e21",
   "metadata": {},
   "source": [
    "## Authors\n",
    "- Authored by [Benjamin T. Vincent](https://github.com/drbenvincent) in July 2021 \n",
    "- Updated by [Benjamin T. Vincent](https://github.com/drbenvincent) in February 2022\n",
    "- Updated by Benjamin T. Vincent in February 2023 to run on PyMC v5\n",
    "- Updated to use `az.extract` by [Benjamin T. Vincent](https://github.com/drbenvincent) in February 2023, ([pymc-examples#522](https://github.com/pymc-devs/pymc-examples/pull/522))"
   ]
  },
  {
   "cell_type": "markdown",
   "id": "closed-frank",
   "metadata": {},
   "source": [
    "## References\n",
    ":::{bibliography}\n",
    ":filter: docname in docnames\n",
    ":::"
   ]
  },
  {
   "cell_type": "markdown",
   "id": "0717070c-04aa-4836-ab95-6b3eff0dcaaf",
   "metadata": {},
   "source": [
    "## Watermark"
   ]
  },
  {
   "cell_type": "code",
   "execution_count": null,
   "id": "sound-calculation",
   "metadata": {
    "tags": []
   },
   "outputs": [],
   "source": [
    "%load_ext watermark\n",
    "%watermark -n -u -v -iv -w -p pytensor,aeppl"
   ]
  },
  {
   "cell_type": "markdown",
   "id": "1e4386fc-4de9-4535-a160-d929315633ef",
   "metadata": {},
   "source": [
    ":::{include} ../page_footer.md :::"
   ]
  }
 ],
 "metadata": {
  "kernelspec": {
   "display_name": "pymc_env",
   "language": "python",
   "name": "python3"
  },
  "language_info": {
   "codemirror_mode": {
    "name": "ipython",
    "version": 3
   },
   "file_extension": ".py",
   "mimetype": "text/x-python",
   "name": "python",
   "nbconvert_exporter": "python",
   "pygments_lexer": "ipython3",
   "version": "3.11.0"
  },
  "vscode": {
   "interpreter": {
    "hash": "d5f0cba85daacbebbd957da1105312a62c58952ca942f7218a10e4aa5f415a19"
   }
  }
 },
 "nbformat": 4,
 "nbformat_minor": 5
}
