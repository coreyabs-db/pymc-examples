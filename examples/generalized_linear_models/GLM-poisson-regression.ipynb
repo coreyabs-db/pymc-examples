{
 "cells": [
  {
   "cell_type": "markdown",
   "metadata": {
    "papermill": {
     "duration": 0.043172,
     "end_time": "2021-02-23T11:26:55.064791",
     "exception": false,
     "start_time": "2021-02-23T11:26:55.021619",
     "status": "completed"
    },
    "tags": []
   },
   "source": [
    "(GLM-poisson-regression)=\n",
    "# GLM: Poisson Regression\n",
    "\n",
    ":::{post} November 30, 2022\n",
    ":tags: regression, poisson\n",
    ":category: intermediate\n",
    ":author: Jonathan Sedar, Benjamin Vincent\n",
    ":::"
   ]
  },
  {
   "cell_type": "markdown",
   "metadata": {
    "papermill": {
     "duration": 0.069202,
     "end_time": "2021-02-23T11:27:01.489628",
     "exception": false,
     "start_time": "2021-02-23T11:27:01.420426",
     "status": "completed"
    },
    "tags": []
   },
   "source": [
    "This is a minimal reproducible example of Poisson regression to predict counts using dummy data.\n",
    "\n",
    "This Notebook is basically an excuse to demo Poisson regression using PyMC, both manually and using `bambi` to demo interactions using the `formulae` library. We will create some dummy data, Poisson distributed according to a linear model, and try to recover the coefficients of that linear model through inference.\n",
    "\n",
    "For more statistical detail see:\n",
    "\n",
    "+ Basic info on [Wikipedia](https://en.wikipedia.org/wiki/Poisson_regression)\n",
    "+ GLMs: Poisson regression, exposure, and overdispersion in Chapter 6.2 of [ARM, Gelmann & Hill 2006](http://www.stat.columbia.edu/%7Egelman/arm/)\n",
    "+ This worked example from ARM 6.2 by [Clay Ford](http://www.clayford.net/statistics/poisson-regression-ch-6-of-gelman-and-hill/)\n",
    "\n",
    "This very basic model is inspired by [a project by Ian Osvald](http://ianozsvald.com/2016/05/07/statistically-solving-sneezes-and-sniffles-a-work-in-progress-report-at-pydatalondon-2016/), which is concerned with understanding the various effects of external environmental factors upon the allergic sneezing of a test subject."
   ]
  },
  {
   "cell_type": "code",
   "execution_count": null,
   "metadata": {},
   "outputs": [],
   "source": [
    "#!pip install seaborn"
   ]
  },
  {
   "cell_type": "code",
   "execution_count": null,
   "metadata": {
    "papermill": {
     "duration": 6.051698,
     "end_time": "2021-02-23T11:27:01.160546",
     "exception": false,
     "start_time": "2021-02-23T11:26:55.108848",
     "status": "completed"
    },
    "tags": []
   },
   "outputs": [],
   "source": [
    "import arviz as az\n",
    "import bambi as bmb\n",
    "import matplotlib.pyplot as plt\n",
    "import numpy as np\n",
    "import pandas as pd\n",
    "import pymc as pm\n",
    "import seaborn as sns\n",
    "\n",
    "from formulae import design_matrices"
   ]
  },
  {
   "cell_type": "code",
   "execution_count": null,
   "metadata": {
    "papermill": {
     "duration": 0.111837,
     "end_time": "2021-02-23T11:27:01.349763",
     "exception": false,
     "start_time": "2021-02-23T11:27:01.237926",
     "status": "completed"
    },
    "tags": []
   },
   "outputs": [],
   "source": [
    "RANDOM_SEED = 8927\n",
    "rng = np.random.default_rng(RANDOM_SEED)\n",
    "\n",
    "%config InlineBackend.figure_format = 'retina'\n",
    "az.style.use(\"arviz-darkgrid\")"
   ]
  },
  {
   "cell_type": "markdown",
   "metadata": {
    "papermill": {
     "duration": 0.06268,
     "end_time": "2021-02-23T11:27:01.615645",
     "exception": false,
     "start_time": "2021-02-23T11:27:01.552965",
     "status": "completed"
    },
    "tags": []
   },
   "source": [
    "## Local Functions"
   ]
  },
  {
   "cell_type": "markdown",
   "metadata": {
    "papermill": {
     "duration": 0.073451,
     "end_time": "2021-02-23T11:27:01.763249",
     "exception": false,
     "start_time": "2021-02-23T11:27:01.689798",
     "status": "completed"
    },
    "tags": []
   },
   "source": [
    "## Generate Data"
   ]
  },
  {
   "cell_type": "markdown",
   "metadata": {
    "papermill": {
     "duration": 0.060542,
     "end_time": "2021-02-23T11:27:01.884617",
     "exception": false,
     "start_time": "2021-02-23T11:27:01.824075",
     "status": "completed"
    },
    "tags": []
   },
   "source": [
    "This dummy dataset is created to emulate some data created as part of a study into quantified self, and the real data is more complicated than this. Ask Ian Osvald if you'd like to know more [@ianozvald](https://twitter.com/ianozsvald).\n",
    "\n",
    "\n",
    "### Assumptions:\n",
    "\n",
    "+ The subject sneezes N times per day, recorded as `nsneeze (int)`\n",
    "+ The subject may or may not drink alcohol during that day, recorded as `alcohol (boolean)`\n",
    "+ The subject may or may not take an antihistamine medication during that day, recorded as the negative action `nomeds (boolean)`\n",
    "+ We postulate (probably incorrectly) that sneezing occurs at some baseline rate, which increases if an antihistamine is not taken, and further increased after alcohol is consumed.\n",
    "+ The data is aggregated per day, to yield a total count of sneezes on that day, with a boolean flag for alcohol and antihistamine usage, with the big assumption that nsneezes have a direct causal relationship.\n",
    "\n",
    "\n",
    "Create 4000 days of data: daily counts of sneezes which are Poisson distributed w.r.t alcohol consumption and antihistamine usage"
   ]
  },
  {
   "cell_type": "code",
   "execution_count": null,
   "metadata": {
    "papermill": {
     "duration": 0.07367,
     "end_time": "2021-02-23T11:27:02.023323",
     "exception": false,
     "start_time": "2021-02-23T11:27:01.949653",
     "status": "completed"
    },
    "tags": []
   },
   "outputs": [],
   "source": [
    "# decide poisson theta values\n",
    "theta_noalcohol_meds = 1  # no alcohol, took an antihist\n",
    "theta_alcohol_meds = 3  # alcohol, took an antihist\n",
    "theta_noalcohol_nomeds = 6  # no alcohol, no antihist\n",
    "theta_alcohol_nomeds = 36  # alcohol, no antihist\n",
    "\n",
    "# create samples\n",
    "q = 1000\n",
    "df = pd.DataFrame(\n",
    "    {\n",
    "        \"nsneeze\": np.concatenate(\n",
    "            (\n",
    "                rng.poisson(theta_noalcohol_meds, q),\n",
    "                rng.poisson(theta_alcohol_meds, q),\n",
    "                rng.poisson(theta_noalcohol_nomeds, q),\n",
    "                rng.poisson(theta_alcohol_nomeds, q),\n",
    "            )\n",
    "        ),\n",
    "        \"alcohol\": np.concatenate(\n",
    "            (\n",
    "                np.repeat(False, q),\n",
    "                np.repeat(True, q),\n",
    "                np.repeat(False, q),\n",
    "                np.repeat(True, q),\n",
    "            )\n",
    "        ),\n",
    "        \"nomeds\": np.concatenate(\n",
    "            (\n",
    "                np.repeat(False, q),\n",
    "                np.repeat(False, q),\n",
    "                np.repeat(True, q),\n",
    "                np.repeat(True, q),\n",
    "            )\n",
    "        ),\n",
    "    }\n",
    ")"
   ]
  },
  {
   "cell_type": "code",
   "execution_count": null,
   "metadata": {
    "papermill": {
     "duration": 0.093062,
     "end_time": "2021-02-23T11:27:02.176348",
     "exception": false,
     "start_time": "2021-02-23T11:27:02.083286",
     "status": "completed"
    },
    "tags": []
   },
   "outputs": [],
   "source": [
    "df.tail()"
   ]
  },
  {
   "cell_type": "markdown",
   "metadata": {
    "papermill": {
     "duration": 0.071086,
     "end_time": "2021-02-23T11:27:02.312429",
     "exception": false,
     "start_time": "2021-02-23T11:27:02.241343",
     "status": "completed"
    },
    "tags": []
   },
   "source": [
    "##### View means of the various combinations (Poisson mean values)"
   ]
  },
  {
   "cell_type": "code",
   "execution_count": null,
   "metadata": {
    "papermill": {
     "duration": 0.082117,
     "end_time": "2021-02-23T11:27:02.449759",
     "exception": false,
     "start_time": "2021-02-23T11:27:02.367642",
     "status": "completed"
    },
    "tags": []
   },
   "outputs": [],
   "source": [
    "df.groupby([\"alcohol\", \"nomeds\"]).mean().unstack()"
   ]
  },
  {
   "cell_type": "markdown",
   "metadata": {
    "papermill": {
     "duration": 0.054583,
     "end_time": "2021-02-23T11:27:02.561633",
     "exception": false,
     "start_time": "2021-02-23T11:27:02.507050",
     "status": "completed"
    },
    "tags": []
   },
   "source": [
    "### Briefly Describe Dataset"
   ]
  },
  {
   "cell_type": "code",
   "execution_count": null,
   "metadata": {
    "papermill": {
     "duration": 2.510687,
     "end_time": "2021-02-23T11:27:05.124151",
     "exception": false,
     "start_time": "2021-02-23T11:27:02.613464",
     "status": "completed"
    },
    "tags": []
   },
   "outputs": [],
   "source": [
    "g = sns.catplot(\n",
    "    x=\"nsneeze\",\n",
    "    row=\"nomeds\",\n",
    "    col=\"alcohol\",\n",
    "    data=df,\n",
    "    kind=\"count\",\n",
    "    height=4,\n",
    "    aspect=1.5,\n",
    ")\n",
    "for ax in (g.axes[1, 0], g.axes[1, 1]):\n",
    "    for n, label in enumerate(ax.xaxis.get_ticklabels()):\n",
    "        label.set_visible(n % 5 == 0)"
   ]
  },
  {
   "cell_type": "markdown",
   "metadata": {
    "papermill": {
     "duration": 0.049808,
     "end_time": "2021-02-23T11:27:05.231176",
     "exception": false,
     "start_time": "2021-02-23T11:27:05.181368",
     "status": "completed"
    },
    "tags": []
   },
   "source": [
    "**Observe:**\n",
    "\n",
    "+ This looks a lot like poisson-distributed count data (because it is)\n",
    "+ With `nomeds == False` and `alcohol == False` (top-left, akak antihistamines WERE used, alcohol was NOT drunk) the mean of the poisson distribution of sneeze counts is low.\n",
    "+ Changing `alcohol == True` (top-right) increases the sneeze count `nsneeze` slightly\n",
    "+ Changing `nomeds == True` (lower-left) increases the sneeze count `nsneeze` further\n",
    "+ Changing both `alcohol == True and nomeds == True` (lower-right) increases the sneeze count `nsneeze` a lot, increasing both the mean and variance."
   ]
  },
  {
   "cell_type": "markdown",
   "metadata": {
    "papermill": {
     "duration": 0.049476,
     "end_time": "2021-02-23T11:27:05.330914",
     "exception": false,
     "start_time": "2021-02-23T11:27:05.281438",
     "status": "completed"
    },
    "tags": []
   },
   "source": [
    "---"
   ]
  },
  {
   "cell_type": "markdown",
   "metadata": {
    "papermill": {
     "duration": 0.054536,
     "end_time": "2021-02-23T11:27:05.438038",
     "exception": false,
     "start_time": "2021-02-23T11:27:05.383502",
     "status": "completed"
    },
    "tags": []
   },
   "source": [
    "## Poisson Regression"
   ]
  },
  {
   "cell_type": "markdown",
   "metadata": {
    "papermill": {
     "duration": 0.048945,
     "end_time": "2021-02-23T11:27:05.540630",
     "exception": false,
     "start_time": "2021-02-23T11:27:05.491685",
     "status": "completed"
    },
    "tags": []
   },
   "source": [
    "Our model here is a very simple Poisson regression, allowing for interaction of terms:\n",
    "\n",
    "$$ \\theta = exp(\\beta X)$$\n",
    "\n",
    "$$ Y_{sneeze\\_count} \\sim Poisson(\\theta)$$"
   ]
  },
  {
   "cell_type": "markdown",
   "metadata": {
    "papermill": {
     "duration": 0.04972,
     "end_time": "2021-02-23T11:27:05.641588",
     "exception": false,
     "start_time": "2021-02-23T11:27:05.591868",
     "status": "completed"
    },
    "tags": []
   },
   "source": [
    "**Create linear model for interaction of terms**"
   ]
  },
  {
   "cell_type": "code",
   "execution_count": null,
   "metadata": {
    "papermill": {
     "duration": 0.056994,
     "end_time": "2021-02-23T11:27:05.748431",
     "exception": false,
     "start_time": "2021-02-23T11:27:05.691437",
     "status": "completed"
    },
    "tags": []
   },
   "outputs": [],
   "source": [
    "fml = \"nsneeze ~ alcohol + nomeds + alcohol:nomeds\"  # full formulae formulation"
   ]
  },
  {
   "cell_type": "code",
   "execution_count": null,
   "metadata": {
    "papermill": {
     "duration": 0.058609,
     "end_time": "2021-02-23T11:27:05.859414",
     "exception": false,
     "start_time": "2021-02-23T11:27:05.800805",
     "status": "completed"
    },
    "tags": []
   },
   "outputs": [],
   "source": [
    "fml = \"nsneeze ~ alcohol * nomeds\"  # lazy, alternative formulae formulation"
   ]
  },
  {
   "cell_type": "markdown",
   "metadata": {
    "papermill": {
     "duration": 0.048682,
     "end_time": "2021-02-23T11:27:05.958802",
     "exception": false,
     "start_time": "2021-02-23T11:27:05.910120",
     "status": "completed"
    },
    "tags": []
   },
   "source": [
    "### 1. Manual method, create design matrices and manually specify model"
   ]
  },
  {
   "cell_type": "markdown",
   "metadata": {
    "papermill": {
     "duration": 0.049076,
     "end_time": "2021-02-23T11:27:06.059305",
     "exception": false,
     "start_time": "2021-02-23T11:27:06.010229",
     "status": "completed"
    },
    "tags": []
   },
   "source": [
    "**Create Design Matrices**"
   ]
  },
  {
   "cell_type": "code",
   "execution_count": null,
   "metadata": {},
   "outputs": [],
   "source": [
    "dm = design_matrices(fml, df, na_action=\"error\")"
   ]
  },
  {
   "cell_type": "code",
   "execution_count": null,
   "metadata": {},
   "outputs": [],
   "source": [
    "mx_ex = dm.common.as_dataframe()\n",
    "mx_en = dm.response.as_dataframe()"
   ]
  },
  {
   "cell_type": "code",
   "execution_count": null,
   "metadata": {},
   "outputs": [],
   "source": [
    "mx_ex"
   ]
  },
  {
   "cell_type": "markdown",
   "metadata": {
    "papermill": {
     "duration": 0.062897,
     "end_time": "2021-02-23T11:27:06.420853",
     "exception": false,
     "start_time": "2021-02-23T11:27:06.357956",
     "status": "completed"
    },
    "tags": []
   },
   "source": [
    "**Create Model**"
   ]
  },
  {
   "cell_type": "code",
   "execution_count": null,
   "metadata": {
    "papermill": {
     "duration": 29.137887,
     "end_time": "2021-02-23T11:27:35.621305",
     "exception": false,
     "start_time": "2021-02-23T11:27:06.483418",
     "status": "completed"
    },
    "tags": []
   },
   "outputs": [],
   "source": [
    "with pm.Model() as mdl_fish:\n",
    "    # define priors, weakly informative Normal\n",
    "    b0 = pm.Normal(\"Intercept\", mu=0, sigma=10)\n",
    "    b1 = pm.Normal(\"alcohol\", mu=0, sigma=10)\n",
    "    b2 = pm.Normal(\"nomeds\", mu=0, sigma=10)\n",
    "    b3 = pm.Normal(\"alcohol:nomeds\", mu=0, sigma=10)\n",
    "\n",
    "    # define linear model and exp link function\n",
    "    theta = (\n",
    "        b0\n",
    "        + b1 * mx_ex[\"alcohol\"].values\n",
    "        + b2 * mx_ex[\"nomeds\"].values\n",
    "        + b3 * mx_ex[\"alcohol:nomeds\"].values\n",
    "    )\n",
    "\n",
    "    ## Define Poisson likelihood\n",
    "    y = pm.Poisson(\"y\", mu=pm.math.exp(theta), observed=mx_en[\"nsneeze\"].values)"
   ]
  },
  {
   "cell_type": "markdown",
   "metadata": {
    "papermill": {
     "duration": 0.049445,
     "end_time": "2021-02-23T11:27:35.720870",
     "exception": false,
     "start_time": "2021-02-23T11:27:35.671425",
     "status": "completed"
    },
    "tags": []
   },
   "source": [
    "**Sample Model**"
   ]
  },
  {
   "cell_type": "code",
   "execution_count": null,
   "metadata": {
    "papermill": {
     "duration": 108.169723,
     "end_time": "2021-02-23T11:29:23.939578",
     "exception": false,
     "start_time": "2021-02-23T11:27:35.769855",
     "status": "completed"
    },
    "tags": []
   },
   "outputs": [],
   "source": [
    "with mdl_fish:\n",
    "    inf_fish = pm.sample()\n",
    "    # inf_fish.extend(pm.sample_posterior_predictive(inf_fish))"
   ]
  },
  {
   "cell_type": "markdown",
   "metadata": {
    "papermill": {
     "duration": 0.118023,
     "end_time": "2021-02-23T11:29:24.142987",
     "exception": false,
     "start_time": "2021-02-23T11:29:24.024964",
     "status": "completed"
    },
    "tags": []
   },
   "source": [
    "**View Diagnostics**"
   ]
  },
  {
   "cell_type": "code",
   "execution_count": null,
   "metadata": {
    "papermill": {
     "duration": 4.374731,
     "end_time": "2021-02-23T11:29:28.617406",
     "exception": false,
     "start_time": "2021-02-23T11:29:24.242675",
     "status": "completed"
    },
    "tags": []
   },
   "outputs": [],
   "source": [
    "az.plot_trace(inf_fish);"
   ]
  },
  {
   "cell_type": "markdown",
   "metadata": {
    "papermill": {
     "duration": 0.076462,
     "end_time": "2021-02-23T11:29:28.790410",
     "exception": false,
     "start_time": "2021-02-23T11:29:28.713948",
     "status": "completed"
    },
    "tags": []
   },
   "source": [
    "**Observe:**\n",
    "\n",
    "+ The model converges quickly and traceplots looks pretty well mixed"
   ]
  },
  {
   "cell_type": "markdown",
   "metadata": {
    "papermill": {
     "duration": 0.07685,
     "end_time": "2021-02-23T11:29:28.943674",
     "exception": false,
     "start_time": "2021-02-23T11:29:28.866824",
     "status": "completed"
    },
    "tags": []
   },
   "source": [
    "### Transform coeffs and recover theta values"
   ]
  },
  {
   "cell_type": "code",
   "execution_count": null,
   "metadata": {},
   "outputs": [],
   "source": [
    "az.summary(np.exp(inf_fish.posterior), kind=\"stats\")"
   ]
  },
  {
   "cell_type": "markdown",
   "metadata": {
    "papermill": {
     "duration": 0.075014,
     "end_time": "2021-02-23T11:29:29.324266",
     "exception": false,
     "start_time": "2021-02-23T11:29:29.249252",
     "status": "completed"
    },
    "tags": []
   },
   "source": [
    "**Observe:**\n",
    "\n",
    "+ The contributions from each feature as a multiplier of the baseline sneezecount appear to be as per the data generation:\n",
    "    \n",
    "    \n",
    "    1. exp(Intercept): mean=1.05  cr=[0.98, 1.10]        \n",
    "    \n",
    "        Roughly linear baseline count when no alcohol and meds, as per the generated data: \n",
    "\n",
    "        theta_noalcohol_meds = 1 (as set above)\n",
    "        theta_noalcohol_meds = exp(Intercept) \n",
    "                             = 1\n",
    "\n",
    "\n",
    "    2. exp(alcohol): mean=2.86  cr=[2.67, 3.07]\n",
    "    \n",
    "        non-zero positive effect of adding alcohol, a ~3x multiplier of \n",
    "        baseline sneeze count, as per the generated data: \n",
    "\n",
    "        theta_alcohol_meds = 3 (as set above)\n",
    "        theta_alcohol_meds = exp(Intercept + alcohol) \n",
    "                           = exp(Intercept) * exp(alcohol) \n",
    "                           = 1 * 3 = 3\n",
    "\n",
    "\n",
    "    3. exp(nomeds): mean=5.73  cr=[5.34, 6.08]    \n",
    "    \n",
    "        larger, non-zero positive effect of adding nomeds, a ~6x multiplier of \n",
    "        baseline sneeze count, as per the generated data: \n",
    "\n",
    "        theta_noalcohol_nomeds = 6 (as set above)\n",
    "        theta_noalcohol_nomeds = exp(Intercept + nomeds)\n",
    "                               = exp(Intercept) * exp(nomeds) \n",
    "                               = 1 * 6 = 6\n",
    "    \n",
    "    \n",
    "    4. exp(alcohol:nomeds): mean=2.10  cr=[1.96, 2.28]\n",
    "    \n",
    "        small, positive interaction effect of alcohol and meds, a ~2x multiplier of \n",
    "        baseline sneeze count, as per the generated data: \n",
    "\n",
    "        theta_alcohol_nomeds = 36 (as set above)\n",
    "        theta_alcohol_nomeds = exp(Intercept + alcohol + nomeds + alcohol:nomeds)\n",
    "                             = exp(Intercept) * exp(alcohol) * exp(nomeds * alcohol:nomeds)\n",
    "                             = 1 * 3 * 6 * 2 = 36"
   ]
  },
  {
   "cell_type": "markdown",
   "metadata": {
    "papermill": {
     "duration": 0.076829,
     "end_time": "2021-02-23T11:29:29.477240",
     "exception": false,
     "start_time": "2021-02-23T11:29:29.400411",
     "status": "completed"
    },
    "tags": []
   },
   "source": [
    "### 2. Alternative method, using `bambi`"
   ]
  },
  {
   "cell_type": "markdown",
   "metadata": {
    "papermill": {
     "duration": 0.074408,
     "end_time": "2021-02-23T11:29:29.628052",
     "exception": false,
     "start_time": "2021-02-23T11:29:29.553644",
     "status": "completed"
    },
    "tags": []
   },
   "source": [
    "**Create Model**"
   ]
  },
  {
   "cell_type": "markdown",
   "metadata": {
    "papermill": {
     "duration": 0.07467,
     "end_time": "2021-02-23T11:29:29.778406",
     "exception": false,
     "start_time": "2021-02-23T11:29:29.703736",
     "status": "completed"
    },
    "tags": []
   },
   "source": [
    "**Alternative automatic formulation using `bambi`**"
   ]
  },
  {
   "cell_type": "code",
   "execution_count": null,
   "metadata": {
    "papermill": {
     "duration": 4.699873,
     "end_time": "2021-02-23T11:29:34.554521",
     "exception": false,
     "start_time": "2021-02-23T11:29:29.854648",
     "status": "completed"
    },
    "tags": []
   },
   "outputs": [],
   "source": [
    "model = bmb.Model(fml, df, family=\"poisson\")"
   ]
  },
  {
   "cell_type": "markdown",
   "metadata": {
    "papermill": {
     "duration": 0.077285,
     "end_time": "2021-02-23T11:29:34.719403",
     "exception": false,
     "start_time": "2021-02-23T11:29:34.642118",
     "status": "completed"
    },
    "tags": []
   },
   "source": [
    "**Fit Model**"
   ]
  },
  {
   "cell_type": "code",
   "execution_count": null,
   "metadata": {
    "papermill": {
     "duration": 115.426671,
     "end_time": "2021-02-23T11:31:30.222773",
     "exception": false,
     "start_time": "2021-02-23T11:29:34.796102",
     "status": "completed"
    },
    "tags": []
   },
   "outputs": [],
   "source": [
    "inf_fish_alt = model.fit()"
   ]
  },
  {
   "cell_type": "markdown",
   "metadata": {
    "papermill": {
     "duration": 0.075564,
     "end_time": "2021-02-23T11:31:30.375433",
     "exception": false,
     "start_time": "2021-02-23T11:31:30.299869",
     "status": "completed"
    },
    "tags": []
   },
   "source": [
    "**View Traces**"
   ]
  },
  {
   "cell_type": "code",
   "execution_count": null,
   "metadata": {
    "papermill": {
     "duration": 2.970961,
     "end_time": "2021-02-23T11:31:33.424138",
     "exception": false,
     "start_time": "2021-02-23T11:31:30.453177",
     "status": "completed"
    },
    "tags": []
   },
   "outputs": [],
   "source": [
    "az.plot_trace(inf_fish_alt);"
   ]
  },
  {
   "cell_type": "markdown",
   "metadata": {
    "papermill": {
     "duration": 0.10274,
     "end_time": "2021-02-23T11:31:33.628707",
     "exception": false,
     "start_time": "2021-02-23T11:31:33.525967",
     "status": "completed"
    },
    "tags": []
   },
   "source": [
    "### Transform coeffs"
   ]
  },
  {
   "cell_type": "code",
   "execution_count": null,
   "metadata": {},
   "outputs": [],
   "source": [
    "az.summary(np.exp(inf_fish_alt.posterior), kind=\"stats\")"
   ]
  },
  {
   "cell_type": "markdown",
   "metadata": {
    "papermill": {
     "duration": 0.10059,
     "end_time": "2021-02-23T11:31:34.095731",
     "exception": false,
     "start_time": "2021-02-23T11:31:33.995141",
     "status": "completed"
    },
    "tags": []
   },
   "source": [
    "**Observe:**\n",
    "\n",
    "+ The traceplots look well mixed\n",
    "+ The transformed model coeffs look moreorless the same as those generated by the manual model\n",
    "+ Note that the posterior predictive samples have an extreme skew"
   ]
  },
  {
   "cell_type": "code",
   "execution_count": null,
   "metadata": {
    "tags": []
   },
   "outputs": [],
   "source": [
    "posterior_predictive = model.predict(inf_fish_alt, kind=\"pps\")"
   ]
  },
  {
   "cell_type": "markdown",
   "metadata": {},
   "source": [
    "We can use `az.plot_ppc()` to check that the posterior predictive samples are similar to the observed data.\n",
    "\n",
    "For more information on posterior predictive checks, we can refer to {ref}`pymc:posterior_predictive`."
   ]
  },
  {
   "cell_type": "code",
   "execution_count": null,
   "metadata": {},
   "outputs": [],
   "source": [
    "az.plot_ppc(inf_fish_alt);"
   ]
  },
  {
   "cell_type": "markdown",
   "metadata": {
    "papermill": {
     "duration": 0.106366,
     "end_time": "2021-02-23T11:31:34.956844",
     "exception": false,
     "start_time": "2021-02-23T11:31:34.850478",
     "status": "completed"
    },
    "tags": []
   },
   "source": [
    "## Authors\n",
    "- Example originally contributed by [Jonathan Sedar](https://github.com/jonsedar) 2016-05-15.\n",
    "- Updated to PyMC v4 by [Benjamin Vincent](https://github.com/drbenvincent) May 2022.\n",
    "- Notebook header and footer updated November 2022."
   ]
  },
  {
   "cell_type": "markdown",
   "metadata": {},
   "source": [
    "## Watermark"
   ]
  },
  {
   "cell_type": "code",
   "execution_count": null,
   "metadata": {
    "papermill": {
     "duration": 0.16014,
     "end_time": "2021-02-23T11:31:43.372227",
     "exception": false,
     "start_time": "2021-02-23T11:31:43.212087",
     "status": "completed"
    },
    "tags": []
   },
   "outputs": [],
   "source": [
    "%load_ext watermark\n",
    "%watermark -n -u -v -iv -w -p pytensor,aeppl"
   ]
  },
  {
   "cell_type": "markdown",
   "metadata": {},
   "source": [
    ":::{include} ../page_footer.md\n",
    ":::"
   ]
  }
 ],
 "metadata": {
  "kernelspec": {
   "display_name": "pymc-ex",
   "language": "python",
   "name": "pymc-ex"
  },
  "language_info": {
   "codemirror_mode": {
    "name": "ipython",
    "version": 3
   },
   "file_extension": ".py",
   "mimetype": "text/x-python",
   "name": "python",
   "nbconvert_exporter": "python",
   "pygments_lexer": "ipython3",
   "version": "3.10.5"
  },
  "papermill": {
   "duration": 312.914534,
   "end_time": "2021-02-23T11:31:43.589699",
   "environment_variables": {},
   "exception": null,
   "input_path": "__notebook__.ipynb",
   "output_path": "__notebook__.ipynb",
   "parameters": {},
   "start_time": "2021-02-23T11:26:30.675165",
   "version": "2.1.0"
  }
 },
 "nbformat": 4,
 "nbformat_minor": 4
}
