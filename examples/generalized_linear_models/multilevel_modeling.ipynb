{
 "cells": [
  {
   "cell_type": "markdown",
   "metadata": {},
   "source": [
    "(GLM-hierarchical)=\n",
    "(multilevel_modeling)=\n",
    "# A Primer on Bayesian Methods for Multilevel Modeling\n",
    "\n",
    ":::{post} 24 October, 2022\n",
    ":tags: hierarchical model, case study, generalized linear model\n",
    ":category: intermediate\n",
    ":author: Chris Fonnesbeck, Colin Carroll, Alex Andorra, Oriol Abril, Farhan Reynaldo\n",
    ":::"
   ]
  },
  {
   "cell_type": "markdown",
   "metadata": {},
   "source": [
    "Hierarchical or multilevel modeling is a generalization of regression modeling.\n",
    "\n",
    "*Multilevel models* are regression models in which the constituent model parameters are given **probability models**. This implies that model parameters are allowed to **vary by group**.\n",
    "\n",
    "Observational units are often naturally **clustered**. Clustering induces dependence between observations, despite random sampling of clusters and random sampling within clusters.\n",
    "\n",
    "A *hierarchical model* is a particular multilevel model where parameters are nested within one another.\n",
    "\n",
    "Some multilevel structures are not hierarchical. \n",
    "\n",
    "* e.g. \"country\" and \"year\" are not nested, but may represent separate, but overlapping, clusters of parameters\n",
    "\n",
    "We will motivate this topic using an environmental epidemiology example."
   ]
  },
  {
   "cell_type": "markdown",
   "metadata": {},
   "source": [
    "## Example: Radon contamination {cite:t}`gelman2006data`\n",
    "\n",
    "Radon is a radioactive gas that enters homes through contact points with the ground. It is a carcinogen that is the primary cause of lung cancer in non-smokers. Radon levels vary greatly from household to household.\n",
    "\n",
    "![radon](https://www.cgenarchive.org/uploads/2/5/2/6/25269392/7758459_orig.jpg)\n",
    "\n",
    "The EPA did a study of radon levels in 80,000 houses. There are two important predictors:\n",
    "\n",
    "* measurement in basement or first floor (radon higher in basements)\n",
    "* county uranium level (positive correlation with radon levels)\n",
    "\n",
    "We will focus on modeling radon levels in Minnesota.\n",
    "\n",
    "The hierarchy in this example is households within county."
   ]
  },
  {
   "cell_type": "markdown",
   "metadata": {},
   "source": [
    "### Data organization"
   ]
  },
  {
   "cell_type": "markdown",
   "metadata": {},
   "source": [
    "First, we import the data from a local file, and extract Minnesota's data."
   ]
  },
  {
   "cell_type": "code",
   "execution_count": null,
   "metadata": {},
   "outputs": [],
   "source": [
    "import os\n",
    "import warnings\n",
    "\n",
    "import arviz as az\n",
    "import matplotlib.pyplot as plt\n",
    "import numpy as np\n",
    "import pandas as pd\n",
    "import pymc as pm\n",
    "import pytensor.tensor as pt\n",
    "import seaborn as sns\n",
    "import xarray as xr\n",
    "\n",
    "warnings.filterwarnings(\"ignore\", module=\"scipy\")\n",
    "\n",
    "print(f\"Running on PyMC v{pm.__version__}\")"
   ]
  },
  {
   "cell_type": "code",
   "execution_count": null,
   "metadata": {},
   "outputs": [],
   "source": [
    "RANDOM_SEED = 8924\n",
    "az.style.use(\"arviz-darkgrid\")"
   ]
  },
  {
   "cell_type": "markdown",
   "metadata": {},
   "source": [
    "The original data exists as several independent datasets, which we will import, merge, and process here. First is the data on measurements from individual homes from across the United States. We will extract just the subset from Minnesota."
   ]
  },
  {
   "cell_type": "code",
   "execution_count": null,
   "metadata": {},
   "outputs": [],
   "source": [
    "try:\n",
    "    srrs2 = pd.read_csv(os.path.join(\"..\", \"data\", \"srrs2.dat\"))\n",
    "except FileNotFoundError:\n",
    "    srrs2 = pd.read_csv(pm.get_data(\"srrs2.dat\"))\n",
    "\n",
    "srrs2.columns = srrs2.columns.map(str.strip)\n",
    "srrs_mn = srrs2[srrs2.state == \"MN\"].copy()"
   ]
  },
  {
   "cell_type": "markdown",
   "metadata": {},
   "source": [
    "Next, obtain the county-level predictor, uranium, by combining two variables."
   ]
  },
  {
   "cell_type": "code",
   "execution_count": null,
   "metadata": {},
   "outputs": [],
   "source": [
    "try:\n",
    "    cty = pd.read_csv(os.path.join(\"..\", \"data\", \"cty.dat\"))\n",
    "except FileNotFoundError:\n",
    "    cty = pd.read_csv(pm.get_data(\"cty.dat\"))\n",
    "\n",
    "srrs_mn[\"fips\"] = srrs_mn.stfips * 1000 + srrs_mn.cntyfips\n",
    "cty_mn = cty[cty.st == \"MN\"].copy()\n",
    "cty_mn[\"fips\"] = 1000 * cty_mn.stfips + cty_mn.ctfips"
   ]
  },
  {
   "cell_type": "markdown",
   "metadata": {},
   "source": [
    "Use the `merge` method to combine home- and county-level information in a single DataFrame."
   ]
  },
  {
   "cell_type": "code",
   "execution_count": null,
   "metadata": {},
   "outputs": [],
   "source": [
    "srrs_mn = srrs_mn.merge(cty_mn[[\"fips\", \"Uppm\"]], on=\"fips\")\n",
    "srrs_mn = srrs_mn.drop_duplicates(subset=\"idnum\")\n",
    "u = np.log(srrs_mn.Uppm).unique()\n",
    "\n",
    "n = len(srrs_mn)"
   ]
  },
  {
   "cell_type": "markdown",
   "metadata": {},
   "source": [
    "Let's encode the county names and make local copies of the variables we will use.\n",
    "We also need a lookup table (`dict`) for each unique county, for indexing."
   ]
  },
  {
   "cell_type": "code",
   "execution_count": null,
   "metadata": {},
   "outputs": [],
   "source": [
    "srrs_mn.county = srrs_mn.county.map(str.strip)\n",
    "county, mn_counties = srrs_mn.county.factorize()\n",
    "srrs_mn[\"county_code\"] = county\n",
    "radon = srrs_mn.activity\n",
    "srrs_mn[\"log_radon\"] = log_radon = np.log(radon + 0.1).values\n",
    "floor_measure = srrs_mn.floor.values"
   ]
  },
  {
   "cell_type": "markdown",
   "metadata": {},
   "source": [
    "Distribution of radon levels in MN (log scale):"
   ]
  },
  {
   "cell_type": "code",
   "execution_count": null,
   "metadata": {},
   "outputs": [],
   "source": [
    "srrs_mn.log_radon.hist(bins=25, grid=False)\n",
    "plt.xlabel(\"log(radon)\")\n",
    "plt.ylabel(\"frequency\");"
   ]
  },
  {
   "cell_type": "markdown",
   "metadata": {},
   "source": [
    "## Conventional approaches\n",
    "\n",
    "The two conventional alternatives to modeling radon exposure represent the two extremes of the bias-variance tradeoff:\n",
    "\n",
    "***Complete pooling***: \n",
    "\n",
    "Treat all counties the same, and estimate a single radon level.\n",
    "\n",
    "$$y_i = \\alpha + \\beta x_i + \\epsilon_i$$\n",
    "\n",
    "***No pooling***:\n",
    "\n",
    "Model radon in each county independently.\n",
    "\n",
    "$$y_i = \\alpha_{j[i]} + \\beta x_i + \\epsilon_i$$\n",
    "\n",
    "where $j = 1,\\ldots,85$\n",
    "\n",
    "The errors $\\epsilon_i$ may represent measurement error, temporal within-house variation, or variation among houses."
   ]
  },
  {
   "cell_type": "markdown",
   "metadata": {},
   "source": [
    "Here are the point estimates of the slope and intercept for the complete pooling model:"
   ]
  },
  {
   "cell_type": "code",
   "execution_count": null,
   "metadata": {},
   "outputs": [],
   "source": [
    "with pm.Model() as pooled_model:\n",
    "    floor_ind = pm.MutableData(\"floor_ind\", floor_measure, dims=\"obs_id\")\n",
    "\n",
    "    alpha = pm.Normal(\"alpha\", 0, sigma=10)\n",
    "    beta = pm.Normal(\"beta\", mu=0, sigma=10)\n",
    "    sigma = pm.Exponential(\"sigma\", 5)\n",
    "\n",
    "    theta = alpha + beta * floor_ind\n",
    "\n",
    "    y = pm.Normal(\"y\", theta, sigma=sigma, observed=log_radon, dims=\"obs_id\")"
   ]
  },
  {
   "cell_type": "code",
   "execution_count": null,
   "metadata": {},
   "outputs": [],
   "source": [
    "pm.model_to_graphviz(pooled_model)"
   ]
  },
  {
   "cell_type": "markdown",
   "metadata": {},
   "source": [
    "You may be wondering why we are using the `pm.Data` container above even though the variable `floor_ind` is not an observed variable nor a parameter of the model. As you'll see, this will make our lives much easier when we'll plot and diagnose our model.ArviZ will thus include `floor_ind` as a variable in the `constant_data` group of the resulting {ref}`InferenceData <xarray_for_arviz>` object. Moreover, including `floor_ind` in the `InferenceData` object makes sharing and reproducing analysis much easier, all the data needed to analyze or rerun the model is stored there."
   ]
  },
  {
   "cell_type": "markdown",
   "metadata": {},
   "source": [
    "Before running the model let's do some **prior predictive checks**. \n",
    "\n",
    "Indeed, having sensible priors is not only a way to incorporate scientific knowledge into the model, it can also help and make the MCMC machinery faster -- here we are dealing with a simple linear regression, so no link function comes and distorts the outcome space; but one day this will happen to you and you'll need to think hard about your priors to help your MCMC sampler. So, better to train ourselves when it's quite easy than having to learn when it's very hard. \n",
    "\n",
    "There is a convenient function for prior predictive sampling in PyMC:"
   ]
  },
  {
   "cell_type": "code",
   "execution_count": null,
   "metadata": {},
   "outputs": [],
   "source": [
    "with pooled_model:\n",
    "    prior_checks = pm.sample_prior_predictive(random_seed=RANDOM_SEED)"
   ]
  },
  {
   "cell_type": "markdown",
   "metadata": {},
   "source": [
    "ArviZ `InferenceData` uses `xarray.Dataset`s under the hood, which give access to several common plotting functions with `.plot`. In this case, we want scatter plot of the mean log radon level (which is stored in variable `a`) for each of the two levels we are considering. If our desired plot is supported by xarray plotting capabilities, we can take advantage of xarray to automatically generate both plot and labels for us. Notice how everything is directly plotted and annotated, the only change we need to do is renaming the y axis label from `a` to `Mean log radon level`."
   ]
  },
  {
   "cell_type": "code",
   "execution_count": null,
   "metadata": {},
   "outputs": [],
   "source": [
    "prior = prior_checks.prior.squeeze(drop=True)\n",
    "\n",
    "xr.concat((prior[\"alpha\"], prior[\"alpha\"] + prior[\"beta\"]), dim=\"location\").rename(\n",
    "    \"log_radon\"\n",
    ").assign_coords(location=[\"basement\", \"floor\"]).plot.scatter(\n",
    "    x=\"location\", y=\"log_radon\", edgecolors=\"none\"\n",
    ");"
   ]
  },
  {
   "cell_type": "markdown",
   "metadata": {},
   "source": [
    "I'm no radon expert, but before seeing the data, these priors seem to allow for quite a wide range of the mean log radon level, both as measured either in a basement or on a floor. But don't worry, we can always change these priors if sampling gives us hints that they might not be appropriate -- after all, priors are assumptions, not oaths; and as with most assumptions, they can be tested.\n",
    "\n",
    "However, we can already think of an improvement: Remember that we stated radon levels tend to be higher in basements, so we could incorporate this prior scientific knowledge into our model by forcing the floor effect (`beta`) to be negative. For now, we will leave the model as is, and trust that the information in the data will be sufficient.\n",
    "\n",
    "Speaking of sampling, let's fire up the Bayesian machinery!"
   ]
  },
  {
   "cell_type": "code",
   "execution_count": null,
   "metadata": {},
   "outputs": [],
   "source": [
    "with pooled_model:\n",
    "    pooled_trace = pm.sample(random_seed=RANDOM_SEED)"
   ]
  },
  {
   "cell_type": "markdown",
   "metadata": {},
   "source": [
    "No divergences and a sampling that only took seconds! Here the chains look very good (good R hat, good effective sample size, small sd). The model also estimated a negative floor effect, as we expected."
   ]
  },
  {
   "cell_type": "code",
   "execution_count": null,
   "metadata": {},
   "outputs": [],
   "source": [
    "az.summary(pooled_trace, round_to=2)"
   ]
  },
  {
   "cell_type": "markdown",
   "metadata": {},
   "source": [
    "Let's plot the expected radon levels in basements (`alpha`) and on floors (`alpha + beta`) in relation to the data used to fit the model:"
   ]
  },
  {
   "cell_type": "code",
   "execution_count": null,
   "metadata": {},
   "outputs": [],
   "source": [
    "post_mean = pooled_trace.posterior.mean(dim=(\"chain\", \"draw\"))\n",
    "\n",
    "plt.scatter(srrs_mn.floor, np.log(srrs_mn.activity + 0.1))\n",
    "xvals = xr.DataArray(np.linspace(-0.2, 1.2))\n",
    "plt.plot(xvals, post_mean[\"beta\"] * xvals + post_mean[\"alpha\"], \"r--\");"
   ]
  },
  {
   "cell_type": "markdown",
   "metadata": {},
   "source": [
    "This looks reasonable, though notice that there is a great deal of residual variability in the data. \n",
    "\n",
    "Let's now turn our attention to the unpooled model, and see how it fares in comparison."
   ]
  },
  {
   "cell_type": "code",
   "execution_count": null,
   "metadata": {},
   "outputs": [],
   "source": [
    "coords = {\"county\": mn_counties}\n",
    "\n",
    "with pm.Model(coords=coords) as unpooled_model:\n",
    "    floor_ind = pm.MutableData(\"floor_ind\", floor_measure, dims=\"obs_id\")\n",
    "\n",
    "    alpha = pm.Normal(\"alpha\", 0, sigma=10, dims=\"county\")\n",
    "    beta = pm.Normal(\"beta\", 0, sigma=10)\n",
    "    sigma = pm.Exponential(\"sigma\", 1)\n",
    "\n",
    "    theta = alpha[county] + beta * floor_ind\n",
    "\n",
    "    y = pm.Normal(\"y\", theta, sigma=sigma, observed=log_radon, dims=\"obs_id\")"
   ]
  },
  {
   "cell_type": "code",
   "execution_count": null,
   "metadata": {},
   "outputs": [],
   "source": [
    "pm.model_to_graphviz(unpooled_model)"
   ]
  },
  {
   "cell_type": "code",
   "execution_count": null,
   "metadata": {},
   "outputs": [],
   "source": [
    "with unpooled_model:\n",
    "    unpooled_trace = pm.sample(random_seed=RANDOM_SEED)"
   ]
  },
  {
   "cell_type": "markdown",
   "metadata": {},
   "source": [
    "The sampling was clean here too; Let's look at the expected values for both basement (dimension 0) and floor (dimension 1) in each county:"
   ]
  },
  {
   "cell_type": "code",
   "execution_count": null,
   "metadata": {},
   "outputs": [],
   "source": [
    "ax = az.plot_forest(\n",
    "    unpooled_trace,\n",
    "    var_names=[\"alpha\"],\n",
    "    r_hat=True,\n",
    "    combined=True,\n",
    "    figsize=(6, 18),\n",
    "    labeller=az.labels.NoVarLabeller(),\n",
    ")\n",
    "ax[0].set_ylabel(\"alpha\");"
   ]
  },
  {
   "cell_type": "markdown",
   "metadata": {},
   "source": [
    "To identify counties with high radon levels, we can plot the ordered mean estimates, as well as their 94% HPD:"
   ]
  },
  {
   "cell_type": "code",
   "execution_count": null,
   "metadata": {},
   "outputs": [],
   "source": [
    "unpooled_means = unpooled_trace.posterior.mean(dim=(\"chain\", \"draw\"))\n",
    "unpooled_hdi = az.hdi(unpooled_trace)\n",
    "\n",
    "unpooled_means_iter = unpooled_means.sortby(\"alpha\")\n",
    "unpooled_hdi_iter = unpooled_hdi.sortby(unpooled_means_iter.alpha)\n",
    "\n",
    "_, ax = plt.subplots(figsize=(12, 5))\n",
    "xticks = np.arange(0, 86, 6)\n",
    "unpooled_means_iter.plot.scatter(x=\"county\", y=\"alpha\", ax=ax, alpha=0.8)\n",
    "ax.vlines(\n",
    "    np.arange(mn_counties.size),\n",
    "    unpooled_hdi_iter.alpha.sel(hdi=\"lower\"),\n",
    "    unpooled_hdi_iter.alpha.sel(hdi=\"higher\"),\n",
    "    color=\"orange\",\n",
    "    alpha=0.6,\n",
    ")\n",
    "ax.set(ylabel=\"Radon estimate\", ylim=(-2, 4.5))\n",
    "ax.set_xticks(xticks)\n",
    "ax.set_xticklabels(unpooled_means_iter.county.values[xticks])\n",
    "ax.tick_params(rotation=90);"
   ]
  },
  {
   "cell_type": "markdown",
   "metadata": {},
   "source": [
    "Now that we have fit both conventional (*i.e.* non-hierarchcial) models, let's see how their inferences differ. Here are visual comparisons between the pooled and unpooled estimates for a subset of counties representing a range of sample sizes."
   ]
  },
  {
   "cell_type": "code",
   "execution_count": null,
   "metadata": {},
   "outputs": [],
   "source": [
    "sample_counties = (\n",
    "    \"LAC QUI PARLE\",\n",
    "    \"AITKIN\",\n",
    "    \"KOOCHICHING\",\n",
    "    \"DOUGLAS\",\n",
    "    \"CLAY\",\n",
    "    \"STEARNS\",\n",
    "    \"RAMSEY\",\n",
    "    \"ST LOUIS\",\n",
    ")\n",
    "\n",
    "fig, axes = plt.subplots(2, 4, figsize=(12, 6), sharey=True, sharex=True)\n",
    "axes = axes.ravel()\n",
    "m = unpooled_means[\"beta\"]\n",
    "for i, c in enumerate(sample_counties):\n",
    "    y = srrs_mn.log_radon[srrs_mn.county == c]\n",
    "    x = srrs_mn.floor[srrs_mn.county == c]\n",
    "    axes[i].scatter(x + np.random.randn(len(x)) * 0.01, y, alpha=0.4)\n",
    "\n",
    "    # No pooling model\n",
    "    b = unpooled_means[\"alpha\"].sel(county=c)\n",
    "\n",
    "    # Plot both models and data\n",
    "    xvals = xr.DataArray(np.linspace(0, 1))\n",
    "    axes[i].plot(xvals, m * xvals + b)\n",
    "    axes[i].plot(xvals, post_mean[\"beta\"] * xvals + post_mean[\"alpha\"], \"r--\")\n",
    "    axes[i].set_xticks([0, 1])\n",
    "    axes[i].set_xticklabels([\"basement\", \"floor\"])\n",
    "    axes[i].set_ylim(-1, 3)\n",
    "    axes[i].set_title(c)\n",
    "    if not i % 2:\n",
    "        axes[i].set_ylabel(\"log radon level\")"
   ]
  },
  {
   "cell_type": "markdown",
   "metadata": {},
   "source": [
    "Neither of these models are satisfactory:\n",
    "\n",
    "* If we are trying to identify high-radon counties, pooling is useless -- because, by definition, the pooled model estimates radon at the state-level. In other words, pooling leads to maximal *underfitting*: the variation across counties is not taken into account and only the overall population is estimated.\n",
    "* We do not trust extreme unpooled estimates produced by models using few observations. This leads to maximal *overfitting*: only the within-county variations are taken into account and the overall population (i.e the state-level, which tells us about similarities across counties) is not estimated. \n",
    "\n",
    "This issue is acute for small sample sizes, as seen above: in counties where we have few floor measurements, if radon levels are higher for those data points than for basement ones (Aitkin, Koochiching, Ramsey), the model will estimate that radon levels are higher in floors than basements for these counties. But we shouldn't trust this conclusion, because both scientific knowledge and the situation in other counties tell us that it is usually the reverse (basement radon > floor radon). So unless we have a lot of observations telling us otherwise for a given county, we should be skeptical and shrink our county-estimates to the state-estimates -- in other words, we should balance between cluster-level and population-level information, and the amount of shrinkage will depend on how extreme and how numerous the data in each cluster are. \n",
    "\n",
    "Here is where hierarchical models come into play."
   ]
  },
  {
   "cell_type": "markdown",
   "metadata": {},
   "source": [
    "## Multilevel and hierarchical models\n",
    "\n",
    "When we pool our data, we imply that they are sampled from the same model. This ignores any variation among sampling units (other than sampling variance) -- we assume that counties are all the same:\n",
    "\n",
    "![pooled](pooled_model.png)\n",
    "\n",
    "When we analyze data unpooled, we imply that they are sampled independently from separate models. At the opposite extreme from the pooled case, this approach claims that differences between sampling units are too large to combine them -- we assume that counties have no similarity whatsoever:\n",
    "\n",
    "![unpooled](unpooled_model.png)\n",
    "\n",
    "In a hierarchical model, parameters are viewed as a sample from a population distribution of parameters. Thus, we view them as being neither entirely different or exactly the same. This is ***partial pooling***:\n",
    "\n",
    "![hierarchical](partial_pooled_model.png)\n",
    "\n",
    "We can use PyMC to easily specify multilevel models, and fit them using Markov chain Monte Carlo."
   ]
  },
  {
   "cell_type": "markdown",
   "metadata": {},
   "source": [
    "## Partial pooling model\n",
    "\n",
    "The simplest partial pooling model for the household radon dataset is one which simply estimates radon levels, without any predictors at any level. A partial pooling model represents a compromise between the pooled and unpooled extremes, approximately a weighted average (based on sample size) of the unpooled county estimates and the pooled estimates.\n",
    "\n",
    "$$\\hat{\\alpha} \\approx \\frac{(n_j/\\sigma_y^2)\\bar{y}_j + (1/\\sigma_{\\alpha}^2)\\bar{y}}{(n_j/\\sigma_y^2) + (1/\\sigma_{\\alpha}^2)}$$\n",
    "\n",
    "Estimates for counties with smaller sample sizes will shrink towards the state-wide average, while those for counties with larger sample sizes will be closer to the unpooled county estimates."
   ]
  },
  {
   "cell_type": "markdown",
   "metadata": {},
   "source": [
    "Let's start with the simplest model, which ignores the effect of floor vs. basement measurement."
   ]
  },
  {
   "cell_type": "code",
   "execution_count": null,
   "metadata": {},
   "outputs": [],
   "source": [
    "with pm.Model(coords=coords) as partial_pooling:\n",
    "    county_idx = pm.MutableData(\"county_idx\", county, dims=\"obs_id\")\n",
    "\n",
    "    # Priors\n",
    "    mu_a = pm.Normal(\"mu_a\", mu=0.0, sigma=10)\n",
    "    sigma_a = pm.Exponential(\"sigma_a\", 1)\n",
    "\n",
    "    # Random intercepts\n",
    "    alpha = pm.Normal(\"alpha\", mu=mu_a, sigma=sigma_a, dims=\"county\")\n",
    "\n",
    "    # Model error\n",
    "    sigma_y = pm.Exponential(\"sigma_y\", 1)\n",
    "\n",
    "    # Expected value\n",
    "    y_hat = alpha[county_idx]\n",
    "\n",
    "    # Data likelihood\n",
    "    y_like = pm.Normal(\"y_like\", mu=y_hat, sigma=sigma_y, observed=log_radon, dims=\"obs_id\")"
   ]
  },
  {
   "cell_type": "code",
   "execution_count": null,
   "metadata": {},
   "outputs": [],
   "source": [
    "pm.model_to_graphviz(partial_pooling)"
   ]
  },
  {
   "cell_type": "code",
   "execution_count": null,
   "metadata": {},
   "outputs": [],
   "source": [
    "with partial_pooling:\n",
    "    partial_pooling_trace = pm.sample(tune=2000, random_seed=RANDOM_SEED)"
   ]
  },
  {
   "cell_type": "code",
   "execution_count": null,
   "metadata": {},
   "outputs": [],
   "source": [
    "N_county = srrs_mn.groupby(\"county\")[\"idnum\"].count().values\n",
    "\n",
    "fig, axes = plt.subplots(1, 2, figsize=(10, 4), sharex=True, sharey=True)\n",
    "for ax, trace, level in zip(\n",
    "    axes,\n",
    "    (unpooled_trace, partial_pooling_trace),\n",
    "    (\"no pooling\", \"partial pooling\"),\n",
    "):\n",
    "    # add variable with x values to xarray dataset\n",
    "    trace.posterior = trace.posterior.assign_coords({\"N_county\": (\"county\", N_county)})\n",
    "    # plot means\n",
    "    trace.posterior.mean(dim=(\"chain\", \"draw\")).plot.scatter(\n",
    "        x=\"N_county\", y=\"alpha\", ax=ax, alpha=0.9\n",
    "    )\n",
    "    ax.hlines(\n",
    "        partial_pooling_trace.posterior.alpha.mean(),\n",
    "        0.9,\n",
    "        max(N_county) + 1,\n",
    "        alpha=0.4,\n",
    "        ls=\"--\",\n",
    "        label=\"Est. population mean\",\n",
    "    )\n",
    "\n",
    "    # plot hdi\n",
    "    hdi = az.hdi(trace).alpha\n",
    "    ax.vlines(N_county, hdi.sel(hdi=\"lower\"), hdi.sel(hdi=\"higher\"), color=\"orange\", alpha=0.5)\n",
    "\n",
    "    ax.set(\n",
    "        title=f\"{level.title()} Estimates\",\n",
    "        xlabel=\"Nbr obs in county (log scale)\",\n",
    "        xscale=\"log\",\n",
    "        ylabel=\"Log radon\",\n",
    "    )\n",
    "    ax.legend(fontsize=10)"
   ]
  },
  {
   "cell_type": "markdown",
   "metadata": {},
   "source": [
    "Notice the difference between the unpooled and partially-pooled estimates, particularly at smaller sample sizes: As expected, the former are both more extreme and more imprecise. Indeed, in the partially-pooled model, estimates in small-sample-size counties are informed by the population parameters -- hence more precise estimates. Moreover, the smaller the sample size, the more regression towards the overall mean (the dashed gray line) -- hence less extreme estimates. In other words, the model is skeptical of extreme deviations from the population mean in counties where data is sparse. This is known as **shrinkage**."
   ]
  },
  {
   "cell_type": "markdown",
   "metadata": {},
   "source": [
    "Now let's go back and integrate the `floor` predictor, but allowing the intercept to vary by county.\n",
    "\n",
    "## Varying intercept model\n",
    "\n",
    "This model allows intercepts to vary across county, according to a random effect.\n",
    "\n",
    "$$y_i = \\alpha_{j[i]} + \\beta x_{i} + \\epsilon_i$$\n",
    "\n",
    "where\n",
    "\n",
    "$$\\epsilon_i \\sim N(0, \\sigma_y^2)$$\n",
    "\n",
    "and the intercept random effect:\n",
    "\n",
    "$$\\alpha_{j[i]} \\sim N(\\mu_{\\alpha}, \\sigma_{\\alpha}^2)$$\n",
    "\n",
    "As with the the “no-pooling” model, we set a separate intercept for each county, but rather than fitting separate least squares regression models for each county, multilevel modeling **shares strength** among counties, allowing for more reasonable inference in counties with little data."
   ]
  },
  {
   "cell_type": "code",
   "execution_count": null,
   "metadata": {},
   "outputs": [],
   "source": [
    "with pm.Model(coords=coords) as varying_intercept:\n",
    "    floor_idx = pm.MutableData(\"floor_idx\", floor_measure, dims=\"obs_id\")\n",
    "    county_idx = pm.MutableData(\"county_idx\", county, dims=\"obs_id\")\n",
    "\n",
    "    # Priors\n",
    "    mu_a = pm.Normal(\"mu_a\", mu=0.0, sigma=10.0)\n",
    "    sigma_a = pm.Exponential(\"sigma_a\", 1)\n",
    "\n",
    "    # Random intercepts\n",
    "    alpha = pm.Normal(\"alpha\", mu=mu_a, sigma=sigma_a, dims=\"county\")\n",
    "    # Common slope\n",
    "    beta = pm.Normal(\"beta\", mu=0.0, sigma=10.0)\n",
    "\n",
    "    # Model error\n",
    "    sd_y = pm.Exponential(\"sd_y\", 1)\n",
    "\n",
    "    # Expected value\n",
    "    y_hat = alpha[county_idx] + beta * floor_idx\n",
    "\n",
    "    # Data likelihood\n",
    "    y_like = pm.Normal(\"y_like\", mu=y_hat, sigma=sd_y, observed=log_radon, dims=\"obs_id\")"
   ]
  },
  {
   "cell_type": "code",
   "execution_count": null,
   "metadata": {},
   "outputs": [],
   "source": [
    "pm.model_to_graphviz(varying_intercept)"
   ]
  },
  {
   "cell_type": "code",
   "execution_count": null,
   "metadata": {},
   "outputs": [],
   "source": [
    "with varying_intercept:\n",
    "    varying_intercept_trace = pm.sample(tune=2000, random_seed=RANDOM_SEED)"
   ]
  },
  {
   "cell_type": "code",
   "execution_count": null,
   "metadata": {},
   "outputs": [],
   "source": [
    "ax = pm.plot_forest(\n",
    "    varying_intercept_trace,\n",
    "    var_names=[\"alpha\"],\n",
    "    figsize=(6, 18),\n",
    "    combined=True,\n",
    "    r_hat=True,\n",
    "    labeller=az.labels.NoVarLabeller(),\n",
    ")\n",
    "ax[0].set_ylabel(\"alpha\")"
   ]
  },
  {
   "cell_type": "code",
   "execution_count": null,
   "metadata": {},
   "outputs": [],
   "source": [
    "pm.plot_posterior(varying_intercept_trace, var_names=[\"sigma_a\", \"beta\"]);"
   ]
  },
  {
   "cell_type": "markdown",
   "metadata": {},
   "source": [
    "The estimate for the `floor` coefficient is approximately -0.66, which can be interpreted as houses without basements having about half ($\\exp(-0.66) = 0.52$) the radon levels of those with basements, after accounting for county."
   ]
  },
  {
   "cell_type": "code",
   "execution_count": null,
   "metadata": {},
   "outputs": [],
   "source": [
    "az.summary(varying_intercept_trace, var_names=[\"beta\"])"
   ]
  },
  {
   "cell_type": "code",
   "execution_count": null,
   "metadata": {},
   "outputs": [],
   "source": [
    "xvals = xr.DataArray([0, 1], dims=\"Level\", coords={\"Level\": [\"Basement\", \"Floor\"]})\n",
    "post = varying_intercept_trace.posterior  # alias for readability\n",
    "theta = (\n",
    "    (post.alpha + post.beta * xvals).mean(dim=(\"chain\", \"draw\")).to_dataset(name=\"Mean log radon\")\n",
    ")\n",
    "\n",
    "_, ax = plt.subplots()\n",
    "theta.plot.scatter(x=\"Level\", y=\"Mean log radon\", alpha=0.2, color=\"k\", ax=ax)  # scatter\n",
    "ax.plot(xvals, theta[\"Mean log radon\"].T, \"k-\", alpha=0.2)\n",
    "# add lines too\n",
    "ax.set_title(\"MEAN LOG RADON BY COUNTY\");"
   ]
  },
  {
   "cell_type": "markdown",
   "metadata": {},
   "source": [
    "It is easy to show that the partial pooling model provides more objectively reasonable estimates than either the pooled or unpooled models, at least for counties with small sample sizes."
   ]
  },
  {
   "cell_type": "code",
   "execution_count": null,
   "metadata": {},
   "outputs": [],
   "source": [
    "sample_counties = (\n",
    "    \"LAC QUI PARLE\",\n",
    "    \"AITKIN\",\n",
    "    \"KOOCHICHING\",\n",
    "    \"DOUGLAS\",\n",
    "    \"CLAY\",\n",
    "    \"STEARNS\",\n",
    "    \"RAMSEY\",\n",
    "    \"ST LOUIS\",\n",
    ")\n",
    "\n",
    "fig, axes = plt.subplots(2, 4, figsize=(12, 6), sharey=True, sharex=True)\n",
    "axes = axes.ravel()\n",
    "m = unpooled_means[\"beta\"]\n",
    "for i, c in enumerate(sample_counties):\n",
    "    y = srrs_mn.log_radon[srrs_mn.county == c]\n",
    "    x = srrs_mn.floor[srrs_mn.county == c]\n",
    "    axes[i].scatter(x + np.random.randn(len(x)) * 0.01, y, alpha=0.4)\n",
    "\n",
    "    # No pooling model\n",
    "    b = unpooled_means[\"alpha\"].sel(county=c)\n",
    "\n",
    "    # Plot both models and data\n",
    "    xvals = xr.DataArray(np.linspace(0, 1))\n",
    "    axes[i].plot(xvals, m.values * xvals + b.values)\n",
    "    axes[i].plot(xvals, post_mean[\"beta\"] * xvals + post_mean[\"alpha\"], \"r--\")\n",
    "\n",
    "    varying_intercept_trace.posterior.sel(county=c).beta\n",
    "    post = varying_intercept_trace.posterior.sel(county=c).mean(dim=(\"chain\", \"draw\"))\n",
    "    theta = post.alpha.values + post.beta.values * xvals\n",
    "    axes[i].plot(xvals, theta, \"k:\")\n",
    "    axes[i].set_xticks([0, 1])\n",
    "    axes[i].set_xticklabels([\"basement\", \"floor\"])\n",
    "    axes[i].set_ylim(-1, 3)\n",
    "    axes[i].set_title(c)\n",
    "    if not i % 2:\n",
    "        axes[i].set_ylabel(\"log radon level\")"
   ]
  },
  {
   "cell_type": "markdown",
   "metadata": {},
   "source": [
    "## Varying intercept and slope model\n",
    "\n",
    "The most general model allows both the intercept and slope to vary by county:\n",
    "\n",
    "$$y_i = \\alpha_{j[i]} + \\beta_{j[i]} x_{i} + \\epsilon_i$$"
   ]
  },
  {
   "cell_type": "code",
   "execution_count": null,
   "metadata": {},
   "outputs": [],
   "source": [
    "with pm.Model(coords=coords) as varying_intercept_slope:\n",
    "    floor_idx = pm.MutableData(\"floor_idx\", floor_measure, dims=\"obs_id\")\n",
    "    county_idx = pm.MutableData(\"county_idx\", county, dims=\"obs_id\")\n",
    "\n",
    "    # Priors\n",
    "    mu_a = pm.Normal(\"mu_a\", mu=0.0, sigma=10.0)\n",
    "    sigma_a = pm.Exponential(\"sigma_a\", 1)\n",
    "\n",
    "    mu_b = pm.Normal(\"mu_b\", mu=0.0, sigma=10.0)\n",
    "    sigma_b = pm.Exponential(\"sigma_b\", 1)\n",
    "\n",
    "    # Random intercepts\n",
    "    alpha = pm.Normal(\"alpha\", mu=mu_a, sigma=sigma_a, dims=\"county\")\n",
    "    # Random slopes\n",
    "    beta = pm.Normal(\"beta\", mu=mu_b, sigma=sigma_b, dims=\"county\")\n",
    "\n",
    "    # Model error\n",
    "    sigma_y = pm.Exponential(\"sigma_y\", 1)\n",
    "\n",
    "    # Expected value\n",
    "    y_hat = alpha[county_idx] + beta[county_idx] * floor_idx\n",
    "\n",
    "    # Data likelihood\n",
    "    y_like = pm.Normal(\"y_like\", mu=y_hat, sigma=sigma_y, observed=log_radon, dims=\"obs_id\")"
   ]
  },
  {
   "cell_type": "code",
   "execution_count": null,
   "metadata": {},
   "outputs": [],
   "source": [
    "pm.model_to_graphviz(varying_intercept_slope)"
   ]
  },
  {
   "cell_type": "code",
   "execution_count": null,
   "metadata": {},
   "outputs": [],
   "source": [
    "with varying_intercept_slope:\n",
    "    varying_intercept_slope_trace = pm.sample(tune=2000, random_seed=RANDOM_SEED)"
   ]
  },
  {
   "cell_type": "markdown",
   "metadata": {},
   "source": [
    "Notice that the trace of this model includes divergences, which can be problematic depending on where and how frequently they occur. These can occur is some hierararchical models, and they can be avoided by using the **non-centered parametrization**."
   ]
  },
  {
   "cell_type": "markdown",
   "metadata": {},
   "source": [
    "## Non-centered Parameterization\n",
    "\n",
    "The partial pooling models specified above uses a **centered** parameterization of the slope random effect. That is, the individual county effects are distributed around a county mean, with a spread controlled by the hierarchical standard deviation parameter. As the preceding plot reveals, this constraint serves to **shrink** county estimates toward the overall mean, to a degree proportional to the county sample size. This is exactly what we want, and the model appears to fit well--the Gelman-Rubin statistics are exactly 1.\n",
    "\n",
    "But, on closer inspection, there are signs of trouble. Specifically, let's look at the trace of the random effects, and their corresponding standard deviation:"
   ]
  },
  {
   "cell_type": "code",
   "execution_count": null,
   "metadata": {},
   "outputs": [],
   "source": [
    "fig, axs = plt.subplots(nrows=2)\n",
    "axs[0].plot(varying_intercept_slope_trace.posterior.sel(chain=0)[\"sigma_b\"], alpha=0.5)\n",
    "axs[0].set(ylabel=\"sigma_b\")\n",
    "axs[1].plot(varying_intercept_slope_trace.posterior.sel(chain=0)[\"beta\"], alpha=0.05)\n",
    "axs[1].set(ylabel=\"beta\");"
   ]
  },
  {
   "cell_type": "markdown",
   "metadata": {},
   "source": [
    "Notice that when the chain reaches the lower end of the parameter space for $\\sigma_b$, it appears to get \"stuck\" and the entire sampler, including the random slopes `b`, mixes poorly. \n",
    "\n",
    "Jointly plotting the random effect variance and one of the individual random slopes demonstrates what is going on."
   ]
  },
  {
   "cell_type": "code",
   "execution_count": null,
   "metadata": {},
   "outputs": [],
   "source": [
    "ax = az.plot_pair(\n",
    "    varying_intercept_slope_trace,\n",
    "    var_names=[\"beta\", \"sigma_b\"],\n",
    "    coords=dict(county=\"AITKIN\"),\n",
    "    marginals=True,\n",
    "    # marginal_kwargs={\"kind\": \"hist\"},\n",
    ")\n",
    "ax[1, 0].set_ylim(0, 0.7);"
   ]
  },
  {
   "cell_type": "markdown",
   "metadata": {},
   "source": [
    "When the group variance is small, this implies that the individual random slopes are themselves close to the group mean. This results in a *funnel*-shaped relationship between the samples of group variance and any of the slopes (particularly those with a smaller sample size). \n",
    "\n",
    "In itself, this is not a problem, since this is the behavior we expect. However, if the sampler is tuned for the wider (unconstrained) part of the parameter space, it has trouble in the areas of higher curvature. The consequence of this is that the neighborhood close to the lower bound of $\\sigma_b$ is sampled poorly; indeed, in our chain it is not sampled at all below 0.1. The result of this will be biased inference.\n",
    "\n",
    "Now that we've spotted the problem, what can we do about it? The best way to deal with this issue is to reparameterize our model. Notice the random slopes in this version:"
   ]
  },
  {
   "cell_type": "code",
   "execution_count": null,
   "metadata": {},
   "outputs": [],
   "source": [
    "with pm.Model(coords=coords) as varying_intercept_slope_noncentered:\n",
    "    floor_idx = pm.MutableData(\"floor_idx\", floor_measure, dims=\"obs_id\")\n",
    "    county_idx = pm.MutableData(\"county_idx\", county, dims=\"obs_id\")\n",
    "\n",
    "    # Priors\n",
    "    mu_a = pm.Normal(\"mu_a\", mu=0.0, sigma=10.0)\n",
    "    sigma_a = pm.Exponential(\"sigma_a\", 5)\n",
    "\n",
    "    # Non-centered random intercepts\n",
    "    # Centered: a = pm.Normal('a', mu_a, sigma=sigma_a, shape=counties)\n",
    "    z_a = pm.Normal(\"z_a\", mu=0, sigma=1, dims=\"county\")\n",
    "    alpha = pm.Deterministic(\"alpha\", mu_a + z_a * sigma_a, dims=\"county\")\n",
    "\n",
    "    mu_b = pm.Normal(\"mu_b\", mu=0.0, sigma=10.0)\n",
    "    sigma_b = pm.Exponential(\"sigma_b\", 5)\n",
    "\n",
    "    # Non-centered random slopes\n",
    "    z_b = pm.Normal(\"z_b\", mu=0, sigma=1, dims=\"county\")\n",
    "    beta = pm.Deterministic(\"beta\", mu_b + z_b * sigma_b, dims=\"county\")\n",
    "\n",
    "    # Model error\n",
    "    sigma_y = pm.Exponential(\"sigma_y\", 5)\n",
    "\n",
    "    # Expected value\n",
    "    y_hat = alpha[county_idx] + beta[county_idx] * floor_idx\n",
    "\n",
    "    # Data likelihood\n",
    "    y_like = pm.Normal(\"y_like\", mu=y_hat, sigma=sigma_y, observed=log_radon, dims=\"obs_id\")"
   ]
  },
  {
   "cell_type": "code",
   "execution_count": null,
   "metadata": {},
   "outputs": [],
   "source": [
    "pm.model_to_graphviz(varying_intercept_slope_noncentered)"
   ]
  },
  {
   "cell_type": "markdown",
   "metadata": {},
   "source": [
    "This is a [**non-centered** parameterization](https://twiecki.io/blog/2017/02/08/bayesian-hierchical-non-centered/). By this, we mean that the random deviates are no longer explicitly modeled as being centered on $\\mu_b$. Instead, they are independent standard normals $\\upsilon$, which are then scaled by the appropriate value of $\\sigma_b$, before being location-transformed by the mean.\n",
    "\n",
    "This model samples much better."
   ]
  },
  {
   "cell_type": "code",
   "execution_count": null,
   "metadata": {},
   "outputs": [],
   "source": [
    "with varying_intercept_slope_noncentered:\n",
    "    noncentered_trace = pm.sample(tune=3000, target_accept=0.95, random_seed=RANDOM_SEED)"
   ]
  },
  {
   "cell_type": "markdown",
   "metadata": {},
   "source": [
    "Notice that the bottlenecks in the traces are gone.|"
   ]
  },
  {
   "cell_type": "code",
   "execution_count": null,
   "metadata": {},
   "outputs": [],
   "source": [
    "fig, axs = plt.subplots(nrows=2)\n",
    "axs[0].plot(noncentered_trace.posterior.sel(chain=0)[\"sigma_b\"], alpha=0.5)\n",
    "axs[0].set(ylabel=\"sigma_b\")\n",
    "axs[1].plot(noncentered_trace.posterior.sel(chain=0)[\"beta\"], alpha=0.05)\n",
    "axs[1].set(ylabel=\"beta\");"
   ]
  },
  {
   "cell_type": "markdown",
   "metadata": {},
   "source": [
    "And correspondingly, the low end of the posterior distribution of the slope random effect variance can now be sampled efficiently."
   ]
  },
  {
   "cell_type": "code",
   "execution_count": null,
   "metadata": {},
   "outputs": [],
   "source": [
    "ax = az.plot_pair(\n",
    "    noncentered_trace,\n",
    "    var_names=[\"beta\", \"sigma_b\"],\n",
    "    coords=dict(county=\"AITKIN\"),\n",
    "    marginals=True,\n",
    "    # marginal_kwargs={\"kind\": \"hist\"},\n",
    ")\n",
    "ax[1, 0].set_ylim(0, 0.7);"
   ]
  },
  {
   "cell_type": "markdown",
   "metadata": {},
   "source": [
    "As a result, we are now fully exploring the support of the posterior. This results in less bias in these parameters."
   ]
  },
  {
   "cell_type": "code",
   "execution_count": null,
   "metadata": {},
   "outputs": [],
   "source": [
    "fig, (ax1, ax2) = plt.subplots(2, 1, sharex=True, constrained_layout=True)\n",
    "az.plot_posterior(varying_intercept_slope_trace, var_names=[\"sigma_b\"], ax=ax1)\n",
    "az.plot_posterior(noncentered_trace, var_names=[\"sigma_b\"], ax=ax2)\n",
    "ax1.set_title(\"Centered (top) and non-centered (bottom)\");"
   ]
  },
  {
   "cell_type": "markdown",
   "metadata": {},
   "source": [
    "Notice that `sigma_b` now has a lot of density near zero, which would indicate that counties don't vary that much in their answer to the `floor` \"treatment\". \n",
    "\n",
    "This was the problem with the original parameterization: the sampler has difficulty with the geometry of the posterior distribution when the values of the slope random effects are so different for standard deviations very close to zero compared to when they are positive. However, even with the non-centered model the sampler is not that comfortable with `sigma_b`: in fact if you look at the estimates with `az.summary` you'll see that the number of effective samples is quite low for `sigma_b`.\n",
    "\n",
    "Also note that `sigma_a` is not that big either -- i.e counties do differ in their baseline radon levels, but not by a lot. However we don't have that much of a problem to sample from this distribution because it's much narrower than `sigma_b` and doesn't get dangerously close to 0."
   ]
  },
  {
   "cell_type": "code",
   "execution_count": null,
   "metadata": {},
   "outputs": [],
   "source": [
    "az.summary(varying_intercept_slope_trace, var_names=[\"sigma_a\", \"sigma_b\"])"
   ]
  },
  {
   "cell_type": "markdown",
   "metadata": {},
   "source": [
    "To wrap up this model, let's plot the relationship between radon and floor for each county:"
   ]
  },
  {
   "cell_type": "code",
   "execution_count": null,
   "metadata": {},
   "outputs": [],
   "source": [
    "xvals = xr.DataArray([0, 1], dims=\"Level\", coords={\"Level\": [\"Basement\", \"Floor\"]})\n",
    "post = noncentered_trace.posterior  # alias for readability\n",
    "theta = (\n",
    "    (post.alpha + post.beta * xvals).mean(dim=(\"chain\", \"draw\")).to_dataset(name=\"Mean log radon\")\n",
    ")\n",
    "\n",
    "_, ax = plt.subplots()\n",
    "theta.plot.scatter(x=\"Level\", y=\"Mean log radon\", alpha=0.2, color=\"k\", ax=ax)  # scatter\n",
    "ax.plot(xvals, theta[\"Mean log radon\"].T, \"k-\", alpha=0.2)\n",
    "# add lines too\n",
    "ax.set_title(\"MEAN LOG RADON BY COUNTY\");"
   ]
  },
  {
   "cell_type": "markdown",
   "metadata": {},
   "source": [
    "This, while both the intercept and the slope vary by county, there is far less variation in the slope. \n",
    "\n",
    "But wait, there is more! We can (and maybe should) take into account the covariation between intercepts and slopes: when baseline radon is low in a given county, maybe that means the difference between floor and basement measurements will decrease -- because there isn't that much radon anyway. That would translate into a positive correlation between `alpha` and `beta`, and adding that into our model would make even more efficient use the available data. \n",
    "\n",
    "To model this correlation, we'll use a multivariate Normal distribution instead of two different Normals for `alpha` and `beta`. This simply means that each county's parameters come from a common distribution with mean `mu_alpha` for intercepts and `mu_beta` for slopes, and slopes and intercepts co-vary according to the covariance matrix `S`. In mathematical form:\n",
    "\n",
    "$$y \\sim Normal(\\theta, \\sigma)$$\n",
    "\n",
    "$$\\theta = \\alpha + \\beta \\times floor$$\n",
    "\n",
    "$$\\begin{bmatrix} \\alpha \\\\ \\beta \\end{bmatrix} \\sim MvNormal(\\begin{bmatrix} \\mu_{\\alpha} \\\\ \\mu_{\\beta} \\end{bmatrix}, \\Sigma)$$\n",
    "\n",
    "$$\\Sigma = \\begin{pmatrix} \\sigma_{\\alpha} & 0 \\\\ 0 & \\sigma_{\\beta} \\end{pmatrix}\n",
    "     P\n",
    "     \\begin{pmatrix} \\sigma_{\\alpha} & 0 \\\\ 0 & \\sigma_{\\beta} \\end{pmatrix}$$\n",
    "     \n",
    "where $\\alpha$ and $\\beta$ are the mean intercept and slope respectively, $\\sigma_{\\alpha}$ and $\\sigma_{\\beta}$ represent the variation in intercepts and slopes respectively, and $P$ is the correlation matrix of intercepts and slopes. In this case, as their is only one slope, $P$ contains only one relevant figure: the correlation between $\\alpha$ and $\\beta$.\n",
    "\n",
    "This translates quite easily in PyMC:"
   ]
  },
  {
   "cell_type": "code",
   "execution_count": null,
   "metadata": {},
   "outputs": [],
   "source": [
    "coords[\"param\"] = [\"alpha\", \"beta\"]\n",
    "coords[\"param_bis\"] = [\"alpha\", \"beta\"]\n",
    "with pm.Model(coords=coords) as covariation_intercept_slope:\n",
    "    floor_idx = pm.MutableData(\"floor_idx\", floor_measure, dims=\"obs_id\")\n",
    "    county_idx = pm.MutableData(\"county_idx\", county, dims=\"obs_id\")\n",
    "\n",
    "    # prior stddev in intercepts & slopes (variation across counties):\n",
    "    sd_dist = pm.Exponential.dist(0.5, shape=(2,))\n",
    "\n",
    "    # get back standard deviations and rho:\n",
    "    chol, corr, stds = pm.LKJCholeskyCov(\"chol\", n=2, eta=2.0, sd_dist=sd_dist)\n",
    "\n",
    "    # prior for average intercept:\n",
    "    mu_alpha_beta = pm.Normal(\"mu_alpha\", mu=0.0, sigma=5.0, shape=2)\n",
    "    # prior for average slope:\n",
    "    mu_beta = pm.Normal(\"mu_beta\", mu=0.0, sigma=1.0)\n",
    "    # population of varying effects:\n",
    "    alpha_beta_county = pm.MvNormal(\n",
    "        \"alpha_beta_county\", mu=mu_alpha_beta, chol=chol, dims=(\"county\", \"param\")\n",
    "    )\n",
    "\n",
    "    # Expected value per county:\n",
    "    theta = alpha_beta_county[county_idx, 0] + alpha_beta_county[county_idx, 1] * floor_idx\n",
    "    # Model error:\n",
    "    sigma = pm.Exponential(\"sigma\", 1.0)\n",
    "\n",
    "    y = pm.Normal(\"y\", theta, sigma=sigma, observed=log_radon, dims=\"obs_id\")"
   ]
  },
  {
   "cell_type": "markdown",
   "metadata": {},
   "source": [
    "This is by far the most complex model we've done so far, so the model code is correspondingly complex. The main complication is the use of a `LKJCholeskyCov` distribution for the covariance matrix. This is a Cholesky decomposition of the covariance matrix that allows it to sample more easily.\n",
    "\n",
    "As you may expect, we also want to non-center the random effects here. This again results in a `Deterministic` operation that here multiplies the covariance with independent standard normals."
   ]
  },
  {
   "cell_type": "code",
   "execution_count": null,
   "metadata": {},
   "outputs": [],
   "source": [
    "coords[\"param\"] = [\"alpha\", \"beta\"]\n",
    "coords[\"param_bis\"] = [\"alpha\", \"beta\"]\n",
    "with pm.Model(coords=coords) as covariation_intercept_slope:\n",
    "    floor_idx = pm.MutableData(\"floor_idx\", floor_measure, dims=\"obs_id\")\n",
    "    county_idx = pm.MutableData(\"county_idx\", county, dims=\"obs_id\")\n",
    "\n",
    "    # prior stddev in intercepts & slopes (variation across counties):\n",
    "    sd_dist = pm.Exponential.dist(0.5, shape=(2,))\n",
    "\n",
    "    # get back standard deviations and rho:\n",
    "    chol, corr, stds = pm.LKJCholeskyCov(\"chol\", n=2, eta=2.0, sd_dist=sd_dist)\n",
    "\n",
    "    # priors for average intercept and slope:\n",
    "    mu_alpha_beta = pm.Normal(\"mu_alpha_beta\", mu=0.0, sigma=5.0, shape=2)\n",
    "\n",
    "    # population of varying effects:\n",
    "    z = pm.Normal(\"z\", 0.0, 1.0, dims=(\"param\", \"county\"))\n",
    "    alpha_beta_county = pm.Deterministic(\n",
    "        \"alpha_beta_county\", pt.dot(chol, z).T, dims=(\"county\", \"param\")\n",
    "    )\n",
    "\n",
    "    # Expected value per county:\n",
    "    theta = (\n",
    "        mu_alpha_beta[0]\n",
    "        + alpha_beta_county[county_idx, 0]\n",
    "        + (mu_alpha_beta[1] + alpha_beta_county[county_idx, 1]) * floor_idx\n",
    "    )\n",
    "\n",
    "    # Model error:\n",
    "    sigma = pm.Exponential(\"sigma\", 1.0)\n",
    "\n",
    "    y = pm.Normal(\"y\", theta, sigma=sigma, observed=log_radon, dims=\"obs_id\")\n",
    "\n",
    "    covariation_intercept_slope_trace = pm.sample(\n",
    "        1000,\n",
    "        tune=3000,\n",
    "        target_accept=0.95,\n",
    "        idata_kwargs={\"dims\": {\"chol_stds\": [\"param\"], \"chol_corr\": [\"param\", \"param_bis\"]}},\n",
    "    )"
   ]
  },
  {
   "cell_type": "code",
   "execution_count": null,
   "metadata": {},
   "outputs": [],
   "source": [
    "az.plot_trace(\n",
    "    covariation_intercept_slope_trace,\n",
    "    var_names=[\"~z\", \"~chol\", \"~chol_corr\"],\n",
    "    compact=True,\n",
    "    chain_prop={\"ls\": \"-\"},\n",
    ");"
   ]
  },
  {
   "cell_type": "code",
   "execution_count": null,
   "metadata": {},
   "outputs": [],
   "source": [
    "az.plot_trace(\n",
    "    covariation_intercept_slope_trace,\n",
    "    var_names=\"chol_corr\",\n",
    "    lines=[(\"chol_corr\", {}, 0.0)],\n",
    "    compact=True,\n",
    "    chain_prop={\"ls\": \"-\"},\n",
    "    coords={\n",
    "        \"param\": xr.DataArray([\"alpha\"], dims=[\"pointwise_sel\"]),\n",
    "        \"param_bis\": xr.DataArray([\"beta\"], dims=[\"pointwise_sel\"]),\n",
    "    },\n",
    ");"
   ]
  },
  {
   "cell_type": "markdown",
   "metadata": {},
   "source": [
    "So the correlation between slopes and intercepts seems to be negative: when the county intercept increases, the county slope tends to decrease. In other words, when basement radon in a county gets bigger, the difference with floor radon tends to get bigger too (because floor readings get smaller while basement readings get bigger). But again, the uncertainty is wide that it's possible the correlation goes the other way around or is simply close to zero. \n",
    "\n",
    "And how much variation is there across counties? It's not easy to read `sigma_ab` above, so let's do a forest plot and compare the estimates with the model that doesn't include the covariation between slopes and intercepts:"
   ]
  },
  {
   "cell_type": "code",
   "execution_count": null,
   "metadata": {},
   "outputs": [],
   "source": [
    "az.plot_forest(\n",
    "    [varying_intercept_slope_trace, covariation_intercept_slope_trace],\n",
    "    model_names=[\"No covariation\", \"With covariation\"],\n",
    "    var_names=[\"mu_a\", \"mu_b\", \"mu_alpha_beta\", \"sigma_a\", \"sigma_b\", \"chol_stds\", \"chol_corr\"],\n",
    "    combined=True,\n",
    "    figsize=(8, 6),\n",
    ");"
   ]
  },
  {
   "cell_type": "markdown",
   "metadata": {},
   "source": [
    "The estimates are very close to each other, both for the means and the standard deviations. But remember, the information given by the correlation is only seen at the county level: in theory it uses even more information from the data to get an even more informed pooling of information for all county parameters. So let's visually compare estimates of both models at the county level:"
   ]
  },
  {
   "cell_type": "code",
   "execution_count": null,
   "metadata": {},
   "outputs": [],
   "source": [
    "# posterior means of covariation model:\n",
    "a_county_cov = (\n",
    "    covariation_intercept_slope_trace.posterior[\"mu_alpha_beta\"][..., 0]\n",
    "    + covariation_intercept_slope_trace.posterior[\"alpha_beta_county\"].sel(param=\"alpha\")\n",
    ").mean(dim=(\"chain\", \"draw\"))\n",
    "b_county_cov = (\n",
    "    covariation_intercept_slope_trace.posterior[\"mu_alpha_beta\"][..., 1]\n",
    "    + covariation_intercept_slope_trace.posterior[\"alpha_beta_county\"].sel(param=\"beta\")\n",
    ").mean(dim=(\"chain\", \"draw\"))\n",
    "\n",
    "# plot both and connect with lines\n",
    "avg_a_county = noncentered_trace.posterior[\"alpha\"].mean(dim=(\"chain\", \"draw\"))\n",
    "avg_b_county = noncentered_trace.posterior[\"beta\"].mean(dim=(\"chain\", \"draw\"))\n",
    "plt.scatter(avg_a_county, avg_b_county, label=\"No cov estimates\", alpha=0.6)\n",
    "plt.scatter(\n",
    "    a_county_cov,\n",
    "    b_county_cov,\n",
    "    facecolors=\"none\",\n",
    "    edgecolors=\"k\",\n",
    "    lw=1,\n",
    "    label=\"With cov estimates\",\n",
    "    alpha=0.8,\n",
    ")\n",
    "plt.plot([avg_a_county, a_county_cov], [avg_b_county, b_county_cov], \"k-\", alpha=0.5)\n",
    "plt.xlabel(\"Intercept\")\n",
    "plt.ylabel(\"Slope\")\n",
    "plt.legend();"
   ]
  },
  {
   "cell_type": "markdown",
   "metadata": {},
   "source": [
    "The negative correlation is somewhat clear here: when the intercept increases, the slope decreases. So we understand why the model put most of the posterior weight into negative territory for the correlation term. Nevertheless, the model gives a non-trivial posterior probability to the possibility that the correlation could in fact be zero or positive.\n",
    "\n",
    "Interestingly, the differences between both models occur at extreme slope and intercept values. This is because the second model used the slightly negative correlation between intercepts and slopes to adjust their estimates: when intercepts are *larger* (smaller) than average, the model pushes *down* (up) the associated slopes.\n",
    "\n",
    "Globally, there is a lot of agreement here: modeling the correlation didn’t change inference that much. We already saw that radon levels tended to be lower in floors than basements, and when we checked the posterior distributions of the average effects (`alpha` and `beta`) and standard deviations, we noticed that they were almost identical. But on average the model with covariation will be more accurate -- because it squeezes additional information from the data, to shrink estimates in both dimensions."
   ]
  },
  {
   "cell_type": "markdown",
   "metadata": {},
   "source": [
    "## Adding group-level predictors\n",
    "\n",
    "A primary strength of multilevel models is the ability to handle predictors on multiple levels simultaneously. If we consider the varying-intercepts model above:\n",
    "\n",
    "$$y_i = \\alpha_{j[i]} + \\beta x_{i} + \\epsilon_i$$\n",
    "\n",
    "we may, instead of a simple random effect to describe variation in the expected radon value, specify another regression model with a county-level covariate. Here, we use the county uranium reading $u_j$, which is thought to be related to radon levels:\n",
    "\n",
    "$$\\alpha_j = \\gamma_0 + \\gamma_1 u_j + \\zeta_j$$\n",
    "\n",
    "$$\\zeta_j \\sim N(0, \\sigma_{\\alpha}^2)$$\n",
    "\n",
    "Thus, we are now incorporating a house-level predictor (floor or basement) as well as a county-level predictor (uranium).\n",
    "\n",
    "Note that the model has both indicator variables for each county, plus a county-level covariate. In classical regression, this would result in collinearity. In a multilevel model, the partial pooling of the intercepts towards the expected value of the group-level linear model avoids this.\n",
    "\n",
    "Group-level predictors also serve to reduce group-level variation, $\\sigma_{\\alpha}$ (here it would be the variation across counties, `sigma_a`). An important implication of this is that the group-level estimate induces stronger pooling -- by definition, a smaller $\\sigma_{\\alpha}$ means a stronger shrinkage of counties parameters towards the overall state mean. \n",
    "\n",
    "This is fairly straightforward to implement in PyMC -- we just add another level:"
   ]
  },
  {
   "cell_type": "code",
   "execution_count": null,
   "metadata": {},
   "outputs": [],
   "source": [
    "with pm.Model(coords=coords) as hierarchical_intercept:\n",
    "    # Priors\n",
    "    sigma_a = pm.HalfCauchy(\"sigma_a\", 5)\n",
    "\n",
    "    # County uranium model\n",
    "    gamma_0 = pm.Normal(\"gamma_0\", mu=0.0, sigma=10.0)\n",
    "    gamma_1 = pm.Normal(\"gamma_1\", mu=0.0, sigma=10.0)\n",
    "\n",
    "    # Uranium model for intercept\n",
    "    mu_a = pm.Deterministic(\"mu_a\", gamma_0 + gamma_1 * u)\n",
    "    # County variation not explained by uranium\n",
    "    epsilon_a = pm.Normal(\"epsilon_a\", mu=0, sigma=1, dims=\"county\")\n",
    "    alpha = pm.Deterministic(\"alpha\", mu_a + sigma_a * epsilon_a, dims=\"county\")\n",
    "\n",
    "    # Common slope\n",
    "    beta = pm.Normal(\"beta\", mu=0.0, sigma=10.0)\n",
    "\n",
    "    # Model error\n",
    "    sigma_y = pm.Uniform(\"sigma_y\", lower=0, upper=100)\n",
    "\n",
    "    # Expected value\n",
    "    y_hat = alpha[county] + beta * floor_measure\n",
    "\n",
    "    # Data likelihood\n",
    "    y_like = pm.Normal(\"y_like\", mu=y_hat, sigma=sigma_y, observed=log_radon)"
   ]
  },
  {
   "cell_type": "code",
   "execution_count": null,
   "metadata": {},
   "outputs": [],
   "source": [
    "pm.model_to_graphviz(hierarchical_intercept)"
   ]
  },
  {
   "cell_type": "markdown",
   "metadata": {},
   "source": [
    "Do you see the new level, with `sigma_a` and `gamma`, which is two-dimensional because it contains the linear model for `a_county`?"
   ]
  },
  {
   "cell_type": "code",
   "execution_count": null,
   "metadata": {},
   "outputs": [],
   "source": [
    "with hierarchical_intercept:\n",
    "    hierarchical_intercept_trace = pm.sample(tune=2000, random_seed=RANDOM_SEED)"
   ]
  },
  {
   "cell_type": "code",
   "execution_count": null,
   "metadata": {},
   "outputs": [],
   "source": [
    "uranium = u\n",
    "post = hierarchical_intercept_trace.posterior.assign_coords(uranium=uranium)\n",
    "avg_a = post[\"mu_a\"].mean(dim=(\"chain\", \"draw\")).values[np.argsort(uranium)]\n",
    "avg_a_county = post[\"alpha\"].mean(dim=(\"chain\", \"draw\"))\n",
    "avg_a_county_hdi = az.hdi(post, var_names=\"alpha\")[\"alpha\"]\n",
    "\n",
    "_, ax = plt.subplots()\n",
    "ax.plot(uranium[np.argsort(uranium)], avg_a, \"k--\", alpha=0.6, label=\"Mean intercept\")\n",
    "az.plot_hdi(\n",
    "    uranium,\n",
    "    post[\"alpha\"],\n",
    "    fill_kwargs={\"alpha\": 0.1, \"color\": \"k\", \"label\": \"Mean intercept HPD\"},\n",
    "    ax=ax,\n",
    ")\n",
    "ax.scatter(uranium, avg_a_county, alpha=0.8, label=\"Mean county-intercept\")\n",
    "ax.vlines(\n",
    "    uranium,\n",
    "    avg_a_county_hdi.sel(hdi=\"lower\"),\n",
    "    avg_a_county_hdi.sel(hdi=\"higher\"),\n",
    "    alpha=0.5,\n",
    "    color=\"orange\",\n",
    ")\n",
    "plt.xlabel(\"County-level uranium\")\n",
    "plt.ylabel(\"Intercept estimate\")\n",
    "plt.legend(fontsize=9);"
   ]
  },
  {
   "cell_type": "markdown",
   "metadata": {},
   "source": [
    "Uranium is indeed strongly associated with baseline radon levels in each county. The graph above shows the average relationship and its uncertainty: the baseline radon level in an average county as a function of uranium, as well as the 94% HPD of this radon level (dashed line and envelope). The blue points and orange bars represent the relationship between baseline radon and uranium, but now for each county. As you see, the uncertainty is bigger now, because it adds on top of the average uncertainty -- each county has its idyosyncracies after all.\n",
    "\n",
    "If we compare the county-intercepts for this model with those of the partial-pooling model without a county-level covariate:The standard errors on the intercepts are narrower than for the partial-pooling model without a county-level covariate."
   ]
  },
  {
   "cell_type": "code",
   "execution_count": null,
   "metadata": {},
   "outputs": [],
   "source": [
    "labeller = az.labels.mix_labellers((az.labels.NoVarLabeller, az.labels.NoModelLabeller))\n",
    "ax = az.plot_forest(\n",
    "    [varying_intercept_trace, hierarchical_intercept_trace],\n",
    "    model_names=[\"W/t. county pred.\", \"With county pred.\"],\n",
    "    var_names=[\"alpha\"],\n",
    "    combined=True,\n",
    "    figsize=(6, 40),\n",
    "    textsize=9,\n",
    "    labeller=labeller(),\n",
    ")\n",
    "ax[0].set_ylabel(\"alpha\");"
   ]
  },
  {
   "cell_type": "markdown",
   "metadata": {},
   "source": [
    "We see that the compatibility intervals are narrower for the model including the county-level covariate. This is expected, as the effect of a covariate is to reduce the variation in the outcome variable -- provided the covariate is of predictive value. More importantly, with this model we were able to squeeze even more information out of the data."
   ]
  },
  {
   "cell_type": "markdown",
   "metadata": {},
   "source": [
    "### Correlations among levels\n",
    "\n",
    "In some instances, having predictors at multiple levels can reveal correlation between individual-level variables and group residuals. We can account for this by including the average of the individual predictors as a covariate in the model for the group intercept.\n",
    "\n",
    "$$\\alpha_j = \\gamma_0 + \\gamma_1 u_j + \\gamma_2 \\bar{x} + \\zeta_j$$\n",
    "\n",
    "These are broadly referred to as ***contextual effects***.\n",
    "\n",
    "To add these effects to our model, let's create a new variable containing the mean of `floor` in each county and add that to our previous model:"
   ]
  },
  {
   "cell_type": "code",
   "execution_count": null,
   "metadata": {},
   "outputs": [],
   "source": [
    "# Create new variable for mean of floor across counties\n",
    "avg_floor_data = srrs_mn.groupby(\"county\")[\"floor\"].mean().values"
   ]
  },
  {
   "cell_type": "code",
   "execution_count": null,
   "metadata": {},
   "outputs": [],
   "source": [
    "with pm.Model(coords=coords) as contextual_effect:\n",
    "    floor_idx = pm.Data(\"floor_idx\", floor_measure, mutable=True)\n",
    "    county_idx = pm.Data(\"county_idx\", county, mutable=True)\n",
    "    y = pm.Data(\"y\", log_radon, mutable=True)\n",
    "\n",
    "    # Priors\n",
    "    sigma_a = pm.HalfCauchy(\"sigma_a\", 5)\n",
    "\n",
    "    # County uranium model for slope\n",
    "    gamma = pm.Normal(\"gamma\", mu=0.0, sigma=10, shape=3)\n",
    "\n",
    "    # Uranium model for intercept\n",
    "    mu_a = pm.Deterministic(\"mu_a\", gamma[0] + gamma[1] * u + gamma[2] * avg_floor_data)\n",
    "\n",
    "    # County variation not explained by uranium\n",
    "    epsilon_a = pm.Normal(\"epsilon_a\", mu=0, sigma=1, dims=\"county\")\n",
    "    alpha = pm.Deterministic(\"alpha\", mu_a + sigma_a * epsilon_a)\n",
    "\n",
    "    # Common slope\n",
    "    beta = pm.Normal(\"beta\", mu=0.0, sigma=10)\n",
    "\n",
    "    # Model error\n",
    "    sigma_y = pm.Uniform(\"sigma_y\", lower=0, upper=100)\n",
    "\n",
    "    # Expected value\n",
    "    y_hat = alpha[county_idx] + beta * floor_idx\n",
    "\n",
    "    # Data likelihood\n",
    "    y_like = pm.Normal(\"y_like\", mu=y_hat, sigma=sigma_y, observed=y)"
   ]
  },
  {
   "cell_type": "code",
   "execution_count": null,
   "metadata": {},
   "outputs": [],
   "source": [
    "with contextual_effect:\n",
    "    contextual_effect_trace = pm.sample(tune=2000, random_seed=RANDOM_SEED)"
   ]
  },
  {
   "cell_type": "code",
   "execution_count": null,
   "metadata": {},
   "outputs": [],
   "source": [
    "az.summary(contextual_effect_trace, var_names=\"gamma\", round_to=2)"
   ]
  },
  {
   "cell_type": "markdown",
   "metadata": {},
   "source": [
    "So we might infer from this that counties with higher proportions of houses without basements tend to have higher baseline levels of radon. This seems to be new, as up to this point we saw that `floor` was *negatively* associated with radon levels. But remember this was at the household-level: radon tends to be higher in houses with basements. But at the county-level it seems that the less basements on average in the county, the more radon. So it's not that contradictory. What's more, the estimate for $\\gamma_2$ is quite uncertain and overlaps with zero, so it's possible that the relationship is not that strong. And finally, let's note that $\\gamma_2$ estimates something else than uranium's effect, as this is already taken into account by $\\gamma_1$ -- it answers the question \"once we know uranium level in the county, is there any value in learning about the proportion of houses without basements?\".\n",
    "\n",
    "All of this is to say that we shouldn't interpret this causally: there is no credible mechanism by which a basement (or absence thereof) *causes* radon emissions. More probably, our causal graph is missing something: a confounding variable, one that influences both basement construction and radon levels, is lurking somewhere in the dark... Perhaps is it the type of soil, which might influence what type of structures are built *and* the level of radon? Maybe adding this to our model would help with causal inference."
   ]
  },
  {
   "cell_type": "markdown",
   "metadata": {},
   "source": [
    "### Prediction\n",
    "\n",
    "{cite:t}`gelman2006multilevel` used cross-validation tests to check the prediction error of the unpooled, pooled, and partially-pooled models\n",
    "\n",
    "**root mean squared cross-validation prediction errors**:\n",
    "\n",
    "* unpooled = 0.86\n",
    "* pooled = 0.84\n",
    "* multilevel = 0.79\n",
    "\n",
    "There are two types of prediction that can be made in a multilevel model:\n",
    "\n",
    "1. a new individual within an existing group\n",
    "2. a new individual within a new group\n",
    "\n",
    "For example, if we wanted to make a prediction for a new house with no basement in St. Louis and Kanabec counties, we just need to sample from the radon model with the appropriate intercept."
   ]
  },
  {
   "cell_type": "markdown",
   "metadata": {},
   "source": [
    "That is, \n",
    "\n",
    "$$\\tilde{y}_i \\sim N(\\alpha_{69} + \\beta (x_i=1), \\sigma_y^2)$$\n",
    "\n",
    "Because we judiciously set the county index and floor values as shared variables earlier, we can modify them directly to the desired values (69 and 1 respectively) and sample corresponding posterior predictions, without having to redefine and recompile our model. Using the model just above:"
   ]
  },
  {
   "cell_type": "code",
   "execution_count": null,
   "metadata": {},
   "outputs": [],
   "source": [
    "prediction_coords = {\"obs_id\": [\"ST LOUIS\", \"KANABEC\"]}\n",
    "with contextual_effect:\n",
    "    pm.set_data({\"county_idx\": np.array([69, 31]), \"floor_idx\": np.array([1, 1]), \"y\": np.ones(2)})\n",
    "    stl_pred = pm.sample_posterior_predictive(contextual_effect_trace.posterior)\n",
    "\n",
    "contextual_effect_trace.extend(stl_pred)"
   ]
  },
  {
   "cell_type": "code",
   "execution_count": null,
   "metadata": {},
   "outputs": [],
   "source": [
    "az.plot_posterior(contextual_effect_trace, group=\"posterior_predictive\");"
   ]
  },
  {
   "cell_type": "markdown",
   "metadata": {},
   "source": [
    "## Benefits of Multilevel Models\n",
    "\n",
    "- Accounting for natural hierarchical structure of observational data.\n",
    "\n",
    "- Estimation of coefficients for (under-represented) groups.\n",
    "\n",
    "- Incorporating individual- and group-level information when estimating group-level coefficients.\n",
    "\n",
    "- Allowing for variation among individual-level coefficients across groups.\n",
    "\n",
    "As an alternative approach to hierarchical modeling for this problem, check out a [geospatial approach](https://www.pymc-labs.io/blog-posts/spatial-gaussian-process-01/) to modeling radon levels.\n",
    "\n",
    "## References\n",
    "\n",
    ":::{bibliography}\n",
    ":filter: docname in docnames\n",
    "\n",
    "mcelreath2018statistical\n",
    ":::"
   ]
  },
  {
   "cell_type": "markdown",
   "metadata": {},
   "source": [
    "## Authors\n",
    "\n",
    "* Authored by Chris Fonnesbeck in May, 2017 ([pymc#2124](https://github.com/pymc-devs/pymc/pull/2124))\n",
    "* Updated by Colin Carroll in June, 2018 ([pymc#3049](https://github.com/pymc-devs/pymc/pull/3049))\n",
    "* Updated by Alex Andorra in January, 2020 ([pymc#3765](https://github.com/pymc-devs/pymc/pull/3765))\n",
    "* Updated by Oriol Abril in June, 2020 ([pymc#3963](https://github.com/pymc-devs/pymc/pull/3963))\n",
    "* Updated by Farhan Reynaldo in November 2021 ([pymc-examples#246](https://github.com/pymc-devs/pymc-examples/pull/246))\n",
    "* Updated by Chris Fonnesbeck in Februry 2022 ([pymc-examples#285](https://github.com/pymc-devs/pymc-examples/pull/285))\n",
    "* Updated by Chris Fonnesbeck in November 2022 ([pymc-examples#468](https://github.com/pymc-devs/pymc-examples/pull/468))\n",
    "* Updated by Oriol Abril in November 2022 ([pymc-examples#473](https://github.com/pymc-devs/pymc-examples/pull/473))"
   ]
  },
  {
   "cell_type": "markdown",
   "metadata": {},
   "source": [
    "## Watermark"
   ]
  },
  {
   "cell_type": "code",
   "execution_count": null,
   "metadata": {},
   "outputs": [],
   "source": [
    "%load_ext watermark\n",
    "%watermark -n -u -v -iv -w"
   ]
  },
  {
   "cell_type": "markdown",
   "metadata": {},
   "source": [
    ":::{include} ../page_footer.md\n",
    ":::"
   ]
  },
  {
   "cell_type": "code",
   "execution_count": null,
   "metadata": {},
   "outputs": [],
   "source": []
  }
 ],
 "metadata": {
  "kernelspec": {
   "display_name": "Python 3 (ipykernel)",
   "language": "python",
   "name": "python3"
  },
  "language_info": {
   "codemirror_mode": {
    "name": "ipython",
    "version": 3
   },
   "file_extension": ".py",
   "mimetype": "text/x-python",
   "name": "python",
   "nbconvert_exporter": "python",
   "pygments_lexer": "ipython3",
   "version": "3.9.10"
  },
  "latex_envs": {
   "bibliofile": "biblio.bib",
   "cite_by": "apalike",
   "current_citInitial": 1,
   "eqLabelWithNumbers": true,
   "eqNumInitial": 0
  },
  "vscode": {
   "interpreter": {
    "hash": "ec56aa3190b0f648207ab494f94190fc435e6b5d8925a230ec5576711d28b38a"
   }
  }
 },
 "nbformat": 4,
 "nbformat_minor": 2
}
