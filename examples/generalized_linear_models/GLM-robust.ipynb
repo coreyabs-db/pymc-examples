{
 "cells": [
  {
   "cell_type": "markdown",
   "id": "49205efd",
   "metadata": {},
   "source": [
    "(GLM-robust)=\n",
    "# GLM: Robust Linear Regression\n",
    "\n",
    ":::{post} January 10, 2023\n",
    ":tags: regression, linear model, robust\n",
    ":category: beginner\n",
    ":author: Thomas Wiecki, Chris Fonnesbeck, Abhipsha Das, Conor Hassan, Igor Kuvychko, Reshama Shaikh, Oriol Abril Pla\n",
    ":::"
   ]
  },
  {
   "cell_type": "markdown",
   "id": "06c2678d",
   "metadata": {},
   "source": [
    "# GLM: Robust Linear Regression\n",
    "\n",
    "The tutorial is the second of a three-part series on Bayesian *generalized linear models (GLMs)*, that first appeared on [Thomas Wiecki's blog](https://twiecki.io/):\n",
    "\n",
    "  1. {ref}`Linear Regression <pymc:GLM_linear>`\n",
    "  2. {ref}`Robust Linear Regression <GLM-robust>`\n",
    "  3. {ref}`Hierarchical Linear Regression <GLM-hierarchical>`\n",
    "  \n",
    "In this blog post I will write about:\n",
    "\n",
    " - How a few outliers can largely affect the fit of linear regression models.\n",
    " - How replacing the normal likelihood with Student T distribution produces robust regression.\n",
    "\n",
    "In the {ref}`linear regression tutorial <pymc:GLM_linear>` I described how minimizing the squared distance of the regression line is the same as maximizing the likelihood of a Normal distribution with the mean coming from the regression line. This latter probabilistic expression allows us to easily formulate a Bayesian linear regression model.\n",
    "\n",
    "This worked splendidly on simulated data. The problem with simulated data though is that it's, well, simulated. In the real world things tend to get more messy and assumptions like normality are easily violated by a few outliers. \n",
    "\n",
    "Lets see what happens if we add some outliers to our simulated data from the last post."
   ]
  },
  {
   "cell_type": "markdown",
   "id": "8a7e7bd7",
   "metadata": {},
   "source": [
    "First, let's import our modules."
   ]
  },
  {
   "cell_type": "code",
   "execution_count": null,
   "id": "33d93af2",
   "metadata": {},
   "outputs": [],
   "source": [
    "%matplotlib inline\n",
    "\n",
    "import arviz as az\n",
    "import matplotlib.pyplot as plt\n",
    "import numpy as np\n",
    "import pandas as pd\n",
    "import pymc as pm\n",
    "import pytensor\n",
    "import pytensor.tensor as pt\n",
    "import xarray as xr"
   ]
  },
  {
   "cell_type": "code",
   "execution_count": null,
   "id": "c6efb067",
   "metadata": {},
   "outputs": [],
   "source": [
    "RANDOM_SEED = 8927\n",
    "rng = np.random.default_rng(RANDOM_SEED)\n",
    "%config InlineBackend.figure_format = 'retina'\n",
    "az.style.use(\"arviz-darkgrid\")"
   ]
  },
  {
   "cell_type": "markdown",
   "id": "87df168f",
   "metadata": {},
   "source": [
    "Create some toy data but also add some outliers."
   ]
  },
  {
   "cell_type": "code",
   "execution_count": null,
   "id": "23188f24",
   "metadata": {},
   "outputs": [],
   "source": [
    "size = 100\n",
    "true_intercept = 1\n",
    "true_slope = 2\n",
    "\n",
    "x = np.linspace(0, 1, size)\n",
    "# y = a + b*x\n",
    "true_regression_line = true_intercept + true_slope * x\n",
    "# add noise\n",
    "y = true_regression_line + rng.normal(scale=0.5, size=size)\n",
    "\n",
    "# Add outliers\n",
    "x_out = np.append(x, [0.1, 0.15, 0.2])\n",
    "y_out = np.append(y, [8, 6, 9])\n",
    "\n",
    "data = pd.DataFrame(dict(x=x_out, y=y_out))"
   ]
  },
  {
   "cell_type": "markdown",
   "id": "2ff56f93",
   "metadata": {},
   "source": [
    "Plot the data together with the true regression line (the three points in the upper left corner are the outliers we added)."
   ]
  },
  {
   "cell_type": "code",
   "execution_count": null,
   "id": "21e7220c",
   "metadata": {},
   "outputs": [],
   "source": [
    "fig = plt.figure(figsize=(7, 5))\n",
    "ax = fig.add_subplot(111, xlabel=\"x\", ylabel=\"y\", title=\"Generated data and underlying model\")\n",
    "ax.plot(x_out, y_out, \"x\", label=\"sampled data\")\n",
    "ax.plot(x, true_regression_line, label=\"true regression line\", lw=2.0)\n",
    "plt.legend(loc=0);"
   ]
  },
  {
   "cell_type": "markdown",
   "id": "95eb0915",
   "metadata": {},
   "source": [
    "## Robust Regression\n",
    "\n",
    "### Normal Likelihood\n",
    "\n",
    "Lets see what happens if we estimate our Bayesian linear regression model by fitting a regression model with a normal likelihood.\n",
    "Note that the bambi library provides an easy to use such that an equivalent model can be built using one line of code.\n",
    "A version of this same notebook using Bambi is available at {doc}`bambi's docs <bambi:notebooks/t_regression>`"
   ]
  },
  {
   "cell_type": "code",
   "execution_count": null,
   "id": "fe7a91af",
   "metadata": {},
   "outputs": [],
   "source": [
    "with pm.Model() as model:\n",
    "    xdata = pm.ConstantData(\"x\", x_out, dims=\"obs_id\")\n",
    "\n",
    "    # define priors\n",
    "    intercept = pm.Normal(\"intercept\", mu=0, sigma=1)\n",
    "    slope = pm.Normal(\"slope\", mu=0, sigma=1)\n",
    "    sigma = pm.HalfCauchy(\"sigma\", beta=10)\n",
    "\n",
    "    mu = pm.Deterministic(\"mu\", intercept + slope * xdata, dims=\"obs_id\")\n",
    "\n",
    "    # define likelihood\n",
    "    likelihood = pm.Normal(\"y\", mu=mu, sigma=sigma, observed=y_out, dims=\"obs_id\")\n",
    "\n",
    "    # inference\n",
    "    trace = pm.sample(tune=2000)"
   ]
  },
  {
   "cell_type": "markdown",
   "id": "614c71a1",
   "metadata": {},
   "source": [
    "To evaluate the fit, the code below calculates the posterior predictive regression lines by taking regression parameters from the posterior distribution and plots a regression line for 20 of them."
   ]
  },
  {
   "cell_type": "code",
   "execution_count": null,
   "id": "a29c8e3c",
   "metadata": {},
   "outputs": [],
   "source": [
    "post = az.extract(trace, num_samples=20)\n",
    "x_plot = xr.DataArray(np.linspace(x_out.min(), x_out.max(), 100), dims=\"plot_id\")\n",
    "lines = post[\"intercept\"] + post[\"slope\"] * x_plot\n",
    "\n",
    "plt.scatter(x_out, y_out, label=\"data\")\n",
    "plt.plot(x_plot, lines.transpose(), alpha=0.4, color=\"C1\")\n",
    "plt.plot(x, true_regression_line, label=\"True regression line\", lw=3.0, c=\"C2\")\n",
    "plt.legend(loc=0)\n",
    "plt.title(\"Posterior predictive for normal likelihood\");"
   ]
  },
  {
   "cell_type": "markdown",
   "id": "1fa82e3c",
   "metadata": {},
   "source": [
    "As you can see, the fit is quite skewed and we have a fair amount of uncertainty in our estimate as indicated by the wide range of different posterior predictive regression lines. Why is this? The reason is that the normal distribution does not have a lot of mass in the tails and consequently, an outlier will affect the fit strongly.\n",
    "\n",
    "A Frequentist would estimate a [Robust Regression](http://en.wikipedia.org/wiki/Robust_regression) and use a non-quadratic distance measure to evaluate the fit.\n",
    "\n",
    "But what's a Bayesian to do? Since the problem is the light tails of the Normal distribution we can instead assume that our data is not normally distributed but instead distributed according to the [Student T distribution](http://en.wikipedia.org/wiki/Student%27s_t-distribution) which has heavier tails as shown next {cite:p}`gelman2013bayesian,kruschke2014doing`.\n",
    "\n",
    "Lets look at those two distributions to get a feel for them."
   ]
  },
  {
   "cell_type": "code",
   "execution_count": null,
   "id": "285a756b",
   "metadata": {},
   "outputs": [],
   "source": [
    "normal_dist = pm.Normal.dist(mu=0, sigma=1)\n",
    "t_dist = pm.StudentT.dist(mu=0, lam=1, nu=1)\n",
    "x_eval = np.linspace(-8, 8, 300)\n",
    "plt.plot(x_eval, pm.math.exp(pm.logp(normal_dist, x_eval)).eval(), label=\"Normal\", lw=2.0)\n",
    "plt.plot(x_eval, pm.math.exp(pm.logp(t_dist, x_eval)).eval(), label=\"Student T\", lw=2.0)\n",
    "plt.xlabel(\"x\")\n",
    "plt.ylabel(\"Probability density\")\n",
    "plt.legend();"
   ]
  },
  {
   "cell_type": "markdown",
   "id": "33a11005",
   "metadata": {},
   "source": [
    "As you can see, the probability of values far away from the mean (0 in this case) are much more likely under the `T` distribution than under the Normal distribution.\n",
    "\n",
    "Below is a PyMC model, with the `likelihood` term following a `StudentT` distribution with $\\nu=3$ degrees of freedom, opposed to the `Normal` distribution."
   ]
  },
  {
   "cell_type": "code",
   "execution_count": null,
   "id": "60271a05",
   "metadata": {},
   "outputs": [],
   "source": [
    "with pm.Model() as robust_model:\n",
    "    xdata = pm.ConstantData(\"x\", x_out, dims=\"obs_id\")\n",
    "\n",
    "    # define priors\n",
    "    intercept = pm.Normal(\"intercept\", mu=0, sigma=1)\n",
    "    slope = pm.Normal(\"slope\", mu=0, sigma=1)\n",
    "    sigma = pm.HalfCauchy(\"sigma\", beta=10)\n",
    "\n",
    "    mu = pm.Deterministic(\"mu\", intercept + slope * xdata, dims=\"obs_id\")\n",
    "\n",
    "    # define likelihood\n",
    "    likelihood = pm.StudentT(\"y\", mu=mu, sigma=sigma, nu=3, observed=y_out, dims=\"obs_id\")\n",
    "\n",
    "    # inference\n",
    "    robust_trace = pm.sample(tune=4000)"
   ]
  },
  {
   "cell_type": "code",
   "execution_count": null,
   "id": "4109b14a",
   "metadata": {},
   "outputs": [],
   "source": [
    "robust_post = az.extract(robust_trace, num_samples=20)\n",
    "x_plot = xr.DataArray(np.linspace(x_out.min(), x_out.max(), 100), dims=\"plot_id\")\n",
    "robust_lines = robust_post[\"intercept\"] + robust_post[\"slope\"] * x_plot\n",
    "\n",
    "plt.scatter(x_out, y_out, label=\"data\")\n",
    "plt.plot(x_plot, robust_lines.transpose(), alpha=0.4, color=\"C1\")\n",
    "plt.plot(x, true_regression_line, label=\"True regression line\", lw=3.0, c=\"C2\")\n",
    "plt.legend(loc=0)\n",
    "plt.title(\"Posterior predictive for Student-T likelihood\")"
   ]
  },
  {
   "cell_type": "markdown",
   "id": "e59556cb",
   "metadata": {},
   "source": [
    "There, much better! The outliers are barely influencing our estimation at all because our likelihood function assumes that outliers are much more probable than under the Normal distribution."
   ]
  },
  {
   "cell_type": "markdown",
   "id": "cf8b17e2",
   "metadata": {},
   "source": [
    "## Summary\n",
    "\n",
    " - By changing the likelihood from a Normal distribution to a Student T distribution -- which has more mass in the tails -- we can perform *Robust Regression*.\n",
    "\n",
    "*Extensions*: \n",
    "\n",
    " - The Student-T distribution has, besides the mean and variance, a third parameter called *degrees of freedom* that describes how much mass should be put into the tails. Here it is set to 1 which gives maximum mass to the tails (setting this to infinity results in a Normal distribution!). One could easily place a prior on this rather than fixing it which I leave as an exercise for the reader ;).\n",
    " - T distributions can be used as priors as well. See {ref}`GLM-hierarchical`\n",
    " - How do we test if our data is normal or violates that assumption in an important way? Check out this great blog post, [Probably Overthinking It](http://allendowney.blogspot.com/2013/08/are-my-data-normal.html), by Allen Downey."
   ]
  },
  {
   "cell_type": "markdown",
   "id": "cc0e4b72",
   "metadata": {},
   "source": [
    "## Authors \n",
    "\n",
    "* Adapted from [Thomas Wiecki's](https://twitter.com/twiecki) blog\n",
    "* Updated by @fonnesbeck in September 2016 (pymc#1378)\n",
    "* Updated by @chiral-carbon in August 2021 (pymc-examples#205)\n",
    "* Updated by Conor Hassan, Igor Kuvychko, Reshama Shaikh and [Oriol Abril Pla](https://oriolabrilpla.cat/en/) in 2022\n",
    "* Rerun using PyMC v5, by Reshama Shaikh, January 2023"
   ]
  },
  {
   "cell_type": "markdown",
   "id": "e7a301f6",
   "metadata": {},
   "source": [
    "## References\n",
    "\n",
    ":::{bibliography}\n",
    ":filter: docname in docnames\n",
    ":::\n",
    "            \n",
    "## Watermark"
   ]
  },
  {
   "cell_type": "code",
   "execution_count": null,
   "id": "0cd36254",
   "metadata": {},
   "outputs": [],
   "source": [
    "%load_ext watermark\n",
    "%watermark -n -u -v -iv -w -p xarray"
   ]
  },
  {
   "cell_type": "markdown",
   "id": "466f6d1e",
   "metadata": {},
   "source": [
    ":::{include} ../page_footer.md\n",
    ":::"
   ]
  },
  {
   "cell_type": "code",
   "execution_count": null,
   "id": "0cbd5427",
   "metadata": {},
   "outputs": [],
   "source": []
  }
 ],
 "metadata": {
  "kernelspec": {
   "display_name": "Python 3 (ipykernel)",
   "language": "python",
   "name": "python3"
  },
  "language_info": {
   "codemirror_mode": {
    "name": "ipython",
    "version": 3
   },
   "file_extension": ".py",
   "mimetype": "text/x-python",
   "name": "python",
   "nbconvert_exporter": "python",
   "pygments_lexer": "ipython3",
   "version": "3.11.0"
  }
 },
 "nbformat": 4,
 "nbformat_minor": 5
}
