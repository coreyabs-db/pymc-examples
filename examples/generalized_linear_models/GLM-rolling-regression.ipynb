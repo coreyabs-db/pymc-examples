{
 "cells": [
  {
   "cell_type": "markdown",
   "metadata": {},
   "source": [
    "(GLM-rolling-regression)=\n",
    "# Rolling Regression\n",
    "\n",
    ":::{post} Jan 28, 2023\n",
    ":tags: generalized linear model, regression \n",
    ":category: intermediate\n",
    ":author: Thomas Wiecki\n",
    ":::"
   ]
  },
  {
   "cell_type": "markdown",
   "metadata": {},
   "source": [
    "* [Pairs trading](https://en.wikipedia.org/wiki/Pairs_trade?oldformat=true) is a famous technique in algorithmic trading that plays two stocks against each other.\n",
    "* For this to work, stocks must be correlated (cointegrated).\n",
    "* One common example is the price of gold (GLD) and the price of gold mining operations (GFI)."
   ]
  },
  {
   "cell_type": "code",
   "execution_count": null,
   "metadata": {},
   "outputs": [],
   "source": [
    "import os\n",
    "import warnings\n",
    "\n",
    "import arviz as az\n",
    "import matplotlib.pyplot as plt\n",
    "import matplotlib.ticker as mticker\n",
    "import numpy as np\n",
    "import pandas as pd\n",
    "import pymc as pm\n",
    "import xarray as xr\n",
    "\n",
    "from matplotlib import MatplotlibDeprecationWarning\n",
    "\n",
    "warnings.filterwarnings(action=\"ignore\", category=MatplotlibDeprecationWarning)"
   ]
  },
  {
   "cell_type": "code",
   "execution_count": null,
   "metadata": {},
   "outputs": [],
   "source": [
    "RANDOM_SEED = 8927\n",
    "rng = np.random.default_rng(RANDOM_SEED)\n",
    "%config InlineBackend.figure_format = 'retina'\n",
    "az.style.use(\"arviz-darkgrid\")"
   ]
  },
  {
   "cell_type": "markdown",
   "metadata": {},
   "source": [
    "Lets load the prices of GFI and GLD."
   ]
  },
  {
   "cell_type": "code",
   "execution_count": null,
   "metadata": {},
   "outputs": [],
   "source": [
    "# from pandas_datareader import data\n",
    "# prices = data.GoogleDailyReader(symbols=['GLD', 'GFI'], end='2014-8-1').read().loc['Open', :, :]\n",
    "try:\n",
    "    prices = pd.read_csv(os.path.join(\"..\", \"data\", \"stock_prices.csv\")).dropna()\n",
    "except FileNotFoundError:\n",
    "    prices = pd.read_csv(pm.get_data(\"stock_prices.csv\")).dropna()\n",
    "\n",
    "prices[\"Date\"] = pd.DatetimeIndex(prices[\"Date\"])\n",
    "prices = prices.set_index(\"Date\")\n",
    "prices_zscored = (prices - prices.mean()) / prices.std()\n",
    "prices.head()"
   ]
  },
  {
   "cell_type": "markdown",
   "metadata": {},
   "source": [
    "Plotting the prices over time suggests a strong correlation. However, the correlation seems to change over time."
   ]
  },
  {
   "cell_type": "code",
   "execution_count": null,
   "metadata": {},
   "outputs": [],
   "source": [
    "fig = plt.figure(figsize=(9, 6))\n",
    "ax = fig.add_subplot(111, xlabel=r\"Price GFI in \\$\", ylabel=r\"Price GLD in \\$\")\n",
    "colors = np.linspace(0, 1, len(prices))\n",
    "mymap = plt.get_cmap(\"viridis\")\n",
    "sc = ax.scatter(prices.GFI, prices.GLD, c=colors, cmap=mymap, lw=0)\n",
    "ticks = colors[:: len(prices) // 10]\n",
    "ticklabels = [str(p.date()) for p in prices[:: len(prices) // 10].index]\n",
    "cb = plt.colorbar(sc, ticks=ticks)\n",
    "cb.ax.set_yticklabels(ticklabels);"
   ]
  },
  {
   "cell_type": "markdown",
   "metadata": {},
   "source": [
    "A naive approach would be to estimate a linear model and ignore the time domain."
   ]
  },
  {
   "cell_type": "code",
   "execution_count": null,
   "metadata": {},
   "outputs": [],
   "source": [
    "with pm.Model() as model:  # model specifications in PyMC are wrapped in a with-statement\n",
    "    # Define priors\n",
    "    sigma = pm.HalfCauchy(\"sigma\", beta=10)\n",
    "    alpha = pm.Normal(\"alpha\", mu=0, sigma=20)\n",
    "    beta = pm.Normal(\"beta\", mu=0, sigma=20)\n",
    "\n",
    "    mu = pm.Deterministic(\"mu\", alpha + beta * prices_zscored.GFI.to_numpy())\n",
    "\n",
    "    # Define likelihood\n",
    "    likelihood = pm.Normal(\"y\", mu=mu, sigma=sigma, observed=prices_zscored.GLD.to_numpy())\n",
    "\n",
    "    # Inference\n",
    "    trace_reg = pm.sample(tune=2000)"
   ]
  },
  {
   "cell_type": "markdown",
   "metadata": {},
   "source": [
    "The posterior predictive plot shows how bad the fit is."
   ]
  },
  {
   "cell_type": "code",
   "execution_count": null,
   "metadata": {},
   "outputs": [],
   "source": [
    "fig = plt.figure(figsize=(9, 6))\n",
    "ax = fig.add_subplot(\n",
    "    111,\n",
    "    xlabel=r\"Price GFI in \\$\",\n",
    "    ylabel=r\"Price GLD in \\$\",\n",
    "    title=\"Posterior predictive regression lines\",\n",
    ")\n",
    "sc = ax.scatter(prices_zscored.GFI, prices_zscored.GLD, c=colors, cmap=mymap, lw=0)\n",
    "\n",
    "xi = xr.DataArray(prices_zscored.GFI.values)\n",
    "az.plot_hdi(\n",
    "    xi,\n",
    "    trace_reg.posterior.mu,\n",
    "    color=\"k\",\n",
    "    hdi_prob=0.95,\n",
    "    ax=ax,\n",
    "    fill_kwargs={\"alpha\": 0.25},\n",
    "    smooth=False,\n",
    ")\n",
    "az.plot_hdi(\n",
    "    xi,\n",
    "    trace_reg.posterior.mu,\n",
    "    color=\"k\",\n",
    "    hdi_prob=0.5,\n",
    "    ax=ax,\n",
    "    fill_kwargs={\"alpha\": 0.25},\n",
    "    smooth=False,\n",
    ")\n",
    "\n",
    "cb = plt.colorbar(sc, ticks=ticks)\n",
    "cb.ax.set_yticklabels(ticklabels);"
   ]
  },
  {
   "cell_type": "markdown",
   "metadata": {},
   "source": [
    "## Rolling regression\n",
    "\n",
    "Next, we will build an improved model that will allow for changes in the regression coefficients over time. Specifically, we will assume that intercept and slope follow a random-walk through time. That idea is similar to the {doc}`case_studies/stochastic_volatility`.\n",
    "\n",
    "$$ \\alpha_t \\sim \\mathcal{N}(\\alpha_{t-1}, \\sigma_\\alpha^2) $$\n",
    "$$ \\beta_t \\sim \\mathcal{N}(\\beta_{t-1}, \\sigma_\\beta^2) $$"
   ]
  },
  {
   "cell_type": "markdown",
   "metadata": {},
   "source": [
    "First, lets define the hyper-priors for $\\sigma_\\alpha^2$ and $\\sigma_\\beta^2$. This parameter can be interpreted as the volatility in the regression coefficients."
   ]
  },
  {
   "cell_type": "code",
   "execution_count": null,
   "metadata": {},
   "outputs": [],
   "source": [
    "with pm.Model(coords={\"time\": prices.index.values}) as model_randomwalk:\n",
    "    # std of random walk\n",
    "    sigma_alpha = pm.Exponential(\"sigma_alpha\", 50.0)\n",
    "    sigma_beta = pm.Exponential(\"sigma_beta\", 50.0)\n",
    "\n",
    "    alpha = pm.GaussianRandomWalk(\n",
    "        \"alpha\", sigma=sigma_alpha, init_dist=pm.Normal.dist(0, 10), dims=\"time\"\n",
    "    )\n",
    "    beta = pm.GaussianRandomWalk(\n",
    "        \"beta\", sigma=sigma_beta, init_dist=pm.Normal.dist(0, 10), dims=\"time\"\n",
    "    )"
   ]
  },
  {
   "cell_type": "markdown",
   "metadata": {},
   "source": [
    "Perform the regression given coefficients and data and link to the data via the likelihood."
   ]
  },
  {
   "cell_type": "code",
   "execution_count": null,
   "metadata": {},
   "outputs": [],
   "source": [
    "with model_randomwalk:\n",
    "    # Define regression\n",
    "    regression = alpha + beta * prices_zscored.GFI.values\n",
    "\n",
    "    # Assume prices are Normally distributed, the mean comes from the regression.\n",
    "    sd = pm.HalfNormal(\"sd\", sigma=0.1)\n",
    "    likelihood = pm.Normal(\"y\", mu=regression, sigma=sd, observed=prices_zscored.GLD.to_numpy())"
   ]
  },
  {
   "cell_type": "markdown",
   "metadata": {},
   "source": [
    "Inference. Despite this being quite a complex model, NUTS handles it wells."
   ]
  },
  {
   "cell_type": "code",
   "execution_count": null,
   "metadata": {},
   "outputs": [],
   "source": [
    "with model_randomwalk:\n",
    "    trace_rw = pm.sample(tune=2000, target_accept=0.9)"
   ]
  },
  {
   "cell_type": "markdown",
   "metadata": {},
   "source": [
    "Increasing the tree-depth does indeed help but it makes sampling very slow. The results look identical with this run, however."
   ]
  },
  {
   "cell_type": "markdown",
   "metadata": {},
   "source": [
    "## Analysis of results"
   ]
  },
  {
   "cell_type": "markdown",
   "metadata": {},
   "source": [
    "As can be seen below, $\\alpha$, the intercept, changes over time."
   ]
  },
  {
   "cell_type": "code",
   "execution_count": null,
   "metadata": {},
   "outputs": [],
   "source": [
    "fig = plt.figure(figsize=(8, 6), constrained_layout=False)\n",
    "ax = plt.subplot(111, xlabel=\"time\", ylabel=\"alpha\", title=\"Change of alpha over time.\")\n",
    "ax.plot(az.extract(trace_rw, var_names=\"alpha\"), \"r\", alpha=0.05)\n",
    "\n",
    "ticks_changes = mticker.FixedLocator(ax.get_xticks().tolist())\n",
    "ticklabels_changes = [str(p.date()) for p in prices[:: len(prices) // 7].index]\n",
    "ax.xaxis.set_major_locator(ticks_changes)\n",
    "ax.set_xticklabels(ticklabels_changes)\n",
    "\n",
    "fig.autofmt_xdate()"
   ]
  },
  {
   "cell_type": "markdown",
   "metadata": {},
   "source": [
    "As does the slope."
   ]
  },
  {
   "cell_type": "code",
   "execution_count": null,
   "metadata": {},
   "outputs": [],
   "source": [
    "fig = plt.figure(figsize=(8, 6), constrained_layout=False)\n",
    "ax = fig.add_subplot(111, xlabel=\"time\", ylabel=\"beta\", title=\"Change of beta over time\")\n",
    "ax.plot(az.extract(trace_rw, var_names=\"beta\"), \"b\", alpha=0.05)\n",
    "\n",
    "ax.xaxis.set_major_locator(ticks_changes)\n",
    "ax.set_xticklabels(ticklabels_changes)\n",
    "\n",
    "fig.autofmt_xdate()"
   ]
  },
  {
   "cell_type": "markdown",
   "metadata": {},
   "source": [
    "The posterior predictive plot shows that we capture the change in regression over time much better. Note that we should have used returns instead of prices. The model would still work the same, but the visualisations would not be quite as clear."
   ]
  },
  {
   "cell_type": "code",
   "execution_count": null,
   "metadata": {},
   "outputs": [],
   "source": [
    "fig = plt.figure(figsize=(8, 6))\n",
    "ax = fig.add_subplot(\n",
    "    111,\n",
    "    xlabel=r\"Price GFI in \\$\",\n",
    "    ylabel=r\"Price GLD in \\$\",\n",
    "    title=\"Posterior predictive regression lines\",\n",
    ")\n",
    "\n",
    "colors = np.linspace(0, 1, len(prices))\n",
    "colors_sc = np.linspace(0, 1, len(prices.index.values[::50]))\n",
    "\n",
    "xi = xr.DataArray(np.linspace(prices_zscored.GFI.min(), prices_zscored.GFI.max(), 50))\n",
    "\n",
    "for i, time in enumerate(prices.index.values[::50]):\n",
    "    sel_trace = az.extract(trace_rw).sel(time=time)\n",
    "    regression_line = sel_trace[\"alpha\"] + sel_trace[\"beta\"] * xi\n",
    "    ax.plot(\n",
    "        xi,\n",
    "        regression_line.T[:, 0::200],\n",
    "        color=mymap(colors_sc[i]),\n",
    "        alpha=0.1,\n",
    "        zorder=10,\n",
    "        linewidth=3,\n",
    "    )\n",
    "\n",
    "sc = ax.scatter(\n",
    "    prices_zscored.GFI, prices_zscored.GLD, label=\"data\", cmap=mymap, c=colors, zorder=11\n",
    ")\n",
    "\n",
    "cb = plt.colorbar(sc, ticks=ticks)\n",
    "cb.ax.set_yticklabels(ticklabels);"
   ]
  },
  {
   "attachments": {},
   "cell_type": "markdown",
   "metadata": {},
   "source": [
    "## Authors\n",
    "\n",
    "- Created by [Thomas Wiecki](https://github.com/twiecki/)\n",
    "- Updated by [Benjamin T. Vincent](https://github.com/drbenvincent) June 2022\n",
    "- Run PyMC v5 by Reshama Shaikh, January 2023\n",
    "- Updated to use `az.extract` by [Benjamin T. Vincent](https://github.com/drbenvincent) in February 2023 ([pymc-examples#522](https://github.com/pymc-devs/pymc-examples/pull/522))"
   ]
  },
  {
   "cell_type": "markdown",
   "metadata": {},
   "source": [
    "## Watermark"
   ]
  },
  {
   "cell_type": "code",
   "execution_count": null,
   "metadata": {},
   "outputs": [],
   "source": [
    "%load_ext watermark\n",
    "%watermark -n -u -v -iv -w -p pytensor,aeppl,xarray"
   ]
  },
  {
   "cell_type": "markdown",
   "metadata": {},
   "source": [
    ":::{include} ../page_footer.md\n",
    ":::"
   ]
  }
 ],
 "metadata": {
  "kernelspec": {
   "display_name": "pymc_env",
   "language": "python",
   "name": "python3"
  },
  "language_info": {
   "codemirror_mode": {
    "name": "ipython",
    "version": 3
   },
   "file_extension": ".py",
   "mimetype": "text/x-python",
   "name": "python",
   "nbconvert_exporter": "python",
   "pygments_lexer": "ipython3",
   "version": "3.10.9"
  },
  "vscode": {
   "interpreter": {
    "hash": "087adf61916f8b9a562e3919cc7201fe0599d07c87f54bc57443476208d67f09"
   }
  }
 },
 "nbformat": 4,
 "nbformat_minor": 4
}
