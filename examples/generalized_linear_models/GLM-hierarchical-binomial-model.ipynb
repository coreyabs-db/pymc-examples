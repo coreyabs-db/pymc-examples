{
 "cells": [
  {
   "cell_type": "markdown",
   "metadata": {},
   "source": [
    "# Hierarchical Binomial Model: Rat Tumor Example\n",
    ":::{post} Jan 10, 2023\n",
    ":tags: generalized linear model, hierarchical model \n",
    ":category: intermediate\n",
    ":author: Demetri Pananos, Junpeng Lao, Raúl Maldonado, Farhan Reynaldo\n",
    ":::"
   ]
  },
  {
   "cell_type": "code",
   "execution_count": null,
   "metadata": {},
   "outputs": [],
   "source": [
    "import arviz as az\n",
    "import matplotlib.pyplot as plt\n",
    "import numpy as np\n",
    "import pandas as pd\n",
    "import pymc as pm\n",
    "import pytensor.tensor as pt\n",
    "\n",
    "from scipy.special import gammaln"
   ]
  },
  {
   "cell_type": "code",
   "execution_count": null,
   "metadata": {},
   "outputs": [],
   "source": [
    "%config InlineBackend.figure_format = 'retina'\n",
    "az.style.use(\"arviz-darkgrid\")"
   ]
  },
  {
   "cell_type": "markdown",
   "metadata": {},
   "source": [
    "This short tutorial demonstrates how to use PyMC to do inference for the rat tumour example found in chapter 5 of *Bayesian Data Analysis 3rd Edition* {cite:p}`gelman2013bayesian`. Readers should already be familiar with the PyMC API.\n",
    "\n",
    "Suppose we are interested in the probability that a lab rat develops endometrial stromal polyps. We have data from 71 previously performed trials and would like to use this data to perform inference.\n",
    "\n",
    "The authors of BDA3 choose to model this problem hierarchically. Let $y_i$ be the number of lab rats which develop endometrial stromal polyps out of a possible $n_i$. We model the number rodents which develop endometrial stromal polyps as binomial\n",
    "\n",
    "$$ y_i \\sim \\operatorname{Bin}(\\theta_i;n_i)$$\n",
    "\n",
    "allowing the probability of developing an endometrial stromal polyp (i.e. $\\theta_i$) to be drawn from some population distribution. For analytical tractability, we assume that $\\theta_i$ has Beta distribution\n",
    "\n",
    "$$ \\theta_i \\sim \\operatorname{Beta}(\\alpha, \\beta)$$\n",
    "\n",
    "We are free to specify a prior distribution for $\\alpha, \\beta$. We choose a weakly informative prior distribution to reflect our ignorance about the true values of $\\alpha, \\beta$. The authors of BDA3 choose the joint hyperprior for $\\alpha, \\beta$ to be\n",
    "\n",
    "$$ p(\\alpha, \\beta) \\propto (\\alpha + \\beta) ^{-5/2}$$\n",
    "\n",
    "For more information, please see *Bayesian Data Analysis 3rd Edition* pg. 110."
   ]
  },
  {
   "cell_type": "markdown",
   "metadata": {},
   "source": [
    "## A Directly Computed Solution\n",
    "\n",
    "Our joint posterior distribution is\n",
    "\n",
    "$$p(\\alpha,\\beta,\\theta \\lvert y) \n",
    "\\propto \n",
    "p(\\alpha, \\beta) \n",
    "p(\\theta \\lvert \\alpha,\\beta)\n",
    "p(y \\lvert \\theta)$$\n",
    "\n",
    "which can be rewritten in such a way so as to obtain the marginal posterior distribution for $\\alpha$ and $\\beta$, namely\n",
    "\n",
    "$$ p(\\alpha, \\beta, \\lvert y) = \n",
    "p(\\alpha, \\beta) \n",
    "\\prod_{i = 1}^{N} \\dfrac{\\Gamma(\\alpha+\\beta)}{\\Gamma(\\alpha)\\Gamma(\\beta)}\n",
    "\\dfrac{\\Gamma(\\alpha+y_i)\\Gamma(\\beta+n_i - y_i)}{\\Gamma(\\alpha+\\beta+n_i)}$$\n",
    "\n",
    "\n",
    "See BDA3 pg. 110 for a more information on the deriving the marginal posterior distribution. With a little determination, we can plot the marginal posterior and estimate the means of $\\alpha$ and $\\beta$ without having to resort to MCMC. We will see, however, that this requires considerable effort.\n",
    "\n",
    "The authors of BDA3 choose to plot the surface under the parameterization $(\\log(\\alpha/\\beta), \\log(\\alpha+\\beta))$.  We do so as well. Through the remainder of the example let $x = \\log(\\alpha/\\beta)$ and $z = \\log(\\alpha+\\beta)$."
   ]
  },
  {
   "cell_type": "code",
   "execution_count": null,
   "metadata": {},
   "outputs": [],
   "source": [
    "# rat data (BDA3, p. 102)\n",
    "# fmt: off\n",
    "y = np.array([\n",
    "    0,  0,  0,  0,  0,  0,  0,  0,  0,  0,  0,  0,  0,  0,  1,  1,  1,\n",
    "    1,  1,  1,  1,  1,  2,  2,  2,  2,  2,  2,  2,  2,  2,  1,  5,  2,\n",
    "    5,  3,  2,  7,  7,  3,  3,  2,  9, 10,  4,  4,  4,  4,  4,  4,  4,\n",
    "    10,  4,  4,  4,  5, 11, 12,  5,  5,  6,  5,  6,  6,  6,  6, 16, 15,\n",
    "    15,  9,  4\n",
    "])\n",
    "n = np.array([\n",
    "    20, 20, 20, 20, 20, 20, 20, 19, 19, 19, 19, 18, 18, 17, 20, 20, 20,\n",
    "    20, 19, 19, 18, 18, 25, 24, 23, 20, 20, 20, 20, 20, 20, 10, 49, 19,\n",
    "    46, 27, 17, 49, 47, 20, 20, 13, 48, 50, 20, 20, 20, 20, 20, 20, 20,\n",
    "    48, 19, 19, 19, 22, 46, 49, 20, 20, 23, 19, 22, 20, 20, 20, 52, 46,\n",
    "    47, 24, 14\n",
    "])\n",
    "# fmt: on\n",
    "\n",
    "N = len(n)"
   ]
  },
  {
   "cell_type": "code",
   "execution_count": null,
   "metadata": {},
   "outputs": [],
   "source": [
    "# Compute on log scale because products turn to sums\n",
    "def log_likelihood(alpha, beta, y, n):\n",
    "    LL = 0\n",
    "\n",
    "    # Summing over data\n",
    "    for Y, N in zip(y, n):\n",
    "        LL += (\n",
    "            gammaln(alpha + beta)\n",
    "            - gammaln(alpha)\n",
    "            - gammaln(beta)\n",
    "            + gammaln(alpha + Y)\n",
    "            + gammaln(beta + N - Y)\n",
    "            - gammaln(alpha + beta + N)\n",
    "        )\n",
    "\n",
    "    return LL\n",
    "\n",
    "\n",
    "def log_prior(A, B):\n",
    "    return -5 / 2 * np.log(A + B)\n",
    "\n",
    "\n",
    "def trans_to_beta(x, y):\n",
    "    return np.exp(y) / (np.exp(x) + 1)\n",
    "\n",
    "\n",
    "def trans_to_alpha(x, y):\n",
    "    return np.exp(x) * trans_to_beta(x, y)\n",
    "\n",
    "\n",
    "# Create space for the parameterization in which we wish to plot\n",
    "X, Z = np.meshgrid(np.arange(-2.3, -1.3, 0.01), np.arange(1, 5, 0.01))\n",
    "param_space = np.c_[X.ravel(), Z.ravel()]\n",
    "df = pd.DataFrame(param_space, columns=[\"X\", \"Z\"])\n",
    "\n",
    "# Transform the space back to alpha beta to compute the log-posterior\n",
    "df[\"alpha\"] = trans_to_alpha(df.X, df.Z)\n",
    "df[\"beta\"] = trans_to_beta(df.X, df.Z)\n",
    "\n",
    "df[\"log_posterior\"] = log_prior(df.alpha, df.beta) + log_likelihood(df.alpha, df.beta, y, n)\n",
    "df[\"log_jacobian\"] = np.log(df.alpha) + np.log(df.beta)\n",
    "\n",
    "df[\"transformed\"] = df.log_posterior + df.log_jacobian\n",
    "df[\"exp_trans\"] = np.exp(df.transformed - df.transformed.max())\n",
    "\n",
    "# This will ensure the density is normalized\n",
    "df[\"normed_exp_trans\"] = df.exp_trans / df.exp_trans.sum()\n",
    "\n",
    "\n",
    "surface = df.set_index([\"X\", \"Z\"]).exp_trans.unstack().values.T"
   ]
  },
  {
   "cell_type": "code",
   "execution_count": null,
   "metadata": {},
   "outputs": [],
   "source": [
    "fig, ax = plt.subplots(figsize=(8, 8))\n",
    "ax.contourf(X, Z, surface)\n",
    "ax.set_xlabel(r\"$\\log(\\alpha/\\beta)$\", fontsize=16)\n",
    "ax.set_ylabel(r\"$\\log(\\alpha+\\beta)$\", fontsize=16)\n",
    "\n",
    "ix_z, ix_x = np.unravel_index(np.argmax(surface, axis=None), surface.shape)\n",
    "ax.scatter([X[0, ix_x]], [Z[ix_z, 0]], color=\"red\")\n",
    "\n",
    "text = r\"$({a},{b})$\".format(a=np.round(X[0, ix_x], 2), b=np.round(Z[ix_z, 0], 2))\n",
    "\n",
    "ax.annotate(\n",
    "    text,\n",
    "    xy=(X[0, ix_x], Z[ix_z, 0]),\n",
    "    xytext=(-1.6, 3.5),\n",
    "    ha=\"center\",\n",
    "    fontsize=16,\n",
    "    color=\"white\",\n",
    "    arrowprops={\"facecolor\": \"white\"},\n",
    ");"
   ]
  },
  {
   "cell_type": "markdown",
   "metadata": {},
   "source": [
    "The plot shows that the posterior is roughly symmetric about the mode (-1.79, 2.74). This corresponds to $\\alpha = 2.21$ and $\\beta = 13.27$. We can compute the marginal means as the authors of BDA3 do, using\n",
    "\n",
    "$$ \\operatorname{E}(\\alpha \\lvert y) \\text{   is estimated by   }\n",
    "\\sum_{x,z} \\alpha p(x,z\\lvert y) $$\n",
    "\n",
    "$$ \\operatorname{E}(\\beta \\lvert y) \\text{   is estimated by   }\n",
    "\\sum_{x,z} \\beta p(x,z\\lvert y) $$"
   ]
  },
  {
   "cell_type": "code",
   "execution_count": null,
   "metadata": {},
   "outputs": [],
   "source": [
    "# Estimated mean of alpha\n",
    "(df.alpha * df.normed_exp_trans).sum().round(3)"
   ]
  },
  {
   "cell_type": "code",
   "execution_count": null,
   "metadata": {},
   "outputs": [],
   "source": [
    "# Estimated mean of beta\n",
    "(df.beta * df.normed_exp_trans).sum().round(3)"
   ]
  },
  {
   "cell_type": "markdown",
   "metadata": {},
   "source": [
    "## Computing the Posterior using PyMC\n",
    "\n",
    "Computing the marginal posterior directly is a lot of work, and is not always possible for sufficiently complex models. \n",
    "\n",
    "On the other hand, creating hierarchical models in PyMC is simple.  We can use the samples obtained from the posterior to estimate the means of $\\alpha$ and $\\beta$."
   ]
  },
  {
   "cell_type": "code",
   "execution_count": null,
   "metadata": {},
   "outputs": [],
   "source": [
    "coords = {\n",
    "    \"obs_id\": np.arange(N),\n",
    "    \"param\": [\"alpha\", \"beta\"],\n",
    "}"
   ]
  },
  {
   "cell_type": "code",
   "execution_count": null,
   "metadata": {},
   "outputs": [],
   "source": [
    "def logp_ab(value):\n",
    "    \"\"\"prior density\"\"\"\n",
    "    return pt.log(pt.pow(pt.sum(value), -5 / 2))\n",
    "\n",
    "\n",
    "with pm.Model(coords=coords) as model:\n",
    "    # Uninformative prior for alpha and beta\n",
    "    n_val = pm.ConstantData(\"n_val\", n)\n",
    "    ab = pm.HalfNormal(\"ab\", sigma=10, dims=\"param\")\n",
    "    pm.Potential(\"p(a, b)\", logp_ab(ab))\n",
    "\n",
    "    X = pm.Deterministic(\"X\", pt.log(ab[0] / ab[1]))\n",
    "    Z = pm.Deterministic(\"Z\", pt.log(pt.sum(ab)))\n",
    "\n",
    "    theta = pm.Beta(\"theta\", alpha=ab[0], beta=ab[1], dims=\"obs_id\")\n",
    "\n",
    "    p = pm.Binomial(\"y\", p=theta, observed=y, n=n_val)\n",
    "    trace = pm.sample(draws=2000, tune=2000, target_accept=0.95)"
   ]
  },
  {
   "cell_type": "code",
   "execution_count": null,
   "metadata": {},
   "outputs": [],
   "source": [
    "# Check the trace. Looks good!\n",
    "az.plot_trace(trace, var_names=[\"ab\", \"X\", \"Z\"], compact=False);"
   ]
  },
  {
   "cell_type": "markdown",
   "metadata": {},
   "source": [
    "We can plot a kernel density estimate for $x$ and $y$. It looks rather similar to our contour plot made from the analytic marginal posterior density.  That's a good sign, and required far less effort."
   ]
  },
  {
   "cell_type": "code",
   "execution_count": null,
   "metadata": {},
   "outputs": [],
   "source": [
    "az.plot_pair(trace, var_names=[\"X\", \"Z\"], kind=\"kde\");"
   ]
  },
  {
   "cell_type": "markdown",
   "metadata": {},
   "source": [
    "From here, we could use the trace to compute the mean of the distribution."
   ]
  },
  {
   "cell_type": "code",
   "execution_count": null,
   "metadata": {},
   "outputs": [],
   "source": [
    "az.plot_posterior(trace, var_names=[\"ab\"]);"
   ]
  },
  {
   "cell_type": "code",
   "execution_count": null,
   "metadata": {},
   "outputs": [],
   "source": [
    "# estimate the means from the samples\n",
    "trace.posterior[\"ab\"].mean((\"chain\", \"draw\"))"
   ]
  },
  {
   "cell_type": "markdown",
   "metadata": {},
   "source": [
    "## Conclusion\n",
    "\n",
    "Analytically calculating statistics for posterior distributions is difficult if not impossible for some models.  PyMC provides an easy way drawing samples from your model's posterior with only a few lines of code.  Here, we used PyMC to obtain estimates of the posterior mean for the rat tumor example in chapter 5 of BDA3. The estimates obtained from PyMC are encouragingly close to the estimates obtained from the analytical posterior density."
   ]
  },
  {
   "cell_type": "markdown",
   "metadata": {},
   "source": [
    "## References\n",
    "\n",
    ":::{bibliography}\n",
    ":filter: docname in docnames\n",
    ":::"
   ]
  },
  {
   "cell_type": "markdown",
   "metadata": {},
   "source": [
    "## Authors\n",
    "\n",
    "* Adapted from chapter 5 of Bayesian Data Analysis 3rd Edition {cite:p}`gelman2013bayesian` by Demetri Pananos and Junpeng Lao ([pymc#3054](https://github.com/pymc-devs/pymc/pull/3054))\n",
    "* Updated and reexecuted by Raúl Maldonado ([pymc-examples#24](https://github.com/pymc-devs/pymc-examples/pull/24), [pymc-examples#45](https://github.com/pymc-devs/pymc-examples/pull/45) and [pymc-examples#147](https://github.com/pymc-devs/pymc-examples/pull/147))\n",
    "* Updated and reexecuted by Farhan Reynaldo in November 2021 ([pymc-examples#248](https://github.com/pymc-devs/pymc-examples/pull/248))\n",
    "* Rerun with PyMC v5, by Reshama Shaikh, January 2023"
   ]
  },
  {
   "cell_type": "markdown",
   "metadata": {},
   "source": [
    "## Watermark"
   ]
  },
  {
   "cell_type": "code",
   "execution_count": null,
   "metadata": {},
   "outputs": [],
   "source": [
    "%load_ext watermark\n",
    "%watermark -n -u -v -iv -w"
   ]
  },
  {
   "cell_type": "markdown",
   "metadata": {},
   "source": [
    ":::{include} ../page_footer.md\n",
    ":::"
   ]
  }
 ],
 "metadata": {
  "interpreter": {
   "hash": "d4ca51fc2fdee62b1a00ff5126f64ae66836e25d3ba6f45d8551026256283997"
  },
  "kernelspec": {
   "display_name": "Python 3 (ipykernel)",
   "language": "python",
   "name": "python3"
  },
  "language_info": {
   "codemirror_mode": {
    "name": "ipython",
    "version": 3
   },
   "file_extension": ".py",
   "mimetype": "text/x-python",
   "name": "python",
   "nbconvert_exporter": "python",
   "pygments_lexer": "ipython3",
   "version": "3.11.0"
  }
 },
 "nbformat": 4,
 "nbformat_minor": 4
}
