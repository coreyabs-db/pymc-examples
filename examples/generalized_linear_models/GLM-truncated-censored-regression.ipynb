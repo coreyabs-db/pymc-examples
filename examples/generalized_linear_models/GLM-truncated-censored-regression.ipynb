{
 "cells": [
  {
   "cell_type": "markdown",
   "metadata": {},
   "source": [
    "(GLM-truncated-censored-regression)=\n",
    "# Bayesian regression with truncated or censored data\n",
    "\n",
    ":::{post} September, 2022\n",
    ":tags: censored, generalized linear model, regression, truncated \n",
    ":category: beginner\n",
    ":author: Benjamin T. Vincent\n",
    ":::\n",
    "\n",
    "The notebook provides an example of how to conduct linear regression when your outcome variable is either censored or truncated."
   ]
  },
  {
   "cell_type": "code",
   "execution_count": null,
   "metadata": {
    "tags": []
   },
   "outputs": [],
   "source": [
    "from copy import copy\n",
    "\n",
    "import arviz as az\n",
    "import matplotlib.pyplot as plt\n",
    "import numpy as np\n",
    "import pymc as pm\n",
    "import xarray as xr\n",
    "\n",
    "from numpy.random import default_rng\n",
    "from scipy.stats import norm, truncnorm"
   ]
  },
  {
   "cell_type": "code",
   "execution_count": null,
   "metadata": {
    "tags": []
   },
   "outputs": [],
   "source": [
    "%config InlineBackend.figure_format = 'retina'\n",
    "rng = default_rng(12345)\n",
    "az.style.use(\"arviz-darkgrid\")"
   ]
  },
  {
   "cell_type": "markdown",
   "metadata": {},
   "source": [
    "## Truncation and censoring\n",
    "\n",
    "Truncation and censoring are examples of missing data problems. It can sometimes be easy to muddle up truncation and censoring, so let's look at some definitions.\n",
    " \n",
    "- **Truncation** is a type of missing data problem where you are simply unaware of any data where the outcome variable falls outside of a certain set of bounds.\n",
    "- **Censoring** occurs when a measurement has a sensitivity with a certain set of bounds. But rather than discard data outside these bounds, you would record a measurement at the bound which it exceeded.\n",
    "\n",
    "Let's further explore this with some code and plots. First we will generate some true `(x, y)` scatter data, where `y` is our outcome measure and `x` is some predictor variable."
   ]
  },
  {
   "cell_type": "code",
   "execution_count": null,
   "metadata": {
    "tags": []
   },
   "outputs": [],
   "source": [
    "slope, intercept, σ, N = 1, 0, 2, 200\n",
    "x = rng.uniform(-10, 10, N)\n",
    "y = rng.normal(loc=slope * x + intercept, scale=σ)"
   ]
  },
  {
   "cell_type": "markdown",
   "metadata": {},
   "source": [
    "For this example of `(x, y)` scatter data, we can describe the truncation process as simply filtering out any data for which our outcome variable `y` falls outside of a set of bounds."
   ]
  },
  {
   "cell_type": "code",
   "execution_count": null,
   "metadata": {
    "tags": []
   },
   "outputs": [],
   "source": [
    "def truncate_y(x, y, bounds):\n",
    "    keep = (y >= bounds[0]) & (y <= bounds[1])\n",
    "    return (x[keep], y[keep])"
   ]
  },
  {
   "cell_type": "markdown",
   "metadata": {},
   "source": [
    "With censoring however, we are setting the `y` value equal to the bounds that they exceed."
   ]
  },
  {
   "cell_type": "code",
   "execution_count": null,
   "metadata": {
    "tags": []
   },
   "outputs": [],
   "source": [
    "def censor_y(x, y, bounds):\n",
    "    cy = copy(y)\n",
    "    cy[y <= bounds[0]] = bounds[0]\n",
    "    cy[y >= bounds[1]] = bounds[1]\n",
    "    return (x, cy)"
   ]
  },
  {
   "cell_type": "markdown",
   "metadata": {},
   "source": [
    "Based on our generated `(x, y)` data (which an experimenter would never see in real life), we can generate our actual observed datasets for truncated data `(xt, yt)` and censored data `(xc, yc)`."
   ]
  },
  {
   "cell_type": "code",
   "execution_count": null,
   "metadata": {
    "tags": []
   },
   "outputs": [],
   "source": [
    "bounds = [-5, 5]\n",
    "xt, yt = truncate_y(x, y, bounds)\n",
    "xc, yc = censor_y(x, y, bounds)"
   ]
  },
  {
   "cell_type": "markdown",
   "metadata": {},
   "source": [
    "We can visualise this latent data (in grey) and the remaining truncated or censored data (black) as below."
   ]
  },
  {
   "cell_type": "code",
   "execution_count": null,
   "metadata": {
    "tags": []
   },
   "outputs": [],
   "source": [
    "fig, axes = plt.subplots(1, 2, figsize=(10, 5))\n",
    "\n",
    "for ax in axes:\n",
    "    ax.plot(x, y, \".\", c=[0.7, 0.7, 0.7])\n",
    "    ax.axhline(bounds[0], c=\"r\", ls=\"--\")\n",
    "    ax.axhline(bounds[1], c=\"r\", ls=\"--\")\n",
    "    ax.set(xlabel=\"x\", ylabel=\"y\")\n",
    "\n",
    "axes[0].plot(xt, yt, \".\", c=[0, 0, 0])\n",
    "axes[0].set(title=\"Truncated data\")\n",
    "\n",
    "axes[1].plot(xc, yc, \".\", c=[0, 0, 0])\n",
    "axes[1].set(title=\"Censored data\");"
   ]
  },
  {
   "cell_type": "markdown",
   "metadata": {},
   "source": [
    "## The problem that truncated or censored regression solves\n",
    "If we were to run regular linear regression on either the truncated or censored data, it should be fairly intuitive to see that we will likely underestimate the slope. Truncated regression and censored regress (aka Tobit regression) were designed to address these missing data problems and hopefully result in regression slopes which are free from the bias introduced by truncation or censoring.\n",
    "\n",
    "In this section we will run Bayesian linear regression on these datasets to see the extent of the problem. We start by defining a function which defines a PyMC model, conducts MCMC sampling, and returns the model and the MCMC sampling data."
   ]
  },
  {
   "cell_type": "code",
   "execution_count": null,
   "metadata": {
    "tags": []
   },
   "outputs": [],
   "source": [
    "def linear_regression(x, y):\n",
    "    with pm.Model() as model:\n",
    "        slope = pm.Normal(\"slope\", mu=0, sigma=1)\n",
    "        intercept = pm.Normal(\"intercept\", mu=0, sigma=1)\n",
    "        σ = pm.HalfNormal(\"σ\", sigma=1)\n",
    "        pm.Normal(\"obs\", mu=slope * x + intercept, sigma=σ, observed=y)\n",
    "\n",
    "    return model"
   ]
  },
  {
   "cell_type": "markdown",
   "metadata": {},
   "source": [
    "So we can run this on our truncated and our censored data, separately."
   ]
  },
  {
   "cell_type": "code",
   "execution_count": null,
   "metadata": {
    "tags": []
   },
   "outputs": [],
   "source": [
    "trunc_linear_model = linear_regression(xt, yt)\n",
    "\n",
    "with trunc_linear_model:\n",
    "    trunc_linear_fit = pm.sample()"
   ]
  },
  {
   "cell_type": "code",
   "execution_count": null,
   "metadata": {
    "tags": []
   },
   "outputs": [],
   "source": [
    "cens_linear_model = linear_regression(xc, yc)\n",
    "\n",
    "with cens_linear_model:\n",
    "    cens_linear_fit = pm.sample()"
   ]
  },
  {
   "cell_type": "markdown",
   "metadata": {},
   "source": [
    "By plotting the posterior distribution over the slope parameters we can see that the estimates for the slope are pretty far off, so we are indeed underestimating the regression slope."
   ]
  },
  {
   "cell_type": "code",
   "execution_count": null,
   "metadata": {
    "tags": []
   },
   "outputs": [],
   "source": [
    "fig, ax = plt.subplots(1, 2, figsize=(10, 5), sharex=True)\n",
    "\n",
    "az.plot_posterior(trunc_linear_fit, var_names=[\"slope\"], ref_val=slope, ax=ax[0])\n",
    "ax[0].set(title=\"Linear regression\\n(truncated data)\", xlabel=\"slope\")\n",
    "\n",
    "az.plot_posterior(cens_linear_fit, var_names=[\"slope\"], ref_val=slope, ax=ax[1])\n",
    "ax[1].set(title=\"Linear regression\\n(censored data)\", xlabel=\"slope\");"
   ]
  },
  {
   "cell_type": "markdown",
   "metadata": {},
   "source": [
    "To appreciate the extent of the problem (for this dataset) we can visualise the posterior predictive fits alongside the data."
   ]
  },
  {
   "cell_type": "code",
   "execution_count": null,
   "metadata": {
    "tags": []
   },
   "outputs": [],
   "source": [
    "def pp_plot(x, y, fit, ax):\n",
    "    # plot data\n",
    "    ax.plot(x, y, \"k.\")\n",
    "    # plot posterior predicted... samples from posterior\n",
    "    xi = xr.DataArray(np.array([np.min(x), np.max(x)]), dims=[\"obs_id\"])\n",
    "    post = az.extract(fit)\n",
    "    y_ppc = xi * post[\"slope\"] + post[\"intercept\"]\n",
    "    ax.plot(xi, y_ppc, c=\"steelblue\", alpha=0.01, rasterized=True)\n",
    "    # plot true\n",
    "    ax.plot(xi, slope * xi + intercept, \"k\", lw=3, label=\"True\")\n",
    "    # plot bounds\n",
    "    ax.axhline(bounds[0], c=\"r\", ls=\"--\")\n",
    "    ax.axhline(bounds[1], c=\"r\", ls=\"--\")\n",
    "    ax.legend()\n",
    "    ax.set(xlabel=\"x\", ylabel=\"y\")\n",
    "\n",
    "\n",
    "fig, ax = plt.subplots(1, 2, figsize=(10, 5), sharex=True, sharey=True)\n",
    "\n",
    "pp_plot(xt, yt, trunc_linear_fit, ax[0])\n",
    "ax[0].set(title=\"Truncated data\")\n",
    "\n",
    "pp_plot(xc, yc, cens_linear_fit, ax[1])\n",
    "ax[1].set(title=\"Censored data\");"
   ]
  },
  {
   "cell_type": "markdown",
   "metadata": {},
   "source": [
    "By looking at these plots we can intuitively predict what factors will influence the extent of the underestimation bias. Firstly, if the truncation or censoring bounds are very broad such that they only affect a few data points, then the underestimation bias would be smaller. Secondly, if the measurement error `σ` is low, we might expect the underestimation bias to decrease. In the limit of zero measurement noise then it should be possible to fully recover the true slope for truncated data but there will always be some bias in the censored case. Regardless, it would be prudent to use truncated or censored regression models unless the measurement error is near zero, or the bounds are so broad as to be practically irrelevant."
   ]
  },
  {
   "cell_type": "markdown",
   "metadata": {},
   "source": [
    "## Implementing truncated and censored regression models\n",
    "Now we have seen the problem of conducting regression on truncated or censored data, in terms of underestimating the regression slopes. This is what truncated or censored regression models were designed to solve. The general approach taken by both truncated and censored regression is to encode our prior knowledge of the truncation or censoring steps in the data generating process. This is done by modifying the likelihood function in various ways."
   ]
  },
  {
   "cell_type": "markdown",
   "metadata": {},
   "source": [
    "### Truncated regression model\n",
    "Truncated regression models are quite simple to implement. The normal likelihood is centered on the regression slope as normal, but now we just specify a normal distribution which is truncated at the bounds."
   ]
  },
  {
   "cell_type": "code",
   "execution_count": null,
   "metadata": {
    "tags": []
   },
   "outputs": [],
   "source": [
    "def truncated_regression(x, y, bounds):\n",
    "    with pm.Model() as model:\n",
    "        slope = pm.Normal(\"slope\", mu=0, sigma=1)\n",
    "        intercept = pm.Normal(\"intercept\", mu=0, sigma=1)\n",
    "        σ = pm.HalfNormal(\"σ\", sigma=1)\n",
    "        normal_dist = pm.Normal.dist(mu=slope * x + intercept, sigma=σ)\n",
    "        pm.Truncated(\"obs\", normal_dist, lower=bounds[0], upper=bounds[1], observed=y)\n",
    "    return model"
   ]
  },
  {
   "cell_type": "markdown",
   "metadata": {},
   "source": [
    "Truncated regression solves the bias problem by updating the likelihood to reflect our knowledge about the process generating the observations. Namely, we have zero chance of observing any data outside of the truncation bounds, and so the likelihood should reflect this. We can visualise this in the plot below, where compared to a normal distribution, the probability density of a truncated normal is zero outside of the truncation bounds $(y<-1)$ in this case."
   ]
  },
  {
   "cell_type": "code",
   "execution_count": null,
   "metadata": {
    "tags": []
   },
   "outputs": [],
   "source": [
    "fig, ax = plt.subplots(figsize=(10, 3))\n",
    "y = np.linspace(-4, 4, 1000)\n",
    "ax.fill_between(y, norm.pdf(y, loc=0, scale=1), 0, alpha=0.2, ec=\"b\", fc=\"b\", label=\"Normal\")\n",
    "ax.fill_between(\n",
    "    y,\n",
    "    truncnorm.pdf(y, -1, float(\"inf\"), loc=0, scale=1),\n",
    "    0,\n",
    "    alpha=0.2,\n",
    "    ec=\"r\",\n",
    "    fc=\"r\",\n",
    "    label=\"Truncated Normal\",\n",
    ")\n",
    "ax.set(xlabel=\"$y$\", ylabel=\"probability\")\n",
    "ax.axvline(-1, c=\"k\", ls=\"--\")\n",
    "ax.legend();"
   ]
  },
  {
   "cell_type": "markdown",
   "metadata": {},
   "source": [
    "### Censored regression model"
   ]
  },
  {
   "cell_type": "code",
   "execution_count": null,
   "metadata": {
    "tags": []
   },
   "outputs": [],
   "source": [
    "def censored_regression(x, y, bounds):\n",
    "    with pm.Model() as model:\n",
    "        slope = pm.Normal(\"slope\", mu=0, sigma=1)\n",
    "        intercept = pm.Normal(\"intercept\", mu=0, sigma=1)\n",
    "        σ = pm.HalfNormal(\"σ\", sigma=1)\n",
    "        y_latent = pm.Normal.dist(mu=slope * x + intercept, sigma=σ)\n",
    "        obs = pm.Censored(\"obs\", y_latent, lower=bounds[0], upper=bounds[1], observed=y)\n",
    "\n",
    "    return model"
   ]
  },
  {
   "cell_type": "markdown",
   "metadata": {},
   "source": [
    "Thanks to the new {class}`pm.Censored` distribution it is really straightforward to write models with censored data. The only thing to remember is that the latent variable being censored must be called with the `.dist` method, as in `pm.Normal.dist` in the model above.\n",
    "\n",
    "Behind the scenes, `pm.Censored` adjusts the likelihood function to take into account that:\n",
    "- the probability at the lower bound is equal to the cumulative distribution function from $-\\infty$ to the lower bound, \n",
    "- the probability at the upper bound is equal to the the cumulative distribution function from the upper bound to $\\infty$.\n",
    "\n",
    "This is demonstrated visually in the plot below. Technically the _probability density_ at the bound is infinite because the bin width exactly at the bound is zero."
   ]
  },
  {
   "cell_type": "code",
   "execution_count": null,
   "metadata": {},
   "outputs": [],
   "source": [
    "fig, ax = plt.subplots(figsize=(10, 3))\n",
    "\n",
    "with pm.Model() as m:\n",
    "    pm.Normal(\"y\", 0, 2)\n",
    "\n",
    "with pm.Model() as m_censored:\n",
    "    pm.Censored(\"y\", pm.Normal.dist(0, 2), lower=-1.0, upper=None)\n",
    "\n",
    "logp_fn = m.compile_logp()\n",
    "logp_censored_fn = m_censored.compile_logp()\n",
    "\n",
    "xi = np.hstack((np.linspace(-6, -1.01), [-1.0], np.linspace(-0.99, 6)))\n",
    "\n",
    "ax.plot(xi, [np.exp(logp_fn({\"y\": x})) for x in xi], label=\"uncensored\")\n",
    "ax.plot(xi, [np.exp(logp_censored_fn({\"y\": x})) for x in xi], label=\"censored\", lw=8, alpha=0.6)\n",
    "ax.axvline(-1, c=\"k\", ls=\"--\")\n",
    "ax.legend()\n",
    "ax.set(xlabel=\"$y$\", ylabel=\"probability density\", ylim=(-0.02, 0.4));"
   ]
  },
  {
   "cell_type": "markdown",
   "metadata": {},
   "source": [
    "## Run the truncated and censored regressions\n",
    "Now we can conduct our parameter estimation with the truncated regression model on the truncated data..."
   ]
  },
  {
   "cell_type": "code",
   "execution_count": null,
   "metadata": {
    "tags": []
   },
   "outputs": [],
   "source": [
    "truncated_model = truncated_regression(xt, yt, bounds)\n",
    "\n",
    "with truncated_model:\n",
    "    truncated_fit = pm.sample()"
   ]
  },
  {
   "cell_type": "markdown",
   "metadata": {},
   "source": [
    "and with the censored regression model on the censored data."
   ]
  },
  {
   "cell_type": "code",
   "execution_count": null,
   "metadata": {
    "tags": []
   },
   "outputs": [],
   "source": [
    "censored_model = censored_regression(xc, yc, bounds)\n",
    "\n",
    "with censored_model:\n",
    "    censored_fit = pm.sample(init=\"adapt_diag\")"
   ]
  },
  {
   "cell_type": "markdown",
   "metadata": {},
   "source": [
    "We can do the same as before and visualise our posterior estimates on the slope."
   ]
  },
  {
   "cell_type": "code",
   "execution_count": null,
   "metadata": {},
   "outputs": [],
   "source": [
    "fig, ax = plt.subplots(1, 2, figsize=(10, 5), sharex=True)\n",
    "\n",
    "az.plot_posterior(truncated_fit, var_names=[\"slope\"], ref_val=slope, ax=ax[0])\n",
    "ax[0].set(title=\"Truncated regression\\n(truncated data)\", xlabel=\"slope\")\n",
    "\n",
    "az.plot_posterior(censored_fit, var_names=[\"slope\"], ref_val=slope, ax=ax[1])\n",
    "ax[1].set(title=\"Censored regression\\n(censored data)\", xlabel=\"slope\");"
   ]
  },
  {
   "cell_type": "markdown",
   "metadata": {},
   "source": [
    "These are _much_ better estimates. Interestingly, we can see that the estimate for censored regression is more precise than for truncated data. This will not necessarily always be the case, but the intuition here is that the `x` and `y` data is entirely discarded with truncation, but only the `y` data becomes partially unknown in censoring.\n",
    "\n",
    "We could speculate then, that if an experimenter had the choice of truncating or censoring data, it might be better to opt for censoring over truncation.\n",
    "\n",
    "Correspondingly, we can confirm the models are good through visual inspection of the posterior predictive plots."
   ]
  },
  {
   "cell_type": "code",
   "execution_count": null,
   "metadata": {
    "tags": []
   },
   "outputs": [],
   "source": [
    "fig, ax = plt.subplots(1, 2, figsize=(10, 5), sharex=True, sharey=True)\n",
    "\n",
    "pp_plot(xt, yt, truncated_fit, ax[0])\n",
    "ax[0].set(title=\"Truncated data\")\n",
    "\n",
    "pp_plot(xc, yc, censored_fit, ax[1])\n",
    "ax[1].set(title=\"Censored data\");"
   ]
  },
  {
   "cell_type": "markdown",
   "metadata": {},
   "source": [
    "This brings an end to our guide on truncated and censored data and truncated and censored regression models in PyMC. While the extent of the regression slope estimation bias will vary with a number of factors discussed above, hopefully these examples have convinced you of the importance of encoding your knowledge of the data generating process into regression analyses."
   ]
  },
  {
   "cell_type": "markdown",
   "metadata": {},
   "source": [
    "## Further topics\n",
    "It is also possible to treat the bounds as unknown latent parameters. If these are not known exactly and it is possible to fomulate a prior over these bounds, then it would be possible to infer what the bounds are. This could be argued as overkill however - depending on your data analysis context it may be entirely sufficient to extract 'good enough' point estimates of the bounds in order to get reasonable regression estimates.\n",
    "\n",
    "The censored regression model presented above takes one particular approach, and there are others. For example, it did not attempt to infer posterior beliefs over the true latent `y` values of the censored data. It is possible to build censored regression models which do impute these censored `y` values, but we did not address that here as the topic of [imputation](https://en.wikipedia.org/wiki/Imputation_(statistics)) deserves its own focused treatment. The PyMC {ref}`censored_data` example also covers this topic, with a particular {ref}`example model to impute censored data <censored_data/model1>`."
   ]
  },
  {
   "cell_type": "markdown",
   "metadata": {},
   "source": [
    "## Further reading\n",
    "When looking into this topic, I found that most of the material out there focuses on maximum likelihood estimation approaches, with focus on mathematical derivation rather than practical implementation. One good concise mathematical 80 page booklet by {cite:t}`breen1996regression` covers truncated and censored as well as other missing data scenarios. That said, a few pages are given over to this topic in Bayesian Data Analysis by {cite:t}`gelman2013bayesian`, and {cite:t}`gelman2020regression`."
   ]
  },
  {
   "attachments": {},
   "cell_type": "markdown",
   "metadata": {},
   "source": [
    "## Authors\n",
    "* Authored by [Benjamin T. Vincent](https://github.com/drbenvincent) in May 2021\n",
    "* Updated by [Benjamin T. Vincent](https://github.com/drbenvincent) in January 2022\n",
    "* Updated by [Benjamin T. Vincent](https://github.com/drbenvincent) in September 2022\n",
    "* Updated by [Benjamin T. Vincent](https://github.com/drbenvincent) in February 2023 to run on PyMC v5\n",
    "* Updated by [Benjamin T. Vincent](https://github.com/drbenvincent) in February 2023 to use `az.extract`, ([pymc-examples#522](https://github.com/pymc-devs/pymc-examples/pull/522))"
   ]
  },
  {
   "cell_type": "markdown",
   "metadata": {},
   "source": [
    "## References\n",
    "\n",
    ":::{bibliography}\n",
    ":filter: docname in docnames\n",
    ":::"
   ]
  },
  {
   "cell_type": "markdown",
   "metadata": {},
   "source": [
    "## Watermark"
   ]
  },
  {
   "cell_type": "code",
   "execution_count": null,
   "metadata": {},
   "outputs": [],
   "source": [
    "%load_ext watermark\n",
    "%watermark -n -u -v -iv -w -p pytensor,aeppl"
   ]
  },
  {
   "cell_type": "markdown",
   "metadata": {},
   "source": [
    ":::{include} ../page_footer.md\n",
    ":::"
   ]
  }
 ],
 "metadata": {
  "kernelspec": {
   "display_name": "pymc_env",
   "language": "python",
   "name": "python3"
  },
  "language_info": {
   "codemirror_mode": {
    "name": "ipython",
    "version": 3
   },
   "file_extension": ".py",
   "mimetype": "text/x-python",
   "name": "python",
   "nbconvert_exporter": "python",
   "pygments_lexer": "ipython3",
   "version": "3.10.9"
  },
  "vscode": {
   "interpreter": {
    "hash": "087adf61916f8b9a562e3919cc7201fe0599d07c87f54bc57443476208d67f09"
   }
  }
 },
 "nbformat": 4,
 "nbformat_minor": 4
}
