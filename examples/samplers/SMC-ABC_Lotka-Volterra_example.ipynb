{
 "cells": [
  {
   "cell_type": "markdown",
   "metadata": {},
   "source": [
    "(ABC_introduction)=\n",
    "# Approximate Bayesian Computation\n",
    ":::{post} May 31, 2022\n",
    ":tags: SMC, ABC \n",
    ":category: beginner, explanation\n",
    ":::"
   ]
  },
  {
   "cell_type": "code",
   "execution_count": null,
   "metadata": {},
   "outputs": [],
   "source": [
    "import arviz as az\n",
    "import matplotlib.pyplot as plt\n",
    "import numpy as np\n",
    "import pymc as pm\n",
    "\n",
    "print(f\"Running on PyMC v{pm.__version__}\")"
   ]
  },
  {
   "cell_type": "code",
   "execution_count": null,
   "metadata": {},
   "outputs": [],
   "source": [
    "%load_ext watermark\n",
    "az.style.use(\"arviz-darkgrid\")"
   ]
  },
  {
   "cell_type": "markdown",
   "metadata": {},
   "source": [
    "# Sequential Monte Carlo - Approximate Bayesian Computation"
   ]
  },
  {
   "cell_type": "markdown",
   "metadata": {},
   "source": [
    "Approximate Bayesian Computation methods (also called likelihood free inference methods), are a group of techniques developed for inferring posterior distributions in cases where the likelihood function is intractable or costly to evaluate. This does not mean that the likelihood function is not part of the analysis, it just the we are approximating the likelihood, and hence the name of the ABC methods.\n",
    "\n",
    "ABC comes useful when modeling complex phenomena in certain fields of study, like systems biology. Such models often contain unobservable random quantities, which make the likelihood function hard to specify, but data can be simulated from the model.  \n",
    "\n",
    "These methods follow a general form:\n",
    "\n",
    "1- Sample a parameter $\\theta^*$ from a prior/proposal distribution $\\pi(\\theta)$.\n",
    "\n",
    "2- Simulate a data set $y^*$ using a function that takes $\\theta$ and returns a data set of the same dimensions as the observed data set $y_0$ (simulator).\n",
    "\n",
    "3- Compare the simulated dataset $y^*$ with the experimental data set $y_0$ using a distance function $d$ and a tolerance threshold $\\epsilon$. \n",
    "\n",
    "In some cases a distance function is computed between two summary statistics $d(S(y_0), S(y^*))$, avoiding the issue of computing distances for entire datasets.\n",
    "\n",
    "As a result we obtain a sample of parameters from a distribution $\\pi(\\theta | d(y_0, y^*)) \\leqslant \\epsilon$. \n",
    "\n",
    "If $\\epsilon$ is sufficiently small this distribution will be a good approximation of the posterior distribution $\\pi(\\theta | y_0)$."
   ]
  },
  {
   "cell_type": "markdown",
   "metadata": {},
   "source": [
    "[Sequential monte carlo](https://docs.pymc.io/notebooks/SMC2_gaussians.html?highlight=smc) ABC is a method that iteratively morphs the prior into a posterior by propagating the sampled parameters through a series of proposal distributions $\\phi(\\theta^{(i)})$, weighting the accepted parameters $\\theta^{(i)}$ like:\n",
    "\n",
    "$$ w^{(i)} \\propto \\frac{\\pi(\\theta^{(i)})}{\\phi(\\theta^{(i)})} $$\n",
    "\n",
    "It combines the advantages of traditional SMC, i.e. ability to sample from distributions with multiple peaks, but without the need for evaluating the likelihood function. \n",
    "\n",
    "\n",
    "_(Lintusaari, 2016), (Toni, T., 2008), (Nuñez, Prangle, 2015)_"
   ]
  },
  {
   "cell_type": "markdown",
   "metadata": {},
   "source": [
    "# Old good Gaussian fit\n",
    "\n",
    "To illustrate how to use ABC within PyMC3 we are going to start with a very simple example estimating the mean and standard deviation of Gaussian data."
   ]
  },
  {
   "cell_type": "code",
   "execution_count": null,
   "metadata": {},
   "outputs": [],
   "source": [
    "data = np.random.normal(loc=0, scale=1, size=1000)"
   ]
  },
  {
   "cell_type": "markdown",
   "metadata": {},
   "source": [
    "Clearly under normal circumstances using a Gaussian likelihood will do the job very well. But that would defeat the purpose of this example, the notebook would end here and everything would be very boring. So, instead of that we are going to define a simulator. A very straightforward simulator for normal data is a pseudo random number generator, in real life our simulator will be most likely something fancier."
   ]
  },
  {
   "cell_type": "code",
   "execution_count": null,
   "metadata": {},
   "outputs": [],
   "source": [
    "def normal_sim(rng, a, b, size=1000):\n",
    "    return rng.normal(a, b, size=size)"
   ]
  },
  {
   "cell_type": "markdown",
   "metadata": {},
   "source": [
    "Defining an ABC model in PyMC3 is in general, very similar to defining other PyMC3 models. The two important differences are: we need to define a `Simulator` _distribution_ and we need to use `sample_smc` with `kernel=\"ABC\"`. The `Simulator` works as a generic interface to pass the synthetic data generating function (_normal_sim_ in this example), its parameters, the observed data and optionally a distance function and a summary statistics. In the following code we are using the default distance, `gaussian_kernel`, and the `sort` summary_statistic. As the name suggests `sort` sorts the data before computing the distance.\n",
    "\n",
    "Finally, SMC-ABC offers the option to store the simulated data. This can he handy as simulators can be expensive to evaluate and we may want to use the simulated data for example for posterior predictive checks."
   ]
  },
  {
   "cell_type": "code",
   "execution_count": null,
   "metadata": {},
   "outputs": [],
   "source": [
    "with pm.Model() as example:\n",
    "    a = pm.Normal(\"a\", mu=0, sigma=5)\n",
    "    b = pm.HalfNormal(\"b\", sigma=1)\n",
    "    s = pm.Simulator(\"s\", normal_sim, params=(a, b), sum_stat=\"sort\", epsilon=1, observed=data)\n",
    "\n",
    "    idata = pm.sample_smc()\n",
    "    idata.extend(pm.sample_posterior_predictive(idata))"
   ]
  },
  {
   "cell_type": "markdown",
   "metadata": {},
   "source": [
    "Judging by `plot_trace` the sampler did its job very well, which is not surprising given this is a very simple model. Anyway, it is always reassuring to look at a flat rank plot :-)"
   ]
  },
  {
   "cell_type": "code",
   "execution_count": null,
   "metadata": {},
   "outputs": [],
   "source": [
    "az.plot_trace(idata, kind=\"rank_vlines\");"
   ]
  },
  {
   "cell_type": "code",
   "execution_count": null,
   "metadata": {},
   "outputs": [],
   "source": [
    "az.summary(idata, kind=\"stats\")"
   ]
  },
  {
   "cell_type": "markdown",
   "metadata": {},
   "source": [
    "The posterior predictive check shows that we have an overall good fit, but the synthetic data has heavier tails than the observed one. You may want to decrease the value of epsilon, and see if you can get a tighter fit."
   ]
  },
  {
   "cell_type": "code",
   "execution_count": null,
   "metadata": {},
   "outputs": [],
   "source": [
    "az.plot_ppc(idata, num_pp_samples=500);"
   ]
  },
  {
   "cell_type": "markdown",
   "metadata": {},
   "source": [
    "## Lotka–Volterra\n",
    "\n",
    "The Lotka-Volterra is well-know biological model describing how the number of individuals of two species change when there is a predator/prey interaction (A Biologist’s Guide to Mathematical Modeling in Ecology and Evolution,Otto and Day, 2007). For example, rabbits and foxes. Given an initial population number for each species, the integration of this ordinary differential equations (ODE) describes curves for the progression of both populations. This ODE's takes four parameters:\n",
    "\n",
    "* a is the natural growing rate of rabbits, when there's no fox.\n",
    "* b is the natural dying rate of rabbits, due to predation.\n",
    "* c is the natural dying rate of fox, when there is no rabbit.\n",
    "* d is the factor describing how many caught rabbits let create a new fox.\n",
    "\n",
    "Notice that there is nothing intrinsically especial about SMC-ABC and ODEs. In principle a simulator can be any piece of code able to generate fake data given a set of parameters."
   ]
  },
  {
   "cell_type": "code",
   "execution_count": null,
   "metadata": {},
   "outputs": [],
   "source": [
    "from scipy.integrate import odeint\n",
    "\n",
    "# Definition of parameters\n",
    "a = 1.0\n",
    "b = 0.1\n",
    "c = 1.5\n",
    "d = 0.75\n",
    "\n",
    "# initial population of rabbits and foxes\n",
    "X0 = [10.0, 5.0]\n",
    "# size of data\n",
    "size = 100\n",
    "# time lapse\n",
    "time = 15\n",
    "t = np.linspace(0, time, size)\n",
    "\n",
    "\n",
    "# Lotka - Volterra equation\n",
    "def dX_dt(X, t, a, b, c, d):\n",
    "    \"\"\"Return the growth rate of fox and rabbit populations.\"\"\"\n",
    "\n",
    "    return np.array([a * X[0] - b * X[0] * X[1], -c * X[1] + d * b * X[0] * X[1]])\n",
    "\n",
    "\n",
    "# simulator function\n",
    "def competition_model(rng, a, b, size=None):\n",
    "    return odeint(dX_dt, y0=X0, t=t, rtol=0.01, args=(a, b, c, d))"
   ]
  },
  {
   "cell_type": "markdown",
   "metadata": {},
   "source": [
    "Using the simulator function we will obtain a dataset with some noise added, for using it as observed data."
   ]
  },
  {
   "cell_type": "code",
   "execution_count": null,
   "metadata": {},
   "outputs": [],
   "source": [
    "# function for generating noisy data to be used as observed data.\n",
    "def add_noise(a, b):\n",
    "    noise = np.random.normal(size=(size, 2))\n",
    "    simulated = competition_model(None, a, b) + noise\n",
    "    return simulated"
   ]
  },
  {
   "cell_type": "code",
   "execution_count": null,
   "metadata": {},
   "outputs": [],
   "source": [
    "# plotting observed data.\n",
    "observed = add_noise(a, b)\n",
    "_, ax = plt.subplots(figsize=(12, 4))\n",
    "ax.plot(t, observed[:, 0], \"x\", label=\"prey\")\n",
    "ax.plot(t, observed[:, 1], \"x\", label=\"predator\")\n",
    "ax.set_xlabel(\"time\")\n",
    "ax.set_ylabel(\"population\")\n",
    "ax.set_title(\"Observed data\")\n",
    "ax.legend();"
   ]
  },
  {
   "cell_type": "markdown",
   "metadata": {},
   "source": [
    "As with the first example, instead of specifying a likelihood function, we use `pm.Simulator()`."
   ]
  },
  {
   "cell_type": "code",
   "execution_count": null,
   "metadata": {},
   "outputs": [],
   "source": [
    "with pm.Model() as model_lv:\n",
    "    a = pm.HalfNormal(\"a\", 1.0)\n",
    "    b = pm.HalfNormal(\"b\", 1.0)\n",
    "\n",
    "    sim = pm.Simulator(\"sim\", competition_model, params=(a, b), epsilon=10, observed=observed)\n",
    "\n",
    "    idata_lv = pm.sample_smc()"
   ]
  },
  {
   "cell_type": "code",
   "execution_count": null,
   "metadata": {},
   "outputs": [],
   "source": [
    "az.plot_trace(idata_lv, kind=\"rank_vlines\");"
   ]
  },
  {
   "cell_type": "code",
   "execution_count": null,
   "metadata": {},
   "outputs": [],
   "source": [
    "az.plot_posterior(idata_lv);"
   ]
  },
  {
   "cell_type": "code",
   "execution_count": null,
   "metadata": {},
   "outputs": [],
   "source": [
    "# plot results\n",
    "_, ax = plt.subplots(figsize=(14, 6))\n",
    "posterior = idata_lv.posterior.stack(samples=(\"draw\", \"chain\"))\n",
    "ax.plot(t, observed[:, 0], \"o\", label=\"prey\", c=\"C0\", mec=\"k\")\n",
    "ax.plot(t, observed[:, 1], \"o\", label=\"predator\", c=\"C1\", mec=\"k\")\n",
    "ax.plot(t, competition_model(None, posterior[\"a\"].mean(), posterior[\"b\"].mean()), linewidth=3)\n",
    "for i in np.random.randint(0, size, 75):\n",
    "    sim = competition_model(None, posterior[\"a\"][i], posterior[\"b\"][i])\n",
    "    ax.plot(t, sim[:, 0], alpha=0.1, c=\"C0\")\n",
    "    ax.plot(t, sim[:, 1], alpha=0.1, c=\"C1\")\n",
    "ax.set_xlabel(\"time\")\n",
    "ax.set_ylabel(\"population\")\n",
    "ax.legend();"
   ]
  },
  {
   "cell_type": "markdown",
   "metadata": {},
   "source": [
    "## References\n",
    "\n",
    ":::{bibliography}\n",
    ":filter: docname in docnames\n",
    "\n",
    "martin2021bayesian\n",
    ":::"
   ]
  },
  {
   "cell_type": "code",
   "execution_count": null,
   "metadata": {},
   "outputs": [],
   "source": [
    "%watermark -n -u -v -iv -w"
   ]
  },
  {
   "cell_type": "markdown",
   "metadata": {},
   "source": [
    ":::{include} ../page_footer.md\n",
    ":::"
   ]
  },
  {
   "cell_type": "code",
   "execution_count": null,
   "metadata": {},
   "outputs": [],
   "source": []
  }
 ],
 "metadata": {
  "interpreter": {
   "hash": "d4ca51fc2fdee62b1a00ff5126f64ae66836e25d3ba6f45d8551026256283997"
  },
  "kernelspec": {
   "display_name": "Python 3 (ipykernel)",
   "language": "python",
   "name": "python3"
  },
  "language_info": {
   "codemirror_mode": {
    "name": "ipython",
    "version": 3
   },
   "file_extension": ".py",
   "mimetype": "text/x-python",
   "name": "python",
   "nbconvert_exporter": "python",
   "pygments_lexer": "ipython3",
   "version": "3.11.5"
  }
 },
 "nbformat": 4,
 "nbformat_minor": 4
}
