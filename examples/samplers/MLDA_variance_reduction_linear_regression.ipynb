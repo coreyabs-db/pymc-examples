{
 "cells": [
  {
   "cell_type": "markdown",
   "metadata": {},
   "source": [
    "# Variance reduction in MLDA - Linear regression"
   ]
  },
  {
   "cell_type": "markdown",
   "metadata": {},
   "source": [
    "MLDA is based on the idea of running multiple chains which sample from approximations of the true posterior (where the approximation normally becomes coarser when going from the top level to the bottom level). Due to this characteristic, MLDA draws MCMC samples from all those levels. These samples, apart from improving the mixing of the top-level chain can serve another purpose; we can use them to apply a variance reduction technique when estimating a quantity of interest from the drawn samples.\n",
    "\n",
    "In this example, we demonstrate this technique using a linear model example similar to the `MLDA_simple_linear_regression.ipynb` notebook in the same folder.\n",
    "\n",
    "#### Typical quantity of interest estimation in MCMC\n",
    "Specifically, here we are interested in cases where we have a forward model $F$ which is a function of an unknown vector of random variables $\\theta$, i.e. $F = F(\\theta)$. $F$ is a model of some physical process or phenomenon and $\\theta$ is usually a set of unknown parameters in the model. We want to estimate a quantity of interest $Q$ which depends on the forward model $F$, i.e. $Q = Q(F(\\theta))$. In order to do that, we draw samples from the posterior of $P(\\theta | D)$, where $D$ are our data, and we use the samples to construct an estimator $E_P[Q] = {1\\over N} \\Sigma_{n}Q(F(\\theta_n))$ where $\\theta_n$ is the $n-th$ sample drawn from the posterior $P$ using MCMC.\n",
    "\n",
    "In this notebook, where we work with a linear regression model, we can use simply one of the values in the theta vector or the mean of all y outputs of the model.\n",
    "\n",
    "#### Quantity of interest estimation using variance reduction in MLDA\n",
    "In a usual MCMC algorithm we would sample from the posterior and use the samples to get the estimate above. In MLDA, we have the extra advantage that we do not only draw samples from the correct/fine posterior $P$; we also draw samples from approximations of it. We can use those samples to reduce the variance of the estimator of $Q$ (and thus require fewer samples to achieve the same variance). \n",
    "\n",
    "The technique we use is similar to the idea of a telescopic sum. Instead of estimating $Q$ directly, we estimate differences of $Q$-estimates between levels and add those differences (i.e. we estimate the correction with respect to the next lower level). \n",
    "\n",
    "Specifically, we have a set of approximate forward models $F_l$ and posteriors $P_l, l \\in \\{0,1,...,L-1\\}$, where $L$ is the number of levels in MLDA, $F_{L-1} = F$ and $P_{L-1} = P$. MLDA in level $l$ produces the samples $\\theta_{1:N_l}^l$ from posterior $P_l$, where $N_l$ is the number of samples at that level (each level generates a different number of samples, with $N_l$ decreasing with $l$). This also results in the quantity of interest functions $Q_l = Q(F_l(\\theta))$ for each level $l$ (where $\\theta$ indexes are omitted. We use the following equation to estimate the quanity of interest (by combining the above functions):\n",
    "$E_{VR}[Q] = E_{P_0}[Q_0] + \\Sigma_{l=1}^{L-1} (E_{P_l}[Q_l] - E_{P_{l-1}}[Q_{l-1}])$. \n",
    "\n",
    "The first term in the right hand side can be estimated using the samples from level 0. For the second term in the right hand side which contains all the differences, we estimate using the following process: In level $l$, and for each sample $\\theta_n^l$ in that level where $n \\in {1,...,N_l}$, we use the sample $\\theta_{s+R}^{l-1}$ from level $l-1$, which is a random sample in the block of $K$ samples generated in level $l-1$ to propose a sample for level $l$, where $s$ is the starting sample of the block. In other words $K$ is the subsampling rate at level $l$ and R is the index of the randomly selected sample ($R$ can range from 1 to $K$). Having this sample, we calculate the following quantity: $Y_n^l = Q_l(F_l(\\theta_n^l)) - Q_{l-1}(F_{l-1}(\\theta_(s+R)^{l-1}))$. We do the same thing for all $N_l$ samples in level $l$ and finally use them to calculate $E_{P_l}[Q_l] - E_{P_{l-1}}[Q_{l-1}] = {1 \\over N_l} \\Sigma Y_n^l$. We do the same to estimate the remaining differences and add them all together to get $E_{VR}[Q]$.\n",
    "\n",
    "#### Note on asymptotic variance results\n",
    "$E_{VR}[Q]$ is shown to have asymptotically lower variance than $E_P[Q]$ in [1], as long as the subsampling rate $K$ in level $l$ is larger than the MCMC autocorrelation length in level $l-1$ (and if this is true for all levels). When this condition does not hold, we still see reasonably good variance reduction in experiments, although there is no theoretical guarantee of asymptotically lower variance. Users are advices to do pre-runs to detect the autocorrelation length of all chains in MLDA and then set the subsampling rates accordingly.\n",
    "\n",
    "#### Using variance reductioon in PyMC3\n",
    "The code in this notebook demonstrates how the user can employ the variance reduction technique within the PyMC3 implementation of MLDA. We run two samplers, one with VR and one without and calculate the resulting variances in the estimates.\n",
    "\n",
    "In order to use variance reduction, the user needs to pass the argument `variance_reduction=True` when instantiating the MLDA stepper. Also, they need to do two things when defining the PyMC3 model: \n",
    "- Include a `pm.Data()` variable with the name `Q` in the model description of all levels, as shown in the code.\n",
    "- Use a Theano Op to calculate the forward model (or the combination of a forward model and a likelihood). This Op should have a `perform()` method which (in addition to all the other calculations), calculates the quantity of interest and stores it to the variable `Q` of the PyMC3 model, using the `set_value()` function. An example is shown in the code.\n",
    "\n",
    "By doing the above, the user provides MLDA with the quantity of interest in each MCMC step. MLDA then internally stores and manages the values and returns all the terms necessary to calculate $E_{VR}[Q]$ (i.e. all $Q_0$ values and all $Y_n^l$ differences/corrections) within the stats of the generated trace. The user can extract them using the `get_sampler_stats()` function of the trace object, as shown at the end of the notebook.\n",
    "\n",
    "\n",
    "### Dependencies\n",
    "The code has been developed and tested with Python 3.6. You will need to have pymc3 installed and also [FEniCS](https://fenicsproject.org/) for your system. FEniCS is a popular, open-source, [well documented](https://fenicsproject.org/documentation/), high-performance computing framework for solving Partial Differential Equations. FEniCS can be [installed](https://fenicsproject.org/download/) either through their prebuilt Docker images, from their Ubuntu PPA, or from Anaconda. \n",
    "  \n",
    "\n",
    "### References\n",
    "[1] Dodwell, Tim & Ketelsen, Chris & Scheichl, Robert & Teckentrup, Aretha. (2019). Multilevel Markov Chain Monte Carlo. SIAM Review. 61. 509-545. https://doi.org/10.1137/19M126966X"
   ]
  },
  {
   "cell_type": "markdown",
   "metadata": {},
   "source": [
    "### Import modules"
   ]
  },
  {
   "cell_type": "code",
   "execution_count": null,
   "metadata": {},
   "outputs": [],
   "source": [
    "import os as os\n",
    "import sys as sys\n",
    "import time as time\n",
    "\n",
    "import arviz as az\n",
    "import matplotlib.pyplot as plt\n",
    "import numpy as np\n",
    "import pymc3 as pm\n",
    "import theano.tensor as tt\n",
    "\n",
    "from matplotlib.ticker import ScalarFormatter"
   ]
  },
  {
   "cell_type": "code",
   "execution_count": null,
   "metadata": {},
   "outputs": [],
   "source": [
    "RANDOM_SEED = 4555\n",
    "np.random.seed(RANDOM_SEED)\n",
    "az.style.use(\"arviz-darkgrid\")"
   ]
  },
  {
   "cell_type": "markdown",
   "metadata": {},
   "source": [
    "### Set parameters and generate data using a linear model"
   ]
  },
  {
   "cell_type": "code",
   "execution_count": null,
   "metadata": {},
   "outputs": [],
   "source": [
    "# set up the model and data\n",
    "np.random.seed(RANDOM_SEED)\n",
    "size = 100\n",
    "true_intercept = 1\n",
    "true_slope = 2\n",
    "sigma = 0.2\n",
    "x = np.linspace(0, 1, size)\n",
    "\n",
    "# y = a + b*x\n",
    "true_regression_line = true_intercept + true_slope * x\n",
    "\n",
    "# add noise\n",
    "y = true_regression_line + np.random.normal(0, sigma**2, size)\n",
    "s = sigma\n",
    "\n",
    "# reduced datasets\n",
    "# We use fewer data in the coarse models compared to the fine model in order to make them less accurate\n",
    "x_coarse_0 = x[::3]\n",
    "y_coarse_0 = y[::3]\n",
    "x_coarse_1 = x[::2]\n",
    "y_coarse_1 = y[::2]\n",
    "\n",
    "# MCMC parameters\n",
    "ndraws = 3000\n",
    "ntune = 1000\n",
    "nsub = 5\n",
    "nchains = 2"
   ]
  },
  {
   "cell_type": "code",
   "execution_count": null,
   "metadata": {},
   "outputs": [],
   "source": [
    "# Plot the data\n",
    "fig = plt.figure(figsize=(7, 7))\n",
    "ax = fig.add_subplot(111, xlabel=\"x\", ylabel=\"y\", title=\"Generated data and underlying model\")\n",
    "ax.plot(x, y, \"x\", label=\"sampled data\")\n",
    "ax.plot(x, true_regression_line, label=\"true regression line\", lw=2.0)\n",
    "plt.legend(loc=0);"
   ]
  },
  {
   "cell_type": "markdown",
   "metadata": {},
   "source": [
    "### Create a theano op that implements the likelihood\n",
    "In order to use variance reduction, the user needs to define a Theano Op that calculates the forward model \n",
    "(or both the forward model and the likelihood).\n",
    "Also, this Op needs to save the quantity of interest to a model variable with the name `Q`.\n",
    "Here we use a Theano Op that contains both the forward model (i.e. the linear equation in this case) and the likelihood calculation. The quantity of interest is calculated with the perform() function and it is the mean of linear predictions given theta from all data points."
   ]
  },
  {
   "cell_type": "code",
   "execution_count": null,
   "metadata": {},
   "outputs": [],
   "source": [
    "class Likelihood(tt.Op):\n",
    "    # Specify what type of object will be passed and returned to the Op when it is\n",
    "    # called. In our case we will be passing it a vector of values (the parameters\n",
    "    # that define our model) and returning a scalar (likelihood)\n",
    "    itypes = [tt.dvector]\n",
    "    otypes = [tt.dscalar]\n",
    "\n",
    "    def __init__(self, x, y, pymc3_model):\n",
    "        \"\"\"\n",
    "        Initialise the Op with various things that our likelihood requires.\n",
    "        Parameters\n",
    "        ----------\n",
    "        x:\n",
    "            The x points.\n",
    "        y:\n",
    "            The y points.\n",
    "        pymc3_model:\n",
    "            The pymc3 model.\n",
    "        \"\"\"\n",
    "        self.x = x\n",
    "        self.y = y\n",
    "        self.pymc3_model = pymc3_model\n",
    "\n",
    "    def perform(self, node, inputs, outputs):\n",
    "        intercept = inputs[0][0]\n",
    "        x_coeff = inputs[0][1]\n",
    "\n",
    "        # this uses the linear model to calculate outputs\n",
    "        temp = intercept + x_coeff * self.x\n",
    "        # this saves the quantity of interest to the pymc3 model variable Q\n",
    "        self.pymc3_model.Q.set_value(temp.mean())\n",
    "        # this calculates the likelihood value\n",
    "        outputs[0][0] = np.array(-(0.5 / s**2) * np.sum((temp - self.y) ** 2))"
   ]
  },
  {
   "cell_type": "markdown",
   "metadata": {},
   "source": [
    "### Define the coarse models\n",
    "Here we create the coarse models for MLDA. \n",
    "We need to include a `pm.Data()` variable `Q` in each one of those models, instantiated at `0.0`. These variables are set during sampling when the Op code under `perform()` runs."
   ]
  },
  {
   "cell_type": "code",
   "execution_count": null,
   "metadata": {},
   "outputs": [],
   "source": [
    "mout = []\n",
    "coarse_models = []\n",
    "\n",
    "# Set up models in pymc3 for each level - excluding finest model level\n",
    "# Level 0 (coarsest)\n",
    "with pm.Model() as coarse_model_0:\n",
    "    # A variable Q has to be defined if you want to use the variance reduction feature\n",
    "    # Q can be of any dimension - here it a scalar\n",
    "    Q = pm.Data(\"Q\", np.float(0.0))\n",
    "\n",
    "    # Define priors\n",
    "    intercept = pm.Normal(\"Intercept\", 0, sigma=20)\n",
    "    x_coeff = pm.Normal(\"x\", 0, sigma=20)\n",
    "\n",
    "    # convert thetas to a tensor vector\n",
    "    theta = tt.as_tensor_variable([intercept, x_coeff])\n",
    "\n",
    "    # Here we instantiate a Likelihood object using the class defined above\n",
    "    # and we add to the mout list. We pass the coarse data x_coarse_0 and y_coarse_0\n",
    "    # and the coarse pymc3 model coarse_model_0. This creates a coarse likelihood.\n",
    "    mout.append(Likelihood(x_coarse_0, y_coarse_0, coarse_model_0))\n",
    "\n",
    "    # This uses the likelihood object to define the likelihood of the model, given theta\n",
    "    pm.Potential(\"likelihood\", mout[0](theta))\n",
    "\n",
    "    coarse_models.append(coarse_model_0)\n",
    "\n",
    "# Level 1\n",
    "with pm.Model() as coarse_model_1:\n",
    "    # A variable Q has to be defined if you want to use the variance reduction feature\n",
    "    # Q can be of any dimension - here it a scalar\n",
    "    Q = pm.Data(\"Q\", np.float64(0.0))\n",
    "\n",
    "    # Define priors\n",
    "    intercept = pm.Normal(\"Intercept\", 0, sigma=20)\n",
    "    x_coeff = pm.Normal(\"x\", 0, sigma=20)\n",
    "\n",
    "    # convert thetas to a tensor vector\n",
    "    theta = tt.as_tensor_variable([intercept, x_coeff])\n",
    "\n",
    "    # Here we instantiate a Likelihood object using the class defined above\n",
    "    # and we add to the mout list. We pass the coarse data x_coarse_1 and y_coarse_1\n",
    "    # and the coarse pymc3 model coarse_model_1. This creates a coarse likelihood.\n",
    "    mout.append(Likelihood(x_coarse_1, y_coarse_1, coarse_model_1))\n",
    "\n",
    "    # This uses the likelihood object to define the likelihood of the model, given theta\n",
    "    pm.Potential(\"likelihood\", mout[1](theta))\n",
    "\n",
    "    coarse_models.append(coarse_model_1)"
   ]
  },
  {
   "cell_type": "markdown",
   "metadata": {},
   "source": [
    "### Define the fine model and sample\n",
    "Here we define the fine (i.e. correct) model and sample from it using MLDA (with and without variance reduction).\n",
    "Note that `Q` is used here too.\n",
    "\n",
    "We create two MLDA samplers, one with VR activated and one without."
   ]
  },
  {
   "cell_type": "code",
   "execution_count": null,
   "metadata": {},
   "outputs": [],
   "source": [
    "with pm.Model() as model:\n",
    "    # A variable Q has to be defined if you want to use the variance reduction feature\n",
    "    # Q can be of any dimension - here it a scalar\n",
    "    Q = pm.Data(\"Q\", np.float64(0.0))\n",
    "\n",
    "    # Define priors\n",
    "    intercept = pm.Normal(\"Intercept\", 0, sigma=20)\n",
    "    x_coeff = pm.Normal(\"x\", 0, sigma=20)\n",
    "\n",
    "    # convert thetas to a tensor vector\n",
    "    theta = tt.as_tensor_variable([intercept, x_coeff])\n",
    "\n",
    "    # Here we instantiate a Likelihood object using the class defined above\n",
    "    # and we add to the mout list. We pass the fine data x and y\n",
    "    # and the fine pymc3 model model. This creates a fine likelihood.\n",
    "    mout.append(Likelihood(x, y, model))\n",
    "\n",
    "    # This uses the likelihood object to define the likelihood of the model, given theta\n",
    "    pm.Potential(\"likelihood\", mout[-1](theta))\n",
    "\n",
    "    # MLDA with variance reduction\n",
    "    step_with = pm.MLDA(\n",
    "        coarse_models=coarse_models, subsampling_rates=nsub, variance_reduction=True\n",
    "    )\n",
    "\n",
    "    # MLDA without variance reduction\n",
    "    step_without = pm.MLDA(\n",
    "        coarse_models=coarse_models,\n",
    "        subsampling_rates=nsub,\n",
    "        variance_reduction=False,\n",
    "        store_Q_fine=True,\n",
    "    )\n",
    "\n",
    "    # sample\n",
    "    trace1 = pm.sample(\n",
    "        draws=ndraws,\n",
    "        step=step_with,\n",
    "        chains=nchains,\n",
    "        tune=ntune,\n",
    "        discard_tuned_samples=True,\n",
    "        random_seed=RANDOM_SEED,\n",
    "        cores=1,\n",
    "    )\n",
    "\n",
    "    trace2 = pm.sample(\n",
    "        draws=ndraws,\n",
    "        step=step_without,\n",
    "        chains=nchains,\n",
    "        tune=ntune,\n",
    "        discard_tuned_samples=True,\n",
    "        random_seed=RANDOM_SEED,\n",
    "        cores=1,\n",
    "    )"
   ]
  },
  {
   "cell_type": "markdown",
   "metadata": {},
   "source": [
    "### Show stats summary"
   ]
  },
  {
   "cell_type": "code",
   "execution_count": null,
   "metadata": {},
   "outputs": [],
   "source": [
    "with model:\n",
    "    trace1_az = az.from_pymc3(trace1)\n",
    "az.summary(trace1_az)"
   ]
  },
  {
   "cell_type": "code",
   "execution_count": null,
   "metadata": {},
   "outputs": [],
   "source": [
    "with model:\n",
    "    trace2_az = az.from_pymc3(trace2)\n",
    "az.summary(trace2_az)"
   ]
  },
  {
   "cell_type": "markdown",
   "metadata": {},
   "source": [
    "### Show traceplots"
   ]
  },
  {
   "cell_type": "code",
   "execution_count": null,
   "metadata": {},
   "outputs": [],
   "source": [
    "az.plot_trace(trace1_az)"
   ]
  },
  {
   "cell_type": "code",
   "execution_count": null,
   "metadata": {},
   "outputs": [],
   "source": [
    "az.plot_trace(trace1_az)"
   ]
  },
  {
   "cell_type": "markdown",
   "metadata": {},
   "source": [
    "### Estimate standard error of two methods\n",
    "Compare standard error of Q estimation between:\n",
    "- Standard approach: Using only Q values from the fine chain (Q_2) - samples from MLDA without VR\n",
    "- Collapsing sum (VR) approach: Using Q values from the coarsest chain (Q_0), plus all estimates of differences between levels (in this case Q_1_0 and Q_2_1) - samples from MLDA with VR"
   ]
  },
  {
   "cell_type": "markdown",
   "metadata": {},
   "source": [
    "#### 0) Convenience function for quantity of interest estimate\n",
    "The easiest way to extract the quantity of interest expectation and standard error for the collapsing sum (VR) approach directly from the trace is to use the `extract_Q_estimate(...)` function as shown here.\n",
    "\n",
    "In the remaining part of the notebook we demonstrate the extraction in detail without using this convenience function."
   ]
  },
  {
   "cell_type": "code",
   "execution_count": null,
   "metadata": {},
   "outputs": [],
   "source": [
    "Q_expectation, Q_SE = pm.step_methods.mlda.extract_Q_estimate(trace=trace1, levels=3)\n",
    "print(Q_expectation, Q_SE)"
   ]
  },
  {
   "cell_type": "markdown",
   "metadata": {},
   "source": [
    "#### 1) Extract quantities of interest from the traces\n",
    "This requires some reshaping with numpy. Note that we append the samples from all chains into one long array."
   ]
  },
  {
   "cell_type": "code",
   "execution_count": null,
   "metadata": {},
   "outputs": [],
   "source": [
    "# MLDA without VR\n",
    "Q_2 = trace2.get_sampler_stats(\"Q_2\").reshape((1, nchains * ndraws))\n",
    "\n",
    "# MLDA with VR\n",
    "Q_0 = np.concatenate(trace1.get_sampler_stats(\"Q_0\")).reshape((1, nchains * ndraws * nsub * nsub))\n",
    "Q_1_0 = np.concatenate(trace1.get_sampler_stats(\"Q_1_0\")).reshape((1, nchains * ndraws * nsub))\n",
    "Q_2_1 = np.concatenate(trace1.get_sampler_stats(\"Q_2_1\")).reshape((1, nchains * ndraws))\n",
    "\n",
    "# Estimates\n",
    "Q_mean_standard = Q_2.mean()\n",
    "Q_mean_vr = Q_0.mean() + Q_1_0.mean() + Q_2_1.mean()\n",
    "\n",
    "print(f\"Q_0 mean = {Q_0.mean()}\")\n",
    "print(f\"Q_1_0 mean = {Q_1_0.mean()}\")\n",
    "print(f\"Q_2_1 mean = {Q_2_1.mean()}\")\n",
    "print(f\"Q_2 mean = {Q_2.mean()}\")\n",
    "print(f\"Standard method:    Mean: {Q_mean_standard}\")\n",
    "print(f\"VR method:    Mean: {Q_mean_vr}\")"
   ]
  },
  {
   "cell_type": "markdown",
   "metadata": {},
   "source": [
    "#### Calculate variances of Q quantity samples\n",
    "This shows that the variances of the differences is orders of magnitude smaller than the variance of any of the chains"
   ]
  },
  {
   "cell_type": "code",
   "execution_count": null,
   "metadata": {},
   "outputs": [],
   "source": [
    "Q_2.var()"
   ]
  },
  {
   "cell_type": "code",
   "execution_count": null,
   "metadata": {},
   "outputs": [],
   "source": [
    "Q_0.var()"
   ]
  },
  {
   "cell_type": "code",
   "execution_count": null,
   "metadata": {},
   "outputs": [],
   "source": [
    "Q_1_0.var()"
   ]
  },
  {
   "cell_type": "code",
   "execution_count": null,
   "metadata": {},
   "outputs": [],
   "source": [
    "Q_2_1.var()"
   ]
  },
  {
   "cell_type": "markdown",
   "metadata": {},
   "source": [
    "#### Calculate standard error of each term using ESS"
   ]
  },
  {
   "cell_type": "code",
   "execution_count": null,
   "metadata": {},
   "outputs": [],
   "source": [
    "ess_Q0 = az.ess(np.array(Q_0, np.float64))\n",
    "ess_Q_1_0 = az.ess(np.array(Q_1_0, np.float64))\n",
    "ess_Q_2_1 = az.ess(np.array(Q_2_1, np.float64))\n",
    "ess_Q2 = az.ess(np.array(Q_2, np.float64))"
   ]
  },
  {
   "cell_type": "code",
   "execution_count": null,
   "metadata": {},
   "outputs": [],
   "source": [
    "# note that the chain in level 2 has much fewer samples than the chain in level 0 (because of the subsampling rates)\n",
    "print(ess_Q2, ess_Q0, ess_Q_1_0, ess_Q_2_1)"
   ]
  },
  {
   "cell_type": "markdown",
   "metadata": {},
   "source": [
    "Standard errors are estimated by $Var(Q) \\over ESS(Q)$. \n",
    "It is clear that the differences have standard errors much lower than levels 0 and 2"
   ]
  },
  {
   "cell_type": "code",
   "execution_count": null,
   "metadata": {},
   "outputs": [],
   "source": [
    "Q_2.var() / ess_Q2"
   ]
  },
  {
   "cell_type": "code",
   "execution_count": null,
   "metadata": {},
   "outputs": [],
   "source": [
    "Q_0.var() / ess_Q0"
   ]
  },
  {
   "cell_type": "code",
   "execution_count": null,
   "metadata": {},
   "outputs": [],
   "source": [
    "Q_1_0.var() / ess_Q_1_0"
   ]
  },
  {
   "cell_type": "code",
   "execution_count": null,
   "metadata": {},
   "outputs": [],
   "source": [
    "Q_2_1.var() / ess_Q_2_1"
   ]
  },
  {
   "cell_type": "markdown",
   "metadata": {},
   "source": [
    "#### Calculate total standard errors of the two competing estimates with different chunks of the sample\n",
    "The graph shows how the errors decay when we collect more samples, demonstrating the gains of the VR technique in terms of standard error reduction."
   ]
  },
  {
   "cell_type": "code",
   "execution_count": null,
   "metadata": {},
   "outputs": [],
   "source": [
    "step = 100\n",
    "\n",
    "Q2_SE = np.zeros(int(nchains * ndraws / step))\n",
    "Q0_SE = np.zeros(int(nchains * ndraws / step))\n",
    "Q_1_0_SE = np.zeros(int(nchains * ndraws / step))\n",
    "Q_2_1_SE = np.zeros(int(nchains * ndraws / step))\n",
    "E_standard_SE = np.zeros(int(nchains * ndraws / step))\n",
    "E_VR_SE = np.zeros(int(nchains * ndraws / step))\n",
    "k = 0\n",
    "\n",
    "for i in np.arange(step, nchains * ndraws + 1, step):\n",
    "    Q2_SE[k] = Q_2[0, 0:i].var() / az.ess(np.array(Q_2[0, 0:i], np.float64))\n",
    "    Q0_SE[k] = Q_0[0, 0 : i * (nsub**2)].var() / az.ess(\n",
    "        np.array(Q_0[0, 0 : i * (nsub**2)], np.float64)\n",
    "    )\n",
    "    Q_1_0_SE[k] = Q_1_0[0, 0 : i * nsub].var() / az.ess(\n",
    "        np.array(Q_1_0[0, 0 : i * nsub], np.float64)\n",
    "    )\n",
    "    Q_2_1_SE[k] = Q_2_1[0, 0:i].var() / az.ess(np.array(Q_2_1[0, 0:i], np.float64))\n",
    "    E_standard_SE[k] = np.sqrt(Q2_SE[k])\n",
    "    E_VR_SE[k] = np.sqrt(Q0_SE[k] + Q_1_0_SE[k] + Q_2_1_SE[k])\n",
    "    k += 1\n",
    "\n",
    "fig = plt.figure()\n",
    "ax = fig.gca()\n",
    "\n",
    "for axis in [ax.yaxis]:\n",
    "    axis.set_major_formatter(ScalarFormatter())\n",
    "\n",
    "ax.plot(np.arange(step, nchains * ndraws + 1, step), E_standard_SE)\n",
    "ax.plot(np.arange(step, nchains * ndraws + 1, step), E_VR_SE)\n",
    "plt.xlabel(\"Samples drawn\", fontsize=18)\n",
    "plt.ylabel(\"Standard error\", fontsize=18)\n",
    "ax.legend([\"Standard estimator\", \"Variance reduction estimator\"])\n",
    "plt.show()"
   ]
  },
  {
   "cell_type": "code",
   "execution_count": null,
   "metadata": {},
   "outputs": [],
   "source": [
    "%load_ext watermark\n",
    "%watermark -n -u -v -iv -w"
   ]
  }
 ],
 "metadata": {
  "kernelspec": {
   "display_name": "Python PyMC3 (Dev)",
   "language": "python",
   "name": "pymc3-dev-py38"
  },
  "language_info": {
   "codemirror_mode": {
    "name": "ipython",
    "version": 3
   },
   "file_extension": ".py",
   "mimetype": "text/x-python",
   "name": "python",
   "nbconvert_exporter": "python",
   "pygments_lexer": "ipython3",
   "version": "3.8.6"
  }
 },
 "nbformat": 4,
 "nbformat_minor": 4
}
