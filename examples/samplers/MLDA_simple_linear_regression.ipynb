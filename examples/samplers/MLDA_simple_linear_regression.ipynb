{
 "cells": [
  {
   "cell_type": "markdown",
   "metadata": {},
   "source": [
    "### The MLDA sampler\n",
    "This notebook is a good starting point to understand the basic usage of the Multi-Level Delayed Acceptance MCMC algorithm (MLDA) proposed in [1], as implemented within PyMC.\n",
    "\n",
    "It uses a simple linear regression model (and a toy coarse model counterpart) to show the basic workflow when using MLDA. The model is similar to the one used in {ref}`pymc:glm_linear`.\n",
    "\n",
    "The MLDA sampler is designed to deal with computationally intensive problems where we have access not only to the desired (fine) posterior distribution but also to a set of approximate (coarse) posteriors of decreasing accuracy and decreasing computational cost (we need at least one of those). Its main idea is that coarser chains' samples are used as proposals for the finer chains. A coarse chain runs for a fixed number of iterations and the last sample is used as a proposal for the finer chain. This has been shown to improve the effective sample size of the finest chain and this allows us to reduce the number of expensive fine-chain likelihood evaluations. \n",
    "\n",
    "The PyMC implementation supports:\n",
    "- Any number of levels\n",
    "- Two types of bottom-level samplers (Metropolis, DEMetropolisZ)\n",
    "- Various tuning parameters for the bottom-level samplers\n",
    "- Separate subsampling rates for each level\n",
    "- A choice between blocked and compound sampling for bottom-level Metropolis. \n",
    "- An adaptive error model to correct bias between coarse and fine models \n",
    "- A variance reduction technique that utilizes samples from all chains to reduce the variance of an estimated quantity of interest.\n",
    "\n",
    "For more details about the MLDA sampler and the way it should be used and parameterised, the user can refer to the docstrings in the code and to the other example notebooks which deal with more complex problem settings and more advanced MLDA features.\n",
    "\n",
    "Please note that the MLDA sampler is new in PyMC. The user should be extra critical about the results and report any problems as issues in the PyMC's github repository.\n",
    "\n",
    "[1] Dodwell, Tim & Ketelsen, Chris & Scheichl, Robert & Teckentrup, Aretha. (2019). Multilevel Markov Chain Monte Carlo. SIAM Review. 61. 509-545. https://doi.org/10.1137/19M126966X"
   ]
  },
  {
   "cell_type": "markdown",
   "metadata": {},
   "source": [
    "### Work flow\n",
    "\n",
    "MLDA is used in a similar way as most step method in PyMC. It has the special requirement that the user need to provide at least one coarse model to allow it to work.\n",
    "\n",
    "The basic flow to use MLDA consists of four steps, which we demonstrate here using a simple linear regression model with a toy coarse model counterpart."
   ]
  },
  {
   "cell_type": "markdown",
   "metadata": {},
   "source": [
    "##### Step 1: Generate some data\n",
    "\n",
    "Here, we generate a vector `x` of 200 points equally spaced between 0.0 and 1.0. Then we project those onto a straight line with intercept 1.0 and slope 2.0, adding some random noise, resulting in a vector `y`. The goal is to infer the intercept and slope from `x` and `y`, i.e. a very simple linear regression problem."
   ]
  },
  {
   "cell_type": "code",
   "execution_count": null,
   "metadata": {
    "execution": {
     "iopub.execute_input": "2022-01-09T20:51:39.816598Z",
     "iopub.status.busy": "2022-01-09T20:51:39.815597Z",
     "iopub.status.idle": "2022-01-09T20:51:43.425025Z",
     "shell.execute_reply": "2022-01-09T20:51:43.426025Z"
    }
   },
   "outputs": [],
   "source": [
    "# Import libraries\n",
    "import time as time\n",
    "import warnings\n",
    "\n",
    "import arviz as az\n",
    "import matplotlib.pyplot as plt\n",
    "import numpy as np\n",
    "import pymc as pm"
   ]
  },
  {
   "cell_type": "code",
   "execution_count": null,
   "metadata": {
    "execution": {
     "iopub.execute_input": "2022-01-09T20:51:43.433026Z",
     "iopub.status.busy": "2022-01-09T20:51:43.432025Z",
     "iopub.status.idle": "2022-01-09T20:51:43.439027Z",
     "shell.execute_reply": "2022-01-09T20:51:43.440024Z"
    }
   },
   "outputs": [],
   "source": [
    "az.style.use(\"arviz-darkgrid\")"
   ]
  },
  {
   "cell_type": "code",
   "execution_count": null,
   "metadata": {
    "execution": {
     "iopub.execute_input": "2022-01-09T20:51:43.443025Z",
     "iopub.status.busy": "2022-01-09T20:51:43.443025Z",
     "iopub.status.idle": "2022-01-09T20:51:43.455031Z",
     "shell.execute_reply": "2022-01-09T20:51:43.456024Z"
    }
   },
   "outputs": [],
   "source": [
    "warnings.filterwarnings(\"ignore\")"
   ]
  },
  {
   "cell_type": "code",
   "execution_count": null,
   "metadata": {
    "execution": {
     "iopub.execute_input": "2022-01-09T20:51:43.461024Z",
     "iopub.status.busy": "2022-01-09T20:51:43.460027Z",
     "iopub.status.idle": "2022-01-09T20:51:43.470503Z",
     "shell.execute_reply": "2022-01-09T20:51:43.470503Z"
    }
   },
   "outputs": [],
   "source": [
    "# Generate data\n",
    "RANDOM_SEED = 915623497\n",
    "np.random.seed(RANDOM_SEED)\n",
    "\n",
    "true_intercept = 1\n",
    "true_slope = 2\n",
    "sigma = 1\n",
    "\n",
    "size = 200\n",
    "x = np.linspace(0, 1, size)\n",
    "y = true_intercept + true_slope * x + np.random.normal(0, sigma**2, size)"
   ]
  },
  {
   "cell_type": "code",
   "execution_count": null,
   "metadata": {
    "execution": {
     "iopub.execute_input": "2022-01-09T20:51:43.508505Z",
     "iopub.status.busy": "2022-01-09T20:51:43.506508Z",
     "iopub.status.idle": "2022-01-09T20:51:43.709504Z",
     "shell.execute_reply": "2022-01-09T20:51:43.708503Z"
    }
   },
   "outputs": [],
   "source": [
    "# Plot the data\n",
    "fig = plt.figure(figsize=(7, 7))\n",
    "ax = fig.add_subplot(111, xlabel=\"x\", ylabel=\"y\", title=\"Generated data and underlying model\")\n",
    "ax.plot(x, y, \"x\", label=\"sampled data\")\n",
    "ax.plot(x, true_intercept + true_slope * x, label=\"true regression line\", lw=2.0)\n",
    "plt.legend(loc=0);"
   ]
  },
  {
   "cell_type": "markdown",
   "metadata": {},
   "source": [
    "##### Step 2: Define the fine model\n",
    "\n",
    "In this step we use the PyMC model definition language to define the priors and the likelihood. We choose non-informative Normal priors for both intercept and slope and a Normal likelihood, where we feed in `x` and `y`."
   ]
  },
  {
   "cell_type": "code",
   "execution_count": null,
   "metadata": {
    "execution": {
     "iopub.execute_input": "2022-01-09T20:51:43.715505Z",
     "iopub.status.busy": "2022-01-09T20:51:43.715505Z",
     "iopub.status.idle": "2022-01-09T20:51:45.256937Z",
     "shell.execute_reply": "2022-01-09T20:51:45.256937Z"
    }
   },
   "outputs": [],
   "source": [
    "# Constructing the fine model\n",
    "with pm.Model() as fine_model:\n",
    "    # Define priors\n",
    "    intercept = pm.Normal(\"intercept\", 0, sigma=20)\n",
    "    slope = pm.Normal(\"slope\", 0, sigma=20)\n",
    "\n",
    "    # Define likelihood\n",
    "    likelihood = pm.Normal(\"y\", mu=intercept + slope * x, sigma=sigma, observed=y)"
   ]
  },
  {
   "cell_type": "markdown",
   "metadata": {},
   "source": [
    "##### Step 3: Define a coarse model\n",
    "    \n",
    "Here, we define a toy coarse model where coarseness is introduced by using fewer data in the likelihood compared to the fine model, i.e. we only use every 2nd data point from the original data set."
   ]
  },
  {
   "cell_type": "code",
   "execution_count": null,
   "metadata": {
    "execution": {
     "iopub.execute_input": "2022-01-09T20:51:45.261939Z",
     "iopub.status.busy": "2022-01-09T20:51:45.260939Z",
     "iopub.status.idle": "2022-01-09T20:51:45.272937Z",
     "shell.execute_reply": "2022-01-09T20:51:45.274934Z"
    }
   },
   "outputs": [],
   "source": [
    "# Thinning the data set\n",
    "x_coarse = x[::2]\n",
    "y_coarse = y[::2]"
   ]
  },
  {
   "cell_type": "code",
   "execution_count": null,
   "metadata": {
    "execution": {
     "iopub.execute_input": "2022-01-09T20:51:45.288939Z",
     "iopub.status.busy": "2022-01-09T20:51:45.288939Z",
     "iopub.status.idle": "2022-01-09T20:51:45.303937Z",
     "shell.execute_reply": "2022-01-09T20:51:45.304938Z"
    }
   },
   "outputs": [],
   "source": [
    "# Constructing the coarse model\n",
    "with pm.Model() as coarse_model:\n",
    "    # Define priors\n",
    "    intercept = pm.Normal(\"intercept\", 0, sigma=20)\n",
    "    slope = pm.Normal(\"slope\", 0, sigma=20)\n",
    "\n",
    "    # Define likelihood\n",
    "    likelihood = pm.Normal(\"y\", mu=intercept + slope * x_coarse, sigma=sigma, observed=y_coarse)"
   ]
  },
  {
   "cell_type": "markdown",
   "metadata": {},
   "source": [
    "##### Step 4: Draw MCMC samples from the posterior using MLDA \n",
    "\n",
    "We feed `coarse_model` to the MLDA instance and we also set `subsampling_rate` to 10. The subsampling rate is the number of samples drawn in the coarse chain to construct a proposal for the fine chain. In this case, MLDA draws 10 samples in the coarse chain and uses the last one as a proposal for the fine chain. This is accepted or rejected by the fine chain and then control goes back to the coarse chain which generates another 10 samples, etc. Note that `pm.MLDA` has many other tuning arguments which can be found in the documentation. \n",
    "\n",
    "Next, we use the universal `pm.sample` method, passing the MLDA instance to it. This runs MLDA and returns a `trace`, containing all MCMC samples and various by-products. Here, we also run standard Metropolis and DEMetropolisZ samplers for comparison, which return separate traces. We time the runs to compare later.\n",
    "\n",
    "Finally, PyMC provides various functions to visualise the trace and print summary statistics (two of them are shown below)."
   ]
  },
  {
   "cell_type": "code",
   "execution_count": null,
   "metadata": {
    "execution": {
     "iopub.execute_input": "2022-01-09T20:51:45.312942Z",
     "iopub.status.busy": "2022-01-09T20:51:45.311938Z",
     "iopub.status.idle": "2022-01-09T20:57:09.003029Z",
     "shell.execute_reply": "2022-01-09T20:57:09.004033Z"
    }
   },
   "outputs": [],
   "source": [
    "with fine_model:\n",
    "    # Initialise step methods\n",
    "    step = pm.MLDA(coarse_models=[coarse_model], subsampling_rates=[10])\n",
    "    step_2 = pm.Metropolis()\n",
    "    step_3 = pm.DEMetropolisZ()\n",
    "\n",
    "    # Sample using MLDA\n",
    "    t_start = time.time()\n",
    "    trace = pm.sample(draws=6000, chains=4, tune=2000, step=step, random_seed=RANDOM_SEED)\n",
    "    runtime = time.time() - t_start\n",
    "\n",
    "    # Sample using Metropolis\n",
    "    t_start = time.time()\n",
    "    trace_2 = pm.sample(draws=6000, chains=4, tune=2000, step=step_2, random_seed=RANDOM_SEED)\n",
    "    runtime_2 = time.time() - t_start\n",
    "\n",
    "    # Sample using DEMetropolisZ\n",
    "    t_start = time.time()\n",
    "    trace_3 = pm.sample(draws=6000, chains=4, tune=2000, step=step_3, random_seed=RANDOM_SEED)\n",
    "    runtime_3 = time.time() - t_start"
   ]
  },
  {
   "cell_type": "code",
   "execution_count": null,
   "metadata": {
    "execution": {
     "iopub.execute_input": "2022-01-09T20:57:09.012027Z",
     "iopub.status.busy": "2022-01-09T20:57:09.012027Z",
     "iopub.status.idle": "2022-01-09T20:57:10.833623Z",
     "shell.execute_reply": "2022-01-09T20:57:10.834622Z"
    }
   },
   "outputs": [],
   "source": [
    "# Trace plots\n",
    "az.plot_trace(trace)\n",
    "az.plot_trace(trace_2)\n",
    "az.plot_trace(trace_3)"
   ]
  },
  {
   "cell_type": "code",
   "execution_count": null,
   "metadata": {
    "execution": {
     "iopub.execute_input": "2022-01-09T20:57:10.841623Z",
     "iopub.status.busy": "2022-01-09T20:57:10.839622Z",
     "iopub.status.idle": "2022-01-09T20:57:10.910624Z",
     "shell.execute_reply": "2022-01-09T20:57:10.910624Z"
    }
   },
   "outputs": [],
   "source": [
    "# Summary statistics for MLDA\n",
    "az.summary(trace)"
   ]
  },
  {
   "cell_type": "code",
   "execution_count": null,
   "metadata": {
    "execution": {
     "iopub.execute_input": "2022-01-09T20:57:10.915623Z",
     "iopub.status.busy": "2022-01-09T20:57:10.914621Z",
     "iopub.status.idle": "2022-01-09T20:57:10.989091Z",
     "shell.execute_reply": "2022-01-09T20:57:10.990091Z"
    }
   },
   "outputs": [],
   "source": [
    "# Summary statistics for Metropolis\n",
    "az.summary(trace_2)"
   ]
  },
  {
   "cell_type": "code",
   "execution_count": null,
   "metadata": {
    "execution": {
     "iopub.execute_input": "2022-01-09T20:57:10.994091Z",
     "iopub.status.busy": "2022-01-09T20:57:10.994091Z",
     "iopub.status.idle": "2022-01-09T20:57:11.054091Z",
     "shell.execute_reply": "2022-01-09T20:57:11.053091Z"
    }
   },
   "outputs": [],
   "source": [
    "# Summary statistics for DEMetropolisZ\n",
    "az.summary(trace_3)"
   ]
  },
  {
   "cell_type": "code",
   "execution_count": null,
   "metadata": {
    "execution": {
     "iopub.execute_input": "2022-01-09T20:57:11.059094Z",
     "iopub.status.busy": "2022-01-09T20:57:11.059094Z",
     "iopub.status.idle": "2022-01-09T20:57:11.117092Z",
     "shell.execute_reply": "2022-01-09T20:57:11.117092Z"
    }
   },
   "outputs": [],
   "source": [
    "# Make sure samplers have converged\n",
    "assert all(az.rhat(trace) < 1.03)\n",
    "assert all(az.rhat(trace_2) < 1.03)\n",
    "assert all(az.rhat(trace_3) < 1.03)"
   ]
  },
  {
   "cell_type": "code",
   "execution_count": null,
   "metadata": {
    "execution": {
     "iopub.execute_input": "2022-01-09T20:57:11.121092Z",
     "iopub.status.busy": "2022-01-09T20:57:11.121092Z",
     "iopub.status.idle": "2022-01-09T20:57:11.132101Z",
     "shell.execute_reply": "2022-01-09T20:57:11.132101Z"
    }
   },
   "outputs": [],
   "source": [
    "# Display runtimes\n",
    "print(f\"Runtimes: MLDA: {runtime}, Metropolis: {runtime_2}, DEMetropolisZ: {runtime_3}\")"
   ]
  },
  {
   "cell_type": "markdown",
   "metadata": {},
   "source": [
    "##### Comments\n",
    "\n",
    "**Performance:**\n",
    "\n",
    "You can see from the summary statistics above that MLDA's ESS is ~13x higher than Metropolis and ~2.5x higher than DEMetropolisZ. The runtime of MLDA is ~3.5x larger than either Metropolis or DEMetropolisZ. Therefore in this toy example MLDA is almost an overkill (especially compared to DEMetropolisZ). For more complex problems, where the difference in computational cost between the coarse and fine models/likelihoods is orders of magnitude, MLDA is expected to outperform the other two samplers, as long as the coarse model is reasonably close to the fine one. This case is often encountered in inverse problems in engineering, ecology, imaging, etc where a forward model can be defined with varying coarseness in space and/or time (e.g. subsurface water flow, predator prey models, etc). For an example of this, please see the `MLDA_gravity_surveying.ipynb notebook` in the same folder.\n",
    "\n",
    "**Subsampling rate:**\n",
    "\n",
    "The MLDA sampler is based on the assumption that the coarse proposal samples (i.e. the samples proposed from the coarse chain to the fine one) are independent (or almost independent) from each other. In order to generate independent samples, it is necessary to run the coarse chain for an adequate number of iterations to get rid of autocorrelation. Therefore, the higher the autocorrelation in the coarse chain, the more iterations are needed and the larger the subsampling rate should be. \n",
    "\n",
    "Values larger than the minimum for beating autocorreletion can further improve the proposal (as the distribution is explored better and the proposal are imptoved), and thus ESS. But at the same time more steps cost more computationally. Users are encouraged to do test runs with different subsampling rates to understand which gives the best ESS/sec. \n",
    "\n",
    "Note that in cases where you have more than one coarse model/level, MLDA allows you to choose a different subsampling rate for each coarse level (as a list of integers when you instantiate the stepper)."
   ]
  },
  {
   "cell_type": "code",
   "execution_count": null,
   "metadata": {
    "execution": {
     "iopub.execute_input": "2022-01-09T20:57:11.137101Z",
     "iopub.status.busy": "2022-01-09T20:57:11.136099Z",
     "iopub.status.idle": "2022-01-09T20:57:11.179100Z",
     "shell.execute_reply": "2022-01-09T20:57:11.179100Z"
    }
   },
   "outputs": [],
   "source": [
    "# Show packages' and Python's versions\n",
    "%load_ext watermark\n",
    "%watermark -n -u -v -iv -w"
   ]
  }
 ],
 "metadata": {
  "kernelspec": {
   "display_name": "Python (PyMC Dev)",
   "language": "python",
   "name": "pymc-dev"
  },
  "language_info": {
   "codemirror_mode": {
    "name": "ipython",
    "version": 3
   },
   "file_extension": ".py",
   "mimetype": "text/x-python",
   "name": "python",
   "nbconvert_exporter": "python",
   "pygments_lexer": "ipython3",
   "version": "3.8.10"
  }
 },
 "nbformat": 4,
 "nbformat_minor": 4
}
