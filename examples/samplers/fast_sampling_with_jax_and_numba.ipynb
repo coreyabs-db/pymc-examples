{
 "cells": [
  {
   "cell_type": "markdown",
   "metadata": {},
   "source": [
    "(faster_sampling_notebook)=\n",
    "\n",
    "# Faster Sampling with JAX and Numba\n",
    "\n",
    ":::{post} July 11, 2023\n",
    ":tags: hierarchical model, JAX, numba, scaling\n",
    ":category: reference, intermediate\n",
    ":author: Thomas Wiecki\n",
    ":::"
   ]
  },
  {
   "cell_type": "markdown",
   "metadata": {},
   "source": [
    "PyMC can compile its models to various execution backends through PyTensor, including:\n",
    "* C\n",
    "* JAX\n",
    "* Numba\n",
    "\n",
    "By default, PyMC is using the C backend which then gets called by the Python-based samplers.\n",
    "\n",
    "However, by compiling to other backends, we can use samplers written in other languages than Python that call the PyMC model without any Python-overhead.\n",
    "\n",
    "For the JAX backend there is the NumPyro and BlackJAX NUTS sampler available. To use these samplers, you have to install `numpyro` and `blackjax`. Both of them are available through conda/mamba: `mamba install -c conda-forge numpyro blackjax`.\n",
    "\n",
    "For the Numba backend, there is the [Nutpie sampler](https://github.com/pymc-devs/nutpie) writte in Rust. To use this sampler you need `nutpie` installed: `mamba install -c conda-forge nutpie`. "
   ]
  },
  {
   "cell_type": "code",
   "execution_count": null,
   "metadata": {},
   "outputs": [],
   "source": [
    "import arviz as az\n",
    "import matplotlib.pyplot as plt\n",
    "import numpy as np\n",
    "import pymc as pm\n",
    "\n",
    "rng = np.random.default_rng(seed=42)\n",
    "print(f\"Running on PyMC v{pm.__version__}\")"
   ]
  },
  {
   "cell_type": "code",
   "execution_count": null,
   "metadata": {},
   "outputs": [],
   "source": [
    "%config InlineBackend.figure_format = 'retina'\n",
    "az.style.use(\"arviz-darkgrid\")"
   ]
  },
  {
   "cell_type": "markdown",
   "metadata": {},
   "source": [
    "We will use a simple probabilistic PCA model as our example."
   ]
  },
  {
   "cell_type": "code",
   "execution_count": null,
   "metadata": {},
   "outputs": [],
   "source": [
    "def build_toy_dataset(N, D, K, sigma=1):\n",
    "    x_train = np.zeros((D, N))\n",
    "    w = rng.normal(\n",
    "        0.0,\n",
    "        2.0,\n",
    "        size=(D, K),\n",
    "    )\n",
    "    z = rng.normal(0.0, 1.0, size=(K, N))\n",
    "    mean = np.dot(w, z)\n",
    "    for d in range(D):\n",
    "        for n in range(N):\n",
    "            x_train[d, n] = rng.normal(mean[d, n], sigma)\n",
    "\n",
    "    print(\"True principal axes:\")\n",
    "    print(w)\n",
    "    return x_train\n",
    "\n",
    "\n",
    "N = 5000  # number of data points\n",
    "D = 2  # data dimensionality\n",
    "K = 1  # latent dimensionality\n",
    "\n",
    "data = build_toy_dataset(N, D, K)"
   ]
  },
  {
   "cell_type": "code",
   "execution_count": null,
   "metadata": {},
   "outputs": [],
   "source": [
    "plt.scatter(data[0, :], data[1, :], color=\"blue\", alpha=0.1)\n",
    "plt.axis([-10, 10, -10, 10])\n",
    "plt.title(\"Simulated data set\")"
   ]
  },
  {
   "cell_type": "code",
   "execution_count": null,
   "metadata": {},
   "outputs": [],
   "source": [
    "with pm.Model() as PPCA:\n",
    "    w = pm.Normal(\"w\", mu=0, sigma=2, shape=[D, K], transform=pm.distributions.transforms.Ordered())\n",
    "    z = pm.Normal(\"z\", mu=0, sigma=1, shape=[N, K])\n",
    "    x = pm.Normal(\"x\", mu=w.dot(z.T), sigma=1, shape=[D, N], observed=data)"
   ]
  },
  {
   "cell_type": "markdown",
   "metadata": {},
   "source": [
    "## Sampling using Python NUTS sampler"
   ]
  },
  {
   "cell_type": "code",
   "execution_count": null,
   "metadata": {},
   "outputs": [],
   "source": [
    "%%time\n",
    "with PPCA:\n",
    "    idata_pymc = pm.sample()"
   ]
  },
  {
   "cell_type": "markdown",
   "metadata": {},
   "source": [
    "## Sampling using NumPyro JAX NUTS sampler"
   ]
  },
  {
   "cell_type": "code",
   "execution_count": null,
   "metadata": {},
   "outputs": [],
   "source": [
    "%%time\n",
    "with PPCA:\n",
    "    idata_numpyro = pm.sample(nuts_sampler=\"numpyro\", progressbar=False)"
   ]
  },
  {
   "cell_type": "markdown",
   "metadata": {},
   "source": [
    "## Sampling using BlackJAX NUTS sampler"
   ]
  },
  {
   "cell_type": "code",
   "execution_count": null,
   "metadata": {},
   "outputs": [],
   "source": [
    "%%time\n",
    "with PPCA:\n",
    "    idata_blackjax = pm.sample(nuts_sampler=\"blackjax\")"
   ]
  },
  {
   "cell_type": "markdown",
   "metadata": {},
   "source": [
    "## Sampling using Nutpie Rust NUTS sampler"
   ]
  },
  {
   "cell_type": "code",
   "execution_count": null,
   "metadata": {},
   "outputs": [],
   "source": [
    "%%time\n",
    "with PPCA:\n",
    "    idata_nutpie = pm.sample(nuts_sampler=\"nutpie\")"
   ]
  },
  {
   "cell_type": "markdown",
   "metadata": {},
   "source": [
    "## Authors\n",
    "Authored by Thomas Wiecki in July 2023"
   ]
  },
  {
   "cell_type": "code",
   "execution_count": null,
   "metadata": {},
   "outputs": [],
   "source": [
    "%load_ext watermark\n",
    "%watermark -n -u -v -iv -w -p pytensor,arviz,pymc,numpyro,blackjax,nutpie"
   ]
  },
  {
   "cell_type": "markdown",
   "metadata": {},
   "source": [
    ":::{include} ../page_footer.md\n",
    ":::"
   ]
  }
 ],
 "metadata": {
  "_draft": {
   "nbviewer_url": "https://gist.github.com/f0a28dd06620aa86142931c1f10b5434"
  },
  "anaconda-cloud": {},
  "gist": {
   "data": {
    "description": "notebooks/GLM-hierarchical.ipynb",
    "public": true
   },
   "id": "f0a28dd06620aa86142931c1f10b5434"
  },
  "kernelspec": {
   "display_name": "pymc5recent",
   "language": "python",
   "name": "pymc5recent"
  },
  "language_info": {
   "codemirror_mode": {
    "name": "ipython",
    "version": 3
   },
   "file_extension": ".py",
   "mimetype": "text/x-python",
   "name": "python",
   "nbconvert_exporter": "python",
   "pygments_lexer": "ipython3",
   "version": "3.11.4"
  },
  "latex_envs": {
   "bibliofile": "biblio.bib",
   "cite_by": "apalike",
   "current_citInitial": 1,
   "eqLabelWithNumbers": true,
   "eqNumInitial": 0
  }
 },
 "nbformat": 4,
 "nbformat_minor": 4
}
