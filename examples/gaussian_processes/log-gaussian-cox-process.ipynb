{
 "cells": [
  {
   "cell_type": "markdown",
   "metadata": {},
   "source": [
    "(log-gaussian-cox-process)=\n",
    "# Modeling spatial point patterns with a marked log-Gaussian Cox process\n",
    "\n",
    ":::{post} May 31, 2022\n",
    ":tags: cox process, latent gaussian process, nonparametric, spatial, count data\n",
    ":category: intermediate\n",
    ":author: Chrisopher Krapu, Chris Fonnesbeck\n",
    ":::"
   ]
  },
  {
   "cell_type": "markdown",
   "metadata": {},
   "source": [
    "## Introduction"
   ]
  },
  {
   "cell_type": "markdown",
   "metadata": {},
   "source": [
    "The log-Gaussian Cox process (LGCP) is a probabilistic model of point patterns typically observed in space or time. It has two main components. First, an underlying *intensity* field $\\lambda(s)$ of positive real values is modeled over the entire domain $X$ using an exponentially-transformed Gaussian process which constrains $\\lambda$ to be positive. Then, this intensity field is used to parameterize a [Poisson point process](https://en.wikipedia.org/wiki/Poisson_point_process) which represents a stochastic mechanism for placing points in space. Some phenomena amenable to this representation include the incidence of cancer cases across a county, or the spatiotemporal locations of crime events in a city. Both spatial and temporal dimensions can be handled equivalently within this framework, though this tutorial only addresses data in two spatial dimensions.\n",
    "\n",
    "In more formal terms, if we have a space $X$ and $A\\subseteq X$, the distribution over the number of points $Y_A$ occurring within subset $A$ is given by\n",
    "$$Y_A \\sim Poisson\\left(\\int_A \\lambda(s) ds\\right)$$\n",
    "and the intensity field is defined as\n",
    "$$\\log \\lambda(s) \\sim GP(\\mu(s), K(s,s'))$$\n",
    "where $GP(\\mu(s), K(s,s'))$ denotes a Gaussian process with mean function $\\mu(s)$ and covariance kernel $K(s,s')$ for a location $s \\in X$. This is one of the simplest models of point patterns of $n$ events recorded as locations $s_1,...,s_n$ in an arbitrary metric space. In conjunction with a Bayesian analysis, this model can be used to answering questions of interest such as:\n",
    "* Does an observed point pattern imply a statistically significant shift in spatial intensities?\n",
    "* What would randomly sampled patterns with the same statistical properties look like?\n",
    "* Is there a statistical correlation between the *frequency* and *magnitude* of point events?\n",
    "\n",
    "In this notebook, we'll use a grid-based approximation to the full LGCP with PyMC to fit a model and analyze its posterior summaries. We will also explore the usage of a marked Poisson process, an extension of this model to account for the distribution of *marks* associated with each data point."
   ]
  },
  {
   "cell_type": "markdown",
   "metadata": {},
   "source": [
    "## Data"
   ]
  },
  {
   "cell_type": "markdown",
   "metadata": {},
   "source": [
    "Our observational data concerns 231 sea anemones whose sizes and locations on the French coast were recorded. This data was taken from the [`spatstat` spatial modeling package in R](https://github.com/spatstat/spatstat) which is designed to address models like the LGCP and its subsequent refinements. The original source of this data is the textbook *Spatial data analysis by example* by Upton and Fingleton (1985) and a longer description of the data can be found there."
   ]
  },
  {
   "cell_type": "code",
   "execution_count": null,
   "metadata": {},
   "outputs": [],
   "source": [
    "import warnings\n",
    "\n",
    "from itertools import product\n",
    "\n",
    "import arviz as az\n",
    "import matplotlib.pyplot as plt\n",
    "import numpy as np\n",
    "import pandas as pd\n",
    "import pymc as pm\n",
    "\n",
    "from matplotlib import MatplotlibDeprecationWarning\n",
    "from numpy.random import default_rng\n",
    "\n",
    "warnings.filterwarnings(action=\"ignore\", category=MatplotlibDeprecationWarning)"
   ]
  },
  {
   "cell_type": "code",
   "execution_count": null,
   "metadata": {},
   "outputs": [],
   "source": [
    "%config InlineBackend.figure_format = 'retina'\n",
    "az.style.use(\"arviz-darkgrid\")"
   ]
  },
  {
   "cell_type": "code",
   "execution_count": null,
   "metadata": {},
   "outputs": [],
   "source": [
    "data = pd.read_csv(pm.get_data(\"anemones.csv\"))\n",
    "n = data.shape[0]"
   ]
  },
  {
   "cell_type": "markdown",
   "metadata": {},
   "source": [
    "This dataset has coordinates and discrete mark values for each anemone. While these marks are integers, for the sake of simplicity we will model these values as continuous in a later step."
   ]
  },
  {
   "cell_type": "code",
   "execution_count": null,
   "metadata": {},
   "outputs": [],
   "source": [
    "data.head(3)"
   ]
  },
  {
   "cell_type": "markdown",
   "metadata": {},
   "source": [
    "Let's take a look at this data in 2D space:"
   ]
  },
  {
   "cell_type": "code",
   "execution_count": null,
   "metadata": {},
   "outputs": [],
   "source": [
    "plt.scatter(data[\"x\"], data[\"y\"], c=data[\"marks\"])\n",
    "plt.colorbar(label=\"Anemone size\")\n",
    "plt.axis(\"equal\");"
   ]
  },
  {
   "cell_type": "markdown",
   "metadata": {},
   "source": [
    "The 'marks' column indicates the size of each anemone. If we were to model both the marks and the spatial distribution of points, we would be modeling a *marked Poisson point process*. Extending the basic point pattern model to include this feature is the second portion of this notebook."
   ]
  },
  {
   "cell_type": "markdown",
   "metadata": {},
   "source": [
    "While there are multiple ways to conduct inference, perhaps the  simplest way is to slice up our domain $X$ into many small pieces $A_1, A_2,...,A_M$ and fix the intensity field to be constant within each subset. Then, we will treat the number of points within each $A_j$ as a Poisson random variable such that $Y_j \\sim Poisson(\\lambda_j)$. and we also consider the $\\log{\\lambda_1}...,\\log{\\lambda_M}$ variables as a single draw from a Gaussian process."
   ]
  },
  {
   "cell_type": "markdown",
   "metadata": {},
   "source": [
    "The code below splits up the domain into grid cells, counts the number of points within each cell and also identifies its centroid."
   ]
  },
  {
   "cell_type": "code",
   "execution_count": null,
   "metadata": {},
   "outputs": [],
   "source": [
    "xy = data[[\"x\", \"y\"]].values\n",
    "\n",
    "# Jitter the data slightly so that none of the points fall exactly\n",
    "# on cell boundaries\n",
    "eps = 1e-3\n",
    "rng = default_rng()\n",
    "xy = xy.astype(\"float\") + rng.standard_normal(xy.shape) * eps\n",
    "\n",
    "resolution = 20\n",
    "\n",
    "# Rescaling the unit of area so that our parameter estimates\n",
    "# are easier to read\n",
    "area_per_cell = resolution**2 / 100\n",
    "\n",
    "cells_x = int(280 / resolution)\n",
    "cells_y = int(180 / resolution)\n",
    "\n",
    "# Creating bin edges for a 2D histogram\n",
    "quadrat_x = np.linspace(0, 280, cells_x + 1)\n",
    "quadrat_y = np.linspace(0, 180, cells_y + 1)\n",
    "\n",
    "# Identifying the midpoints of each grid cell\n",
    "centroids = np.asarray(list(product(quadrat_x[:-1] + 10, quadrat_y[:-1] + 10)))\n",
    "\n",
    "cell_counts, _, _ = np.histogram2d(xy[:, 0], xy[:, 1], [quadrat_x, quadrat_y])\n",
    "cell_counts = cell_counts.ravel().astype(int)"
   ]
  },
  {
   "cell_type": "markdown",
   "metadata": {},
   "source": [
    "With the points split into different cells and the cell centroids computed, we can plot our new gridded dataset as shown below."
   ]
  },
  {
   "cell_type": "code",
   "execution_count": null,
   "metadata": {},
   "outputs": [],
   "source": [
    "line_kwargs = {\"color\": \"k\", \"linewidth\": 1, \"alpha\": 0.5}\n",
    "\n",
    "plt.figure(figsize=(6, 4.5))\n",
    "[plt.axhline(y, **line_kwargs) for y in quadrat_y]\n",
    "[plt.axvline(x, **line_kwargs) for x in quadrat_x]\n",
    "plt.scatter(data[\"x\"], data[\"y\"], c=data[\"marks\"], s=6)\n",
    "\n",
    "for i, row in enumerate(centroids):\n",
    "    shifted_row = row - 2\n",
    "    plt.annotate(cell_counts[i], shifted_row, alpha=0.75)\n",
    "\n",
    "plt.title(\"Anemone counts per grid cell\"), plt.colorbar(label=\"Anemone size\");"
   ]
  },
  {
   "cell_type": "markdown",
   "metadata": {},
   "source": [
    "We can see that all of the counts are fairly low and range from zero to five. With all of our data prepared, we can go ahead and start writing out our probabilistic model in PyMC. We are going to treat each of the per-cell counts $Y_1,...Y_M$ above as a Poisson random variable."
   ]
  },
  {
   "cell_type": "markdown",
   "metadata": {},
   "source": [
    "# Inference"
   ]
  },
  {
   "cell_type": "markdown",
   "metadata": {},
   "source": [
    "Our first step is to place prior distributions over the high-level parameters for the Gaussian process. This includes the length scale $\\rho$ for the covariance function and a constant mean $\\mu$ for the GP."
   ]
  },
  {
   "cell_type": "code",
   "execution_count": null,
   "metadata": {},
   "outputs": [],
   "source": [
    "with pm.Model() as lgcp_model:\n",
    "    mu = pm.Normal(\"mu\", sigma=3)\n",
    "    rho = pm.Uniform(\"rho\", lower=25, upper=300)\n",
    "    variance = pm.InverseGamma(\"variance\", alpha=1, beta=1)\n",
    "    cov_func = variance * pm.gp.cov.Matern52(2, ls=rho)\n",
    "    mean_func = pm.gp.mean.Constant(mu)"
   ]
  },
  {
   "cell_type": "markdown",
   "metadata": {},
   "source": [
    "Next, we transform the Gaussian process into a positive-valued process via `pm.math.exp` and use the area per cell to transform the intensity function $\\lambda(s)$ into rates $\\lambda_i$ parameterizing the Poisson likelihood for the counts within cell $i$."
   ]
  },
  {
   "cell_type": "code",
   "execution_count": null,
   "metadata": {},
   "outputs": [],
   "source": [
    "with lgcp_model:\n",
    "    gp = pm.gp.Latent(mean_func=mean_func, cov_func=cov_func)\n",
    "\n",
    "    log_intensity = gp.prior(\"log_intensity\", X=centroids)\n",
    "    intensity = pm.math.exp(log_intensity)\n",
    "\n",
    "    rates = intensity * area_per_cell\n",
    "    counts = pm.Poisson(\"counts\", mu=rates, observed=cell_counts)"
   ]
  },
  {
   "cell_type": "markdown",
   "metadata": {},
   "source": [
    "With the model fully specified, we can start sampling from the posterior using the default NUTS sampler. I'll also tweak the target acceptance rate to reduce the number of divergences."
   ]
  },
  {
   "cell_type": "code",
   "execution_count": null,
   "metadata": {},
   "outputs": [],
   "source": [
    "with lgcp_model:\n",
    "    trace = pm.sample(1000, tune=2000, target_accept=0.95)"
   ]
  },
  {
   "cell_type": "markdown",
   "metadata": {},
   "source": [
    "# Interpreting the results"
   ]
  },
  {
   "cell_type": "markdown",
   "metadata": {},
   "source": [
    "Posterior inference on the length_scale parameter is useful for understanding whether or not there are long-range correlations in the data. We can also examine the mean of the log-intensity field, but since it is on the log scale it is hard to directly interpret."
   ]
  },
  {
   "cell_type": "code",
   "execution_count": null,
   "metadata": {},
   "outputs": [],
   "source": [
    "az.summary(trace, var_names=[\"mu\", \"rho\"])"
   ]
  },
  {
   "cell_type": "markdown",
   "metadata": {},
   "source": [
    "We are also interested in looking at the value of the intensity field at a large number of new points in space. We can accommodate this within our model by including a new random variable for the latent Gaussian process evaluated at a denser set of points. Using `sample_posterior_predictive`, we generate posterior predictions on new data points contained in the variable `intensity_new`."
   ]
  },
  {
   "cell_type": "code",
   "execution_count": null,
   "metadata": {},
   "outputs": [],
   "source": [
    "x_new = np.linspace(5, 275, 20)\n",
    "y_new = np.linspace(5, 175, 20)\n",
    "xs, ys = np.asarray(np.meshgrid(x_new, y_new))\n",
    "xy_new = np.asarray([xs.ravel(), ys.ravel()]).T\n",
    "\n",
    "with lgcp_model:\n",
    "    intensity_new = gp.conditional(\"log_intensity_new\", Xnew=xy_new)\n",
    "\n",
    "    spp_trace = pm.sample_posterior_predictive(\n",
    "        trace, var_names=[\"log_intensity_new\"], keep_size=True\n",
    "    )\n",
    "\n",
    "trace.extend(spp_trace)\n",
    "intensity_samples = np.exp(trace.posterior_predictive[\"log_intensity_new\"])"
   ]
  },
  {
   "cell_type": "markdown",
   "metadata": {},
   "source": [
    "Let's take a look at a few realizations of $\\lambda(s)$. Since the samples are on the log scale, we'll need to exponentiate them to obtain the spatial intensity field of our 2D Poisson process. In the plot below, the observed point pattern is overlaid."
   ]
  },
  {
   "cell_type": "code",
   "execution_count": null,
   "metadata": {},
   "outputs": [],
   "source": [
    "fig, axes = plt.subplots(2, 3, figsize=(8, 5), constrained_layout=True)\n",
    "axes = axes.ravel()\n",
    "\n",
    "field_kwargs = {\"marker\": \"o\", \"edgecolor\": \"None\", \"alpha\": 0.5, \"s\": 80}\n",
    "\n",
    "for i in range(6):\n",
    "    field_handle = axes[i].scatter(\n",
    "        xy_new[:, 0], xy_new[:, 1], c=intensity_samples.sel(chain=0, draw=i), **field_kwargs\n",
    "    )\n",
    "\n",
    "    obs_handle = axes[i].scatter(data[\"x\"], data[\"y\"], s=10, color=\"k\")\n",
    "    axes[i].axis(\"off\")\n",
    "    axes[i].set_title(f\"Sample {i}\")\n",
    "\n",
    "plt.figlegend(\n",
    "    (obs_handle, field_handle),\n",
    "    (\"Observed data\", r\"Posterior draws of $\\lambda(s)$\"),\n",
    "    ncol=2,\n",
    "    loc=(0.2, -0.01),\n",
    "    fontsize=14,\n",
    "    frameon=False,\n",
    ");"
   ]
  },
  {
   "cell_type": "markdown",
   "metadata": {},
   "source": [
    "While there is some heterogeneity in the patterns these surfaces show, we obtain a posterior mean surface with a very clearly defined spatial surface with higher intensity in the upper right and lower intensity in the lower left."
   ]
  },
  {
   "cell_type": "code",
   "execution_count": null,
   "metadata": {},
   "outputs": [],
   "source": [
    "fig = plt.figure(figsize=(5, 4))\n",
    "\n",
    "plt.scatter(\n",
    "    xy_new[:, 0],\n",
    "    xy_new[:, 1],\n",
    "    c=intensity_samples.mean((\"chain\", \"draw\")),\n",
    "    marker=\"o\",\n",
    "    alpha=0.75,\n",
    "    s=100,\n",
    "    edgecolor=None,\n",
    ")\n",
    "\n",
    "plt.title(\"$E[\\\\lambda(s) \\\\vert Y]$\")\n",
    "plt.colorbar(label=\"Posterior mean\");"
   ]
  },
  {
   "cell_type": "markdown",
   "metadata": {},
   "source": [
    "The spatial variation in our estimates of the intensity field may not be very meaningful if there is a lot of uncertainty. We can make a similar plot of the posterior variance (or standard deviation) in this case:"
   ]
  },
  {
   "cell_type": "code",
   "execution_count": null,
   "metadata": {},
   "outputs": [],
   "source": [
    "fig = plt.figure(figsize=(5, 4))\n",
    "\n",
    "plt.scatter(\n",
    "    xy_new[:, 0],\n",
    "    xy_new[:, 1],\n",
    "    c=intensity_samples.var((\"chain\", \"draw\")),\n",
    "    marker=\"o\",\n",
    "    alpha=0.75,\n",
    "    s=100,\n",
    "    edgecolor=None,\n",
    ")\n",
    "plt.title(\"$Var[\\\\lambda(s) \\\\vert Y]$\"), plt.colorbar();"
   ]
  },
  {
   "cell_type": "markdown",
   "metadata": {},
   "source": [
    "The posterior variance is lowest in the middle of the domain and largest in the corners and edges. This makes sense - in locations where there is more data, we have more accurate estimates for what the values of the intensity field may be."
   ]
  },
  {
   "cell_type": "markdown",
   "metadata": {},
   "source": [
    "## Authors\n",
    "\n",
    "- This notebook was written by [Christopher Krapu](https://github.com/ckrapu) on September 6, 2020 and updated on April 1, 2021.\n",
    "- Updated by Chris Fonnesbeck on May 31, 2022 for v4 compatibility.\n",
    "\n",
    "## Watermark"
   ]
  },
  {
   "cell_type": "code",
   "execution_count": null,
   "metadata": {},
   "outputs": [],
   "source": [
    "%load_ext watermark\n",
    "%watermark -n -u -v -iv -w"
   ]
  },
  {
   "cell_type": "markdown",
   "metadata": {},
   "source": [
    ":::{include} ../page_footer.md\n",
    ":::"
   ]
  }
 ],
 "metadata": {
  "interpreter": {
   "hash": "5429d053af7e221df99a6f00514f0d50433afea7fb367ba3ad570571d9163dca"
  },
  "kernelspec": {
   "display_name": "Python 3 (ipykernel)",
   "language": "python",
   "name": "python3"
  },
  "language_info": {
   "codemirror_mode": {
    "name": "ipython",
    "version": 3
   },
   "file_extension": ".py",
   "mimetype": "text/x-python",
   "name": "python",
   "nbconvert_exporter": "python",
   "pygments_lexer": "ipython3",
   "version": "3.9.10"
  },
  "toc": {
   "base_numbering": 1,
   "nav_menu": {},
   "number_sections": true,
   "sideBar": true,
   "skip_h1_title": false,
   "title_cell": "Table of Contents",
   "title_sidebar": "Contents",
   "toc_cell": true,
   "toc_position": {},
   "toc_section_display": true,
   "toc_window_display": true
  }
 },
 "nbformat": 4,
 "nbformat_minor": 4
}
