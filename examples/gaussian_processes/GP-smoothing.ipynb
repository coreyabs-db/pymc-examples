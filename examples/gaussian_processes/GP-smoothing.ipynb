{
 "cells": [
  {
   "cell_type": "markdown",
   "metadata": {},
   "source": [
    "# Gaussian Process (GP) smoothing\n",
    "\n",
    "This example deals with the case when we want to **smooth** the observed data points $(x_i, y_i)$ of some 1-dimensional function $y=f(x)$, by finding the new values $(x_i, y'_i)$ such that the new data is more \"smooth\" (see more on the definition of smoothness through allocation of variance in the model description below) when moving along the $x$ axis. \n",
    "\n",
    "It is important to note that we are **not** dealing with the problem of interpolating the function $y=f(x)$ at the unknown values of $x$. Such problem would be called \"regression\" not \"smoothing\", and will be considered in other examples.\n",
    "\n",
    "If we assume the functional dependency between $x$ and $y$ is **linear** then, by making the independence and normality assumptions about the noise, we can infer a straight line that approximates the dependency between the variables, i.e. perform a linear regression. We can also fit more complex functional dependencies (like quadratic, cubic, etc), if we know the functional form of the dependency in advance.\n",
    "\n",
    "However, the **functional form** of $y=f(x)$ is **not always known in advance**, and it might be hard to choose which one to fit, given the data. For example, you wouldn't necessarily know which function to use, given the following observed data. Assume you haven't seen the formula that generated it:"
   ]
  },
  {
   "cell_type": "code",
   "execution_count": null,
   "metadata": {},
   "outputs": [],
   "source": [
    "import arviz as az\n",
    "import matplotlib.pyplot as plt\n",
    "import numpy as np\n",
    "import pymc as pm\n",
    "import scipy.stats as stats\n",
    "\n",
    "from pytensor import shared\n",
    "\n",
    "%config InlineBackend.figure_format = \"retina\""
   ]
  },
  {
   "cell_type": "code",
   "execution_count": null,
   "metadata": {},
   "outputs": [],
   "source": [
    "RANDOM_SEED = 8927\n",
    "rng = np.random.default_rng(RANDOM_SEED)\n",
    "az.style.use(\"arviz-darkgrid\")\n",
    "plt.rcParams[\"figure.figsize\"] = (10, 4)"
   ]
  },
  {
   "cell_type": "code",
   "execution_count": null,
   "metadata": {},
   "outputs": [],
   "source": [
    "x = np.linspace(0, 50, 100)\n",
    "y = np.exp(1.0 + np.power(x, 0.5) - np.exp(x / 15.0)) + rng.normal(scale=1.0, size=x.shape)\n",
    "\n",
    "fig, ax = plt.subplots()\n",
    "ax.plot(x, y)\n",
    "ax.set(title=\"Observed Data\", xlabel=\"x\", ylabel=\"y\");"
   ]
  },
  {
   "cell_type": "markdown",
   "metadata": {},
   "source": [
    "### Let's try a linear regression first\n",
    "\n",
    "As humans, we see that there is a non-linear dependency with some noise, and we would like to capture that dependency. If we perform a linear regression, we see that the \"smoothed\" data is less than satisfactory:"
   ]
  },
  {
   "cell_type": "code",
   "execution_count": null,
   "metadata": {},
   "outputs": [],
   "source": [
    "lin = stats.linregress(x, y)\n",
    "\n",
    "fig, ax = plt.subplots()\n",
    "ax.plot(x, y)\n",
    "lin = stats.linregress(x, y)\n",
    "ax.plot(x, lin.intercept + lin.slope * x)\n",
    "ax.set(title=\"Linear Smoothing\", xlabel=\"x\", ylabel=\"y\");"
   ]
  },
  {
   "cell_type": "markdown",
   "metadata": {},
   "source": [
    "### Linear regression model recap\n",
    "\n",
    "The linear regression assumes there is a linear dependency between the input $x$ and output $y$, sprinkled with some noise around it so that for each observed data point we have:\n",
    "\n",
    "$$ y_i = a + b\\, x_i + \\epsilon_i $$\n",
    "\n",
    "where the observation errors at each data point satisfy:\n",
    "\n",
    "$$ \\epsilon_i \\sim N(0, \\sigma^2) $$\n",
    "\n",
    "with the same $\\sigma$, and the errors are independent:\n",
    "\n",
    "$$ cov(\\epsilon_i, \\epsilon_j) = 0 \\: \\text{ for } i \\neq j $$\n",
    "\n",
    "The parameters of this model are $a$, $b$, and $\\sigma$. It turns out that, under these assumptions, the maximum likelihood estimates of $a$ and $b$ don't depend on $\\sigma$. Then $\\sigma$ can be estimated separately, after finding the most likely values for $a$ and $b$."
   ]
  },
  {
   "cell_type": "markdown",
   "metadata": {},
   "source": [
    "### Gaussian Process smoothing model\n",
    "\n",
    "This model allows departure from the linear dependency by assuming that the dependency between $x$ and $y$ is a Brownian motion over the domain of $x$. This doesn't go as far as assuming a particular functional dependency between the variables. Instead, by **controlling the standard deviation of the unobserved Brownian motion** we can achieve different levels of smoothness of the recovered functional dependency at the original data points. \n",
    "\n",
    "The particular model we are going to discuss assumes that the observed data points are **evenly spaced** across the domain of $x$, and therefore can be indexed by $i=1,\\dots,N$ without the loss of generality. The model is described as follows:\n",
    "\n",
    "\\begin{equation}\n",
    "\\begin{aligned}\n",
    "z_i & \\sim \\mathcal{N}(z_{i-1} + \\mu, (1 - \\alpha)\\cdot\\sigma^2) \\: \\text{ for } i=2,\\dots,N \\\\\n",
    "z_1 & \\sim ImproperFlat(-\\infty,\\infty) \\\\\n",
    "y_i & \\sim \\mathcal{N}(z_i, \\alpha\\cdot\\sigma^2)\n",
    "\\end{aligned}\n",
    "\\end{equation}\n",
    "\n",
    "where $z$ is the hidden Brownian motion, $y$ is the observed data, and the total variance $\\sigma^2$ of each observation is split between the hidden Brownian motion and the noise in proportions of $1 - \\alpha$ and $\\alpha$ respectively, with parameter $0 < \\alpha < 1$ specifying the degree of smoothing.\n",
    "\n",
    "When we estimate the maximum likelihood values of the hidden process $z_i$ at each of the data points, $i=1,\\dots,N$, these values provide an approximation of the functional dependency $y=f(x)$ as $\\mathrm{E}\\,[f(x_i)] = z_i$ at the original data points $x_i$ only. Therefore, again, the method is called smoothing and not regression."
   ]
  },
  {
   "cell_type": "markdown",
   "metadata": {},
   "source": [
    "### Let's describe the above GP-smoothing model in PyMC"
   ]
  },
  {
   "cell_type": "markdown",
   "metadata": {},
   "source": [
    "Let's create a model with a shared parameter for specifying different levels of smoothing. We use very wide priors for the \"mu\" and \"tau\" parameters of the hidden Brownian motion, which you can adjust according to your application."
   ]
  },
  {
   "cell_type": "code",
   "execution_count": null,
   "metadata": {},
   "outputs": [],
   "source": [
    "LARGE_NUMBER = 1e5\n",
    "\n",
    "model = pm.Model()\n",
    "with model:\n",
    "    smoothing_param = shared(0.9)\n",
    "    mu = pm.Normal(\"mu\", sigma=LARGE_NUMBER)\n",
    "    tau = pm.Exponential(\"tau\", 1.0 / LARGE_NUMBER)\n",
    "    z = pm.GaussianRandomWalk(\n",
    "        \"z\", mu=mu, sigma=pm.math.sqrt((1.0 - smoothing_param) / tau), shape=y.shape\n",
    "    )\n",
    "    obs = pm.Normal(\"obs\", mu=z, tau=tau / smoothing_param, observed=y)"
   ]
  },
  {
   "cell_type": "markdown",
   "metadata": {},
   "source": [
    "Let's also make a helper function for inferring the most likely values of $z$:"
   ]
  },
  {
   "cell_type": "code",
   "execution_count": null,
   "metadata": {},
   "outputs": [],
   "source": [
    "def infer_z(smoothing):\n",
    "    with model:\n",
    "        smoothing_param.set_value(smoothing)\n",
    "        res = pm.find_MAP(vars=[z], method=\"L-BFGS-B\")\n",
    "        return res[\"z\"]"
   ]
  },
  {
   "cell_type": "markdown",
   "metadata": {},
   "source": [
    "Please note that in this example, we are only looking at the MAP estimate of the unobserved variables. We are not really interested in inferring the posterior distributions. Instead, we have a control parameter $\\alpha$ which lets us allocate the variance between the hidden Brownian motion and the noise. Other goals and/or different models may require sampling to obtain the posterior distributions, but for our goal a MAP estimate will suffice.\n",
    "\n",
    "### Exploring different levels of smoothing\n",
    "\n",
    "Let's try to allocate 50% variance to the noise, and see if the result matches our expectations."
   ]
  },
  {
   "cell_type": "code",
   "execution_count": null,
   "metadata": {},
   "outputs": [],
   "source": [
    "smoothing = 0.5\n",
    "z_val = infer_z(smoothing)\n",
    "\n",
    "fig, ax = plt.subplots()\n",
    "ax.plot(x, y)\n",
    "ax.plot(x, z_val)\n",
    "ax.set(title=f\"Smoothing={smoothing}\");"
   ]
  },
  {
   "cell_type": "markdown",
   "metadata": {},
   "source": [
    "It appears that the variance is split evenly between the noise and the hidden process, as expected. \n",
    "\n",
    "Let's try gradually increasing the smoothness parameter to see if we can obtain smoother data:"
   ]
  },
  {
   "cell_type": "code",
   "execution_count": null,
   "metadata": {},
   "outputs": [],
   "source": [
    "smoothing = 0.9\n",
    "z_val = infer_z(smoothing)\n",
    "\n",
    "fig, ax = plt.subplots()\n",
    "ax.plot(x, y)\n",
    "ax.plot(x, z_val)\n",
    "ax.set(title=f\"Smoothing={smoothing}\");"
   ]
  },
  {
   "cell_type": "markdown",
   "metadata": {},
   "source": [
    "### Smoothing \"to the limits\"\n",
    "\n",
    "By increasing the smoothing parameter, we can gradually make the inferred values of the hidden Brownian motion approach the average value of the data. This is because as we increase the smoothing parameter, we allow less and less of the variance to be allocated to the Brownian motion, so eventually it approaches the process which almost doesn't change over the domain of $x$:"
   ]
  },
  {
   "cell_type": "code",
   "execution_count": null,
   "metadata": {},
   "outputs": [],
   "source": [
    "fig, axes = plt.subplots(nrows=2, ncols=2)\n",
    "\n",
    "for ax, smoothing in zip(axes.ravel(), [0.95, 0.99, 0.999, 0.9999]):\n",
    "    z_val = infer_z(smoothing)\n",
    "\n",
    "    ax.plot(x, y)\n",
    "    ax.plot(x, z_val)\n",
    "    ax.set_title(f\"Smoothing={smoothing:05.4f}\")"
   ]
  },
  {
   "cell_type": "markdown",
   "metadata": {},
   "source": [
    "## References\n",
    "\n",
    ":::{bibliography}\n",
    ":filter: docname in docnames\n",
    ":::"
   ]
  },
  {
   "cell_type": "markdown",
   "metadata": {},
   "source": [
    "## Authors\n",
    "* Authored by [Andrey Kuzmenko](http://github.com/akuz)\n",
    "* Updated to v5 by [Juan Orduz](https://juanitorduz.github.io/) in Nov 2023 ([pymc-examples#603](https://github.com/pymc-devs/pymc-examples/pull/603))"
   ]
  },
  {
   "cell_type": "code",
   "execution_count": null,
   "metadata": {},
   "outputs": [],
   "source": [
    "%load_ext watermark\n",
    "%watermark -n -u -v -iv -w"
   ]
  }
 ],
 "metadata": {
  "anaconda-cloud": {},
  "kernelspec": {
   "display_name": "Python 3",
   "language": "python",
   "name": "python3"
  },
  "language_info": {
   "codemirror_mode": {
    "name": "ipython",
    "version": 3
   },
   "file_extension": ".py",
   "mimetype": "text/x-python",
   "name": "python",
   "nbconvert_exporter": "python",
   "pygments_lexer": "ipython3",
   "version": "3.11.5"
  },
  "latex_envs": {
   "bibliofile": "biblio.bib",
   "cite_by": "apalike",
   "current_citInitial": 1,
   "eqLabelWithNumbers": true,
   "eqNumInitial": 0
  }
 },
 "nbformat": 4,
 "nbformat_minor": 4
}
