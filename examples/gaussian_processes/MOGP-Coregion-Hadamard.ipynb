{
 "cells": [
  {
   "cell_type": "markdown",
   "id": "eefd7992",
   "metadata": {},
   "source": [
    "(Multi-output-GPs_Coregion)=\n",
    "# Multi-output Gaussian Processes: Coregionalization models using Hamadard product\n",
    "\n",
    ":::{post} October, 2022\n",
    ":tags: gaussian process, multi-output\n",
    ":category: intermediate\n",
    ":author: Danh Phan, Bill Engels, Chris Fonnesbeck\n",
    ":::"
   ]
  },
  {
   "cell_type": "markdown",
   "id": "2e25182d",
   "metadata": {},
   "source": [
    "This notebook shows how to implement the **Intrinsic Coregionalization Model** (ICM) and the **Linear Coregionalization Model** (LCM) using a Hamadard product between the Coregion kernel and input kernels. Multi-output Gaussian Process is discussed in [this paper](https://papers.nips.cc/paper/2007/hash/66368270ffd51418ec58bd793f2d9b1b-Abstract.html) by {cite:t}`bonilla2007multioutput`. For further information about ICM and LCM, please check out the [talk](https://www.youtube.com/watch?v=ttgUJtVJthA&list=PLpTp0l_CVmgwyAthrUmmdIFiunV1VvicM) on Multi-output Gaussian Processes by Mauricio Alvarez, and [his slides](http://gpss.cc/gpss17/slides/multipleOutputGPs.pdf) with more references at the last page.\n",
    "\n",
    "The advantage of Multi-output Gaussian Processes is their capacity to simultaneously learn and infer many outputs which have the same source of uncertainty from inputs. In this example, we model the average spin rates of several pitchers in different games from a baseball dataset."
   ]
  },
  {
   "cell_type": "code",
   "execution_count": null,
   "id": "1e05ab3a-c05f-4f49-8477-4dc4cc914dc7",
   "metadata": {},
   "outputs": [],
   "source": [
    "import arviz as az\n",
    "import matplotlib.pyplot as plt\n",
    "import numpy as np\n",
    "import pandas as pd\n",
    "import pymc as pm\n",
    "import pytensor.tensor as pt\n",
    "\n",
    "from pymc.gp.util import plot_gp_dist"
   ]
  },
  {
   "cell_type": "code",
   "execution_count": null,
   "id": "e9039374-ca54-4b8c-9817-7a2da260b410",
   "metadata": {},
   "outputs": [],
   "source": [
    "%config InlineBackend.figure_format = 'retina'\n",
    "RANDOM_SEED = 8927\n",
    "rng = np.random.default_rng(RANDOM_SEED)"
   ]
  },
  {
   "cell_type": "markdown",
   "id": "6d56b05c",
   "metadata": {},
   "source": [
    "## Preparing the data\n",
    "The baseball dataset contains the average spin rate of several pitchers on different game dates."
   ]
  },
  {
   "cell_type": "code",
   "execution_count": null,
   "id": "add79388-1776-4230-ad25-c3cbeb8345c1",
   "metadata": {},
   "outputs": [],
   "source": [
    "# get data\n",
    "try:\n",
    "    df = pd.read_csv(\"../data/fastball_spin_rates.csv\")\n",
    "except FileNotFoundError:\n",
    "    df = pd.read_csv(pm.get_data(\"fastball_spin_rates.csv\"))\n",
    "\n",
    "print(df.shape)\n",
    "df.head()"
   ]
  },
  {
   "cell_type": "code",
   "execution_count": null,
   "id": "036ed1c6-d339-4f9e-8b06-b3ea1348d9f3",
   "metadata": {},
   "outputs": [],
   "source": [
    "print(\n",
    "    f\"There are {df['pitcher_name'].nunique()} pitchers, in {df['game_date'].nunique()} game dates\"\n",
    ")"
   ]
  },
  {
   "cell_type": "code",
   "execution_count": null,
   "id": "9b997942",
   "metadata": {},
   "outputs": [],
   "source": [
    "# Standardise average spin rate\n",
    "df[\"avg_spin_rate\"] = (df[\"avg_spin_rate\"] - df[\"avg_spin_rate\"].mean()) / df[\"avg_spin_rate\"].std()\n",
    "df[\"avg_spin_rate\"].describe()"
   ]
  },
  {
   "cell_type": "markdown",
   "id": "e4155af3-9bf6-4425-8b4c-42253f098add",
   "metadata": {},
   "source": [
    "#### Top N popular pitchers"
   ]
  },
  {
   "cell_type": "code",
   "execution_count": null,
   "id": "4f1fe444-c7e3-42e5-9e4d-52d8df03d472",
   "metadata": {},
   "outputs": [],
   "source": [
    "# Get top N popular pitchers by who attended most games\n",
    "n_outputs = 5  # Top 5 popular pitchers\n",
    "top_pitchers = df.groupby(\"pitcher_name\")[\"game_date\"].count().nlargest(n_outputs).reset_index()\n",
    "top_pitchers = top_pitchers.reset_index().rename(columns={\"index\": \"output_idx\"})\n",
    "top_pitchers"
   ]
  },
  {
   "cell_type": "code",
   "execution_count": null,
   "id": "12c0341a-117a-4102-ab5a-7b9defecf937",
   "metadata": {},
   "outputs": [],
   "source": [
    "# Filter the data with only top N pitchers\n",
    "adf = df.loc[df[\"pitcher_name\"].isin(top_pitchers[\"pitcher_name\"])].copy()\n",
    "print(adf.shape)\n",
    "adf.head()"
   ]
  },
  {
   "cell_type": "code",
   "execution_count": null,
   "id": "2a1921b6",
   "metadata": {},
   "outputs": [],
   "source": [
    "adf[\"avg_spin_rate\"].describe()"
   ]
  },
  {
   "cell_type": "markdown",
   "id": "b7fd5a8d-c091-4a82-9540-3c674f09c6a8",
   "metadata": {},
   "source": [
    "#### Create a game date index"
   ]
  },
  {
   "cell_type": "code",
   "execution_count": null,
   "id": "99d34c27-415e-464e-a6fd-d917f28d5257",
   "metadata": {},
   "outputs": [],
   "source": [
    "# There are 142 game dates from 01 Apr 2021 to 03 Oct 2021.\n",
    "adf.loc[:, \"game_date\"] = pd.to_datetime(adf.loc[:, \"game_date\"])\n",
    "game_dates = adf.loc[:, \"game_date\"]\n",
    "game_dates.min(), game_dates.max(), game_dates.nunique(), (game_dates.max() - game_dates.min())"
   ]
  },
  {
   "cell_type": "code",
   "execution_count": null,
   "id": "e95d7e46-6a63-4d3f-8d93-4f96556b6a5e",
   "metadata": {},
   "outputs": [],
   "source": [
    "# Create a game date index\n",
    "dates_idx = pd.DataFrame(\n",
    "    {\"game_date\": pd.date_range(game_dates.min(), game_dates.max())}\n",
    ").reset_index()\n",
    "dates_idx = dates_idx.rename(columns={\"index\": \"x\"})\n",
    "dates_idx.head()"
   ]
  },
  {
   "cell_type": "markdown",
   "id": "4d43f10d-f917-47e2-8a85-a243aa6e51ab",
   "metadata": {},
   "source": [
    "#### Create training data"
   ]
  },
  {
   "cell_type": "code",
   "execution_count": null,
   "id": "822971a4-ef8b-4fc1-805c-2af6729a8abc",
   "metadata": {},
   "outputs": [],
   "source": [
    "adf = adf.merge(dates_idx, how=\"left\", on=\"game_date\")\n",
    "adf = adf.merge(top_pitchers[[\"pitcher_name\", \"output_idx\"]], how=\"left\", on=\"pitcher_name\")\n",
    "adf.head()"
   ]
  },
  {
   "cell_type": "code",
   "execution_count": null,
   "id": "dff3b9d3-423d-4822-ad0e-df740e005103",
   "metadata": {},
   "outputs": [],
   "source": [
    "adf = adf.sort_values([\"output_idx\", \"x\"])\n",
    "X = adf[\n",
    "    [\"x\", \"output_idx\"]\n",
    "].values  # Input data includes the index of game dates, and the index of pitchers\n",
    "Y = adf[\"avg_spin_rate\"].values  # Output data includes the average spin rate of pitchers\n",
    "X.shape, Y.shape"
   ]
  },
  {
   "cell_type": "markdown",
   "id": "1fe0a9de",
   "metadata": {},
   "source": [
    "#### Visualise training data"
   ]
  },
  {
   "cell_type": "code",
   "execution_count": null,
   "id": "7efd791b-eead-4431-a852-b0ce50ac075e",
   "metadata": {},
   "outputs": [],
   "source": [
    "# Plot average spin rates of top pitchers\n",
    "fig, ax = plt.subplots(1, 1, figsize=(14, 6))\n",
    "legends = []\n",
    "for pitcher in top_pitchers[\"pitcher_name\"]:\n",
    "    cond = adf[\"pitcher_name\"] == pitcher\n",
    "    ax.plot(adf.loc[cond, \"x\"], adf.loc[cond, \"avg_spin_rate\"], \"-o\")\n",
    "    legends.append(pitcher)\n",
    "plt.title(\"Average spin rates of top 5 popular pitchers\")\n",
    "plt.xlabel(\"The index of game dates\")\n",
    "plt.ylim([-1.5, 4.0])\n",
    "plt.legend(legends, loc=\"upper center\");"
   ]
  },
  {
   "cell_type": "markdown",
   "id": "db5e4218-c369-4fe4-bca6-c14eb76957cc",
   "metadata": {},
   "source": [
    "## Intrinsic Coregionalization Model (ICM)\n",
    "\n",
    "The Intrinsic Coregionalization Model (ICM) is a particular case of the Linear Coregionalization Model (LCM) with one input kernel, for example:\n",
    "\n",
    "$$ K_{ICM} = B \\otimes K_{ExpQuad} $$\n",
    "\n",
    "Where $B(o,o')$ is the output kernel, and $K_{ExpQuad}(x,x')$ is an input kernel.\n",
    "\n",
    "$$ B = WW^T +  diag(kappa) $$"
   ]
  },
  {
   "cell_type": "code",
   "execution_count": null,
   "id": "df800e00-833e-488f-924c-abbee9002a7e",
   "metadata": {},
   "outputs": [],
   "source": [
    "def get_icm(input_dim, kernel, W=None, kappa=None, B=None, active_dims=None):\n",
    "    \"\"\"\n",
    "    This function generates an ICM kernel from an input kernel and a Coregion kernel.\n",
    "    \"\"\"\n",
    "    coreg = pm.gp.cov.Coregion(input_dim=input_dim, W=W, kappa=kappa, B=B, active_dims=active_dims)\n",
    "    icm_cov = kernel * coreg  # Use Hadamard Product for separate inputs\n",
    "    return icm_cov"
   ]
  },
  {
   "cell_type": "code",
   "execution_count": null,
   "id": "5be823a6-fdfe-42fa-863b-30d8021576d9",
   "metadata": {},
   "outputs": [],
   "source": [
    "with pm.Model() as model:\n",
    "    # Priors\n",
    "    ell = pm.Gamma(\"ell\", alpha=2, beta=0.5)\n",
    "    eta = pm.Gamma(\"eta\", alpha=3, beta=1)\n",
    "    kernel = eta**2 * pm.gp.cov.ExpQuad(input_dim=2, ls=ell, active_dims=[0])\n",
    "    sigma = pm.HalfNormal(\"sigma\", sigma=3)\n",
    "\n",
    "    # Get the ICM kernel\n",
    "    W = pm.Normal(\"W\", mu=0, sigma=3, shape=(n_outputs, 2), initval=np.random.randn(n_outputs, 2))\n",
    "    kappa = pm.Gamma(\"kappa\", alpha=1.5, beta=1, shape=n_outputs)\n",
    "    B = pm.Deterministic(\"B\", pt.dot(W, W.T) + pt.diag(kappa))\n",
    "    cov_icm = get_icm(input_dim=2, kernel=kernel, B=B, active_dims=[1])\n",
    "\n",
    "    # Define a Multi-output GP\n",
    "    mogp = pm.gp.Marginal(cov_func=cov_icm)\n",
    "    y_ = mogp.marginal_likelihood(\"f\", X, Y, sigma=sigma)"
   ]
  },
  {
   "cell_type": "code",
   "execution_count": null,
   "id": "df7fb429",
   "metadata": {},
   "outputs": [],
   "source": [
    "pm.model_to_graphviz(model)"
   ]
  },
  {
   "cell_type": "code",
   "execution_count": null,
   "id": "79922ee6-c912-4a1a-b168-4eab93d153df",
   "metadata": {},
   "outputs": [],
   "source": [
    "%%time\n",
    "with model:\n",
    "    gp_trace = pm.sample(2000, chains=1)"
   ]
  },
  {
   "cell_type": "markdown",
   "id": "65ec7051",
   "metadata": {},
   "source": [
    "#### Prediction"
   ]
  },
  {
   "cell_type": "code",
   "execution_count": null,
   "id": "a13f0cc9-1155-4b07-94cd-34bb68590285",
   "metadata": {},
   "outputs": [],
   "source": [
    "# Prepare test data\n",
    "M = 200  # number of data points\n",
    "x_new = np.linspace(0, 200, M)[\n",
    "    :, None\n",
    "]  # Select 200 days (185 previous days, and add 15 days into the future).\n",
    "X_new = np.vstack([x_new for idx in range(n_outputs)])\n",
    "output_idx = np.vstack([np.repeat(idx, M)[:, None] for idx in range(n_outputs)])\n",
    "X_new = np.hstack([X_new, output_idx])"
   ]
  },
  {
   "cell_type": "code",
   "execution_count": null,
   "id": "a5b7f23a-15d4-4652-8284-7299dcb7e2f1",
   "metadata": {
    "tags": []
   },
   "outputs": [],
   "source": [
    "%%time\n",
    "with model:\n",
    "    preds = mogp.conditional(\"preds\", X_new)\n",
    "    gp_samples = pm.sample_posterior_predictive(gp_trace, var_names=[\"preds\"], random_seed=42)"
   ]
  },
  {
   "cell_type": "code",
   "execution_count": null,
   "id": "3e51f80e-972e-4ff0-bab6-785351043630",
   "metadata": {},
   "outputs": [],
   "source": [
    "f_pred = gp_samples.posterior_predictive[\"preds\"].sel(chain=0)\n",
    "\n",
    "\n",
    "def plot_predictive_posteriors(f_pred, top_pitchers, M, X_new):\n",
    "    fig, axes = plt.subplots(n_outputs, 1, figsize=(12, 15))\n",
    "\n",
    "    for idx, pitcher in enumerate(top_pitchers[\"pitcher_name\"]):\n",
    "        # Prediction\n",
    "        plot_gp_dist(\n",
    "            axes[idx],\n",
    "            f_pred[:, M * idx : M * (idx + 1)],\n",
    "            X_new[M * idx : M * (idx + 1), 0],\n",
    "            palette=\"Blues\",\n",
    "            fill_alpha=0.1,\n",
    "            samples_alpha=0.1,\n",
    "        )\n",
    "        # Training data points\n",
    "        cond = adf[\"pitcher_name\"] == pitcher\n",
    "        axes[idx].scatter(adf.loc[cond, \"x\"], adf.loc[cond, \"avg_spin_rate\"], color=\"r\")\n",
    "        axes[idx].set_title(pitcher)\n",
    "    plt.tight_layout()\n",
    "\n",
    "\n",
    "plot_predictive_posteriors(f_pred, top_pitchers, M, X_new)"
   ]
  },
  {
   "cell_type": "markdown",
   "id": "26dbe95b",
   "metadata": {},
   "source": [
    "It can be seen that the average spin rate of Rodriguez Richard decreases significantly from the 75th game dates. Besides, Kopech Michael's performance improves after a break of several weeks in the middle, while Hearn Taylor has performed better recently."
   ]
  },
  {
   "cell_type": "code",
   "execution_count": null,
   "id": "a1c4170e-cb20-4230-818f-463f089dd573",
   "metadata": {},
   "outputs": [],
   "source": [
    "az.plot_trace(gp_trace)\n",
    "plt.tight_layout()"
   ]
  },
  {
   "cell_type": "markdown",
   "id": "bbb59992-c70e-46a2-81d4-29fb72688c4e",
   "metadata": {},
   "source": [
    "## Linear Coregionalization Model (LCM)\n",
    "\n",
    "The LCM is a generalization of the ICM with two or more input kernels, so the LCM kernel is basically a sum of several ICM kernels. The LMC allows several independent samples from GPs with different covariances (kernels).\n",
    "\n",
    "In this example, in addition to an `ExpQuad` kernel, we add a `Matern32` kernel for input data.\n",
    "\n",
    "$$ K_{LCM} = B \\otimes K_{ExpQuad} + B \\otimes K_{Matern32} $$"
   ]
  },
  {
   "cell_type": "code",
   "execution_count": null,
   "id": "cddb76f7-9e76-4136-941f-b3fdcbf29752",
   "metadata": {},
   "outputs": [],
   "source": [
    "def get_lcm(input_dim, active_dims, num_outputs, kernels, W=None, B=None, name=\"ICM\"):\n",
    "    \"\"\"\n",
    "    This function generates a LCM kernel from a list of input `kernels` and a Coregion kernel.\n",
    "    \"\"\"\n",
    "    if B is None:\n",
    "        kappa = pm.Gamma(f\"{name}_kappa\", alpha=5, beta=1, shape=num_outputs)\n",
    "        if W is None:\n",
    "            W = pm.Normal(\n",
    "                f\"{name}_W\",\n",
    "                mu=0,\n",
    "                sigma=5,\n",
    "                shape=(num_outputs, 1),\n",
    "                initval=np.random.randn(num_outputs, 1),\n",
    "            )\n",
    "    else:\n",
    "        kappa = None\n",
    "\n",
    "    cov_func = 0\n",
    "    for idx, kernel in enumerate(kernels):\n",
    "        icm = get_icm(input_dim, kernel, W, kappa, B, active_dims)\n",
    "        cov_func += icm\n",
    "    return cov_func"
   ]
  },
  {
   "cell_type": "code",
   "execution_count": null,
   "id": "216c2483-5550-41e2-b247-8ccd5e4b2575",
   "metadata": {},
   "outputs": [],
   "source": [
    "with pm.Model() as model:\n",
    "    # Priors\n",
    "    ell = pm.Gamma(\"ell\", alpha=2, beta=0.5, shape=2)\n",
    "    eta = pm.Gamma(\"eta\", alpha=3, beta=1, shape=2)\n",
    "    kernels = [pm.gp.cov.ExpQuad, pm.gp.cov.Matern32]\n",
    "    sigma = pm.HalfNormal(\"sigma\", sigma=3)\n",
    "\n",
    "    # Define a list of covariance functions\n",
    "    cov_list = [\n",
    "        eta[idx] ** 2 * kernel(input_dim=2, ls=ell[idx], active_dims=[0])\n",
    "        for idx, kernel in enumerate(kernels)\n",
    "    ]\n",
    "\n",
    "    # Get the LCM kernel\n",
    "    cov_lcm = get_lcm(input_dim=2, active_dims=[1], num_outputs=n_outputs, kernels=cov_list)\n",
    "\n",
    "    # Define a Multi-output GP\n",
    "    mogp = pm.gp.Marginal(cov_func=cov_lcm)\n",
    "    y_ = mogp.marginal_likelihood(\"f\", X, Y, sigma=sigma)"
   ]
  },
  {
   "cell_type": "code",
   "execution_count": null,
   "id": "098cdf02",
   "metadata": {},
   "outputs": [],
   "source": [
    "pm.model_to_graphviz(model)"
   ]
  },
  {
   "cell_type": "code",
   "execution_count": null,
   "id": "18d8178f-a643-43f9-aa59-bc861d8528c0",
   "metadata": {},
   "outputs": [],
   "source": [
    "%%time\n",
    "with model:\n",
    "    gp_trace = pm.sample(2000, chains=1)"
   ]
  },
  {
   "cell_type": "markdown",
   "id": "19266d87",
   "metadata": {},
   "source": [
    "### Prediction"
   ]
  },
  {
   "cell_type": "code",
   "execution_count": null,
   "id": "19e2eb40-9182-4d99-b77a-f75646fc2270",
   "metadata": {
    "tags": []
   },
   "outputs": [],
   "source": [
    "%%time\n",
    "with model:\n",
    "    preds = mogp.conditional(\"preds\", X_new)\n",
    "    gp_samples = pm.sample_posterior_predictive(gp_trace, var_names=[\"preds\"], random_seed=42)"
   ]
  },
  {
   "cell_type": "code",
   "execution_count": null,
   "id": "27230a5e-f7b4-4da4-8eab-edafc2abfe2b",
   "metadata": {},
   "outputs": [],
   "source": [
    "plot_predictive_posteriors(f_pred, top_pitchers, M, X_new)"
   ]
  },
  {
   "cell_type": "code",
   "execution_count": null,
   "id": "5702b77e-4f48-4980-a47c-fea5cce3ebce",
   "metadata": {},
   "outputs": [],
   "source": [
    "az.plot_trace(gp_trace)\n",
    "plt.tight_layout()"
   ]
  },
  {
   "cell_type": "markdown",
   "id": "95874cda",
   "metadata": {},
   "source": [
    "## Acknowledgement\n",
    "This work is supported by 2022 [Google Summer of Codes](https://summerofcode.withgoogle.com/) and [NUMFOCUS](https://numfocus.org/)."
   ]
  },
  {
   "cell_type": "markdown",
   "id": "11db55ae",
   "metadata": {},
   "source": [
    "## Authors\n",
    "* Authored by [Danh Phan](https://github.com/danhphan), [Bill Engels](https://github.com/bwengals), [Chris Fonnesbeck](https://github.com/fonnesbeck) in November, 2022 ([pymc-examples#454](https://github.com/pymc-devs/pymc-examples/pull/454))"
   ]
  },
  {
   "cell_type": "markdown",
   "id": "3c41485f",
   "metadata": {},
   "source": [
    "## References\n",
    ":::{bibliography}\n",
    ":filter: docname in docnames\n",
    ":::"
   ]
  },
  {
   "cell_type": "markdown",
   "id": "62699522",
   "metadata": {},
   "source": [
    "## Watermark"
   ]
  },
  {
   "cell_type": "code",
   "execution_count": null,
   "id": "8e5c54df",
   "metadata": {},
   "outputs": [],
   "source": [
    "%load_ext watermark\n",
    "%watermark -n -u -v -iv -w -p pytensor,aeppl,xarray"
   ]
  },
  {
   "cell_type": "markdown",
   "id": "2df4bed0",
   "metadata": {},
   "source": [
    ":::{include} ../page_footer.md\n",
    ":::"
   ]
  }
 ],
 "metadata": {
  "kernelspec": {
   "display_name": "Python 3 (ipykernel)",
   "language": "python",
   "name": "python3"
  },
  "language_info": {
   "codemirror_mode": {
    "name": "ipython",
    "version": 3
   },
   "file_extension": ".py",
   "mimetype": "text/x-python",
   "name": "python",
   "nbconvert_exporter": "python",
   "pygments_lexer": "ipython3",
   "version": "3.9.12"
  }
 },
 "nbformat": 4,
 "nbformat_minor": 5
}
