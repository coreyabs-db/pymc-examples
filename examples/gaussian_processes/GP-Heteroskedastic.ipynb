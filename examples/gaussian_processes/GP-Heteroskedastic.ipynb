{
 "cells": [
  {
   "cell_type": "markdown",
   "id": "b9a6afd2",
   "metadata": {},
   "source": [
    "# Heteroskedastic Gaussian Processes"
   ]
  },
  {
   "cell_type": "markdown",
   "id": "918ae52b",
   "metadata": {},
   "source": [
    "We can typically divide the sources of uncertainty in our models into two categories. \"Aleatoric\" uncertainty (from the Latin word for dice or randomness) arises from the intrinsic variability of our system. \"Epistemic\" uncertainty (from the Greek word for knowledge) arises from how our observations are placed throughout the domain of interest.\n",
    "\n",
    "Gaussian Process (GP) models are a powerful tool to capture both of these sources of uncertainty. By considering the distribution of all functions that satisfy the conditions specified by the covariance kernel and the data, these models express low epistemic uncertainty near the observations and high epistemic uncertainty farther away. To incorporate aleatoric uncertainty, the standard GP model assumes additive white noise with constant magnitude throughout the domain. However, this \"homoskedastic\" model can do a poor job of representing your system if some regions have higher variance than others. Among other fields, this is particularly common in the experimental sciences, where varying experimental parameters can affect both the magnitude and the variability of the response. Explicitly incorporating the dependence (and inter-dependence) of noise on the inputs and outputs can lead to a better understanding of the mean behavior as well as a more informative landscape for optimization, for example.\n",
    "\n",
    "This notebook will work through several approaches to heteroskedastic modeling with GPs. We'll use toy data that represents (independent) repeated measurements at a range of input values on a system where the magnitude of the noise increases with the response variable. We'll start with simplistic modeling approaches such as fitting a GP to the mean at each point weighted by the variance at each point (which may be useful if individual measurements are taken via a method with known uncertainty), contrasting this with a typical homoskedastic GP. We'll then construct a model that uses one latent GP to model the response mean and a second (independent) latent GP to model the response variance. To improve the efficiency and scalability of this model, we'll re-formulate it in a sparse framework. Finally, we'll use a coregionalization kernel to allow correlation between the noise and the mean response."
   ]
  },
  {
   "cell_type": "markdown",
   "id": "7db70ad4",
   "metadata": {},
   "source": [
    "## Data"
   ]
  },
  {
   "cell_type": "code",
   "execution_count": null,
   "id": "48e90bde",
   "metadata": {},
   "outputs": [],
   "source": [
    "import arviz as az\n",
    "import matplotlib.pyplot as plt\n",
    "import numpy as np\n",
    "import pymc3 as pm\n",
    "import theano.tensor as tt\n",
    "\n",
    "from scipy.spatial.distance import pdist\n",
    "\n",
    "%config InlineBackend.figure_format ='retina'\n",
    "%load_ext watermark"
   ]
  },
  {
   "cell_type": "code",
   "execution_count": null,
   "id": "58015525",
   "metadata": {},
   "outputs": [],
   "source": [
    "SEED = 2020\n",
    "rng = np.random.default_rng(SEED)\n",
    "az.style.use(\"arviz-darkgrid\")"
   ]
  },
  {
   "cell_type": "code",
   "execution_count": null,
   "id": "0d700df3",
   "metadata": {},
   "outputs": [],
   "source": [
    "def signal(x):\n",
    "    return x / 2 + np.sin(2 * np.pi * x) / 5\n",
    "\n",
    "\n",
    "def noise(y):\n",
    "    return np.exp(y) / 20\n",
    "\n",
    "\n",
    "X = np.linspace(0.1, 1, 20)[:, None]\n",
    "X = np.vstack([X, X + 2])\n",
    "X_ = X.flatten()\n",
    "y = signal(X_)\n",
    "σ_fun = noise(y)\n",
    "\n",
    "y_err = rng.lognormal(np.log(σ_fun), 0.1)\n",
    "y_obs = rng.normal(y, y_err, size=(5, len(y)))\n",
    "y_obs_ = y_obs.T.flatten()\n",
    "X_obs = np.tile(X.T, (5, 1)).T.reshape(-1, 1)\n",
    "X_obs_ = X_obs.flatten()\n",
    "idx = np.tile(np.array([i for i, _ in enumerate(X_)]), (5, 1)).T.flatten()\n",
    "\n",
    "Xnew = np.linspace(-0.15, 3.25, 100)[:, None]\n",
    "Xnew_ = Xnew.flatten()\n",
    "ynew = signal(Xnew)\n",
    "\n",
    "plt.plot(X, y, \"C0o\")\n",
    "plt.errorbar(X_, y, y_err, color=\"C0\")"
   ]
  },
  {
   "cell_type": "markdown",
   "id": "524cb9c1",
   "metadata": {},
   "source": [
    "## Helper and plotting functions"
   ]
  },
  {
   "cell_type": "code",
   "execution_count": null,
   "id": "447fbd54",
   "metadata": {},
   "outputs": [],
   "source": [
    "def get_ℓ_prior(points):\n",
    "    \"\"\"Calculates mean and sd for InverseGamma prior on lengthscale\"\"\"\n",
    "    distances = pdist(points[:, None])\n",
    "    distinct = distances != 0\n",
    "    ℓ_l = distances[distinct].min() if sum(distinct) > 0 else 0.1\n",
    "    ℓ_u = distances[distinct].max() if sum(distinct) > 0 else 1\n",
    "    ℓ_σ = max(0.1, (ℓ_u - ℓ_l) / 6)\n",
    "    ℓ_μ = ℓ_l + 3 * ℓ_σ\n",
    "    return ℓ_μ, ℓ_σ\n",
    "\n",
    "\n",
    "ℓ_μ, ℓ_σ = [stat for stat in get_ℓ_prior(X_)]"
   ]
  },
  {
   "cell_type": "code",
   "execution_count": null,
   "id": "90636d5c",
   "metadata": {},
   "outputs": [],
   "source": [
    "def plot_inducing_points(ax):\n",
    "    yl = ax.get_ylim()\n",
    "    yu = -np.subtract(*yl) * 0.025 + yl[0]\n",
    "    ax.plot(Xu, np.full(Xu.shape, yu), \"xk\", label=\"Inducing Points\")\n",
    "    ax.legend(loc=\"upper left\")\n",
    "\n",
    "\n",
    "def get_quantiles(samples, quantiles=[2.5, 50, 97.5]):\n",
    "    return [np.percentile(samples, p, axis=0) for p in quantiles]\n",
    "\n",
    "\n",
    "def plot_mean(ax, mean_samples):\n",
    "    \"\"\"Plots the median and 95% CI from samples of the mean\n",
    "\n",
    "    Note that, although each individual GP exhibits a normal distribution at each point\n",
    "    (by definition), we are sampling from a mixture of GPs defined by the posteriors of\n",
    "    our hyperparameters. As such, we use percentiles rather than mean +/- stdev to\n",
    "    represent the spread of predictions from our models.\n",
    "    \"\"\"\n",
    "    l, m, u = get_quantiles(mean_samples)\n",
    "    ax.plot(Xnew, m, \"C0\", label=\"Median\")\n",
    "    ax.fill_between(Xnew_, l, u, facecolor=\"C0\", alpha=0.5, label=\"95% CI\")\n",
    "\n",
    "    ax.plot(Xnew, ynew, \"--k\", label=\"Mean Function\")\n",
    "    ax.plot(X, y, \"C1.\", label=\"Observed Means\")\n",
    "    ax.set_title(\"Mean Behavior\")\n",
    "    ax.legend(loc=\"upper left\")\n",
    "\n",
    "\n",
    "def plot_var(ax, var_samples):\n",
    "    \"\"\"Plots the median and 95% CI from samples of the variance\"\"\"\n",
    "    if var_samples.squeeze().ndim == 1:\n",
    "        ax.plot(Xnew, var_samples, \"C0\", label=\"Median\")\n",
    "    else:\n",
    "        l, m, u = get_quantiles(var_samples)\n",
    "        ax.plot(Xnew, m, \"C0\", label=\"Median\")\n",
    "        ax.fill_between(Xnew.flatten(), l, u, facecolor=\"C0\", alpha=0.5, label=\"95% CI\")\n",
    "    ax.plot(Xnew, noise(signal(Xnew_)) ** 2, \"--k\", label=\"Noise Function\")\n",
    "    ax.plot(X, y_err**2, \"C1.\", label=\"Observed Variance\")\n",
    "    ax.set_title(\"Variance Behavior\")\n",
    "    ax.legend(loc=\"upper left\")\n",
    "\n",
    "\n",
    "def plot_total(ax, mean_samples, var_samples=None, bootstrap=True, n_boots=100):\n",
    "    \"\"\"Plots the overall mean and variance of the aggregate system\n",
    "\n",
    "    We can represent the overall uncertainty via explicitly sampling the underlying normal\n",
    "    distributrions (with `bootstrap=True`) or as the mean +/- the standard deviation from\n",
    "    the Law of Total Variance. For systems with many observations, there will likely be\n",
    "    little difference, but in cases with few observations and informative priors, plotting\n",
    "    the percentiles will likely give a more accurate representation.\n",
    "    \"\"\"\n",
    "\n",
    "    if (var_samples is None) or (var_samples.squeeze().ndim == 1):\n",
    "        samples = mean_samples\n",
    "        l, m, u = get_quantiles(samples)\n",
    "        ax.plot(Xnew, m, \"C0\", label=\"Median\")\n",
    "    elif bootstrap:\n",
    "        # Estimate the aggregate behavior using samples from each normal distribution in the posterior\n",
    "        samples = (\n",
    "            rng.normal(\n",
    "                mean_samples.T[:, :, None],\n",
    "                np.sqrt(var_samples).T[:, :, None],\n",
    "                (*mean_samples.T.shape, n_boots),\n",
    "            )\n",
    "            .reshape(len(Xnew_), -1)\n",
    "            .T\n",
    "        )\n",
    "        l, m, u = get_quantiles(samples)\n",
    "        ax.plot(Xnew, m, \"C0\", label=\"Median\")\n",
    "    else:\n",
    "        m = mean_samples.mean(axis=0)\n",
    "        ax.plot(Xnew, m, \"C0\", label=\"Mean\")\n",
    "        sd = np.sqrt(mean_samples.var(axis=0) + var_samples.mean(axis=0))\n",
    "        l, u = m - 2 * sd, m + 2 * sd\n",
    "\n",
    "    ax.fill_between(Xnew.flatten(), l, u, facecolor=\"C0\", alpha=0.5, label=\"Total 95% CI\")\n",
    "\n",
    "    ax.plot(Xnew, ynew, \"--k\", label=\"Mean Function\")\n",
    "    ax.plot(X_obs, y_obs_, \"C1.\", label=\"Observations\")\n",
    "    ax.set_title(\"Aggregate Behavior\")\n",
    "    ax.legend(loc=\"upper left\")"
   ]
  },
  {
   "cell_type": "markdown",
   "id": "eefae38b",
   "metadata": {},
   "source": [
    "## Homoskedastic GP"
   ]
  },
  {
   "cell_type": "markdown",
   "id": "aab00bda",
   "metadata": {},
   "source": [
    "First let's fit a standard homoskedastic GP using PyMC3's `Marginal Likelihood` implementation. Here and throughout this notebook we'll use an informative prior for length scale as suggested by [Michael Betancourt](https://betanalpha.github.io/assets/case_studies/gp_part3/part3.html#4_adding_an_informative_prior_for_the_length_scale). We could use `pm.find_MAP()` and `.predict`for even faster inference and prediction, with similar results, but for direct comparison to the other models we'll use NUTS and `.conditional` instead, which run fast enough."
   ]
  },
  {
   "cell_type": "code",
   "execution_count": null,
   "id": "f2af83dd",
   "metadata": {},
   "outputs": [],
   "source": [
    "with pm.Model() as model_hm:\n",
    "    ℓ = pm.InverseGamma(\"ℓ\", mu=ℓ_μ, sigma=ℓ_σ)\n",
    "    η = pm.Gamma(\"η\", alpha=2, beta=1)\n",
    "    cov = η**2 * pm.gp.cov.ExpQuad(input_dim=1, ls=ℓ)\n",
    "\n",
    "    gp_hm = pm.gp.Marginal(cov_func=cov)\n",
    "\n",
    "    σ = pm.Exponential(\"σ\", lam=1)\n",
    "\n",
    "    ml_hm = gp_hm.marginal_likelihood(\"ml_hm\", X=X_obs, y=y_obs_, noise=σ)\n",
    "\n",
    "    trace_hm = pm.sample(return_inferencedata=True, random_seed=SEED)\n",
    "\n",
    "with model_hm:\n",
    "    mu_pred_hm = gp_hm.conditional(\"mu_pred_hm\", Xnew=Xnew)\n",
    "    noisy_pred_hm = gp_hm.conditional(\"noisy_pred_hm\", Xnew=Xnew, pred_noise=True)\n",
    "    samples_hm = pm.sample_posterior_predictive(trace_hm, var_names=[\"mu_pred_hm\", \"noisy_pred_hm\"])"
   ]
  },
  {
   "cell_type": "code",
   "execution_count": null,
   "id": "6b7f2e19",
   "metadata": {},
   "outputs": [],
   "source": [
    "_, axs = plt.subplots(1, 3, figsize=(18, 4))\n",
    "mu_samples = samples_hm[\"mu_pred_hm\"]\n",
    "noisy_samples = samples_hm[\"noisy_pred_hm\"]\n",
    "plot_mean(axs[0], mu_samples)\n",
    "plot_var(axs[1], noisy_samples.var(axis=0))\n",
    "plot_total(axs[2], noisy_samples)"
   ]
  },
  {
   "cell_type": "markdown",
   "id": "0170698d",
   "metadata": {},
   "source": [
    "Here we've plotted our understanding of the mean behavior with the corresponding epistemic uncertainty on the left, our understanding of the variance or aleatoric uncertainty in the middle, and integrate all sources of uncertainty on the right. This model captures the mean behavior well, but we can see that it overestimates the noise in the lower regime while underestimating the noise in the upper regime, as expected."
   ]
  },
  {
   "cell_type": "markdown",
   "id": "4274b1c4",
   "metadata": {},
   "source": [
    "## Variance-weighted GP"
   ]
  },
  {
   "cell_type": "markdown",
   "id": "1df75dfb",
   "metadata": {},
   "source": [
    "The simplest approach to modeling a heteroskedastic system is to fit a GP on the mean at each point along the domain and supply the standard deviation as weights."
   ]
  },
  {
   "cell_type": "code",
   "execution_count": null,
   "id": "e0e48571",
   "metadata": {},
   "outputs": [],
   "source": [
    "with pm.Model() as model_wt:\n",
    "    ℓ = pm.InverseGamma(\"ℓ\", mu=ℓ_μ, sigma=ℓ_σ)\n",
    "    η = pm.Gamma(\"η\", alpha=2, beta=1)\n",
    "    cov = η**2 * pm.gp.cov.ExpQuad(input_dim=1, ls=ℓ)\n",
    "\n",
    "    gp_wt = pm.gp.Marginal(cov_func=cov)\n",
    "\n",
    "    ml_wt = gp_wt.marginal_likelihood(\"ml_wt\", X=X, y=y, noise=y_err)\n",
    "\n",
    "    trace_wt = pm.sample(return_inferencedata=True, random_seed=SEED)\n",
    "\n",
    "with model_wt:\n",
    "    mu_pred_wt = gp_wt.conditional(\"mu_pred_wt\", Xnew=Xnew)\n",
    "    samples_wt = pm.sample_posterior_predictive(trace_wt, var_names=[\"mu_pred_wt\"])"
   ]
  },
  {
   "cell_type": "code",
   "execution_count": null,
   "id": "e6549c89",
   "metadata": {},
   "outputs": [],
   "source": [
    "_, axs = plt.subplots(1, 3, figsize=(18, 4))\n",
    "mu_samples = samples_wt[\"mu_pred_wt\"]\n",
    "plot_mean(axs[0], mu_samples)\n",
    "axs[0].errorbar(X_, y, y_err, ls=\"none\", color=\"C1\", label=\"STDEV\")\n",
    "plot_var(axs[1], mu_samples.var(axis=0))\n",
    "plot_total(axs[2], mu_samples)"
   ]
  },
  {
   "cell_type": "markdown",
   "id": "6519219b",
   "metadata": {},
   "source": [
    "This approach captured slightly more nuance in the overall uncertainty than the homoskedastic GP, but still underestimated the variance within both the observed regimes. Note that the variance displayed by this model is purely epistemic: our understanding of the mean behavior is weighted by the uncertainty in our observations, but we didn't include a component to account for aleatoric noise."
   ]
  },
  {
   "cell_type": "markdown",
   "id": "28bd6790",
   "metadata": {},
   "source": [
    "## Heteroskedastic GP: latent variance model"
   ]
  },
  {
   "cell_type": "markdown",
   "id": "57e76b3a",
   "metadata": {},
   "source": [
    "Now let's model the mean and the log of the variance as separate GPs through PyMC3's `Latent` implementation, feeding both into a `Normal` likelihood. Note that we add a small amount of diagonal noise to the individual covariances in order to stabilize them for inversion."
   ]
  },
  {
   "cell_type": "code",
   "execution_count": null,
   "id": "4fdb069b",
   "metadata": {},
   "outputs": [],
   "source": [
    "with pm.Model() as model_ht:\n",
    "    ℓ = pm.InverseGamma(\"ℓ\", mu=ℓ_μ, sigma=ℓ_σ)\n",
    "    η = pm.Gamma(\"η\", alpha=2, beta=1)\n",
    "    cov = η**2 * pm.gp.cov.ExpQuad(input_dim=1, ls=ℓ) + pm.gp.cov.WhiteNoise(sigma=1e-6)\n",
    "\n",
    "    gp_ht = pm.gp.Latent(cov_func=cov)\n",
    "    μ_f = gp_ht.prior(\"μ_f\", X=X_obs)\n",
    "\n",
    "    σ_ℓ = pm.InverseGamma(\"σ_ℓ\", mu=ℓ_μ, sigma=ℓ_σ)\n",
    "    σ_η = pm.Gamma(\"σ_η\", alpha=2, beta=1)\n",
    "    σ_cov = σ_η**2 * pm.gp.cov.ExpQuad(input_dim=1, ls=σ_ℓ) + pm.gp.cov.WhiteNoise(sigma=1e-6)\n",
    "\n",
    "    σ_gp = pm.gp.Latent(cov_func=σ_cov)\n",
    "    lg_σ_f = σ_gp.prior(\"lg_σ_f\", X=X_obs)\n",
    "    σ_f = pm.Deterministic(\"σ_f\", pm.math.exp(lg_σ_f))\n",
    "\n",
    "    lik_ht = pm.Normal(\"lik_ht\", mu=μ_f, sd=σ_f, observed=y_obs_)\n",
    "\n",
    "    trace_ht = pm.sample(target_accept=0.95, chains=2, return_inferencedata=True, random_seed=SEED)\n",
    "\n",
    "with model_ht:\n",
    "    μ_pred_ht = gp_ht.conditional(\"μ_pred_ht\", Xnew=Xnew)\n",
    "    lg_σ_pred_ht = σ_gp.conditional(\"lg_σ_pred_ht\", Xnew=Xnew)\n",
    "    samples_ht = pm.sample_posterior_predictive(trace_ht, var_names=[\"μ_pred_ht\", \"lg_σ_pred_ht\"])"
   ]
  },
  {
   "cell_type": "code",
   "execution_count": null,
   "id": "ada69770",
   "metadata": {},
   "outputs": [],
   "source": [
    "_, axs = plt.subplots(1, 3, figsize=(18, 4))\n",
    "μ_samples = samples_ht[\"μ_pred_ht\"]\n",
    "σ_samples = np.exp(samples_ht[\"lg_σ_pred_ht\"])\n",
    "plot_mean(axs[0], μ_samples)\n",
    "plot_var(axs[1], σ_samples**2)\n",
    "plot_total(axs[2], μ_samples, σ_samples**2)"
   ]
  },
  {
   "cell_type": "markdown",
   "id": "8c6f4b99",
   "metadata": {},
   "source": [
    "That looks much better! We've accurately captured the mean behavior of our system along with an understanding of the underlying trend in the variance, with appropriate uncertainty. Crucially, the aggregate behavior of the model integrates both epistemic *and* aleatoric uncertainty, and the ~5% of our observations fall outside the 2σ band are more or less evenly distributed across the domain. However, that took *over two hours* to sample only 4k NUTS iterations. Due to the expense of the requisite matrix inversions, GPs are notoriously inefficient for large data sets. Let's reformulate this model using a sparse approximation."
   ]
  },
  {
   "cell_type": "markdown",
   "id": "f4b9cca7",
   "metadata": {},
   "source": [
    "### Sparse Heteroskedastic GP"
   ]
  },
  {
   "cell_type": "markdown",
   "id": "2f2fc70e",
   "metadata": {},
   "source": [
    "Sparse approximations to GPs use a small set of *inducing points* to condition the model, vastly improve speed of inference and somewhat improving memory consumption. PyMC3 doesn't have an implementation for sparse latent GPs ([yet](https://github.com/pymc-devs/pymc3/pull/2951)), but we can throw together our own real quick using Bill Engel's [DTC latent GP example](https://gist.github.com/bwengals/a0357d75d2083657a2eac85947381a44). These inducing points can be specified in a variety of ways, such as via the popular k-means initialization or even optimized as part of the model, but since our observations are evenly distributed we can make do with simply a subset of our unique input values."
   ]
  },
  {
   "cell_type": "code",
   "execution_count": null,
   "id": "0b704394",
   "metadata": {},
   "outputs": [],
   "source": [
    "class SparseLatent:\n",
    "    def __init__(self, cov_func):\n",
    "        self.cov = cov_func\n",
    "\n",
    "    def prior(self, name, X, Xu):\n",
    "        Kuu = self.cov(Xu)\n",
    "        self.L = pm.gp.util.cholesky(pm.gp.util.stabilize(Kuu))\n",
    "\n",
    "        self.v = pm.Normal(f\"u_rotated_{name}\", mu=0.0, sd=1.0, shape=len(Xu))\n",
    "        self.u = pm.Deterministic(f\"u_{name}\", tt.dot(self.L, self.v))\n",
    "\n",
    "        Kfu = self.cov(X, Xu)\n",
    "        self.Kuiu = tt.slinalg.solve_upper_triangular(\n",
    "            self.L.T, tt.slinalg.solve_lower_triangular(self.L, self.u)\n",
    "        )\n",
    "        self.mu = pm.Deterministic(f\"mu_{name}\", tt.dot(Kfu, self.Kuiu))\n",
    "        return self.mu\n",
    "\n",
    "    def conditional(self, name, Xnew, Xu):\n",
    "        Ksu = self.cov(Xnew, Xu)\n",
    "        mus = tt.dot(Ksu, self.Kuiu)\n",
    "        tmp = tt.slinalg.solve_lower_triangular(self.L, Ksu.T)\n",
    "        Qss = tt.dot(tmp.T, tmp)  # Qss = tt.dot(tt.dot(Ksu, tt.nlinalg.pinv(Kuu)), Ksu.T)\n",
    "        Kss = self.cov(Xnew)\n",
    "        Lss = pm.gp.util.cholesky(pm.gp.util.stabilize(Kss - Qss))\n",
    "        mu_pred = pm.MvNormal(name, mu=mus, chol=Lss, shape=len(Xnew))\n",
    "        return mu_pred"
   ]
  },
  {
   "cell_type": "code",
   "execution_count": null,
   "id": "9b57fa4d",
   "metadata": {},
   "outputs": [],
   "source": [
    "# Explicitly specify inducing points by downsampling our input vector\n",
    "Xu = X[1::2]\n",
    "\n",
    "with pm.Model() as model_hts:\n",
    "    ℓ = pm.InverseGamma(\"ℓ\", mu=ℓ_μ, sigma=ℓ_σ)\n",
    "    η = pm.Gamma(\"η\", alpha=2, beta=1)\n",
    "    cov = η**2 * pm.gp.cov.ExpQuad(input_dim=1, ls=ℓ)\n",
    "\n",
    "    μ_gp = SparseLatent(cov)\n",
    "    μ_f = μ_gp.prior(\"μ\", X_obs, Xu)\n",
    "\n",
    "    σ_ℓ = pm.InverseGamma(\"σ_ℓ\", mu=ℓ_μ, sigma=ℓ_σ)\n",
    "    σ_η = pm.Gamma(\"σ_η\", alpha=2, beta=1)\n",
    "    σ_cov = σ_η**2 * pm.gp.cov.ExpQuad(input_dim=1, ls=σ_ℓ)\n",
    "\n",
    "    lg_σ_gp = SparseLatent(σ_cov)\n",
    "    lg_σ_f = lg_σ_gp.prior(\"lg_σ_f\", X_obs, Xu)\n",
    "    σ_f = pm.Deterministic(\"σ_f\", pm.math.exp(lg_σ_f))\n",
    "\n",
    "    lik_hts = pm.Normal(\"lik_hts\", mu=μ_f, sd=σ_f, observed=y_obs_)\n",
    "    trace_hts = pm.sample(target_accept=0.95, return_inferencedata=True, random_seed=SEED)\n",
    "\n",
    "with model_hts:\n",
    "    μ_pred = μ_gp.conditional(\"μ_pred\", Xnew, Xu)\n",
    "    lg_σ_pred = lg_σ_gp.conditional(\"lg_σ_pred\", Xnew, Xu)\n",
    "    samples_hts = pm.sample_posterior_predictive(trace_hts, var_names=[\"μ_pred\", \"lg_σ_pred\"])"
   ]
  },
  {
   "cell_type": "code",
   "execution_count": null,
   "id": "b8fad7e8",
   "metadata": {},
   "outputs": [],
   "source": [
    "_, axs = plt.subplots(1, 3, figsize=(18, 4))\n",
    "μ_samples = samples_hts[\"μ_pred\"]\n",
    "σ_samples = np.exp(samples_hts[\"lg_σ_pred\"])\n",
    "plot_mean(axs[0], μ_samples)\n",
    "plot_inducing_points(axs[0])\n",
    "plot_var(axs[1], σ_samples**2)\n",
    "plot_inducing_points(axs[1])\n",
    "plot_total(axs[2], μ_samples, σ_samples**2)\n",
    "plot_inducing_points(axs[2])"
   ]
  },
  {
   "cell_type": "markdown",
   "id": "3a8b26a3",
   "metadata": {},
   "source": [
    "That was ~8x faster with nearly indistinguishable results, and fewer divergences as well."
   ]
  },
  {
   "cell_type": "markdown",
   "id": "1d59dda7",
   "metadata": {},
   "source": [
    "## Heteroskedastic GP with correlated noise and mean response: Linear Model of Coregionalization"
   ]
  },
  {
   "cell_type": "markdown",
   "id": "db846bb2",
   "metadata": {},
   "source": [
    "So far, we've modeled the mean and noise of our system as independent. However, there may be scenarios where we expect them to be correlated, for example if higher measurement values are expected to have greater noise. Here, we'll explicitly model this correlation through a covariance function that is a Kronecker product of the spatial kernel we've used previously and a `Coregion` kernel, as suggested by Bill Engels [here](https://discourse.pymc.io/t/coregionalization-model-for-two-separable-multidimensional-gaussian-process/2550/4). This is an implementation of the Linear Model of Coregionalization, which treats each correlated GP as a linear combination of a small number of independent basis functions, which are themselves GPs. We first add a categorical dimension to the domain of our observations to indicate whether the mean or variance is being considered, then unpack the respective components before feeding them into a `Normal` likelihood as above."
   ]
  },
  {
   "cell_type": "code",
   "execution_count": null,
   "id": "25419628",
   "metadata": {},
   "outputs": [],
   "source": [
    "def add_coreg_idx(x):\n",
    "    return np.hstack([np.tile(x, (2, 1)), np.vstack([np.zeros(x.shape), np.ones(x.shape)])])\n",
    "\n",
    "\n",
    "Xu_c, X_obs_c, Xnew_c = [add_coreg_idx(x) for x in [Xu, X_obs, Xnew]]\n",
    "\n",
    "with pm.Model() as model_htsc:\n",
    "    ℓ = pm.InverseGamma(\"ℓ\", mu=ℓ_μ, sigma=ℓ_σ)\n",
    "    η = pm.Gamma(\"η\", alpha=2, beta=1)\n",
    "    EQcov = η**2 * pm.gp.cov.ExpQuad(input_dim=1, active_dims=[0], ls=ℓ)\n",
    "\n",
    "    D_out = 2  # two output dimensions, mean and variance\n",
    "    rank = 2  # two basis GPs\n",
    "    W = pm.Normal(\"W\", mu=0, sd=3, shape=(D_out, rank), testval=np.full([D_out, rank], 0.1))\n",
    "    kappa = pm.Gamma(\"kappa\", alpha=1.5, beta=1, shape=D_out)\n",
    "    coreg = pm.gp.cov.Coregion(input_dim=1, active_dims=[0], kappa=kappa, W=W)\n",
    "\n",
    "    cov = pm.gp.cov.Kron([EQcov, coreg])\n",
    "\n",
    "    gp_LMC = SparseLatent(cov)\n",
    "    LMC_f = gp_LMC.prior(\"LMC\", X_obs_c, Xu_c)\n",
    "\n",
    "    μ_f = LMC_f[: len(y_obs_)]\n",
    "    lg_σ_f = LMC_f[len(y_obs_) :]\n",
    "    σ_f = pm.Deterministic(\"σ_f\", pm.math.exp(lg_σ_f))\n",
    "\n",
    "    lik_htsc = pm.Normal(\"lik_htsc\", mu=μ_f, sd=σ_f, observed=y_obs_)\n",
    "    trace_htsc = pm.sample(target_accept=0.95, return_inferencedata=True, random_seed=SEED)\n",
    "\n",
    "with model_htsc:\n",
    "    c_mu_pred = gp_LMC.conditional(\"c_mu_pred\", Xnew_c, Xu_c)\n",
    "    samples_htsc = pm.sample_posterior_predictive(trace_htsc, var_names=[\"c_mu_pred\"])"
   ]
  },
  {
   "cell_type": "code",
   "execution_count": null,
   "id": "3ba85629",
   "metadata": {},
   "outputs": [],
   "source": [
    "μ_samples = samples_htsc[\"c_mu_pred\"][:, : len(Xnew)]\n",
    "σ_samples = np.exp(samples_htsc[\"c_mu_pred\"][:, len(Xnew) :])\n",
    "\n",
    "_, axs = plt.subplots(1, 3, figsize=(18, 4))\n",
    "plot_mean(axs[0], μ_samples)\n",
    "plot_inducing_points(axs[0])\n",
    "plot_var(axs[1], σ_samples**2)\n",
    "axs[1].set_ylim(-0.01, 0.2)\n",
    "axs[1].legend(loc=\"upper left\")\n",
    "plot_inducing_points(axs[1])\n",
    "plot_total(axs[2], μ_samples, σ_samples**2)\n",
    "plot_inducing_points(axs[2])"
   ]
  },
  {
   "cell_type": "markdown",
   "id": "8cb27ba4",
   "metadata": {},
   "source": [
    "We can look at the learned correlation between the mean and variance by inspecting the covariance matrix $\\bf{B}$ constructed via $\\mathbf{B} \\equiv \\mathbf{WW}^T+diag(\\kappa)$:"
   ]
  },
  {
   "cell_type": "code",
   "execution_count": null,
   "id": "364c46a5",
   "metadata": {},
   "outputs": [],
   "source": [
    "with model_htsc:\n",
    "    B_samples = pm.sample_posterior_predictive(trace_htsc, var_names=[\"W\", \"kappa\"])"
   ]
  },
  {
   "cell_type": "code",
   "execution_count": null,
   "id": "26dfc678",
   "metadata": {},
   "outputs": [],
   "source": [
    "# Keep in mind that the first dimension in all arrays is the sampling dimension\n",
    "W = B_samples[\"W\"]\n",
    "W_T = np.swapaxes(W, 1, 2)\n",
    "WW_T = np.matmul(W, W_T)\n",
    "\n",
    "kappa = B_samples[\"kappa\"]\n",
    "I = np.tile(np.identity(2), [kappa.shape[0], 1, 1])\n",
    "# einsum is just a concise way of doing multiplication and summation over arbitrary axes\n",
    "diag_kappa = np.einsum(\"ij,ijk->ijk\", kappa, I)\n",
    "\n",
    "B = WW_T + diag_kappa\n",
    "B.mean(axis=0)"
   ]
  },
  {
   "cell_type": "code",
   "execution_count": null,
   "id": "8e93fce3",
   "metadata": {},
   "outputs": [],
   "source": [
    "sd = np.sqrt(np.diagonal(B, axis1=1, axis2=2))\n",
    "outer_sd = np.einsum(\"ij,ik->ijk\", sd, sd)\n",
    "correlation = B / outer_sd\n",
    "print(f\"2.5%ile correlation: {np.percentile(correlation,2.5,axis=0)[0,1]:0.3f}\")\n",
    "print(f\"Median correlation: {np.percentile(correlation,50,axis=0)[0,1]:0.3f}\")\n",
    "print(f\"97.5%ile correlation: {np.percentile(correlation,97.5,axis=0)[0,1]:0.3f}\")"
   ]
  },
  {
   "cell_type": "markdown",
   "id": "0f5e38dd",
   "metadata": {},
   "source": [
    "The model has inadvertently learned that the mean and noise are slightly negatively correlated, albeit with a wide credible interval."
   ]
  },
  {
   "cell_type": "markdown",
   "id": "1d2486ec",
   "metadata": {},
   "source": [
    "## Comparison"
   ]
  },
  {
   "cell_type": "markdown",
   "id": "d84d5561",
   "metadata": {},
   "source": [
    "The three latent approaches shown here varied in their complexity and efficiency, but ultimately produced very similar regression surfaces, as shown below. All three displayed a nuanced understanding of both aleatoric and epistemic uncertainties. It's worth noting that we had to increase `target_accept` from the default 0.8 to 0.95 to avoid an excessive number of divergences, but this has the downside of slowing down NUTS evaluations. Sampling times could be decreased by reducing `target_accept`, at the expense of potentially biased inference due to divergences, or by further reducing the number of inducing points used in the sparse approximations. Inspecting the convergence statistics for each method, all had low r_hat values of 1.01 or below but the LMC model showed low effective sample sizes for some parameters, in particular the `ess_tail` for the η and ℓ parameters. To have confidence in the 95% CI bounds for this model, we should run the sampling for more iterations, ideally at least until the smallest `ess_tail` is above 200 but the higher the better."
   ]
  },
  {
   "cell_type": "markdown",
   "id": "b2729a51",
   "metadata": {},
   "source": [
    "### Regression surfaces"
   ]
  },
  {
   "cell_type": "code",
   "execution_count": null,
   "id": "ed54ec60",
   "metadata": {},
   "outputs": [],
   "source": [
    "_, axs = plt.subplots(1, 3, figsize=(18, 4))\n",
    "\n",
    "μ_samples = samples_ht[\"μ_pred_ht\"]\n",
    "σ_samples = np.exp(samples_ht[\"lg_σ_pred_ht\"])\n",
    "plot_total(axs[0], μ_samples, σ_samples**2)\n",
    "axs[0].set_title(\"Latent\")\n",
    "\n",
    "μ_samples = samples_hts[\"μ_pred\"]\n",
    "σ_samples = np.exp(samples_hts[\"lg_σ_pred\"])\n",
    "plot_total(axs[1], μ_samples, σ_samples**2)\n",
    "axs[1].set_title(\"Sparse Latent\")\n",
    "\n",
    "μ_samples = samples_htsc[\"c_mu_pred\"][:, : len(Xnew)]\n",
    "σ_samples = np.exp(samples_htsc[\"c_mu_pred\"][:, len(Xnew) :])\n",
    "plot_total(axs[2], μ_samples, σ_samples**2)\n",
    "axs[2].set_title(\"Correlated Sparse Latent\")\n",
    "\n",
    "yls = [ax.get_ylim() for ax in axs]\n",
    "yl = [np.min([l[0] for l in yls]), np.max([l[1] for l in yls])]\n",
    "for ax in axs:\n",
    "    ax.set_ylim(yl)\n",
    "\n",
    "plot_inducing_points(axs[1])\n",
    "plot_inducing_points(axs[2])\n",
    "\n",
    "axs[0].legend().remove()\n",
    "axs[1].legend().remove()"
   ]
  },
  {
   "cell_type": "markdown",
   "id": "0d3748be",
   "metadata": {},
   "source": [
    "### Latent model convergence"
   ]
  },
  {
   "cell_type": "code",
   "execution_count": null,
   "id": "f7fbce2b",
   "metadata": {},
   "outputs": [],
   "source": [
    "display(az.summary(trace_ht).sort_values(\"ess_bulk\").iloc[:5])"
   ]
  },
  {
   "cell_type": "markdown",
   "id": "459c0394",
   "metadata": {},
   "source": [
    "### Sparse Latent model convergence"
   ]
  },
  {
   "cell_type": "code",
   "execution_count": null,
   "id": "54c432ce",
   "metadata": {},
   "outputs": [],
   "source": [
    "display(az.summary(trace_hts).sort_values(\"ess_bulk\").iloc[:5])"
   ]
  },
  {
   "cell_type": "markdown",
   "id": "02086291",
   "metadata": {},
   "source": [
    "### Correlated Sparse Latent model convergence"
   ]
  },
  {
   "cell_type": "code",
   "execution_count": null,
   "id": "60212713",
   "metadata": {},
   "outputs": [],
   "source": [
    "display(az.summary(trace_htsc).sort_values(\"ess_bulk\").iloc[:5])"
   ]
  },
  {
   "cell_type": "markdown",
   "id": "5bb7b710",
   "metadata": {},
   "source": [
    "* This notebook was written by John Goertz on 5 May, 2021."
   ]
  },
  {
   "cell_type": "code",
   "execution_count": null,
   "id": "54d9e549",
   "metadata": {},
   "outputs": [],
   "source": [
    "%watermark -n -u -v -iv -w -p xarray"
   ]
  },
  {
   "cell_type": "code",
   "execution_count": null,
   "id": "669b9685",
   "metadata": {},
   "outputs": [],
   "source": []
  }
 ],
 "metadata": {
  "kernelspec": {
   "display_name": "Python [conda env:pymc3]",
   "language": "python",
   "name": "conda-env-pymc3-py"
  },
  "language_info": {
   "codemirror_mode": {
    "name": "ipython",
    "version": 3
   },
   "file_extension": ".py",
   "mimetype": "text/x-python",
   "name": "python",
   "nbconvert_exporter": "python",
   "pygments_lexer": "ipython3",
   "version": "3.8.5"
  },
  "toc-showtags": false
 },
 "nbformat": 4,
 "nbformat_minor": 5
}
