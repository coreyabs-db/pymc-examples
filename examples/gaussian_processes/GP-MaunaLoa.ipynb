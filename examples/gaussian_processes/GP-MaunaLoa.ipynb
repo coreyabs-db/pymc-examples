{
 "cells": [
  {
   "cell_type": "markdown",
   "metadata": {},
   "source": [
    "(GP-MaunaLoa)=\n",
    "# Gaussian Process for CO2 at Mauna Loa\n",
    "\n",
    ":::{post} April, 2022\n",
    ":tags: gaussian process, CO2 \n",
    ":category: intermediate\n",
    ":author: Bill Engels, Chris Fonnesbeck\n",
    ":::"
   ]
  },
  {
   "cell_type": "markdown",
   "metadata": {},
   "source": [
    "This Gaussian Process (GP) example shows how to:\n",
    "\n",
    "- Design combinations of covariance functions\n",
    "- Use additive GPs whose individual components can be used for prediction\n",
    "- Perform maximum a-posteriori (MAP) estimation"
   ]
  },
  {
   "cell_type": "markdown",
   "metadata": {},
   "source": [
    "Since the late 1950's, the Mauna Loa observatory has been taking regular measurements of atmospheric CO$_2$. In the late 1950's Charles Keeling invented a accurate way to measure atmospheric CO$_2$ concentration.\n",
    "Since then, CO$_2$ measurements have been recorded nearly continuously at the Mauna Loa observatory.  Check out last hours measurement result [here](https://www.co2.earth/daily-co2).  \n",
    "\n",
    "![](http://sites.gsu.edu/geog1112/files/2014/07/MaunaLoaObservatory_small-2g29jvt.png)\n",
    "\n",
    "Not much was known about how fossil fuel burning influences the climate in the late 1950s.  The first couple years of data collection showed that CO$_2$ levels rose and fell following summer and winter, tracking the growth and decay of vegetation in the northern hemisphere.  As multiple years passed, the steady upward trend increasingly grew into focus.  With over 70 years of collected data, the Keeling curve is one of the most important climate indicators.\n",
    "\n",
    "The history behind these measurements and their influence on climatology today and other interesting reading:\n",
    "\n",
    "- http://scrippsco2.ucsd.edu/history_legacy/early_keeling_curve#\n",
    "- https://scripps.ucsd.edu/programs/keelingcurve/2016/05/23/why-has-a-drop-in-global-co2-emissions-not-caused-co2-levels-in-the-atmosphere-to-stabilize/#more-1412\n",
    "\n",
    "Let's load in the data, tidy it up, and have a look.  The [raw data set is located here](http://scrippsco2.ucsd.edu/data/atmospheric_co2/mlo).  This notebook uses the [Bokeh package](http://bokeh.pydata.org/en/latest/) for plots that benefit from interactivity."
   ]
  },
  {
   "cell_type": "markdown",
   "metadata": {},
   "source": [
    "## Preparing the data"
   ]
  },
  {
   "cell_type": "markdown",
   "metadata": {},
   "source": [
    ":::{include} ../extra_installs.md\n",
    ":::"
   ]
  },
  {
   "cell_type": "code",
   "execution_count": null,
   "metadata": {
    "ExecuteTime": {
     "end_time": "2018-05-25T03:53:40.677967Z",
     "start_time": "2018-05-25T03:53:38.727395Z"
    }
   },
   "outputs": [],
   "source": [
    "import numpy as np\n",
    "import pandas as pd\n",
    "import pymc3 as pm\n",
    "\n",
    "from bokeh.io import output_notebook\n",
    "from bokeh.models import BoxAnnotation, Label, Legend, Span\n",
    "from bokeh.palettes import brewer\n",
    "from bokeh.plotting import figure, show\n",
    "\n",
    "output_notebook()"
   ]
  },
  {
   "cell_type": "code",
   "execution_count": null,
   "metadata": {},
   "outputs": [],
   "source": [
    "%config InlineBackend.figure_format = 'retina'\n",
    "RANDOM_SEED = 8927\n",
    "rng = np.random.default_rng(RANDOM_SEED)"
   ]
  },
  {
   "cell_type": "code",
   "execution_count": null,
   "metadata": {
    "ExecuteTime": {
     "end_time": "2018-05-25T03:53:50.708241Z",
     "start_time": "2018-05-25T03:53:50.341128Z"
    }
   },
   "outputs": [],
   "source": [
    "# get data\n",
    "try:\n",
    "    data_monthly = pd.read_csv(\"../data/monthly_in_situ_co2_mlo.csv\", header=56)\n",
    "except FileNotFoundError:\n",
    "    data_monthly = pd.read_csv(pm.get_data(\"monthly_in_situ_co2_mlo.csv\"), header=56)\n",
    "\n",
    "# replace -99.99 with NaN\n",
    "data_monthly.replace(to_replace=-99.99, value=np.nan, inplace=True)\n",
    "\n",
    "# fix column names\n",
    "cols = [\n",
    "    \"year\",\n",
    "    \"month\",\n",
    "    \"--\",\n",
    "    \"--\",\n",
    "    \"CO2\",\n",
    "    \"seasonaly_adjusted\",\n",
    "    \"fit\",\n",
    "    \"seasonally_adjusted_fit\",\n",
    "    \"CO2_filled\",\n",
    "    \"seasonally_adjusted_filled\",\n",
    "]\n",
    "data_monthly.columns = cols\n",
    "cols.remove(\"--\")\n",
    "cols.remove(\"--\")\n",
    "data_monthly = data_monthly[cols]\n",
    "\n",
    "# drop rows with nan\n",
    "data_monthly.dropna(inplace=True)\n",
    "\n",
    "# fix time index\n",
    "data_monthly[\"day\"] = 15\n",
    "data_monthly.index = pd.to_datetime(data_monthly[[\"year\", \"month\", \"day\"]])\n",
    "cols.remove(\"year\")\n",
    "cols.remove(\"month\")\n",
    "data_monthly = data_monthly[cols]\n",
    "\n",
    "data_monthly.head(5)"
   ]
  },
  {
   "cell_type": "code",
   "execution_count": null,
   "metadata": {
    "ExecuteTime": {
     "end_time": "2018-05-25T03:53:51.775101Z",
     "start_time": "2018-05-25T03:53:51.689904Z"
    }
   },
   "outputs": [],
   "source": [
    "# function to convert datetimes to indexed numbers that are useful for later prediction\n",
    "def dates_to_idx(timelist):\n",
    "    reference_time = pd.to_datetime(\"1958-03-15\")\n",
    "    t = (timelist - reference_time) / pd.Timedelta(365, \"D\")\n",
    "    return np.asarray(t)\n",
    "\n",
    "\n",
    "t = dates_to_idx(data_monthly.index)\n",
    "\n",
    "# normalize CO2 levels\n",
    "y = data_monthly[\"CO2\"].values\n",
    "first_co2 = y[0]\n",
    "std_co2 = np.std(y)\n",
    "y_n = (y - first_co2) / std_co2\n",
    "\n",
    "data_monthly = data_monthly.assign(t=t)\n",
    "data_monthly = data_monthly.assign(y_n=y_n)"
   ]
  },
  {
   "cell_type": "markdown",
   "metadata": {},
   "source": [
    "This data might be familiar to you, since it was used as an example in the [Gaussian Processes for Machine Learning](http://www.gaussianprocess.org/gpml/) book by {cite:t}`rasmussen2003gaussian`.  The version of the data set they use starts in the late 1950's, but stops at the end of 2003.  So that our PyMC3 example is somewhat comparable to their example, we use the stretch of data from before 2004 as the \"training\" set.  The data from 2004 to 2022 we'll use to test our predictions."
   ]
  },
  {
   "cell_type": "code",
   "execution_count": null,
   "metadata": {
    "ExecuteTime": {
     "end_time": "2018-05-25T03:53:52.777093Z",
     "start_time": "2018-05-25T03:53:52.769644Z"
    }
   },
   "outputs": [],
   "source": [
    "# split into training and test set\n",
    "sep_idx = data_monthly.index.searchsorted(pd.to_datetime(\"2003-12-15\"))\n",
    "data_early = data_monthly.iloc[: sep_idx + 1, :]\n",
    "data_later = data_monthly.iloc[sep_idx:, :]"
   ]
  },
  {
   "cell_type": "code",
   "execution_count": null,
   "metadata": {
    "ExecuteTime": {
     "end_time": "2018-05-25T03:53:53.577534Z",
     "start_time": "2018-05-25T03:53:53.459940Z"
    }
   },
   "outputs": [],
   "source": [
    "# plot training and test data\n",
    "p = figure(\n",
    "    x_axis_type=\"datetime\",\n",
    "    title=\"Monthly CO2 Readings from Mauna Loa\",\n",
    "    plot_width=550,\n",
    "    plot_height=350,\n",
    ")\n",
    "p.yaxis.axis_label = \"CO2 [ppm]\"\n",
    "p.xaxis.axis_label = \"Date\"\n",
    "predict_region = BoxAnnotation(\n",
    "    left=pd.to_datetime(\"2003-12-15\"), fill_alpha=0.1, fill_color=\"firebrick\"\n",
    ")\n",
    "p.add_layout(predict_region)\n",
    "ppm400 = Span(location=400, dimension=\"width\", line_color=\"red\", line_dash=\"dashed\", line_width=2)\n",
    "p.add_layout(ppm400)\n",
    "\n",
    "p.line(data_monthly.index, data_monthly[\"CO2\"], line_width=2, line_color=\"black\", alpha=0.5)\n",
    "p.circle(data_monthly.index, data_monthly[\"CO2\"], line_color=\"black\", alpha=0.1, size=2)\n",
    "\n",
    "train_label = Label(\n",
    "    x=100,\n",
    "    y=165,\n",
    "    x_units=\"screen\",\n",
    "    y_units=\"screen\",\n",
    "    text=\"Training Set\",\n",
    "    render_mode=\"css\",\n",
    "    border_line_alpha=0.0,\n",
    "    background_fill_alpha=0.0,\n",
    ")\n",
    "test_label = Label(\n",
    "    x=585,\n",
    "    y=80,\n",
    "    x_units=\"screen\",\n",
    "    y_units=\"screen\",\n",
    "    text=\"Test Set\",\n",
    "    render_mode=\"css\",\n",
    "    border_line_alpha=0.0,\n",
    "    background_fill_alpha=0.0,\n",
    ")\n",
    "\n",
    "p.add_layout(train_label)\n",
    "p.add_layout(test_label)\n",
    "show(p)"
   ]
  },
  {
   "cell_type": "markdown",
   "metadata": {},
   "source": [
    "Bokeh plots are interactive, so panning and zooming can be done with the sidebar on the right hand side.  The seasonal rise and fall is plainly apparent, as is the upward trend.  Here is a link to an plots of [this curve at different time scales, and in the context of historical ice core data](https://scripps.ucsd.edu/programs/keelingcurve/).\n",
    "\n",
    "The 400 ppm level is highlighted with a dashed line.  In addition to fitting a descriptive model, our goal will be to predict the first month the 400 ppm threshold is crossed, which was [May, 2013](https://scripps.ucsd.edu/programs/keelingcurve/2013/05/20/now-what/#more-741).  In the data set above, the CO$_2$ average reading for May, 2013 was about 399.98, close enough to be our correct target date."
   ]
  },
  {
   "cell_type": "markdown",
   "metadata": {},
   "source": [
    "## Modeling the Keeling Curve using GPs\n",
    "\n",
    "As a starting point, we use the GP model described in {cite:t}`rasmussen2003gaussian`.  Instead of using flat priors on covariance function hyperparameters and then maximizing the marginal likelihood like is done in the textbook, we place somewhat informative priors on the hyperparameters and use optimization to find the MAP point.  We use the `gp.Marginal` since Gaussian noise is assumed.\n",
    "\n",
    "The R&W {cite:p}`rasmussen2003gaussian` model is a sum of three GPs for the signal, and one GP for the noise.\n",
    "\n",
    "1. A long term smooth rising trend represented by an exponentiated quadratic kernel.\n",
    "2. A periodic term that decays away from exact periodicity.  This is represented by the product of a `Periodic` and a `Matern52` covariance functions.\n",
    "3. Small and medium term irregularities with a rational quadratic kernel.\n",
    "4. The noise is modeled as the sum of a `Matern32` and a white noise kernel.\n",
    "\n",
    "The prior on CO$_2$ as a function of time is,\n",
    "\n",
    "$$\n",
    "f(t) \\sim \\mathcal{GP}_{\\text{slow}}(0,\\, k_1(t, t')) + \n",
    "          \\mathcal{GP}_{\\text{med}}(0,\\,  k_2(t, t')) + \n",
    "          \\mathcal{GP}_{\\text{per}}(0,\\,  k_3(t, t')) +\n",
    "          \\mathcal{GP}_{\\text{noise}}(0,\\,  k_4(t, t'))\n",
    "$$\n",
    "\n",
    "## Hyperparameter priors\n",
    "We use fairly uninformative priors for the scale hyperparameters of the covariance functions, and informative Gamma parameters for lengthscales.  The PDFs used for the lengthscale priors is shown below:"
   ]
  },
  {
   "cell_type": "code",
   "execution_count": null,
   "metadata": {
    "ExecuteTime": {
     "end_time": "2018-05-25T03:54:17.194602Z",
     "start_time": "2018-05-25T03:53:55.459991Z"
    }
   },
   "outputs": [],
   "source": [
    "x = np.linspace(0, 150, 5000)\n",
    "priors = [\n",
    "    (\"ℓ_pdecay\", pm.Gamma.dist(alpha=10, beta=0.075)),\n",
    "    (\"ℓ_psmooth\", pm.Gamma.dist(alpha=4, beta=3)),\n",
    "    (\"period\", pm.Normal.dist(mu=1.0, sigma=0.05)),\n",
    "    (\"ℓ_med\", pm.Gamma.dist(alpha=2, beta=0.75)),\n",
    "    (\"α\", pm.Gamma.dist(alpha=5, beta=2)),\n",
    "    (\"ℓ_trend\", pm.Gamma.dist(alpha=4, beta=0.1)),\n",
    "    (\"ℓ_noise\", pm.Gamma.dist(alpha=2, beta=4)),\n",
    "]\n",
    "\n",
    "colors = brewer[\"Paired\"][7]\n",
    "\n",
    "p = figure(\n",
    "    title=\"Lengthscale and period priors\",\n",
    "    plot_width=550,\n",
    "    plot_height=350,\n",
    "    x_range=(-1, 8),\n",
    "    y_range=(0, 2),\n",
    ")\n",
    "p.yaxis.axis_label = \"Probability\"\n",
    "p.xaxis.axis_label = \"Years\"\n",
    "\n",
    "for i, prior in enumerate(priors):\n",
    "    p.line(\n",
    "        x,\n",
    "        np.exp(prior[1].logp(x).eval()),\n",
    "        legend_label=prior[0],\n",
    "        line_width=3,\n",
    "        line_color=colors[i],\n",
    "    )\n",
    "show(p)"
   ]
  },
  {
   "cell_type": "markdown",
   "metadata": {},
   "source": [
    "- `ℓ_pdecay`: The periodic decay.  The smaller this parameter is, the faster the periodicity goes away.  I doubt that the seasonality of the CO$_2$ will be going away any time soon (hopefully), and there's no evidence for that in the data.  Most of the prior mass is from 60 to >140 years.\n",
    "\n",
    "- `ℓ_psmooth`: The smoothness of the periodic component.  It controls how \"sinusoidal\" the periodicity is.  The plot of the data shows that seasonality is not an exact sine wave, but its not terribly different from one.  We use a Gamma whose mode is at one, and doesn't have too large of a variance, with most of the prior mass from around 0.5 and 2.\n",
    "\n",
    "- `period`: The period.  We put a very strong prior on $p$, the period that is centered at one. R&W fix $p=1$, since the period is annual.  \n",
    "\n",
    "- `ℓ_med`: This is the lengthscale for the short to medium long variations.  This prior has most of its mass below 6 years.\n",
    "\n",
    "- `α`: This is the shape parameter.  This prior is centered at 3, since we're expecting there to be some more variation than could be explained by an exponentiated quadratic. \n",
    "\n",
    "- `ℓ_trend`: The lengthscale of the long term trend.  It has a wide prior with mass on a decade scale.  Most of the mass is between 10 to 60 years.\n",
    "\n",
    "- `ℓ_noise`: The lengthscale of the noise covariance.  This noise should be very rapid, in the scale of several months to at most a year or two."
   ]
  },
  {
   "cell_type": "markdown",
   "metadata": {},
   "source": [
    "We know beforehand which GP components should have a larger magnitude, so we include this information in the scale parameters."
   ]
  },
  {
   "cell_type": "code",
   "execution_count": null,
   "metadata": {
    "ExecuteTime": {
     "end_time": "2018-05-25T03:54:19.531171Z",
     "start_time": "2018-05-25T03:54:19.041465Z"
    }
   },
   "outputs": [],
   "source": [
    "x = np.linspace(0, 4, 5000)\n",
    "priors = [\n",
    "    (\"η_per\", pm.HalfCauchy.dist(beta=2)),\n",
    "    (\"η_med\", pm.HalfCauchy.dist(beta=1.0)),\n",
    "    (\n",
    "        \"η_trend\",\n",
    "        pm.HalfCauchy.dist(beta=3),\n",
    "    ),  # will use beta=2, but beta=3 is visible on plot\n",
    "    (\"σ\", pm.HalfNormal.dist(sigma=0.25)),\n",
    "    (\"η_noise\", pm.HalfNormal.dist(sigma=0.5)),\n",
    "]\n",
    "\n",
    "colors = brewer[\"Paired\"][5]\n",
    "\n",
    "p = figure(title=\"Scale priors\", plot_width=550, plot_height=350)\n",
    "p.yaxis.axis_label = \"Probability\"\n",
    "p.xaxis.axis_label = \"Years\"\n",
    "\n",
    "for i, prior in enumerate(priors):\n",
    "    p.line(\n",
    "        x,\n",
    "        np.exp(prior[1].logp(x).eval()),\n",
    "        legend_label=prior[0],\n",
    "        line_width=3,\n",
    "        line_color=colors[i],\n",
    "    )\n",
    "show(p)"
   ]
  },
  {
   "cell_type": "markdown",
   "metadata": {},
   "source": [
    "For all of the scale priors we use distributions that shrink the scale towards zero.  The seasonal component and the long term trend have the least mass near zero, since they are the largest influences in the data.  \n",
    "\n",
    "- `η_per`: Scale of the periodic or seasonal component.\n",
    "- `η_med`: Scale of the short to medium term component.\n",
    "- `η_trend`: Scale of the long term trend.\n",
    "- `σ`: Scale of the white noise.\n",
    "- `η_noise`: Scale of correlated, short term noise."
   ]
  },
  {
   "cell_type": "markdown",
   "metadata": {},
   "source": [
    "## The model in PyMC3\n",
    "\n",
    "Below is the actual model.  Each of the three component GPs is constructed separately.  Since we are doing MAP, we use `Marginal` GPs and lastly call the `.marginal_likelihood` method to specify the marginal posterior."
   ]
  },
  {
   "cell_type": "code",
   "execution_count": null,
   "metadata": {
    "ExecuteTime": {
     "end_time": "2018-05-25T03:54:19.536258Z",
     "start_time": "2018-05-25T03:54:19.533016Z"
    }
   },
   "outputs": [],
   "source": [
    "# pull out normalized data\n",
    "t = data_early[\"t\"].values[:, None]\n",
    "y = data_early[\"y_n\"].values"
   ]
  },
  {
   "cell_type": "code",
   "execution_count": null,
   "metadata": {
    "ExecuteTime": {
     "end_time": "2018-05-25T03:55:48.510926Z",
     "start_time": "2018-05-25T03:54:19.539556Z"
    }
   },
   "outputs": [],
   "source": [
    "with pm.Model() as model:\n",
    "    # yearly periodic component x long term trend\n",
    "    η_per = pm.HalfCauchy(\"η_per\", beta=2, testval=1.0)\n",
    "    ℓ_pdecay = pm.Gamma(\"ℓ_pdecay\", alpha=10, beta=0.075)\n",
    "    period = pm.Normal(\"period\", mu=1, sigma=0.05)\n",
    "    ℓ_psmooth = pm.Gamma(\"ℓ_psmooth \", alpha=4, beta=3)\n",
    "    cov_seasonal = (\n",
    "        η_per**2 * pm.gp.cov.Periodic(1, period, ℓ_psmooth) * pm.gp.cov.Matern52(1, ℓ_pdecay)\n",
    "    )\n",
    "    gp_seasonal = pm.gp.Marginal(cov_func=cov_seasonal)\n",
    "\n",
    "    # small/medium term irregularities\n",
    "    η_med = pm.HalfCauchy(\"η_med\", beta=0.5, testval=0.1)\n",
    "    ℓ_med = pm.Gamma(\"ℓ_med\", alpha=2, beta=0.75)\n",
    "    α = pm.Gamma(\"α\", alpha=5, beta=2)\n",
    "    cov_medium = η_med**2 * pm.gp.cov.RatQuad(1, ℓ_med, α)\n",
    "    gp_medium = pm.gp.Marginal(cov_func=cov_medium)\n",
    "\n",
    "    # long term trend\n",
    "    η_trend = pm.HalfCauchy(\"η_trend\", beta=2, testval=2.0)\n",
    "    ℓ_trend = pm.Gamma(\"ℓ_trend\", alpha=4, beta=0.1)\n",
    "    cov_trend = η_trend**2 * pm.gp.cov.ExpQuad(1, ℓ_trend)\n",
    "    gp_trend = pm.gp.Marginal(cov_func=cov_trend)\n",
    "\n",
    "    # noise model\n",
    "    η_noise = pm.HalfNormal(\"η_noise\", sigma=0.5, testval=0.05)\n",
    "    ℓ_noise = pm.Gamma(\"ℓ_noise\", alpha=2, beta=4)\n",
    "    σ = pm.HalfNormal(\"σ\", sigma=0.25, testval=0.05)\n",
    "    cov_noise = η_noise**2 * pm.gp.cov.Matern32(1, ℓ_noise) + pm.gp.cov.WhiteNoise(σ)\n",
    "\n",
    "    # The Gaussian process is a sum of these three components\n",
    "    gp = gp_seasonal + gp_medium + gp_trend\n",
    "\n",
    "    # Since the normal noise model and the GP are conjugates, we use `Marginal` with the `.marginal_likelihood` method\n",
    "    y_ = gp.marginal_likelihood(\"y\", X=t, y=y, noise=cov_noise)\n",
    "\n",
    "    # this line calls an optimizer to find the MAP\n",
    "    mp = pm.find_MAP(include_transformed=True)"
   ]
  },
  {
   "cell_type": "code",
   "execution_count": null,
   "metadata": {
    "ExecuteTime": {
     "end_time": "2018-05-25T03:56:22.438458Z",
     "start_time": "2018-05-25T03:56:22.425808Z"
    }
   },
   "outputs": [],
   "source": [
    "# display the results, dont show transformed parameter values\n",
    "sorted([name + \":\" + str(mp[name]) for name in mp.keys() if not name.endswith(\"_\")])"
   ]
  },
  {
   "cell_type": "markdown",
   "metadata": {},
   "source": [
    "At first glance the results look reasonable.  The lengthscale that determines how fast the seasonality varies is about 126 years.  This means that given the data, we wouldn't expect such strong periodicity to vanish until centuries have passed.  The trend lengthscale is also long, about 50 years."
   ]
  },
  {
   "cell_type": "markdown",
   "metadata": {},
   "source": [
    "## Examining the fit of each of the additive GP components\n",
    "\n",
    "The code below looks at the fit of the total GP, and each component individually.  The total fit and its $2\\sigma$ uncertainty are shown in red."
   ]
  },
  {
   "cell_type": "code",
   "execution_count": null,
   "metadata": {
    "ExecuteTime": {
     "end_time": "2018-05-25T03:56:42.831147Z",
     "start_time": "2018-05-25T03:56:27.262261Z"
    }
   },
   "outputs": [],
   "source": [
    "# predict at a 15 day granularity\n",
    "dates = pd.date_range(start=\"3/15/1958\", end=\"12/15/2003\", freq=\"15D\")\n",
    "tnew = dates_to_idx(dates)[:, None]\n",
    "\n",
    "print(\"Predicting with gp ...\")\n",
    "mu, var = gp.predict(tnew, point=mp, diag=True)\n",
    "mean_pred = mu * std_co2 + first_co2\n",
    "var_pred = var * std_co2**2\n",
    "\n",
    "# make dataframe to store fit results\n",
    "fit = pd.DataFrame(\n",
    "    {\"t\": tnew.flatten(), \"mu_total\": mean_pred, \"sd_total\": np.sqrt(var_pred)},\n",
    "    index=dates,\n",
    ")\n",
    "\n",
    "print(\"Predicting with gp_trend ...\")\n",
    "mu, var = gp_trend.predict(\n",
    "    tnew, point=mp, given={\"gp\": gp, \"X\": t, \"y\": y, \"noise\": cov_noise}, diag=True\n",
    ")\n",
    "fit = fit.assign(mu_trend=mu * std_co2 + first_co2, sd_trend=np.sqrt(var * std_co2**2))\n",
    "\n",
    "print(\"Predicting with gp_medium ...\")\n",
    "mu, var = gp_medium.predict(\n",
    "    tnew, point=mp, given={\"gp\": gp, \"X\": t, \"y\": y, \"noise\": cov_noise}, diag=True\n",
    ")\n",
    "fit = fit.assign(mu_medium=mu * std_co2 + first_co2, sd_medium=np.sqrt(var * std_co2**2))\n",
    "\n",
    "print(\"Predicting with gp_seasonal ...\")\n",
    "mu, var = gp_seasonal.predict(\n",
    "    tnew, point=mp, given={\"gp\": gp, \"X\": t, \"y\": y, \"noise\": cov_noise}, diag=True\n",
    ")\n",
    "fit = fit.assign(mu_seasonal=mu * std_co2 + first_co2, sd_seasonal=np.sqrt(var * std_co2**2))\n",
    "print(\"Done\")"
   ]
  },
  {
   "cell_type": "code",
   "execution_count": null,
   "metadata": {
    "ExecuteTime": {
     "end_time": "2018-05-25T03:57:38.312757Z",
     "start_time": "2018-05-25T03:57:38.037202Z"
    }
   },
   "outputs": [],
   "source": [
    "## plot the components\n",
    "p = figure(\n",
    "    title=\"Decomposition of the Mauna Loa Data\",\n",
    "    x_axis_type=\"datetime\",\n",
    "    plot_width=550,\n",
    "    plot_height=350,\n",
    ")\n",
    "p.yaxis.axis_label = \"CO2 [ppm]\"\n",
    "p.xaxis.axis_label = \"Date\"\n",
    "\n",
    "# plot mean and 2σ region of total prediction\n",
    "upper = fit.mu_total + 2 * fit.sd_total\n",
    "lower = fit.mu_total - 2 * fit.sd_total\n",
    "band_x = np.append(fit.index.values, fit.index.values[::-1])\n",
    "band_y = np.append(lower, upper[::-1])\n",
    "\n",
    "# total fit\n",
    "p.line(\n",
    "    fit.index,\n",
    "    fit.mu_total,\n",
    "    line_width=1,\n",
    "    line_color=\"firebrick\",\n",
    "    legend_label=\"Total fit\",\n",
    ")\n",
    "p.patch(band_x, band_y, color=\"firebrick\", alpha=0.6, line_color=\"white\")\n",
    "\n",
    "# trend\n",
    "p.line(\n",
    "    fit.index,\n",
    "    fit.mu_trend,\n",
    "    line_width=1,\n",
    "    line_color=\"blue\",\n",
    "    legend_label=\"Long term trend\",\n",
    ")\n",
    "\n",
    "# medium\n",
    "p.line(\n",
    "    fit.index,\n",
    "    fit.mu_medium,\n",
    "    line_width=1,\n",
    "    line_color=\"green\",\n",
    "    legend_label=\"Medium range variation\",\n",
    ")\n",
    "\n",
    "# seasonal\n",
    "p.line(\n",
    "    fit.index,\n",
    "    fit.mu_seasonal,\n",
    "    line_width=1,\n",
    "    line_color=\"orange\",\n",
    "    legend_label=\"Seasonal process\",\n",
    ")\n",
    "\n",
    "# true value\n",
    "p.circle(data_early.index, data_early[\"CO2\"], color=\"black\", legend_label=\"Observed data\")\n",
    "p.legend.location = \"top_left\"\n",
    "show(p)"
   ]
  },
  {
   "cell_type": "markdown",
   "metadata": {},
   "source": [
    "The fit matches the observed data very well.  The trend, seasonality, and short/medium term effects also are cleanly separated out.  If you zoom so the seasonal process fills the plot window (from x equals 1955 to 2004, from y equals 310 to 320), it appears to be widening as time goes on.  Lets plot the first year of each decade:"
   ]
  },
  {
   "cell_type": "code",
   "execution_count": null,
   "metadata": {
    "ExecuteTime": {
     "end_time": "2018-05-25T04:00:50.840198Z",
     "start_time": "2018-05-25T04:00:40.202712Z"
    }
   },
   "outputs": [],
   "source": [
    "# plot several years\n",
    "\n",
    "p = figure(title=\"Several years of the seasonal component\", plot_width=550, plot_height=350)\n",
    "p.yaxis.axis_label = \"Δ CO2 [ppm]\"\n",
    "p.xaxis.axis_label = \"Month\"\n",
    "\n",
    "colors = brewer[\"Paired\"][5]\n",
    "years = [\"1960\", \"1970\", \"1980\", \"1990\", \"2000\"]\n",
    "\n",
    "for i, year in enumerate(years):\n",
    "    dates = pd.date_range(start=\"1/1/\" + year, end=\"12/31/\" + year, freq=\"10D\")\n",
    "    tnew = dates_to_idx(dates)[:, None]\n",
    "\n",
    "    print(\"Predicting year\", year)\n",
    "    mu, var = gp_seasonal.predict(\n",
    "        tnew, point=mp, diag=True, given={\"gp\": gp, \"X\": t, \"y\": y, \"noise\": cov_noise}\n",
    "    )\n",
    "    mu_pred = mu * std_co2\n",
    "\n",
    "    # plot mean\n",
    "    x = np.asarray((dates - dates[0]) / pd.Timedelta(30, \"D\")) + 1\n",
    "    p.line(x, mu_pred, line_width=1, line_color=colors[i], legend_label=year)\n",
    "\n",
    "p.legend.location = \"bottom_left\"\n",
    "show(p)"
   ]
  },
  {
   "cell_type": "markdown",
   "metadata": {},
   "source": [
    "This plot makes it clear that there is a broadening over time.  So it would seem that as there is more CO$_2$ in the atmosphere, [the absorption/release cycle due to the growth and decay of vegetation in the northern hemisphere](https://scripps.ucsd.edu/programs/keelingcurve/2013/06/04/why-does-atmospheric-co2-peak-in-may/) becomes more slightly more pronounced."
   ]
  },
  {
   "cell_type": "markdown",
   "metadata": {},
   "source": [
    "## What day will the CO2 level break 400 ppm?\n",
    "\n",
    "How well do our forecasts look?  Clearly the observed data trends up and the seasonal effect is very pronounced.  Does our GP model capture this well enough to make reasonable extrapolations?  Our \"training\" set went up until the end of 2003, so we are going to predict from January 2004 out to the end of 2022.  \n",
    "\n",
    "Although there isn't any particular significance to this event other than it being a nice round number, our side goal was to see how well we could predict the date when the 400 ppm mark is first crossed.  [This event first occurred during May, 2013](https://scripps.ucsd.edu/programs/keelingcurve/2013/05/20/now-what/#more-741) and there were a few [news articles about other significant milestones](https://www.usatoday.com/story/tech/sciencefair/2016/09/29/carbon-dioxide-levels-400-ppm-scripps-mauna-loa-global-warming/91279952/)."
   ]
  },
  {
   "cell_type": "code",
   "execution_count": null,
   "metadata": {
    "ExecuteTime": {
     "end_time": "2018-05-25T04:02:52.047344Z",
     "start_time": "2018-05-25T04:02:46.752016Z"
    }
   },
   "outputs": [],
   "source": [
    "dates = pd.date_range(start=\"11/15/2003\", end=\"12/15/2022\", freq=\"10D\")\n",
    "tnew = dates_to_idx(dates)[:, None]\n",
    "\n",
    "print(\"Sampling gp predictions ...\")\n",
    "mu_pred, cov_pred = gp.predict(tnew, point=mp)\n",
    "\n",
    "# draw samples, and rescale\n",
    "n_samples = 2000\n",
    "samples = pm.MvNormal.dist(mu=mu_pred, cov=cov_pred, shape=(n_samples, len(tnew))).random()\n",
    "samples = samples * std_co2 + first_co2"
   ]
  },
  {
   "cell_type": "code",
   "execution_count": null,
   "metadata": {
    "ExecuteTime": {
     "end_time": "2018-05-25T04:03:39.381196Z",
     "start_time": "2018-05-25T04:03:39.127383Z"
    }
   },
   "outputs": [],
   "source": [
    "# make plot\n",
    "p = figure(x_axis_type=\"datetime\", plot_width=700, plot_height=300)\n",
    "p.yaxis.axis_label = \"CO2 [ppm]\"\n",
    "p.xaxis.axis_label = \"Date\"\n",
    "\n",
    "# plot mean and 2σ region of total prediction\n",
    "# scale mean and var\n",
    "mu_pred_sc = mu_pred * std_co2 + first_co2\n",
    "sd_pred_sc = np.sqrt(np.diag(cov_pred) * std_co2**2)\n",
    "\n",
    "upper = mu_pred_sc + 2 * sd_pred_sc\n",
    "lower = mu_pred_sc - 2 * sd_pred_sc\n",
    "band_x = np.append(dates, dates[::-1])\n",
    "band_y = np.append(lower, upper[::-1])\n",
    "\n",
    "p.line(dates, mu_pred_sc, line_width=2, line_color=\"firebrick\", legend_label=\"Total fit\")\n",
    "p.patch(band_x, band_y, color=\"firebrick\", alpha=0.6, line_color=\"white\")\n",
    "\n",
    "# some predictions\n",
    "idx = np.random.randint(0, samples.shape[0], 10)\n",
    "p.multi_line(\n",
    "    [dates] * len(idx),\n",
    "    [samples[i, :] for i in idx],\n",
    "    color=\"firebrick\",\n",
    "    alpha=0.5,\n",
    "    line_width=0.5,\n",
    ")\n",
    "\n",
    "# true value\n",
    "p.circle(data_later.index, data_later[\"CO2\"], color=\"black\", legend_label=\"Observed data\")\n",
    "\n",
    "ppm400 = Span(\n",
    "    location=400,\n",
    "    dimension=\"width\",\n",
    "    line_color=\"black\",\n",
    "    line_dash=\"dashed\",\n",
    "    line_width=1,\n",
    ")\n",
    "p.add_layout(ppm400)\n",
    "p.legend.location = \"bottom_right\"\n",
    "show(p)"
   ]
  },
  {
   "cell_type": "markdown",
   "metadata": {},
   "source": [
    "The mean prediction and the $2\\sigma$ uncertainty is in red.  A couple samples from the marginal posterior are also shown on there.  It looks like our model was a little optimistic about how much CO2 is being released.  The first time the $2\\sigma$ uncertainty crosses the 400 ppm threshold is in May 2015, two years late. \n",
    "\n",
    "One reason this is occurring is because our GP prior had zero mean.  This means we encoded prior information that says that the function should go to zero as we move away from our observed data.  This assumption probably isn't justified.  It's also possible that the CO$_2$ trend is increasing faster than linearly -- important knowledge for accurate predictions.  Another possibility is the MAP estimate.  Without looking at the full posterior, the uncertainty in our estimates is underestimated.  How badly is unknown."
   ]
  },
  {
   "cell_type": "markdown",
   "metadata": {},
   "source": [
    "Having a zero mean GP prior is causing the prediction to be pretty far off.  Some possibilities for fixing this is to use a constant mean function, whose value could maybe be assigned the historical, or pre-industrial revolution, CO$_2$ average.  This may not be the best indicator for future CO$_2$ levels though.  \n",
    "\n",
    "Also, using only historical CO$_2$ data may not be the best predictor.  In addition to looking at the underlying behavior of what determines CO$_2$ levels using a GP fit, we could also incorporate other information, such as the amount of CO$_2$ that is released by fossil fuel burning.   \n",
    "\n",
    "Next, we'll see about using PyMC3's GP functionality to improve the model, look at full posteriors, and incorporate other sources of data on drivers of CO$_2$ levels."
   ]
  },
  {
   "cell_type": "markdown",
   "metadata": {},
   "source": [
    "## Authors\n",
    "* Authored by Bill Engels in September, 2017 ([pymc#2444](https://github.com/pymc-devs/pymc/pull/2444))\n",
    "* Updated by Chris Fonnesbeck in December, 2020\n",
    "* Re-executed by Danh Phan in May, 2022 ([pymc-examples#316](https://github.com/pymc-devs/pymc-examples/pull/316))"
   ]
  },
  {
   "cell_type": "markdown",
   "metadata": {},
   "source": [
    "## References\n",
    ":::{bibliography}\n",
    ":filter: docname in docnames\n",
    ":::"
   ]
  },
  {
   "cell_type": "code",
   "execution_count": null,
   "metadata": {},
   "outputs": [],
   "source": [
    "%load_ext watermark\n",
    "%watermark -n -u -v -iv -w -p bokeh"
   ]
  },
  {
   "cell_type": "markdown",
   "metadata": {},
   "source": [
    ":::{include} ../page_footer.md\n",
    ":::"
   ]
  }
 ],
 "metadata": {
  "anaconda-cloud": {},
  "kernelspec": {
   "display_name": "Python 3",
   "language": "python",
   "name": "python3"
  },
  "language_info": {
   "codemirror_mode": {
    "name": "ipython",
    "version": 3
   },
   "file_extension": ".py",
   "mimetype": "text/x-python",
   "name": "python",
   "nbconvert_exporter": "python",
   "pygments_lexer": "ipython3",
   "version": "3.9.5"
  },
  "myst": {
   "substitutions": {
    "extra_dependencies": "bokeh"
   }
  }
 },
 "nbformat": 4,
 "nbformat_minor": 4
}
