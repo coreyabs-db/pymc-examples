{
 "cells": [
  {
   "cell_type": "markdown",
   "metadata": {
    "button": false,
    "new_sheet": false,
    "run_control": {
     "read_only": false
    },
    "slideshow": {
     "slide_type": "slide"
    }
   },
   "source": [
    "(Euler-Maruyama_and_SDEs)=\n",
    "# Inferring parameters of SDEs using a Euler-Maruyama scheme\n",
    "\n",
    ":::{post} July 2016\n",
    ":tags: time series\n",
    ":category: advanced, reference\n",
    ":author: @maedoc\n",
    ":::\n",
    "\n",
    "_This notebook is derived from a presentation prepared for the Theoretical Neuroscience Group, Institute of Systems Neuroscience at Aix-Marseile University._"
   ]
  },
  {
   "cell_type": "code",
   "execution_count": null,
   "metadata": {
    "button": false,
    "new_sheet": false,
    "run_control": {
     "read_only": false
    },
    "slideshow": {
     "slide_type": "-"
    }
   },
   "outputs": [],
   "source": [
    "import warnings\n",
    "\n",
    "import arviz as az\n",
    "import matplotlib.pyplot as plt\n",
    "import numpy as np\n",
    "import pymc as pm\n",
    "import pytensor.tensor as pt\n",
    "import scipy as sp\n",
    "\n",
    "# Ignore UserWarnings\n",
    "warnings.filterwarnings(\"ignore\", category=UserWarning)\n",
    "\n",
    "RANDOM_SEED = 8927\n",
    "np.random.seed(RANDOM_SEED)"
   ]
  },
  {
   "cell_type": "code",
   "execution_count": null,
   "metadata": {},
   "outputs": [],
   "source": [
    "%config InlineBackend.figure_format = 'retina'\n",
    "az.style.use(\"arviz-darkgrid\")"
   ]
  },
  {
   "cell_type": "markdown",
   "metadata": {
    "button": false,
    "nbpresent": {
     "id": "2325c7f9-37bd-4a65-aade-86bee1bff5e3"
    },
    "new_sheet": false,
    "run_control": {
     "read_only": false
    },
    "slideshow": {
     "slide_type": "slide"
    }
   },
   "source": [
    "## Example Model\n",
    "\n",
    "Here's a scalar linear SDE in symbolic form\n",
    "\n",
    "$ dX_t = \\lambda X_t + \\sigma^2 dW_t $\n",
    "\n",
    "discretized with the Euler-Maruyama scheme. \n",
    "\n",
    "We can simulate data from this process and then attempt to recover the parameters."
   ]
  },
  {
   "cell_type": "code",
   "execution_count": null,
   "metadata": {
    "button": false,
    "new_sheet": false,
    "run_control": {
     "read_only": false
    }
   },
   "outputs": [],
   "source": [
    "# parameters\n",
    "lam = -0.78\n",
    "s2 = 5e-3\n",
    "N = 200\n",
    "dt = 1e-1\n",
    "\n",
    "# time series\n",
    "x = 0.1\n",
    "x_t = []\n",
    "\n",
    "# simulate\n",
    "for i in range(N):\n",
    "    x += dt * lam * x + np.sqrt(dt) * s2 * np.random.randn()\n",
    "    x_t.append(x)\n",
    "\n",
    "x_t = np.array(x_t)\n",
    "\n",
    "# z_t noisy observation\n",
    "z_t = x_t + np.random.randn(x_t.size) * 5e-3"
   ]
  },
  {
   "cell_type": "code",
   "execution_count": null,
   "metadata": {
    "button": false,
    "nbpresent": {
     "id": "0994bfef-45dc-48da-b6bf-c7b38d62bf11"
    },
    "new_sheet": false,
    "run_control": {
     "read_only": false
    },
    "slideshow": {
     "slide_type": "subslide"
    }
   },
   "outputs": [],
   "source": [
    "fig, (ax1, ax2) = plt.subplots(1, 2, figsize=(10, 3))\n",
    "\n",
    "ax1.plot(x_t[:30], \"k\", label=\"$x(t)$\", alpha=0.5)\n",
    "ax1.plot(z_t[:30], \"r\", label=\"$z(t)$\", alpha=0.5)\n",
    "ax1.set_title(\"Transient\")\n",
    "ax1.legend()\n",
    "\n",
    "ax2.plot(x_t[30:], \"k\", label=\"$x(t)$\", alpha=0.5)\n",
    "ax2.plot(z_t[30:], \"r\", label=\"$z(t)$\", alpha=0.5)\n",
    "ax2.set_title(\"All time\")\n",
    "ax2.legend()\n",
    "\n",
    "plt.tight_layout()"
   ]
  },
  {
   "cell_type": "markdown",
   "metadata": {
    "button": false,
    "new_sheet": false,
    "run_control": {
     "read_only": false
    }
   },
   "source": [
    "What is the inference we want to make? Since we've made a noisy observation of the generated time series, we need to estimate both $x(t)$ and $\\lambda$."
   ]
  },
  {
   "cell_type": "markdown",
   "metadata": {
    "button": false,
    "new_sheet": false,
    "run_control": {
     "read_only": false
    },
    "slideshow": {
     "slide_type": "subslide"
    }
   },
   "source": [
    "We need to provide an SDE function that returns the drift and diffusion coefficients."
   ]
  },
  {
   "cell_type": "code",
   "execution_count": null,
   "metadata": {
    "button": false,
    "new_sheet": false,
    "run_control": {
     "read_only": false
    }
   },
   "outputs": [],
   "source": [
    "def lin_sde(x, lam, s2):\n",
    "    return lam * x, s2"
   ]
  },
  {
   "cell_type": "markdown",
   "metadata": {
    "button": false,
    "new_sheet": false,
    "run_control": {
     "read_only": false
    },
    "slideshow": {
     "slide_type": "subslide"
    }
   },
   "source": [
    "The probability model is comprised of a prior on the drift parameter `lam`, the diffusion coefficient `s`, the latent Euler-Maruyama process `xh` and the likelihood describing the noisy observations `zh`. We will assume that we know the observation noise."
   ]
  },
  {
   "cell_type": "code",
   "execution_count": null,
   "metadata": {
    "button": false,
    "nbpresent": {
     "id": "4f90230d-f303-4b3b-a69e-304a632c6407"
    },
    "new_sheet": false,
    "run_control": {
     "read_only": false
    },
    "slideshow": {
     "slide_type": "-"
    }
   },
   "outputs": [],
   "source": [
    "with pm.Model() as model:\n",
    "    # uniform prior, but we know it must be negative\n",
    "    l = pm.HalfCauchy(\"l\", beta=1)\n",
    "    s = pm.Uniform(\"s\", 0.005, 0.5)\n",
    "\n",
    "    # \"hidden states\" following a linear SDE distribution\n",
    "    # parametrized by time step (det. variable) and lam (random variable)\n",
    "    xh = pm.EulerMaruyama(\"xh\", dt=dt, sde_fn=lin_sde, sde_pars=(-l, s**2), shape=N, initval=x_t)\n",
    "\n",
    "    # predicted observation\n",
    "    zh = pm.Normal(\"zh\", mu=xh, sigma=5e-3, observed=z_t)"
   ]
  },
  {
   "cell_type": "markdown",
   "metadata": {
    "button": false,
    "nbpresent": {
     "id": "287d10b5-0193-4ffe-92a7-362993c4b72e"
    },
    "new_sheet": false,
    "run_control": {
     "read_only": false
    },
    "slideshow": {
     "slide_type": "subslide"
    }
   },
   "source": [
    "Once the model is constructed, we perform inference, which here is via the NUTS algorithm as implemented in `nutpie`, which will be extremely fast."
   ]
  },
  {
   "cell_type": "code",
   "execution_count": null,
   "metadata": {
    "button": false,
    "new_sheet": false,
    "run_control": {
     "read_only": false
    }
   },
   "outputs": [],
   "source": [
    "with model:\n",
    "    trace = pm.sample(nuts_sampler=\"nutpie\", random_seed=RANDOM_SEED, target_accept=0.99)"
   ]
  },
  {
   "cell_type": "markdown",
   "metadata": {
    "button": false,
    "new_sheet": false,
    "run_control": {
     "read_only": false
    },
    "slideshow": {
     "slide_type": "subslide"
    }
   },
   "source": [
    "Next, we plot some basic statistics on the samples from the posterior,"
   ]
  },
  {
   "cell_type": "code",
   "execution_count": null,
   "metadata": {},
   "outputs": [],
   "source": [
    "plt.figure(figsize=(10, 3))\n",
    "plt.subplot(121)\n",
    "plt.plot(\n",
    "    trace.posterior.quantile((0.025, 0.975), dim=(\"chain\", \"draw\"))[\"xh\"].values.T,\n",
    "    \"k\",\n",
    "    label=r\"$\\hat{x}_{95\\%}(t)$\",\n",
    ")\n",
    "plt.plot(x_t, \"r\", label=\"$x(t)$\")\n",
    "plt.legend()\n",
    "\n",
    "plt.subplot(122)\n",
    "plt.hist(-1 * az.extract(trace.posterior)[\"l\"], 30, label=r\"$\\hat{\\lambda}$\", alpha=0.5)\n",
    "plt.axvline(lam, color=\"r\", label=r\"$\\lambda$\", alpha=0.5)\n",
    "plt.legend();"
   ]
  },
  {
   "cell_type": "markdown",
   "metadata": {
    "button": false,
    "new_sheet": false,
    "run_control": {
     "read_only": false
    },
    "slideshow": {
     "slide_type": "subslide"
    }
   },
   "source": [
    "A model can fit the data precisely and still be wrong; we need to use _posterior predictive checks_ to assess if, under our fit model, the data our likely.\n",
    "\n",
    "In other words, we \n",
    "- assume the model is correct\n",
    "- simulate new observations\n",
    "- check that the new observations fit with the original data"
   ]
  },
  {
   "cell_type": "code",
   "execution_count": null,
   "metadata": {},
   "outputs": [],
   "source": [
    "# generate trace from posterior\n",
    "with model:\n",
    "    pm.sample_posterior_predictive(trace, extend_inferencedata=True)"
   ]
  },
  {
   "cell_type": "code",
   "execution_count": null,
   "metadata": {},
   "outputs": [],
   "source": [
    "plt.figure(figsize=(10, 3))\n",
    "plt.plot(\n",
    "    trace.posterior_predictive.quantile((0.025, 0.975), dim=(\"chain\", \"draw\"))[\"zh\"].values.T,\n",
    "    \"k\",\n",
    "    label=r\"$z_{95\\% PP}(t)$\",\n",
    ")\n",
    "plt.plot(z_t, \"r\", label=\"$z(t)$\")\n",
    "plt.legend();"
   ]
  },
  {
   "cell_type": "markdown",
   "metadata": {
    "button": false,
    "new_sheet": false,
    "run_control": {
     "read_only": false
    }
   },
   "source": [
    "Note that the initial conditions are also estimated, and that most of the observed data $z(t)$ lies within the 95% interval of the PPC.\n",
    "\n",
    "Another approach is to look at draws from the sampling distribution of the data relative to the observed data. This too shows a good fit across the range of observations -- the posterior predictive mean almost perfectly tracks the data."
   ]
  },
  {
   "cell_type": "code",
   "execution_count": null,
   "metadata": {},
   "outputs": [],
   "source": [
    "az.plot_ppc(trace)"
   ]
  },
  {
   "cell_type": "markdown",
   "metadata": {},
   "source": [
    "## Authors\n",
    "- Authored by @maedoc in July 2016\n",
    "- Updated to PyMC v5 by @fonnesbeck in September 2024"
   ]
  },
  {
   "cell_type": "markdown",
   "metadata": {},
   "source": [
    "## References\n",
    ":::{bibliography}\n",
    ":filter: docname in docnames\n",
    ":::\n"
   ]
  },
  {
   "cell_type": "code",
   "execution_count": null,
   "metadata": {},
   "outputs": [],
   "source": [
    "%load_ext watermark\n",
    "%watermark -n -u -v -iv -w"
   ]
  }
 ],
 "metadata": {
  "anaconda-cloud": {},
  "kernelspec": {
   "display_name": "Python 3",
   "language": "python",
   "name": "python3"
  },
  "language_info": {
   "codemirror_mode": {
    "name": "ipython",
    "version": 3
   },
   "file_extension": ".py",
   "mimetype": "text/x-python",
   "name": "python",
   "nbconvert_exporter": "python",
   "pygments_lexer": "ipython3",
   "version": "3.12.5"
  },
  "latex_envs": {
   "bibliofile": "biblio.bib",
   "cite_by": "apalike",
   "current_citInitial": 1,
   "eqLabelWithNumbers": true,
   "eqNumInitial": 0
  },
  "nbpresent": {
   "slides": {
    "0a6d4650-9ddf-40da-87b0-45cea3110cba": {
     "id": "0a6d4650-9ddf-40da-87b0-45cea3110cba",
     "prev": "72e6a6f9-1f9d-4e3b-9fc7-6ee54d9dfc2c",
     "regions": {
      "dfa0938b-2dea-4cab-a4f8-9a52b333b0f9": {
       "attrs": {
        "height": 0.8,
        "width": 0.8,
        "x": 0.1,
        "y": 0.1
       },
       "content": {
        "cell": "c2284280-862e-4f38-b16a-3d5b9658b0d7",
        "part": "whole"
       },
       "id": "dfa0938b-2dea-4cab-a4f8-9a52b333b0f9"
      }
     }
    },
    "17f1669e-c985-48c2-ad36-495106f2d7b9": {
     "id": "17f1669e-c985-48c2-ad36-495106f2d7b9",
     "prev": "0a6d4650-9ddf-40da-87b0-45cea3110cba",
     "regions": {
      "c219aa5f-2a31-42e2-b2c2-d57a1946062c": {
       "attrs": {
        "height": 0.8,
        "width": 0.8,
        "x": 0.1,
        "y": 0.1
       },
       "content": {
        "cell": "adb4aa19-0304-4874-b234-cbf63a94aae3",
        "part": "whole"
       },
       "id": "c219aa5f-2a31-42e2-b2c2-d57a1946062c"
      }
     }
    },
    "1a980e03-b74a-4024-b5ac-5feb89a310c6": {
     "id": "1a980e03-b74a-4024-b5ac-5feb89a310c6",
     "prev": null,
     "regions": {
      "efae4482-f2d4-421d-a9de-81a6b5ef4651": {
       "attrs": {
        "height": 0.8,
        "width": 0.8,
        "x": 0.1,
        "y": 0.1
       },
       "content": {
        "cell": "361820c2-534d-4172-8942-29cb82fb0b3e",
        "part": "whole"
       },
       "id": "efae4482-f2d4-421d-a9de-81a6b5ef4651"
      }
     }
    },
    "1e34cf2c-2bf9-4ecb-8d8d-652f363192fd": {
     "id": "1e34cf2c-2bf9-4ecb-8d8d-652f363192fd",
     "prev": "3f6c273c-e8ed-4ae2-85cf-df3d1e9ba931",
     "regions": {
      "bd98e0a8-4acb-4e2d-b542-61973d589c8a": {
       "attrs": {
        "height": 0.8,
        "width": 0.8,
        "x": 0.1,
        "y": 0.1
       },
       "content": {
        "cell": "925f1829-24cb-4c28-9b6b-7e9c9e86f2fd",
        "part": "whole"
       },
       "id": "bd98e0a8-4acb-4e2d-b542-61973d589c8a"
      }
     }
    },
    "2ecd028a-20f6-4ad1-863c-c95a2dcfc346": {
     "id": "2ecd028a-20f6-4ad1-863c-c95a2dcfc346",
     "prev": "67f23246-f3e1-467c-93a0-5c0f31b1c2e2",
     "regions": {
      "54382913-a4f3-4500-b7db-fc9a0f73c287": {
       "attrs": {
        "height": 0.8,
        "width": 0.8,
        "x": 0.1,
        "y": 0.1
       },
       "content": {
        "cell": "4f90230d-f303-4b3b-a69e-304a632c6407",
        "part": "whole"
       },
       "id": "54382913-a4f3-4500-b7db-fc9a0f73c287"
      }
     }
    },
    "352011f7-09bf-42cf-8616-918672e0a1ac": {
     "id": "352011f7-09bf-42cf-8616-918672e0a1ac",
     "prev": "764eb6c4-0aa8-4712-b18a-2643d13ac5a2",
     "regions": {
      "2a092d57-3dfe-4a15-904d-4366b057c4dd": {
       "attrs": {
        "height": 0.8,
        "width": 0.8,
        "x": 0.1,
        "y": 0.1
       },
       "content": {
        "cell": "d1393ee1-0d55-4ad1-967c-0bef02a7153e",
        "part": "whole"
       },
       "id": "2a092d57-3dfe-4a15-904d-4366b057c4dd"
      }
     }
    },
    "3f6c273c-e8ed-4ae2-85cf-df3d1e9ba931": {
     "id": "3f6c273c-e8ed-4ae2-85cf-df3d1e9ba931",
     "prev": "2ecd028a-20f6-4ad1-863c-c95a2dcfc346",
     "regions": {
      "10ce5d5e-2152-410b-9e89-8182ba011593": {
       "attrs": {
        "height": 0.8,
        "width": 0.8,
        "x": 0.1,
        "y": 0.1
       },
       "content": {
        "cell": "287d10b5-0193-4ffe-92a7-362993c4b72e",
        "part": "whole"
       },
       "id": "10ce5d5e-2152-410b-9e89-8182ba011593"
      }
     }
    },
    "4819e0b3-b1c3-4ae9-b185-ddb64c0668fb": {
     "id": "4819e0b3-b1c3-4ae9-b185-ddb64c0668fb",
     "prev": "661d658c-6aec-491b-a30a-924577c32eb6",
     "regions": {
      "fdbb8f3a-0cbc-4fb0-ab68-58d775ced05d": {
       "attrs": {
        "height": 0.8,
        "width": 0.8,
        "x": 0.1,
        "y": 0.1
       },
       "content": {
        "cell": "2f06c281-161a-443b-b590-d26bd44dc5af",
        "part": "whole"
       },
       "id": "fdbb8f3a-0cbc-4fb0-ab68-58d775ced05d"
      }
     }
    },
    "5706a009-ae3c-4be6-8a86-28b0401b6e67": {
     "id": "5706a009-ae3c-4be6-8a86-28b0401b6e67",
     "prev": "17f1669e-c985-48c2-ad36-495106f2d7b9",
     "regions": {
      "d986be5d-2aaf-444a-8e4a-94853fd50494": {
       "attrs": {
        "height": 0.8,
        "width": 0.8,
        "x": 0.1,
        "y": 0.1
       },
       "content": {
        "cell": "190a7112-fe88-49ed-a1aa-49da33c81001",
        "part": "whole"
       },
       "id": "d986be5d-2aaf-444a-8e4a-94853fd50494"
      }
     }
    },
    "661d658c-6aec-491b-a30a-924577c32eb6": {
     "id": "661d658c-6aec-491b-a30a-924577c32eb6",
     "prev": "5706a009-ae3c-4be6-8a86-28b0401b6e67",
     "regions": {
      "fb809109-7a01-40f0-8a77-438bcb510f85": {
       "attrs": {
        "height": 0.8,
        "width": 0.8,
        "x": 0.1,
        "y": 0.1
       },
       "content": {
        "cell": "c7c46f27-4f5d-4196-acad-cb71c69f8e5a",
        "part": "whole"
       },
       "id": "fb809109-7a01-40f0-8a77-438bcb510f85"
      }
     }
    },
    "67a93b6e-60b9-457f-ac1a-26d8f4634d80": {
     "id": "67a93b6e-60b9-457f-ac1a-26d8f4634d80",
     "prev": "f8ebeb57-0dc1-432d-9a6f-ac218c679d8d",
     "regions": {
      "23d09d0d-b133-4368-bb87-d40f3af5dd7e": {
       "attrs": {
        "height": 0.8,
        "width": 0.8,
        "x": 0.1,
        "y": 0.1
       },
       "content": {
        "cell": "61519b4c-8496-4329-936f-f10f2231a539",
        "part": "whole"
       },
       "id": "23d09d0d-b133-4368-bb87-d40f3af5dd7e"
      }
     }
    },
    "67f23246-f3e1-467c-93a0-5c0f31b1c2e2": {
     "id": "67f23246-f3e1-467c-93a0-5c0f31b1c2e2",
     "prev": "67a93b6e-60b9-457f-ac1a-26d8f4634d80",
     "regions": {
      "578e7b02-bf72-4c3e-8bb0-8bfb42bf427c": {
       "attrs": {
        "height": 0.8,
        "width": 0.8,
        "x": 0.1,
        "y": 0.1
       },
       "content": {
        "cell": "1774c588-ad09-4db1-8154-427a26299f41",
        "part": "whole"
       },
       "id": "578e7b02-bf72-4c3e-8bb0-8bfb42bf427c"
      }
     }
    },
    "72e6a6f9-1f9d-4e3b-9fc7-6ee54d9dfc2c": {
     "id": "72e6a6f9-1f9d-4e3b-9fc7-6ee54d9dfc2c",
     "prev": "352011f7-09bf-42cf-8616-918672e0a1ac",
     "regions": {
      "30fc21bc-adcb-462f-aafb-6b1fcc09857c": {
       "attrs": {
        "height": 0.8,
        "width": 0.8,
        "x": 0.1,
        "y": 0.1
       },
       "content": {
        "cell": "48fc344b-5f59-4e92-8bd4-31c6599cd015",
        "part": "whole"
       },
       "id": "30fc21bc-adcb-462f-aafb-6b1fcc09857c"
      }
     }
    },
    "764eb6c4-0aa8-4712-b18a-2643d13ac5a2": {
     "id": "764eb6c4-0aa8-4712-b18a-2643d13ac5a2",
     "prev": "99031be1-f450-4c46-92e0-93606e0f3db2",
     "regions": {
      "204d88b9-23a9-46be-a548-aeaf9d0f0c59": {
       "attrs": {
        "height": 0.8,
        "width": 0.8,
        "x": 0.1,
        "y": 0.1
       },
       "content": {
        "cell": "e098d242-3381-4ff9-aba1-1d5324299936",
        "part": "whole"
       },
       "id": "204d88b9-23a9-46be-a548-aeaf9d0f0c59"
      }
     }
    },
    "78c22642-ae05-41b3-bcb0-3dc97d91084f": {
     "id": "78c22642-ae05-41b3-bcb0-3dc97d91084f",
     "prev": "4819e0b3-b1c3-4ae9-b185-ddb64c0668fb",
     "regions": {
      "53dea2ee-e572-4183-a0e3-0b6731f48322": {
       "attrs": {
        "height": 0.8,
        "width": 0.8,
        "x": 0.1,
        "y": 0.1
       },
       "content": {
        "cell": "37f96998-2bd3-4e41-8543-21317483905f",
        "part": "whole"
       },
       "id": "53dea2ee-e572-4183-a0e3-0b6731f48322"
      }
     }
    },
    "99031be1-f450-4c46-92e0-93606e0f3db2": {
     "id": "99031be1-f450-4c46-92e0-93606e0f3db2",
     "prev": "1e34cf2c-2bf9-4ecb-8d8d-652f363192fd",
     "regions": {
      "d03f0c18-0b17-40c7-a2cd-1aae736dedea": {
       "attrs": {
        "height": 0.8,
        "width": 0.8,
        "x": 0.1,
        "y": 0.1
       },
       "content": {
        "cell": "3507d647-3a87-445e-9789-b45e2152f944",
        "part": "whole"
       },
       "id": "d03f0c18-0b17-40c7-a2cd-1aae736dedea"
      }
     }
    },
    "d9cdce76-1d17-4c47-8ea4-d12202c7d97e": {
     "id": "d9cdce76-1d17-4c47-8ea4-d12202c7d97e",
     "layout": "grid",
     "prev": "1a980e03-b74a-4024-b5ac-5feb89a310c6",
     "regions": {
      "06a282f4-047c-4b27-8444-cb79faac65af": {
       "attrs": {
        "height": 1,
        "pad": 0.01,
        "treemap:weight": 1,
        "width": 1,
        "x": 0,
        "y": -0.08333333333333333
       },
       "content": {
        "cell": "2325c7f9-37bd-4a65-aade-86bee1bff5e3",
        "part": "whole"
       },
       "id": "06a282f4-047c-4b27-8444-cb79faac65af"
      }
     }
    },
    "f8ebeb57-0dc1-432d-9a6f-ac218c679d8d": {
     "id": "f8ebeb57-0dc1-432d-9a6f-ac218c679d8d",
     "prev": "d9cdce76-1d17-4c47-8ea4-d12202c7d97e",
     "regions": {
      "0ebbbd6d-553c-492d-aa76-7420e9d7225b": {
       "attrs": {
        "height": 0.8,
        "width": 0.8,
        "x": 0.1,
        "y": 0.1
       },
       "content": {
        "cell": "0994bfef-45dc-48da-b6bf-c7b38d62bf11",
        "part": "whole"
       },
       "id": "0ebbbd6d-553c-492d-aa76-7420e9d7225b"
      }
     }
    }
   },
   "themes": {
    "default": "a0e2309d-357f-455a-a08c-719230f4baf5",
    "theme": {
     "3754c09f-6b1b-41cd-8348-89426f68fc2f": {
      "id": "3754c09f-6b1b-41cd-8348-89426f68fc2f",
      "palette": {
       "19cc588f-0593-49c9-9f4b-e4d7cc113b1c": {
        "id": "19cc588f-0593-49c9-9f4b-e4d7cc113b1c",
        "rgb": [
         252,
         252,
         252
        ]
       },
       "31af15d2-7e15-44c5-ab5e-e04b16a89eff": {
        "id": "31af15d2-7e15-44c5-ab5e-e04b16a89eff",
        "rgb": [
         68,
         68,
         68
        ]
       },
       "50f92c45-a630-455b-aec3-788680ec7410": {
        "id": "50f92c45-a630-455b-aec3-788680ec7410",
        "rgb": [
         155,
         177,
         192
        ]
       },
       "c5cc3653-2ee1-402a-aba2-7caae1da4f6c": {
        "id": "c5cc3653-2ee1-402a-aba2-7caae1da4f6c",
        "rgb": [
         43,
         126,
         184
        ]
       },
       "efa7f048-9acb-414c-8b04-a26811511a21": {
        "id": "efa7f048-9acb-414c-8b04-a26811511a21",
        "rgb": [
         25.118061674008803,
         73.60176211453744,
         107.4819383259912
        ]
       }
      },
      "rules": {
       "blockquote": {
        "color": "50f92c45-a630-455b-aec3-788680ec7410"
       },
       "code": {
        "font-family": "Anonymous Pro"
       },
       "h1": {
        "color": "c5cc3653-2ee1-402a-aba2-7caae1da4f6c",
        "font-family": "Lato",
        "font-size": 8
       },
       "h2": {
        "color": "c5cc3653-2ee1-402a-aba2-7caae1da4f6c",
        "font-family": "Lato",
        "font-size": 6
       },
       "h3": {
        "color": "50f92c45-a630-455b-aec3-788680ec7410",
        "font-family": "Lato",
        "font-size": 5.5
       },
       "h4": {
        "color": "c5cc3653-2ee1-402a-aba2-7caae1da4f6c",
        "font-family": "Lato",
        "font-size": 5
       },
       "h5": {
        "font-family": "Lato"
       },
       "h6": {
        "font-family": "Lato"
       },
       "h7": {
        "font-family": "Lato"
       },
       "pre": {
        "font-family": "Anonymous Pro",
        "font-size": 4
       }
      },
      "text-base": {
       "font-family": "Merriweather",
       "font-size": 4
      }
     },
     "3e7ab812-9577-4728-a446-fdfd9e3d04ae": {
      "backgrounds": {
       "dc7afa04-bf90-40b1-82a5-726e3cff5267": {
        "background-color": "31af15d2-7e15-44c5-ab5e-e04b16a89eff",
        "id": "dc7afa04-bf90-40b1-82a5-726e3cff5267"
       }
      },
      "id": "3e7ab812-9577-4728-a446-fdfd9e3d04ae",
      "palette": {
       "19cc588f-0593-49c9-9f4b-e4d7cc113b1c": {
        "id": "19cc588f-0593-49c9-9f4b-e4d7cc113b1c",
        "rgb": [
         252,
         252,
         252
        ]
       },
       "31af15d2-7e15-44c5-ab5e-e04b16a89eff": {
        "id": "31af15d2-7e15-44c5-ab5e-e04b16a89eff",
        "rgb": [
         68,
         68,
         68
        ]
       },
       "50f92c45-a630-455b-aec3-788680ec7410": {
        "id": "50f92c45-a630-455b-aec3-788680ec7410",
        "rgb": [
         197,
         226,
         245
        ]
       },
       "c5cc3653-2ee1-402a-aba2-7caae1da4f6c": {
        "id": "c5cc3653-2ee1-402a-aba2-7caae1da4f6c",
        "rgb": [
         43,
         126,
         184
        ]
       },
       "efa7f048-9acb-414c-8b04-a26811511a21": {
        "id": "efa7f048-9acb-414c-8b04-a26811511a21",
        "rgb": [
         25.118061674008803,
         73.60176211453744,
         107.4819383259912
        ]
       }
      },
      "rules": {
       "a": {
        "color": "19cc588f-0593-49c9-9f4b-e4d7cc113b1c"
       },
       "blockquote": {
        "color": "50f92c45-a630-455b-aec3-788680ec7410",
        "font-size": 3
       },
       "code": {
        "font-family": "Anonymous Pro"
       },
       "h1": {
        "color": "19cc588f-0593-49c9-9f4b-e4d7cc113b1c",
        "font-family": "Merriweather",
        "font-size": 8
       },
       "h2": {
        "color": "19cc588f-0593-49c9-9f4b-e4d7cc113b1c",
        "font-family": "Merriweather",
        "font-size": 6
       },
       "h3": {
        "color": "50f92c45-a630-455b-aec3-788680ec7410",
        "font-family": "Lato",
        "font-size": 5.5
       },
       "h4": {
        "color": "c5cc3653-2ee1-402a-aba2-7caae1da4f6c",
        "font-family": "Lato",
        "font-size": 5
       },
       "h5": {
        "font-family": "Lato"
       },
       "h6": {
        "font-family": "Lato"
       },
       "h7": {
        "font-family": "Lato"
       },
       "li": {
        "color": "50f92c45-a630-455b-aec3-788680ec7410",
        "font-size": 3.25
       },
       "pre": {
        "font-family": "Anonymous Pro",
        "font-size": 4
       }
      },
      "text-base": {
       "color": "19cc588f-0593-49c9-9f4b-e4d7cc113b1c",
       "font-family": "Lato",
       "font-size": 4
      }
     },
     "7da35099-107a-4bb3-912c-3530ffd5bcdc": {
      "id": "7da35099-107a-4bb3-912c-3530ffd5bcdc",
      "palette": {
       "19cc588f-0593-49c9-9f4b-e4d7cc113b1c": {
        "id": "19cc588f-0593-49c9-9f4b-e4d7cc113b1c",
        "rgb": [
         252,
         252,
         252
        ]
       },
       "31af15d2-7e15-44c5-ab5e-e04b16a89eff": {
        "id": "31af15d2-7e15-44c5-ab5e-e04b16a89eff",
        "rgb": [
         68,
         68,
         68
        ]
       },
       "50f92c45-a630-455b-aec3-788680ec7410": {
        "id": "50f92c45-a630-455b-aec3-788680ec7410",
        "rgb": [
         155,
         177,
         192
        ]
       },
       "c5cc3653-2ee1-402a-aba2-7caae1da4f6c": {
        "id": "c5cc3653-2ee1-402a-aba2-7caae1da4f6c",
        "rgb": [
         43,
         126,
         184
        ]
       },
       "efa7f048-9acb-414c-8b04-a26811511a21": {
        "id": "efa7f048-9acb-414c-8b04-a26811511a21",
        "rgb": [
         25.118061674008803,
         73.60176211453744,
         107.4819383259912
        ]
       }
      },
      "rules": {
       "blockquote": {
        "color": "50f92c45-a630-455b-aec3-788680ec7410"
       },
       "code": {
        "font-family": "Anonymous Pro"
       },
       "h1": {
        "color": "c5cc3653-2ee1-402a-aba2-7caae1da4f6c",
        "font-family": "Lato",
        "font-size": 8
       },
       "h2": {
        "color": "c5cc3653-2ee1-402a-aba2-7caae1da4f6c",
        "font-family": "Lato",
        "font-size": 6
       },
       "h3": {
        "color": "50f92c45-a630-455b-aec3-788680ec7410",
        "font-family": "Lato",
        "font-size": 5.5
       },
       "h4": {
        "color": "c5cc3653-2ee1-402a-aba2-7caae1da4f6c",
        "font-family": "Lato",
        "font-size": 5
       },
       "h5": {
        "font-family": "Lato"
       },
       "h6": {
        "font-family": "Lato"
       },
       "h7": {
        "font-family": "Lato"
       },
       "pre": {
        "font-family": "Anonymous Pro",
        "font-size": 4
       }
      },
      "text-base": {
       "font-family": "Merriweather",
       "font-size": 4
      }
     },
     "86554a33-aae2-4459-b641-4b46438f3ce2": {
      "id": "86554a33-aae2-4459-b641-4b46438f3ce2",
      "palette": {
       "19cc588f-0593-49c9-9f4b-e4d7cc113b1c": {
        "id": "19cc588f-0593-49c9-9f4b-e4d7cc113b1c",
        "rgb": [
         252,
         252,
         252
        ]
       },
       "31af15d2-7e15-44c5-ab5e-e04b16a89eff": {
        "id": "31af15d2-7e15-44c5-ab5e-e04b16a89eff",
        "rgb": [
         68,
         68,
         68
        ]
       },
       "50f92c45-a630-455b-aec3-788680ec7410": {
        "id": "50f92c45-a630-455b-aec3-788680ec7410",
        "rgb": [
         155,
         177,
         192
        ]
       },
       "c5cc3653-2ee1-402a-aba2-7caae1da4f6c": {
        "id": "c5cc3653-2ee1-402a-aba2-7caae1da4f6c",
        "rgb": [
         43,
         126,
         184
        ]
       },
       "efa7f048-9acb-414c-8b04-a26811511a21": {
        "id": "efa7f048-9acb-414c-8b04-a26811511a21",
        "rgb": [
         25.118061674008803,
         73.60176211453744,
         107.4819383259912
        ]
       }
      },
      "rules": {
       "blockquote": {
        "color": "50f92c45-a630-455b-aec3-788680ec7410"
       },
       "code": {
        "font-family": "Anonymous Pro"
       },
       "h1": {
        "color": "c5cc3653-2ee1-402a-aba2-7caae1da4f6c",
        "font-family": "Lato",
        "font-size": 8
       },
       "h2": {
        "color": "c5cc3653-2ee1-402a-aba2-7caae1da4f6c",
        "font-family": "Lato",
        "font-size": 6
       },
       "h3": {
        "color": "50f92c45-a630-455b-aec3-788680ec7410",
        "font-family": "Lato",
        "font-size": 5.5
       },
       "h4": {
        "color": "c5cc3653-2ee1-402a-aba2-7caae1da4f6c",
        "font-family": "Lato",
        "font-size": 5
       },
       "h5": {
        "font-family": "Lato"
       },
       "h6": {
        "font-family": "Lato"
       },
       "h7": {
        "font-family": "Lato"
       },
       "pre": {
        "font-family": "Anonymous Pro",
        "font-size": 4
       }
      },
      "text-base": {
       "font-family": "Merriweather",
       "font-size": 4
      }
     },
     "a0e2309d-357f-455a-a08c-719230f4baf5": {
      "id": "a0e2309d-357f-455a-a08c-719230f4baf5",
      "palette": {
       "19cc588f-0593-49c9-9f4b-e4d7cc113b1c": {
        "id": "19cc588f-0593-49c9-9f4b-e4d7cc113b1c",
        "rgb": [
         252,
         252,
         252
        ]
       },
       "31af15d2-7e15-44c5-ab5e-e04b16a89eff": {
        "id": "31af15d2-7e15-44c5-ab5e-e04b16a89eff",
        "rgb": [
         68,
         68,
         68
        ]
       },
       "50f92c45-a630-455b-aec3-788680ec7410": {
        "id": "50f92c45-a630-455b-aec3-788680ec7410",
        "rgb": [
         155,
         177,
         192
        ]
       },
       "c5cc3653-2ee1-402a-aba2-7caae1da4f6c": {
        "id": "c5cc3653-2ee1-402a-aba2-7caae1da4f6c",
        "rgb": [
         43,
         126,
         184
        ]
       },
       "efa7f048-9acb-414c-8b04-a26811511a21": {
        "id": "efa7f048-9acb-414c-8b04-a26811511a21",
        "rgb": [
         25.118061674008803,
         73.60176211453744,
         107.4819383259912
        ]
       }
      },
      "rules": {
       "blockquote": {
        "color": "50f92c45-a630-455b-aec3-788680ec7410"
       },
       "code": {
        "font-family": "Anonymous Pro"
       },
       "h1": {
        "color": "c5cc3653-2ee1-402a-aba2-7caae1da4f6c",
        "font-family": "Lato",
        "font-size": 8
       },
       "h2": {
        "color": "c5cc3653-2ee1-402a-aba2-7caae1da4f6c",
        "font-family": "Lato",
        "font-size": 6
       },
       "h3": {
        "color": "50f92c45-a630-455b-aec3-788680ec7410",
        "font-family": "Lato",
        "font-size": 5.5
       },
       "h4": {
        "color": "c5cc3653-2ee1-402a-aba2-7caae1da4f6c",
        "font-family": "Lato",
        "font-size": 5
       },
       "h5": {
        "font-family": "Lato"
       },
       "h6": {
        "font-family": "Lato"
       },
       "h7": {
        "font-family": "Lato"
       },
       "pre": {
        "font-family": "Anonymous Pro",
        "font-size": 4
       }
      },
      "text-base": {
       "font-family": "Merriweather",
       "font-size": 4
      }
     }
    }
   }
  }
 },
 "nbformat": 4,
 "nbformat_minor": 4
}
