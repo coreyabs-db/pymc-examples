{
 "cells": [
  {
   "cell_type": "markdown",
   "metadata": {
    "tags": []
   },
   "source": [
    "(conditional_autoregressive_priors)=\n",
    "# Conditional Autoregressive (CAR) Models for Spatial Data\n",
    "\n",
    ":::{post} Jul 29, 2022 \n",
    ":tags: spatial, autoregressive, count data\n",
    ":category: beginner, tutorial\n",
    ":author: Conor Hassan, Daniel Saunders\n",
    ":::"
   ]
  },
  {
   "cell_type": "code",
   "execution_count": null,
   "metadata": {},
   "outputs": [],
   "source": [
    "import os\n",
    "\n",
    "import arviz as az\n",
    "import matplotlib.pyplot as plt\n",
    "import numpy as np\n",
    "import pandas as pd\n",
    "import pymc as pm\n",
    "import pytensor.tensor as pt"
   ]
  },
  {
   "cell_type": "markdown",
   "metadata": {},
   "source": [
    ":::{include} ../extra_installs.md\n",
    ":::"
   ]
  },
  {
   "cell_type": "code",
   "execution_count": null,
   "metadata": {},
   "outputs": [],
   "source": [
    "# THESE ARE THE LIBRARIES THAT ARE NOT DEPENDENCIES ON PYMC\n",
    "import libpysal\n",
    "\n",
    "from geopandas import read_file"
   ]
  },
  {
   "cell_type": "code",
   "execution_count": null,
   "metadata": {},
   "outputs": [],
   "source": [
    "RANDOM_SEED = 8927\n",
    "rng = np.random.default_rng(RANDOM_SEED)\n",
    "az.style.use(\"arviz-darkgrid\")"
   ]
  },
  {
   "cell_type": "markdown",
   "metadata": {},
   "source": [
    "# Conditional Autoregressive (CAR) model\n",
    "\n",
    "A *conditional autoregressive CAR prior* on a set of random effects $\\{\\phi_i\\}_{i=1}^N$ models the random effect $\\phi_i$ as having a mean, that is the weighted average the random effects of observation $i$'s adjacent neighbours. Mathematically, this can be expressed as \n",
    "\n",
    "$$\\phi_i \\big | \\mathbf{\\phi}_{j\\sim i} \\sim \\text{Normal} \\bigg( \\alpha \\frac{ \\sum_{j=1}^{n_i}w_{ij} \\phi_j}{n_i}, \\sigma_{i}^2\\bigg)$$\n",
    "\n",
    "where ${j \\sim i}$ indicates the set of adjacent neighbours to observation $i$, $n_i$ denotes the number of adjacent neighbours that observation $i$ has, $w_{ij}$ is the weighting of the spatial relationship between observation $i$ and $j$. If $i$ and $j$ are not adjacent, then $w_{ij}=0$. Lastly, $\\sigma_i^2$ is a spatially varying variance parameter for each area. Note that information such as an adjacency matrix, indicating the neighbour relationships, and a weight matrix $\\textbf{w}$, indicating the weights of the spatial relationships, is required as input data. The parameters that we infer are $\\{\\phi\\}_{i=1}^N, \\{\\sigma_i\\}_{i=1}^N$, and $\\alpha$. \n",
    "\n",
    "## Model specification \n",
    "\n",
    "Here we will demonstrate the implementation of a CAR model using a canonical example: the lip cancer risk data in Scotland between 1975 and 1980. The original data is from [1]. This dataset includes observed lip cancer case counts $\\{y_i\\}_{i=1}^N$ at $N=56$ spatial units in Scotland, with the expected number of cases $\\{E_i\\}_{i=1}^N$ as an offset term, an intercept parameter, and and a parameter for an area-specific continuous variable for the proportion of the population employed in agriculture, fishing, or forestry, denoted by $\\{x_i\\}_{i=1}^N$. We want to model how the lip cancer rates relate to the distribution of employment among industries, as exposure to sunlight is a risk factor. Mathematically, the model is \n",
    "\\begin{align*} \n",
    "y_i &\\sim \\text{Poisson}\\big (\\lambda_i),\\\\\n",
    "\\log \\lambda_i &= \\beta_0+\\beta_1x_i + \\phi_i + \\log E_i,\\\\\n",
    "\\phi_i \\big | \\mathbf{\\phi}_{j\\sim i}&\\sim\\text{Normal}\\big(\\alpha\\sum_{j=1}^{n_i}w_{ij}\\phi_j, \\sigma_{i}^2\\big ), \\\\\n",
    "\\beta_0, \\beta_1 &\\sim \\text{Normal}\\big (0, a\\big ),\n",
    "\\end{align*}\n",
    "where $a$ is the some chosen hyperparameter for the variance of the prior distribution of the regression coefficients. \n",
    "\n",
    "## Preparing the data \n",
    "\n",
    "We need to load in the dataset to access the variables $\\{y_i, x_i, E_i\\}_{i=1}^N$. But more unique to the use of CAR models, is the creation of the necessary spatial adjacency matrix. For the models that we fit, all neighbours are weighted as $1$, circumventing the need for a weight matrix."
   ]
  },
  {
   "cell_type": "code",
   "execution_count": null,
   "metadata": {},
   "outputs": [],
   "source": [
    "try:\n",
    "    df_scot_cancer = pd.read_csv(os.path.join(\"..\", \"data\", \"scotland_lips_cancer.csv\"))\n",
    "except FileNotFoundError:\n",
    "    df_scot_cancer = pd.read_csv(pm.get_data(\"scotland_lips_cancer.csv\"))"
   ]
  },
  {
   "cell_type": "code",
   "execution_count": null,
   "metadata": {
    "tags": []
   },
   "outputs": [],
   "source": [
    "df_scot_cancer.head()"
   ]
  },
  {
   "cell_type": "code",
   "execution_count": null,
   "metadata": {},
   "outputs": [],
   "source": [
    "# observed cancer counts\n",
    "y = df_scot_cancer[\"CANCER\"].values\n",
    "\n",
    "# number of observations\n",
    "N = len(y)\n",
    "\n",
    "# expected cancer counts E for each county: this is calculated using age-standardized rates of the local population\n",
    "E = df_scot_cancer[\"CEXP\"].values\n",
    "logE = np.log(E)"
   ]
  },
  {
   "cell_type": "code",
   "execution_count": null,
   "metadata": {},
   "outputs": [],
   "source": [
    "# proportion of the population engaged in agriculture, forestry, or fishing\n",
    "x = df_scot_cancer[\"AFF\"].values / 10.0"
   ]
  },
  {
   "cell_type": "markdown",
   "metadata": {},
   "source": [
    "Below are the steps that we take to create the necessary adjacency matrix, where the entry $i,j$ of the matrix is $1$ if observations $i$ and $j$ are considered neighbours, and $0$ otherwise."
   ]
  },
  {
   "cell_type": "code",
   "execution_count": null,
   "metadata": {},
   "outputs": [],
   "source": [
    "# spatial adjacency information: column `ADJ` contains list entries which are preprocessed to obtain adj as a list of lists\n",
    "adj = (\n",
    "    df_scot_cancer[\"ADJ\"].apply(lambda x: [int(val) for val in x.strip(\"][\").split(\",\")]).to_list()\n",
    ")"
   ]
  },
  {
   "cell_type": "code",
   "execution_count": null,
   "metadata": {},
   "outputs": [],
   "source": [
    "# change to Python indexing (i.e. -1)\n",
    "for i in range(len(adj)):\n",
    "    for j in range(len(adj[i])):\n",
    "        adj[i][j] = adj[i][j] - 1"
   ]
  },
  {
   "cell_type": "code",
   "execution_count": null,
   "metadata": {},
   "outputs": [],
   "source": [
    "# storing the adjacency matrix as a two-dimensional np.array\n",
    "adj_matrix = np.zeros((N, N), dtype=\"int32\")\n",
    "\n",
    "for area in range(N):\n",
    "    adj_matrix[area, adj[area]] = 1"
   ]
  },
  {
   "cell_type": "markdown",
   "metadata": {},
   "source": [
    "## Visualizing the data \n",
    "\n",
    "An important aspect of modelling spatial data is the ability to effectively visualize the spatial nature of the data, and whether the model that you have chosen captures this spatial dependency. \n",
    "\n",
    "We load in an alternate version of the *Scottish lip cancer* dataset, from the `libpysal` package, to use for plotting."
   ]
  },
  {
   "cell_type": "code",
   "execution_count": null,
   "metadata": {},
   "outputs": [],
   "source": [
    "_ = libpysal.examples.load_example(\"Scotlip\")\n",
    "pth = libpysal.examples.get_path(\"scotlip.shp\")\n",
    "spat_df = read_file(pth)\n",
    "spat_df[\"PROP\"] = spat_df[\"CANCER\"] / np.exp(spat_df[\"CEXP\"])\n",
    "spat_df.head()"
   ]
  },
  {
   "cell_type": "markdown",
   "metadata": {},
   "source": [
    "We initially plot the observed number of cancer counts over the expected number of cancer counts for each area. The spatial dependency that we observe in this plot indicates that we may need to consider a spatial model for the data."
   ]
  },
  {
   "cell_type": "code",
   "execution_count": null,
   "metadata": {},
   "outputs": [],
   "source": [
    "scotland_map = spat_df.plot(\n",
    "    column=\"PROP\",\n",
    "    scheme=\"QUANTILES\",\n",
    "    k=4,\n",
    "    cmap=\"BuPu\",\n",
    "    legend=True,\n",
    "    legend_kwds={\"loc\": \"center left\", \"bbox_to_anchor\": (1, 0.5)},\n",
    ")"
   ]
  },
  {
   "cell_type": "markdown",
   "metadata": {},
   "source": [
    "## Writing some models in **PyMC**"
   ]
  },
  {
   "cell_type": "markdown",
   "metadata": {},
   "source": [
    "### Our first model: an *independent* random effects model\n",
    "We begin by fitting an independent random effect's model. We are not modelling any *spatial dependency* between the areas. This model is equivalent to a Poisson regression model with a normal random effect, and mathematically looks like\n",
    "\\begin{align*} \n",
    "y_i &\\sim \\text{Poisson}\\big (\\lambda_i),\\\\\n",
    "\\log \\lambda_i &= \\beta_0+\\beta_1x_i + \\theta_i + \\log E_i,\\\\\n",
    "\\theta_i &\\sim\\text{Normal}\\big(\\mu=0, \\tau=\\tau_{\\text{ind}}\\big ), \\\\\n",
    "\\beta_0, \\beta_1 &\\sim \\text{Normal}\\big (\\mu=0, \\tau = 1e^{-5}\\big ), \\\\\n",
    "\\tau_{\\text{ind}} &\\sim \\text{Gamma}\\big (\\alpha=3.2761, \\beta=1.81\\big),\n",
    "\\end{align*} \n",
    "where $\\tau_\\text{ind}$ is an unknown parameter for the precision of the independent random effects. The values for the $\\text{Gamma}$ prior are chosen specific to our second model and thus we will delay explaining our choice until then."
   ]
  },
  {
   "cell_type": "code",
   "execution_count": null,
   "metadata": {},
   "outputs": [],
   "source": [
    "with pm.Model(coords={\"area_idx\": np.arange(N)}) as independent_model:\n",
    "    beta0 = pm.Normal(\"beta0\", mu=0.0, tau=1.0e-5)\n",
    "    beta1 = pm.Normal(\"beta1\", mu=0.0, tau=1.0e-5)\n",
    "    # variance parameter of the independent random effect\n",
    "    tau_ind = pm.Gamma(\"tau_ind\", alpha=3.2761, beta=1.81)\n",
    "\n",
    "    # independent random effect\n",
    "    theta = pm.Normal(\"theta\", mu=0, tau=tau_ind, dims=\"area_idx\")\n",
    "\n",
    "    # exponential of the linear predictor -> the mean of the likelihood\n",
    "    mu = pm.Deterministic(\"mu\", pt.exp(logE + beta0 + beta1 * x + theta), dims=\"area_idx\")\n",
    "\n",
    "    # likelihood of the observed data\n",
    "    y_i = pm.Poisson(\"y_i\", mu=mu, observed=y, dims=\"area_idx\")\n",
    "\n",
    "    # saving the residual between the observation and the mean response for the area\n",
    "    res = pm.Deterministic(\"res\", y - mu, dims=\"area_idx\")\n",
    "\n",
    "    # sampling the model\n",
    "    independent_idata = pm.sample(2000, tune=2000)"
   ]
  },
  {
   "cell_type": "markdown",
   "metadata": {},
   "source": [
    "We can plot the residuals of this first model."
   ]
  },
  {
   "cell_type": "code",
   "execution_count": null,
   "metadata": {},
   "outputs": [],
   "source": [
    "spat_df[\"INDEPENDENT_RES\"] = independent_idata[\"posterior\"][\"res\"].mean(dim=[\"chain\", \"draw\"])"
   ]
  },
  {
   "cell_type": "code",
   "execution_count": null,
   "metadata": {},
   "outputs": [],
   "source": [
    "independent_map = spat_df.plot(\n",
    "    column=\"INDEPENDENT_RES\",\n",
    "    scheme=\"QUANTILES\",\n",
    "    k=5,\n",
    "    cmap=\"BuPu\",\n",
    "    legend=True,\n",
    "    legend_kwds={\"loc\": \"center left\", \"bbox_to_anchor\": (1, 0.5)},\n",
    ")"
   ]
  },
  {
   "cell_type": "markdown",
   "metadata": {},
   "source": [
    "The mean of the residuals for the areas appear spatially correlated. This leads us to explore the addition of a spatially dependent random effect, by using a **conditional autoregressive (CAR)** prior.\n",
    "\n",
    "### Our second model: a *spatial* random effects model (with fixed spatial dependence)\n",
    "Let us fit a model that has two random effects for each area: an *independent* random effect, and a *spatial* random effect first. This models looks\n",
    "\\begin{align*} \n",
    "y_i &\\sim \\text{Poisson}\\big (\\lambda_i),\\\\\n",
    "\\log \\lambda_i &= \\beta_0+\\beta_1x_i + \\theta_i + \\phi_i + \\log E_i,\\\\\n",
    "\\theta_i &\\sim\\text{Normal}\\big(\\mu=0, \\tau=\\tau_{\\text{ind}}\\big ), \\\\\n",
    "\\phi_i \\big | \\mathbf{\\phi}_{j\\sim i} &\\sim \\text{Normal}\\big(\\mu=\\alpha\\sum_{j=1}^{n_i}\\phi_j, \\tau=\\tau_{\\text{spat}}\\big ),\\\\\n",
    "\\beta_0, \\beta_1 &\\sim \\text{Normal}\\big (\\mu = 0, \\tau = 1e^{-5}\\big), \\\\\n",
    "\\tau_{\\text{ind}} &\\sim \\text{Gamma}\\big (\\alpha=3.2761, \\beta=1.81\\big), \\\\\n",
    "\\tau_{\\text{spat}} &\\sim \\text{Gamma}\\big (\\alpha=1, \\beta=1\\big ),\n",
    "\\end{align*} \n",
    "where the line $\\phi_i \\big | \\mathbf{\\phi}_{j\\sim i} \\sim \\text{Normal}\\big(\\mu=\\alpha\\sum_{j=1}^{n_i}\\phi_j, \\tau=\\tau_{\\text{spat}}\\big )$ denotes the CAR prior, $\\tau_\\text{spat}$ is an unknown parameter for the precision of the spatial random effects, and $\\alpha$ captures the degree of spatial dependence between the areas. In this instance, we fix $\\alpha=0.95$. \n",
    "\n",
    "*Side note:* Here we explain the prior's used for the precision of the two random effect terms. As we have two random effects $\\theta_i$ and $\\phi_i$ for each $i$, they are independently unidentifiable, but the sum $\\theta_i + \\phi_i$ is identifiable. However, by scaling the priors of this precision in this manner, one may be able to interpret the proportion of variance explained by each of the random effects."
   ]
  },
  {
   "cell_type": "code",
   "execution_count": null,
   "metadata": {},
   "outputs": [],
   "source": [
    "with pm.Model(coords={\"area_idx\": np.arange(N)}) as fixed_spatial_model:\n",
    "    beta0 = pm.Normal(\"beta0\", mu=0.0, tau=1.0e-5)\n",
    "    beta1 = pm.Normal(\"beta1\", mu=0.0, tau=1.0e-5)\n",
    "    # variance parameter of the independent random effect\n",
    "    tau_ind = pm.Gamma(\"tau_ind\", alpha=3.2761, beta=1.81)\n",
    "    # variance parameter of the spatially dependent random effects\n",
    "    tau_spat = pm.Gamma(\"tau_spat\", alpha=1.0, beta=1.0)\n",
    "\n",
    "    # area-specific model parameters\n",
    "    # independent random effect\n",
    "    theta = pm.Normal(\"theta\", mu=0, tau=tau_ind, dims=\"area_idx\")\n",
    "    # spatially dependent random effect, alpha fixed\n",
    "    phi = pm.CAR(\"phi\", mu=np.zeros(N), tau=tau_spat, alpha=0.95, W=adj_matrix, dims=\"area_idx\")\n",
    "\n",
    "    # exponential of the linear predictor -> the mean of the likelihood\n",
    "    mu = pm.Deterministic(\"mu\", pt.exp(logE + beta0 + beta1 * x + theta + phi), dims=\"area_idx\")\n",
    "\n",
    "    # likelihood of the observed data\n",
    "    y_i = pm.Poisson(\"y_i\", mu=mu, observed=y, dims=\"area_idx\")\n",
    "\n",
    "    # saving the residual between the observation and the mean response for the area\n",
    "    res = pm.Deterministic(\"res\", y - mu, dims=\"area_idx\")\n",
    "\n",
    "    # sampling the model\n",
    "    fixed_spatial_idata = pm.sample(2000, tune=2000)"
   ]
  },
  {
   "cell_type": "markdown",
   "metadata": {},
   "source": [
    "We can see by plotting the residuals of the second model, by accounting for spatial dependency with the CAR prior, the residuals of the model appear more independent with respect to the spatial location of the observation."
   ]
  },
  {
   "cell_type": "code",
   "execution_count": null,
   "metadata": {},
   "outputs": [],
   "source": [
    "spat_df[\"SPATIAL_RES\"] = fixed_spatial_idata[\"posterior\"][\"res\"].mean(dim=[\"chain\", \"draw\"])"
   ]
  },
  {
   "cell_type": "code",
   "execution_count": null,
   "metadata": {},
   "outputs": [],
   "source": [
    "fixed_spatial_map = spat_df.plot(\n",
    "    column=\"SPATIAL_RES\",\n",
    "    scheme=\"quantiles\",\n",
    "    k=5,\n",
    "    cmap=\"BuPu\",\n",
    "    legend=True,\n",
    "    legend_kwds={\"loc\": \"center left\", \"bbox_to_anchor\": (1, 0.5)},\n",
    ")"
   ]
  },
  {
   "cell_type": "markdown",
   "metadata": {},
   "source": [
    "If we wanted to be *fully Bayesian* about the model that we specify, we would estimate the spatial dependence parameter $\\alpha$. This leads to ... \n",
    "\n",
    "### Our third model: a *spatial* random effects model, with unknown spatial dependence\n",
    "The only difference between model 3 and model 2, is that in model 3, $\\alpha$ is unknown, so we put a prior $\\alpha \\sim \\text{Beta} \\big (\\alpha = 1, \\beta=1\\big )$ over it."
   ]
  },
  {
   "cell_type": "code",
   "execution_count": null,
   "metadata": {},
   "outputs": [],
   "source": [
    "with pm.Model(coords={\"area_idx\": np.arange(N)}) as car_model:\n",
    "    beta0 = pm.Normal(\"beta0\", mu=0.0, tau=1.0e-5)\n",
    "    beta1 = pm.Normal(\"beta1\", mu=0.0, tau=1.0e-5)\n",
    "    # variance parameter of the independent random effect\n",
    "    tau_ind = pm.Gamma(\"tau_ind\", alpha=3.2761, beta=1.81)\n",
    "    # variance parameter of the spatially dependent random effects\n",
    "    tau_spat = pm.Gamma(\"tau_spat\", alpha=1.0, beta=1.0)\n",
    "\n",
    "    # prior for alpha\n",
    "    alpha = pm.Beta(\"alpha\", alpha=1, beta=1)\n",
    "\n",
    "    # area-specific model parameters\n",
    "    # independent random effect\n",
    "    theta = pm.Normal(\"theta\", mu=0, tau=tau_ind, dims=\"area_idx\")\n",
    "    # spatially dependent random effect\n",
    "    phi = pm.CAR(\"phi\", mu=np.zeros(N), tau=tau_spat, alpha=alpha, W=adj_matrix, dims=\"area_idx\")\n",
    "\n",
    "    # exponential of the linear predictor -> the mean of the likelihood\n",
    "    mu = pm.Deterministic(\"mu\", pt.exp(logE + beta0 + beta1 * x + theta + phi), dims=\"area_idx\")\n",
    "\n",
    "    # likelihood of the observed data\n",
    "    y_i = pm.Poisson(\"y_i\", mu=mu, observed=y, dims=\"area_idx\")\n",
    "\n",
    "    # sampling the model\n",
    "    car_idata = pm.sample(2000, tune=2000)"
   ]
  },
  {
   "cell_type": "markdown",
   "metadata": {},
   "source": [
    "We can plot the marginal posterior for $\\alpha$, and see that it is very near $1$, suggesting strong levels of spatial dependence."
   ]
  },
  {
   "cell_type": "code",
   "execution_count": null,
   "metadata": {},
   "outputs": [],
   "source": [
    "az.plot_density([car_idata], var_names=[\"alpha\"], shade=0.1)"
   ]
  },
  {
   "cell_type": "markdown",
   "metadata": {},
   "source": [
    "Comparing the regression parameters $\\beta_0$ and $\\beta_1$ between the three models that we have fit, we can see that accounting for the spatial dependence between observations has the ability to greatly impact the interpretation of the effect of covariates on the response variable."
   ]
  },
  {
   "cell_type": "code",
   "execution_count": null,
   "metadata": {},
   "outputs": [],
   "source": [
    "beta_density = az.plot_density(\n",
    "    [independent_idata, fixed_spatial_idata, car_idata],\n",
    "    data_labels=[\"Independent\", \"Spatial with alpha fixed\", \"Spatial with alpha random\"],\n",
    "    var_names=[\"beta0\", \"beta1\"],\n",
    "    shade=0.1,\n",
    ")"
   ]
  },
  {
   "cell_type": "markdown",
   "metadata": {},
   "source": [
    "## Limitations"
   ]
  },
  {
   "cell_type": "markdown",
   "metadata": {},
   "source": [
    "Our final model provided some evidence that the spatial dependence parameter might be $1$. However, in the definition of the CAR prior, $\\alpha$ can only take on values up to and excluding $1$. If $\\alpha = 1$, we get an alternate prior called the *intrinsic conditional autoregressive (ICAR)* prior. The ICAR prior is more widely used in spatial models, specifically the BYM {cite:p}`besag1991bayesian`, Leroux {cite:p}`leroux2000estimation` and BYM2 {cite:p}`riebler2016intuitive` models. It also scales efficiently with large datasets, a limitation of the CAR distribution. Currently, work is being done to include the ICAR prior within PyMC."
   ]
  },
  {
   "cell_type": "markdown",
   "metadata": {},
   "source": [
    "## Authors\n",
    "\n",
    "* Adapted from {ref}`another PyMC example notebook <conditional_autoregressive_model>` by Conor Hassan ([pymc-examples#417](https://github.com/pymc-devs/pymc-examples/pull/417)) and Daniel Saunders ([pymc-examples#547](https://github.com/pymc-devs/pymc-examples/pull/547/))."
   ]
  },
  {
   "cell_type": "markdown",
   "metadata": {},
   "source": [
    "## References \n",
    "\n",
    ":::{bibliography}\n",
    ":filter: docname in docnames \n",
    ":::"
   ]
  },
  {
   "cell_type": "markdown",
   "metadata": {},
   "source": [
    "## Watermark"
   ]
  },
  {
   "cell_type": "code",
   "execution_count": null,
   "metadata": {},
   "outputs": [],
   "source": [
    "%load_ext watermark\n",
    "%watermark -n -u -v -iv -w -p xarray"
   ]
  },
  {
   "cell_type": "markdown",
   "metadata": {},
   "source": [
    ":::{include} ../page_footer.md\n",
    ":::"
   ]
  }
 ],
 "metadata": {
  "interpreter": {
   "hash": "c007bd38e36c5a2482764074197001a13920a7126fb86cab77c270b2a8e1c2af"
  },
  "kernelspec": {
   "display_name": "Python [conda env:spatial_pymc_env]",
   "language": "python",
   "name": "conda-env-spatial_pymc_env-py"
  },
  "language_info": {
   "codemirror_mode": {
    "name": "ipython",
    "version": 3
   },
   "file_extension": ".py",
   "mimetype": "text/x-python",
   "name": "python",
   "nbconvert_exporter": "python",
   "pygments_lexer": "ipython3",
   "version": "3.11.0"
  },
  "myst": {
   "substitutions": {
    "extra_dependencies": "geopandas libpysal"
   }
  },
  "toc-autonumbering": false
 },
 "nbformat": 4,
 "nbformat_minor": 4
}
