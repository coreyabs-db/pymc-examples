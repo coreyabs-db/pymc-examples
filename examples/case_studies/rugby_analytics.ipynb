{
 "cells": [
  {
   "cell_type": "markdown",
   "metadata": {},
   "source": [
    "# A Hierarchical model for Rugby prediction\n",
    "\n",
    ":::{post} 19 Mar, 2022\n",
    ":tags: hierarchical model, sports \n",
    ":category: intermediate, how-to\n",
    ":author: Peadar Coyle, Meenal Jhajharia, Oriol Abril-Pla\n",
    ":::"
   ]
  },
  {
   "cell_type": "markdown",
   "metadata": {},
   "source": [
    "In this example, we're going to reproduce the first model described in {cite:t}`baio2010bayesian` using PyMC. Then show how to sample from the posterior predictive to simulate championship outcomes from the scored goals which are the modeled quantities.\n",
    "\n",
    "We apply the results of the paper to the Six Nations Championship, which is a competition between Italy, Ireland, Scotland, England, France and Wales."
   ]
  },
  {
   "cell_type": "markdown",
   "metadata": {},
   "source": [
    "## Motivation\n",
    "Your estimate of the strength of a team depends on your estimates of the other strengths\n",
    "\n",
    "Ireland are a stronger team than Italy for example - but by how much?\n",
    "\n",
    "Source for Results 2014 are Wikipedia. I've added the subsequent years, 2015, 2016, 2017. Manually pulled from Wikipedia.\n",
    "\n",
    "* We want to infer a latent parameter - that is the 'strength' of a team based only on their **scoring intensity**, and all we have are their scores and results, we can't accurately measure the 'strength' of a team.\n",
    "* Probabilistic Programming is a brilliant paradigm for modeling these **latent** parameters\n",
    "* Aim is to build a model for the upcoming Six Nations in 2018."
   ]
  },
  {
   "cell_type": "markdown",
   "metadata": {},
   "source": [
    ":::{include} ../extra_installs.md\n",
    ":::"
   ]
  },
  {
   "cell_type": "code",
   "execution_count": null,
   "metadata": {},
   "outputs": [],
   "source": [
    "!date\n",
    "\n",
    "import arviz as az\n",
    "import matplotlib.pyplot as plt\n",
    "import numpy as np\n",
    "import pandas as pd\n",
    "import pymc as pm\n",
    "import pytensor.tensor as pt\n",
    "import seaborn as sns\n",
    "\n",
    "from matplotlib.ticker import StrMethodFormatter\n",
    "\n",
    "%matplotlib inline"
   ]
  },
  {
   "cell_type": "code",
   "execution_count": null,
   "metadata": {},
   "outputs": [],
   "source": [
    "az.style.use(\"arviz-darkgrid\")\n",
    "plt.rcParams[\"figure.constrained_layout.use\"] = False"
   ]
  },
  {
   "cell_type": "markdown",
   "metadata": {},
   "source": [
    "This is a Rugby prediction exercise. So we'll input some data. We've taken this from Wikipedia and BBC sports."
   ]
  },
  {
   "cell_type": "code",
   "execution_count": null,
   "metadata": {},
   "outputs": [],
   "source": [
    "try:\n",
    "    df_all = pd.read_csv(\"../data/rugby.csv\", index_col=0)\n",
    "except:\n",
    "    df_all = pd.read_csv(pm.get_data(\"rugby.csv\"), index_col=0)"
   ]
  },
  {
   "cell_type": "markdown",
   "metadata": {},
   "source": [
    "## What do we want to infer?\n",
    "\n",
    "* We want to infer the latent parameters (every team's strength) that are generating the data we observe (the scorelines).\n",
    "* Moreover, we know that the scorelines are a noisy measurement of team strength, so ideally, we want a model that makes it easy to quantify our uncertainty about the underlying strengths.\n",
    "* Often we don't know what the Bayesian Model is explicitly, so we have to 'estimate' the Bayesian Model'\n",
    "* If we can't solve something, approximate it.\n",
    "* Markov-Chain Monte Carlo (MCMC) instead draws samples from the posterior.\n",
    "* Fortunately, this algorithm can be applied to almost any model.\n",
    "\n",
    "## What do we want?\n",
    "\n",
    "* We want to quantify our uncertainty\n",
    "* We want to also use this to generate a model\n",
    "* We want the answers as distributions not point estimates"
   ]
  },
  {
   "cell_type": "markdown",
   "metadata": {},
   "source": [
    "### Visualization/EDA\n",
    "We should do some some exploratory data analysis of this dataset.\n",
    "\n",
    "The plots should be fairly self-explantory, we'll look at things like difference between teams in terms of their scores."
   ]
  },
  {
   "cell_type": "code",
   "execution_count": null,
   "metadata": {},
   "outputs": [],
   "source": [
    "df_all.describe()"
   ]
  },
  {
   "cell_type": "code",
   "execution_count": null,
   "metadata": {},
   "outputs": [],
   "source": [
    "# Let's look at the tail end of this dataframe\n",
    "df_all.tail()"
   ]
  },
  {
   "cell_type": "markdown",
   "metadata": {},
   "source": [
    "There are a few things here that we don't need. We don't need the year for our model.\n",
    "But that is something that could improve a future model.\n",
    "\n",
    "Firstly let us look at differences in scores by year."
   ]
  },
  {
   "cell_type": "code",
   "execution_count": null,
   "metadata": {},
   "outputs": [],
   "source": [
    "df_all[\"difference\"] = np.abs(df_all[\"home_score\"] - df_all[\"away_score\"])"
   ]
  },
  {
   "cell_type": "code",
   "execution_count": null,
   "metadata": {},
   "outputs": [],
   "source": [
    "(\n",
    "    df_all.groupby(\"year\")[\"difference\"]\n",
    "    .mean()\n",
    "    .plot(\n",
    "        kind=\"bar\",\n",
    "        title=\"Average magnitude of scores difference Six Nations\",\n",
    "        yerr=df_all.groupby(\"year\")[\"difference\"].std(),\n",
    "    )\n",
    "    .set_ylabel(\"Average (abs) point difference\")\n",
    ");"
   ]
  },
  {
   "cell_type": "markdown",
   "metadata": {},
   "source": [
    "We can see that the standard error is large. So we can't say anything about the differences.\n",
    "Let's look country by country."
   ]
  },
  {
   "cell_type": "code",
   "execution_count": null,
   "metadata": {},
   "outputs": [],
   "source": [
    "df_all[\"difference_non_abs\"] = df_all[\"home_score\"] - df_all[\"away_score\"]"
   ]
  },
  {
   "cell_type": "markdown",
   "metadata": {},
   "source": [
    "Let us first loook at a Pivot table with a sum of this, broken down by year."
   ]
  },
  {
   "cell_type": "code",
   "execution_count": null,
   "metadata": {},
   "outputs": [],
   "source": [
    "df_all.pivot_table(\"difference_non_abs\", \"home_team\", \"year\")"
   ]
  },
  {
   "cell_type": "markdown",
   "metadata": {},
   "source": [
    "Now let's first plot this by home team without year."
   ]
  },
  {
   "cell_type": "code",
   "execution_count": null,
   "metadata": {},
   "outputs": [],
   "source": [
    "(\n",
    "    df_all.pivot_table(\"difference_non_abs\", \"home_team\")\n",
    "    .rename_axis(\"Home_Team\")\n",
    "    .plot(kind=\"bar\", rot=0, legend=False)\n",
    "    .set_ylabel(\"Score difference Home team and away team\")\n",
    ");"
   ]
  },
  {
   "cell_type": "markdown",
   "metadata": {},
   "source": [
    "You can see that Italy and Scotland have negative scores on average. You can also see that England, Ireland and Wales have been the strongest teams lately at home."
   ]
  },
  {
   "cell_type": "code",
   "execution_count": null,
   "metadata": {},
   "outputs": [],
   "source": [
    "(\n",
    "    df_all.pivot_table(\"difference_non_abs\", \"away_team\")\n",
    "    .rename_axis(\"Away_Team\")\n",
    "    .plot(kind=\"bar\", rot=0, legend=False)\n",
    "    .set_ylabel(\"Score difference Home team and away team\")\n",
    ");"
   ]
  },
  {
   "cell_type": "markdown",
   "metadata": {},
   "source": [
    "This indicates that Italy, Scotland and France all have poor away from home form.\n",
    "England suffers the least when playing away from home. This aggregate view doesn't take into account the strength of the teams."
   ]
  },
  {
   "cell_type": "markdown",
   "metadata": {},
   "source": [
    "Let us look a bit more at a timeseries plot of the average of the score difference over the year.\n",
    "\n",
    "We see some changes in team behaviour, and we also see that Italy is a poor team."
   ]
  },
  {
   "cell_type": "code",
   "execution_count": null,
   "metadata": {},
   "outputs": [],
   "source": [
    "g = sns.FacetGrid(df_all, col=\"home_team\", col_wrap=2, height=5)\n",
    "g.map(sns.scatterplot, \"year\", \"difference_non_abs\")\n",
    "g.fig.autofmt_xdate()"
   ]
  },
  {
   "cell_type": "code",
   "execution_count": null,
   "metadata": {},
   "outputs": [],
   "source": [
    "g = sns.FacetGrid(df_all, col=\"away_team\", col_wrap=2, height=5)\n",
    "g = g.map(plt.scatter, \"year\", \"difference_non_abs\").set_axis_labels(\"Year\", \"Score Difference\")\n",
    "g.fig.autofmt_xdate()"
   ]
  },
  {
   "cell_type": "markdown",
   "metadata": {},
   "source": [
    "You can see some interesting things here like Wales were good away from home in 2015.\n",
    "In that year they won three games away from home and won by 40 points or so away from home to Italy.\n",
    "\n",
    "So now we've got a feel for the data, we can proceed on with describing the model."
   ]
  },
  {
   "cell_type": "markdown",
   "metadata": {},
   "source": [
    "### What assumptions do we know for our 'generative story'?\n",
    "\n",
    "* We know that the Six Nations in Rugby only has 6 teams - they each play each other once\n",
    "* We have data from the last few years\n",
    "* We also know that in sports scoring is modelled as a Poisson distribution\n",
    "* We consider home advantage to be a strong effect in sports"
   ]
  },
  {
   "cell_type": "markdown",
   "metadata": {},
   "source": [
    "## The model.\n",
    "\n",
    "The league is made up by a total of T= 6 teams, playing each other once\n",
    "in a season. We indicate the number of points scored by the home and the away team in the g-th game of the season (15 games) as $y_{g1}$ and $y_{g2}$ respectively. </p>\n",
    "The vector of observed counts $\\mathbb{y} = (y_{g1}, y_{g2})$ is modelled as independent Poisson:\n",
    "$y_{gi}| \\theta_{gj} \\tilde\\;\\;  Poisson(\\theta_{gj})$\n",
    "where the theta parameters represent the scoring intensity in the g-th game for the team playing at home (j=1) and away (j=2), respectively.</p>"
   ]
  },
  {
   "cell_type": "markdown",
   "metadata": {},
   "source": [
    "We model these parameters according to a formulation that has been used widely in the statistical literature, assuming a log-linear random effect model:\n",
    "$$log \\theta_{g1} = home + att_{h(g)} + def_{a(g)} $$\n",
    "$$log \\theta_{g2} = att_{a(g)} + def_{h(g)}$$\n",
    "\n",
    "\n",
    "* The parameter home represents the advantage for the team hosting the game and we assume that this effect is constant for all the teams and throughout the season\n",
    "* The scoring intensity is determined jointly by the attack and defense ability of the two teams involved, represented by the parameters att and def, respectively\n",
    "\n",
    "* Conversely, for each t = 1, ..., T, the team-specific effects are modelled as exchangeable from a common distribution:\n",
    "\n",
    "* $att_{t} \\; \\tilde\\;\\; Normal(\\mu_{att},\\tau_{att})$ and $def_{t} \\; \\tilde\\;\\;Normal(\\mu_{def},\\tau_{def})$\n",
    "\n",
    "* We did some munging above and adjustments of the data to make it **tidier** for our model.\n",
    "* The log function to away scores and home scores is a standard trick in the sports analytics literature"
   ]
  },
  {
   "cell_type": "markdown",
   "metadata": {},
   "source": [
    "## Building of the model\n",
    "We now build the model in PyMC, specifying the global parameters, the team-specific parameters and the likelihood function"
   ]
  },
  {
   "cell_type": "code",
   "execution_count": null,
   "metadata": {},
   "outputs": [],
   "source": [
    "plt.rcParams[\"figure.constrained_layout.use\"] = True\n",
    "home_idx, teams = pd.factorize(df_all[\"home_team\"], sort=True)\n",
    "away_idx, _ = pd.factorize(df_all[\"away_team\"], sort=True)\n",
    "coords = {\"team\": teams}"
   ]
  },
  {
   "cell_type": "code",
   "execution_count": null,
   "metadata": {},
   "outputs": [],
   "source": [
    "with pm.Model(coords=coords) as model:\n",
    "    # constant data\n",
    "    home_team = pm.ConstantData(\"home_team\", home_idx, dims=\"match\")\n",
    "    away_team = pm.ConstantData(\"away_team\", away_idx, dims=\"match\")\n",
    "\n",
    "    # global model parameters\n",
    "    home = pm.Normal(\"home\", mu=0, sigma=1)\n",
    "    sd_att = pm.HalfNormal(\"sd_att\", sigma=2)\n",
    "    sd_def = pm.HalfNormal(\"sd_def\", sigma=2)\n",
    "    intercept = pm.Normal(\"intercept\", mu=3, sigma=1)\n",
    "\n",
    "    # team-specific model parameters\n",
    "    atts_star = pm.Normal(\"atts_star\", mu=0, sigma=sd_att, dims=\"team\")\n",
    "    defs_star = pm.Normal(\"defs_star\", mu=0, sigma=sd_def, dims=\"team\")\n",
    "\n",
    "    atts = pm.Deterministic(\"atts\", atts_star - pt.mean(atts_star), dims=\"team\")\n",
    "    defs = pm.Deterministic(\"defs\", defs_star - pt.mean(defs_star), dims=\"team\")\n",
    "    home_theta = pt.exp(intercept + home + atts[home_idx] + defs[away_idx])\n",
    "    away_theta = pt.exp(intercept + atts[away_idx] + defs[home_idx])\n",
    "\n",
    "    # likelihood of observed data\n",
    "    home_points = pm.Poisson(\n",
    "        \"home_points\",\n",
    "        mu=home_theta,\n",
    "        observed=df_all[\"home_score\"],\n",
    "        dims=(\"match\"),\n",
    "    )\n",
    "    away_points = pm.Poisson(\n",
    "        \"away_points\",\n",
    "        mu=away_theta,\n",
    "        observed=df_all[\"away_score\"],\n",
    "        dims=(\"match\"),\n",
    "    )\n",
    "    trace = pm.sample(1000, tune=1500, cores=4)"
   ]
  },
  {
   "cell_type": "markdown",
   "metadata": {},
   "source": [
    "* We specified the model and the likelihood function\n",
    "\n",
    "* All this runs on an PyTensor graph under the hood"
   ]
  },
  {
   "cell_type": "code",
   "execution_count": null,
   "metadata": {},
   "outputs": [],
   "source": [
    "az.plot_trace(trace, var_names=[\"intercept\", \"home\", \"sd_att\", \"sd_def\"], compact=False);"
   ]
  },
  {
   "cell_type": "markdown",
   "metadata": {},
   "source": [
    "Let us apply good *statistical workflow* practices and look at the various evaluation metrics to see if our NUTS sampler converged."
   ]
  },
  {
   "cell_type": "code",
   "execution_count": null,
   "metadata": {},
   "outputs": [],
   "source": [
    "az.plot_energy(trace, figsize=(6, 4));"
   ]
  },
  {
   "cell_type": "code",
   "execution_count": null,
   "metadata": {},
   "outputs": [],
   "source": [
    "az.summary(trace, kind=\"diagnostics\")"
   ]
  },
  {
   "cell_type": "markdown",
   "metadata": {},
   "source": [
    "Our model has converged well and $\\hat{R}$ looks good."
   ]
  },
  {
   "cell_type": "markdown",
   "metadata": {},
   "source": [
    "Let us look at some of the stats, just to verify that our model has returned the correct attributes. We can see that some teams are stronger than others. This is what we would expect with attack"
   ]
  },
  {
   "cell_type": "code",
   "execution_count": null,
   "metadata": {},
   "outputs": [],
   "source": [
    "trace_hdi = az.hdi(trace)\n",
    "trace_hdi[\"atts\"]"
   ]
  },
  {
   "cell_type": "code",
   "execution_count": null,
   "metadata": {},
   "outputs": [],
   "source": [
    "trace.posterior[\"atts\"].median((\"chain\", \"draw\"))"
   ]
  },
  {
   "cell_type": "markdown",
   "metadata": {},
   "source": [
    "## Results\n",
    "From the above we can start to understand the different distributions of attacking strength and defensive strength.\n",
    "These are probabilistic estimates and help us better understand the uncertainty in sports analytics"
   ]
  },
  {
   "cell_type": "code",
   "execution_count": null,
   "metadata": {},
   "outputs": [],
   "source": [
    "_, ax = plt.subplots(figsize=(12, 6))\n",
    "\n",
    "ax.scatter(teams, trace.posterior[\"atts\"].median(dim=(\"chain\", \"draw\")), color=\"C0\", alpha=1, s=100)\n",
    "ax.vlines(\n",
    "    teams,\n",
    "    trace_hdi[\"atts\"].sel({\"hdi\": \"lower\"}),\n",
    "    trace_hdi[\"atts\"].sel({\"hdi\": \"higher\"}),\n",
    "    alpha=0.6,\n",
    "    lw=5,\n",
    "    color=\"C0\",\n",
    ")\n",
    "ax.set_xlabel(\"Teams\")\n",
    "ax.set_ylabel(\"Posterior Attack Strength\")\n",
    "ax.set_title(\"HDI of Team-wise Attack Strength\");"
   ]
  },
  {
   "cell_type": "markdown",
   "metadata": {},
   "source": [
    "This is one of the powerful things about Bayesian modelling, we can have *uncertainty quantification* of some of our estimates.\n",
    "We've got a Bayesian credible interval for the attack strength of different countries.\n",
    "\n",
    "We can see an overlap between Ireland, Wales and England which is what you'd expect since these teams have won in recent years.\n",
    "\n",
    "Italy is well behind everyone else - which is what we'd expect and there's an overlap between Scotland and France which seems about right.\n",
    "\n",
    "There are probably some effects we'd like to add in here, like weighting more recent results more strongly.\n",
    "However that'd be a much more complicated model."
   ]
  },
  {
   "cell_type": "code",
   "execution_count": null,
   "metadata": {},
   "outputs": [],
   "source": [
    "# subclass arviz labeller to omit the variable name\n",
    "class TeamLabeller(az.labels.BaseLabeller):\n",
    "    def make_label_flat(self, var_name, sel, isel):\n",
    "        sel_str = self.sel_to_str(sel, isel)\n",
    "        return sel_str"
   ]
  },
  {
   "cell_type": "code",
   "execution_count": null,
   "metadata": {},
   "outputs": [],
   "source": [
    "ax = az.plot_forest(trace, var_names=[\"atts\"], labeller=TeamLabeller())\n",
    "ax[0].set_title(\"Team Offense\");"
   ]
  },
  {
   "cell_type": "code",
   "execution_count": null,
   "metadata": {},
   "outputs": [],
   "source": [
    "ax = az.plot_forest(trace, var_names=[\"defs\"], labeller=TeamLabeller())\n",
    "ax[0].set_title(\"Team Defense\");"
   ]
  },
  {
   "cell_type": "markdown",
   "metadata": {},
   "source": [
    "Good teams like Ireland and England have a strong negative effect defense. Which is what we expect. We expect our strong teams to have strong positive effects in attack and strong negative effects in defense."
   ]
  },
  {
   "cell_type": "markdown",
   "metadata": {},
   "source": [
    "This approach that we're using of looking at parameters and examining them is part of a good statistical workflow.\n",
    "We also think that perhaps our priors could be better specified. However this is beyond the scope of this article.\n",
    "We recommend for a good discussion of 'statistical workflow' you visit [Robust Statistical Workflow with RStan](http://mc-stan.org/users/documentation/case-studies/rstan_workflow.html)"
   ]
  },
  {
   "cell_type": "markdown",
   "metadata": {},
   "source": [
    "Let's do some other plots. So we can see our range for our defensive effect.\n",
    "I'll print the teams below too just for reference"
   ]
  },
  {
   "cell_type": "code",
   "execution_count": null,
   "metadata": {},
   "outputs": [],
   "source": [
    "az.plot_posterior(trace, var_names=[\"defs\"]);"
   ]
  },
  {
   "cell_type": "markdown",
   "metadata": {},
   "source": [
    "We can see that Ireland's mean is -0.39  which means we expect Ireland to have a strong defense.\n",
    "Which is what we'd expect, Ireland generally even in games it loses doesn't lose by say 50 points.\n",
    "And we can see that the 94% HDI is between -0.491, and -0.28\n",
    "\n",
    "In comparison with Italy, we see a strong positive effect 0.58 mean and a HDI of 0.51 and 0.65. This means that we'd expect Italy to concede a lot of points, compared to what it scores.\n",
    "Given that Italy often loses by 30 - 60 points, this seems correct.\n",
    "\n",
    "We see here also that this informs what other priors we could bring into this. We could bring some sort of world ranking as a prior.\n",
    "\n",
    "As of December 2017 the [rugby rankings](https://www.worldrugby.org/rankings/mru) indicate that England is 2nd in the world, Ireland 3rd, Scotland 5th, Wales 7th, France 9th and Italy 14th. We could bring that into a model and it can explain some of the fact that Italy is apart from a lot of the other teams."
   ]
  },
  {
   "cell_type": "markdown",
   "metadata": {},
   "source": [
    "Now let's simulate who wins over a total of 4000 simulations, one per sample in the posterior."
   ]
  },
  {
   "cell_type": "code",
   "execution_count": null,
   "metadata": {},
   "outputs": [],
   "source": [
    "with model:\n",
    "    pm.sample_posterior_predictive(trace, extend_inferencedata=True)\n",
    "pp = trace.posterior_predictive\n",
    "const = trace.constant_data\n",
    "team_da = trace.posterior.team"
   ]
  },
  {
   "cell_type": "markdown",
   "metadata": {},
   "source": [
    "The posterior predictive samples contain the goals scored by each team in each match. We modeled and therefore simulated according to scoring and devensive powers using goals as observed variable.\n",
    "\n",
    "Our goal now is to see who wins the competition, so we can estimate the probability each team has of winning the whole competition. From that we need to convert the scored goals to points:"
   ]
  },
  {
   "cell_type": "code",
   "execution_count": null,
   "metadata": {},
   "outputs": [],
   "source": [
    "# fmt: off\n",
    "pp[\"home_win\"] = (\n",
    "    (pp[\"home_points\"] > pp[\"away_points\"]) * 3     # home team wins and gets 3 points\n",
    "    + (pp[\"home_points\"] == pp[\"away_points\"]) * 2  # tie -> home team gets 2 points\n",
    ")\n",
    "pp[\"away_win\"] = (\n",
    "    (pp[\"home_points\"] < pp[\"away_points\"]) * 3\n",
    "    + (pp[\"home_points\"] == pp[\"away_points\"]) * 2\n",
    ")\n",
    "# fmt: on"
   ]
  },
  {
   "cell_type": "markdown",
   "metadata": {},
   "source": [
    "Then add the points each team has collected throughout all matches:"
   ]
  },
  {
   "cell_type": "code",
   "execution_count": null,
   "metadata": {},
   "outputs": [],
   "source": [
    "groupby_sum_home = pp.home_win.groupby(team_da[const.home_team]).sum()\n",
    "groupby_sum_away = pp.away_win.groupby(team_da[const.away_team]).sum()\n",
    "\n",
    "pp[\"teamscores\"] = groupby_sum_home + groupby_sum_away"
   ]
  },
  {
   "cell_type": "markdown",
   "metadata": {},
   "source": [
    "And eventually generate the ranks of all teams for each of the 4000 simulations. As our data is stored in xarray objects inside the InferenceData class, we will use {doc}`einstats:index`:"
   ]
  },
  {
   "cell_type": "code",
   "execution_count": null,
   "metadata": {},
   "outputs": [],
   "source": [
    "from xarray_einstats.stats import rankdata\n",
    "\n",
    "pp[\"rank\"] = rankdata(-pp[\"teamscores\"], dims=\"team\", method=\"min\")\n",
    "pp[[\"rank\"]].sel(team=\"England\")"
   ]
  },
  {
   "cell_type": "markdown",
   "metadata": {},
   "source": [
    "As you can see, we now have a collection of 4000 integers between 1 and 6 for each team, 1 meaning they win the competition. We can use a histogram with bin edges at half integers to count and normalize how many times each team\n",
    "finishes in each position:"
   ]
  },
  {
   "cell_type": "code",
   "execution_count": null,
   "metadata": {},
   "outputs": [],
   "source": [
    "from xarray_einstats.numba import histogram\n",
    "\n",
    "bin_edges = np.arange(7) + 0.5\n",
    "data_sim = (\n",
    "    histogram(pp[\"rank\"], dims=(\"chain\", \"draw\"), bins=bin_edges, density=True)\n",
    "    .rename({\"bin\": \"rank\"})\n",
    "    .assign_coords(rank=np.arange(6) + 1)\n",
    ")"
   ]
  },
  {
   "cell_type": "markdown",
   "metadata": {},
   "source": [
    "Now that we have reduced the data to a 2 dimensional array, we will convert it to a pandas DataFrame\n",
    "which is now a more adequate choice to work with our data:"
   ]
  },
  {
   "cell_type": "code",
   "execution_count": null,
   "metadata": {},
   "outputs": [],
   "source": [
    "idx_dim, col_dim = data_sim.dims\n",
    "sim_table = pd.DataFrame(data_sim, index=data_sim[idx_dim], columns=data_sim[col_dim])"
   ]
  },
  {
   "cell_type": "code",
   "execution_count": null,
   "metadata": {},
   "outputs": [],
   "source": [
    "fig, ax = plt.subplots(figsize=(8, 4))\n",
    "ax = sim_table.T.plot(kind=\"barh\", ax=ax)\n",
    "ax.xaxis.set_major_formatter(StrMethodFormatter(\"{x:.1%}\"))\n",
    "ax.set_xlabel(\"Rank-wise Probability of results for all six teams\")\n",
    "ax.set_yticklabels(np.arange(1, 7))\n",
    "ax.set_ylabel(\"Ranks\")\n",
    "ax.invert_yaxis()\n",
    "ax.legend(loc=\"best\", fontsize=\"medium\");"
   ]
  },
  {
   "cell_type": "markdown",
   "metadata": {},
   "source": [
    "We see according to this model that Ireland finishes with the most points about 60% of the time, and England finishes with the most points 45% of the time and Wales finishes with the most points about 10% of the time.  (Note that these probabilities do not sum to 100% since there is a non-zero chance of a tie atop the table.)\n",
    "\n",
    "> As an Irish rugby fan - I like this model. However it indicates some problems with shrinkage, and bias. Since recent form suggests England will win.\n",
    "\n",
    "Nevertheless the point of this model was to illustrate how a Hierarchical model could be applied to a sports analytics problem, and illustrate the power of PyMC."
   ]
  },
  {
   "cell_type": "markdown",
   "metadata": {},
   "source": [
    "## Covariates\n",
    "We should do some exploration of the variables"
   ]
  },
  {
   "cell_type": "code",
   "execution_count": null,
   "metadata": {},
   "outputs": [],
   "source": [
    "az.plot_pair(\n",
    "    trace,\n",
    "    var_names=[\"atts\"],\n",
    "    kind=\"scatter\",\n",
    "    divergences=True,\n",
    "    textsize=25,\n",
    "    marginals=True,\n",
    "),\n",
    "figsize = (10, 10)"
   ]
  },
  {
   "cell_type": "markdown",
   "metadata": {},
   "source": [
    "We observe that there isn't a lot of correlation between these covariates, other than the weaker teams like Italy have a more negative distribution of these variables.\n",
    "Nevertheless this is a good method to get some insight into how the variables are behaving."
   ]
  },
  {
   "cell_type": "markdown",
   "metadata": {},
   "source": [
    "## Authors\n",
    "\n",
    "* Adapted [Daniel Weitzenfeld's](http://danielweitzenfeld.github.io/passtheroc/blog/2014/10/28/bayes-premier-league/) blog post by [Peadar Coyle](). The original blog post was based on the work of {cite:p}`baio2010bayesian`\n",
    "* Updated by Meenal Jhajharia to use ArviZ and xarray\n",
    "* Updated by Oriol Abril-Pla to use PyMC v4 and xarray-einstats"
   ]
  },
  {
   "cell_type": "markdown",
   "metadata": {},
   "source": [
    "## References\n",
    "\n",
    ":::{bibliography}\n",
    ":filter: docname in docnames\n",
    ":::"
   ]
  },
  {
   "cell_type": "markdown",
   "metadata": {},
   "source": [
    "## Watermark"
   ]
  },
  {
   "cell_type": "code",
   "execution_count": null,
   "metadata": {},
   "outputs": [],
   "source": [
    "%load_ext watermark\n",
    "%watermark -n -u -v -iv -w -p xarray,aeppl,numba,xarray_einstats"
   ]
  },
  {
   "cell_type": "markdown",
   "metadata": {},
   "source": [
    ":::{include} ../page_footer.md\n",
    ":::"
   ]
  },
  {
   "cell_type": "code",
   "execution_count": null,
   "metadata": {},
   "outputs": [],
   "source": []
  }
 ],
 "metadata": {
  "anaconda-cloud": {},
  "kernelspec": {
   "display_name": "Python 3 (ipykernel)",
   "language": "python",
   "name": "python3"
  },
  "language_info": {
   "codemirror_mode": {
    "name": "ipython",
    "version": 3
   },
   "file_extension": ".py",
   "mimetype": "text/x-python",
   "name": "python",
   "nbconvert_exporter": "python",
   "pygments_lexer": "ipython3",
   "version": "3.9.10"
  },
  "myst": {
   "substitutions": {
    "extra_dependencies": "seaborn numba"
   }
  }
 },
 "nbformat": 4,
 "nbformat_minor": 4
}
