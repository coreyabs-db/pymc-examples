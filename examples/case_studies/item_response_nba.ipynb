{
 "cells": [
  {
   "cell_type": "markdown",
   "metadata": {},
   "source": [
    "(item_response_nba)=\n",
    "# NBA Foul Analysis with Item Response Theory\n",
    "\n",
    ":::{post} Apr 17, 2022\n",
    ":tags: hierarchical model, case study, generalized linear model \n",
    ":category: intermediate, tutorial\n",
    ":author:  Austin Rochford, Lorenzo Toniazzi\n",
    ":::"
   ]
  },
  {
   "cell_type": "code",
   "execution_count": null,
   "metadata": {},
   "outputs": [],
   "source": [
    "import os\n",
    "\n",
    "import arviz as az\n",
    "import matplotlib.pyplot as plt\n",
    "import numpy as np\n",
    "import pandas as pd\n",
    "import pymc as pm\n",
    "\n",
    "%matplotlib inline\n",
    "print(f\"Running on PyMC v{pm.__version__}\")"
   ]
  },
  {
   "cell_type": "code",
   "execution_count": null,
   "metadata": {},
   "outputs": [],
   "source": [
    "RANDOM_SEED = 8927\n",
    "rng = np.random.default_rng(RANDOM_SEED)\n",
    "az.style.use(\"arviz-darkgrid\")"
   ]
  },
  {
   "cell_type": "markdown",
   "metadata": {},
   "source": [
    "## Introduction\n",
    "This tutorial shows an application of Bayesian Item Response Theory {cite:p}`fox2010bayesian` to NBA basketball foul calls data using PyMC. Based on Austin Rochford's blogpost [NBA Foul Calls and Bayesian Item Response Theory](https://www.austinrochford.com/posts/2017-04-04-nba-irt.html).\n",
    "\n",
    "### Motivation\n",
    "Our scenario is that we observe a binary outcome (a foul being called or not) from an interaction (a basketball play) of two agents with two different roles (the player committing the alleged foul and the player disadvantaged in the play). Moreover, each committing or disadvantaged agent is an individual which might be observed several times (say LeBron James observed committing a foul in more than one play). Then it might be that not only the agent's role, but also the abilities of the single individual player contribute to the observed outcome. And so we'd like to __estimate the contribution to the observed outcome of each individual's (latent) ability as a committing or disadvantaged agent.__ This would allow us, for example, to rank players from more to less effective, quantify uncertainty in this ranking and discover extra hierarchical structures involved in foul calls. All pretty useful stuff! \n",
    " \n",
    "\n",
    "So how can we study this common and complex __multi-agent interaction__ scenario, with __hierarchical__ structures between  more than a thousand individuals? \n",
    "\n",
    "Despite the scenario's overwhelming complexity, Bayesian Item Response Theory combined with modern powerful statistical software allows for quite elegant and effective modeling options. One of these options employs a {term}`Generalized Linear Model` called [Rasch model](https://en.wikipedia.org/wiki/Rasch_model), which we now discuss in more detail.\n",
    "\n",
    "\n",
    "### Rasch Model\n",
    "We sourced our data from the official [NBA Last Two Minutes Reports](https://official.nba.com/2020-21-nba-officiating-last-two-minute-reports/) with game data between 2015 to 2021. In this dataset, each row `k`  is one play involving two players (the committing and the disadvantaged) where a foul has been either called or not. So we model the probability `p_k` that a referee calls a foul in play `k` as a function of the players involved. Hence we define two latent variables for each player, namely:\n",
    "- `theta`: which estimates the player's ability to have a foul called when disadvantaged, and\n",
    "- `b`: which estimates the player's ability  to have a foul not called when committing.\n",
    "\n",
    "Note that the higher these player's parameters, the better the outcome for the player's team. These two parameters are then estimated using a standard Rasch model, by assuming the log-odds-ratio of `p_k` equals `theta-b` for the corresponding players involved in play `k`. Also, we place hierarchical hyperpriors on all `theta`'s and all `b`'s to account for shared abilities between players and largely different numbers of observations for different players.\n",
    "\n",
    "\n",
    "### Discussion \n",
    "Our analysis gives an estimate of the latent skills `theta` and `b` for each player in terms of posterior distributions. We analyze this outcome in three ways. \n",
    "\n",
    "We first display the role of shared hyperpriors, by showing how posteriors of players with little observations are drawn to the league average.\n",
    "\n",
    "Secondly, we rank the posteriors by their mean to view best and worst committing and disadvantaged players, and observe that several players still rank in the top 10 of the same model estimated in [Austin Rochford blogpost](https://www.austinrochford.com/posts/2017-04-04-nba-irt.html) on different data.\n",
    "\n",
    "Thirdly, we show how we spot that grouping payers by their position is likely to be an informative extra hierarchical layer to introduce in our model, and leave this as an exercise for the interested reader. Let us conclude by mentioning that this opportunity of easily adding informed hierarchical structure to a model is one of the features that makes Bayesian modelling very flexible and powerful for quantifying uncertainty in scenarios where introducing (or discovering) problem-specific knowledge is crucial.\n",
    "\n",
    "\n",
    "The analysis in this notebook is performed in four main steps: \n",
    "\n",
    "1. Data collection and processing.\n",
    "2. Definition and instantiation of the Rasch model. \n",
    "3. Posterior sampling and convergence checks.\n",
    "4. Analysis of the posterior results.\n",
    "\n",
    "## Data collection and processing\n",
    "We first import data from the original data set, which can be found at [this URL](https://raw.githubusercontent.com/polygraph-cool/last-two-minute-report/32f1c43dfa06c2e7652cc51ea65758007f2a1a01/output/all_games.csv). Each row corresponds to a play between the NBA seasons 2015-16 and 2020-21. We imported only five columns, namely\n",
    "- `committing`: the  name of the committing player in the play.\n",
    "- `disadvantaged`: the name of the disadvantaged player in the play.\n",
    "- `decision`: the reviewed decision of the play, which can take four values, namely:\n",
    "    - `CNC`: correct noncall, `INC`: incorrect noncall, `IC`: incorrect call, `CC`: correct call.\n",
    "- `committing_position`: the position of the committing player which can take values\n",
    "    - `G`: guard, `F`: forward, `C`: center, `G-F`, `F-G`, `F-C`, `C-F`.\n",
    "- `disadvantaged_position`: the position of the disadvantaged player, with possible values as above.\n",
    "\n",
    "We note that we  already removed  from the original  dataset the plays where less than two players are involved (for example travel calls or clock violations). Also, the original dataset does not contain information on the players' position, which we added ourselves."
   ]
  },
  {
   "cell_type": "code",
   "execution_count": null,
   "metadata": {
    "tags": []
   },
   "outputs": [],
   "source": [
    "try:\n",
    "    df_orig = pd.read_csv(os.path.join(\"..\", \"data\", \"item_response_nba.csv\"), index_col=0)\n",
    "except FileNotFoundError:\n",
    "    df_orig = pd.read_csv(pm.get_data(\"item_response_nba.csv\"), index_col=0)\n",
    "df_orig.head()"
   ]
  },
  {
   "cell_type": "markdown",
   "metadata": {},
   "source": [
    "We now process our data in three steps:\n",
    " 1. We create a dataframe `df` by removing the position information from `df_orig`, and we create a dataframe `df_position` collecting all players with the respective position. (This last dataframe will not be used until the very end of the notebook.)\n",
    " 2. We add a  column to `df`, called `foul_called`, that assigns 1 to a play if a foul was called, and 0 otherwise.\n",
    " 3. We assign IDs to committing and disadvantaged players and use this indexing to identify the respective players in each observed play.\n",
    "\n",
    "Finally, we display the head of our main dataframe `df` along with some basic statistics."
   ]
  },
  {
   "cell_type": "code",
   "execution_count": null,
   "metadata": {
    "tags": []
   },
   "outputs": [],
   "source": [
    "# 1. Construct df and df_position\n",
    "df = df_orig[[\"committing\", \"disadvantaged\", \"decision\"]]\n",
    "\n",
    "df_position = pd.concat(\n",
    "    [\n",
    "        df_orig.groupby(\"committing\").committing_position.first(),\n",
    "        df_orig.groupby(\"disadvantaged\").disadvantaged_position.first(),\n",
    "    ]\n",
    ").to_frame()\n",
    "df_position = df_position[~df_position.index.duplicated(keep=\"first\")]\n",
    "df_position.index.name = \"player\"\n",
    "df_position.columns = [\"position\"]\n",
    "\n",
    "\n",
    "# 2. Create the binary foul_called variable\n",
    "def foul_called(decision):\n",
    "    \"\"\"Correct and incorrect noncalls (CNC and INC) take value 0.\n",
    "    Correct and incorrect calls (CC and IC) take value 1.\n",
    "    \"\"\"\n",
    "    out = 0\n",
    "    if (decision == \"CC\") | (decision == \"IC\"):\n",
    "        out = 1\n",
    "    return out\n",
    "\n",
    "\n",
    "df = df.assign(foul_called=lambda df: df[\"decision\"].apply(foul_called))\n",
    "\n",
    "# 3 We index observed calls by committing and disadvantaged players\n",
    "committing_observed, committing = pd.factorize(df.committing, sort=True)\n",
    "disadvantaged_observed, disadvantaged = pd.factorize(df.disadvantaged, sort=True)\n",
    "df.index.name = \"play_id\"\n",
    "\n",
    "# Display of main dataframe with some statistics\n",
    "print(f\"Number of observed plays: {len(df)}\")\n",
    "print(f\"Number of disadvantaged players: {len(disadvantaged)}\")\n",
    "print(f\"Number of committing players: {len(committing)}\")\n",
    "print(f\"Global probability of a foul being called: \" f\"{100*round(df.foul_called.mean(),3)}%\\n\\n\")\n",
    "df.head()"
   ]
  },
  {
   "cell_type": "markdown",
   "metadata": {
    "tags": []
   },
   "source": [
    "## Item Response Model\n",
    "\n",
    "### Model definition\n",
    "\n",
    "We denote by:\n",
    "- $N_d$ and $N_c$ the number of disadvantaged and committing players, respectively, \n",
    "- $K$ the number of plays,\n",
    "- $k$ a play, \n",
    "- $y_k$ the observed call/noncall in play $k$,\n",
    "- $p_k$ the probability of a foul being called in play $k$,\n",
    "- $i(k)$ the disadvantaged player in play $k$, and by\n",
    "- $j(k)$ the committing player in play $k$.\n",
    "\n",
    "We assume that each disadvantaged player is described by the latent variable: \n",
    "- $\\theta_i$ for $i=1,2,...,N_d$,\n",
    "\n",
    "and each committing player is described by the latent variable: \n",
    "- $b_j$ for $j=1,2,...,N_c$.\n",
    "\n",
    "Then we model each observation $y_k$ as the result of an independent Bernoulli trial with probability $p_k$, where\n",
    "\n",
    "$$\n",
    "p_k =\\text{sigmoid}(\\eta_k)=\\left(1+e^{-\\eta_k}\\right)^{-1},\\quad\\text{with}\\quad \\eta_k=\\theta_{i(k)}-b_{j(k)},\n",
    "$$\n",
    "\n",
    "for $k=1,2,...,K$, by defining (via a [non-centered parametrisation](https://twiecki.io/blog/2017/02/08/bayesian-hierchical-non-centered/))\n",
    "\n",
    "\\begin{align*}\n",
    "\\theta_{i}&= \\sigma_\\theta\\Delta_{\\theta,i}+\\mu_\\theta\\sim \\text{Normal}(\\mu_\\theta,\\sigma_\\theta^2),  &i=1,2,...,N_d,\\\\\n",
    "b_{j}&= \\sigma_b\\Delta_{b,j}\\sim \\text{Normal}(0,\\sigma_b^2), &j=1,2,...,N_c,\n",
    "\\end{align*}\n",
    "\n",
    "with priors/hyperpriors\n",
    "\n",
    "\\begin{align*}\n",
    "\\Delta_{\\theta,i}&\\sim \\text{Normal}(0,1),  &i=1,2,...,N_d,\\\\\n",
    "\\Delta_{b,j}&\\sim \\text{Normal}(0,1), &j=1,2,...,N_c,\\\\\n",
    "\\mu_\\theta&\\sim \\text{Normal}(0,100),\\\\\n",
    "\\sigma_\\theta &\\sim \\text{HalfCauchy}(2.5),\\\\\n",
    "\\sigma_b &\\sim \\text{HalfCauchy}(2.5).\n",
    "\\end{align*}\n",
    "\n",
    "Note that $p_k$ is always dependent on $\\mu_\\theta,\\,\\sigma_\\theta$ and $\\sigma_b$ (\"pooled priors\") and also depends on the actual players involved in the play due to  $\\Delta_{\\theta,i}$ and $\\Delta_{b,j}$ (\"unpooled priors\"). This means our model features partial pooling. Morover, note that we do not pool $\\theta$'s with $b$'s, hence assuming these skills are independent even for the same player. Also, note that  we normalised the mean of $b_{j}$ to zero. \n",
    "\n",
    "Finally, notice how we worked backwards from our data to construct this model. This is a very natural way to construct a model, allowing us to quickly see how each variable connects to others and their intuition. Meanwhile, when instantiating the model below, the construction goes in the opposite direction, i.e. starting from priors and moving up to the observations.\n",
    "\n",
    "### PyMC implementation\n",
    "We now implement the model above in PyMC. Note that, to easily keep track of the players (as we have hundreds of them being both committing and disadvantaged), we make use of the `coords` argument for {class}`pymc.Model`. (For tutorials on this functionality see the notebook {ref}`data_container` or [this blogpost](https://oriolabrilpla.cat/python/arviz/pymc3/xarray/2020/09/22/pymc3-arviz.html).) We choose our priors to be the same as in [Austin Rochford's post](https://www.austinrochford.com/posts/2017-04-04-nba-irt.html), to make the comparison consistent."
   ]
  },
  {
   "cell_type": "code",
   "execution_count": null,
   "metadata": {},
   "outputs": [],
   "source": [
    "coords = {\"disadvantaged\": disadvantaged, \"committing\": committing}\n",
    "\n",
    "with pm.Model(coords=coords) as model:\n",
    "    # Data\n",
    "    foul_called_observed = pm.Data(\"foul_called_observed\", df.foul_called, mutable=False)\n",
    "\n",
    "    # Hyperpriors\n",
    "    mu_theta = pm.Normal(\"mu_theta\", 0.0, 100.0)\n",
    "    sigma_theta = pm.HalfCauchy(\"sigma_theta\", 2.5)\n",
    "    sigma_b = pm.HalfCauchy(\"sigma_b\", 2.5)\n",
    "\n",
    "    # Priors\n",
    "    Delta_theta = pm.Normal(\"Delta_theta\", 0.0, 1.0, dims=\"disadvantaged\")\n",
    "    Delta_b = pm.Normal(\"Delta_b\", 0.0, 1.0, dims=\"committing\")\n",
    "\n",
    "    # Deterministic\n",
    "    theta = pm.Deterministic(\"theta\", Delta_theta * sigma_theta + mu_theta, dims=\"disadvantaged\")\n",
    "    b = pm.Deterministic(\"b\", Delta_b * sigma_b, dims=\"committing\")\n",
    "    eta = pm.Deterministic(\"eta\", theta[disadvantaged_observed] - b[committing_observed])\n",
    "\n",
    "    # Likelihood\n",
    "    y = pm.Bernoulli(\"y\", logit_p=eta, observed=foul_called_observed)"
   ]
  },
  {
   "cell_type": "markdown",
   "metadata": {},
   "source": [
    "We now plot our model to show the hierarchical structure (and the non-centered parametrisation) on the variables `theta` and `b`."
   ]
  },
  {
   "cell_type": "code",
   "execution_count": null,
   "metadata": {
    "tags": []
   },
   "outputs": [],
   "source": [
    "pm.model_to_graphviz(model)"
   ]
  },
  {
   "cell_type": "markdown",
   "metadata": {},
   "source": [
    "## Sampling and convergence\n",
    "\n",
    "We now sample from our Rasch model."
   ]
  },
  {
   "cell_type": "code",
   "execution_count": null,
   "metadata": {},
   "outputs": [],
   "source": [
    "with model:\n",
    "    trace = pm.sample(1000, tune=1500, random_seed=RANDOM_SEED)"
   ]
  },
  {
   "cell_type": "markdown",
   "metadata": {},
   "source": [
    "We plot below the energy difference of the obtained trace. Also, we assume our sampler has converged as it passed all automatic PyMC convergence checks."
   ]
  },
  {
   "cell_type": "code",
   "execution_count": null,
   "metadata": {},
   "outputs": [],
   "source": [
    "az.plot_energy(trace);"
   ]
  },
  {
   "cell_type": "markdown",
   "metadata": {},
   "source": [
    "## Posterior analysis\n",
    "### Visualisation of partial pooling\n",
    "Our first check is to plot \n",
    "- y: the difference between the raw mean probability (from the data) and the posterior mean probability for each disadvantaged and committing player\n",
    "- x: as a function of the number of observations per disadvantaged and committing player.\n",
    "\n",
    "These plots show, as expected, that the hierarchical structure of our model tends to estimate posteriors towards the global mean for players with a low amount of observations."
   ]
  },
  {
   "cell_type": "code",
   "execution_count": null,
   "metadata": {
    "tags": []
   },
   "outputs": [],
   "source": [
    "# Global posterior means of μ_theta and μ_b\n",
    "mu_theta_mean, mu_b_mean = trace.posterior[\"mu_theta\"].mean(), 0\n",
    "# Raw mean from data of each disadvantaged player\n",
    "disadvantaged_raw_mean = df.groupby(\"disadvantaged\")[\"foul_called\"].mean()\n",
    "# Raw mean from data of each committing player\n",
    "committing_raw_mean = df.groupby(\"committing\")[\"foul_called\"].mean()\n",
    "# Posterior mean of each disadvantaged player\n",
    "disadvantaged_posterior_mean = (\n",
    "    1 / (1 + np.exp(-trace.posterior[\"theta\"].mean(dim=[\"chain\", \"draw\"]))).to_pandas()\n",
    ")\n",
    "# Posterior mean of each committing player\n",
    "committing_posterior_mean = (\n",
    "    1\n",
    "    / (1 + np.exp(-(mu_theta_mean - trace.posterior[\"b\"].mean(dim=[\"chain\", \"draw\"])))).to_pandas()\n",
    ")\n",
    "\n",
    "\n",
    "# Compute difference of raw and posterior mean for each\n",
    "# disadvantaged and committing player\n",
    "def diff(a, b):\n",
    "    return a - b\n",
    "\n",
    "\n",
    "df_disadvantaged = pd.DataFrame(\n",
    "    disadvantaged_raw_mean.combine(disadvantaged_posterior_mean, diff),\n",
    "    columns=[\"Raw - posterior mean\"],\n",
    ")\n",
    "df_committing = pd.DataFrame(\n",
    "    committing_raw_mean.combine(committing_posterior_mean, diff), columns=[\"Raw - posterior mean\"]\n",
    ")\n",
    "# Add the number of observations for each disadvantaged and committing player\n",
    "df_disadvantaged = df_disadvantaged.assign(obs_disadvantaged=df[\"disadvantaged\"].value_counts())\n",
    "df_committing = df_committing.assign(obs_committing=df[\"committing\"].value_counts())\n",
    "\n",
    "# Plot the difference between raw and posterior means as a function of\n",
    "# the number of observations\n",
    "fig, (ax1, ax2) = plt.subplots(1, 2, sharey=True)\n",
    "fig.suptitle(\n",
    "    \"Difference of raw and posterior mean of player's foul call probability as \"\n",
    "    \"\\na function of the player's number of observations\\n\",\n",
    "    fontsize=15,\n",
    ")\n",
    "ax1.scatter(data=df_disadvantaged, x=\"obs_disadvantaged\", y=\"Raw - posterior mean\", s=7, marker=\"o\")\n",
    "ax1.set_title(\"theta\")\n",
    "ax1.set_ylabel(\"Raw mean - posterior mean\")\n",
    "ax1.set_xlabel(\"obs_disadvantaged\")\n",
    "ax2.scatter(data=df_committing, x=\"obs_committing\", y=\"Raw - posterior mean\", s=7)\n",
    "ax2.set_title(\"b\")\n",
    "ax2.set_xlabel(\"obs_committing\")\n",
    "plt.show()"
   ]
  },
  {
   "cell_type": "markdown",
   "metadata": {},
   "source": [
    "### Top and bottom committing and disadvantaged players \n",
    "As we successfully estimated the skills of disadvantaged (`theta`) and committing (`b`) players, we can finally check which players perform better and worse in our model.\n",
    "So we now plot our posteriors using forest plots. We plot the 10 top and bottom players ranked with respect to the latent skill `theta` and `b`, respectively."
   ]
  },
  {
   "cell_type": "code",
   "execution_count": null,
   "metadata": {},
   "outputs": [],
   "source": [
    "def order_posterior(inferencedata, var, bottom_bool):\n",
    "    xarray_ = inferencedata.posterior[var].mean(dim=[\"chain\", \"draw\"])\n",
    "    return xarray_.sortby(xarray_, ascending=bottom_bool)\n",
    "\n",
    "\n",
    "top_theta, bottom_theta = (\n",
    "    order_posterior(trace, \"theta\", False),\n",
    "    order_posterior(trace, \"theta\", True),\n",
    ")\n",
    "top_b, bottom_b = (order_posterior(trace, \"b\", False), order_posterior(trace, \"b\", True))\n",
    "\n",
    "amount = 10  # How many top players we want to display in each cathegory\n",
    "\n",
    "fig = plt.figure(figsize=(17, 14))\n",
    "fig.suptitle(\n",
    "    \"\\nPosterior estimates for top and bottom disadvantaged (theta) and \"\n",
    "    \"committing (b) players \\n(94% HDI)\\n\",\n",
    "    fontsize=25,\n",
    ")\n",
    "theta_top_ax = fig.add_subplot(221)\n",
    "b_top_ax = fig.add_subplot(222)\n",
    "theta_bottom_ax = fig.add_subplot(223, sharex=theta_top_ax)\n",
    "b_bottom_ax = fig.add_subplot(224, sharex=b_top_ax)\n",
    "\n",
    "# theta: plot top\n",
    "az.plot_forest(\n",
    "    trace,\n",
    "    var_names=[\"theta\"],\n",
    "    combined=True,\n",
    "    coords={\"disadvantaged\": top_theta[\"disadvantaged\"][:amount]},\n",
    "    ax=theta_top_ax,\n",
    "    labeller=az.labels.NoVarLabeller(),\n",
    ")\n",
    "theta_top_ax.set_title(f\"theta: top {amount}\")\n",
    "theta_top_ax.set_xlabel(\"theta\\n\")\n",
    "theta_top_ax.set_xlim(xmin=-2.5, xmax=0.1)\n",
    "theta_top_ax.vlines(mu_theta_mean, -1, amount, \"k\", \"--\", label=(\"League average\"))\n",
    "theta_top_ax.legend(loc=2)\n",
    "\n",
    "\n",
    "# theta: plot bottom\n",
    "az.plot_forest(\n",
    "    trace,\n",
    "    var_names=[\"theta\"],\n",
    "    colors=\"blue\",\n",
    "    combined=True,\n",
    "    coords={\"disadvantaged\": bottom_theta[\"disadvantaged\"][:amount]},\n",
    "    ax=theta_bottom_ax,\n",
    "    labeller=az.labels.NoVarLabeller(),\n",
    ")\n",
    "theta_bottom_ax.set_title(f\"theta: bottom {amount}\")\n",
    "theta_bottom_ax.set_xlabel(\"theta\")\n",
    "theta_bottom_ax.vlines(mu_theta_mean, -1, amount, \"k\", \"--\", label=(\"League average\"))\n",
    "theta_bottom_ax.legend(loc=2)\n",
    "\n",
    "# b: plot top\n",
    "az.plot_forest(\n",
    "    trace,\n",
    "    var_names=[\"b\"],\n",
    "    colors=\"blue\",\n",
    "    combined=True,\n",
    "    coords={\"committing\": top_b[\"committing\"][:amount]},\n",
    "    ax=b_top_ax,\n",
    "    labeller=az.labels.NoVarLabeller(),\n",
    ")\n",
    "b_top_ax.set_title(f\"b: top {amount}\")\n",
    "b_top_ax.set_xlabel(\"b\\n\")\n",
    "b_top_ax.set_xlim(xmin=-1.5, xmax=1.5)\n",
    "b_top_ax.vlines(0, -1, amount, \"k\", \"--\", label=\"League average\")\n",
    "b_top_ax.legend(loc=2)\n",
    "\n",
    "# b: plot bottom\n",
    "az.plot_forest(\n",
    "    trace,\n",
    "    var_names=[\"b\"],\n",
    "    colors=\"blue\",\n",
    "    combined=True,\n",
    "    coords={\"committing\": bottom_b[\"committing\"][:amount]},\n",
    "    ax=b_bottom_ax,\n",
    "    labeller=az.labels.NoVarLabeller(),\n",
    ")\n",
    "b_bottom_ax.set_title(f\"b: bottom {amount}\")\n",
    "b_bottom_ax.set_xlabel(\"b\")\n",
    "b_bottom_ax.vlines(0, -1, amount, \"k\", \"--\", label=\"League average\")\n",
    "b_bottom_ax.legend(loc=2)\n",
    "plt.show();"
   ]
  },
  {
   "cell_type": "markdown",
   "metadata": {},
   "source": [
    "By visiting [Austin Rochford post](https://www.austinrochford.com/posts/2017-04-04-nba-irt.html) and checking the analogous table for the Rasch model there (which uses data from the 2016-17 season),  the reader can see that several top players in both skills are still in the top 10 with our larger data set (covering seasons 2015-16 to 2020-21)."
   ]
  },
  {
   "cell_type": "markdown",
   "metadata": {
    "tags": []
   },
   "source": [
    "### Discovering extra hierarchical structure\n",
    "\n",
    "A natural question to ask is whether players skilled as disadvantaged players (i.e. players with high `theta`) are also likely to be skilled as committing players  (i.e. with high `b`), and the other way around. So, the next two plots show the `theta` (resp. `b`) score for the top players with respect to `b` ( resp.`theta`)."
   ]
  },
  {
   "cell_type": "code",
   "execution_count": null,
   "metadata": {},
   "outputs": [],
   "source": [
    "amount = 20  # How many top players we want to display\n",
    "top_theta_players = top_theta[\"disadvantaged\"][:amount].values\n",
    "top_b_players = top_b[\"committing\"][:amount].values\n",
    "\n",
    "top_theta_in_committing = set(committing).intersection(set(top_theta_players))\n",
    "top_b_in_disadvantaged = set(disadvantaged).intersection(set(top_b_players))\n",
    "if (len(top_theta_in_committing) < amount) | (len(top_b_in_disadvantaged) < amount):\n",
    "    print(\n",
    "        f\"Some players in the top {amount} for theta (or b) do not have observations for b (or theta).\\n\",\n",
    "        \"Plot not shown\",\n",
    "    )\n",
    "else:\n",
    "    fig = plt.figure(figsize=(17, 14))\n",
    "    fig.suptitle(\n",
    "        \"\\nScores as committing (b) for best disadvantaged (theta) players\"\n",
    "        \" and vice versa\"\n",
    "        \"\\n(94% HDI)\\n\",\n",
    "        fontsize=25,\n",
    "    )\n",
    "    b_top_theta = fig.add_subplot(121)\n",
    "    theta_top_b = fig.add_subplot(122)\n",
    "\n",
    "    az.plot_forest(\n",
    "        trace,\n",
    "        var_names=[\"b\"],\n",
    "        colors=\"blue\",\n",
    "        combined=True,\n",
    "        coords={\"committing\": top_theta_players},\n",
    "        figsize=(7, 7),\n",
    "        ax=b_top_theta,\n",
    "        labeller=az.labels.NoVarLabeller(),\n",
    "    )\n",
    "    b_top_theta.set_title(f\"\\nb score for top {amount} in theta\\n (94% HDI)\\n\\n\", fontsize=17)\n",
    "    b_top_theta.set_xlabel(\"b\")\n",
    "    b_top_theta.vlines(mu_b_mean, -1, amount, color=\"k\", ls=\"--\", label=\"League average\")\n",
    "    b_top_theta.legend(loc=\"upper right\", bbox_to_anchor=(0.46, 1.05))\n",
    "\n",
    "    az.plot_forest(\n",
    "        trace,\n",
    "        var_names=[\"theta\"],\n",
    "        colors=\"blue\",\n",
    "        combined=True,\n",
    "        coords={\"disadvantaged\": top_b_players},\n",
    "        figsize=(7, 7),\n",
    "        ax=theta_top_b,\n",
    "        labeller=az.labels.NoVarLabeller(),\n",
    "    )\n",
    "    theta_top_b.set_title(f\"\\ntheta score for top {amount} in b\\n (94% HDI)\\n\\n\", fontsize=17)\n",
    "    theta_top_b.set_xlabel(\"theta\")\n",
    "    theta_top_b.vlines(mu_theta_mean, -1, amount, color=\"k\", ls=\"--\", label=\"League average\")\n",
    "    theta_top_b.legend(loc=\"upper right\", bbox_to_anchor=(0.46, 1.05));"
   ]
  },
  {
   "cell_type": "markdown",
   "metadata": {},
   "source": [
    "These plots suggest that scoring high in `theta` does not correlate with high or low scores in `b`. Moreover, with a little knowledge of NBA basketball, one can visually note that a higher score in `b` is expected from players playing center or forward rather than guards or point guards. \n",
    "Given the last observation, we decide to plot a histogram for the occurrence of different positions for top disadvantaged (`theta`) and committing (`b`) players. Interestingly, we see below that the largest share of best disadvantaged players are guards, meanwhile, the largest share of best committing players are centers (and at the same time a very small share of guards)."
   ]
  },
  {
   "cell_type": "code",
   "execution_count": null,
   "metadata": {
    "tags": []
   },
   "outputs": [],
   "source": [
    "amount = 50  # How many top players we want to display\n",
    "top_theta_players = top_theta[\"disadvantaged\"][:amount].values\n",
    "top_b_players = top_b[\"committing\"][:amount].values\n",
    "\n",
    "positions = [\"C\", \"C-F\", \"F-C\", \"F\", \"G-F\", \"G\"]\n",
    "\n",
    "# Histogram of positions of top disadvantaged players\n",
    "fig = plt.figure(figsize=(8, 6))\n",
    "top_theta_position = fig.add_subplot(121)\n",
    "df_position.loc[df_position.index.isin(top_theta_players)].position.value_counts().loc[\n",
    "    positions\n",
    "].plot.bar(ax=top_theta_position, color=\"orange\", label=\"theta\")\n",
    "top_theta_position.set_title(f\"Positions of top {amount} disadvantaged (theta)\\n\", fontsize=12)\n",
    "top_theta_position.legend(loc=\"upper left\")\n",
    "\n",
    "# Histogram of positions of top committing players\n",
    "top_b_position = fig.add_subplot(122, sharey=top_theta_position)\n",
    "df_position.loc[df_position.index.isin(top_b_players)].position.value_counts().loc[\n",
    "    positions\n",
    "].plot.bar(ax=top_b_position, label=\"b\")\n",
    "top_b_position.set_title(f\"Positions of top {amount} committing (b)\\n\", fontsize=12)\n",
    "top_b_position.legend(loc=\"upper right\");"
   ]
  },
  {
   "cell_type": "markdown",
   "metadata": {},
   "source": [
    "The histograms above suggest that it might be appropriate to add a hierarchical layer to our model. Namely, group disadvantaged and committing players by the respective positions to account for the role of position in evaluating the latent skills `theta` and `b`. This can be done in our Rasch model by imposing mean and variance hyperpriors for each player grouped by the positions, which is left as an exercise for the reader. To this end, notice that the dataframe `df_orig` is set up precisely to add this hierarchical structure. Have fun!\n",
    "\n",
    "A warm thank you goes to [Eric Ma](https://github.com/ericmjl) for many useful comments that improved this notebook."
   ]
  },
  {
   "cell_type": "markdown",
   "metadata": {
    "tags": []
   },
   "source": [
    "## Authors\n",
    " \n",
    "* Adapted from Austin Rochford's [blogpost on NBA Foul Calls and Bayesian Item Response Theory](https://www.austinrochford.com/posts/2017-04-04-nba-irt.html) by [Lorenzo Toniazzi](https://github.com/ltoniazzi) on  3 Jul 2021 ([PR181](https://github.com/pymc-devs/pymc-examples/pull/181))\n",
    "* Re-executed by [Michael Osthege](https://github.com/michaelosthege) on  10 Jan 2022 ([PR266](https://github.com/pymc-devs/pymc-examples/pull/266))\n",
    "* Updated by [Lorenzo Toniazzi](https://github.com/ltoniazzi) on  25 Apr 2022 ([PR309](https://github.com/pymc-devs/pymc-examples/pull/309))"
   ]
  },
  {
   "cell_type": "markdown",
   "metadata": {},
   "source": [
    "## References\n",
    "\n",
    ":::{bibliography}\n",
    ":filter: docname in docnames\n",
    ":::"
   ]
  },
  {
   "cell_type": "markdown",
   "metadata": {},
   "source": [
    "## Watermark"
   ]
  },
  {
   "cell_type": "code",
   "execution_count": null,
   "metadata": {
    "tags": []
   },
   "outputs": [],
   "source": [
    "%load_ext watermark\n",
    "%watermark -n -u -v -iv -w -p pytensor,aeppl,xarray"
   ]
  },
  {
   "cell_type": "markdown",
   "metadata": {},
   "source": [
    ":::{include} ../page_footer.md\n",
    ":::"
   ]
  }
 ],
 "metadata": {
  "kernelspec": {
   "display_name": "Python 3 (ipykernel)",
   "language": "python",
   "name": "python3"
  },
  "language_info": {
   "codemirror_mode": {
    "name": "ipython",
    "version": 3
   },
   "file_extension": ".py",
   "mimetype": "text/x-python",
   "name": "python",
   "nbconvert_exporter": "python",
   "pygments_lexer": "ipython3",
   "version": "3.9.12"
  }
 },
 "nbformat": 4,
 "nbformat_minor": 4
}
