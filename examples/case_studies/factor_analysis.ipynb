{
 "cells": [
  {
   "cell_type": "markdown",
   "metadata": {},
   "source": [
    "(factor_analysis)=\n",
    "# Factor analysis\n",
    "\n",
    ":::{post} 19 Mar, 2022\n",
    ":tags: factor analysis, matrix factorization, PCA \n",
    ":category: advanced, how-to\n",
    ":author: Chris Hartl,  Christopher Krapu, Oriol Abril-Pla, Erik Werner\n",
    ":::"
   ]
  },
  {
   "cell_type": "markdown",
   "metadata": {},
   "source": [
    "Factor analysis is a widely used probabilistic model for identifying low-rank structure in multivariate data as encoded in latent variables. It is very closely related to principal components analysis, and differs only in the prior distributions assumed for these latent variables. It is also a good example of a linear Gaussian model as it can be described entirely as a linear transformation of underlying Gaussian variates. For a high-level view of how factor analysis relates to other models, you can check out [this diagram](https://www.cs.ubc.ca/~murphyk/Bayes/Figures/gmka.gif) originally published by Ghahramani and Roweis."
   ]
  },
  {
   "cell_type": "markdown",
   "metadata": {},
   "source": [
    ":::{include} ../extra_installs.md\n",
    ":::"
   ]
  },
  {
   "cell_type": "code",
   "execution_count": null,
   "metadata": {},
   "outputs": [],
   "source": [
    "import arviz as az\n",
    "import numpy as np\n",
    "import pymc as pm\n",
    "import pytensor.tensor as pt\n",
    "import scipy as sp\n",
    "import seaborn as sns\n",
    "import xarray as xr\n",
    "\n",
    "from matplotlib import pyplot as plt\n",
    "from matplotlib.lines import Line2D\n",
    "from numpy.random import default_rng\n",
    "from xarray_einstats import linalg\n",
    "from xarray_einstats.stats import XrContinuousRV\n",
    "\n",
    "print(f\"Running on PyMC v{pm.__version__}\")"
   ]
  },
  {
   "cell_type": "code",
   "execution_count": null,
   "metadata": {},
   "outputs": [],
   "source": [
    "%config InlineBackend.figure_format = 'retina'\n",
    "az.style.use(\"arviz-darkgrid\")\n",
    "\n",
    "np.set_printoptions(precision=3, suppress=True)\n",
    "RANDOM_SEED = 31415\n",
    "rng = default_rng(RANDOM_SEED)"
   ]
  },
  {
   "cell_type": "markdown",
   "metadata": {},
   "source": [
    "## Simulated data generation"
   ]
  },
  {
   "cell_type": "markdown",
   "metadata": {},
   "source": [
    "To work through a few examples, we'll first generate some data. The data will not follow the exact generative process assumed by the factor analysis model, as the latent variates will not be Gaussian. We'll assume that we have an observed data set with $N$ rows and $d$ columns which are actually a noisy linear function of $k_{true}$ latent variables."
   ]
  },
  {
   "cell_type": "code",
   "execution_count": null,
   "metadata": {},
   "outputs": [],
   "source": [
    "n = 250\n",
    "k_true = 4\n",
    "d = 10"
   ]
  },
  {
   "cell_type": "markdown",
   "metadata": {},
   "source": [
    "The next code cell generates the data via creating latent variable arrays `M` and linear transformation `Q`. Then, the matrix product $QM$ is perturbed with additive Gaussian noise controlled by the variance parameter `err_sd`."
   ]
  },
  {
   "cell_type": "code",
   "execution_count": null,
   "metadata": {},
   "outputs": [],
   "source": [
    "err_sd = 2\n",
    "M = rng.binomial(1, 0.25, size=(k_true, n))\n",
    "Q = np.hstack([rng.exponential(2 * k_true - k, size=(d, 1)) for k in range(k_true)]) * rng.binomial(\n",
    "    1, 0.75, size=(d, k_true)\n",
    ")\n",
    "Y = np.round(1000 * Q @ M + rng.standard_normal(size=(d, n)) * err_sd) / 1000"
   ]
  },
  {
   "cell_type": "markdown",
   "metadata": {},
   "source": [
    "Because of the way we have generated the data, the covariance matrix expressing correlations between columns of $Y$ will be equal to $QQ^T$. The fundamental assumption of PCA and factor analysis is that $QQ^T$ is not full rank. We can see hints of this if we plot the covariance matrix:"
   ]
  },
  {
   "cell_type": "code",
   "execution_count": null,
   "metadata": {},
   "outputs": [],
   "source": [
    "plt.figure(figsize=(4, 3))\n",
    "sns.heatmap(np.corrcoef(Y));"
   ]
  },
  {
   "cell_type": "markdown",
   "metadata": {},
   "source": [
    "If you squint long enough, you may be able to glimpse a few places where distinct columns are likely linear functions of each other."
   ]
  },
  {
   "cell_type": "markdown",
   "metadata": {},
   "source": [
    "## Model\n",
    "Probabilistic PCA (PPCA) and factor analysis (FA) are a common source of topics on [PyMC Discourse](https://discourse.pymc.io/). The posts linked below handle different aspects of the problem including:\n",
    "* [Minibatched FA for large datasets](https://discourse.pymc.io/t/large-scale-factor-analysis-with-minibatch-advi/246)\n",
    "* [Handling missing data in FA](https://discourse.pymc.io/t/dealing-with-missing-data/252)\n",
    "* [Identifiability in FA / PPCA](https://discourse.pymc.io/t/unique-solution-for-probabilistic-pca/1324/14)"
   ]
  },
  {
   "cell_type": "markdown",
   "metadata": {},
   "source": [
    "### Direct implementation"
   ]
  },
  {
   "cell_type": "markdown",
   "metadata": {},
   "source": [
    "The model for factor analysis is the probabilistic matrix factorization\n",
    "\n",
    "$X_{(d,n)}|W_{(d,k)}, F_{(k,n)} \\sim \\mathcal{N}(WF, \\Psi)$\n",
    "\n",
    "with $\\Psi$ a diagonal matrix. Subscripts denote the dimensionality of the matrices. Probabilistic PCA is a variant that sets $\\Psi = \\sigma^2 I$. A basic implementation (taken from [this gist](https://gist.github.com/twiecki/c95578a6539d2098be2d83575e3d15fe)) is shown in the next cell. Unfortunately, it has undesirable properties for model fitting."
   ]
  },
  {
   "cell_type": "code",
   "execution_count": null,
   "metadata": {},
   "outputs": [],
   "source": [
    "k = 2\n",
    "\n",
    "coords = {\"latent_columns\": np.arange(k), \"rows\": np.arange(n), \"observed_columns\": np.arange(d)}\n",
    "\n",
    "with pm.Model(coords=coords) as PPCA:\n",
    "    W = pm.Normal(\"W\", dims=(\"observed_columns\", \"latent_columns\"))\n",
    "    F = pm.Normal(\"F\", dims=(\"latent_columns\", \"rows\"))\n",
    "    sigma = pm.HalfNormal(\"sigma\", 1.0)\n",
    "    X = pm.Normal(\"X\", mu=W @ F, sigma=sigma, observed=Y, dims=(\"observed_columns\", \"rows\"))\n",
    "\n",
    "    trace = pm.sample(tune=2000, random_seed=rng)  # target_accept=0.9"
   ]
  },
  {
   "cell_type": "markdown",
   "metadata": {},
   "source": [
    "At this point, there are already several warnings regarding failed convergence checks. We can see further problems in the trace plot below. This plot shows the path taken by each sampler chain for a single entry in the matrix $W$ as well as the average evaluated over samples for each chain."
   ]
  },
  {
   "cell_type": "code",
   "execution_count": null,
   "metadata": {},
   "outputs": [],
   "source": [
    "for i in trace.posterior.chain.values:\n",
    "    samples = trace.posterior[\"W\"].sel(chain=i, observed_columns=3, latent_columns=1)\n",
    "    plt.plot(samples, label=\"Chain {}\".format(i + 1))\n",
    "    plt.axhline(samples.mean(), color=f\"C{i}\")\n",
    "plt.legend(ncol=4, loc=\"upper center\", fontsize=12, frameon=True), plt.xlabel(\"Sample\");"
   ]
  },
  {
   "cell_type": "markdown",
   "metadata": {},
   "source": [
    "Each chain appears to have a different sample mean and we can also see that there is a great deal of autocorrelation across chains, manifest as long-range trends over sampling iterations.\n",
    "\n",
    "One of the primary drawbacks for this model formulation is its lack of identifiability. With this model representation, only the product $WF$ matters for the likelihood of $X$, so $P(X|W, F) = P(X|W\\Omega, \\Omega^{-1}F)$ for any invertible matrix $\\Omega$. While the priors on $W$ and $F$ constrain $|\\Omega|$ to be neither too large or too small, factors and loadings can still be rotated, reflected, and/or permuted *without changing the model likelihood*. Expect it to happen between runs of the sampler, or even for the parametrization to \"drift\" within run, and to produce the highly autocorrelated $W$ traceplot above.\n",
    "\n",
    "### Alternative parametrization\n",
    "\n",
    "This can be fixed by constraining the form of W to be:\n",
    "  + Lower triangular\n",
    "  + Positive and increasing values along the diagonal\n",
    "\n",
    "We can adapt `expand_block_triangular` to fill out a non-square matrix. This function mimics `pm.expand_packed_triangular`, but while the latter only works on packed versions of square matrices (i.e. $d=k$ in our model, the former can also be used with nonsquare matrices."
   ]
  },
  {
   "cell_type": "code",
   "execution_count": null,
   "metadata": {},
   "outputs": [],
   "source": [
    "def expand_packed_block_triangular(d, k, packed, diag=None, mtype=\"pytensor\"):\n",
    "    # like expand_packed_triangular, but with d > k.\n",
    "    assert mtype in {\"pytensor\", \"numpy\"}\n",
    "    assert d >= k\n",
    "\n",
    "    def set_(M, i_, v_):\n",
    "        if mtype == \"pytensor\":\n",
    "            return pt.set_subtensor(M[i_], v_)\n",
    "        M[i_] = v_\n",
    "        return M\n",
    "\n",
    "    out = pt.zeros((d, k), dtype=float) if mtype == \"pytensor\" else np.zeros((d, k), dtype=float)\n",
    "    if diag is None:\n",
    "        idxs = np.tril_indices(d, m=k)\n",
    "        out = set_(out, idxs, packed)\n",
    "    else:\n",
    "        idxs = np.tril_indices(d, k=-1, m=k)\n",
    "        out = set_(out, idxs, packed)\n",
    "        idxs = (np.arange(k), np.arange(k))\n",
    "        out = set_(out, idxs, diag)\n",
    "    return out"
   ]
  },
  {
   "cell_type": "markdown",
   "metadata": {},
   "source": [
    "We'll also define another function which helps create a diagonal matrix with increasing entries along the main diagonal."
   ]
  },
  {
   "cell_type": "code",
   "execution_count": null,
   "metadata": {},
   "outputs": [],
   "source": [
    "def makeW(d, k, dim_names):\n",
    "    # make a W matrix adapted to the data shape\n",
    "    n_od = int(k * d - k * (k - 1) / 2 - k)\n",
    "\n",
    "    # trick: the cumulative sum of z will be positive increasing\n",
    "    z = pm.HalfNormal(\"W_z\", 1.0, dims=\"latent_columns\")\n",
    "    b = pm.Normal(\"W_b\", 0.0, 1.0, shape=(n_od,), dims=\"packed_dim\")\n",
    "    L = expand_packed_block_triangular(d, k, b, pt.ones(k))\n",
    "    W = pm.Deterministic(\"W\", L @ pt.diag(pt.extra_ops.cumsum(z)), dims=dim_names)\n",
    "    return W"
   ]
  },
  {
   "cell_type": "markdown",
   "metadata": {},
   "source": [
    "With these modifications, we remake the model and run the MCMC sampler again."
   ]
  },
  {
   "cell_type": "code",
   "execution_count": null,
   "metadata": {},
   "outputs": [],
   "source": [
    "with pm.Model(coords=coords) as PPCA_identified:\n",
    "    W = makeW(d, k, (\"observed_columns\", \"latent_columns\"))\n",
    "    F = pm.Normal(\"F\", dims=(\"latent_columns\", \"rows\"))\n",
    "    sigma = pm.HalfNormal(\"sigma\", 1.0)\n",
    "    X = pm.Normal(\"X\", mu=W @ F, sigma=sigma, observed=Y, dims=(\"observed_columns\", \"rows\"))\n",
    "    trace = pm.sample(tune=2000, random_seed=rng)  # target_accept=0.9\n",
    "\n",
    "for i in range(4):\n",
    "    samples = trace.posterior[\"W\"].sel(chain=i, observed_columns=3, latent_columns=1)\n",
    "    plt.plot(samples, label=\"Chain {}\".format(i + 1))\n",
    "\n",
    "plt.legend(ncol=4, loc=\"lower center\", fontsize=8), plt.xlabel(\"Sample\");"
   ]
  },
  {
   "cell_type": "markdown",
   "metadata": {},
   "source": [
    "$W$ (and $F$!) now have entries with identical posterior distributions as compared between sampler chains, although it's apparent that some autocorrelation remains.\n",
    "\n",
    "Because the $k \\times n$ parameters in F all need to be sampled, sampling can become quite expensive for very large `n`. In addition, the link between an observed data point $X_i$ and an associated latent value $F_i$ means that streaming inference with mini-batching cannot be performed.\n",
    "\n",
    "This scalability problem can be addressed analytically by integrating $F$ out of the model. By doing so, we postpone any calculation for individual values of $F_i$ until later. Hence, this approach is often described as *amortized inference*. However, this fixes the prior on $F$, allowing for less modeling flexibility. In keeping with $F_{ij} \\sim \\mathcal{N}(0, I)$ we have:\n",
    "\n",
    "$X|WF \\sim \\mathcal{N}(WF, \\sigma^2 I).$\n",
    "\n",
    "We can therefore write $X$ as\n",
    "\n",
    "$X = WF + \\sigma I \\epsilon,$\n",
    "\n",
    "where $\\epsilon \\sim \\mathcal{N}(0, I)$.\n",
    "Fixing $W$ but treating $F$ and $\\epsilon$ as random variables, both $\\sim\\mathcal{N}(0, I)$, we see that $X$ is the sum of two multivariate normal variables, with means $0$ and covariances $WW^T$ and $\\sigma^2 I$, respectively. It follows that\n",
    "\n",
    "$X|W \\sim \\mathcal{N}(0, WW^T + \\sigma^2 I )$."
   ]
  },
  {
   "cell_type": "code",
   "execution_count": null,
   "metadata": {},
   "outputs": [],
   "source": [
    "with pm.Model(coords=coords) as PPCA_amortized:\n",
    "    W = makeW(d, k, (\"observed_columns\", \"latent_columns\"))\n",
    "    sigma = pm.HalfNormal(\"sigma\", 1.0)\n",
    "    cov = W @ W.T + sigma**2 * pt.eye(d)\n",
    "    # MvNormal parametrizes covariance of columns, so transpose Y\n",
    "    X = pm.MvNormal(\"X\", 0.0, cov=cov, observed=Y.T, dims=(\"rows\", \"observed_columns\"))\n",
    "    trace_amortized = pm.sample(tune=30, draws=100, random_seed=rng)"
   ]
  },
  {
   "cell_type": "markdown",
   "metadata": {},
   "source": [
    "Unfortunately sampling of this model is very slow, presumably because calculating the logprob of the `MvNormal` requires inverting the covariance matrix. However, the explicit integration of $F$ also enables batching the observations for faster computation of `ADVI` and `FullRankADVI` approximations."
   ]
  },
  {
   "cell_type": "code",
   "execution_count": null,
   "metadata": {},
   "outputs": [],
   "source": [
    "coords[\"observed_columns2\"] = coords[\"observed_columns\"]\n",
    "with pm.Model(coords=coords) as PPCA_amortized_batched:\n",
    "    W = makeW(d, k, (\"observed_columns\", \"latent_columns\"))\n",
    "    Y_mb = pm.Minibatch(\n",
    "        Y.T, batch_size=50\n",
    "    )  # MvNormal parametrizes covariance of columns, so transpose Y\n",
    "    sigma = pm.HalfNormal(\"sigma\", 1.0)\n",
    "    cov = W @ W.T + sigma**2 * pt.eye(d)\n",
    "    X = pm.MvNormal(\"X\", 0.0, cov=cov, observed=Y_mb)\n",
    "    trace_vi = pm.fit(n=50000, method=\"fullrank_advi\", obj_n_mc=1).sample()"
   ]
  },
  {
   "cell_type": "markdown",
   "metadata": {},
   "source": [
    "## Results\n",
    "When we compare the posteriors calculated using MCMC and VI, we find that (for at least this specific parameter we are looking at) the two distributions are close, but they do differ in their mean. The two MCMC posteriors agree with each other quite well with each other and the ADVI estimate is not far off."
   ]
  },
  {
   "cell_type": "code",
   "execution_count": null,
   "metadata": {},
   "outputs": [],
   "source": [
    "col_selection = dict(observed_columns=3, latent_columns=1)\n",
    "\n",
    "ax = az.plot_kde(\n",
    "    trace.posterior[\"W\"].sel(**col_selection).values,\n",
    "    label=\"MCMC posterior for the explicit model\".format(0),\n",
    "    plot_kwargs={\"color\": f\"C{1}\"},\n",
    ")\n",
    "\n",
    "az.plot_kde(\n",
    "    trace_amortized.posterior[\"W\"].sel(**col_selection).values,\n",
    "    label=\"MCMC posterior for amortized inference\",\n",
    "    plot_kwargs={\"color\": f\"C{2}\", \"linestyle\": \"--\"},\n",
    ")\n",
    "\n",
    "\n",
    "az.plot_kde(\n",
    "    trace_vi.posterior[\"W\"].sel(**col_selection).squeeze().values,\n",
    "    label=\"FR-ADVI posterior for amortized inference\",\n",
    "    plot_kwargs={\"alpha\": 0},\n",
    "    fill_kwargs={\"alpha\": 0.5, \"color\": f\"C{0}\"},\n",
    ")\n",
    "\n",
    "\n",
    "ax.set_title(rf\"PDFs of $W$ estimate at {col_selection}\")\n",
    "ax.legend(loc=\"upper left\", fontsize=10);"
   ]
  },
  {
   "cell_type": "markdown",
   "metadata": {},
   "source": [
    "### Post-hoc identification of F\n",
    "\n",
    "The matrix $F$ is typically of interest for factor analysis, and is often used as a feature matrix for dimensionality reduction. However, $F$ has been\n",
    "marginalized away in order to make fitting the model easier; and now we need it back. Transforming\n",
    "\n",
    "$X|WF \\sim \\mathcal{N}(WF, \\sigma^2)$\n",
    "\n",
    "into\n",
    "\n",
    "$(W^TW)^{-1}W^T X|W,F \\sim \\mathcal{N}(F, \\sigma^2(W^TW)^{-1})$\n",
    "\n",
    "we have represented $F$ as the mean of a multivariate normal distribution with a known covariance matrix. Using the prior $ F \\sim \\mathcal{N}(0, I) $ and updating according to the expression for the [conjugate prior](https://en.wikipedia.org/wiki/Conjugate_prior), we find\n",
    "\n",
    "$ F | X, W \\sim \\mathcal{N}(\\mu_F, \\Sigma_F) $,\n",
    "\n",
    "where\n",
    "\n",
    "$\\mu_F = \\left(I + \\sigma^{-2} W^T W\\right)^{-1} \\sigma^{-2} W^T X$\n",
    "\n",
    "$\\Sigma_F = \\left(I + \\sigma^{-2} W^T W\\right)^{-1}$"
   ]
  },
  {
   "cell_type": "markdown",
   "metadata": {},
   "source": [
    "For each value of $W$ and $X$ found in the trace, we now draw a sample from this distribution."
   ]
  },
  {
   "cell_type": "code",
   "execution_count": null,
   "metadata": {},
   "outputs": [],
   "source": [
    "# configure xarray-einstats\n",
    "def get_default_dims(dims, dims2):\n",
    "    proposed_dims = [dim for dim in dims if dim not in {\"chain\", \"draw\"}]\n",
    "    assert len(proposed_dims) == 2\n",
    "    if dims2 is None:\n",
    "        return proposed_dims\n",
    "\n",
    "\n",
    "linalg.get_default_dims = get_default_dims"
   ]
  },
  {
   "cell_type": "code",
   "execution_count": null,
   "metadata": {},
   "outputs": [],
   "source": [
    "post = trace_vi.posterior\n",
    "obs = trace.observed_data\n",
    "\n",
    "WW = linalg.matmul(\n",
    "    post[\"W\"], post[\"W\"], dims=(\"latent_columns\", \"observed_columns\", \"latent_columns\")\n",
    ")\n",
    "\n",
    "# Constructing an identity matrix following https://einstats.python.arviz.org/en/latest/tutorials/np_linalg_tutorial_port.html\n",
    "I = xr.zeros_like(WW)\n",
    "idx = xr.DataArray(WW.coords[\"latent_columns\"])\n",
    "I.loc[{\"latent_columns\": idx, \"latent_columns2\": idx}] = 1\n",
    "Sigma_F = linalg.inv(I + post[\"sigma\"] ** (-2) * WW)\n",
    "X_transform = linalg.matmul(\n",
    "    Sigma_F,\n",
    "    post[\"sigma\"] ** (-2) * post[\"W\"],\n",
    "    dims=(\"latent_columns2\", \"latent_columns\", \"observed_columns\"),\n",
    ")\n",
    "mu_F = xr.dot(X_transform, obs[\"X\"], dims=\"observed_columns\").rename(\n",
    "    latent_columns2=\"latent_columns\"\n",
    ")\n",
    "Sigma_chol = linalg.cholesky(Sigma_F)\n",
    "norm_dist = XrContinuousRV(sp.stats.norm, xr.zeros_like(mu_F))  # the zeros_like defines the shape\n",
    "F_sampled = mu_F + linalg.matmul(\n",
    "    post[\"sigma\"] * Sigma_F,\n",
    "    norm_dist.rvs(),\n",
    "    dims=((\"latent_columns\", \"latent_columns2\"), (\"latent_columns\", \"rows\")),\n",
    ")"
   ]
  },
  {
   "cell_type": "markdown",
   "metadata": {},
   "source": [
    "### Comparison to original data\n",
    "\n",
    "To check how well our model has captured the original data, we will test how well we can reconstruct it from the sampled $W$ and $F$ matrices. For each element of $Y$ we plot the mean and standard deviation of $X = W F$, which is the reconstructed value based on our model."
   ]
  },
  {
   "cell_type": "code",
   "execution_count": null,
   "metadata": {},
   "outputs": [],
   "source": [
    "X_sampled_amortized = linalg.matmul(\n",
    "    post[\"W\"],\n",
    "    F_sampled,\n",
    "    dims=(\"observed_columns\", \"latent_columns\", \"rows\"),\n",
    ")\n",
    "reconstruction_mean = X_sampled_amortized.mean(dim=(\"chain\", \"draw\")).values\n",
    "reconstruction_sd = X_sampled_amortized.std(dim=(\"chain\", \"draw\")).values\n",
    "plt.errorbar(\n",
    "    Y.ravel(),\n",
    "    reconstruction_mean.ravel(),\n",
    "    yerr=reconstruction_sd.ravel(),\n",
    "    marker=\".\",\n",
    "    ls=\"none\",\n",
    "    alpha=0.3,\n",
    ")\n",
    "\n",
    "slope, intercept, r_value, p_value, std_err = sp.stats.linregress(\n",
    "    Y.ravel(), reconstruction_mean.ravel()\n",
    ")\n",
    "plt.plot(\n",
    "    [Y.min(), Y.max()],\n",
    "    np.array([Y.min(), Y.max()]) * slope + intercept,\n",
    "    \"k--\",\n",
    "    label=f\"Linear regression for the mean, R²={r_value**2:.2f}\",\n",
    ")\n",
    "plt.plot([Y.min(), Y.max()], [Y.min(), Y.max()], \"k:\", label=\"Perfect reconstruction\")\n",
    "\n",
    "plt.xlabel(\"Elements of Y\")\n",
    "plt.ylabel(\"Model reconstruction\")\n",
    "plt.legend(loc=\"upper left\");"
   ]
  },
  {
   "cell_type": "markdown",
   "metadata": {},
   "source": [
    "We find that our model does a decent job of capturing the variation in the original data, despite only using two latent factors instead of the actual four."
   ]
  },
  {
   "cell_type": "markdown",
   "metadata": {},
   "source": [
    "## Authors\n",
    "* Authored by [chartl](https://github.com/chartl) on May 6, 2019\n",
    "* Updated by [Christopher Krapu](https://github.com/ckrapu) on April 4, 2021\n",
    "* Updated by Oriol Abril-Pla to use PyMC v4 and xarray-einstats on March, 2022\n",
    "* Updated by Erik Werner on Dec, 2023 ([pymc-examples#612](https://github.com/pymc-devs/pymc-examples/pull/612))"
   ]
  },
  {
   "cell_type": "markdown",
   "metadata": {},
   "source": [
    "## Watermark"
   ]
  },
  {
   "cell_type": "code",
   "execution_count": null,
   "metadata": {},
   "outputs": [],
   "source": [
    "%load_ext watermark\n",
    "%watermark -n -u -v -iv -w"
   ]
  },
  {
   "cell_type": "markdown",
   "metadata": {},
   "source": [
    ":::{include} ../page_footer.md\n",
    ":::"
   ]
  }
 ],
 "metadata": {
  "jupytext": {
   "notebook_metadata_filter": "substitutions"
  },
  "kernelspec": {
   "display_name": "Python 3 (ipykernel)",
   "language": "python",
   "name": "python3"
  },
  "language_info": {
   "codemirror_mode": {
    "name": "ipython",
    "version": 3
   },
   "file_extension": ".py",
   "mimetype": "text/x-python",
   "name": "python",
   "nbconvert_exporter": "python",
   "pygments_lexer": "ipython3",
   "version": "3.11.7"
  },
  "myst": {
   "substitutions": {
    "extra_dependencies": "seaborn"
   }
  }
 },
 "nbformat": 4,
 "nbformat_minor": 4
}
