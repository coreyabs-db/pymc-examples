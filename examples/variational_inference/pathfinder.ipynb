{
 "cells": [
  {
   "cell_type": "markdown",
   "id": "5be5c73d",
   "metadata": {},
   "source": [
    "(pathfinder)=\n",
    "\n",
    "# Pathfinder Variational Inference\n",
    "\n",
    ":::{post} Feb 5, 2023 \n",
    ":tags: variational inference, jax \n",
    ":category: advanced, how-to\n",
    ":author: Thomas Wiecki\n",
    ":::"
   ]
  },
  {
   "cell_type": "markdown",
   "id": "8c09866a",
   "metadata": {},
   "source": [
    "Pathfinder {cite:p}`zhang2021pathfinder` is a variational inference algorithm that produces samples from the posterior of a Bayesian model. It compares favorably to the widely used ADVI algorithm. On large problems, it should scale better than most MCMC algorithms, including dynamic HMC (i.e. NUTS), at the cost of a more biased estimate of the posterior. For details on the algorithm, see the [arxiv preprint](https://arxiv.org/abs/2108.03782).\n",
    "\n",
    "This algorithm is [implemented](https://github.com/blackjax-devs/blackjax/pull/194) in [BlackJAX](https://github.com/blackjax-devs/blackjax), a library of inference algorithms for [JAX](https://github.com/google/jax). Through PyMC's JAX-backend (through [pytensor](https://github.com/pytensor-devs/pytensor)) we can run BlackJAX's pathfinder on any PyMC model with some simple wrapper code.\n",
    "\n",
    "This wrapper code is implemented in [pymc-experimental](https://github.com/pymc-devs/pymc-experimental/). This tutorial shows how to run Pathfinder on your PyMC model.\n",
    "\n",
    "You first need to install `pymc-experimental`:\n",
    "\n",
    "`pip install git+https://github.com/pymc-devs/pymc-experimental`\n",
    "\n",
    "Instructions for installing other packages:  \n",
    "- [jax](https://github.com/google/jax#installation)\n",
    "- [blackjax](https://pypi.org/project/blackjax/)"
   ]
  },
  {
   "cell_type": "code",
   "execution_count": null,
   "id": "b956d9c7",
   "metadata": {
    "execution": {
     "iopub.execute_input": "2024-07-18T02:13:22.046136Z",
     "iopub.status.busy": "2024-07-18T02:13:22.046035Z",
     "iopub.status.idle": "2024-07-18T02:13:23.486585Z",
     "shell.execute_reply": "2024-07-18T02:13:23.486062Z"
    }
   },
   "outputs": [],
   "source": [
    "import arviz as az\n",
    "import matplotlib.pyplot as plt\n",
    "import numpy as np\n",
    "import pymc as pm\n",
    "import pymc_experimental as pmx\n",
    "\n",
    "print(f\"Running on PyMC v{pm.__version__}\")"
   ]
  },
  {
   "cell_type": "markdown",
   "id": "d1e3e470",
   "metadata": {},
   "source": [
    "First, define your PyMC model. Here, we use the 8-schools model."
   ]
  },
  {
   "cell_type": "code",
   "execution_count": null,
   "id": "e33b0d7f",
   "metadata": {
    "execution": {
     "iopub.execute_input": "2024-07-18T02:13:23.488416Z",
     "iopub.status.busy": "2024-07-18T02:13:23.488193Z",
     "iopub.status.idle": "2024-07-18T02:13:23.500577Z",
     "shell.execute_reply": "2024-07-18T02:13:23.500038Z"
    }
   },
   "outputs": [],
   "source": [
    "# Data of the Eight Schools Model\n",
    "J = 8\n",
    "y = np.array([28.0, 8.0, -3.0, 7.0, -1.0, 1.0, 18.0, 12.0])\n",
    "sigma = np.array([15.0, 10.0, 16.0, 11.0, 9.0, 11.0, 10.0, 18.0])\n",
    "\n",
    "with pm.Model() as model:\n",
    "    mu = pm.Normal(\"mu\", mu=0.0, sigma=10.0)\n",
    "    tau = pm.HalfCauchy(\"tau\", 5.0)\n",
    "\n",
    "    z = pm.Normal(\"z\", mu=0, sigma=1, shape=J)\n",
    "    theta = mu + tau * z\n",
    "    obs = pm.Normal(\"obs\", mu=theta, sigma=sigma, shape=J, observed=y)"
   ]
  },
  {
   "cell_type": "markdown",
   "id": "1d8bf2fe",
   "metadata": {},
   "source": [
    "Next, we call `pmx.fit()` and pass in the algorithm we want it to use."
   ]
  },
  {
   "cell_type": "code",
   "execution_count": null,
   "id": "22d7745d",
   "metadata": {
    "execution": {
     "iopub.execute_input": "2024-07-18T02:13:23.502587Z",
     "iopub.status.busy": "2024-07-18T02:13:23.502487Z",
     "iopub.status.idle": "2024-07-18T02:13:28.385826Z",
     "shell.execute_reply": "2024-07-18T02:13:28.385293Z"
    }
   },
   "outputs": [],
   "source": [
    "with model:\n",
    "    idata = pmx.fit(method=\"pathfinder\", num_samples=1000)"
   ]
  },
  {
   "cell_type": "markdown",
   "id": "d35bebf2",
   "metadata": {},
   "source": [
    "Just like `pymc.sample()`, this returns an idata with samples from the posterior. Note that because these samples do not come from an MCMC chain, convergence can not be assessed in the regular way."
   ]
  },
  {
   "cell_type": "code",
   "execution_count": null,
   "id": "2e7828f7",
   "metadata": {
    "execution": {
     "iopub.execute_input": "2024-07-18T02:13:28.387501Z",
     "iopub.status.busy": "2024-07-18T02:13:28.387293Z",
     "iopub.status.idle": "2024-07-18T02:13:28.720680Z",
     "shell.execute_reply": "2024-07-18T02:13:28.720339Z"
    }
   },
   "outputs": [],
   "source": [
    "az.plot_trace(idata)\n",
    "plt.tight_layout();"
   ]
  },
  {
   "cell_type": "markdown",
   "id": "e40c4760",
   "metadata": {},
   "source": [
    "## References\n",
    "\n",
    ":::{bibliography}\n",
    ":filter: docname in docnames\n",
    ":::"
   ]
  },
  {
   "cell_type": "markdown",
   "id": "61645596",
   "metadata": {},
   "source": [
    "## Authors\n",
    "\n",
    "* Authored by Thomas Wiecki on Oct 11 2022 ([pymc-examples#429](https://github.com/pymc-devs/pymc-examples/pull/429))\n",
    "* Re-execute notebook by Reshama Shaikh on Feb 5, 2023\n",
    "* Bug fix by Chris Fonnesbeck on Jul 17, 2024"
   ]
  },
  {
   "cell_type": "markdown",
   "id": "54a072fa",
   "metadata": {},
   "source": [
    "## Watermark"
   ]
  },
  {
   "cell_type": "code",
   "execution_count": null,
   "id": "6d638c61",
   "metadata": {
    "execution": {
     "iopub.execute_input": "2024-07-18T02:13:28.722448Z",
     "iopub.status.busy": "2024-07-18T02:13:28.722352Z",
     "iopub.status.idle": "2024-07-18T02:13:28.729376Z",
     "shell.execute_reply": "2024-07-18T02:13:28.728969Z"
    }
   },
   "outputs": [],
   "source": [
    "%load_ext watermark\n",
    "%watermark -n -u -v -iv -w -p xarray"
   ]
  },
  {
   "cell_type": "markdown",
   "id": "b0b071f5",
   "metadata": {},
   "source": [
    ":::{include} ../page_footer.md\n",
    ":::"
   ]
  }
 ],
 "metadata": {
  "kernelspec": {
   "display_name": "Python 3 (ipykernel)",
   "language": "python",
   "name": "python3"
  },
  "language_info": {
   "codemirror_mode": {
    "name": "ipython",
    "version": 3
   },
   "file_extension": ".py",
   "mimetype": "text/x-python",
   "name": "python",
   "nbconvert_exporter": "python",
   "pygments_lexer": "ipython3",
   "version": "3.11.9"
  }
 },
 "nbformat": 4,
 "nbformat_minor": 5
}
