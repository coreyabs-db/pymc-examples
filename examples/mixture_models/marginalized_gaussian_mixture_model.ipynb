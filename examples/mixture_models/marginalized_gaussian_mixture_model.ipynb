{
 "cells": [
  {
   "cell_type": "markdown",
   "metadata": {
    "papermill": {
     "duration": 0.012112,
     "end_time": "2020-12-20T20:45:32.375345",
     "exception": false,
     "start_time": "2020-12-20T20:45:32.363233",
     "status": "completed"
    },
    "tags": []
   },
   "source": [
    "# Marginalized Gaussian Mixture Model\n",
    "\n",
    ":::{post} Sept 18, 2021\n",
    ":tags: mixture model, \n",
    ":category: intermediate\n",
    ":::"
   ]
  },
  {
   "cell_type": "code",
   "execution_count": null,
   "metadata": {
    "execution": {
     "iopub.execute_input": "2020-12-20T20:45:32.403413Z",
     "iopub.status.busy": "2020-12-20T20:45:32.402740Z",
     "iopub.status.idle": "2020-12-20T20:45:38.292921Z",
     "shell.execute_reply": "2020-12-20T20:45:38.292087Z"
    },
    "papermill": {
     "duration": 5.906876,
     "end_time": "2020-12-20T20:45:38.293074",
     "exception": false,
     "start_time": "2020-12-20T20:45:32.386198",
     "status": "completed"
    },
    "tags": []
   },
   "outputs": [],
   "source": [
    "import arviz as az\n",
    "import numpy as np\n",
    "import pymc3 as pm\n",
    "import seaborn as sns\n",
    "\n",
    "from matplotlib import pyplot as plt\n",
    "\n",
    "print(f\"Running on PyMC3 v{pm.__version__}\")"
   ]
  },
  {
   "cell_type": "code",
   "execution_count": null,
   "metadata": {
    "execution": {
     "iopub.execute_input": "2020-12-20T20:45:38.339204Z",
     "iopub.status.busy": "2020-12-20T20:45:38.337385Z",
     "iopub.status.idle": "2020-12-20T20:45:38.339813Z",
     "shell.execute_reply": "2020-12-20T20:45:38.340224Z"
    },
    "papermill": {
     "duration": 0.034525,
     "end_time": "2020-12-20T20:45:38.340340",
     "exception": false,
     "start_time": "2020-12-20T20:45:38.305815",
     "status": "completed"
    },
    "tags": []
   },
   "outputs": [],
   "source": [
    "%config InlineBackend.figure_format = 'retina'\n",
    "RANDOM_SEED = 8927\n",
    "rng = np.random.default_rng(RANDOM_SEED)\n",
    "az.style.use(\"arviz-darkgrid\")"
   ]
  },
  {
   "cell_type": "markdown",
   "metadata": {
    "papermill": {
     "duration": 0.011094,
     "end_time": "2020-12-20T20:45:38.362640",
     "exception": false,
     "start_time": "2020-12-20T20:45:38.351546",
     "status": "completed"
    },
    "tags": []
   },
   "source": [
    "Gaussian mixtures are a flexible class of models for data that exhibits subpopulation heterogeneity.  A toy example of such a data set is shown below."
   ]
  },
  {
   "cell_type": "code",
   "execution_count": null,
   "metadata": {
    "execution": {
     "iopub.execute_input": "2020-12-20T20:45:38.390576Z",
     "iopub.status.busy": "2020-12-20T20:45:38.389838Z",
     "iopub.status.idle": "2020-12-20T20:45:38.392877Z",
     "shell.execute_reply": "2020-12-20T20:45:38.392424Z"
    },
    "papermill": {
     "duration": 0.019101,
     "end_time": "2020-12-20T20:45:38.392974",
     "exception": false,
     "start_time": "2020-12-20T20:45:38.373873",
     "status": "completed"
    },
    "tags": []
   },
   "outputs": [],
   "source": [
    "N = 1000\n",
    "\n",
    "W = np.array([0.35, 0.4, 0.25])\n",
    "\n",
    "MU = np.array([0.0, 2.0, 5.0])\n",
    "SIGMA = np.array([0.5, 0.5, 1.0])"
   ]
  },
  {
   "cell_type": "code",
   "execution_count": null,
   "metadata": {
    "execution": {
     "iopub.execute_input": "2020-12-20T20:45:38.420288Z",
     "iopub.status.busy": "2020-12-20T20:45:38.419687Z",
     "iopub.status.idle": "2020-12-20T20:45:38.422729Z",
     "shell.execute_reply": "2020-12-20T20:45:38.422219Z"
    },
    "papermill": {
     "duration": 0.018854,
     "end_time": "2020-12-20T20:45:38.422840",
     "exception": false,
     "start_time": "2020-12-20T20:45:38.403986",
     "status": "completed"
    },
    "tags": []
   },
   "outputs": [],
   "source": [
    "component = rng.choice(MU.size, size=N, p=W)\n",
    "x = rng.normal(MU[component], SIGMA[component], size=N)"
   ]
  },
  {
   "cell_type": "code",
   "execution_count": null,
   "metadata": {
    "execution": {
     "iopub.execute_input": "2020-12-20T20:45:38.449202Z",
     "iopub.status.busy": "2020-12-20T20:45:38.448609Z",
     "iopub.status.idle": "2020-12-20T20:45:38.856418Z",
     "shell.execute_reply": "2020-12-20T20:45:38.855958Z"
    },
    "papermill": {
     "duration": 0.422847,
     "end_time": "2020-12-20T20:45:38.856513",
     "exception": false,
     "start_time": "2020-12-20T20:45:38.433666",
     "status": "completed"
    },
    "tags": []
   },
   "outputs": [],
   "source": [
    "fig, ax = plt.subplots(figsize=(8, 6))\n",
    "\n",
    "ax.hist(x, bins=30, density=True, lw=0);"
   ]
  },
  {
   "cell_type": "markdown",
   "metadata": {
    "papermill": {
     "duration": 0.012072,
     "end_time": "2020-12-20T20:45:38.881581",
     "exception": false,
     "start_time": "2020-12-20T20:45:38.869509",
     "status": "completed"
    },
    "tags": []
   },
   "source": [
    "A natural parameterization of the Gaussian mixture model is as the [latent variable model](https://en.wikipedia.org/wiki/Latent_variable_model)\n",
    "\n",
    "$$\n",
    "\\begin{align*}\n",
    "\\mu_1, \\ldots, \\mu_K\n",
    "    & \\sim N(0, \\sigma^2) \\\\\n",
    "\\tau_1, \\ldots, \\tau_K\n",
    "    & \\sim \\textrm{Gamma}(a, b) \\\\\n",
    "\\boldsymbol{w}\n",
    "    & \\sim \\textrm{Dir}(\\boldsymbol{\\alpha}) \\\\\n",
    "z\\ |\\ \\boldsymbol{w}\n",
    "    & \\sim \\textrm{Cat}(\\boldsymbol{w}) \\\\\n",
    "x\\ |\\ z\n",
    "    & \\sim N(\\mu_z, \\tau^{-1}_z).\n",
    "\\end{align*}\n",
    "$$\n",
    "\n",
    "An implementation of this parameterization in PyMC3 is available at {doc}`gaussian_mixture_model`.  A drawback of this parameterization is that is posterior relies on sampling the discrete latent variable $z$.  This reliance can cause slow mixing and ineffective exploration of the tails of the distribution.\n",
    "\n",
    "An alternative, equivalent parameterization that addresses these problems is to marginalize over $z$.  The marginalized model is\n",
    "\n",
    "$$\n",
    "\\begin{align*}\n",
    "\\mu_1, \\ldots, \\mu_K\n",
    "    & \\sim N(0, \\sigma^2) \\\\\n",
    "\\tau_1, \\ldots, \\tau_K\n",
    "    & \\sim \\textrm{Gamma}(a, b) \\\\\n",
    "\\boldsymbol{w}\n",
    "    & \\sim \\textrm{Dir}(\\boldsymbol{\\alpha}) \\\\\n",
    "f(x\\ |\\ \\boldsymbol{w})\n",
    "    & = \\sum_{i = 1}^K w_i\\ N(x\\ |\\ \\mu_i, \\tau^{-1}_i),\n",
    "\\end{align*}\n",
    "$$\n",
    "\n",
    "where\n",
    "\n",
    "$$N(x\\ |\\ \\mu, \\sigma^2) = \\frac{1}{\\sqrt{2 \\pi} \\sigma} \\exp\\left(-\\frac{1}{2 \\sigma^2} (x - \\mu)^2\\right)$$\n",
    "\n",
    "is the probability density function of the normal distribution.\n",
    "\n",
    "Marginalizing $z$ out of the model generally leads to faster mixing and better exploration of the tails of the posterior distribution.  Marginalization over discrete parameters is a common trick in the [Stan](http://mc-stan.org/) community, since Stan does not support sampling from discrete distributions.  For further details on marginalization and several worked examples, see the [_Stan User's Guide and Reference Manual_](http://www.uvm.edu/~bbeckage/Teaching/DataAnalysis/Manuals/stan-reference-2.8.0.pdf).\n",
    "\n",
    "PyMC3 supports marginalized Gaussian mixture models through its `NormalMixture` class.  (It also supports marginalized general mixture models through its `Mixture` class)  Below we specify and fit a marginalized Gaussian mixture model to this data in PyMC3."
   ]
  },
  {
   "cell_type": "code",
   "execution_count": null,
   "metadata": {
    "execution": {
     "iopub.execute_input": "2020-12-20T20:45:38.913682Z",
     "iopub.status.busy": "2020-12-20T20:45:38.912969Z",
     "iopub.status.idle": "2020-12-20T20:46:50.162170Z",
     "shell.execute_reply": "2020-12-20T20:46:50.161160Z"
    },
    "papermill": {
     "duration": 71.268227,
     "end_time": "2020-12-20T20:46:50.162293",
     "exception": false,
     "start_time": "2020-12-20T20:45:38.894066",
     "status": "completed"
    },
    "tags": []
   },
   "outputs": [],
   "source": [
    "with pm.Model(coords={\"cluster\": np.arange(len(W)), \"obs_id\": np.arange(N)}) as model:\n",
    "    w = pm.Dirichlet(\"w\", np.ones_like(W))\n",
    "\n",
    "    mu = pm.Normal(\n",
    "        \"mu\",\n",
    "        np.zeros_like(W),\n",
    "        1.0,\n",
    "        dims=\"cluster\",\n",
    "        transform=pm.transforms.ordered,\n",
    "        testval=[1, 2, 3],\n",
    "    )\n",
    "    tau = pm.Gamma(\"tau\", 1.0, 1.0, dims=\"cluster\")\n",
    "\n",
    "    x_obs = pm.NormalMixture(\"x_obs\", w, mu, tau=tau, observed=x, dims=\"obs_id\")"
   ]
  },
  {
   "cell_type": "code",
   "execution_count": null,
   "metadata": {
    "execution": {
     "iopub.execute_input": "2020-12-20T20:46:50.194176Z",
     "iopub.status.busy": "2020-12-20T20:46:50.193603Z",
     "iopub.status.idle": "2020-12-20T20:56:38.008263Z",
     "shell.execute_reply": "2020-12-20T20:56:38.008736Z"
    },
    "papermill": {
     "duration": 587.834129,
     "end_time": "2020-12-20T20:56:38.008902",
     "exception": false,
     "start_time": "2020-12-20T20:46:50.174773",
     "status": "completed"
    },
    "tags": []
   },
   "outputs": [],
   "source": [
    "with model:\n",
    "    trace = pm.sample(5000, n_init=10000, tune=1000, return_inferencedata=True)\n",
    "\n",
    "    # sample posterior predictive samples\n",
    "    ppc_trace = pm.sample_posterior_predictive(trace, var_names=[\"x_obs\"], keep_size=True)\n",
    "\n",
    "trace.add_groups(posterior_predictive=ppc_trace)"
   ]
  },
  {
   "cell_type": "markdown",
   "metadata": {
    "papermill": {
     "duration": 0.013524,
     "end_time": "2020-12-20T20:56:38.036405",
     "exception": false,
     "start_time": "2020-12-20T20:56:38.022881",
     "status": "completed"
    },
    "tags": []
   },
   "source": [
    "We see in the following plot that the posterior distribution on the weights and the component means has captured the true value quite well."
   ]
  },
  {
   "cell_type": "code",
   "execution_count": null,
   "metadata": {},
   "outputs": [],
   "source": [
    "az.plot_trace(trace, var_names=[\"w\", \"mu\"], compact=False);"
   ]
  },
  {
   "cell_type": "code",
   "execution_count": null,
   "metadata": {},
   "outputs": [],
   "source": [
    "az.plot_posterior(trace, var_names=[\"w\", \"mu\"]);"
   ]
  },
  {
   "cell_type": "markdown",
   "metadata": {
    "papermill": {
     "duration": 0.035988,
     "end_time": "2020-12-20T20:56:44.871074",
     "exception": false,
     "start_time": "2020-12-20T20:56:44.835086",
     "status": "completed"
    },
    "tags": []
   },
   "source": [
    "We see that the posterior predictive samples have a distribution quite close to that of the observed data."
   ]
  },
  {
   "cell_type": "code",
   "execution_count": null,
   "metadata": {},
   "outputs": [],
   "source": [
    "az.plot_ppc(trace);"
   ]
  },
  {
   "cell_type": "markdown",
   "metadata": {},
   "source": [
    "Author: [Austin Rochford](http://austinrochford.com)"
   ]
  },
  {
   "cell_type": "markdown",
   "metadata": {},
   "source": [
    "## Watermark"
   ]
  },
  {
   "cell_type": "code",
   "execution_count": null,
   "metadata": {
    "execution": {
     "iopub.execute_input": "2020-12-20T20:58:54.954821Z",
     "iopub.status.busy": "2020-12-20T20:58:54.953955Z",
     "iopub.status.idle": "2020-12-20T20:58:55.010534Z",
     "shell.execute_reply": "2020-12-20T20:58:55.011222Z"
    },
    "papermill": {
     "duration": 0.108022,
     "end_time": "2020-12-20T20:58:55.011403",
     "exception": false,
     "start_time": "2020-12-20T20:58:54.903381",
     "status": "completed"
    },
    "tags": []
   },
   "outputs": [],
   "source": [
    "%load_ext watermark\n",
    "%watermark -n -u -v -iv -w -p theano,xarray"
   ]
  }
 ],
 "metadata": {
  "kernelspec": {
   "display_name": "Python 3",
   "language": "python",
   "name": "python3"
  },
  "language_info": {
   "codemirror_mode": {
    "name": "ipython",
    "version": 3
   },
   "file_extension": ".py",
   "mimetype": "text/x-python",
   "name": "python",
   "nbconvert_exporter": "python",
   "pygments_lexer": "ipython3",
   "version": "3.8.10"
  },
  "papermill": {
   "duration": 806.637601,
   "end_time": "2020-12-20T20:58:55.254886",
   "environment_variables": {},
   "exception": null,
   "input_path": "__notebook__.ipynb",
   "output_path": "__notebook__.ipynb",
   "parameters": {},
   "start_time": "2020-12-20T20:45:28.617285",
   "version": "2.1.0"
  }
 },
 "nbformat": 4,
 "nbformat_minor": 4
}
