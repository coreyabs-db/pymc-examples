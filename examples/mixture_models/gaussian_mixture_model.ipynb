{
 "cells": [
  {
   "cell_type": "markdown",
   "id": "e2d6a8f5-e30f-47e8-8cba-c579b6abddfa",
   "metadata": {},
   "source": [
    "(gaussian_mixture_model)=\n",
    "# Gaussian Mixture Model\n",
    "\n",
    ":::{post} April, 2022\n",
    ":tags: mixture model, classification \n",
    ":category: beginner\n",
    ":author: Abe Flaxman\n",
    ":::\n",
    "\n",
    "A [mixture model](https://en.wikipedia.org/wiki/Mixture_model) allows us to make inferences about the component contributors to a distribution of data. More specifically, a Gaussian Mixture Model allows us to make inferences about the means and standard deviations of a specified number of underlying component Gaussian distributions.\n",
    "\n",
    "This could be useful in a number of ways. For example, we may be interested in simply describing a complex distribution parametrically (i.e. a [mixture distribution](https://en.wikipedia.org/wiki/Mixture_distribution)). Alternatively, we may be interested in [classification](https://en.wikipedia.org/wiki/Classification) where we seek to probabilistically classify which of a number of classes a particular observation is from."
   ]
  },
  {
   "cell_type": "code",
   "execution_count": null,
   "id": "a0b1403f-3cec-4237-a1c7-27f1c8681cb9",
   "metadata": {},
   "outputs": [],
   "source": [
    "import arviz as az\n",
    "import matplotlib.pyplot as plt\n",
    "import numpy as np\n",
    "import pandas as pd\n",
    "import pymc as pm\n",
    "\n",
    "from scipy.stats import norm\n",
    "from xarray_einstats.stats import XrContinuousRV"
   ]
  },
  {
   "cell_type": "code",
   "execution_count": null,
   "id": "54c04faa-5c80-4b91-af3f-a57a2c927029",
   "metadata": {},
   "outputs": [],
   "source": [
    "%config InlineBackend.figure_format = 'retina'\n",
    "RANDOM_SEED = 8927\n",
    "rng = np.random.default_rng(RANDOM_SEED)\n",
    "az.style.use(\"arviz-darkgrid\")"
   ]
  },
  {
   "cell_type": "markdown",
   "id": "1a506223-1cf2-4c1a-ab75-6a3e8684329e",
   "metadata": {},
   "source": [
    "First we generate some simulated observations."
   ]
  },
  {
   "cell_type": "code",
   "execution_count": null,
   "id": "9ad9800b-52ae-4d4c-9e7e-36b741480a50",
   "metadata": {
    "tags": [
     "hide-input"
    ]
   },
   "outputs": [],
   "source": [
    "k = 3\n",
    "ndata = 500\n",
    "centers = np.array([-5, 0, 5])\n",
    "sds = np.array([0.5, 2.0, 0.75])\n",
    "idx = rng.integers(0, k, ndata)\n",
    "x = rng.normal(loc=centers[idx], scale=sds[idx], size=ndata)\n",
    "plt.hist(x, 40);"
   ]
  },
  {
   "cell_type": "markdown",
   "id": "81691367-b709-4ed9-b472-aa83a79f456a",
   "metadata": {},
   "source": [
    "In the PyMC model, we will estimate one $\\mu$ and one $\\sigma$ for each of the 3 clusters. Writing a Gaussian Mixture Model is very easy with the `pm.NormalMixture` distribution."
   ]
  },
  {
   "cell_type": "code",
   "execution_count": null,
   "id": "f23942cd-7559-44c0-86fa-0b13b7b1b189",
   "metadata": {},
   "outputs": [],
   "source": [
    "with pm.Model(coords={\"cluster\": range(k)}) as model:\n",
    "    μ = pm.Normal(\n",
    "        \"μ\",\n",
    "        mu=0,\n",
    "        sigma=5,\n",
    "        transform=pm.distributions.transforms.univariate_ordered,\n",
    "        initval=[-4, 0, 4],\n",
    "        dims=\"cluster\",\n",
    "    )\n",
    "    σ = pm.HalfNormal(\"σ\", sigma=1, dims=\"cluster\")\n",
    "    weights = pm.Dirichlet(\"w\", np.ones(k), dims=\"cluster\")\n",
    "    pm.NormalMixture(\"x\", w=weights, mu=μ, sigma=σ, observed=x)\n",
    "\n",
    "pm.model_to_graphviz(model)"
   ]
  },
  {
   "cell_type": "code",
   "execution_count": null,
   "id": "21baeda4-b504-46e4-8619-62c15442dfd9",
   "metadata": {},
   "outputs": [],
   "source": [
    "with model:\n",
    "    idata = pm.sample()"
   ]
  },
  {
   "cell_type": "markdown",
   "id": "4628ea26-b7a4-4863-b913-27d2a199f24a",
   "metadata": {},
   "source": [
    "We can also plot the trace to check the nature of the MCMC chains, and compare to the ground truth values."
   ]
  },
  {
   "cell_type": "code",
   "execution_count": null,
   "id": "f14c2346-cb0a-459b-9e67-468d201675b4",
   "metadata": {},
   "outputs": [],
   "source": [
    "az.plot_trace(idata, var_names=[\"μ\", \"σ\"], lines=[(\"μ\", {}, [centers]), (\"σ\", {}, [sds])]);"
   ]
  },
  {
   "cell_type": "markdown",
   "id": "ba87e9ce-8ae3-4816-b7aa-05e65e3faed4",
   "metadata": {},
   "source": [
    "And if we wanted, we could calculate the probability density function and examine the estimated group membership probabilities, based on the posterior mean estimates."
   ]
  },
  {
   "cell_type": "code",
   "execution_count": null,
   "id": "7dbb8ed6-940f-4d67-b4e0-99f798adf4ea",
   "metadata": {},
   "outputs": [],
   "source": [
    "xi = np.linspace(-7, 7, 500)\n",
    "post = idata.posterior\n",
    "pdf_components = XrContinuousRV(norm, post[\"μ\"], post[\"σ\"]).pdf(xi) * post[\"w\"]\n",
    "pdf = pdf_components.sum(\"cluster\")\n",
    "\n",
    "fig, ax = plt.subplots(3, 1, figsize=(7, 8), sharex=True)\n",
    "# empirical histogram\n",
    "ax[0].hist(x, 50)\n",
    "ax[0].set(title=\"Data\", xlabel=\"x\", ylabel=\"Frequency\")\n",
    "# pdf\n",
    "pdf_components.mean(dim=[\"chain\", \"draw\"]).sum(\"cluster\").plot.line(ax=ax[1])\n",
    "ax[1].set(title=\"PDF\", xlabel=\"x\", ylabel=\"Probability\\ndensity\")\n",
    "# plot group membership probabilities\n",
    "(pdf_components / pdf).mean(dim=[\"chain\", \"draw\"]).plot.line(hue=\"cluster\", ax=ax[2])\n",
    "ax[2].set(title=\"Group membership\", xlabel=\"x\", ylabel=\"Probability\");"
   ]
  },
  {
   "cell_type": "markdown",
   "id": "73495379-423d-4989-a567-d5c71e4982dd",
   "metadata": {},
   "source": [
    "## Authors\n",
    "- Authored by Abe Flaxman.\n",
    "- Updated by Thomas Wiecki.\n",
    "- Updated by [Benjamin T. Vincent](https://github.com/drbenvincent) in April 2022 ([#310](https://github.com/pymc-devs/pymc-examples/pull/310)) to use `pm.NormalMixture`.\n",
    "- Updated by Benjamin T. Vincent in February 2023 to run on PyMC v5."
   ]
  },
  {
   "cell_type": "markdown",
   "id": "1c89a0f5-7b17-4df9-acf0-ce82d2c9c25c",
   "metadata": {},
   "source": [
    "## Watermark"
   ]
  },
  {
   "cell_type": "code",
   "execution_count": null,
   "id": "b737a104-2f34-465a-b6e4-d01f83e81e7c",
   "metadata": {},
   "outputs": [],
   "source": [
    "%load_ext watermark\n",
    "%watermark -n -u -v -iv -w -p pytensor,aeppl,xarray,xarray_einstats"
   ]
  },
  {
   "cell_type": "markdown",
   "id": "ac98b0e0-10d5-4435-8c62-51c3a3cffed2",
   "metadata": {},
   "source": [
    ":::{include} ../page_footer.md\n",
    ":::"
   ]
  }
 ],
 "metadata": {
  "kernelspec": {
   "display_name": "pymc_env",
   "language": "python",
   "name": "pymc_env"
  },
  "language_info": {
   "codemirror_mode": {
    "name": "ipython",
    "version": 3
   },
   "file_extension": ".py",
   "mimetype": "text/x-python",
   "name": "python",
   "nbconvert_exporter": "python",
   "pygments_lexer": "ipython3",
   "version": "3.11.0"
  }
 },
 "nbformat": 4,
 "nbformat_minor": 5
}
