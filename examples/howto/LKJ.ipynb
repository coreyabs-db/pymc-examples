{
 "cells": [
  {
   "cell_type": "markdown",
   "metadata": {
    "id": "XShKDkNir2PX"
   },
   "source": [
    "(lkj_prior_for_multivariate_normal)=\n",
    "# LKJ Cholesky Covariance Priors for Multivariate Normal Models"
   ]
  },
  {
   "cell_type": "markdown",
   "metadata": {
    "id": "QxSKBbjKr2PZ"
   },
   "source": [
    "While the [inverse-Wishart distribution](https://en.wikipedia.org/wiki/Inverse-Wishart_distribution) is the conjugate prior for the covariance matrix of a multivariate normal distribution, it is [not very well-suited](https://github.com/pymc-devs/pymc3/issues/538#issuecomment-94153586) to modern Bayesian computational methods.  For this reason, the [LKJ prior](http://www.sciencedirect.com/science/article/pii/S0047259X09000876) is recommended when modeling the covariance matrix of a multivariate normal distribution.\n",
    "\n",
    "To illustrate modelling covariance with the LKJ distribution, we first generate a two-dimensional normally-distributed sample data set."
   ]
  },
  {
   "cell_type": "code",
   "execution_count": null,
   "metadata": {
    "colab": {
     "base_uri": "https://localhost:8080/"
    },
    "id": "17Thh2DHr2Pa",
    "outputId": "90631275-86c9-4f4a-f81a-22465d0c8b8c"
   },
   "outputs": [],
   "source": [
    "import arviz as az\n",
    "import numpy as np\n",
    "import pymc as pm\n",
    "\n",
    "from matplotlib import pyplot as plt\n",
    "from matplotlib.lines import Line2D\n",
    "from matplotlib.patches import Ellipse\n",
    "\n",
    "print(f\"Running on PyMC v{pm.__version__}\")"
   ]
  },
  {
   "cell_type": "code",
   "execution_count": null,
   "metadata": {
    "id": "Sq6K4Ie4r2Pc"
   },
   "outputs": [],
   "source": [
    "%config InlineBackend.figure_format = 'retina'\n",
    "RANDOM_SEED = 8927\n",
    "rng = np.random.default_rng(RANDOM_SEED)\n",
    "az.style.use(\"arviz-darkgrid\")"
   ]
  },
  {
   "cell_type": "code",
   "execution_count": null,
   "metadata": {
    "colab": {
     "base_uri": "https://localhost:8080/"
    },
    "id": "eA491vJMr2Pc",
    "outputId": "30ea38db-0767-4e89-eb09-68927878018e"
   },
   "outputs": [],
   "source": [
    "N = 10000\n",
    "\n",
    "mu_actual = np.array([1.0, -2.0])\n",
    "sigmas_actual = np.array([0.7, 1.5])\n",
    "Rho_actual = np.matrix([[1.0, -0.4], [-0.4, 1.0]])\n",
    "\n",
    "Sigma_actual = np.diag(sigmas_actual) * Rho_actual * np.diag(sigmas_actual)\n",
    "\n",
    "x = rng.multivariate_normal(mu_actual, Sigma_actual, size=N)\n",
    "Sigma_actual"
   ]
  },
  {
   "cell_type": "code",
   "execution_count": null,
   "metadata": {
    "colab": {
     "base_uri": "https://localhost:8080/",
     "height": 628
    },
    "id": "ZmFDGQ8Jr2Pd",
    "outputId": "03ba3248-370c-4ff9-8626-ba601423b9c1"
   },
   "outputs": [],
   "source": [
    "var, U = np.linalg.eig(Sigma_actual)\n",
    "angle = 180.0 / np.pi * np.arccos(np.abs(U[0, 0]))\n",
    "\n",
    "fig, ax = plt.subplots(figsize=(8, 6))\n",
    "\n",
    "e = Ellipse(mu_actual, 2 * np.sqrt(5.991 * var[0]), 2 * np.sqrt(5.991 * var[1]), angle=angle)\n",
    "e.set_alpha(0.5)\n",
    "e.set_facecolor(\"C0\")\n",
    "e.set_zorder(10)\n",
    "ax.add_artist(e)\n",
    "\n",
    "ax.scatter(x[:, 0], x[:, 1], c=\"k\", alpha=0.05, zorder=11)\n",
    "ax.set_xlabel(\"y\")\n",
    "ax.set_ylabel(\"z\")\n",
    "\n",
    "rect = plt.Rectangle((0, 0), 1, 1, fc=\"C0\", alpha=0.5)\n",
    "ax.legend([rect], [\"95% density region\"], loc=2);"
   ]
  },
  {
   "cell_type": "markdown",
   "metadata": {
    "id": "d6320GCir2Pd"
   },
   "source": [
    "The sampling distribution for the multivariate normal model is $\\mathbf{x} \\sim N(\\mu, \\Sigma)$, where $\\Sigma$ is the covariance matrix of the sampling distribution, with $\\Sigma_{ij} = \\textrm{Cov}(x_i, x_j)$. The density of this distribution is\n",
    "\n",
    "$$f(\\mathbf{x}\\ |\\ \\mu, \\Sigma^{-1}) = (2 \\pi)^{-\\frac{k}{2}} |\\Sigma|^{-\\frac{1}{2}} \\exp\\left(-\\frac{1}{2} (\\mathbf{x} - \\mu)^{\\top} \\Sigma^{-1} (\\mathbf{x} - \\mu)\\right).$$\n",
    "\n",
    "The LKJ distribution provides a prior on the correlation matrix, $\\mathbf{C} = \\textrm{Corr}(x_i, x_j)$, which, combined with priors on the standard deviations of each component, [induces](http://www3.stat.sinica.edu.tw/statistica/oldpdf/A10n416.pdf) a prior on the covariance matrix, $\\Sigma$. Since inverting $\\Sigma$ is numerically unstable and inefficient, it is computationally advantageous to use the [Cholesky decompositon](https://en.wikipedia.org/wiki/Cholesky_decomposition) of $\\Sigma$, $\\Sigma = \\mathbf{L} \\mathbf{L}^{\\top}$, where $\\mathbf{L}$ is a lower-triangular matrix. This decompositon allows computation of the term $(\\mathbf{x} - \\mu)^{\\top} \\Sigma^{-1} (\\mathbf{x} - \\mu)$ using back-substitution, which is more numerically stable and efficient than direct matrix inversion.\n",
    "\n",
    "PyMC supports LKJ priors for the Cholesky decomposition of the covariance matrix via the {class}`pymc.LKJCholeskyCov` distribution. This distribution has parameters `n` and `sd_dist`, which are the dimension of the observations, $\\mathbf{x}$, and the PyMC distribution of the component standard deviations, respectively. It also has a hyperparamter `eta`, which controls the amount of correlation between components of $\\mathbf{x}$. The LKJ distribution has the density $f(\\mathbf{C}\\ |\\ \\eta) \\propto |\\mathbf{C}|^{\\eta - 1}$, so $\\eta = 1$ leads to a uniform distribution on correlation matrices, while the magnitude of correlations between components decreases as $\\eta \\to \\infty$.\n",
    "\n",
    "In this example, we model the standard deviations with $\\textrm{Exponential}(1.0)$ priors, and the correlation matrix as $\\mathbf{C} \\sim \\textrm{LKJ}(\\eta = 2)$."
   ]
  },
  {
   "cell_type": "code",
   "execution_count": null,
   "metadata": {
    "id": "7GcM6oENr2Pe"
   },
   "outputs": [],
   "source": [
    "with pm.Model() as m:\n",
    "    packed_L = pm.LKJCholeskyCov(\n",
    "        \"packed_L\", n=2, eta=2.0, sd_dist=pm.Exponential.dist(1.0, shape=2), compute_corr=False\n",
    "    )"
   ]
  },
  {
   "cell_type": "markdown",
   "metadata": {
    "id": "6Cscu-CRr2Pe"
   },
   "source": [
    "Since the Cholesky decompositon of $\\Sigma$ is lower triangular, `LKJCholeskyCov` only stores the diagonal and sub-diagonal entries, for efficiency:"
   ]
  },
  {
   "cell_type": "code",
   "execution_count": null,
   "metadata": {
    "colab": {
     "base_uri": "https://localhost:8080/"
    },
    "id": "JMWeTjDjr2Pe",
    "outputId": "e4f767a3-c1d7-4016-a3cf-91089c925bdb"
   },
   "outputs": [],
   "source": [
    "packed_L.eval()"
   ]
  },
  {
   "cell_type": "markdown",
   "metadata": {
    "id": "59FtijDir2Pe"
   },
   "source": [
    "We use {func}`expand_packed_triangular <pymc.expand_packed_triangular>` to transform this vector into the lower triangular matrix $\\mathbf{L}$, which appears in the Cholesky decomposition $\\Sigma = \\mathbf{L} \\mathbf{L}^{\\top}$."
   ]
  },
  {
   "cell_type": "code",
   "execution_count": null,
   "metadata": {
    "colab": {
     "base_uri": "https://localhost:8080/"
    },
    "id": "YxBbFyUxr2Pf",
    "outputId": "bd37c630-98dd-437b-bb13-89281aeccc44"
   },
   "outputs": [],
   "source": [
    "with m:\n",
    "    L = pm.expand_packed_triangular(2, packed_L)\n",
    "    Sigma = L.dot(L.T)\n",
    "\n",
    "L.eval().shape"
   ]
  },
  {
   "cell_type": "markdown",
   "metadata": {
    "id": "SwdNd_0Jr2Pf"
   },
   "source": [
    "Often however, you'll be interested in the posterior distribution of the correlations matrix and of the standard deviations, not in the posterior Cholesky covariance matrix *per se*. Why? Because the correlations and standard deviations are easier to interpret and often have a scientific meaning in the model. As of PyMC v4, the `compute_corr` argument is set to `True` by default, which returns a tuple consisting of the Cholesky decomposition, the correlations matrix, and the standard deviations."
   ]
  },
  {
   "cell_type": "code",
   "execution_count": null,
   "metadata": {
    "id": "ac3eQeMJr2Pf"
   },
   "outputs": [],
   "source": [
    "coords = {\"axis\": [\"y\", \"z\"], \"axis_bis\": [\"y\", \"z\"], \"obs_id\": np.arange(N)}\n",
    "with pm.Model(coords=coords) as model:\n",
    "    chol, corr, stds = pm.LKJCholeskyCov(\n",
    "        \"chol\", n=2, eta=2.0, sd_dist=pm.Exponential.dist(1.0, shape=2)\n",
    "    )\n",
    "    cov = pm.Deterministic(\"cov\", chol.dot(chol.T), dims=(\"axis\", \"axis_bis\"))"
   ]
  },
  {
   "cell_type": "markdown",
   "metadata": {
    "id": "cpEupNzWr2Pg"
   },
   "source": [
    "To complete our model, we place independent, weakly regularizing priors, $N(0, 1.5),$ on $\\mu$:"
   ]
  },
  {
   "cell_type": "code",
   "execution_count": null,
   "metadata": {
    "id": "iTI4uiBdr2Pg"
   },
   "outputs": [],
   "source": [
    "with model:\n",
    "    mu = pm.Normal(\"mu\", 0.0, sigma=1.5, dims=\"axis\")\n",
    "    obs = pm.MvNormal(\"obs\", mu, chol=chol, observed=x, dims=(\"obs_id\", \"axis\"))"
   ]
  },
  {
   "cell_type": "markdown",
   "metadata": {
    "id": "QOCi1RKvr2Ph"
   },
   "source": [
    "We sample from this model using NUTS and give the trace to {ref}`arviz` for summarization:"
   ]
  },
  {
   "cell_type": "code",
   "execution_count": null,
   "metadata": {
    "colab": {
     "base_uri": "https://localhost:8080/",
     "height": 608
    },
    "id": "vBPIQDWrr2Ph",
    "outputId": "f039bfb8-1acf-42cb-b054-bc2c97697f96"
   },
   "outputs": [],
   "source": [
    "with model:\n",
    "    trace = pm.sample(\n",
    "        random_seed=rng,\n",
    "        idata_kwargs={\"dims\": {\"chol_stds\": [\"axis\"], \"chol_corr\": [\"axis\", \"axis_bis\"]}},\n",
    "    )\n",
    "az.summary(trace, var_names=\"~chol\", round_to=2)"
   ]
  },
  {
   "cell_type": "markdown",
   "metadata": {
    "id": "X8ucBpcRr2Ph"
   },
   "source": [
    "Sampling went smoothly: no divergences and good r-hats (except for the diagonal elements of the correlation matrix - however, these are not a concern, because, they should be equal to 1 for each sample for each chain and the variance of a constant value isn't defined. If one of the diagonal elements has `r_hat` defined, it's likely due to tiny numerical errors). \n",
    " \n",
    "You can also see that the sampler recovered the true means, correlations and standard deviations. As often, that will be clearer in a graph:"
   ]
  },
  {
   "cell_type": "code",
   "execution_count": null,
   "metadata": {
    "colab": {
     "base_uri": "https://localhost:8080/",
     "height": 228
    },
    "id": "dgOKiSLdr2Pi",
    "outputId": "a29bde4b-c4dc-49f4-e65d-c3365c1933e1"
   },
   "outputs": [],
   "source": [
    "az.plot_trace(\n",
    "    trace,\n",
    "    var_names=\"chol_corr\",\n",
    "    coords={\"axis\": \"y\", \"axis_bis\": \"z\"},\n",
    "    lines=[(\"chol_corr\", {}, Rho_actual[0, 1])],\n",
    ");"
   ]
  },
  {
   "cell_type": "code",
   "execution_count": null,
   "metadata": {
    "colab": {
     "base_uri": "https://localhost:8080/",
     "height": 628
    },
    "id": "dtBWyd5Jr2Pi",
    "outputId": "94ee6945-a564-487a-e447-3c447057f0bf"
   },
   "outputs": [],
   "source": [
    "az.plot_trace(\n",
    "    trace,\n",
    "    var_names=[\"~chol\", \"~chol_corr\"],\n",
    "    compact=True,\n",
    "    lines=[\n",
    "        (\"mu\", {}, mu_actual),\n",
    "        (\"cov\", {}, Sigma_actual),\n",
    "        (\"chol_stds\", {}, sigmas_actual),\n",
    "    ],\n",
    ");"
   ]
  },
  {
   "cell_type": "markdown",
   "metadata": {
    "id": "NnLWJyCMr2Pi"
   },
   "source": [
    "The posterior expected values are very close to the true value of each component! How close exactly? Let's compute the percentage of closeness for $\\mu$ and $\\Sigma$:"
   ]
  },
  {
   "cell_type": "code",
   "execution_count": null,
   "metadata": {
    "colab": {
     "base_uri": "https://localhost:8080/"
    },
    "id": "yDlyVSizr2Pj",
    "outputId": "69c22c57-db27-4f43-ab94-7b88480a21f9"
   },
   "outputs": [],
   "source": [
    "mu_post = trace.posterior[\"mu\"].mean((\"chain\", \"draw\")).values\n",
    "(1 - mu_post / mu_actual).round(2)"
   ]
  },
  {
   "cell_type": "code",
   "execution_count": null,
   "metadata": {
    "colab": {
     "base_uri": "https://localhost:8080/"
    },
    "id": "rFF947Grr2Pj",
    "outputId": "398332a0-a142-4ad0-dadf-bde13ef2b00b"
   },
   "outputs": [],
   "source": [
    "Sigma_post = trace.posterior[\"cov\"].mean((\"chain\", \"draw\")).values\n",
    "(1 - Sigma_post / Sigma_actual).round(2)"
   ]
  },
  {
   "cell_type": "markdown",
   "metadata": {
    "id": "DMDwKtp0r2Pj"
   },
   "source": [
    "So the posterior means are within 1% of the true values of $\\mu$ and $\\Sigma$.\n",
    "\n",
    "Now let's replicate the plot we did at the beginning, but let's overlay the posterior distribution on top of the true distribution -- you'll see there is excellent visual agreement between both:"
   ]
  },
  {
   "cell_type": "code",
   "execution_count": null,
   "metadata": {
    "colab": {
     "base_uri": "https://localhost:8080/",
     "height": 628
    },
    "id": "_dwHYuj1r2Pj",
    "outputId": "9b53b875-af25-4f79-876f-a02e72bba5a9"
   },
   "outputs": [],
   "source": [
    "var_post, U_post = np.linalg.eig(Sigma_post)\n",
    "angle_post = 180.0 / np.pi * np.arccos(np.abs(U_post[0, 0]))\n",
    "\n",
    "fig, ax = plt.subplots(figsize=(8, 6))\n",
    "\n",
    "e = Ellipse(\n",
    "    mu_actual,\n",
    "    2 * np.sqrt(5.991 * var[0]),\n",
    "    2 * np.sqrt(5.991 * var[1]),\n",
    "    angle=angle,\n",
    "    linewidth=3,\n",
    "    linestyle=\"dashed\",\n",
    ")\n",
    "e.set_edgecolor(\"C0\")\n",
    "e.set_zorder(11)\n",
    "e.set_fill(False)\n",
    "ax.add_artist(e)\n",
    "\n",
    "e_post = Ellipse(\n",
    "    mu_post,\n",
    "    2 * np.sqrt(5.991 * var_post[0]),\n",
    "    2 * np.sqrt(5.991 * var_post[1]),\n",
    "    angle=angle_post,\n",
    "    linewidth=3,\n",
    ")\n",
    "e_post.set_edgecolor(\"C1\")\n",
    "e_post.set_zorder(10)\n",
    "e_post.set_fill(False)\n",
    "ax.add_artist(e_post)\n",
    "\n",
    "ax.scatter(x[:, 0], x[:, 1], c=\"k\", alpha=0.05, zorder=11)\n",
    "ax.set_xlabel(\"y\")\n",
    "ax.set_ylabel(\"z\")\n",
    "\n",
    "line = Line2D([], [], color=\"C0\", linestyle=\"dashed\", label=\"True 95% density region\")\n",
    "line_post = Line2D([], [], color=\"C1\", label=\"Estimated 95% density region\")\n",
    "ax.legend(\n",
    "    handles=[line, line_post],\n",
    "    loc=2,\n",
    ");"
   ]
  },
  {
   "cell_type": "code",
   "execution_count": null,
   "metadata": {
    "colab": {
     "base_uri": "https://localhost:8080/"
    },
    "id": "kJCfuzGtr2Pq",
    "outputId": "da547b05-d812-4959-aff6-cf4a12faca15"
   },
   "outputs": [],
   "source": [
    "%load_ext watermark\n",
    "%watermark -n -u -v -iv -w -p pytensor,xarray"
   ]
  }
 ],
 "metadata": {
  "anaconda-cloud": {},
  "colab": {
   "collapsed_sections": [],
   "name": "LKJ.ipynb",
   "provenance": []
  },
  "kernelspec": {
   "display_name": "Python 3 (ipykernel)",
   "language": "python",
   "name": "python3"
  },
  "language_info": {
   "codemirror_mode": {
    "name": "ipython",
    "version": 3
   },
   "file_extension": ".py",
   "mimetype": "text/x-python",
   "name": "python",
   "nbconvert_exporter": "python",
   "pygments_lexer": "ipython3",
   "version": "3.11.6"
  },
  "latex_envs": {
   "bibliofile": "biblio.bib",
   "cite_by": "apalike",
   "current_citInitial": 1,
   "eqLabelWithNumbers": true,
   "eqNumInitial": 0
  }
 },
 "nbformat": 4,
 "nbformat_minor": 4
}
