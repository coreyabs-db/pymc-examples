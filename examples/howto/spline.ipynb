{
 "cells": [
  {
   "cell_type": "markdown",
   "metadata": {},
   "source": [
    "(spline)=\n",
    "# Splines\n",
    "\n",
    ":::{post} June 4, 2022 \n",
    ":tags: patsy, regression, spline \n",
    ":category: beginner\n",
    ":author: Joshua Cook\n",
    ":::"
   ]
  },
  {
   "cell_type": "markdown",
   "metadata": {
    "tags": []
   },
   "source": [
    "## Introduction\n",
    "\n",
    "Often, the model we want to fit is not a perfect line between some $x$ and $y$.\n",
    "Instead, the parameters of the model are expected to vary over $x$.\n",
    "There are multiple ways to handle this situation, one of which is to fit a *spline*.\n",
    "Spline fit is effectively a sum of multiple individual curves (piecewise polynomials), each fit to a different section of $x$, that are tied together at their boundaries, often called *knots*.\n",
    "\n",
    "The spline is effectively multiple individual lines, each fit to a different section of $x$, that are tied together at their boundaries, often called *knots*.\n",
    "\n",
    "Below is a full working example of how to fit a spline using PyMC. The data and model are taken from [*Statistical Rethinking* 2e](https://xcelab.net/rm/statistical-rethinking/) by [Richard McElreath's](https://xcelab.net/rm/) {cite:p}`mcelreath2018statistical`.\n",
    "\n",
    "For more information on this method of non-linear modeling, I suggesting beginning with [chapter 5 of Bayesian Modeling and Computation in Python](https://bayesiancomputationbook.com/markdown/chp_05.html) {cite:p}`martin2021bayesian`."
   ]
  },
  {
   "cell_type": "code",
   "execution_count": null,
   "metadata": {},
   "outputs": [],
   "source": [
    "from pathlib import Path\n",
    "\n",
    "import arviz as az\n",
    "import matplotlib.pyplot as plt\n",
    "import numpy as np\n",
    "import pandas as pd\n",
    "import pymc as pm\n",
    "\n",
    "from patsy import dmatrix"
   ]
  },
  {
   "cell_type": "code",
   "execution_count": null,
   "metadata": {},
   "outputs": [],
   "source": [
    "%matplotlib inline\n",
    "%config InlineBackend.figure_format = \"retina\"\n",
    "\n",
    "RANDOM_SEED = 8927\n",
    "az.style.use(\"arviz-darkgrid\")"
   ]
  },
  {
   "cell_type": "markdown",
   "metadata": {},
   "source": [
    "## Cherry blossom data\n",
    "\n",
    "The data for this example is the number of days (`doy` for \"days of year\") that the cherry trees were in bloom in each year (`year`). \n",
    "For convenience, years missing a `doy` were dropped (which is a bad idea to deal with missing data in general!)."
   ]
  },
  {
   "cell_type": "code",
   "execution_count": null,
   "metadata": {},
   "outputs": [],
   "source": [
    "try:\n",
    "    blossom_data = pd.read_csv(Path(\"..\", \"data\", \"cherry_blossoms.csv\"), sep=\";\")\n",
    "except FileNotFoundError:\n",
    "    blossom_data = pd.read_csv(pm.get_data(\"cherry_blossoms.csv\"), sep=\";\")\n",
    "\n",
    "\n",
    "blossom_data.dropna().describe()"
   ]
  },
  {
   "cell_type": "code",
   "execution_count": null,
   "metadata": {},
   "outputs": [],
   "source": [
    "blossom_data = blossom_data.dropna(subset=[\"doy\"]).reset_index(drop=True)\n",
    "blossom_data.head(n=10)"
   ]
  },
  {
   "cell_type": "markdown",
   "metadata": {},
   "source": [
    "After dropping rows with missing data, there are 827 years with the numbers of days in which the trees were in bloom."
   ]
  },
  {
   "cell_type": "code",
   "execution_count": null,
   "metadata": {},
   "outputs": [],
   "source": [
    "blossom_data.shape"
   ]
  },
  {
   "cell_type": "markdown",
   "metadata": {},
   "source": [
    "If we visualize the data, it is clear that there a lot of annual variation, but some evidence for a non-linear trend in bloom days over time."
   ]
  },
  {
   "cell_type": "code",
   "execution_count": null,
   "metadata": {},
   "outputs": [],
   "source": [
    "blossom_data.plot.scatter(\n",
    "    \"year\", \"doy\", color=\"cornflowerblue\", s=10, title=\"Cherry Blossom Data\", ylabel=\"Days in bloom\"\n",
    ");"
   ]
  },
  {
   "cell_type": "markdown",
   "metadata": {
    "tags": []
   },
   "source": [
    "## The model\n",
    "\n",
    "We will fit the following model.\n",
    "\n",
    "$D \\sim \\mathcal{N}(\\mu, \\sigma)$  \n",
    "$\\quad \\mu = a + Bw$  \n",
    "$\\qquad a \\sim \\mathcal{N}(100, 10)$  \n",
    "$\\qquad w \\sim \\mathcal{N}(0, 10)$  \n",
    "$\\quad \\sigma \\sim \\text{Exp}(1)$\n",
    "\n",
    "The number of days of bloom $D$ will be modeled as a normal distribution with mean $\\mu$ and standard deviation $\\sigma$. In turn, the mean will be a linear model composed of a y-intercept $a$ and spline defined by the basis $B$ multiplied by the model parameter $w$ with a variable for each region of the basis. Both have relatively weak normal priors.\n",
    "\n",
    "### Prepare the spline\n",
    "\n",
    "The spline will have 15 *knots*, splitting the year into 16 sections (including the regions covering the years before and after those in which we have data). The knots are the boundaries of the spline, the name owing to how the individual lines will be tied together at these boundaries to make a continuous and smooth curve.  The knots will be unevenly spaced over the years such that each region will have the same proportion of data."
   ]
  },
  {
   "cell_type": "code",
   "execution_count": null,
   "metadata": {},
   "outputs": [],
   "source": [
    "num_knots = 15\n",
    "knot_list = np.quantile(blossom_data.year, np.linspace(0, 1, num_knots))\n",
    "knot_list"
   ]
  },
  {
   "cell_type": "markdown",
   "metadata": {},
   "source": [
    "Below is a plot of the locations of the knots over the data."
   ]
  },
  {
   "cell_type": "code",
   "execution_count": null,
   "metadata": {},
   "outputs": [],
   "source": [
    "blossom_data.plot.scatter(\n",
    "    \"year\", \"doy\", color=\"cornflowerblue\", s=10, title=\"Cherry Blossom Data\", ylabel=\"Day of Year\"\n",
    ")\n",
    "for knot in knot_list:\n",
    "    plt.gca().axvline(knot, color=\"grey\", alpha=0.4);"
   ]
  },
  {
   "cell_type": "markdown",
   "metadata": {},
   "source": [
    "We can use `patsy` to create the matrix $B$ that will be the b-spline basis for the regression.\n",
    "The degree is set to 3 to create a cubic b-spline."
   ]
  },
  {
   "cell_type": "code",
   "execution_count": null,
   "metadata": {
    "tags": [
     "hide-output"
    ]
   },
   "outputs": [],
   "source": [
    "B = dmatrix(\n",
    "    \"bs(year, knots=knots, degree=3, include_intercept=True) - 1\",\n",
    "    {\"year\": blossom_data.year.values, \"knots\": knot_list[1:-1]},\n",
    ")\n",
    "B"
   ]
  },
  {
   "cell_type": "markdown",
   "metadata": {},
   "source": [
    "The b-spline basis is plotted below, showing the *domain* of each piece of the spline. The height of each curve indicates how influential the corresponding model covariate (one per spline region) will be on model's inference of that region. The overlapping regions represent the knots, showing how the smooth transition from one region to the next is formed."
   ]
  },
  {
   "cell_type": "code",
   "execution_count": null,
   "metadata": {},
   "outputs": [],
   "source": [
    "spline_df = (\n",
    "    pd.DataFrame(B)\n",
    "    .assign(year=blossom_data.year.values)\n",
    "    .melt(\"year\", var_name=\"spline_i\", value_name=\"value\")\n",
    ")\n",
    "\n",
    "color = plt.cm.magma(np.linspace(0, 0.80, len(spline_df.spline_i.unique())))\n",
    "\n",
    "fig = plt.figure()\n",
    "for i, c in enumerate(color):\n",
    "    subset = spline_df.query(f\"spline_i == {i}\")\n",
    "    subset.plot(\"year\", \"value\", c=c, ax=plt.gca(), label=i)\n",
    "plt.legend(title=\"Spline Index\", loc=\"upper center\", fontsize=8, ncol=6);"
   ]
  },
  {
   "cell_type": "markdown",
   "metadata": {},
   "source": [
    "### Fit the model\n",
    "\n",
    "Finally, the model can be built using PyMC. A graphical diagram shows the organization of the model parameters (note that this requires the installation of {ref}`python-graphviz`, which I recommend doing in a `conda` virtual environment)."
   ]
  },
  {
   "cell_type": "code",
   "execution_count": null,
   "metadata": {},
   "outputs": [],
   "source": [
    "COORDS = {\"splines\": np.arange(B.shape[1])}\n",
    "with pm.Model(coords=COORDS) as spline_model:\n",
    "    a = pm.Normal(\"a\", 100, 5)\n",
    "    w = pm.Normal(\"w\", mu=0, sigma=3, size=B.shape[1], dims=\"splines\")\n",
    "    mu = pm.Deterministic(\"mu\", a + pm.math.dot(np.asarray(B, order=\"F\"), w.T))\n",
    "    sigma = pm.Exponential(\"sigma\", 1)\n",
    "    D = pm.Normal(\"D\", mu=mu, sigma=sigma, observed=blossom_data.doy, dims=\"obs\")"
   ]
  },
  {
   "cell_type": "code",
   "execution_count": null,
   "metadata": {},
   "outputs": [],
   "source": [
    "pm.model_to_graphviz(spline_model)"
   ]
  },
  {
   "cell_type": "code",
   "execution_count": null,
   "metadata": {},
   "outputs": [],
   "source": [
    "with spline_model:\n",
    "    idata = pm.sample_prior_predictive()\n",
    "    idata.extend(pm.sample(draws=1000, tune=1000, random_seed=RANDOM_SEED, chains=4))\n",
    "    pm.sample_posterior_predictive(idata, extend_inferencedata=True)"
   ]
  },
  {
   "cell_type": "markdown",
   "metadata": {},
   "source": [
    "## Analysis\n",
    "\n",
    "Now we can analyze the draws from the posterior of the model.\n",
    "\n",
    "### Parameter Estimates\n",
    "\n",
    "Below is a table summarizing the posterior distributions of the model parameters.\n",
    "The posteriors of $a$ and $\\sigma$ are quite narrow while those for $w$ are wider.\n",
    "This is likely because all of the data points are used to estimate $a$ and $\\sigma$ whereas only a subset are used for each value of $w$.\n",
    "(It could be interesting to model these hierarchically allowing for the sharing of information and adding regularization across the spline.) \n",
    "The effective sample size and $\\widehat{R}$ values all look good, indicating that the model has converged and sampled well from the posterior distribution."
   ]
  },
  {
   "cell_type": "code",
   "execution_count": null,
   "metadata": {},
   "outputs": [],
   "source": [
    "az.summary(idata, var_names=[\"a\", \"w\", \"sigma\"])"
   ]
  },
  {
   "cell_type": "markdown",
   "metadata": {},
   "source": [
    "The trace plots of the model parameters look good (homogeneous and no sign of trend), further indicating that the chains converged and mixed."
   ]
  },
  {
   "cell_type": "code",
   "execution_count": null,
   "metadata": {},
   "outputs": [],
   "source": [
    "az.plot_trace(idata, var_names=[\"a\", \"w\", \"sigma\"]);"
   ]
  },
  {
   "cell_type": "code",
   "execution_count": null,
   "metadata": {},
   "outputs": [],
   "source": [
    "az.plot_forest(idata, var_names=[\"w\"], combined=False, r_hat=True);"
   ]
  },
  {
   "cell_type": "markdown",
   "metadata": {},
   "source": [
    "Another visualization of the fit spline values is to plot them multiplied against the basis matrix.\n",
    "The knot boundaries are shown as vertical lines again, but now the spline basis is multiplied against the values of $w$ (represented as the rainbow-colored curves). The dot product of $B$ and $w$ – the actual computation in the linear model – is shown in black."
   ]
  },
  {
   "cell_type": "code",
   "execution_count": null,
   "metadata": {},
   "outputs": [],
   "source": [
    "wp = idata.posterior[\"w\"].mean((\"chain\", \"draw\")).values\n",
    "\n",
    "spline_df = (\n",
    "    pd.DataFrame(B * wp.T)\n",
    "    .assign(year=blossom_data.year.values)\n",
    "    .melt(\"year\", var_name=\"spline_i\", value_name=\"value\")\n",
    ")\n",
    "\n",
    "spline_df_merged = (\n",
    "    pd.DataFrame(np.dot(B, wp.T))\n",
    "    .assign(year=blossom_data.year.values)\n",
    "    .melt(\"year\", var_name=\"spline_i\", value_name=\"value\")\n",
    ")\n",
    "\n",
    "\n",
    "color = plt.cm.rainbow(np.linspace(0, 1, len(spline_df.spline_i.unique())))\n",
    "fig = plt.figure()\n",
    "for i, c in enumerate(color):\n",
    "    subset = spline_df.query(f\"spline_i == {i}\")\n",
    "    subset.plot(\"year\", \"value\", c=c, ax=plt.gca(), label=i)\n",
    "spline_df_merged.plot(\"year\", \"value\", c=\"black\", lw=2, ax=plt.gca())\n",
    "plt.legend(title=\"Spline Index\", loc=\"lower center\", fontsize=8, ncol=6)\n",
    "\n",
    "for knot in knot_list:\n",
    "    plt.gca().axvline(knot, color=\"grey\", alpha=0.4);"
   ]
  },
  {
   "cell_type": "markdown",
   "metadata": {},
   "source": [
    "### Model predictions\n",
    "\n",
    "Lastly, we can visualize the predictions of the model using the posterior predictive check."
   ]
  },
  {
   "cell_type": "code",
   "execution_count": null,
   "metadata": {},
   "outputs": [],
   "source": [
    "post_pred = az.summary(idata, var_names=[\"mu\"]).reset_index(drop=True)\n",
    "blossom_data_post = blossom_data.copy().reset_index(drop=True)\n",
    "blossom_data_post[\"pred_mean\"] = post_pred[\"mean\"]\n",
    "blossom_data_post[\"pred_hdi_lower\"] = post_pred[\"hdi_3%\"]\n",
    "blossom_data_post[\"pred_hdi_upper\"] = post_pred[\"hdi_97%\"]"
   ]
  },
  {
   "cell_type": "code",
   "execution_count": null,
   "metadata": {},
   "outputs": [],
   "source": [
    "blossom_data.plot.scatter(\n",
    "    \"year\",\n",
    "    \"doy\",\n",
    "    color=\"cornflowerblue\",\n",
    "    s=10,\n",
    "    title=\"Cherry blossom data with posterior predictions\",\n",
    "    ylabel=\"Days in bloom\",\n",
    ")\n",
    "for knot in knot_list:\n",
    "    plt.gca().axvline(knot, color=\"grey\", alpha=0.4)\n",
    "\n",
    "blossom_data_post.plot(\"year\", \"pred_mean\", ax=plt.gca(), lw=3, color=\"firebrick\")\n",
    "plt.fill_between(\n",
    "    blossom_data_post.year,\n",
    "    blossom_data_post.pred_hdi_lower,\n",
    "    blossom_data_post.pred_hdi_upper,\n",
    "    color=\"firebrick\",\n",
    "    alpha=0.4,\n",
    ");"
   ]
  },
  {
   "cell_type": "markdown",
   "metadata": {},
   "source": [
    "## References\n",
    "\n",
    ":::{bibliography}\n",
    ":filter: docname in docnames\n",
    ":::"
   ]
  },
  {
   "cell_type": "markdown",
   "metadata": {},
   "source": [
    "## Authors\n",
    "\n",
    "- Created by Joshua Cook\n",
    "- Updated by Tyler James Burch\n",
    "- Updated by Chris Fonnesbeck"
   ]
  },
  {
   "cell_type": "markdown",
   "metadata": {},
   "source": [
    "## Watermark"
   ]
  },
  {
   "cell_type": "code",
   "execution_count": null,
   "metadata": {},
   "outputs": [],
   "source": [
    "%load_ext watermark\n",
    "%watermark -n -u -v -iv -w -p pytensor,xarray,patsy"
   ]
  },
  {
   "cell_type": "markdown",
   "metadata": {},
   "source": [
    ":::{include} ../page_footer.md\n",
    ":::"
   ]
  }
 ],
 "metadata": {
  "interpreter": {
   "hash": "87bd0c5c372351de506bff22b267ffb5c759e6b8276deaa6e4203adc4dc0d335"
  },
  "kernelspec": {
   "display_name": "Python 3 (ipykernel)",
   "language": "python",
   "name": "python3"
  },
  "language_info": {
   "codemirror_mode": {
    "name": "ipython",
    "version": 3
   },
   "file_extension": ".py",
   "mimetype": "text/x-python",
   "name": "python",
   "nbconvert_exporter": "python",
   "pygments_lexer": "ipython3",
   "version": "3.11.6"
  }
 },
 "nbformat": 4,
 "nbformat_minor": 4
}
