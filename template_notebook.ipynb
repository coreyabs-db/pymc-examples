{
 "cells": [
  {
   "attachments": {},
   "cell_type": "markdown",
   "id": "domestic-remove",
   "metadata": {},
   "source": [
    "(template_notebook)=\n",
    "# This is a template notebook\n",
    "\n",
    ":::{post} January, 2023\n",
    ":tags: binomial regression, generalized linear model, \n",
    ":category: beginner, reference\n",
    ":author: Jane Doe\n",
    ":::"
   ]
  },
  {
   "attachments": {},
   "cell_type": "markdown",
   "id": "72588976-efc3-4adc-bec2-bc5b6ac4b7e1",
   "metadata": {},
   "source": [
    "This is some introductory text. Consult the [style guide](https://docs.pymc.io/en/latest/contributing/jupyter_style.html)."
   ]
  },
  {
   "cell_type": "code",
   "execution_count": null,
   "id": "elect-softball",
   "metadata": {
    "tags": []
   },
   "outputs": [],
   "source": [
    "import arviz as az\n",
    "import matplotlib.pyplot as plt\n",
    "import numpy as np\n",
    "import pandas as pd\n",
    "import pymc as pm"
   ]
  },
  {
   "cell_type": "code",
   "execution_count": null,
   "id": "level-balance",
   "metadata": {
    "tags": []
   },
   "outputs": [],
   "source": [
    "%config InlineBackend.figure_format = 'retina'  # high resolution figures\n",
    "az.style.use(\"arviz-darkgrid\")\n",
    "rng = np.random.default_rng(42)"
   ]
  },
  {
   "attachments": {},
   "cell_type": "markdown",
   "id": "sapphire-yellow",
   "metadata": {},
   "source": [
    "## My lovely content here"
   ]
  },
  {
   "cell_type": "code",
   "execution_count": null,
   "id": "21e66b38",
   "metadata": {},
   "outputs": [],
   "source": [
    "print(\"Your code here\")"
   ]
  },
  {
   "attachments": {},
   "cell_type": "markdown",
   "id": "b743d58b-2678-4e17-9947-a8fe4ed03e21",
   "metadata": {},
   "source": [
    "## Authors\n",
    "- Authored by [Benjamin T. Vincent](https://github.com/drbenvincent) in January 2023 "
   ]
  },
  {
   "cell_type": "markdown",
   "id": "closed-frank",
   "metadata": {},
   "source": [
    "## References\n",
    ":::{bibliography}\n",
    ":filter: docname in docnames\n",
    ":::"
   ]
  },
  {
   "cell_type": "markdown",
   "id": "0717070c-04aa-4836-ab95-6b3eff0dcaaf",
   "metadata": {},
   "source": [
    "## Watermark"
   ]
  },
  {
   "cell_type": "code",
   "execution_count": null,
   "id": "sound-calculation",
   "metadata": {
    "tags": []
   },
   "outputs": [],
   "source": [
    "%load_ext watermark\n",
    "%watermark -n -u -v -iv -w -p pytensor"
   ]
  },
  {
   "cell_type": "markdown",
   "id": "1e4386fc-4de9-4535-a160-d929315633ef",
   "metadata": {},
   "source": [
    ":::{include} ../page_footer.md\n",
    ":::"
   ]
  }
 ],
 "metadata": {
  "kernelspec": {
   "display_name": "pymc_env",
   "language": "python",
   "name": "python3"
  },
  "language_info": {
   "codemirror_mode": {
    "name": "ipython",
    "version": 3
   },
   "file_extension": ".py",
   "mimetype": "text/x-python",
   "name": "python",
   "nbconvert_exporter": "python",
   "pygments_lexer": "ipython3",
   "version": "3.11.0"
  },
  "vscode": {
   "interpreter": {
    "hash": "d5f0cba85daacbebbd957da1105312a62c58952ca942f7218a10e4aa5f415a19"
   }
  }
 },
 "nbformat": 4,
 "nbformat_minor": 5
}
